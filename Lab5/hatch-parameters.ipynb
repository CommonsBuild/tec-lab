{
 "cells": [
  {
   "cell_type": "code",
   "execution_count": 14,
   "metadata": {},
   "outputs": [],
   "source": [
    "import panel as pn\n",
    "pn.extension()\n",
    "import pandas as pd\n",
    "import numpy as np\n",
    "import hvplot.pandas\n",
    "import param, random\n",
    "\n",
    "# Helpers\n",
    "HOURS = 60 * 60\n",
    "DAYS = 24 * HOURS\n",
    "WEEKS = 7 * DAYS\n",
    "ONE_HUNDRED_PERCENT = 1e18\n",
    "ONE_TOKEN = 1e18\n",
    "FUNDRAISING_ONE_HUNDRED_PERCENT = 1e6\n",
    "FUNDRAISING_ONE_TOKEN = 1e18\n",
    "HOLDERS_PER_TRANSACTION = 10\n",
    "PPM = 1000000\n",
    "BLOCKTIME = 5"
   ]
  },
  {
   "cell_type": "code",
   "execution_count": 27,
   "metadata": {},
   "outputs": [],
   "source": [
    "# This is the amount of wxDAI that can be staked to create TEC hatch tokens - TEC hatch upgrades into a commons\n",
    "HATCH_ORACLE_RATIO = 0.005 "
   ]
  },
  {
   "cell_type": "code",
   "execution_count": 19,
   "metadata": {},
   "outputs": [],
   "source": [
    "# Dandelion Parameters\n",
    "SUPPORT_REQUIRED = 0.6\n",
    "MIN_ACCEPTANCE_QUORUM = 0.02\n",
    "VOTE_DURATION_BLOCKS = 3 * DAYS / BLOCKTIME\n",
    "VOTE_BUFFER_BLOCKS = 8 * HOURS / BLOCKTIME\n",
    "VOTE_EXECUTION_DELAY_BLOCKS = 24 * HOURS / BLOCKTIME\n",
    "VOTING_SETTINGS = [SUPPORT_REQUIRED, MIN_ACCEPTANCE_QUORUM, VOTE_DURATION_BLOCKS, VOTE_BUFFER_BLOCKS, VOTE_EXECUTION_DELAY_BLOCKS]\n",
    "\n",
    "# Set the fee paid to the org to create an administrative vote\n",
    "TOLLGATE_FEE = 3 * ONE_TOKEN"
   ]
  },
  {
   "cell_type": "code",
   "execution_count": 20,
   "metadata": {},
   "outputs": [],
   "source": [
    "# How many tokens required to initialize the bonding curve\n",
    "HATCH_MIN_GOAL = 100\n",
    "HATCH_MAX_GOAL = 100*1e6"
   ]
  },
  {
   "cell_type": "code",
   "execution_count": 21,
   "metadata": {},
   "outputs": [],
   "source": [
    "# How long should the presale period last for\n",
    "PRESALE_PERIOD = 7 * DAYS\n",
    "\n",
    "# How many organization tokens per collateral token should be minted\n",
    "PRESALE_EXCHANGE_RATE = 0.00000001 * FUNDRAISING_ONE_TOKEN\n",
    "\n",
    "# When is the cliff for vesting restrictions\n",
    "VESTING_CLIFF_PERIOD = PRESALE_PERIOD + 3 * DAYS # 3 days after presale\n",
    "\n",
    "# When will pre-sale contributors be fully vested\n",
    "VESTING_COMPLETE_PERIOD = VESTING_CLIFF_PERIOD + 3 * WEEKS # 3 weeks after cliff\n",
    "PRESALE_PERCENT_SUPPLY_OFFERED = FUNDRAISING_ONE_HUNDRED_PERCENT\n",
    "\n",
    "# What percentage of pre-sale contributions should go to the common pool (versus the reserve)\n",
    "PRESALE_PERCENT_FUNDING_FOR_BENEFICIARY = 0.35 * FUNDRAISING_ONE_HUNDRED_PERCENT\n",
    "\n",
    "# when should the pre-sale be open, setting 0 will allow anyone to open the pre-sale anytime after deployment\n",
    "OPEN_DATE = 0"
   ]
  },
  {
   "cell_type": "markdown",
   "metadata": {},
   "source": [
    "### Min Goal Max Goal"
   ]
  },
  {
   "cell_type": "code",
   "execution_count": null,
   "metadata": {},
   "outputs": [],
   "source": []
  },
  {
   "cell_type": "code",
   "execution_count": 22,
   "metadata": {},
   "outputs": [
    {
     "data": {},
     "metadata": {},
     "output_type": "display_data"
    },
    {
     "data": {},
     "metadata": {},
     "output_type": "display_data"
    },
    {
     "data": {
      "application/vnd.holoviews_exec.v0+json": "",
      "text/html": [
       "<div id='1140'>\n",
       "\n",
       "\n",
       "\n",
       "\n",
       "\n",
       "  <div class=\"bk-root\" id=\"c89b61de-7392-49b7-95d6-3d71cdd2ef8d\" data-root-id=\"1140\"></div>\n",
       "</div>\n",
       "<script type=\"application/javascript\">(function(root) {\n",
       "  function embed_document(root) {\n",
       "    var docs_json = {\"c4ff8a93-6560-4716-a39f-997a572c995d\":{\"roots\":{\"references\":[{\"attributes\":{\"below\":[{\"id\":\"1156\"}],\"center\":[{\"id\":\"1159\"},{\"id\":\"1163\"}],\"left\":[{\"id\":\"1160\"}],\"margin\":[5,5,5,5],\"min_border_bottom\":10,\"min_border_left\":10,\"min_border_right\":10,\"min_border_top\":10,\"plot_height\":300,\"plot_width\":700,\"renderers\":[{\"id\":\"1183\"}],\"sizing_mode\":\"fixed\",\"title\":{\"id\":\"1148\"},\"toolbar\":{\"id\":\"1170\"},\"x_range\":{\"id\":\"1144\"},\"x_scale\":{\"id\":\"1152\"},\"y_range\":{\"id\":\"1145\"},\"y_scale\":{\"id\":\"1154\"}},\"id\":\"1147\",\"subtype\":\"Figure\",\"type\":\"Plot\"},{\"attributes\":{\"end\":50000,\"format\":\"0[.]00\",\"margin\":[5,10,5,10],\"start\":1000,\"step\":10000,\"title\":\"Min Goal\",\"value\":1000,\"value_throttled\":1000},\"id\":\"1141\",\"type\":\"Slider\"},{\"attributes\":{\"line_alpha\":0.2,\"line_color\":\"#1f77b3\",\"line_width\":2,\"x\":{\"field\":\"index\"},\"y\":{\"field\":\"0\"}},\"id\":\"1182\",\"type\":\"Line\"},{\"attributes\":{},\"id\":\"1178\",\"type\":\"Selection\"},{\"attributes\":{\"end\":100000000.0,\"format\":\"0[.]00\",\"margin\":[5,10,5,10],\"start\":1000,\"step\":10000,\"title\":\"Max Goal\",\"value\":1000,\"value_throttled\":1000},\"id\":\"1142\",\"type\":\"Slider\"},{\"attributes\":{},\"id\":\"1166\",\"type\":\"WheelZoomTool\"},{\"attributes\":{\"data\":{\"0\":{\"__ndarray__\":\"AAAAAABAj0AAAAAAAECPQAAAAAAAQI9AAAAAAABAj0AAAAAAAECPQAAAAAAAQI9AAAAAAABAj0AAAAAAAECPQAAAAAAAQI9AAAAAAABAj0AAAAAAAECPQAAAAAAAQI9AAAAAAABAj0AAAAAAAECPQAAAAAAAQI9AAAAAAABAj0AAAAAAAECPQAAAAAAAQI9AAAAAAABAj0AAAAAAAECPQAAAAAAAQI9AAAAAAABAj0AAAAAAAECPQAAAAAAAQI9AAAAAAABAj0AAAAAAAECPQAAAAAAAQI9AAAAAAABAj0AAAAAAAECPQAAAAAAAQI9AAAAAAABAj0AAAAAAAECPQAAAAAAAQI9AAAAAAABAj0AAAAAAAECPQAAAAAAAQI9AAAAAAABAj0AAAAAAAECPQAAAAAAAQI9AAAAAAABAj0AAAAAAAECPQAAAAAAAQI9AAAAAAABAj0AAAAAAAECPQAAAAAAAQI9AAAAAAABAj0AAAAAAAECPQAAAAAAAQI9AAAAAAABAj0AAAAAAAECPQA==\",\"dtype\":\"float64\",\"order\":\"little\",\"shape\":[50]},\"A_0\":{\"__ndarray__\":\"AAAAAABAj0AAAAAAAECPQAAAAAAAQI9AAAAAAABAj0AAAAAAAECPQAAAAAAAQI9AAAAAAABAj0AAAAAAAECPQAAAAAAAQI9AAAAAAABAj0AAAAAAAECPQAAAAAAAQI9AAAAAAABAj0AAAAAAAECPQAAAAAAAQI9AAAAAAABAj0AAAAAAAECPQAAAAAAAQI9AAAAAAABAj0AAAAAAAECPQAAAAAAAQI9AAAAAAABAj0AAAAAAAECPQAAAAAAAQI9AAAAAAABAj0AAAAAAAECPQAAAAAAAQI9AAAAAAABAj0AAAAAAAECPQAAAAAAAQI9AAAAAAABAj0AAAAAAAECPQAAAAAAAQI9AAAAAAABAj0AAAAAAAECPQAAAAAAAQI9AAAAAAABAj0AAAAAAAECPQAAAAAAAQI9AAAAAAABAj0AAAAAAAECPQAAAAAAAQI9AAAAAAABAj0AAAAAAAECPQAAAAAAAQI9AAAAAAABAj0AAAAAAAECPQAAAAAAAQI9AAAAAAABAj0AAAAAAAECPQA==\",\"dtype\":\"float64\",\"order\":\"little\",\"shape\":[50]},\"index\":[0,1,2,3,4,5,6,7,8,9,10,11,12,13,14,15,16,17,18,19,20,21,22,23,24,25,26,27,28,29,30,31,32,33,34,35,36,37,38,39,40,41,42,43,44,45,46,47,48,49]},\"selected\":{\"id\":\"1178\"},\"selection_policy\":{\"id\":\"1196\"}},\"id\":\"1177\",\"type\":\"ColumnDataSource\"},{\"attributes\":{},\"id\":\"1165\",\"type\":\"PanTool\"},{\"attributes\":{\"active_drag\":\"auto\",\"active_inspect\":\"auto\",\"active_multi\":null,\"active_scroll\":\"auto\",\"active_tap\":\"auto\",\"tools\":[{\"id\":\"1146\"},{\"id\":\"1164\"},{\"id\":\"1165\"},{\"id\":\"1166\"},{\"id\":\"1167\"},{\"id\":\"1168\"}]},\"id\":\"1170\",\"type\":\"Toolbar\"},{\"attributes\":{},\"id\":\"1164\",\"type\":\"SaveTool\"},{\"attributes\":{\"axis_label\":\"\",\"bounds\":\"auto\",\"formatter\":{\"id\":\"1185\"},\"major_label_orientation\":\"horizontal\",\"ticker\":{\"id\":\"1157\"}},\"id\":\"1156\",\"type\":\"LinearAxis\"},{\"attributes\":{\"overlay\":{\"id\":\"1169\"}},\"id\":\"1167\",\"type\":\"BoxZoomTool\"},{\"attributes\":{},\"id\":\"1161\",\"type\":\"BasicTicker\"},{\"attributes\":{},\"id\":\"1168\",\"type\":\"ResetTool\"},{\"attributes\":{\"axis_label\":\"0\",\"bounds\":\"auto\",\"formatter\":{\"id\":\"1187\"},\"major_label_orientation\":\"horizontal\",\"ticker\":{\"id\":\"1161\"}},\"id\":\"1160\",\"type\":\"LinearAxis\"},{\"attributes\":{\"axis\":{\"id\":\"1156\"},\"grid_line_color\":null,\"ticker\":null},\"id\":\"1159\",\"type\":\"Grid\"},{\"attributes\":{\"data_source\":{\"id\":\"1177\"},\"glyph\":{\"id\":\"1180\"},\"hover_glyph\":null,\"muted_glyph\":{\"id\":\"1182\"},\"nonselection_glyph\":{\"id\":\"1181\"},\"selection_glyph\":null,\"view\":{\"id\":\"1184\"}},\"id\":\"1183\",\"type\":\"GlyphRenderer\"},{\"attributes\":{},\"id\":\"1154\",\"type\":\"LinearScale\"},{\"attributes\":{\"line_color\":\"#1f77b3\",\"line_width\":2,\"x\":{\"field\":\"index\"},\"y\":{\"field\":\"0\"}},\"id\":\"1180\",\"type\":\"Line\"},{\"attributes\":{\"line_alpha\":0.1,\"line_color\":\"#1f77b3\",\"line_width\":2,\"x\":{\"field\":\"index\"},\"y\":{\"field\":\"0\"}},\"id\":\"1181\",\"type\":\"Line\"},{\"attributes\":{\"reload\":false},\"id\":\"1254\",\"type\":\"panel.models.location.Location\"},{\"attributes\":{\"source\":{\"id\":\"1177\"}},\"id\":\"1184\",\"type\":\"CDSView\"},{\"attributes\":{\"client_comm_id\":\"36987b364207489b80227c50de71e395\",\"comm_id\":\"425d3e34be7e4657a4f0ada319bb2dfa\",\"plot_id\":\"1140\"},\"id\":\"1229\",\"type\":\"panel.models.comm_manager.CommManager\"},{\"attributes\":{},\"id\":\"1196\",\"type\":\"UnionRenderers\"},{\"attributes\":{\"children\":[{\"id\":\"1141\"},{\"id\":\"1142\"},{\"id\":\"1143\"}],\"margin\":[0,0,0,0],\"name\":\"Column01721\"},\"id\":\"1140\",\"type\":\"Column\"},{\"attributes\":{},\"id\":\"1185\",\"type\":\"BasicTickFormatter\"},{\"attributes\":{\"text\":\"\",\"text_color\":{\"value\":\"black\"},\"text_font_size\":{\"value\":\"12pt\"}},\"id\":\"1148\",\"type\":\"Title\"},{\"attributes\":{\"bottom_units\":\"screen\",\"fill_alpha\":0.5,\"fill_color\":\"lightgrey\",\"left_units\":\"screen\",\"level\":\"overlay\",\"line_alpha\":1.0,\"line_color\":\"black\",\"line_dash\":[4,4],\"line_width\":2,\"right_units\":\"screen\",\"top_units\":\"screen\"},\"id\":\"1169\",\"type\":\"BoxAnnotation\"},{\"attributes\":{},\"id\":\"1187\",\"type\":\"BasicTickFormatter\"},{\"attributes\":{\"callback\":null,\"renderers\":[{\"id\":\"1183\"}],\"tags\":[\"hv_created\"],\"tooltips\":[[\"index\",\"@{index}\"],[\"0\",\"@{A_0}\"]]},\"id\":\"1146\",\"type\":\"HoverTool\"},{\"attributes\":{},\"id\":\"1152\",\"type\":\"LinearScale\"},{\"attributes\":{\"end\":49.0,\"reset_end\":49.0,\"reset_start\":0.0,\"tags\":[[[\"index\",\"index\",null]]]},\"id\":\"1144\",\"type\":\"Range1d\"},{\"attributes\":{\"children\":[{\"id\":\"1147\"}],\"margin\":[0,0,0,0],\"name\":\"Row01643\"},\"id\":\"1143\",\"type\":\"Row\"},{\"attributes\":{\"axis\":{\"id\":\"1160\"},\"dimension\":1,\"grid_line_color\":null,\"ticker\":null},\"id\":\"1163\",\"type\":\"Grid\"},{\"attributes\":{\"end\":1001.2,\"reset_end\":1001.2,\"reset_start\":998.8,\"start\":998.8,\"tags\":[[[\"0\",\"0\",null]]]},\"id\":\"1145\",\"type\":\"Range1d\"},{\"attributes\":{},\"id\":\"1157\",\"type\":\"BasicTicker\"}],\"root_ids\":[\"1140\",\"1229\",\"1254\"]},\"title\":\"Bokeh Application\",\"version\":\"2.2.3\"}};\n",
       "    var render_items = [{\"docid\":\"c4ff8a93-6560-4716-a39f-997a572c995d\",\"root_ids\":[\"1140\"],\"roots\":{\"1140\":\"c89b61de-7392-49b7-95d6-3d71cdd2ef8d\"}}];\n",
       "    root.Bokeh.embed.embed_items_notebook(docs_json, render_items);\n",
       "  }\n",
       "  if (root.Bokeh !== undefined && root.Bokeh.Panel !== undefined) {\n",
       "    embed_document(root);\n",
       "  } else {\n",
       "    var attempts = 0;\n",
       "    var timer = setInterval(function(root) {\n",
       "      if (root.Bokeh !== undefined && root.Bokeh.Panel !== undefined) {\n",
       "        clearInterval(timer);\n",
       "        embed_document(root);\n",
       "      } else if (document.readyState == \"complete\") {\n",
       "        attempts++;\n",
       "        if (attempts > 100) {\n",
       "          clearInterval(timer);\n",
       "          console.log(\"Bokeh: ERROR: Unable to run BokehJS code because BokehJS library is missing\");\n",
       "        }\n",
       "      }\n",
       "    }, 10, root)\n",
       "  }\n",
       "})(window);</script>"
      ],
      "text/plain": [
       "Column\n",
       "    [0] FloatSlider(end=50000, name='Min Goal', start=1000, step=10000, value=1000, value_throttled=1000)\n",
       "    [1] FloatSlider(end=100000000.0, name='Max Goal', start=1000, step=10000, value=1000, value_throttled=1000)\n",
       "    [2] ParamFunction(function)"
      ]
     },
     "execution_count": 22,
     "metadata": {
      "application/vnd.holoviews_exec.v0+json": {
       "id": "1140"
      }
     },
     "output_type": "execute_result"
    }
   ],
   "source": [
    "min_goal = pn.widgets.FloatSlider(name='Min Goal', start=1000, end=50000, step=10000, value=1000)\n",
    "max_goal = pn.widgets.FloatSlider(name='Max Goal', start=min_goal.value, end=1e8, step=10000, value=min_goal.value)\n",
    "\n",
    "\n",
    "@pn.depends(min_goal, max_goal)\n",
    "def dashboard(min_goal, max_goal):\n",
    "    df = pd.DataFrame(np.linspace(min_goal,max_goal))\n",
    "    return df.hvplot.line()\n",
    "\n",
    "pn.Column(min_goal, max_goal, dashboard)"
   ]
  },
  {
   "cell_type": "code",
   "execution_count": 28,
   "metadata": {},
   "outputs": [],
   "source": [
    "number_of_cstk_tokens = 700000"
   ]
  },
  {
   "cell_type": "code",
   "execution_count": 40,
   "metadata": {},
   "outputs": [],
   "source": [
    "cstk_ratio = pn.widgets.FloatSlider(name='CSTK Ratio', start=0.001, end=0.01, step=0.001, value=0.001)\n",
    "total_cstk_tokens = 700000 \n",
    "\n",
    "@pn.depends(cstk_ratio)\n",
    "def wxdai_range(cstk_ratio):\n",
    "    return pn.Row(pn.Pane(\"Cap on wxdai staked: \"), cstk_ratio * total_cstk_tokens)"
   ]
  },
  {
   "cell_type": "code",
   "execution_count": 43,
   "metadata": {},
   "outputs": [
    {
     "data": {},
     "metadata": {},
     "output_type": "display_data"
    },
    {
     "data": {
      "application/vnd.holoviews_exec.v0+json": "",
      "text/html": [
       "<div id='3723'>\n",
       "\n",
       "\n",
       "\n",
       "\n",
       "\n",
       "  <div class=\"bk-root\" id=\"df8bf755-31d7-4a76-b8fe-f2aba3fa47b0\" data-root-id=\"3723\"></div>\n",
       "</div>\n",
       "<script type=\"application/javascript\">(function(root) {\n",
       "  function embed_document(root) {\n",
       "    var docs_json = {\"d86a4300-963c-4cee-80d2-b95223e9020c\":{\"roots\":{\"references\":[{\"attributes\":{\"children\":[{\"id\":\"3726\"}],\"margin\":[0,0,0,0],\"name\":\"Row06281\"},\"id\":\"3725\",\"type\":\"Row\"},{\"attributes\":{\"children\":[{\"id\":\"3727\"},{\"id\":\"3728\"}],\"margin\":[0,0,0,0],\"name\":\"Row06286\"},\"id\":\"3726\",\"type\":\"Row\"},{\"attributes\":{\"css_classes\":[\"markdown\"],\"margin\":[5,5,5,5],\"name\":\"Markdown06282\",\"text\":\"&lt;p&gt;Cap on wxdai staked: &lt;/p&gt;\"},\"id\":\"3727\",\"type\":\"panel.models.markup.HTML\"},{\"attributes\":{\"client_comm_id\":\"3a4f256422e7448bb3939457c2c5b231\",\"comm_id\":\"0327d0ef95b1444585358489518ecfec\",\"plot_id\":\"3723\"},\"id\":\"3729\",\"type\":\"panel.models.comm_manager.CommManager\"},{\"attributes\":{\"children\":[{\"id\":\"3724\"},{\"id\":\"3725\"}],\"margin\":[0,0,0,0],\"name\":\"Column06288\"},\"id\":\"3723\",\"type\":\"Column\"},{\"attributes\":{\"margin\":[5,5,5,5],\"name\":\"Str06284\",\"text\":\"&lt;pre&gt;700.0&lt;/pre&gt;\"},\"id\":\"3728\",\"type\":\"panel.models.markup.HTML\"},{\"attributes\":{\"end\":0.01,\"format\":\"0[.]00\",\"margin\":[5,10,5,10],\"start\":0.001,\"step\":0.001,\"title\":\"CSTK Ratio\",\"value\":0.001,\"value_throttled\":0.001},\"id\":\"3724\",\"type\":\"Slider\"}],\"root_ids\":[\"3723\",\"3729\"]},\"title\":\"Bokeh Application\",\"version\":\"2.2.3\"}};\n",
       "    var render_items = [{\"docid\":\"d86a4300-963c-4cee-80d2-b95223e9020c\",\"root_ids\":[\"3723\"],\"roots\":{\"3723\":\"df8bf755-31d7-4a76-b8fe-f2aba3fa47b0\"}}];\n",
       "    root.Bokeh.embed.embed_items_notebook(docs_json, render_items);\n",
       "  }\n",
       "  if (root.Bokeh !== undefined && root.Bokeh.Panel !== undefined) {\n",
       "    embed_document(root);\n",
       "  } else {\n",
       "    var attempts = 0;\n",
       "    var timer = setInterval(function(root) {\n",
       "      if (root.Bokeh !== undefined && root.Bokeh.Panel !== undefined) {\n",
       "        clearInterval(timer);\n",
       "        embed_document(root);\n",
       "      } else if (document.readyState == \"complete\") {\n",
       "        attempts++;\n",
       "        if (attempts > 100) {\n",
       "          clearInterval(timer);\n",
       "          console.log(\"Bokeh: ERROR: Unable to run BokehJS code because BokehJS library is missing\");\n",
       "        }\n",
       "      }\n",
       "    }, 10, root)\n",
       "  }\n",
       "})(window);</script>"
      ],
      "text/plain": [
       "Column\n",
       "    [0] FloatSlider(end=0.01, name='CSTK Ratio', start=0.001, step=0.001, value=0.001, value_throttled=0.001)\n",
       "    [1] ParamFunction(function)"
      ]
     },
     "execution_count": 43,
     "metadata": {
      "application/vnd.holoviews_exec.v0+json": {
       "id": "3723"
      }
     },
     "output_type": "execute_result"
    }
   ],
   "source": [
    "pn.Column(cstk_ratio, wxdai_range)"
   ]
  }
 ],
 "metadata": {
  "kernelspec": {
   "display_name": "Python 3",
   "language": "python",
   "name": "python3"
  },
  "language_info": {
   "codemirror_mode": {
    "name": "ipython",
    "version": 3
   },
   "file_extension": ".py",
   "mimetype": "text/x-python",
   "name": "python",
   "nbconvert_exporter": "python",
   "pygments_lexer": "ipython3",
   "version": "3.8.6"
  }
 },
 "nbformat": 4,
 "nbformat_minor": 4
}
