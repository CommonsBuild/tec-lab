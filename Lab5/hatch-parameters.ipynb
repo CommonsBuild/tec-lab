{
 "cells": [
  {
   "cell_type": "code",
   "execution_count": 87,
   "metadata": {},
   "outputs": [],
   "source": [
    "import panel as pn\n",
    "pn.extension()\n",
    "import pandas as pd\n",
    "import numpy as np\n",
    "import hvplot.pandas\n",
    "import param, random\n",
    "import datetime as dt\n",
    "\n",
    "\n",
    "# Helpers\n",
    "HOURS = 60 * 60\n",
    "DAYS = 24 * HOURS\n",
    "WEEKS = 7 * DAYS\n",
    "ONE_HUNDRED_PERCENT = 1e18\n",
    "ONE_TOKEN = 1e18\n",
    "FUNDRAISING_ONE_HUNDRED_PERCENT = 1e6\n",
    "FUNDRAISING_ONE_TOKEN = 1e18\n",
    "HOLDERS_PER_TRANSACTION = 10\n",
    "PPM = 1000000\n",
    "BLOCKTIME = 5"
   ]
  },
  {
   "cell_type": "code",
   "execution_count": 88,
   "metadata": {},
   "outputs": [],
   "source": [
    "# This is the amount of wxDAI that can be staked to create TEC hatch tokens - TEC hatch upgrades into a commons\n",
    "HATCH_ORACLE_RATIO = 0.005 "
   ]
  },
  {
   "cell_type": "code",
   "execution_count": 89,
   "metadata": {},
   "outputs": [],
   "source": [
    "# Dandelion Parameters\n",
    "SUPPORT_REQUIRED = 0.6\n",
    "MIN_ACCEPTANCE_QUORUM = 0.02\n",
    "VOTE_DURATION_BLOCKS = 3 * DAYS / BLOCKTIME\n",
    "VOTE_BUFFER_BLOCKS = 8 * HOURS / BLOCKTIME\n",
    "VOTE_EXECUTION_DELAY_BLOCKS = 24 * HOURS / BLOCKTIME\n",
    "VOTING_SETTINGS = [SUPPORT_REQUIRED, MIN_ACCEPTANCE_QUORUM, VOTE_DURATION_BLOCKS, VOTE_BUFFER_BLOCKS, VOTE_EXECUTION_DELAY_BLOCKS]\n",
    "\n",
    "# Set the fee paid to the org to create an administrative vote\n",
    "TOLLGATE_FEE = 3 * ONE_TOKEN"
   ]
  },
  {
   "cell_type": "code",
   "execution_count": 90,
   "metadata": {},
   "outputs": [],
   "source": [
    "# How many tokens required to initialize the bonding curve\n",
    "HATCH_MIN_GOAL = 100\n",
    "HATCH_MAX_GOAL = 100*1e6"
   ]
  },
  {
   "cell_type": "code",
   "execution_count": 91,
   "metadata": {},
   "outputs": [],
   "source": [
    "# How long should the presale period last for\n",
    "PRESALE_PERIOD = 7 * DAYS\n",
    "\n",
    "# How many organization tokens per collateral token should be minted\n",
    "PRESALE_EXCHANGE_RATE = 0.00000001 * FUNDRAISING_ONE_TOKEN\n",
    "\n",
    "# When is the cliff for vesting restrictions\n",
    "VESTING_CLIFF_PERIOD = PRESALE_PERIOD + 3 * DAYS # 3 days after presale\n",
    "\n",
    "# When will pre-sale contributors be fully vested\n",
    "VESTING_COMPLETE_PERIOD = VESTING_CLIFF_PERIOD + 3 * WEEKS # 3 weeks after cliff\n",
    "PRESALE_PERCENT_SUPPLY_OFFERED = FUNDRAISING_ONE_HUNDRED_PERCENT\n",
    "\n",
    "# What percentage of pre-sale contributions should go to the common pool (versus the reserve)\n",
    "PRESALE_PERCENT_FUNDING_FOR_BENEFICIARY = 0.35 * FUNDRAISING_ONE_HUNDRED_PERCENT\n",
    "\n",
    "# when should the pre-sale be open, setting 0 will allow anyone to open the pre-sale anytime after deployment\n",
    "OPEN_DATE = 0"
   ]
  },
  {
   "cell_type": "code",
   "execution_count": 92,
   "metadata": {},
   "outputs": [],
   "source": [
    "class Hatch(param.Parameterized):\n",
    "    # CSTK Ratio\n",
    "    total_cstk_tokens = param.Number(700000, constant=True)\n",
    "    hatch_oracle_ratio = param.Number(0.005, constant=True)\n",
    "    @param.depends('hatch_oracle_ratio', 'total_cstk_tokens')\n",
    "    def wxdai_range(self):\n",
    "        return pn.Row(pn.Pane(\"Cap on wxdai staked: \"), self.hatch_oracle_ratio * self.total_cstk_tokens)\n",
    "    \n",
    "    # Dandelion Params\n",
    "    support_required = param.Integer(50000, bounds=(-200, 100000))\n",
    "    \n",
    "    # Min and Target Goals\n",
    "    min_goal = param.Number(1000, bounds=(1000,1e6), step=1000)\n",
    "    target_goal = param.Number(100000, bounds=(100000,1e8), step=10000)\n"
   ]
  },
  {
   "cell_type": "code",
   "execution_count": 93,
   "metadata": {},
   "outputs": [],
   "source": [
    "hatch = Hatch()"
   ]
  },
  {
   "cell_type": "code",
   "execution_count": 94,
   "metadata": {},
   "outputs": [
    {
     "data": {},
     "metadata": {},
     "output_type": "display_data"
    },
    {
     "data": {
      "application/vnd.holoviews_exec.v0+json": "",
      "text/html": [
       "<div id='11087'>\n",
       "\n",
       "\n",
       "\n",
       "\n",
       "\n",
       "  <div class=\"bk-root\" id=\"ccfbf395-1ebb-404f-8367-43f495cffd4b\" data-root-id=\"11087\"></div>\n",
       "</div>\n",
       "<script type=\"application/javascript\">(function(root) {\n",
       "  function embed_document(root) {\n",
       "    var docs_json = {\"001ea956-93d2-4028-b631-6c743a2c6885\":{\"roots\":{\"references\":[{\"attributes\":{\"disabled\":true,\"format\":null,\"margin\":[5,10,5,10],\"placeholder\":\"0\",\"step\":0.1,\"title\":\"Total cstk tokens\",\"value\":700000,\"value_throttled\":700000},\"id\":\"11090\",\"type\":\"Spinner\"},{\"attributes\":{\"children\":[{\"id\":\"11089\"},{\"id\":\"11090\"},{\"id\":\"11091\"},{\"id\":\"11092\"},{\"id\":\"11093\"},{\"id\":\"11094\"}],\"margin\":[5,5,5,5],\"min_width\":300,\"name\":\"Hatch\",\"width\":300},\"id\":\"11088\",\"type\":\"Column\"},{\"attributes\":{\"end\":1000000.0,\"format\":\"0[.]00\",\"margin\":[5,10,5,10],\"start\":1000,\"step\":1000,\"title\":\"Min goal\",\"value\":1000,\"value_throttled\":1000},\"id\":\"11093\",\"type\":\"Slider\"},{\"attributes\":{\"margin\":[5,10,5,10],\"name\":\"\",\"text\":\"<b>Hatch</b>\"},\"id\":\"11089\",\"type\":\"Div\"},{\"attributes\":{\"children\":[{\"id\":\"11096\"}],\"margin\":[0,0,0,0],\"name\":\"Row19704\"},\"id\":\"11095\",\"type\":\"Row\"},{\"attributes\":{\"end\":100000,\"format\":\"0[.]00\",\"margin\":[5,10,5,10],\"start\":-200,\"title\":\"Support required\",\"value\":50000,\"value_throttled\":50000},\"id\":\"11092\",\"type\":\"Slider\"},{\"attributes\":{\"margin\":[5,5,5,5],\"name\":\"Str19707\",\"text\":\"&lt;pre&gt;3500.0&lt;/pre&gt;\"},\"id\":\"11098\",\"type\":\"panel.models.markup.HTML\"},{\"attributes\":{\"end\":100000000.0,\"format\":\"0[.]00\",\"margin\":[5,10,5,10],\"start\":100000,\"step\":10000,\"title\":\"Target goal\",\"value\":100000,\"value_throttled\":100000},\"id\":\"11094\",\"type\":\"Slider\"},{\"attributes\":{\"children\":[{\"id\":\"11088\"},{\"id\":\"11095\"}],\"margin\":[0,0,0,0],\"name\":\"Row19711\"},\"id\":\"11087\",\"type\":\"Row\"},{\"attributes\":{\"client_comm_id\":\"f348ef5695c94bb1aa595b2ffe8f9269\",\"comm_id\":\"0b464bc333e747098f0f82bc86a1d719\",\"plot_id\":\"11087\"},\"id\":\"11099\",\"type\":\"panel.models.comm_manager.CommManager\"},{\"attributes\":{\"children\":[{\"id\":\"11097\"},{\"id\":\"11098\"}],\"margin\":[0,0,0,0],\"name\":\"Row19709\"},\"id\":\"11096\",\"type\":\"Row\"},{\"attributes\":{\"disabled\":true,\"format\":null,\"margin\":[5,10,5,10],\"placeholder\":\"0\",\"step\":0.1,\"title\":\"Hatch oracle ratio\",\"value\":0.005,\"value_throttled\":0.005},\"id\":\"11091\",\"type\":\"Spinner\"},{\"attributes\":{\"css_classes\":[\"markdown\"],\"margin\":[5,5,5,5],\"name\":\"Markdown19705\",\"text\":\"&lt;p&gt;Cap on wxdai staked: &lt;/p&gt;\"},\"id\":\"11097\",\"type\":\"panel.models.markup.HTML\"}],\"root_ids\":[\"11087\",\"11099\"]},\"title\":\"Bokeh Application\",\"version\":\"2.2.3\"}};\n",
       "    var render_items = [{\"docid\":\"001ea956-93d2-4028-b631-6c743a2c6885\",\"root_ids\":[\"11087\"],\"roots\":{\"11087\":\"ccfbf395-1ebb-404f-8367-43f495cffd4b\"}}];\n",
       "    root.Bokeh.embed.embed_items_notebook(docs_json, render_items);\n",
       "  }\n",
       "  if (root.Bokeh !== undefined && root.Bokeh.Panel !== undefined) {\n",
       "    embed_document(root);\n",
       "  } else {\n",
       "    var attempts = 0;\n",
       "    var timer = setInterval(function(root) {\n",
       "      if (root.Bokeh !== undefined && root.Bokeh.Panel !== undefined) {\n",
       "        clearInterval(timer);\n",
       "        embed_document(root);\n",
       "      } else if (document.readyState == \"complete\") {\n",
       "        attempts++;\n",
       "        if (attempts > 100) {\n",
       "          clearInterval(timer);\n",
       "          console.log(\"Bokeh: ERROR: Unable to run BokehJS code because BokehJS library is missing\");\n",
       "        }\n",
       "      }\n",
       "    }, 10, root)\n",
       "  }\n",
       "})(window);</script>"
      ],
      "text/plain": [
       "Row\n",
       "    [0] Column(margin=5, name='Hatch', width=300)\n",
       "        [0] StaticText(value='<b>Hatch</b>')\n",
       "        [1] FloatInput(disabled=True, name='Total cstk tokens', value=700000, value_throttled=700000)\n",
       "        [2] FloatInput(disabled=True, name='Hatch oracle ratio', value=0.005, value_throttled=0.005)\n",
       "        [3] IntSlider(end=100000, name='Support required', start=-200, value=50000, value_throttled=50000)\n",
       "        [4] FloatSlider(end=1000000.0, name='Min goal', start=1000, step=1000, value=1000, value_throttled=1000)\n",
       "        [5] FloatSlider(end=100000000.0, name='Target goal', start=100000, step=10000, value=100000, value_throttled=100000)\n",
       "    [1] ParamMethod(method)"
      ]
     },
     "execution_count": 94,
     "metadata": {
      "application/vnd.holoviews_exec.v0+json": {
       "id": "11087"
      }
     },
     "output_type": "execute_result"
    }
   ],
   "source": [
    "pn.Row(hatch, hatch.wxdai_range)"
   ]
  }
 ],
 "metadata": {
  "kernelspec": {
   "display_name": "Python 3",
   "language": "python",
   "name": "python3"
  },
  "language_info": {
   "codemirror_mode": {
    "name": "ipython",
    "version": 3
   },
   "file_extension": ".py",
   "mimetype": "text/x-python",
   "name": "python",
   "nbconvert_exporter": "python",
   "pygments_lexer": "ipython3",
   "version": "3.8.6"
  }
 },
 "nbformat": 4,
 "nbformat_minor": 4
}
