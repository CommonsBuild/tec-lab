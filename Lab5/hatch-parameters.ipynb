{
 "cells": [
  {
   "cell_type": "code",
   "execution_count": 52,
   "metadata": {},
   "outputs": [],
   "source": [
    "import panel as pn\n",
    "pn.extension()\n",
    "import pandas as pd\n",
    "import numpy as np\n",
    "import hvplot.pandas\n",
    "import param, random\n",
    "\n",
    "# Helpers\n",
    "HOURS = 60 * 60\n",
    "DAYS = 24 * HOURS\n",
    "WEEKS = 7 * DAYS\n",
    "ONE_HUNDRED_PERCENT = 1e18\n",
    "ONE_TOKEN = 1e18\n",
    "FUNDRAISING_ONE_HUNDRED_PERCENT = 1e6\n",
    "FUNDRAISING_ONE_TOKEN = 1e18\n",
    "HOLDERS_PER_TRANSACTION = 10\n",
    "PPM = 1000000\n",
    "BLOCKTIME = 5"
   ]
  },
  {
   "cell_type": "code",
   "execution_count": 27,
   "metadata": {},
   "outputs": [],
   "source": [
    "# This is the amount of wxDAI that can be staked to create TEC hatch tokens - TEC hatch upgrades into a commons\n",
    "HATCH_ORACLE_RATIO = 0.005 "
   ]
  },
  {
   "cell_type": "code",
   "execution_count": 19,
   "metadata": {},
   "outputs": [],
   "source": [
    "# Dandelion Parameters\n",
    "SUPPORT_REQUIRED = 0.6\n",
    "MIN_ACCEPTANCE_QUORUM = 0.02\n",
    "VOTE_DURATION_BLOCKS = 3 * DAYS / BLOCKTIME\n",
    "VOTE_BUFFER_BLOCKS = 8 * HOURS / BLOCKTIME\n",
    "VOTE_EXECUTION_DELAY_BLOCKS = 24 * HOURS / BLOCKTIME\n",
    "VOTING_SETTINGS = [SUPPORT_REQUIRED, MIN_ACCEPTANCE_QUORUM, VOTE_DURATION_BLOCKS, VOTE_BUFFER_BLOCKS, VOTE_EXECUTION_DELAY_BLOCKS]\n",
    "\n",
    "# Set the fee paid to the org to create an administrative vote\n",
    "TOLLGATE_FEE = 3 * ONE_TOKEN"
   ]
  },
  {
   "cell_type": "code",
   "execution_count": 20,
   "metadata": {},
   "outputs": [],
   "source": [
    "# How many tokens required to initialize the bonding curve\n",
    "HATCH_MIN_GOAL = 100\n",
    "HATCH_MAX_GOAL = 100*1e6"
   ]
  },
  {
   "cell_type": "code",
   "execution_count": 21,
   "metadata": {},
   "outputs": [],
   "source": [
    "# How long should the presale period last for\n",
    "PRESALE_PERIOD = 7 * DAYS\n",
    "\n",
    "# How many organization tokens per collateral token should be minted\n",
    "PRESALE_EXCHANGE_RATE = 0.00000001 * FUNDRAISING_ONE_TOKEN\n",
    "\n",
    "# When is the cliff for vesting restrictions\n",
    "VESTING_CLIFF_PERIOD = PRESALE_PERIOD + 3 * DAYS # 3 days after presale\n",
    "\n",
    "# When will pre-sale contributors be fully vested\n",
    "VESTING_COMPLETE_PERIOD = VESTING_CLIFF_PERIOD + 3 * WEEKS # 3 weeks after cliff\n",
    "PRESALE_PERCENT_SUPPLY_OFFERED = FUNDRAISING_ONE_HUNDRED_PERCENT\n",
    "\n",
    "# What percentage of pre-sale contributions should go to the common pool (versus the reserve)\n",
    "PRESALE_PERCENT_FUNDING_FOR_BENEFICIARY = 0.35 * FUNDRAISING_ONE_HUNDRED_PERCENT\n",
    "\n",
    "# when should the pre-sale be open, setting 0 will allow anyone to open the pre-sale anytime after deployment\n",
    "OPEN_DATE = 0"
   ]
  },
  {
   "cell_type": "code",
   "execution_count": 83,
   "metadata": {},
   "outputs": [],
   "source": [
    "import param\n",
    "import pandas as pd\n",
    "import datetime as dt\n",
    "\n",
    "class Hatch(param.Parameterized):\n",
    "    # CSTK Ratio\n",
    "    total_cstk_tokens = param.Number(700000, constant=True)\n",
    "    hatch_oracle_ratio = param.Number(0.005, constant=True)\n",
    "    @param.depends('hatch_oracle_ratio', 'total_cstk_tokens')\n",
    "    def wxdai_range(self):\n",
    "        return pn.Row(pn.Pane(\"Cap on wxdai staked: \"), self.hatch_oracle_ratio * self.total_cstk_tokens)\n",
    "    \n",
    "    # Dandelion Params\n",
    "    support_required = param.Integer(50000, bounds=(-200, 100000))\n",
    "    \n",
    "    # Min and Target Goals\n",
    "    min_goal = param.Number(1000, bounds=(1000,1e6), step=1000)\n",
    "    target_goal = param.Number(100000, bounds=(100000,1e8), step=10000)\n",
    "    #pn.widgets.FloatSlider(name='Max Goal', start=min_goal.value, end=1e8, step=10000, value=min_goal.value)\n"
   ]
  },
  {
   "cell_type": "code",
   "execution_count": 84,
   "metadata": {},
   "outputs": [],
   "source": [
    "import panel as pn"
   ]
  },
  {
   "cell_type": "code",
   "execution_count": 85,
   "metadata": {},
   "outputs": [],
   "source": [
    "hatch = Hatch()"
   ]
  },
  {
   "cell_type": "code",
   "execution_count": 86,
   "metadata": {},
   "outputs": [
    {
     "data": {},
     "metadata": {},
     "output_type": "display_data"
    },
    {
     "data": {
      "application/vnd.holoviews_exec.v0+json": "",
      "text/html": [
       "<div id='11074'>\n",
       "\n",
       "\n",
       "\n",
       "\n",
       "\n",
       "  <div class=\"bk-root\" id=\"56ad08c7-69d8-4467-a513-1bb83af85f72\" data-root-id=\"11074\"></div>\n",
       "</div>\n",
       "<script type=\"application/javascript\">(function(root) {\n",
       "  function embed_document(root) {\n",
       "    var docs_json = {\"fb70c973-c344-410e-8f29-3ac74b62e615\":{\"roots\":{\"references\":[{\"attributes\":{\"client_comm_id\":\"d686dec4c39e44da918a98f657c8d9bc\",\"comm_id\":\"292c06e9bec64e69ba6858539ab4bc94\",\"plot_id\":\"11074\"},\"id\":\"11086\",\"type\":\"panel.models.comm_manager.CommManager\"},{\"attributes\":{\"margin\":[5,10,5,10],\"name\":\"\",\"text\":\"<b>Hatch</b>\"},\"id\":\"11076\",\"type\":\"Div\"},{\"attributes\":{\"end\":100000,\"format\":\"0[.]00\",\"margin\":[5,10,5,10],\"start\":-200,\"title\":\"Support required\",\"value\":50000,\"value_throttled\":50000},\"id\":\"11079\",\"type\":\"Slider\"},{\"attributes\":{\"children\":[{\"id\":\"11083\"}],\"margin\":[0,0,0,0],\"name\":\"Row19674\"},\"id\":\"11082\",\"type\":\"Row\"},{\"attributes\":{\"end\":100000000.0,\"format\":\"0[.]00\",\"margin\":[5,10,5,10],\"start\":100000,\"step\":10000,\"title\":\"Target goal\",\"value\":100000,\"value_throttled\":100000},\"id\":\"11081\",\"type\":\"Slider\"},{\"attributes\":{\"children\":[{\"id\":\"11084\"},{\"id\":\"11085\"}],\"margin\":[0,0,0,0],\"name\":\"Row19679\"},\"id\":\"11083\",\"type\":\"Row\"},{\"attributes\":{\"margin\":[5,5,5,5],\"name\":\"Str19677\",\"text\":\"&lt;pre&gt;3500.0&lt;/pre&gt;\"},\"id\":\"11085\",\"type\":\"panel.models.markup.HTML\"},{\"attributes\":{\"children\":[{\"id\":\"11075\"},{\"id\":\"11082\"}],\"margin\":[0,0,0,0],\"name\":\"Row19681\"},\"id\":\"11074\",\"type\":\"Row\"},{\"attributes\":{\"children\":[{\"id\":\"11076\"},{\"id\":\"11077\"},{\"id\":\"11078\"},{\"id\":\"11079\"},{\"id\":\"11080\"},{\"id\":\"11081\"}],\"margin\":[5,5,5,5],\"min_width\":300,\"name\":\"Hatch\",\"width\":300},\"id\":\"11075\",\"type\":\"Column\"},{\"attributes\":{\"disabled\":true,\"format\":null,\"margin\":[5,10,5,10],\"placeholder\":\"0\",\"step\":0.1,\"title\":\"Total cstk tokens\",\"value\":700000,\"value_throttled\":700000},\"id\":\"11077\",\"type\":\"Spinner\"},{\"attributes\":{\"css_classes\":[\"markdown\"],\"margin\":[5,5,5,5],\"name\":\"Markdown19675\",\"text\":\"&lt;p&gt;Cap on wxdai staked: &lt;/p&gt;\"},\"id\":\"11084\",\"type\":\"panel.models.markup.HTML\"},{\"attributes\":{\"disabled\":true,\"format\":null,\"margin\":[5,10,5,10],\"placeholder\":\"0\",\"step\":0.1,\"title\":\"Hatch oracle ratio\",\"value\":0.005,\"value_throttled\":0.005},\"id\":\"11078\",\"type\":\"Spinner\"},{\"attributes\":{\"end\":1000000.0,\"format\":\"0[.]00\",\"margin\":[5,10,5,10],\"start\":1000,\"step\":1000,\"title\":\"Min goal\",\"value\":1000,\"value_throttled\":1000},\"id\":\"11080\",\"type\":\"Slider\"}],\"root_ids\":[\"11074\",\"11086\"]},\"title\":\"Bokeh Application\",\"version\":\"2.2.3\"}};\n",
       "    var render_items = [{\"docid\":\"fb70c973-c344-410e-8f29-3ac74b62e615\",\"root_ids\":[\"11074\"],\"roots\":{\"11074\":\"56ad08c7-69d8-4467-a513-1bb83af85f72\"}}];\n",
       "    root.Bokeh.embed.embed_items_notebook(docs_json, render_items);\n",
       "  }\n",
       "  if (root.Bokeh !== undefined && root.Bokeh.Panel !== undefined) {\n",
       "    embed_document(root);\n",
       "  } else {\n",
       "    var attempts = 0;\n",
       "    var timer = setInterval(function(root) {\n",
       "      if (root.Bokeh !== undefined && root.Bokeh.Panel !== undefined) {\n",
       "        clearInterval(timer);\n",
       "        embed_document(root);\n",
       "      } else if (document.readyState == \"complete\") {\n",
       "        attempts++;\n",
       "        if (attempts > 100) {\n",
       "          clearInterval(timer);\n",
       "          console.log(\"Bokeh: ERROR: Unable to run BokehJS code because BokehJS library is missing\");\n",
       "        }\n",
       "      }\n",
       "    }, 10, root)\n",
       "  }\n",
       "})(window);</script>"
      ],
      "text/plain": [
       "Row\n",
       "    [0] Column(margin=5, name='Hatch', width=300)\n",
       "        [0] StaticText(value='<b>Hatch</b>')\n",
       "        [1] FloatInput(disabled=True, name='Total cstk tokens', value=700000, value_throttled=700000)\n",
       "        [2] FloatInput(disabled=True, name='Hatch oracle ratio', value=0.005, value_throttled=0.005)\n",
       "        [3] IntSlider(end=100000, name='Support required', start=-200, value=50000, value_throttled=50000)\n",
       "        [4] FloatSlider(end=1000000.0, name='Min goal', start=1000, step=1000, value=1000, value_throttled=1000)\n",
       "        [5] FloatSlider(end=100000000.0, name='Target goal', start=100000, step=10000, value=100000, value_throttled=100000)\n",
       "    [1] ParamMethod(method)"
      ]
     },
     "execution_count": 86,
     "metadata": {
      "application/vnd.holoviews_exec.v0+json": {
       "id": "11074"
      }
     },
     "output_type": "execute_result"
    }
   ],
   "source": [
    "pn.Row(hatch, hatch.wxdai_range)"
   ]
  },
  {
   "cell_type": "markdown",
   "metadata": {},
   "source": [
    "### Min Goal Max Goal"
   ]
  },
  {
   "cell_type": "code",
   "execution_count": 44,
   "metadata": {},
   "outputs": [
    {
     "data": {},
     "metadata": {},
     "output_type": "display_data"
    },
    {
     "data": {},
     "metadata": {},
     "output_type": "display_data"
    },
    {
     "data": {
      "application/vnd.holoviews_exec.v0+json": "",
      "text/html": [
       "<div id='10567'>\n",
       "\n",
       "\n",
       "\n",
       "\n",
       "\n",
       "  <div class=\"bk-root\" id=\"ac785647-228f-4dd3-a255-fca8bc0a1c83\" data-root-id=\"10567\"></div>\n",
       "</div>\n",
       "<script type=\"application/javascript\">(function(root) {\n",
       "  function embed_document(root) {\n",
       "    var docs_json = {\"7c5ded72-6d5c-43ac-ac20-4c82a4ec3890\":{\"roots\":{\"references\":[{\"attributes\":{\"line_alpha\":0.1,\"line_color\":\"#1f77b3\",\"line_width\":2,\"x\":{\"field\":\"index\"},\"y\":{\"field\":\"0\"}},\"id\":\"10608\",\"type\":\"Line\"},{\"attributes\":{\"axis\":{\"id\":\"10583\"},\"grid_line_color\":null,\"ticker\":null},\"id\":\"10586\",\"type\":\"Grid\"},{\"attributes\":{\"end\":50000,\"format\":\"0[.]00\",\"margin\":[5,10,5,10],\"start\":1000,\"step\":10000,\"title\":\"Min Goal\",\"value\":1000,\"value_throttled\":1000},\"id\":\"10568\",\"type\":\"Slider\"},{\"attributes\":{\"data\":{\"0\":{\"__ndarray__\":\"AAAAAABAj0AAAAAAAECPQAAAAAAAQI9AAAAAAABAj0AAAAAAAECPQAAAAAAAQI9AAAAAAABAj0AAAAAAAECPQAAAAAAAQI9AAAAAAABAj0AAAAAAAECPQAAAAAAAQI9AAAAAAABAj0AAAAAAAECPQAAAAAAAQI9AAAAAAABAj0AAAAAAAECPQAAAAAAAQI9AAAAAAABAj0AAAAAAAECPQAAAAAAAQI9AAAAAAABAj0AAAAAAAECPQAAAAAAAQI9AAAAAAABAj0AAAAAAAECPQAAAAAAAQI9AAAAAAABAj0AAAAAAAECPQAAAAAAAQI9AAAAAAABAj0AAAAAAAECPQAAAAAAAQI9AAAAAAABAj0AAAAAAAECPQAAAAAAAQI9AAAAAAABAj0AAAAAAAECPQAAAAAAAQI9AAAAAAABAj0AAAAAAAECPQAAAAAAAQI9AAAAAAABAj0AAAAAAAECPQAAAAAAAQI9AAAAAAABAj0AAAAAAAECPQAAAAAAAQI9AAAAAAABAj0AAAAAAAECPQA==\",\"dtype\":\"float64\",\"order\":\"little\",\"shape\":[50]},\"A_0\":{\"__ndarray__\":\"AAAAAABAj0AAAAAAAECPQAAAAAAAQI9AAAAAAABAj0AAAAAAAECPQAAAAAAAQI9AAAAAAABAj0AAAAAAAECPQAAAAAAAQI9AAAAAAABAj0AAAAAAAECPQAAAAAAAQI9AAAAAAABAj0AAAAAAAECPQAAAAAAAQI9AAAAAAABAj0AAAAAAAECPQAAAAAAAQI9AAAAAAABAj0AAAAAAAECPQAAAAAAAQI9AAAAAAABAj0AAAAAAAECPQAAAAAAAQI9AAAAAAABAj0AAAAAAAECPQAAAAAAAQI9AAAAAAABAj0AAAAAAAECPQAAAAAAAQI9AAAAAAABAj0AAAAAAAECPQAAAAAAAQI9AAAAAAABAj0AAAAAAAECPQAAAAAAAQI9AAAAAAABAj0AAAAAAAECPQAAAAAAAQI9AAAAAAABAj0AAAAAAAECPQAAAAAAAQI9AAAAAAABAj0AAAAAAAECPQAAAAAAAQI9AAAAAAABAj0AAAAAAAECPQAAAAAAAQI9AAAAAAABAj0AAAAAAAECPQA==\",\"dtype\":\"float64\",\"order\":\"little\",\"shape\":[50]},\"index\":[0,1,2,3,4,5,6,7,8,9,10,11,12,13,14,15,16,17,18,19,20,21,22,23,24,25,26,27,28,29,30,31,32,33,34,35,36,37,38,39,40,41,42,43,44,45,46,47,48,49]},\"selected\":{\"id\":\"10605\"},\"selection_policy\":{\"id\":\"10623\"}},\"id\":\"10604\",\"type\":\"ColumnDataSource\"},{\"attributes\":{},\"id\":\"10595\",\"type\":\"ResetTool\"},{\"attributes\":{\"end\":100000000.0,\"format\":\"0[.]00\",\"margin\":[5,10,5,10],\"start\":1000,\"step\":10000,\"title\":\"Max Goal\",\"value\":1000,\"value_throttled\":1000},\"id\":\"10569\",\"type\":\"Slider\"},{\"attributes\":{},\"id\":\"10605\",\"type\":\"Selection\"},{\"attributes\":{\"axis\":{\"id\":\"10587\"},\"dimension\":1,\"grid_line_color\":null,\"ticker\":null},\"id\":\"10590\",\"type\":\"Grid\"},{\"attributes\":{\"source\":{\"id\":\"10604\"}},\"id\":\"10611\",\"type\":\"CDSView\"},{\"attributes\":{\"children\":[{\"id\":\"10568\"},{\"id\":\"10569\"},{\"id\":\"10570\"}],\"margin\":[0,0,0,0],\"name\":\"Column18802\"},\"id\":\"10567\",\"type\":\"Column\"},{\"attributes\":{},\"id\":\"10584\",\"type\":\"BasicTicker\"},{\"attributes\":{},\"id\":\"10593\",\"type\":\"WheelZoomTool\"},{\"attributes\":{\"children\":[{\"id\":\"10574\"}],\"margin\":[0,0,0,0],\"name\":\"Row18724\"},\"id\":\"10570\",\"type\":\"Row\"},{\"attributes\":{},\"id\":\"10588\",\"type\":\"BasicTicker\"},{\"attributes\":{\"client_comm_id\":\"36c038044823435082f59b9e9bdd81b2\",\"comm_id\":\"9531deaab837433f998c10e5bdf37c06\",\"plot_id\":\"10567\"},\"id\":\"10656\",\"type\":\"panel.models.comm_manager.CommManager\"},{\"attributes\":{\"bottom_units\":\"screen\",\"fill_alpha\":0.5,\"fill_color\":\"lightgrey\",\"left_units\":\"screen\",\"level\":\"overlay\",\"line_alpha\":1.0,\"line_color\":\"black\",\"line_dash\":[4,4],\"line_width\":2,\"right_units\":\"screen\",\"top_units\":\"screen\"},\"id\":\"10596\",\"type\":\"BoxAnnotation\"},{\"attributes\":{},\"id\":\"10592\",\"type\":\"PanTool\"},{\"attributes\":{\"axis_label\":\"0\",\"bounds\":\"auto\",\"formatter\":{\"id\":\"10614\"},\"major_label_orientation\":\"horizontal\",\"ticker\":{\"id\":\"10588\"}},\"id\":\"10587\",\"type\":\"LinearAxis\"},{\"attributes\":{\"overlay\":{\"id\":\"10596\"}},\"id\":\"10594\",\"type\":\"BoxZoomTool\"},{\"attributes\":{\"active_drag\":\"auto\",\"active_inspect\":\"auto\",\"active_multi\":null,\"active_scroll\":\"auto\",\"active_tap\":\"auto\",\"tools\":[{\"id\":\"10573\"},{\"id\":\"10591\"},{\"id\":\"10592\"},{\"id\":\"10593\"},{\"id\":\"10594\"},{\"id\":\"10595\"}]},\"id\":\"10597\",\"type\":\"Toolbar\"},{\"attributes\":{\"end\":49.0,\"reset_end\":49.0,\"reset_start\":0.0,\"tags\":[[[\"index\",\"index\",null]]]},\"id\":\"10571\",\"type\":\"Range1d\"},{\"attributes\":{\"text\":\"\",\"text_color\":{\"value\":\"black\"},\"text_font_size\":{\"value\":\"12pt\"}},\"id\":\"10575\",\"type\":\"Title\"},{\"attributes\":{\"callback\":null,\"renderers\":[{\"id\":\"10610\"}],\"tags\":[\"hv_created\"],\"tooltips\":[[\"index\",\"@{index}\"],[\"0\",\"@{A_0}\"]]},\"id\":\"10573\",\"type\":\"HoverTool\"},{\"attributes\":{},\"id\":\"10579\",\"type\":\"LinearScale\"},{\"attributes\":{\"data_source\":{\"id\":\"10604\"},\"glyph\":{\"id\":\"10607\"},\"hover_glyph\":null,\"muted_glyph\":{\"id\":\"10609\"},\"nonselection_glyph\":{\"id\":\"10608\"},\"selection_glyph\":null,\"view\":{\"id\":\"10611\"}},\"id\":\"10610\",\"type\":\"GlyphRenderer\"},{\"attributes\":{\"line_alpha\":0.2,\"line_color\":\"#1f77b3\",\"line_width\":2,\"x\":{\"field\":\"index\"},\"y\":{\"field\":\"0\"}},\"id\":\"10609\",\"type\":\"Line\"},{\"attributes\":{\"below\":[{\"id\":\"10583\"}],\"center\":[{\"id\":\"10586\"},{\"id\":\"10590\"}],\"left\":[{\"id\":\"10587\"}],\"margin\":[5,5,5,5],\"min_border_bottom\":10,\"min_border_left\":10,\"min_border_right\":10,\"min_border_top\":10,\"plot_height\":300,\"plot_width\":700,\"renderers\":[{\"id\":\"10610\"}],\"sizing_mode\":\"fixed\",\"title\":{\"id\":\"10575\"},\"toolbar\":{\"id\":\"10597\"},\"x_range\":{\"id\":\"10571\"},\"x_scale\":{\"id\":\"10579\"},\"y_range\":{\"id\":\"10572\"},\"y_scale\":{\"id\":\"10581\"}},\"id\":\"10574\",\"subtype\":\"Figure\",\"type\":\"Plot\"},{\"attributes\":{},\"id\":\"10623\",\"type\":\"UnionRenderers\"},{\"attributes\":{},\"id\":\"10591\",\"type\":\"SaveTool\"},{\"attributes\":{\"end\":1001.2,\"reset_end\":1001.2,\"reset_start\":998.8,\"start\":998.8,\"tags\":[[[\"0\",\"0\",null]]]},\"id\":\"10572\",\"type\":\"Range1d\"},{\"attributes\":{},\"id\":\"10614\",\"type\":\"BasicTickFormatter\"},{\"attributes\":{\"line_color\":\"#1f77b3\",\"line_width\":2,\"x\":{\"field\":\"index\"},\"y\":{\"field\":\"0\"}},\"id\":\"10607\",\"type\":\"Line\"},{\"attributes\":{\"axis_label\":\"\",\"bounds\":\"auto\",\"formatter\":{\"id\":\"10612\"},\"major_label_orientation\":\"horizontal\",\"ticker\":{\"id\":\"10584\"}},\"id\":\"10583\",\"type\":\"LinearAxis\"},{\"attributes\":{},\"id\":\"10612\",\"type\":\"BasicTickFormatter\"},{\"attributes\":{},\"id\":\"10581\",\"type\":\"LinearScale\"}],\"root_ids\":[\"10567\",\"10656\"]},\"title\":\"Bokeh Application\",\"version\":\"2.2.3\"}};\n",
       "    var render_items = [{\"docid\":\"7c5ded72-6d5c-43ac-ac20-4c82a4ec3890\",\"root_ids\":[\"10567\"],\"roots\":{\"10567\":\"ac785647-228f-4dd3-a255-fca8bc0a1c83\"}}];\n",
       "    root.Bokeh.embed.embed_items_notebook(docs_json, render_items);\n",
       "  }\n",
       "  if (root.Bokeh !== undefined && root.Bokeh.Panel !== undefined) {\n",
       "    embed_document(root);\n",
       "  } else {\n",
       "    var attempts = 0;\n",
       "    var timer = setInterval(function(root) {\n",
       "      if (root.Bokeh !== undefined && root.Bokeh.Panel !== undefined) {\n",
       "        clearInterval(timer);\n",
       "        embed_document(root);\n",
       "      } else if (document.readyState == \"complete\") {\n",
       "        attempts++;\n",
       "        if (attempts > 100) {\n",
       "          clearInterval(timer);\n",
       "          console.log(\"Bokeh: ERROR: Unable to run BokehJS code because BokehJS library is missing\");\n",
       "        }\n",
       "      }\n",
       "    }, 10, root)\n",
       "  }\n",
       "})(window);</script>"
      ],
      "text/plain": [
       "Column\n",
       "    [0] FloatSlider(end=50000, name='Min Goal', start=1000, step=10000, value=1000, value_throttled=1000)\n",
       "    [1] FloatSlider(end=100000000.0, name='Max Goal', start=1000, step=10000, value=1000, value_throttled=1000)\n",
       "    [2] ParamFunction(function)"
      ]
     },
     "execution_count": 44,
     "metadata": {
      "application/vnd.holoviews_exec.v0+json": {
       "id": "10567"
      }
     },
     "output_type": "execute_result"
    }
   ],
   "source": [
    "\n",
    "\n",
    "\n",
    "@pn.depends(min_goal, max_goal)\n",
    "def dashboard(min_goal, max_goal):\n",
    "    df = pd.DataFrame(np.linspace(min_goal,max_goal))\n",
    "    return df.hvplot.line()\n",
    "\n",
    "pn.Column(min_goal, max_goal, dashboard)"
   ]
  },
  {
   "cell_type": "code",
   "execution_count": 45,
   "metadata": {},
   "outputs": [],
   "source": []
  },
  {
   "cell_type": "code",
   "execution_count": 46,
   "metadata": {},
   "outputs": [],
   "source": [
    "cstk_ratio = pn.widgets.FloatSlider(name='CSTK Ratio', start=0.001, end=0.01, step=0.001, value=0.001)\n",
    "total_cstk_tokens = 700000 \n",
    "\n",
    "@pn.depends(cstk_ratio)\n",
    "def wxdai_range(cstk_ratio):\n",
    "    return pn.Row(pn.Pane(\"Cap on wxdai staked: \"), cstk_ratio * total_cstk_tokens)"
   ]
  },
  {
   "cell_type": "code",
   "execution_count": 47,
   "metadata": {},
   "outputs": [
    {
     "data": {},
     "metadata": {},
     "output_type": "display_data"
    },
    {
     "data": {
      "application/vnd.holoviews_exec.v0+json": "",
      "text/html": [
       "<div id='10979'>\n",
       "\n",
       "\n",
       "\n",
       "\n",
       "\n",
       "  <div class=\"bk-root\" id=\"df65f196-26bc-4714-81f5-75529f7a1ab3\" data-root-id=\"10979\"></div>\n",
       "</div>\n",
       "<script type=\"application/javascript\">(function(root) {\n",
       "  function embed_document(root) {\n",
       "    var docs_json = {\"b04236b8-fcc1-4fce-ba51-aa118c9b270e\":{\"roots\":{\"references\":[{\"attributes\":{\"css_classes\":[\"markdown\"],\"margin\":[5,5,5,5],\"name\":\"Markdown19421\",\"text\":\"&lt;p&gt;Cap on wxdai staked: &lt;/p&gt;\"},\"id\":\"10983\",\"type\":\"panel.models.markup.HTML\"},{\"attributes\":{\"margin\":[5,5,5,5],\"name\":\"Str19423\",\"text\":\"&lt;pre&gt;700.0&lt;/pre&gt;\"},\"id\":\"10984\",\"type\":\"panel.models.markup.HTML\"},{\"attributes\":{\"end\":0.01,\"format\":\"0[.]00\",\"margin\":[5,10,5,10],\"start\":0.001,\"step\":0.001,\"title\":\"CSTK Ratio\",\"value\":0.001,\"value_throttled\":0.001},\"id\":\"10980\",\"type\":\"Slider\"},{\"attributes\":{\"children\":[{\"id\":\"10980\"},{\"id\":\"10981\"}],\"margin\":[0,0,0,0],\"name\":\"Column19427\"},\"id\":\"10979\",\"type\":\"Column\"},{\"attributes\":{\"client_comm_id\":\"c13b7224272c457a9d440084e94040ce\",\"comm_id\":\"2a9709506610474d9b1ce1e837fc71b0\",\"plot_id\":\"10979\"},\"id\":\"10985\",\"type\":\"panel.models.comm_manager.CommManager\"},{\"attributes\":{\"children\":[{\"id\":\"10982\"}],\"margin\":[0,0,0,0],\"name\":\"Row19420\"},\"id\":\"10981\",\"type\":\"Row\"},{\"attributes\":{\"children\":[{\"id\":\"10983\"},{\"id\":\"10984\"}],\"margin\":[0,0,0,0],\"name\":\"Row19425\"},\"id\":\"10982\",\"type\":\"Row\"}],\"root_ids\":[\"10979\",\"10985\"]},\"title\":\"Bokeh Application\",\"version\":\"2.2.3\"}};\n",
       "    var render_items = [{\"docid\":\"b04236b8-fcc1-4fce-ba51-aa118c9b270e\",\"root_ids\":[\"10979\"],\"roots\":{\"10979\":\"df65f196-26bc-4714-81f5-75529f7a1ab3\"}}];\n",
       "    root.Bokeh.embed.embed_items_notebook(docs_json, render_items);\n",
       "  }\n",
       "  if (root.Bokeh !== undefined && root.Bokeh.Panel !== undefined) {\n",
       "    embed_document(root);\n",
       "  } else {\n",
       "    var attempts = 0;\n",
       "    var timer = setInterval(function(root) {\n",
       "      if (root.Bokeh !== undefined && root.Bokeh.Panel !== undefined) {\n",
       "        clearInterval(timer);\n",
       "        embed_document(root);\n",
       "      } else if (document.readyState == \"complete\") {\n",
       "        attempts++;\n",
       "        if (attempts > 100) {\n",
       "          clearInterval(timer);\n",
       "          console.log(\"Bokeh: ERROR: Unable to run BokehJS code because BokehJS library is missing\");\n",
       "        }\n",
       "      }\n",
       "    }, 10, root)\n",
       "  }\n",
       "})(window);</script>"
      ],
      "text/plain": [
       "Column\n",
       "    [0] FloatSlider(end=0.01, name='CSTK Ratio', start=0.001, step=0.001, value=0.001, value_throttled=0.001)\n",
       "    [1] ParamFunction(function)"
      ]
     },
     "execution_count": 47,
     "metadata": {
      "application/vnd.holoviews_exec.v0+json": {
       "id": "10979"
      }
     },
     "output_type": "execute_result"
    }
   ],
   "source": [
    "pn.Column(cstk_ratio, wxdai_range)"
   ]
  },
  {
   "cell_type": "code",
   "execution_count": null,
   "metadata": {},
   "outputs": [],
   "source": []
  }
 ],
 "metadata": {
  "kernelspec": {
   "display_name": "Python 3",
   "language": "python",
   "name": "python3"
  },
  "language_info": {
   "codemirror_mode": {
    "name": "ipython",
    "version": 3
   },
   "file_extension": ".py",
   "mimetype": "text/x-python",
   "name": "python",
   "nbconvert_exporter": "python",
   "pygments_lexer": "ipython3",
   "version": "3.8.6"
  }
 },
 "nbformat": 4,
 "nbformat_minor": 4
}
