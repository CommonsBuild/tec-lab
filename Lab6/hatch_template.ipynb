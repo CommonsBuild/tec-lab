{
 "cells": [
  {
   "cell_type": "code",
   "execution_count": 2,
   "id": "occupational-faculty",
   "metadata": {},
   "outputs": [],
   "source": [
    "import param"
   ]
  },
  {
   "cell_type": "code",
   "execution_count": 3,
   "id": "meaningful-custom",
   "metadata": {},
   "outputs": [],
   "source": [
    "class FillBar(param.Parameterized):\n",
    "    \n",
    "    amount = param.Number()\n",
    "    \n",
    "    def __init__(self, label: str, amount: float, bounds: tuple, **params):\n",
    "        super(FillBar, self).__init__(**params)\n",
    "        self.label = label\n",
    "        self.amount = amount\n",
    "        self.param['amount'].bounds = bounds\n",
    "        \n",
    "    \n",
    "    @param.depends('amount')\n",
    "    def view(self):\n",
    "        bar = pd.DataFrame([(self.label, self.amount)], columns=['Label', 'Amount'])\n",
    "        return bar.hvplot.bar(ylim=(0, self.param['amount'].bounds[1]), x='Label', y='Amount')\n",
    "        "
   ]
  },
  {
   "cell_type": "markdown",
   "id": "choice-celebrity",
   "metadata": {},
   "source": [
    "# Hatch Template!"
   ]
  },
  {
   "cell_type": "markdown",
   "id": "strategic-admission",
   "metadata": {},
   "source": [
    "## Dandelion Voting"
   ]
  },
  {
   "cell_type": "markdown",
   "id": "incorporate-universal",
   "metadata": {},
   "source": [
    "1. Percentage of total tokens that have to vote 'yes' to `something` for it to pass."
   ]
  },
  {
   "cell_type": "code",
   "execution_count": 277,
   "id": "reasonable-drilling",
   "metadata": {},
   "outputs": [],
   "source": [
    "class DandelionVoting(param.Parameterized):\n",
    "    total_tokens = param.Number(1e6, constant=True)\n",
    "    minimum_quorum = param.Number(0.02, bounds=(0,1), step=0.01)\n",
    "    support_required = param.Number(0.5, bounds=(0.5,0.9), step=0.01)\n",
    "    \n",
    "    def view(self):\n",
    "        min_support = self.support_required * self.minimum_quorum * self.total_tokens\n",
    "        min_blockers = (1 - self.support_required) * self.minimum_quorum * self.total_tokens\n",
    "        votes = pd.DataFrame.from_dict({'Votes': [min_support, min_blockers]}, orient='index', columns=['Minimum Tokens to Pass', 'Minimum Tokens for Quorum'])\n",
    "        vote_plot = votes.hvplot.bar(xformatter='%.3f', stacked=True, ylim=(0,self.total_tokens)).opts(color=hv.Cycle(['#0F2EEE', '#0b0a15', '#DEFB48']))\n",
    "        return pn.Row(vote_plot, pn.Column(\"Minimum Tokens to Meet Quorum: \", int(self.minimum_quorum * self.total_tokens), \"Minimum Tokens to Pass a Vote: \", int(min_support), \"Minimum Tokens to Block a Vote: \", int(min_blockers)))"
   ]
  },
  {
   "cell_type": "code",
   "execution_count": 278,
   "id": "vocal-trade",
   "metadata": {},
   "outputs": [
    {
     "data": {},
     "metadata": {},
     "output_type": "display_data"
    },
    {
     "data": {},
     "metadata": {},
     "output_type": "display_data"
    },
    {
     "data": {
      "application/vnd.holoviews_exec.v0+json": "",
      "text/html": [
       "<div id='147964'>\n",
       "\n",
       "\n",
       "\n",
       "\n",
       "\n",
       "  <div class=\"bk-root\" id=\"9d65dae1-878b-4b39-b70c-c88dae3a3ed4\" data-root-id=\"147964\"></div>\n",
       "</div>\n",
       "<script type=\"application/javascript\">(function(root) {\n",
       "  function embed_document(root) {\n",
       "    var docs_json = {\"0182f39e-f6df-493a-a926-c586d6b2bc2d\":{\"roots\":{\"references\":[{\"attributes\":{},\"id\":\"147993\",\"type\":\"WheelZoomTool\"},{\"attributes\":{\"text\":\"\",\"text_color\":{\"value\":\"black\"},\"text_font_size\":{\"value\":\"12pt\"}},\"id\":\"147976\",\"type\":\"Title\"},{\"attributes\":{\"active_drag\":\"auto\",\"active_inspect\":\"auto\",\"active_multi\":null,\"active_scroll\":\"auto\",\"active_tap\":\"auto\",\"tools\":[{\"id\":\"147974\"},{\"id\":\"147991\"},{\"id\":\"147992\"},{\"id\":\"147993\"},{\"id\":\"147994\"},{\"id\":\"147995\"}]},\"id\":\"147997\",\"type\":\"Toolbar\"},{\"attributes\":{},\"id\":\"147995\",\"type\":\"ResetTool\"},{\"attributes\":{\"children\":[{\"id\":\"147965\"},{\"id\":\"147970\"}],\"margin\":[0,0,0,0],\"name\":\"Row369552\"},\"id\":\"147964\",\"type\":\"Row\"},{\"attributes\":{\"css_classes\":[\"markdown\"],\"margin\":[5,5,5,5],\"name\":\"Markdown369536\",\"text\":\"&lt;p&gt;Minimum Tokens to Pass a Vote: &lt;/p&gt;\"},\"id\":\"148046\",\"type\":\"panel.models.markup.HTML\"},{\"attributes\":{},\"id\":\"147982\",\"type\":\"LinearScale\"},{\"attributes\":{\"children\":[{\"id\":\"147971\"}],\"margin\":[0,0,0,0],\"name\":\"Row369436\"},\"id\":\"147970\",\"type\":\"Row\"},{\"attributes\":{\"end\":0.9,\"format\":\"0[.]00\",\"margin\":[5,10,5,10],\"start\":0.5,\"step\":0.01,\"title\":\"Support required\",\"value\":0.5,\"value_throttled\":0.5},\"id\":\"147969\",\"type\":\"Slider\"},{\"attributes\":{\"client_comm_id\":\"d3ee714fec97419f88198dfaf98b4581\",\"comm_id\":\"123d40359f3c457c98d7d3279617f250\",\"plot_id\":\"147964\"},\"id\":\"148074\",\"type\":\"panel.models.comm_manager.CommManager\"},{\"attributes\":{\"children\":[{\"id\":\"148044\"},{\"id\":\"148045\"},{\"id\":\"148046\"},{\"id\":\"148047\"},{\"id\":\"148048\"},{\"id\":\"148049\"}],\"margin\":[0,0,0,0],\"name\":\"Column369544\"},\"id\":\"148043\",\"type\":\"Column\"},{\"attributes\":{\"bottom\":{\"field\":\"bottom\"},\"fill_color\":{\"field\":\"Variable\",\"transform\":{\"id\":\"148004\"}},\"top\":{\"field\":\"top\"},\"width\":{\"value\":0.8},\"x\":{\"field\":\"index\"}},\"id\":\"148008\",\"type\":\"VBar\"},{\"attributes\":{\"margin\":[5,5,5,5],\"name\":\"Str369542\",\"text\":\"&lt;pre&gt;10000&lt;/pre&gt;\"},\"id\":\"148049\",\"type\":\"panel.models.markup.HTML\"},{\"attributes\":{\"callback\":null,\"renderers\":[{\"id\":\"148011\"}],\"tags\":[\"hv_created\"],\"tooltips\":[[\"index\",\"@{index}\"],[\"Variable\",\"@{Variable}\"],[\"value\",\"@{value}\"]]},\"id\":\"147974\",\"type\":\"HoverTool\"},{\"attributes\":{\"source\":{\"id\":\"148005\"}},\"id\":\"148012\",\"type\":\"CDSView\"},{\"attributes\":{},\"id\":\"148006\",\"type\":\"Selection\"},{\"attributes\":{},\"id\":\"147980\",\"type\":\"CategoricalScale\"},{\"attributes\":{\"children\":[{\"id\":\"147975\"},{\"id\":\"148043\"}],\"margin\":[0,0,0,0],\"name\":\"Row369550\"},\"id\":\"147971\",\"type\":\"Row\"},{\"attributes\":{\"label\":{\"field\":\"Variable\"},\"renderers\":[{\"id\":\"148011\"}]},\"id\":\"148022\",\"type\":\"LegendItem\"},{\"attributes\":{},\"id\":\"147991\",\"type\":\"SaveTool\"},{\"attributes\":{\"children\":[{\"id\":\"147966\"},{\"id\":\"147967\"},{\"id\":\"147968\"},{\"id\":\"147969\"}],\"margin\":[5,5,5,5],\"min_width\":300,\"name\":\"DandelionVoting\",\"width\":300},\"id\":\"147965\",\"type\":\"Column\"},{\"attributes\":{\"axis\":{\"id\":\"147987\"},\"dimension\":1,\"grid_line_color\":null,\"ticker\":null},\"id\":\"147990\",\"type\":\"Grid\"},{\"attributes\":{\"margin\":[5,5,5,5],\"name\":\"Str369538\",\"text\":\"&lt;pre&gt;10000&lt;/pre&gt;\"},\"id\":\"148047\",\"type\":\"panel.models.markup.HTML\"},{\"attributes\":{},\"id\":\"148016\",\"type\":\"CategoricalTickFormatter\"},{\"attributes\":{\"bottom\":{\"field\":\"bottom\"},\"fill_alpha\":{\"value\":0.2},\"fill_color\":{\"field\":\"Variable\",\"transform\":{\"id\":\"148004\"}},\"line_alpha\":{\"value\":0.2},\"top\":{\"field\":\"top\"},\"width\":{\"value\":0.8},\"x\":{\"field\":\"index\"}},\"id\":\"148010\",\"type\":\"VBar\"},{\"attributes\":{\"css_classes\":[\"markdown\"],\"margin\":[5,5,5,5],\"name\":\"Markdown369532\",\"text\":\"&lt;p&gt;Minimum Tokens to Meet Quorum: &lt;/p&gt;\"},\"id\":\"148044\",\"type\":\"panel.models.markup.HTML\"},{\"attributes\":{},\"id\":\"147988\",\"type\":\"BasicTicker\"},{\"attributes\":{\"items\":[{\"id\":\"148022\"}],\"location\":[0,0]},\"id\":\"148021\",\"type\":\"Legend\"},{\"attributes\":{\"disabled\":true,\"format\":null,\"margin\":[5,10,5,10],\"placeholder\":\"0\",\"step\":0.1,\"title\":\"Total tokens\",\"value\":1000000.0,\"value_throttled\":1000000.0},\"id\":\"147967\",\"type\":\"Spinner\"},{\"attributes\":{\"css_classes\":[\"markdown\"],\"margin\":[5,5,5,5],\"name\":\"Markdown369540\",\"text\":\"&lt;p&gt;Minimum Tokens to Block a Vote: &lt;/p&gt;\"},\"id\":\"148048\",\"type\":\"panel.models.markup.HTML\"},{\"attributes\":{\"axis_label\":\"\",\"bounds\":\"auto\",\"formatter\":{\"id\":\"148016\"},\"major_label_orientation\":\"horizontal\",\"ticker\":{\"id\":\"147985\"}},\"id\":\"147984\",\"type\":\"CategoricalAxis\"},{\"attributes\":{\"axis\":{\"id\":\"147984\"},\"grid_line_color\":null,\"ticker\":null},\"id\":\"147986\",\"type\":\"Grid\"},{\"attributes\":{\"margin\":[5,10,5,10],\"name\":\"\",\"text\":\"<b>DandelionVoting</b>\"},\"id\":\"147966\",\"type\":\"Div\"},{\"attributes\":{\"factors\":[\"Votes\"],\"tags\":[[[\"index\",\"index\",null]]]},\"id\":\"147972\",\"type\":\"FactorRange\"},{\"attributes\":{\"data_source\":{\"id\":\"148005\"},\"glyph\":{\"id\":\"148008\"},\"hover_glyph\":null,\"muted_glyph\":{\"id\":\"148010\"},\"nonselection_glyph\":{\"id\":\"148009\"},\"selection_glyph\":null,\"view\":{\"id\":\"148012\"}},\"id\":\"148011\",\"type\":\"GlyphRenderer\"},{\"attributes\":{},\"id\":\"147992\",\"type\":\"PanTool\"},{\"attributes\":{\"overlay\":{\"id\":\"147996\"}},\"id\":\"147994\",\"type\":\"BoxZoomTool\"},{\"attributes\":{\"axis_label\":\"\",\"bounds\":\"auto\",\"formatter\":{\"id\":\"148014\"},\"major_label_orientation\":\"horizontal\",\"ticker\":{\"id\":\"147988\"}},\"id\":\"147987\",\"type\":\"LinearAxis\"},{\"attributes\":{},\"id\":\"148014\",\"type\":\"BasicTickFormatter\"},{\"attributes\":{\"end\":1000000.0,\"reset_end\":1000000.0,\"reset_start\":0,\"tags\":[[[\"value\",\"value\",null]]]},\"id\":\"147973\",\"type\":\"Range1d\"},{\"attributes\":{},\"id\":\"148019\",\"type\":\"UnionRenderers\"},{\"attributes\":{},\"id\":\"147985\",\"type\":\"CategoricalTicker\"},{\"attributes\":{\"factors\":[\"Minimum Tokens to Pass\",\"Minimum Tokens for Quorum\"],\"palette\":[\"#0F2EEE\",\"#0b0a15\"]},\"id\":\"148004\",\"type\":\"CategoricalColorMapper\"},{\"attributes\":{\"bottom\":{\"field\":\"bottom\"},\"fill_alpha\":{\"value\":0.1},\"fill_color\":{\"field\":\"Variable\",\"transform\":{\"id\":\"148004\"}},\"line_alpha\":{\"value\":0.1},\"top\":{\"field\":\"top\"},\"width\":{\"value\":0.8},\"x\":{\"field\":\"index\"}},\"id\":\"148009\",\"type\":\"VBar\"},{\"attributes\":{\"below\":[{\"id\":\"147984\"}],\"center\":[{\"id\":\"147986\"},{\"id\":\"147990\"},{\"id\":\"148021\"}],\"left\":[{\"id\":\"147987\"}],\"margin\":[5,5,5,5],\"min_border_bottom\":10,\"min_border_left\":10,\"min_border_right\":10,\"min_border_top\":10,\"plot_height\":300,\"plot_width\":700,\"renderers\":[{\"id\":\"148011\"}],\"right\":[{\"id\":\"148021\"}],\"sizing_mode\":\"fixed\",\"title\":{\"id\":\"147976\"},\"toolbar\":{\"id\":\"147997\"},\"x_range\":{\"id\":\"147972\"},\"x_scale\":{\"id\":\"147980\"},\"y_range\":{\"id\":\"147973\"},\"y_scale\":{\"id\":\"147982\"}},\"id\":\"147975\",\"subtype\":\"Figure\",\"type\":\"Plot\"},{\"attributes\":{\"end\":1,\"format\":\"0[.]00\",\"margin\":[5,10,5,10],\"start\":0,\"step\":0.01,\"title\":\"Minimum quorum\",\"value\":0.02,\"value_throttled\":0.02},\"id\":\"147968\",\"type\":\"Slider\"},{\"attributes\":{\"data\":{\"Variable\":[\"Minimum Tokens to Pass\",\"Minimum Tokens for Quorum\"],\"bottom\":{\"__ndarray__\":\"AAAAAAAAAAAAAAAAAIjDQA==\",\"dtype\":\"float64\",\"order\":\"little\",\"shape\":[2]},\"index\":[\"Votes\",\"Votes\"],\"top\":{\"__ndarray__\":\"AAAAAACIw0AAAAAAAIjTQA==\",\"dtype\":\"float64\",\"order\":\"little\",\"shape\":[2]},\"value\":{\"__ndarray__\":\"AAAAAACIw0AAAAAAAIjDQA==\",\"dtype\":\"float64\",\"order\":\"little\",\"shape\":[2]}},\"selected\":{\"id\":\"148006\"},\"selection_policy\":{\"id\":\"148019\"}},\"id\":\"148005\",\"type\":\"ColumnDataSource\"},{\"attributes\":{\"margin\":[5,5,5,5],\"name\":\"Str369534\",\"text\":\"&lt;pre&gt;20000&lt;/pre&gt;\"},\"id\":\"148045\",\"type\":\"panel.models.markup.HTML\"},{\"attributes\":{\"bottom_units\":\"screen\",\"fill_alpha\":0.5,\"fill_color\":\"lightgrey\",\"left_units\":\"screen\",\"level\":\"overlay\",\"line_alpha\":1.0,\"line_color\":\"black\",\"line_dash\":[4,4],\"line_width\":2,\"right_units\":\"screen\",\"top_units\":\"screen\"},\"id\":\"147996\",\"type\":\"BoxAnnotation\"}],\"root_ids\":[\"147964\",\"148074\"]},\"title\":\"Bokeh Application\",\"version\":\"2.2.3\"}};\n",
       "    var render_items = [{\"docid\":\"0182f39e-f6df-493a-a926-c586d6b2bc2d\",\"root_ids\":[\"147964\"],\"roots\":{\"147964\":\"9d65dae1-878b-4b39-b70c-c88dae3a3ed4\"}}];\n",
       "    root.Bokeh.embed.embed_items_notebook(docs_json, render_items);\n",
       "  }\n",
       "  if (root.Bokeh !== undefined && root.Bokeh.Panel !== undefined) {\n",
       "    embed_document(root);\n",
       "  } else {\n",
       "    var attempts = 0;\n",
       "    var timer = setInterval(function(root) {\n",
       "      if (root.Bokeh !== undefined && root.Bokeh.Panel !== undefined) {\n",
       "        clearInterval(timer);\n",
       "        embed_document(root);\n",
       "      } else if (document.readyState == \"complete\") {\n",
       "        attempts++;\n",
       "        if (attempts > 100) {\n",
       "          clearInterval(timer);\n",
       "          console.log(\"Bokeh: ERROR: Unable to run BokehJS code because BokehJS library is missing\");\n",
       "        }\n",
       "      }\n",
       "    }, 10, root)\n",
       "  }\n",
       "})(window);</script>"
      ],
      "text/plain": [
       "Row\n",
       "    [0] Column(margin=5, name='DandelionVoting', width=300)\n",
       "        [0] StaticText(value='<b>DandelionVoting</b>')\n",
       "        [1] FloatInput(disabled=True, name='Total tokens', value=1000000.0, value_throttled=1000000.0)\n",
       "        [2] FloatSlider(name='Minimum quorum', step=0.01, value=0.02, value_throttled=0.02)\n",
       "        [3] FloatSlider(end=0.9, name='Support required', start=0.5, step=0.01, value=0.5, value_throttled=0.5)\n",
       "    [1] ParamMethod(method)"
      ]
     },
     "execution_count": 278,
     "metadata": {
      "application/vnd.holoviews_exec.v0+json": {
       "id": "147964"
      }
     },
     "output_type": "execute_result"
    }
   ],
   "source": [
    "d = DandelionVoting()\n",
    "pn.Row(d, d.view)"
   ]
  },
  {
   "cell_type": "code",
   "execution_count": 5,
   "id": "banned-questionnaire",
   "metadata": {},
   "outputs": [
    {
     "ename": "TypeError",
     "evalue": "__init__() missing 2 required positional arguments: 'amount' and 'bounds'",
     "output_type": "error",
     "traceback": [
      "\u001b[0;31m---------------------------------------------------------------------------\u001b[0m",
      "\u001b[0;31mTypeError\u001b[0m                                 Traceback (most recent call last)",
      "\u001b[0;32m<ipython-input-5-4660ed4a3caf>\u001b[0m in \u001b[0;36m<module>\u001b[0;34m\u001b[0m\n\u001b[0;32m----> 1\u001b[0;31m \u001b[0msupport_required\u001b[0m \u001b[0;34m=\u001b[0m \u001b[0mFillBar\u001b[0m\u001b[0;34m(\u001b[0m\u001b[0;34m'Percentage of total tokens that have to vote \"yes\" to something for it to pass.'\u001b[0m\u001b[0;34m)\u001b[0m\u001b[0;34m\u001b[0m\u001b[0;34m\u001b[0m\u001b[0m\n\u001b[0m",
      "\u001b[0;31mTypeError\u001b[0m: __init__() missing 2 required positional arguments: 'amount' and 'bounds'"
     ]
    }
   ],
   "source": [
    "support_required = FillBar('Percentage of total tokens that have to vote \"yes\" to something for it to pass.')"
   ]
  },
  {
   "cell_type": "code",
   "execution_count": 226,
   "id": "rental-postage",
   "metadata": {},
   "outputs": [],
   "source": [
    "class FillBar(param.Parameterized):\n",
    "    \n",
    "    minimum_quorum = param.Number(0.02, bounds=(0,1), step=0.01)\n",
    "    support_required = param.Number(7, bounds=(0,10))\n",
    "    \n",
    "\n",
    "\n",
    "    def amount_bar(self):\n",
    "        \n",
    "        bar = pd.DataFrame([\n",
    "            ('Vote Percent', self.support_required * self.min_acceptance_quorum), \n",
    "            ('Vote Percent', self.support_required * (1 - self.min_acceptance_quorum))\n",
    "        ], columns=['Label', 'Amount'])\n",
    "        bar = bar.set_index('Label')\n",
    "        bar_plot = pn.Row(bar, bar.hvplot.bar(stacked=True, height=500, legend='top_left'))#.opts(color=hv.Cycle(['#0F2EEE', '#0b0a15', '#DEFB48'])))\n",
    "        return bar_plot\n",
    "#         return bar.hvplot.bar(stacked=True, ylim=(0, bounds[1]), x='Label', y='Amount', color='#0F2EEE').opts(bgcolor='#0b0a15')\n",
    "        "
   ]
  },
  {
   "cell_type": "code",
   "execution_count": 238,
   "id": "supreme-bowling",
   "metadata": {},
   "outputs": [
    {
     "data": {},
     "metadata": {},
     "output_type": "display_data"
    },
    {
     "data": {
      "application/vnd.holoviews_exec.v0+json": "",
      "text/html": [
       "<div id='93597'>\n",
       "\n",
       "\n",
       "\n",
       "\n",
       "\n",
       "  <div class=\"bk-root\" id=\"9e3f1bc5-b9cc-46ca-b8b9-cfdf46f04be0\" data-root-id=\"93597\"></div>\n",
       "</div>\n",
       "<script type=\"application/javascript\">(function(root) {\n",
       "  function embed_document(root) {\n",
       "    var docs_json = {\"ed2c7798-0396-412c-a2aa-ad7ddfd12c1e\":{\"roots\":{\"references\":[{\"attributes\":{},\"id\":\"93618\",\"type\":\"SaveTool\"},{\"attributes\":{\"children\":[{\"id\":\"93598\"},{\"id\":\"93602\"},{\"id\":\"93670\"}],\"margin\":[0,0,0,0],\"name\":\"Row227251\",\"tags\":[\"embedded\"]},\"id\":\"93597\",\"type\":\"Row\"},{\"attributes\":{},\"id\":\"93620\",\"type\":\"WheelZoomTool\"},{\"attributes\":{\"source\":{\"id\":\"93632\"}},\"id\":\"93639\",\"type\":\"CDSView\"},{\"attributes\":{},\"id\":\"93633\",\"type\":\"Selection\"},{\"attributes\":{\"label\":{\"field\":\"Variable\"},\"renderers\":[{\"id\":\"93638\"}]},\"id\":\"93649\",\"type\":\"LegendItem\"},{\"attributes\":{\"axis_label\":\"\",\"bounds\":\"auto\",\"formatter\":{\"id\":\"93643\"},\"major_label_orientation\":\"horizontal\",\"ticker\":{\"id\":\"93612\"}},\"id\":\"93611\",\"type\":\"CategoricalAxis\"},{\"attributes\":{\"data_source\":{\"id\":\"93632\"},\"glyph\":{\"id\":\"93635\"},\"hover_glyph\":null,\"muted_glyph\":{\"id\":\"93637\"},\"nonselection_glyph\":{\"id\":\"93636\"},\"selection_glyph\":null,\"view\":{\"id\":\"93639\"}},\"id\":\"93638\",\"type\":\"GlyphRenderer\"},{\"attributes\":{\"factors\":[\"A\",\"B\"],\"palette\":[\"#0F2EEE\",\"#0b0a15\"]},\"id\":\"93631\",\"type\":\"CategoricalColorMapper\"},{\"attributes\":{},\"id\":\"93609\",\"type\":\"LinearScale\"},{\"attributes\":{},\"id\":\"93622\",\"type\":\"ResetTool\"},{\"attributes\":{\"end\":8.0,\"reset_end\":8.0,\"reset_start\":0.0,\"tags\":[[[\"value\",\"value\",null]]]},\"id\":\"93600\",\"type\":\"Range1d\"},{\"attributes\":{\"factors\":[\"Vote Percent\"],\"tags\":[[[\"index\",\"index\",null]]]},\"id\":\"93599\",\"type\":\"FactorRange\"},{\"attributes\":{\"bottom\":{\"field\":\"bottom\"},\"fill_color\":{\"field\":\"Variable\",\"transform\":{\"id\":\"93631\"}},\"top\":{\"field\":\"top\"},\"width\":{\"value\":0.8},\"x\":{\"field\":\"index\"}},\"id\":\"93635\",\"type\":\"VBar\"},{\"attributes\":{\"bottom_units\":\"screen\",\"fill_alpha\":0.5,\"fill_color\":\"lightgrey\",\"left_units\":\"screen\",\"level\":\"overlay\",\"line_alpha\":1.0,\"line_color\":\"black\",\"line_dash\":[4,4],\"line_width\":2,\"right_units\":\"screen\",\"top_units\":\"screen\"},\"id\":\"93623\",\"type\":\"BoxAnnotation\"},{\"attributes\":{\"items\":[{\"id\":\"93649\"}],\"location\":[0,0]},\"id\":\"93648\",\"type\":\"Legend\"},{\"attributes\":{\"below\":[{\"id\":\"93611\"}],\"center\":[{\"id\":\"93613\"},{\"id\":\"93617\"},{\"id\":\"93648\"}],\"left\":[{\"id\":\"93614\"}],\"margin\":[5,5,5,5],\"min_border_bottom\":10,\"min_border_left\":10,\"min_border_right\":10,\"min_border_top\":10,\"plot_height\":300,\"plot_width\":700,\"renderers\":[{\"id\":\"93638\"}],\"right\":[{\"id\":\"93648\"}],\"sizing_mode\":\"fixed\",\"title\":{\"id\":\"93603\"},\"toolbar\":{\"id\":\"93624\"},\"x_range\":{\"id\":\"93599\"},\"x_scale\":{\"id\":\"93607\"},\"y_range\":{\"id\":\"93600\"},\"y_scale\":{\"id\":\"93609\"}},\"id\":\"93602\",\"subtype\":\"Figure\",\"type\":\"Plot\"},{\"attributes\":{\"callback\":null,\"renderers\":[{\"id\":\"93638\"}],\"tags\":[\"hv_created\"],\"tooltips\":[[\"index\",\"@{index}\"],[\"Variable\",\"@{Variable}\"],[\"value\",\"@{value}\"]]},\"id\":\"93601\",\"type\":\"HoverTool\"},{\"attributes\":{\"active_drag\":\"auto\",\"active_inspect\":\"auto\",\"active_multi\":null,\"active_scroll\":\"auto\",\"active_tap\":\"auto\",\"tools\":[{\"id\":\"93601\"},{\"id\":\"93618\"},{\"id\":\"93619\"},{\"id\":\"93620\"},{\"id\":\"93621\"},{\"id\":\"93622\"}]},\"id\":\"93624\",\"type\":\"Toolbar\"},{\"attributes\":{},\"id\":\"93607\",\"type\":\"CategoricalScale\"},{\"attributes\":{\"overlay\":{\"id\":\"93623\"}},\"id\":\"93621\",\"type\":\"BoxZoomTool\"},{\"attributes\":{\"text\":\"\",\"text_color\":{\"value\":\"black\"},\"text_font_size\":{\"value\":\"12pt\"}},\"id\":\"93603\",\"type\":\"Title\"},{\"attributes\":{\"bottom\":{\"field\":\"bottom\"},\"fill_alpha\":{\"value\":0.2},\"fill_color\":{\"field\":\"Variable\",\"transform\":{\"id\":\"93631\"}},\"line_alpha\":{\"value\":0.2},\"top\":{\"field\":\"top\"},\"width\":{\"value\":0.8},\"x\":{\"field\":\"index\"}},\"id\":\"93637\",\"type\":\"VBar\"},{\"attributes\":{\"axis\":{\"id\":\"93614\"},\"dimension\":1,\"grid_line_color\":null,\"ticker\":null},\"id\":\"93617\",\"type\":\"Grid\"},{\"attributes\":{\"margin\":[5,5,5,5],\"name\":\"HSpacer227256\",\"sizing_mode\":\"stretch_width\"},\"id\":\"93670\",\"type\":\"Spacer\"},{\"attributes\":{\"axis_label\":\"\",\"bounds\":\"auto\",\"formatter\":{\"id\":\"93641\"},\"major_label_orientation\":\"horizontal\",\"ticker\":{\"id\":\"93615\"}},\"id\":\"93614\",\"type\":\"LinearAxis\"},{\"attributes\":{\"bottom\":{\"field\":\"bottom\"},\"fill_alpha\":{\"value\":0.1},\"fill_color\":{\"field\":\"Variable\",\"transform\":{\"id\":\"93631\"}},\"line_alpha\":{\"value\":0.1},\"top\":{\"field\":\"top\"},\"width\":{\"value\":0.8},\"x\":{\"field\":\"index\"}},\"id\":\"93636\",\"type\":\"VBar\"},{\"attributes\":{\"axis\":{\"id\":\"93611\"},\"grid_line_color\":null,\"ticker\":null},\"id\":\"93613\",\"type\":\"Grid\"},{\"attributes\":{\"data\":{\"Variable\":[\"A\",\"B\"],\"bottom\":{\"__ndarray__\":\"AAAAAAAAAAAAAAAAAAAIQA==\",\"dtype\":\"float64\",\"order\":\"little\",\"shape\":[2]},\"index\":[\"Vote Percent\",\"Vote Percent\"],\"top\":{\"__ndarray__\":\"AAAAAAAACEAAAAAAAAAgQA==\",\"dtype\":\"float64\",\"order\":\"little\",\"shape\":[2]},\"value\":[3,5]},\"selected\":{\"id\":\"93633\"},\"selection_policy\":{\"id\":\"93646\"}},\"id\":\"93632\",\"type\":\"ColumnDataSource\"},{\"attributes\":{},\"id\":\"93615\",\"type\":\"BasicTicker\"},{\"attributes\":{},\"id\":\"93612\",\"type\":\"CategoricalTicker\"},{\"attributes\":{},\"id\":\"93641\",\"type\":\"BasicTickFormatter\"},{\"attributes\":{\"margin\":[5,5,5,5],\"name\":\"HSpacer227255\",\"sizing_mode\":\"stretch_width\"},\"id\":\"93598\",\"type\":\"Spacer\"},{\"attributes\":{},\"id\":\"93646\",\"type\":\"UnionRenderers\"},{\"attributes\":{},\"id\":\"93643\",\"type\":\"CategoricalTickFormatter\"},{\"attributes\":{},\"id\":\"93619\",\"type\":\"PanTool\"}],\"root_ids\":[\"93597\"]},\"title\":\"Bokeh Application\",\"version\":\"2.2.3\"}};\n",
       "    var render_items = [{\"docid\":\"ed2c7798-0396-412c-a2aa-ad7ddfd12c1e\",\"root_ids\":[\"93597\"],\"roots\":{\"93597\":\"9e3f1bc5-b9cc-46ca-b8b9-cfdf46f04be0\"}}];\n",
       "    root.Bokeh.embed.embed_items_notebook(docs_json, render_items);\n",
       "  }\n",
       "  if (root.Bokeh !== undefined && root.Bokeh.Panel !== undefined) {\n",
       "    embed_document(root);\n",
       "  } else {\n",
       "    var attempts = 0;\n",
       "    var timer = setInterval(function(root) {\n",
       "      if (root.Bokeh !== undefined && root.Bokeh.Panel !== undefined) {\n",
       "        clearInterval(timer);\n",
       "        embed_document(root);\n",
       "      } else if (document.readyState == \"complete\") {\n",
       "        attempts++;\n",
       "        if (attempts > 100) {\n",
       "          clearInterval(timer);\n",
       "          console.log(\"Bokeh: ERROR: Unable to run BokehJS code because BokehJS library is missing\");\n",
       "        }\n",
       "      }\n",
       "    }, 10, root)\n",
       "  }\n",
       "})(window);</script>"
      ],
      "text/plain": [
       ":Bars   [index,Variable]   (value)"
      ]
     },
     "execution_count": 238,
     "metadata": {
      "application/vnd.holoviews_exec.v0+json": {
       "id": "93597"
      }
     },
     "output_type": "execute_result"
    }
   ],
   "source": [
    "pd.DataFrame.from_dict({'Vote Percent': [3, 5]}, orient='index', columns=['A', 'B']).hvplot.bar(stacked=True).opts(color=hv.Cycle(['#0F2EEE', '#0b0a15', '#DEFB48']))"
   ]
  },
  {
   "cell_type": "code",
   "execution_count": 232,
   "id": "consistent-cable",
   "metadata": {},
   "outputs": [
    {
     "data": {
      "text/html": [
       "<div>\n",
       "<style scoped>\n",
       "    .dataframe tbody tr th:only-of-type {\n",
       "        vertical-align: middle;\n",
       "    }\n",
       "\n",
       "    .dataframe tbody tr th {\n",
       "        vertical-align: top;\n",
       "    }\n",
       "\n",
       "    .dataframe thead th {\n",
       "        text-align: right;\n",
       "    }\n",
       "</style>\n",
       "<table border=\"1\" class=\"dataframe\">\n",
       "  <thead>\n",
       "    <tr style=\"text-align: right;\">\n",
       "      <th></th>\n",
       "      <th>Vote Percent</th>\n",
       "    </tr>\n",
       "  </thead>\n",
       "  <tbody>\n",
       "    <tr>\n",
       "      <th>0</th>\n",
       "      <td>3</td>\n",
       "    </tr>\n",
       "    <tr>\n",
       "      <th>1</th>\n",
       "      <td>5</td>\n",
       "    </tr>\n",
       "  </tbody>\n",
       "</table>\n",
       "</div>"
      ],
      "text/plain": [
       "   Vote Percent\n",
       "0             3\n",
       "1             5"
      ]
     },
     "execution_count": 232,
     "metadata": {},
     "output_type": "execute_result"
    }
   ],
   "source": [
    "pd.DataFrame({'Vote Percent': [3, 5]}, re)"
   ]
  },
  {
   "cell_type": "code",
   "execution_count": 227,
   "id": "medieval-rating",
   "metadata": {},
   "outputs": [],
   "source": [
    "f = FillBar()\n",
    "self = f"
   ]
  },
  {
   "cell_type": "code",
   "execution_count": 228,
   "id": "dynamic-support",
   "metadata": {},
   "outputs": [
    {
     "data": {},
     "metadata": {},
     "output_type": "display_data"
    },
    {
     "data": {},
     "metadata": {},
     "output_type": "display_data"
    },
    {
     "data": {
      "application/vnd.holoviews_exec.v0+json": "",
      "text/html": [
       "<div id='90696'>\n",
       "\n",
       "\n",
       "\n",
       "\n",
       "\n",
       "  <div class=\"bk-root\" id=\"3d2bcb6c-81b0-45d3-9425-df1333687d42\" data-root-id=\"90696\"></div>\n",
       "</div>\n",
       "<script type=\"application/javascript\">(function(root) {\n",
       "  function embed_document(root) {\n",
       "    var docs_json = {\"c74e6eb2-e832-4126-a878-6d4fa0983f2a\":{\"roots\":{\"references\":[{\"attributes\":{\"end\":6.999999999999999,\"reset_end\":6.999999999999999,\"reset_start\":0.0,\"tags\":[[[\"Amount\",\"Amount\",null]]]},\"id\":\"90705\",\"type\":\"Range1d\"},{\"attributes\":{\"source\":{\"id\":\"90736\"}},\"id\":\"90743\",\"type\":\"CDSView\"},{\"attributes\":{\"data_source\":{\"id\":\"90736\"},\"glyph\":{\"id\":\"90739\"},\"hover_glyph\":null,\"muted_glyph\":{\"id\":\"90741\"},\"nonselection_glyph\":{\"id\":\"90740\"},\"selection_glyph\":null,\"view\":{\"id\":\"90743\"}},\"id\":\"90742\",\"type\":\"GlyphRenderer\"},{\"attributes\":{\"client_comm_id\":\"976dcd6e77c846f5a9f1fa02506767ee\",\"comm_id\":\"fc5c739e16944af994833b3fc2e5f107\",\"plot_id\":\"90696\"},\"id\":\"90788\",\"type\":\"panel.models.comm_manager.CommManager\"},{\"attributes\":{},\"id\":\"90725\",\"type\":\"WheelZoomTool\"},{\"attributes\":{},\"id\":\"90723\",\"type\":\"SaveTool\"},{\"attributes\":{\"bottom_units\":\"screen\",\"fill_alpha\":0.5,\"fill_color\":\"lightgrey\",\"left_units\":\"screen\",\"level\":\"overlay\",\"line_alpha\":1.0,\"line_color\":\"black\",\"line_dash\":[4,4],\"line_width\":2,\"right_units\":\"screen\",\"top_units\":\"screen\"},\"id\":\"90728\",\"type\":\"BoxAnnotation\"},{\"attributes\":{\"margin\":[5,10,5,10],\"name\":\"\",\"text\":\"<b>FillBar</b>\"},\"id\":\"90698\",\"type\":\"Div\"},{\"attributes\":{},\"id\":\"90727\",\"type\":\"ResetTool\"},{\"attributes\":{\"data\":{\"Amount\":{\"__ndarray__\":\"7FG4HoXrwT9wPQrXo3AbQA==\",\"dtype\":\"float64\",\"order\":\"little\",\"shape\":[2]},\"Label\":[\"Vote Percent\",\"Vote Percent\"]},\"selected\":{\"id\":\"90737\"},\"selection_policy\":{\"id\":\"90754\"}},\"id\":\"90736\",\"type\":\"ColumnDataSource\"},{\"attributes\":{},\"id\":\"90724\",\"type\":\"PanTool\"},{\"attributes\":{},\"id\":\"90714\",\"type\":\"LinearScale\"},{\"attributes\":{},\"id\":\"90717\",\"type\":\"CategoricalTicker\"},{\"attributes\":{\"fill_alpha\":{\"value\":0.1},\"fill_color\":{\"value\":\"#1f77b3\"},\"line_alpha\":{\"value\":0.1},\"top\":{\"field\":\"Amount\"},\"width\":{\"value\":0.8},\"x\":{\"field\":\"Label\"}},\"id\":\"90740\",\"type\":\"VBar\"},{\"attributes\":{},\"id\":\"90737\",\"type\":\"Selection\"},{\"attributes\":{\"children\":[{\"id\":\"90703\"},{\"id\":\"90707\"}],\"margin\":[0,0,0,0],\"name\":\"Row220783\"},\"id\":\"90702\",\"type\":\"Row\"},{\"attributes\":{\"below\":[{\"id\":\"90716\"}],\"center\":[{\"id\":\"90718\"},{\"id\":\"90722\"}],\"left\":[{\"id\":\"90719\"}],\"margin\":[5,5,5,5],\"min_border_bottom\":10,\"min_border_left\":10,\"min_border_right\":10,\"min_border_top\":10,\"plot_height\":500,\"plot_width\":700,\"renderers\":[{\"id\":\"90742\"}],\"sizing_mode\":\"fixed\",\"title\":{\"id\":\"90708\"},\"toolbar\":{\"id\":\"90729\"},\"x_range\":{\"id\":\"90704\"},\"x_scale\":{\"id\":\"90712\"},\"y_range\":{\"id\":\"90705\"},\"y_scale\":{\"id\":\"90714\"}},\"id\":\"90707\",\"subtype\":\"Figure\",\"type\":\"Plot\"},{\"attributes\":{\"axis\":{\"id\":\"90719\"},\"dimension\":1,\"grid_line_color\":null,\"ticker\":null},\"id\":\"90722\",\"type\":\"Grid\"},{\"attributes\":{},\"id\":\"90744\",\"type\":\"CategoricalTickFormatter\"},{\"attributes\":{},\"id\":\"90720\",\"type\":\"BasicTicker\"},{\"attributes\":{\"children\":[{\"id\":\"90702\"}],\"margin\":[0,0,0,0],\"name\":\"Row220701\"},\"id\":\"90701\",\"type\":\"Row\"},{\"attributes\":{\"factors\":[\"Vote Percent\"],\"tags\":[[[\"Label\",\"Label\",null]]]},\"id\":\"90704\",\"type\":\"FactorRange\"},{\"attributes\":{\"overlay\":{\"id\":\"90728\"}},\"id\":\"90726\",\"type\":\"BoxZoomTool\"},{\"attributes\":{},\"id\":\"90754\",\"type\":\"UnionRenderers\"},{\"attributes\":{\"children\":[{\"id\":\"90698\"},{\"id\":\"90699\"},{\"id\":\"90700\"}],\"margin\":[5,5,5,5],\"min_width\":300,\"name\":\"FillBar\",\"width\":300},\"id\":\"90697\",\"type\":\"Column\"},{\"attributes\":{\"axis\":{\"id\":\"90716\"},\"grid_line_color\":null,\"ticker\":null},\"id\":\"90718\",\"type\":\"Grid\"},{\"attributes\":{\"axis_label\":\"Label\",\"bounds\":\"auto\",\"formatter\":{\"id\":\"90744\"},\"major_label_orientation\":\"horizontal\",\"ticker\":{\"id\":\"90717\"}},\"id\":\"90716\",\"type\":\"CategoricalAxis\"},{\"attributes\":{},\"id\":\"90746\",\"type\":\"BasicTickFormatter\"},{\"attributes\":{\"callback\":null,\"renderers\":[{\"id\":\"90742\"}],\"tags\":[\"hv_created\"],\"tooltips\":[[\"Label\",\"@{Label}\"],[\"Amount\",\"@{Amount}\"]]},\"id\":\"90706\",\"type\":\"HoverTool\"},{\"attributes\":{\"margin\":[5,5,5,5],\"name\":\"DataFrame220776\",\"text\":\"&lt;table border=&quot;0&quot; class=&quot;dataframe panel-df&quot;&gt;\\n  &lt;thead&gt;\\n    &lt;tr style=&quot;text-align: right;&quot;&gt;\\n      &lt;th&gt;&lt;/th&gt;\\n      &lt;th&gt;Amount&lt;/th&gt;\\n    &lt;/tr&gt;\\n    &lt;tr&gt;\\n      &lt;th&gt;Label&lt;/th&gt;\\n      &lt;th&gt;&lt;/th&gt;\\n    &lt;/tr&gt;\\n  &lt;/thead&gt;\\n  &lt;tbody&gt;\\n    &lt;tr&gt;\\n      &lt;th&gt;Vote Percent&lt;/th&gt;\\n      &lt;td&gt;0.14&lt;/td&gt;\\n    &lt;/tr&gt;\\n    &lt;tr&gt;\\n      &lt;th&gt;Vote Percent&lt;/th&gt;\\n      &lt;td&gt;6.86&lt;/td&gt;\\n    &lt;/tr&gt;\\n  &lt;/tbody&gt;\\n&lt;/table&gt;\"},\"id\":\"90703\",\"type\":\"panel.models.markup.HTML\"},{\"attributes\":{\"children\":[{\"id\":\"90697\"},{\"id\":\"90701\"}],\"margin\":[0,0,0,0],\"name\":\"Row220785\"},\"id\":\"90696\",\"type\":\"Row\"},{\"attributes\":{},\"id\":\"90712\",\"type\":\"CategoricalScale\"},{\"attributes\":{\"end\":1,\"format\":\"0[.]00\",\"margin\":[5,10,5,10],\"start\":0,\"step\":0.01,\"title\":\"Min acceptance quorum\",\"value\":0.02,\"value_throttled\":0.02},\"id\":\"90700\",\"type\":\"Slider\"},{\"attributes\":{\"fill_alpha\":{\"value\":0.2},\"fill_color\":{\"value\":\"#1f77b3\"},\"line_alpha\":{\"value\":0.2},\"top\":{\"field\":\"Amount\"},\"width\":{\"value\":0.8},\"x\":{\"field\":\"Label\"}},\"id\":\"90741\",\"type\":\"VBar\"},{\"attributes\":{\"text\":\"\",\"text_color\":{\"value\":\"black\"},\"text_font_size\":{\"value\":\"12pt\"}},\"id\":\"90708\",\"type\":\"Title\"},{\"attributes\":{\"fill_color\":{\"value\":\"#1f77b3\"},\"top\":{\"field\":\"Amount\"},\"width\":{\"value\":0.8},\"x\":{\"field\":\"Label\"}},\"id\":\"90739\",\"type\":\"VBar\"},{\"attributes\":{\"active_drag\":\"auto\",\"active_inspect\":\"auto\",\"active_multi\":null,\"active_scroll\":\"auto\",\"active_tap\":\"auto\",\"tools\":[{\"id\":\"90706\"},{\"id\":\"90723\"},{\"id\":\"90724\"},{\"id\":\"90725\"},{\"id\":\"90726\"},{\"id\":\"90727\"}]},\"id\":\"90729\",\"type\":\"Toolbar\"},{\"attributes\":{\"end\":10,\"format\":\"0[.]00\",\"margin\":[5,10,5,10],\"start\":0,\"step\":0.1,\"title\":\"Support required\",\"value\":7,\"value_throttled\":7},\"id\":\"90699\",\"type\":\"Slider\"},{\"attributes\":{\"axis_label\":\"Amount\",\"bounds\":\"auto\",\"formatter\":{\"id\":\"90746\"},\"major_label_orientation\":\"horizontal\",\"ticker\":{\"id\":\"90720\"}},\"id\":\"90719\",\"type\":\"LinearAxis\"}],\"root_ids\":[\"90696\",\"90788\"]},\"title\":\"Bokeh Application\",\"version\":\"2.2.3\"}};\n",
       "    var render_items = [{\"docid\":\"c74e6eb2-e832-4126-a878-6d4fa0983f2a\",\"root_ids\":[\"90696\"],\"roots\":{\"90696\":\"3d2bcb6c-81b0-45d3-9425-df1333687d42\"}}];\n",
       "    root.Bokeh.embed.embed_items_notebook(docs_json, render_items);\n",
       "  }\n",
       "  if (root.Bokeh !== undefined && root.Bokeh.Panel !== undefined) {\n",
       "    embed_document(root);\n",
       "  } else {\n",
       "    var attempts = 0;\n",
       "    var timer = setInterval(function(root) {\n",
       "      if (root.Bokeh !== undefined && root.Bokeh.Panel !== undefined) {\n",
       "        clearInterval(timer);\n",
       "        embed_document(root);\n",
       "      } else if (document.readyState == \"complete\") {\n",
       "        attempts++;\n",
       "        if (attempts > 100) {\n",
       "          clearInterval(timer);\n",
       "          console.log(\"Bokeh: ERROR: Unable to run BokehJS code because BokehJS library is missing\");\n",
       "        }\n",
       "      }\n",
       "    }, 10, root)\n",
       "  }\n",
       "})(window);</script>"
      ],
      "text/plain": [
       "Row\n",
       "    [0] Column(margin=5, name='FillBar', width=300)\n",
       "        [0] StaticText(value='<b>FillBar</b>')\n",
       "        [1] FloatSlider(end=10, name='Support required', value=7, value_throttled=7)\n",
       "        [2] FloatSlider(name='Min acceptance quorum', step=0.01, value=0.02, value_throttled=0.02)\n",
       "    [1] ParamMethod(method)"
      ]
     },
     "execution_count": 228,
     "metadata": {
      "application/vnd.holoviews_exec.v0+json": {
       "id": "90696"
      }
     },
     "output_type": "execute_result"
    }
   ],
   "source": [
    "pn.Row(f, f.amount_bar)"
   ]
  },
  {
   "cell_type": "code",
   "execution_count": null,
   "id": "verified-reward",
   "metadata": {},
   "outputs": [],
   "source": []
  },
  {
   "cell_type": "code",
   "execution_count": 230,
   "id": "comfortable-boxing",
   "metadata": {},
   "outputs": [
    {
     "data": {
      "text/html": [
       "<div>\n",
       "<style scoped>\n",
       "    .dataframe tbody tr th:only-of-type {\n",
       "        vertical-align: middle;\n",
       "    }\n",
       "\n",
       "    .dataframe tbody tr th {\n",
       "        vertical-align: top;\n",
       "    }\n",
       "\n",
       "    .dataframe thead th {\n",
       "        text-align: right;\n",
       "    }\n",
       "</style>\n",
       "<table border=\"1\" class=\"dataframe\">\n",
       "  <thead>\n",
       "    <tr style=\"text-align: right;\">\n",
       "      <th></th>\n",
       "      <th>mpg</th>\n",
       "      <th>cyl</th>\n",
       "      <th>displ</th>\n",
       "      <th>hp</th>\n",
       "      <th>weight</th>\n",
       "      <th>accel</th>\n",
       "    </tr>\n",
       "    <tr>\n",
       "      <th>yr</th>\n",
       "      <th></th>\n",
       "      <th></th>\n",
       "      <th></th>\n",
       "      <th></th>\n",
       "      <th></th>\n",
       "      <th></th>\n",
       "    </tr>\n",
       "  </thead>\n",
       "  <tbody>\n",
       "    <tr>\n",
       "      <th>70</th>\n",
       "      <td>17.689655</td>\n",
       "      <td>6.758621</td>\n",
       "      <td>281.413793</td>\n",
       "      <td>147.827586</td>\n",
       "      <td>3372.793103</td>\n",
       "      <td>12.948276</td>\n",
       "    </tr>\n",
       "    <tr>\n",
       "      <th>71</th>\n",
       "      <td>21.111111</td>\n",
       "      <td>5.629630</td>\n",
       "      <td>213.888889</td>\n",
       "      <td>107.037037</td>\n",
       "      <td>3030.592593</td>\n",
       "      <td>15.000000</td>\n",
       "    </tr>\n",
       "    <tr>\n",
       "      <th>72</th>\n",
       "      <td>18.714286</td>\n",
       "      <td>5.821429</td>\n",
       "      <td>218.375000</td>\n",
       "      <td>120.178571</td>\n",
       "      <td>3237.714286</td>\n",
       "      <td>15.125000</td>\n",
       "    </tr>\n",
       "    <tr>\n",
       "      <th>73</th>\n",
       "      <td>17.100000</td>\n",
       "      <td>6.375000</td>\n",
       "      <td>256.875000</td>\n",
       "      <td>130.475000</td>\n",
       "      <td>3419.025000</td>\n",
       "      <td>14.312500</td>\n",
       "    </tr>\n",
       "    <tr>\n",
       "      <th>74</th>\n",
       "      <td>22.769231</td>\n",
       "      <td>5.230769</td>\n",
       "      <td>170.653846</td>\n",
       "      <td>94.230769</td>\n",
       "      <td>2878.038462</td>\n",
       "      <td>16.173077</td>\n",
       "    </tr>\n",
       "  </tbody>\n",
       "</table>\n",
       "</div>"
      ],
      "text/plain": [
       "          mpg       cyl       displ          hp       weight      accel\n",
       "yr                                                                     \n",
       "70  17.689655  6.758621  281.413793  147.827586  3372.793103  12.948276\n",
       "71  21.111111  5.629630  213.888889  107.037037  3030.592593  15.000000\n",
       "72  18.714286  5.821429  218.375000  120.178571  3237.714286  15.125000\n",
       "73  17.100000  6.375000  256.875000  130.475000  3419.025000  14.312500\n",
       "74  22.769231  5.230769  170.653846   94.230769  2878.038462  16.173077"
      ]
     },
     "execution_count": 230,
     "metadata": {},
     "output_type": "execute_result"
    }
   ],
   "source": [
    "from bokeh.sampledata.autompg import autompg_clean as df\n",
    "\n",
    "table = df.groupby('yr').mean()\n",
    "table.head()"
   ]
  },
  {
   "cell_type": "code",
   "execution_count": 231,
   "id": "personalized-imperial",
   "metadata": {},
   "outputs": [
    {
     "data": {},
     "metadata": {},
     "output_type": "display_data"
    },
    {
     "data": {
      "application/vnd.holoviews_exec.v0+json": "",
      "text/html": [
       "<div id='93367'>\n",
       "\n",
       "\n",
       "\n",
       "\n",
       "\n",
       "  <div class=\"bk-root\" id=\"673027f5-48cc-4746-a734-96ba21e9febf\" data-root-id=\"93367\"></div>\n",
       "</div>\n",
       "<script type=\"application/javascript\">(function(root) {\n",
       "  function embed_document(root) {\n",
       "    var docs_json = {\"3dcb1694-6007-4fc8-b572-bbb293f75223\":{\"roots\":{\"references\":[{\"attributes\":{\"overlay\":{\"id\":\"93393\"}},\"id\":\"93391\",\"type\":\"BoxZoomTool\"},{\"attributes\":{\"axis\":{\"id\":\"93384\"},\"dimension\":1,\"grid_line_color\":null,\"ticker\":null},\"id\":\"93387\",\"type\":\"Grid\"},{\"attributes\":{},\"id\":\"93385\",\"type\":\"BasicTicker\"},{\"attributes\":{\"callback\":null,\"renderers\":[{\"id\":\"93408\"}],\"tags\":[\"hv_created\"],\"tooltips\":[[\"yr\",\"@{yr}\"],[\"Variable\",\"@{Variable}\"],[\"value\",\"@{value}\"]]},\"id\":\"93371\",\"type\":\"HoverTool\"},{\"attributes\":{\"text\":\"\",\"text_color\":{\"value\":\"black\"},\"text_font_size\":{\"value\":\"12pt\"}},\"id\":\"93373\",\"type\":\"Title\"},{\"attributes\":{\"factors\":[\"mpg\",\"cyl\",\"displ\",\"hp\",\"weight\",\"accel\"],\"palette\":[\"#1f77b3\",\"#ff7e0e\",\"#2ba02b\",\"#d62628\",\"#9367bc\",\"#8c564b\"]},\"id\":\"93401\",\"type\":\"CategoricalColorMapper\"},{\"attributes\":{\"margin\":[5,5,5,5],\"name\":\"HSpacer226729\",\"sizing_mode\":\"stretch_width\"},\"id\":\"93440\",\"type\":\"Spacer\"},{\"attributes\":{\"bottom\":{\"field\":\"bottom\"},\"fill_alpha\":{\"value\":0.1},\"fill_color\":{\"field\":\"Variable\",\"transform\":{\"id\":\"93401\"}},\"line_alpha\":{\"value\":0.1},\"top\":{\"field\":\"top\"},\"width\":{\"value\":0.8},\"x\":{\"field\":\"yr\"}},\"id\":\"93406\",\"type\":\"VBar\"},{\"attributes\":{},\"id\":\"93411\",\"type\":\"BasicTickFormatter\"},{\"attributes\":{\"children\":[{\"id\":\"93368\"},{\"id\":\"93372\"},{\"id\":\"93440\"}],\"margin\":[0,0,0,0],\"name\":\"Row226724\",\"tags\":[\"embedded\"]},\"id\":\"93367\",\"type\":\"Row\"},{\"attributes\":{\"data_source\":{\"id\":\"93402\"},\"glyph\":{\"id\":\"93405\"},\"hover_glyph\":null,\"muted_glyph\":{\"id\":\"93407\"},\"nonselection_glyph\":{\"id\":\"93406\"},\"selection_glyph\":null,\"view\":{\"id\":\"93409\"}},\"id\":\"93408\",\"type\":\"GlyphRenderer\"},{\"attributes\":{},\"id\":\"93377\",\"type\":\"CategoricalScale\"},{\"attributes\":{\"source\":{\"id\":\"93402\"}},\"id\":\"93409\",\"type\":\"CDSView\"},{\"attributes\":{\"factors\":[\"70\",\"71\",\"72\",\"73\",\"74\",\"75\",\"76\",\"77\",\"78\",\"79\",\"80\",\"81\",\"82\"],\"tags\":[[[\"yr\",\"yr\",null]]]},\"id\":\"93369\",\"type\":\"FactorRange\"},{\"attributes\":{\"axis\":{\"id\":\"93381\"},\"grid_line_color\":null,\"ticker\":null},\"id\":\"93383\",\"type\":\"Grid\"},{\"attributes\":{},\"id\":\"93392\",\"type\":\"ResetTool\"},{\"attributes\":{\"below\":[{\"id\":\"93381\"}],\"center\":[{\"id\":\"93383\"},{\"id\":\"93387\"},{\"id\":\"93418\"}],\"left\":[{\"id\":\"93384\"}],\"margin\":[5,5,5,5],\"min_border_bottom\":10,\"min_border_left\":10,\"min_border_right\":10,\"min_border_top\":10,\"plot_height\":500,\"plot_width\":700,\"renderers\":[{\"id\":\"93408\"}],\"sizing_mode\":\"fixed\",\"title\":{\"id\":\"93373\"},\"toolbar\":{\"id\":\"93394\"},\"x_range\":{\"id\":\"93369\"},\"x_scale\":{\"id\":\"93377\"},\"y_range\":{\"id\":\"93370\"},\"y_scale\":{\"id\":\"93379\"}},\"id\":\"93372\",\"subtype\":\"Figure\",\"type\":\"Plot\"},{\"attributes\":{},\"id\":\"93379\",\"type\":\"LinearScale\"},{\"attributes\":{\"data\":{\"Variable\":[\"mpg\",\"mpg\",\"mpg\",\"mpg\",\"mpg\",\"mpg\",\"mpg\",\"mpg\",\"mpg\",\"mpg\",\"mpg\",\"mpg\",\"mpg\",\"cyl\",\"cyl\",\"cyl\",\"cyl\",\"cyl\",\"cyl\",\"cyl\",\"cyl\",\"cyl\",\"cyl\",\"cyl\",\"cyl\",\"cyl\",\"displ\",\"displ\",\"displ\",\"displ\",\"displ\",\"displ\",\"displ\",\"displ\",\"displ\",\"displ\",\"displ\",\"displ\",\"displ\",\"hp\",\"hp\",\"hp\",\"hp\",\"hp\",\"hp\",\"hp\",\"hp\",\"hp\",\"hp\",\"hp\",\"hp\",\"hp\",\"weight\",\"weight\",\"weight\",\"weight\",\"weight\",\"weight\",\"weight\",\"weight\",\"weight\",\"weight\",\"weight\",\"weight\",\"weight\",\"accel\",\"accel\",\"accel\",\"accel\",\"accel\",\"accel\",\"accel\",\"accel\",\"accel\",\"accel\",\"accel\",\"accel\",\"accel\"],\"bottom\":{\"__ndarray__\":\"AAAAAAAAAAAAAAAAAAAAAAAAAAAAAAAAAAAAAAAAAAAAAAAAAAAAAAAAAAAAAAAAAAAAAAAAAAAAAAAAAAAAAAAAAAAAAAAAAAAAAAAAAAAAAAAAAAAAAAAAAAAAAAAAAAAAAAAAAAD7pE/6pA84QAAAAAAAAEBA+Yqv+IovPkBuilHD3+ZAQFd9qaDVFzlAAAAAAABgN0Bu27Zt27YyQERERERERDRAT+zETuzENkCamZmZmRkxQMdxHMdxHDVA1AjLPY2wMUDT0tLS0pI1QG7btm3b1jxAoQ7qoA5qQUCdKw9I1vlCQCK7NlGy6z5AwhZswRZsPUB5eHh4eDg7QJqZmZmZGUJAAAAAAAAAPECamZmZmXk3QJIkSZIkiThA2ktoL6G9OkAkLPc0wnI4QN7d3d3d3TlAqqqqqqqKZEDNzMzMzGxlQA1/m2LUQGNAfjjg8YezbUD0SZ/0SedpQLdt27Zth2tAeHh4eHggbEDNzMzMzOxsQE/sxE7s1GhAmpmZmZmFcUCSJEmSJF1uQEJ7Ce0lFG5AsNzTCMsdc0Bg8RVf8Y1vQASSda488GxANlGyaxMtdUCZmZmZmbluQGzBFmzBLnNAbtu2bdtUdEA0MzMzM615QHh3d3d3x3RAYid2YidOckC3bdu2bbF2QKqqqqqqunVAjLDc0whbfEAeHh4eHmJ0QDMzMzMz4qRAMBW0+lKEqkCg9EmfdMGoQEmSJElS9alAPDw8PLyZqkA0MzMzs+utQJ3YiZ3YxahAbtu2bZshrEBoL6G9hGSqQHJPIyz35K1AhDqogzq9pUCJiIiIiGqrQO/u7u7u76RA\",\"dtype\":\"float64\",\"order\":\"little\",\"shape\":[78]},\"top\":{\"__ndarray__\":\"1AjLPY2wMUAAAAAAAABAQPmKr/iKLz5AbopRw9/mQED7pE/6pA84QAAAAAAAYDdAV32poNUXOUBEREREREQ0QE/sxE7sxDZAmpmZmZkZMUBu27Zt27YyQMdxHMdxHDVA09LS0tKSNUDCFmzBFmw9QJqZmZmZGUJAoQ7qoA5qQUCdKw9I1vlCQCK7NlGy6z5Abtu2bdvWPECSJEmSJIk4QN7d3d3d3TlAAAAAAAAAPECamZmZmXk3QNpLaC+hvTpAJCz3NMJyOEB5eHh4eDg7QLdt27Zth2tAzczMzMxsZUANf5ti1EBjQH444PGHs21A9Emf9EnnaUB4eHh4eCBsQKqqqqqqimRAT+zETuzUaECamZmZmYVxQJIkSZIkXW5AQnsJ7SUUbkCw3NMIyx1zQM3MzMzM7GxAmZmZmZm5bkBg8RVf8Y1vQASSda488GxANlGyaxMtdUBswRZswS5zQG7btm3bVHRAHh4eHh5idEB4d3d3d8d0QGIndmInTnJANDMzMzOteUC3bdu2bbF2QKqqqqqqunVAjLDc0whbfECEOqiDOr2lQDMzMzMz4qRAMBW0+lKEqkDv7u7u7u+kQKD0SZ90wahASZIkSVL1qUA0MzMzs+utQImIiIiIaqtAndiJndjFqEBu27ZtmyGsQGgvob2EZKpAck8jLPfkrUA8PDw8vJmqQASSda48BKVAO28xpPOjqkASEREREeGoQF/xFV8xFKpAHh4eHp65qkA0MzMzUwiuQDuxEzsx5qhAbtu2bds/rEBoL6G9hIKqQMo9jbDc/q1A6qAO6uDdpUAjIiIiooqrQNtApw30EKVA\",\"dtype\":\"float64\",\"order\":\"little\",\"shape\":[78]},\"value\":{\"__ndarray__\":\"1AjLPY2wMUAAAAAAAABAQPmKr/iKLz5AbopRw9/mQED7pE/6pA84QAAAAAAAYDdAV32poNUXOUBEREREREQ0QE/sxE7sxDZAmpmZmZkZMUBu27Zt27YyQMdxHMdxHDVA09LS0tKSNUAcx3Ecx3EVQM3MzMzMzBBAJUmSJEmSEkB7Ce0ltJcQQCz3NMJyTxdAt23btm3bFUCSJEmSJEkXQGZmZmZmZhZAxU7sxE7sFEAAAAAAAIAZQExoL6G9hBZAPo2w3NMIG0CXlpaWlpYWQEmSJEmS7GdAJUmSJEkSYUBMaC+hvQRdQBphuacR1mlAHMdxHMc5ZkBpaWlpabloQEREREREBGBAT+zETuxUZUAAAAAAAA5wQAAAAAAATGtAx3Ecx3G8akDuaYTlnpZxQBERERERsWlA3t3d3d1dVEAlSZIkSUJUQO0ltJfQXlNA3dMIyz1NWUDHcRzHcexYQEmSJEmSRFpAiIeHh4dHWUBERERERERZQOzETuzEjldAMzMzMzNPYEC3bdu2bQteQCa0l9BewlpAuacRlnt6YkBu27ZtW8SjQBPaS2gvE6NACcs9jbDep0BVVVVVVQSjQHIcx3GcW6ZA27Zt27Zqp0DNzMzMDLaqQJqZmZmZ0ahAsRM7sRN8pkC3bdu2bUupQBPaS2gvradAYbmnEZZZqkB4eHh4eA2oQExoL6G9BDFAlwpafamgL0DFcRzHcZwvQPEVX/EV3y5A4OHh4eHhL0AAAAAAAKAsQMVO7MROLDBAAAAAAABALkAAAAAAAAAuQEdY7mmE5SlANTMzMzNTMEDNzMzMzAwwQMP1KFyPgjBA\",\"dtype\":\"float64\",\"order\":\"little\",\"shape\":[78]},\"yr\":[\"70\",\"82\",\"81\",\"80\",\"78\",\"77\",\"79\",\"75\",\"74\",\"73\",\"72\",\"71\",\"76\",\"78\",\"82\",\"81\",\"80\",\"79\",\"77\",\"72\",\"75\",\"74\",\"73\",\"71\",\"70\",\"76\",\"77\",\"81\",\"80\",\"79\",\"78\",\"76\",\"82\",\"74\",\"73\",\"72\",\"71\",\"70\",\"75\",\"82\",\"81\",\"80\",\"79\",\"78\",\"77\",\"76\",\"75\",\"74\",\"73\",\"72\",\"71\",\"70\",\"81\",\"80\",\"79\",\"82\",\"78\",\"77\",\"73\",\"75\",\"74\",\"72\",\"71\",\"70\",\"76\",\"80\",\"79\",\"78\",\"77\",\"76\",\"73\",\"74\",\"72\",\"71\",\"70\",\"81\",\"75\",\"82\"]},\"selected\":{\"id\":\"93403\"},\"selection_policy\":{\"id\":\"93416\"}},\"id\":\"93402\",\"type\":\"ColumnDataSource\"},{\"attributes\":{},\"id\":\"93416\",\"type\":\"UnionRenderers\"},{\"attributes\":{\"active_drag\":\"auto\",\"active_inspect\":\"auto\",\"active_multi\":null,\"active_scroll\":\"auto\",\"active_tap\":\"auto\",\"tools\":[{\"id\":\"93371\"},{\"id\":\"93388\"},{\"id\":\"93389\"},{\"id\":\"93390\"},{\"id\":\"93391\"},{\"id\":\"93392\"}]},\"id\":\"93394\",\"type\":\"Toolbar\"},{\"attributes\":{\"axis_label\":\"\",\"bounds\":\"auto\",\"formatter\":{\"id\":\"93411\"},\"major_label_orientation\":\"horizontal\",\"ticker\":{\"id\":\"93385\"}},\"id\":\"93384\",\"type\":\"LinearAxis\"},{\"attributes\":{},\"id\":\"93390\",\"type\":\"WheelZoomTool\"},{\"attributes\":{},\"id\":\"93403\",\"type\":\"Selection\"},{\"attributes\":{\"bottom_units\":\"screen\",\"fill_alpha\":0.5,\"fill_color\":\"lightgrey\",\"left_units\":\"screen\",\"level\":\"overlay\",\"line_alpha\":1.0,\"line_color\":\"black\",\"line_dash\":[4,4],\"line_width\":2,\"right_units\":\"screen\",\"top_units\":\"screen\"},\"id\":\"93393\",\"type\":\"BoxAnnotation\"},{\"attributes\":{\"margin\":[5,5,5,5],\"name\":\"HSpacer226728\",\"sizing_mode\":\"stretch_width\"},\"id\":\"93368\",\"type\":\"Spacer\"},{\"attributes\":{},\"id\":\"93413\",\"type\":\"CategoricalTickFormatter\"},{\"attributes\":{},\"id\":\"93382\",\"type\":\"CategoricalTicker\"},{\"attributes\":{\"bottom\":{\"field\":\"bottom\"},\"fill_alpha\":{\"value\":0.2},\"fill_color\":{\"field\":\"Variable\",\"transform\":{\"id\":\"93401\"}},\"line_alpha\":{\"value\":0.2},\"top\":{\"field\":\"top\"},\"width\":{\"value\":0.8},\"x\":{\"field\":\"yr\"}},\"id\":\"93407\",\"type\":\"VBar\"},{\"attributes\":{\"axis_label\":\"yr\",\"bounds\":\"auto\",\"formatter\":{\"id\":\"93413\"},\"major_label_orientation\":\"horizontal\",\"ticker\":{\"id\":\"93382\"}},\"id\":\"93381\",\"type\":\"CategoricalAxis\"},{\"attributes\":{\"end\":3959.5668981481485,\"reset_end\":3959.5668981481485,\"reset_start\":0.0,\"tags\":[[[\"value\",\"value\",null]]]},\"id\":\"93370\",\"type\":\"Range1d\"},{\"attributes\":{\"bottom\":{\"field\":\"bottom\"},\"fill_color\":{\"field\":\"Variable\",\"transform\":{\"id\":\"93401\"}},\"top\":{\"field\":\"top\"},\"width\":{\"value\":0.8},\"x\":{\"field\":\"yr\"}},\"id\":\"93405\",\"type\":\"VBar\"},{\"attributes\":{},\"id\":\"93389\",\"type\":\"PanTool\"},{\"attributes\":{\"items\":[{\"id\":\"93419\"}],\"location\":\"top_left\"},\"id\":\"93418\",\"type\":\"Legend\"},{\"attributes\":{\"label\":{\"field\":\"Variable\"},\"renderers\":[{\"id\":\"93408\"}]},\"id\":\"93419\",\"type\":\"LegendItem\"},{\"attributes\":{},\"id\":\"93388\",\"type\":\"SaveTool\"}],\"root_ids\":[\"93367\"]},\"title\":\"Bokeh Application\",\"version\":\"2.2.3\"}};\n",
       "    var render_items = [{\"docid\":\"3dcb1694-6007-4fc8-b572-bbb293f75223\",\"root_ids\":[\"93367\"],\"roots\":{\"93367\":\"673027f5-48cc-4746-a734-96ba21e9febf\"}}];\n",
       "    root.Bokeh.embed.embed_items_notebook(docs_json, render_items);\n",
       "  }\n",
       "  if (root.Bokeh !== undefined && root.Bokeh.Panel !== undefined) {\n",
       "    embed_document(root);\n",
       "  } else {\n",
       "    var attempts = 0;\n",
       "    var timer = setInterval(function(root) {\n",
       "      if (root.Bokeh !== undefined && root.Bokeh.Panel !== undefined) {\n",
       "        clearInterval(timer);\n",
       "        embed_document(root);\n",
       "      } else if (document.readyState == \"complete\") {\n",
       "        attempts++;\n",
       "        if (attempts > 100) {\n",
       "          clearInterval(timer);\n",
       "          console.log(\"Bokeh: ERROR: Unable to run BokehJS code because BokehJS library is missing\");\n",
       "        }\n",
       "      }\n",
       "    }, 10, root)\n",
       "  }\n",
       "})(window);</script>"
      ],
      "text/plain": [
       ":Bars   [yr,Variable]   (value)"
      ]
     },
     "execution_count": 231,
     "metadata": {
      "application/vnd.holoviews_exec.v0+json": {
       "id": "93367"
      }
     },
     "output_type": "execute_result"
    }
   ],
   "source": [
    "table.hvplot.bar(stacked=True, height=500, legend='top_left')"
   ]
  },
  {
   "cell_type": "code",
   "execution_count": 229,
   "id": "coordinate-stomach",
   "metadata": {},
   "outputs": [],
   "source": [
    "label = self.param['support_required'].doc\n",
    "bounds = self.param['support_required'].bounds\n",
    "bar = pd.DataFrame([\n",
    "    ('Vote Percent', self.support_required * self.min_acceptance_quorum), \n",
    "    ('Vote Percent', self.support_required * (1 - self.min_acceptance_quorum))\n",
    "], columns=['Label', 'Amount'])\n",
    "bar = bar.set_index('Label')\n",
    "bar_plot = pn.Row(bar, bar.hvplot.bar(stacked=True, height=500, legend='top_left').opts(color=hv.Cycle(['#0F2EEE', '#0b0a15', '#DEFB48'])))"
   ]
  },
  {
   "cell_type": "code",
   "execution_count": null,
   "id": "starting-director",
   "metadata": {},
   "outputs": [],
   "source": []
  },
  {
   "cell_type": "code",
   "execution_count": 211,
   "id": "average-integration",
   "metadata": {},
   "outputs": [
    {
     "data": {},
     "metadata": {},
     "output_type": "display_data"
    },
    {
     "data": {
      "application/vnd.holoviews_exec.v0+json": "",
      "text/html": [
       "<div id='69889'>\n",
       "\n",
       "\n",
       "\n",
       "\n",
       "\n",
       "  <div class=\"bk-root\" id=\"a997e744-e5e4-4a9e-a037-9806a516d4d2\" data-root-id=\"69889\"></div>\n",
       "</div>\n",
       "<script type=\"application/javascript\">(function(root) {\n",
       "  function embed_document(root) {\n",
       "    var docs_json = {\"71d91fb8-bbc5-4cf4-ac9e-6de5583b6cdd\":{\"roots\":{\"references\":[{\"attributes\":{\"fill_alpha\":{\"value\":0.2},\"fill_color\":{\"value\":\"#0F2EEE\"},\"line_alpha\":{\"value\":0.2},\"top\":{\"field\":\"Amount\"},\"width\":{\"value\":0.8},\"x\":{\"field\":\"Label\"}},\"id\":\"69928\",\"type\":\"VBar\"},{\"attributes\":{\"margin\":[5,5,5,5],\"name\":\"HSpacer165708\",\"sizing_mode\":\"stretch_width\"},\"id\":\"69951\",\"type\":\"Spacer\"},{\"attributes\":{\"overlay\":{\"id\":\"69915\"}},\"id\":\"69913\",\"type\":\"BoxZoomTool\"},{\"attributes\":{\"below\":[{\"id\":\"69903\"}],\"center\":[{\"id\":\"69905\"},{\"id\":\"69909\"}],\"left\":[{\"id\":\"69906\"}],\"margin\":[5,5,5,5],\"min_border_bottom\":10,\"min_border_left\":10,\"min_border_right\":10,\"min_border_top\":10,\"plot_height\":300,\"plot_width\":700,\"renderers\":[{\"id\":\"69929\"}],\"sizing_mode\":\"fixed\",\"title\":{\"id\":\"69895\"},\"toolbar\":{\"id\":\"69916\"},\"x_range\":{\"id\":\"69891\"},\"x_scale\":{\"id\":\"69899\"},\"y_range\":{\"id\":\"69892\"},\"y_scale\":{\"id\":\"69901\"}},\"id\":\"69894\",\"subtype\":\"Figure\",\"type\":\"Plot\"},{\"attributes\":{\"active_drag\":\"auto\",\"active_inspect\":\"auto\",\"active_multi\":null,\"active_scroll\":\"auto\",\"active_tap\":\"auto\",\"tools\":[{\"id\":\"69893\"},{\"id\":\"69910\"},{\"id\":\"69911\"},{\"id\":\"69912\"},{\"id\":\"69913\"},{\"id\":\"69914\"}]},\"id\":\"69916\",\"type\":\"Toolbar\"},{\"attributes\":{},\"id\":\"69911\",\"type\":\"PanTool\"},{\"attributes\":{\"children\":[{\"id\":\"69890\"},{\"id\":\"69894\"},{\"id\":\"69951\"}],\"margin\":[0,0,0,0],\"name\":\"Row165703\",\"tags\":[\"embedded\"]},\"id\":\"69889\",\"type\":\"Row\"},{\"attributes\":{\"bottom_units\":\"screen\",\"fill_alpha\":0.5,\"fill_color\":\"lightgrey\",\"left_units\":\"screen\",\"level\":\"overlay\",\"line_alpha\":1.0,\"line_color\":\"black\",\"line_dash\":[4,4],\"line_width\":2,\"right_units\":\"screen\",\"top_units\":\"screen\"},\"id\":\"69915\",\"type\":\"BoxAnnotation\"},{\"attributes\":{\"callback\":null,\"renderers\":[{\"id\":\"69929\"}],\"tags\":[\"hv_created\"],\"tooltips\":[[\"Label\",\"@{Label}\"],[\"Amount\",\"@{Amount}\"]]},\"id\":\"69893\",\"type\":\"HoverTool\"},{\"attributes\":{\"fill_alpha\":{\"value\":0.1},\"fill_color\":{\"value\":\"#0F2EEE\"},\"line_alpha\":{\"value\":0.1},\"top\":{\"field\":\"Amount\"},\"width\":{\"value\":0.8},\"x\":{\"field\":\"Label\"}},\"id\":\"69927\",\"type\":\"VBar\"},{\"attributes\":{\"factors\":[\"Amount\"],\"tags\":[[[\"Label\",\"Label\",null]]]},\"id\":\"69891\",\"type\":\"FactorRange\"},{\"attributes\":{\"axis\":{\"id\":\"69903\"},\"grid_line_color\":null,\"ticker\":null},\"id\":\"69905\",\"type\":\"Grid\"},{\"attributes\":{\"end\":6.999999999999999,\"reset_end\":6.999999999999999,\"reset_start\":0.0,\"tags\":[[[\"Amount\",\"Amount\",null]]]},\"id\":\"69892\",\"type\":\"Range1d\"},{\"attributes\":{},\"id\":\"69910\",\"type\":\"SaveTool\"},{\"attributes\":{\"axis_label\":\"Amount\",\"bounds\":\"auto\",\"formatter\":{\"id\":\"69933\"},\"major_label_orientation\":\"horizontal\",\"ticker\":{\"id\":\"69907\"}},\"id\":\"69906\",\"type\":\"LinearAxis\"},{\"attributes\":{},\"id\":\"69907\",\"type\":\"BasicTicker\"},{\"attributes\":{},\"id\":\"69941\",\"type\":\"UnionRenderers\"},{\"attributes\":{\"text\":\"\",\"text_color\":{\"value\":\"black\"},\"text_font_size\":{\"value\":\"12pt\"}},\"id\":\"69895\",\"type\":\"Title\"},{\"attributes\":{},\"id\":\"69912\",\"type\":\"WheelZoomTool\"},{\"attributes\":{},\"id\":\"69904\",\"type\":\"CategoricalTicker\"},{\"attributes\":{},\"id\":\"69924\",\"type\":\"Selection\"},{\"attributes\":{\"data\":{\"Amount\":{\"__ndarray__\":\"7FG4HoXrwT9wPQrXo3AbQA==\",\"dtype\":\"float64\",\"order\":\"little\",\"shape\":[2]},\"Label\":[\"Amount\",\"Amount\"]},\"selected\":{\"id\":\"69924\"},\"selection_policy\":{\"id\":\"69941\"}},\"id\":\"69923\",\"type\":\"ColumnDataSource\"},{\"attributes\":{\"margin\":[5,5,5,5],\"name\":\"HSpacer165707\",\"sizing_mode\":\"stretch_width\"},\"id\":\"69890\",\"type\":\"Spacer\"},{\"attributes\":{},\"id\":\"69899\",\"type\":\"CategoricalScale\"},{\"attributes\":{},\"id\":\"69931\",\"type\":\"CategoricalTickFormatter\"},{\"attributes\":{\"axis_label\":\"Label\",\"bounds\":\"auto\",\"formatter\":{\"id\":\"69931\"},\"major_label_orientation\":\"horizontal\",\"ticker\":{\"id\":\"69904\"}},\"id\":\"69903\",\"type\":\"CategoricalAxis\"},{\"attributes\":{\"fill_color\":{\"value\":\"#0F2EEE\"},\"top\":{\"field\":\"Amount\"},\"width\":{\"value\":0.8},\"x\":{\"field\":\"Label\"}},\"id\":\"69926\",\"type\":\"VBar\"},{\"attributes\":{\"source\":{\"id\":\"69923\"}},\"id\":\"69930\",\"type\":\"CDSView\"},{\"attributes\":{\"axis\":{\"id\":\"69906\"},\"dimension\":1,\"grid_line_color\":null,\"ticker\":null},\"id\":\"69909\",\"type\":\"Grid\"},{\"attributes\":{},\"id\":\"69901\",\"type\":\"LinearScale\"},{\"attributes\":{\"data_source\":{\"id\":\"69923\"},\"glyph\":{\"id\":\"69926\"},\"hover_glyph\":null,\"muted_glyph\":{\"id\":\"69928\"},\"nonselection_glyph\":{\"id\":\"69927\"},\"selection_glyph\":null,\"view\":{\"id\":\"69930\"}},\"id\":\"69929\",\"type\":\"GlyphRenderer\"},{\"attributes\":{},\"id\":\"69914\",\"type\":\"ResetTool\"},{\"attributes\":{},\"id\":\"69933\",\"type\":\"BasicTickFormatter\"}],\"root_ids\":[\"69889\"]},\"title\":\"Bokeh Application\",\"version\":\"2.2.3\"}};\n",
       "    var render_items = [{\"docid\":\"71d91fb8-bbc5-4cf4-ac9e-6de5583b6cdd\",\"root_ids\":[\"69889\"],\"roots\":{\"69889\":\"a997e744-e5e4-4a9e-a037-9806a516d4d2\"}}];\n",
       "    root.Bokeh.embed.embed_items_notebook(docs_json, render_items);\n",
       "  }\n",
       "  if (root.Bokeh !== undefined && root.Bokeh.Panel !== undefined) {\n",
       "    embed_document(root);\n",
       "  } else {\n",
       "    var attempts = 0;\n",
       "    var timer = setInterval(function(root) {\n",
       "      if (root.Bokeh !== undefined && root.Bokeh.Panel !== undefined) {\n",
       "        clearInterval(timer);\n",
       "        embed_document(root);\n",
       "      } else if (document.readyState == \"complete\") {\n",
       "        attempts++;\n",
       "        if (attempts > 100) {\n",
       "          clearInterval(timer);\n",
       "          console.log(\"Bokeh: ERROR: Unable to run BokehJS code because BokehJS library is missing\");\n",
       "        }\n",
       "      }\n",
       "    }, 10, root)\n",
       "  }\n",
       "})(window);</script>"
      ],
      "text/plain": [
       ":Bars   [Label]   (Amount)"
      ]
     },
     "execution_count": 211,
     "metadata": {
      "application/vnd.holoviews_exec.v0+json": {
       "id": "69889"
      }
     },
     "output_type": "execute_result"
    }
   ],
   "source": [
    "label = self.param['support_required'].doc\n",
    "bounds = self.param['support_required'].bounds\n",
    "bar = pd.DataFrame([\n",
    "    ('Amount', self.support_required * self.min_acceptance_quorum), \n",
    "    ('Amount', self.support_required * (1 - self.min_acceptance_quorum))\n",
    "], columns=['Label', 'Amount'])\n",
    "bar.set_index('Label',append=True).hvplot.bar(stacked=True).opts(color=hv.Cycle(['#0F2EEE', '#0b0a15', '#DEFB48']))"
   ]
  },
  {
   "cell_type": "code",
   "execution_count": 212,
   "id": "sporting-phoenix",
   "metadata": {},
   "outputs": [
    {
     "data": {},
     "metadata": {},
     "output_type": "display_data"
    },
    {
     "data": {},
     "metadata": {},
     "output_type": "display_data"
    },
    {
     "data": {
      "application/vnd.holoviews_exec.v0+json": "",
      "text/html": [
       "<div id='69993'>\n",
       "\n",
       "\n",
       "\n",
       "\n",
       "\n",
       "  <div class=\"bk-root\" id=\"f281331f-af2a-43f3-a1ef-491086b074f0\" data-root-id=\"69993\"></div>\n",
       "</div>\n",
       "<script type=\"application/javascript\">(function(root) {\n",
       "  function embed_document(root) {\n",
       "    var docs_json = {\"521481f9-5dcf-4ee5-9a29-aa240fa4ba65\":{\"roots\":{\"references\":[{\"attributes\":{\"text\":\"\",\"text_color\":{\"value\":\"black\"},\"text_font_size\":{\"value\":\"12pt\"}},\"id\":\"70006\",\"type\":\"Title\"},{\"attributes\":{\"fill_alpha\":{\"value\":0.1},\"fill_color\":{\"value\":\"#0F2EEE\"},\"line_alpha\":{\"value\":0.1},\"top\":{\"field\":\"Amount\"},\"width\":{\"value\":0.8},\"x\":{\"field\":\"Label\"}},\"id\":\"70038\",\"type\":\"VBar\"},{\"attributes\":{},\"id\":\"70042\",\"type\":\"CategoricalTickFormatter\"},{\"attributes\":{},\"id\":\"70010\",\"type\":\"CategoricalScale\"},{\"attributes\":{},\"id\":\"70015\",\"type\":\"CategoricalTicker\"},{\"attributes\":{\"children\":[{\"id\":\"69995\"},{\"id\":\"69996\"},{\"id\":\"69997\"}],\"margin\":[5,5,5,5],\"min_width\":300,\"name\":\"FillBar\",\"width\":300},\"id\":\"69994\",\"type\":\"Column\"},{\"attributes\":{\"fill_alpha\":{\"value\":0.2},\"fill_color\":{\"value\":\"#0F2EEE\"},\"line_alpha\":{\"value\":0.2},\"top\":{\"field\":\"Amount\"},\"width\":{\"value\":0.8},\"x\":{\"field\":\"Label\"}},\"id\":\"70039\",\"type\":\"VBar\"},{\"attributes\":{\"children\":[{\"id\":\"69994\"},{\"id\":\"69998\"}],\"margin\":[0,0,0,0],\"name\":\"Row165978\"},\"id\":\"69993\",\"type\":\"Row\"},{\"attributes\":{\"children\":[{\"id\":\"69999\"}],\"margin\":[0,0,0,0],\"name\":\"Row165848\"},\"id\":\"69998\",\"type\":\"Row\"},{\"attributes\":{\"client_comm_id\":\"f24f09aa86db4ddc94b2536747aeafe3\",\"comm_id\":\"0e0b6c5f155d44b18481410ee0fd272a\",\"plot_id\":\"69993\"},\"id\":\"70086\",\"type\":\"panel.models.comm_manager.CommManager\"},{\"attributes\":{},\"id\":\"70022\",\"type\":\"PanTool\"},{\"attributes\":{\"children\":[{\"id\":\"70000\"},{\"id\":\"70001\"},{\"id\":\"70005\"}],\"margin\":[0,0,0,0],\"name\":\"Row165976\"},\"id\":\"69999\",\"type\":\"Row\"},{\"attributes\":{\"margin\":[5,5,5,5],\"name\":\"DataFrame165969\",\"text\":\"&lt;table border=&quot;0&quot; class=&quot;dataframe panel-df&quot;&gt;\\n  &lt;thead&gt;\\n    &lt;tr style=&quot;text-align: right;&quot;&gt;\\n      &lt;th&gt;&lt;/th&gt;\\n      &lt;th&gt;0&lt;/th&gt;\\n    &lt;/tr&gt;\\n  &lt;/thead&gt;\\n  &lt;tbody&gt;\\n    &lt;tr&gt;\\n      &lt;th&gt;Label&lt;/th&gt;\\n      &lt;td&gt;AmountAmount&lt;/td&gt;\\n    &lt;/tr&gt;\\n    &lt;tr&gt;\\n      &lt;th&gt;Amount&lt;/th&gt;\\n      &lt;td&gt;7.0&lt;/td&gt;\\n    &lt;/tr&gt;\\n  &lt;/tbody&gt;\\n&lt;/table&gt;\"},\"id\":\"70001\",\"type\":\"panel.models.markup.HTML\"},{\"attributes\":{\"end\":10,\"format\":\"0[.]00\",\"margin\":[5,10,5,10],\"start\":0,\"step\":0.1,\"title\":\"Support required\",\"value\":7,\"value_throttled\":7},\"id\":\"69996\",\"type\":\"Slider\"},{\"attributes\":{},\"id\":\"70012\",\"type\":\"LinearScale\"},{\"attributes\":{\"source\":{\"id\":\"70034\"}},\"id\":\"70041\",\"type\":\"CDSView\"},{\"attributes\":{\"margin\":[5,10,5,10],\"name\":\"\",\"text\":\"<b>FillBar</b>\"},\"id\":\"69995\",\"type\":\"Div\"},{\"attributes\":{\"data_source\":{\"id\":\"70034\"},\"glyph\":{\"id\":\"70037\"},\"hover_glyph\":null,\"muted_glyph\":{\"id\":\"70039\"},\"nonselection_glyph\":{\"id\":\"70038\"},\"selection_glyph\":null,\"view\":{\"id\":\"70041\"}},\"id\":\"70040\",\"type\":\"GlyphRenderer\"},{\"attributes\":{},\"id\":\"70021\",\"type\":\"SaveTool\"},{\"attributes\":{\"end\":1,\"format\":\"0[.]00\",\"margin\":[5,10,5,10],\"start\":0,\"step\":0.01,\"title\":\"Min acceptance quorum\",\"value\":0.02,\"value_throttled\":0.02},\"id\":\"69997\",\"type\":\"Slider\"},{\"attributes\":{},\"id\":\"70025\",\"type\":\"ResetTool\"},{\"attributes\":{\"axis\":{\"id\":\"70014\"},\"grid_line_color\":null,\"ticker\":null},\"id\":\"70016\",\"type\":\"Grid\"},{\"attributes\":{},\"id\":\"70018\",\"type\":\"BasicTicker\"},{\"attributes\":{\"data\":{\"Amount\":{\"__ndarray__\":\"7FG4HoXrwT9wPQrXo3AbQA==\",\"dtype\":\"float64\",\"order\":\"little\",\"shape\":[2]},\"Label\":[\"Amount\",\"Amount\"]},\"selected\":{\"id\":\"70035\"},\"selection_policy\":{\"id\":\"70052\"}},\"id\":\"70034\",\"type\":\"ColumnDataSource\"},{\"attributes\":{},\"id\":\"70023\",\"type\":\"WheelZoomTool\"},{\"attributes\":{\"axis_label\":\"Label\",\"bounds\":\"auto\",\"formatter\":{\"id\":\"70042\"},\"major_label_orientation\":\"horizontal\",\"ticker\":{\"id\":\"70015\"}},\"id\":\"70014\",\"type\":\"CategoricalAxis\"},{\"attributes\":{},\"id\":\"70052\",\"type\":\"UnionRenderers\"},{\"attributes\":{\"below\":[{\"id\":\"70014\"}],\"center\":[{\"id\":\"70016\"},{\"id\":\"70020\"}],\"left\":[{\"id\":\"70017\"}],\"margin\":[5,5,5,5],\"min_border_bottom\":10,\"min_border_left\":10,\"min_border_right\":10,\"min_border_top\":10,\"plot_height\":300,\"plot_width\":700,\"renderers\":[{\"id\":\"70040\"}],\"sizing_mode\":\"fixed\",\"title\":{\"id\":\"70006\"},\"toolbar\":{\"id\":\"70027\"},\"x_range\":{\"id\":\"70002\"},\"x_scale\":{\"id\":\"70010\"},\"y_range\":{\"id\":\"70003\"},\"y_scale\":{\"id\":\"70012\"}},\"id\":\"70005\",\"subtype\":\"Figure\",\"type\":\"Plot\"},{\"attributes\":{\"margin\":[5,5,5,5],\"name\":\"DataFrame165967\",\"text\":\"&lt;table border=&quot;0&quot; class=&quot;dataframe panel-df&quot;&gt;\\n  &lt;thead&gt;\\n    &lt;tr style=&quot;text-align: right;&quot;&gt;\\n      &lt;th&gt;&lt;/th&gt;\\n      &lt;th&gt;Label&lt;/th&gt;\\n      &lt;th&gt;Amount&lt;/th&gt;\\n    &lt;/tr&gt;\\n  &lt;/thead&gt;\\n  &lt;tbody&gt;\\n    &lt;tr&gt;\\n      &lt;th&gt;0&lt;/th&gt;\\n      &lt;td&gt;Amount&lt;/td&gt;\\n      &lt;td&gt;0.14&lt;/td&gt;\\n    &lt;/tr&gt;\\n    &lt;tr&gt;\\n      &lt;th&gt;1&lt;/th&gt;\\n      &lt;td&gt;Amount&lt;/td&gt;\\n      &lt;td&gt;6.86&lt;/td&gt;\\n    &lt;/tr&gt;\\n  &lt;/tbody&gt;\\n&lt;/table&gt;\"},\"id\":\"70000\",\"type\":\"panel.models.markup.HTML\"},{\"attributes\":{\"bottom_units\":\"screen\",\"fill_alpha\":0.5,\"fill_color\":\"lightgrey\",\"left_units\":\"screen\",\"level\":\"overlay\",\"line_alpha\":1.0,\"line_color\":\"black\",\"line_dash\":[4,4],\"line_width\":2,\"right_units\":\"screen\",\"top_units\":\"screen\"},\"id\":\"70026\",\"type\":\"BoxAnnotation\"},{\"attributes\":{},\"id\":\"70035\",\"type\":\"Selection\"},{\"attributes\":{\"active_drag\":\"auto\",\"active_inspect\":\"auto\",\"active_multi\":null,\"active_scroll\":\"auto\",\"active_tap\":\"auto\",\"tools\":[{\"id\":\"70004\"},{\"id\":\"70021\"},{\"id\":\"70022\"},{\"id\":\"70023\"},{\"id\":\"70024\"},{\"id\":\"70025\"}]},\"id\":\"70027\",\"type\":\"Toolbar\"},{\"attributes\":{\"end\":6.999999999999999,\"reset_end\":6.999999999999999,\"reset_start\":0.0,\"tags\":[[[\"Amount\",\"Amount\",null]]]},\"id\":\"70003\",\"type\":\"Range1d\"},{\"attributes\":{\"callback\":null,\"renderers\":[{\"id\":\"70040\"}],\"tags\":[\"hv_created\"],\"tooltips\":[[\"Label\",\"@{Label}\"],[\"Amount\",\"@{Amount}\"]]},\"id\":\"70004\",\"type\":\"HoverTool\"},{\"attributes\":{\"axis\":{\"id\":\"70017\"},\"dimension\":1,\"grid_line_color\":null,\"ticker\":null},\"id\":\"70020\",\"type\":\"Grid\"},{\"attributes\":{\"fill_color\":{\"value\":\"#0F2EEE\"},\"top\":{\"field\":\"Amount\"},\"width\":{\"value\":0.8},\"x\":{\"field\":\"Label\"}},\"id\":\"70037\",\"type\":\"VBar\"},{\"attributes\":{\"factors\":[\"Amount\"],\"tags\":[[[\"Label\",\"Label\",null]]]},\"id\":\"70002\",\"type\":\"FactorRange\"},{\"attributes\":{\"overlay\":{\"id\":\"70026\"}},\"id\":\"70024\",\"type\":\"BoxZoomTool\"},{\"attributes\":{\"axis_label\":\"Amount\",\"bounds\":\"auto\",\"formatter\":{\"id\":\"70044\"},\"major_label_orientation\":\"horizontal\",\"ticker\":{\"id\":\"70018\"}},\"id\":\"70017\",\"type\":\"LinearAxis\"},{\"attributes\":{},\"id\":\"70044\",\"type\":\"BasicTickFormatter\"}],\"root_ids\":[\"69993\",\"70086\"]},\"title\":\"Bokeh Application\",\"version\":\"2.2.3\"}};\n",
       "    var render_items = [{\"docid\":\"521481f9-5dcf-4ee5-9a29-aa240fa4ba65\",\"root_ids\":[\"69993\"],\"roots\":{\"69993\":\"f281331f-af2a-43f3-a1ef-491086b074f0\"}}];\n",
       "    root.Bokeh.embed.embed_items_notebook(docs_json, render_items);\n",
       "  }\n",
       "  if (root.Bokeh !== undefined && root.Bokeh.Panel !== undefined) {\n",
       "    embed_document(root);\n",
       "  } else {\n",
       "    var attempts = 0;\n",
       "    var timer = setInterval(function(root) {\n",
       "      if (root.Bokeh !== undefined && root.Bokeh.Panel !== undefined) {\n",
       "        clearInterval(timer);\n",
       "        embed_document(root);\n",
       "      } else if (document.readyState == \"complete\") {\n",
       "        attempts++;\n",
       "        if (attempts > 100) {\n",
       "          clearInterval(timer);\n",
       "          console.log(\"Bokeh: ERROR: Unable to run BokehJS code because BokehJS library is missing\");\n",
       "        }\n",
       "      }\n",
       "    }, 10, root)\n",
       "  }\n",
       "})(window);</script>"
      ],
      "text/plain": [
       "Row\n",
       "    [0] Column(margin=5, name='FillBar', width=300)\n",
       "        [0] StaticText(value='<b>FillBar</b>')\n",
       "        [1] FloatSlider(end=10, name='Support required', value=7, value_throttled=7)\n",
       "        [2] FloatSlider(name='Min acceptance quorum', step=0.01, value=0.02, value_throttled=0.02)\n",
       "    [1] ParamMethod(method)"
      ]
     },
     "execution_count": 212,
     "metadata": {
      "application/vnd.holoviews_exec.v0+json": {
       "id": "69993"
      }
     },
     "output_type": "execute_result"
    }
   ],
   "source": [
    "pn.Row(f, f.amount_bar)"
   ]
  },
  {
   "cell_type": "code",
   "execution_count": 152,
   "id": "regulation-rwanda",
   "metadata": {},
   "outputs": [],
   "source": [
    "f = FillBar()"
   ]
  },
  {
   "cell_type": "code",
   "execution_count": 153,
   "id": "geographic-filing",
   "metadata": {},
   "outputs": [],
   "source": [
    "self = f"
   ]
  },
  {
   "cell_type": "code",
   "execution_count": 173,
   "id": "demographic-retirement",
   "metadata": {},
   "outputs": [],
   "source": [
    "label = self.param['support_required'].doc\n",
    "bounds = self.param['support_required'].bounds\n",
    "bar = pd.DataFrame([\n",
    "    ('Amount', self.support_required * self.min_acceptance_quorum), \n",
    "    ('Amount', self.support_required * (1 - self.min_acceptance_quorum))\n",
    "], columns=['Label', 'Amount'])"
   ]
  },
  {
   "cell_type": "code",
   "execution_count": 174,
   "id": "polish-brake",
   "metadata": {},
   "outputs": [
    {
     "data": {
      "text/html": [
       "<div>\n",
       "<style scoped>\n",
       "    .dataframe tbody tr th:only-of-type {\n",
       "        vertical-align: middle;\n",
       "    }\n",
       "\n",
       "    .dataframe tbody tr th {\n",
       "        vertical-align: top;\n",
       "    }\n",
       "\n",
       "    .dataframe thead th {\n",
       "        text-align: right;\n",
       "    }\n",
       "</style>\n",
       "<table border=\"1\" class=\"dataframe\">\n",
       "  <thead>\n",
       "    <tr style=\"text-align: right;\">\n",
       "      <th></th>\n",
       "      <th>Label</th>\n",
       "      <th>Amount</th>\n",
       "    </tr>\n",
       "  </thead>\n",
       "  <tbody>\n",
       "    <tr>\n",
       "      <th>0</th>\n",
       "      <td>Amount</td>\n",
       "      <td>0.14</td>\n",
       "    </tr>\n",
       "    <tr>\n",
       "      <th>1</th>\n",
       "      <td>Amount</td>\n",
       "      <td>6.86</td>\n",
       "    </tr>\n",
       "  </tbody>\n",
       "</table>\n",
       "</div>"
      ],
      "text/plain": [
       "    Label  Amount\n",
       "0  Amount    0.14\n",
       "1  Amount    6.86"
      ]
     },
     "execution_count": 174,
     "metadata": {},
     "output_type": "execute_result"
    }
   ],
   "source": [
    "bar"
   ]
  },
  {
   "cell_type": "code",
   "execution_count": 188,
   "id": "verified-coordinate",
   "metadata": {},
   "outputs": [],
   "source": [
    "import holoviews as hv\n",
    "import numpy as np\n",
    "\n",
    "points = (\n",
    "    hv.Points(np.random.randn(50, 2)      ) *\n",
    "    hv.Points(np.random.randn(50, 2) + 1  ) *\n",
    "    hv.Points(np.random.randn(50, 2) * 0.5)\n",
    ")"
   ]
  },
  {
   "cell_type": "code",
   "execution_count": 190,
   "id": "noble-regulation",
   "metadata": {},
   "outputs": [
    {
     "data": {},
     "metadata": {},
     "output_type": "display_data"
    },
    {
     "data": {
      "application/vnd.holoviews_exec.v0+json": "",
      "text/html": [
       "<div id='24416'>\n",
       "\n",
       "\n",
       "\n",
       "\n",
       "\n",
       "  <div class=\"bk-root\" id=\"2f31cda7-3319-41cd-8326-98d87e8fbc19\" data-root-id=\"24416\"></div>\n",
       "</div>\n",
       "<script type=\"application/javascript\">(function(root) {\n",
       "  function embed_document(root) {\n",
       "    var docs_json = {\"43c70afb-eb1d-4265-8e6b-8d285be4c338\":{\"roots\":{\"references\":[{\"attributes\":{\"source\":{\"id\":\"24610\"}},\"id\":\"24617\",\"type\":\"CDSView\"},{\"attributes\":{\"data_source\":{\"id\":\"24610\"},\"glyph\":{\"id\":\"24613\"},\"hover_glyph\":null,\"muted_glyph\":{\"id\":\"24615\"},\"nonselection_glyph\":{\"id\":\"24614\"},\"selection_glyph\":null,\"view\":{\"id\":\"24617\"}},\"id\":\"24616\",\"type\":\"GlyphRenderer\"},{\"attributes\":{},\"id\":\"24566\",\"type\":\"LinearScale\"},{\"attributes\":{},\"id\":\"24483\",\"type\":\"UnionRenderers\"},{\"attributes\":{\"data\":{\"x\":{\"__ndarray__\":\"JK50ecuv0L+2/f3A0I2pP0pb553j77M/03t1Je+d7r8FNM3NHCPPPwaMxkDdrn8/XFlJMOC3oL8bX08RqnPnPwynE66nUtI/qHDPOyp07b/fmoc0uoOnPwXT+fm0Y7S/a4i7xqeroT8WwmT4RHrrv4nVBcakNOI/VTcBfav3zz/Win2dKqXYv9LQKfuujc6/5hZ7iYWJ178MhbmSQmjZPwv3l6jx2c8/4ClR1GKk0D8wU/uqANHXPweMgO/nJ8M/exT8/ZUGkL/40ueqk2jHvzJ12AY6ZdO/uYRT71UZsj8cL0Ax2fW2v3v5oBmwMNW/B1muS3bL9D9jgRNzVpfvP9rL+6jf2uE/PnBgXCey2T+FU4+2+KfRv7PDcV5sxuK/N6y4pqiq2T/J1nRI1qbrP4QcuxZXBqC/vO1dkVUiub+qZkcRe2Div/A4EaNHKs6/3BHg9uBq4b8BfwSXpaz0v0Rs5b/wqtI/tp4rYnNo7T9Rxw3nDMzmP9AfLzIiRrU/EHeiEAQb6L+Wbz14XRP2Pw==\",\"dtype\":\"float64\",\"order\":\"little\",\"shape\":[50]},\"y\":{\"__ndarray__\":\"W697xWcEyr8bKozOUVHZP2tVijhxgsc/qA1jatfG6b8e4kJCLezGv+kg5GzCrNw/vGoHpvKs5L8NEPaP8wCgv72wctDuxr4/WWLTyqGTab92md2qJZyovzNQiLuLDrg/OKy7/qnr4z/PL4BzTu3cP7oPZuxl9mO/pesX7y5OyD8O9MV66ZKhv5TN9GWX3uI/1mNEJFtw5T8F0V0saT/fvwI7RSHFfMa/35ru+lS2vb972AI3Fhbjv0+I8RXAZLi/m5g3G1bt1b9A/RNSLSbnv17Xf1cqVOE/+rp4daH61j+Hn94zwrjHv2xEgboMd8Q/k5ZxT7bEuj8RD8WGGK/kv4TpW4hKvKk/YNGgGBye4T+z9wmEaBfkP/5MpiMAluA/xVhbFr+Drr+tgGdrWyqZPy34HB1zob8/9CtJOzCj0j+fv9lN9x3pP8ntRyqoH9k/l95zrijv2j9KYT/FNVXav9XMOFQKA72/OZG9Xl/c4L8X4o9opy7PPy8SDxfhBOE/07BuGyvzyb8unPIE86DNPw==\",\"dtype\":\"float64\",\"order\":\"little\",\"shape\":[50]}},\"selected\":{\"id\":\"24470\"},\"selection_policy\":{\"id\":\"24487\"}},\"id\":\"24469\",\"type\":\"ColumnDataSource\"},{\"attributes\":{\"fill_alpha\":{\"value\":0.1},\"fill_color\":{\"value\":\"#0b0a15\"},\"line_alpha\":{\"value\":0.1},\"line_color\":{\"value\":\"#0b0a15\"},\"size\":{\"units\":\"screen\",\"value\":5},\"x\":{\"field\":\"x\"},\"y\":{\"field\":\"y\"}},\"id\":\"24606\",\"type\":\"Scatter\"},{\"attributes\":{\"children\":[{\"id\":\"24730\"},{\"id\":\"24728\"}]},\"id\":\"24731\",\"type\":\"Column\"},{\"attributes\":{\"source\":{\"id\":\"24453\"}},\"id\":\"24460\",\"type\":\"CDSView\"},{\"attributes\":{},\"id\":\"24578\",\"type\":\"SaveTool\"},{\"attributes\":{},\"id\":\"24441\",\"type\":\"ResetTool\"},{\"attributes\":{\"fill_color\":{\"value\":\"#0b0a15\"},\"line_color\":{\"value\":\"#0b0a15\"},\"size\":{\"units\":\"screen\",\"value\":5},\"x\":{\"field\":\"x\"},\"y\":{\"field\":\"y\"}},\"id\":\"24605\",\"type\":\"Scatter\"},{\"attributes\":{\"overlay\":{\"id\":\"24442\"}},\"id\":\"24440\",\"type\":\"BoxZoomTool\"},{\"attributes\":{},\"id\":\"24595\",\"type\":\"Selection\"},{\"attributes\":{},\"id\":\"24628\",\"type\":\"UnionRenderers\"},{\"attributes\":{},\"id\":\"24454\",\"type\":\"Selection\"},{\"attributes\":{\"data\":{\"x\":{\"__ndarray__\":\"JK50ecuv0L+2/f3A0I2pP0pb553j77M/03t1Je+d7r8FNM3NHCPPPwaMxkDdrn8/XFlJMOC3oL8bX08RqnPnPwynE66nUtI/qHDPOyp07b/fmoc0uoOnPwXT+fm0Y7S/a4i7xqeroT8WwmT4RHrrv4nVBcakNOI/VTcBfav3zz/Win2dKqXYv9LQKfuujc6/5hZ7iYWJ178MhbmSQmjZPwv3l6jx2c8/4ClR1GKk0D8wU/uqANHXPweMgO/nJ8M/exT8/ZUGkL/40ueqk2jHvzJ12AY6ZdO/uYRT71UZsj8cL0Ax2fW2v3v5oBmwMNW/B1muS3bL9D9jgRNzVpfvP9rL+6jf2uE/PnBgXCey2T+FU4+2+KfRv7PDcV5sxuK/N6y4pqiq2T/J1nRI1qbrP4QcuxZXBqC/vO1dkVUiub+qZkcRe2Div/A4EaNHKs6/3BHg9uBq4b8BfwSXpaz0v0Rs5b/wqtI/tp4rYnNo7T9Rxw3nDMzmP9AfLzIiRrU/EHeiEAQb6L+Wbz14XRP2Pw==\",\"dtype\":\"float64\",\"order\":\"little\",\"shape\":[50]},\"y\":{\"__ndarray__\":\"W697xWcEyr8bKozOUVHZP2tVijhxgsc/qA1jatfG6b8e4kJCLezGv+kg5GzCrNw/vGoHpvKs5L8NEPaP8wCgv72wctDuxr4/WWLTyqGTab92md2qJZyovzNQiLuLDrg/OKy7/qnr4z/PL4BzTu3cP7oPZuxl9mO/pesX7y5OyD8O9MV66ZKhv5TN9GWX3uI/1mNEJFtw5T8F0V0saT/fvwI7RSHFfMa/35ru+lS2vb972AI3Fhbjv0+I8RXAZLi/m5g3G1bt1b9A/RNSLSbnv17Xf1cqVOE/+rp4daH61j+Hn94zwrjHv2xEgboMd8Q/k5ZxT7bEuj8RD8WGGK/kv4TpW4hKvKk/YNGgGBye4T+z9wmEaBfkP/5MpiMAluA/xVhbFr+Drr+tgGdrWyqZPy34HB1zob8/9CtJOzCj0j+fv9lN9x3pP8ntRyqoH9k/l95zrijv2j9KYT/FNVXav9XMOFQKA72/OZG9Xl/c4L8X4o9opy7PPy8SDxfhBOE/07BuGyvzyb8unPIE86DNPw==\",\"dtype\":\"float64\",\"order\":\"little\",\"shape\":[50]}},\"selected\":{\"id\":\"24611\"},\"selection_policy\":{\"id\":\"24628\"}},\"id\":\"24610\",\"type\":\"ColumnDataSource\"},{\"attributes\":{},\"id\":\"24611\",\"type\":\"Selection\"},{\"attributes\":{\"fill_alpha\":{\"value\":0.1},\"fill_color\":{\"value\":\"#0F2EEE\"},\"line_alpha\":{\"value\":0.1},\"line_color\":{\"value\":\"#0F2EEE\"},\"size\":{\"units\":\"screen\",\"value\":5},\"x\":{\"field\":\"x\"},\"y\":{\"field\":\"y\"}},\"id\":\"24598\",\"type\":\"Scatter\"},{\"attributes\":{},\"id\":\"24579\",\"type\":\"PanTool\"},{\"attributes\":{\"data\":{\"x\":{\"__ndarray__\":\"YEVMCL4+8z8uwVO8EILkP9wUGCJNAtG/sAnr+nxKv78Yl6VOhJLqP9JDXHi0R9k/B6s9AXBC6D8cIvJjQYL1P7yyL018N9y/Mo6IH1GKAUDMWv43h7rNP70ztW7XXeg/ZoEvm9Ul1z+mrFlyP/npPwBdPjEdqXu/KEjIingN5j9Me06dzF3kPww7k9deU98/Hb4DHmB69D/kiOY80WL1PzoATj7l7u0/xi07FuGU1z88QQp+tfXov4wTRcZv9eY/9cvfrKCX8T+XfmITpa0EQPx2w5XqEfQ/2DcIyT1I9D+4f05zI7zyP74JvZIhb+U/ze59LlznCUBVXkscZr3gP4j7TimHWf8/lnfkCNRd/z+zYtwHOFH0Px5cbp1Sh/M/FKm+PKx89j8Qkf/384i9v5wsU5tMv+c/NF4b4gopyz9JUzjUCqHpP9LKtQVtc/s/dPnL9jE+178wfJHvTPzsPwxaKBEXQdw/ThlGp8Hn8T8x3sVD723xP8bXXQf3ZQJAMEN4pFliCEA0YlpS5lTFPw==\",\"dtype\":\"float64\",\"order\":\"little\",\"shape\":[50]},\"y\":{\"__ndarray__\":\"MBbE9LBc+T/rDDB9G1zyP4DwtDTnMdM/HFQBMDJr1j9ah4Dkl7TtP9aWyN8ysfY/VYTxFimxCUAALKYHg53jP4CC/zpHWbg/dIkmcHAgyD+P30M+YgflPxCDzs0ZEv0/govj3nfl7D8q4rknOHbmPxgRT9yzuOw/EQ0m23i/8z+m640WZjr4P6j8YEt4I8m/VStSK5CX8T8WHw0lRcbpPzMZUHEutPc/Rs5H7Wx79T8CK9i3f8Ljv7DiBCrNBbE/Stz7Ggep0z8p4aKEy+wAQJawAZnokPw/sU+rS2lG8z+GdRDer8/dP6pENimm3AFATD6Pg9XlyD/GgAPGgUP6P3boRupvxfY/3pzBqo/N+D/7r+Cq6kH1P7hhETvXVQFA2HjqhkoE+788O9GDeFbzvw5lw0cPTtk/i/Wfu0AaAkAx9gT9+A/6PxD3whG/nvE/d8RHd9Ze8T9IXs9MbAHav3Bv9XqtIt0/95ILBPiu9T/UOiUQvaXEP3CKNofO6/c/NMGcZ4H6178U/cgK/13rPw==\",\"dtype\":\"float64\",\"order\":\"little\",\"shape\":[50]}},\"selected\":{\"id\":\"24603\"},\"selection_policy\":{\"id\":\"24626\"}},\"id\":\"24602\",\"type\":\"ColumnDataSource\"},{\"attributes\":{},\"id\":\"24624\",\"type\":\"UnionRenderers\"},{\"attributes\":{},\"id\":\"24485\",\"type\":\"UnionRenderers\"},{\"attributes\":{\"children\":[[{\"id\":\"24420\"},0,0],[{\"id\":\"24561\"},0,1]]},\"id\":\"24728\",\"type\":\"GridBox\"},{\"attributes\":{\"fill_alpha\":{\"value\":0.2},\"fill_color\":{\"value\":\"#e5ae38\"},\"line_alpha\":{\"value\":0.2},\"line_color\":{\"value\":\"#e5ae38\"},\"size\":{\"units\":\"screen\",\"value\":2.449489742783178},\"x\":{\"field\":\"x\"},\"y\":{\"field\":\"y\"}},\"id\":\"24474\",\"type\":\"Scatter\"},{\"attributes\":{\"fill_alpha\":{\"value\":0.2},\"fill_color\":{\"value\":\"#fc4f30\"},\"line_alpha\":{\"value\":0.2},\"line_color\":{\"value\":\"#fc4f30\"},\"size\":{\"units\":\"screen\",\"value\":2.449489742783178},\"x\":{\"field\":\"x\"},\"y\":{\"field\":\"y\"}},\"id\":\"24466\",\"type\":\"Scatter\"},{\"attributes\":{\"fill_alpha\":{\"value\":0.2},\"fill_color\":{\"value\":\"#0F2EEE\"},\"line_alpha\":{\"value\":0.2},\"line_color\":{\"value\":\"#0F2EEE\"},\"size\":{\"units\":\"screen\",\"value\":5},\"x\":{\"field\":\"x\"},\"y\":{\"field\":\"y\"}},\"id\":\"24599\",\"type\":\"Scatter\"},{\"attributes\":{},\"id\":\"24582\",\"type\":\"ResetTool\"},{\"attributes\":{\"fill_color\":{\"value\":\"#e5ae38\"},\"line_color\":{\"value\":\"#e5ae38\"},\"size\":{\"units\":\"screen\",\"value\":2.449489742783178},\"x\":{\"field\":\"x\"},\"y\":{\"field\":\"y\"}},\"id\":\"24472\",\"type\":\"Scatter\"},{\"attributes\":{\"fill_color\":{\"value\":\"#0F2EEE\"},\"line_color\":{\"value\":\"#0F2EEE\"},\"size\":{\"units\":\"screen\",\"value\":5},\"x\":{\"field\":\"x\"},\"y\":{\"field\":\"y\"}},\"id\":\"24597\",\"type\":\"Scatter\"},{\"attributes\":{\"data\":{\"x\":{\"__ndarray__\":\"0p7zSjCu7j9teiVkR5jzv1zPL3M1ve0/uWGPtfQO0b/XjsQxaoTrP06dXtKHYuA/A0V21ieOqr8Sy2LqVqjfPyBmnKvjF/I/2CyAUCILv78Op9tHSuHDP29jdnkMHNC/lhG1qeIV27/P9ytFJVICQI8W1OZ/dfG/aNVzvblz9T/TNdVYzCXFP0mHZ3wvrfI/3abEaRkvnT+Eg1f9ZCPjP+WXALenz+m/P64+7bqx0T89PnJTrXP5Pw0eILgznLg/zH7jD6Rh77/SU7TwWAPnv0uC10en3PM/DOmP1HLtzz/3gn+WEuzSv4fXBl1Yc9Y/lwdni2I78z+3SJM05VP0vypw3YsoTO6/c3539mFs4L8jIpNtOb3nPx1lE331Isu/SXwIC4917T/MObNv35j6PwkkcKixLPc/O85kOKsa/b/MO9qTX7qgP1hHslR15Ne/HUEu/Xm6s7/6/wqQ477wP+ApayzqZP4/o5pWSICk6b9qYb7832nwv9v0tMGKMeU//fY6Xps43r92B2/pdzbKPw==\",\"dtype\":\"float64\",\"order\":\"little\",\"shape\":[50]},\"y\":{\"__ndarray__\":\"SI69mwJJAkCzPG63zLXYv/nOHYbfffg/uuPsOZjVcL9+tydQLgHtv6mVWU66s+O/USljXWP62T97UM8d0BH2v7vX3skVxss/FY+I4rLaxr9S53D+FSXlv2oeJciV3Mk/Qf32wHje1T+BIMHWgD3Qv2YTae/0MOE/JEinGyBv0j9JkLc8xN/BvzKiN/aFFfo/TOJqxzMfvj+qJXU8Ipf2PwY0aShLU6M/bmpvYHls6b/NYaHaX63RPwf1zvnhct6/881ht9KT6z/NW22CKx7xv6z3+lUFCt0/LA3UXIoW4L88sjWJUyTwvywcTJeCa/e/aTaCj1vE0b/xNHyYk5HxP+Et+dPD2dq/c49ozA4h5L8+tN2Lz93mvx4frDhqdKk/H4WxBgcG8b/2o+7ZKpngP3qWZU0zvgNADe1a/iq4978YplenExrkvw/FQcwM6eg/BZAXtjUF8D8JC6k54dYAQLaDOoKry8q/Hrb66uZv8j/Akz1gtozyP/xWKlTWTuQ/D7xm6uH51b/HANywZ8qfvw==\",\"dtype\":\"float64\",\"order\":\"little\",\"shape\":[50]}},\"selected\":{\"id\":\"24454\"},\"selection_policy\":{\"id\":\"24483\"}},\"id\":\"24453\",\"type\":\"ColumnDataSource\"},{\"attributes\":{\"source\":{\"id\":\"24602\"}},\"id\":\"24609\",\"type\":\"CDSView\"},{\"attributes\":{\"data_source\":{\"id\":\"24594\"},\"glyph\":{\"id\":\"24597\"},\"hover_glyph\":null,\"muted_glyph\":{\"id\":\"24599\"},\"nonselection_glyph\":{\"id\":\"24598\"},\"selection_glyph\":null,\"view\":{\"id\":\"24601\"}},\"id\":\"24600\",\"type\":\"GlyphRenderer\"},{\"attributes\":{\"toolbars\":[{\"id\":\"24443\"},{\"id\":\"24584\"}],\"tools\":[{\"id\":\"24437\"},{\"id\":\"24438\"},{\"id\":\"24439\"},{\"id\":\"24440\"},{\"id\":\"24441\"},{\"id\":\"24578\"},{\"id\":\"24579\"},{\"id\":\"24580\"},{\"id\":\"24581\"},{\"id\":\"24582\"}]},\"id\":\"24729\",\"type\":\"ProxyToolbar\"},{\"attributes\":{\"active_drag\":\"auto\",\"active_inspect\":\"auto\",\"active_multi\":null,\"active_scroll\":\"auto\",\"active_tap\":\"auto\",\"tools\":[{\"id\":\"24578\"},{\"id\":\"24579\"},{\"id\":\"24580\"},{\"id\":\"24581\"},{\"id\":\"24582\"}]},\"id\":\"24584\",\"type\":\"Toolbar\"},{\"attributes\":{},\"id\":\"24451\",\"type\":\"BasicTickFormatter\"},{\"attributes\":{},\"id\":\"24571\",\"type\":\"BasicTicker\"},{\"attributes\":{\"end\":3.701509332534398,\"reset_end\":3.701509332534398,\"reset_start\":-2.178552816048943,\"start\":-2.178552816048943,\"tags\":[[[\"y\",\"y\",null]]]},\"id\":\"24419\",\"type\":\"Range1d\"},{\"attributes\":{\"data_source\":{\"id\":\"24602\"},\"glyph\":{\"id\":\"24605\"},\"hover_glyph\":null,\"muted_glyph\":{\"id\":\"24607\"},\"nonselection_glyph\":{\"id\":\"24606\"},\"selection_glyph\":null,\"view\":{\"id\":\"24609\"}},\"id\":\"24608\",\"type\":\"GlyphRenderer\"},{\"attributes\":{\"text\":\"\",\"text_color\":{\"value\":\"black\"},\"text_font_size\":{\"value\":\"12pt\"}},\"id\":\"24421\",\"type\":\"Title\"},{\"attributes\":{\"below\":[{\"id\":\"24570\"}],\"center\":[{\"id\":\"24573\"},{\"id\":\"24577\"}],\"left\":[{\"id\":\"24574\"}],\"margin\":null,\"min_border_bottom\":10,\"min_border_left\":10,\"min_border_right\":10,\"min_border_top\":10,\"plot_height\":300,\"plot_width\":300,\"renderers\":[{\"id\":\"24600\"},{\"id\":\"24608\"},{\"id\":\"24616\"}],\"sizing_mode\":\"fixed\",\"title\":{\"id\":\"24562\"},\"toolbar\":{\"id\":\"24584\"},\"toolbar_location\":null,\"x_range\":{\"id\":\"24418\"},\"x_scale\":{\"id\":\"24566\"},\"y_range\":{\"id\":\"24419\"},\"y_scale\":{\"id\":\"24568\"}},\"id\":\"24561\",\"subtype\":\"Figure\",\"type\":\"Plot\"},{\"attributes\":{\"margin\":[5,5,5,5],\"name\":\"HSpacer46226\",\"sizing_mode\":\"stretch_width\"},\"id\":\"24948\",\"type\":\"Spacer\"},{\"attributes\":{\"axis_label\":\"x\",\"bounds\":\"auto\",\"formatter\":{\"id\":\"24590\"},\"major_label_orientation\":\"horizontal\",\"ticker\":{\"id\":\"24571\"}},\"id\":\"24570\",\"type\":\"LinearAxis\"},{\"attributes\":{\"axis_label\":\"x\",\"bounds\":\"auto\",\"formatter\":{\"id\":\"24449\"},\"major_label_orientation\":\"horizontal\",\"ticker\":{\"id\":\"24430\"}},\"id\":\"24429\",\"type\":\"LinearAxis\"},{\"attributes\":{\"fill_alpha\":{\"value\":0.1},\"fill_color\":{\"value\":\"#e5ae38\"},\"line_alpha\":{\"value\":0.1},\"line_color\":{\"value\":\"#e5ae38\"},\"size\":{\"units\":\"screen\",\"value\":2.449489742783178},\"x\":{\"field\":\"x\"},\"y\":{\"field\":\"y\"}},\"id\":\"24473\",\"type\":\"Scatter\"},{\"attributes\":{},\"id\":\"24590\",\"type\":\"BasicTickFormatter\"},{\"attributes\":{\"data\":{\"x\":{\"__ndarray__\":\"YEVMCL4+8z8uwVO8EILkP9wUGCJNAtG/sAnr+nxKv78Yl6VOhJLqP9JDXHi0R9k/B6s9AXBC6D8cIvJjQYL1P7yyL018N9y/Mo6IH1GKAUDMWv43h7rNP70ztW7XXeg/ZoEvm9Ul1z+mrFlyP/npPwBdPjEdqXu/KEjIingN5j9Me06dzF3kPww7k9deU98/Hb4DHmB69D/kiOY80WL1PzoATj7l7u0/xi07FuGU1z88QQp+tfXov4wTRcZv9eY/9cvfrKCX8T+XfmITpa0EQPx2w5XqEfQ/2DcIyT1I9D+4f05zI7zyP74JvZIhb+U/ze59LlznCUBVXkscZr3gP4j7TimHWf8/lnfkCNRd/z+zYtwHOFH0Px5cbp1Sh/M/FKm+PKx89j8Qkf/384i9v5wsU5tMv+c/NF4b4gopyz9JUzjUCqHpP9LKtQVtc/s/dPnL9jE+178wfJHvTPzsPwxaKBEXQdw/ThlGp8Hn8T8x3sVD723xP8bXXQf3ZQJAMEN4pFliCEA0YlpS5lTFPw==\",\"dtype\":\"float64\",\"order\":\"little\",\"shape\":[50]},\"y\":{\"__ndarray__\":\"MBbE9LBc+T/rDDB9G1zyP4DwtDTnMdM/HFQBMDJr1j9ah4Dkl7TtP9aWyN8ysfY/VYTxFimxCUAALKYHg53jP4CC/zpHWbg/dIkmcHAgyD+P30M+YgflPxCDzs0ZEv0/govj3nfl7D8q4rknOHbmPxgRT9yzuOw/EQ0m23i/8z+m640WZjr4P6j8YEt4I8m/VStSK5CX8T8WHw0lRcbpPzMZUHEutPc/Rs5H7Wx79T8CK9i3f8Ljv7DiBCrNBbE/Stz7Ggep0z8p4aKEy+wAQJawAZnokPw/sU+rS2lG8z+GdRDer8/dP6pENimm3AFATD6Pg9XlyD/GgAPGgUP6P3boRupvxfY/3pzBqo/N+D/7r+Cq6kH1P7hhETvXVQFA2HjqhkoE+788O9GDeFbzvw5lw0cPTtk/i/Wfu0AaAkAx9gT9+A/6PxD3whG/nvE/d8RHd9Ze8T9IXs9MbAHav3Bv9XqtIt0/95ILBPiu9T/UOiUQvaXEP3CKNofO6/c/NMGcZ4H6178U/cgK/13rPw==\",\"dtype\":\"float64\",\"order\":\"little\",\"shape\":[50]}},\"selected\":{\"id\":\"24462\"},\"selection_policy\":{\"id\":\"24485\"}},\"id\":\"24461\",\"type\":\"ColumnDataSource\"},{\"attributes\":{},\"id\":\"24568\",\"type\":\"LinearScale\"},{\"attributes\":{\"toolbar\":{\"id\":\"24729\"},\"toolbar_location\":\"above\"},\"id\":\"24730\",\"type\":\"ToolbarBox\"},{\"attributes\":{},\"id\":\"24425\",\"type\":\"LinearScale\"},{\"attributes\":{\"axis_label\":\"y\",\"bounds\":\"auto\",\"formatter\":{\"id\":\"24592\"},\"major_label_orientation\":\"horizontal\",\"ticker\":{\"id\":\"24575\"}},\"id\":\"24574\",\"type\":\"LinearAxis\"},{\"attributes\":{},\"id\":\"24430\",\"type\":\"BasicTicker\"},{\"attributes\":{\"source\":{\"id\":\"24461\"}},\"id\":\"24468\",\"type\":\"CDSView\"},{\"attributes\":{\"active_drag\":\"auto\",\"active_inspect\":\"auto\",\"active_multi\":null,\"active_scroll\":\"auto\",\"active_tap\":\"auto\",\"tools\":[{\"id\":\"24437\"},{\"id\":\"24438\"},{\"id\":\"24439\"},{\"id\":\"24440\"},{\"id\":\"24441\"}]},\"id\":\"24443\",\"type\":\"Toolbar\"},{\"attributes\":{},\"id\":\"24575\",\"type\":\"BasicTicker\"},{\"attributes\":{},\"id\":\"24438\",\"type\":\"PanTool\"},{\"attributes\":{},\"id\":\"24603\",\"type\":\"Selection\"},{\"attributes\":{\"axis\":{\"id\":\"24429\"},\"grid_line_color\":null,\"ticker\":null},\"id\":\"24432\",\"type\":\"Grid\"},{\"attributes\":{\"margin\":[5,5,5,5],\"name\":\"HSpacer46225\",\"sizing_mode\":\"stretch_width\"},\"id\":\"24417\",\"type\":\"Spacer\"},{\"attributes\":{\"text\":\"\",\"text_color\":{\"value\":\"black\"},\"text_font_size\":{\"value\":\"12pt\"}},\"id\":\"24562\",\"type\":\"Title\"},{\"attributes\":{\"data_source\":{\"id\":\"24453\"},\"glyph\":{\"id\":\"24456\"},\"hover_glyph\":null,\"muted_glyph\":{\"id\":\"24458\"},\"nonselection_glyph\":{\"id\":\"24457\"},\"selection_glyph\":null,\"view\":{\"id\":\"24460\"}},\"id\":\"24459\",\"type\":\"GlyphRenderer\"},{\"attributes\":{\"bottom_units\":\"screen\",\"fill_alpha\":0.5,\"fill_color\":\"lightgrey\",\"left_units\":\"screen\",\"level\":\"overlay\",\"line_alpha\":1.0,\"line_color\":\"black\",\"line_dash\":[4,4],\"line_width\":2,\"right_units\":\"screen\",\"top_units\":\"screen\"},\"id\":\"24583\",\"type\":\"BoxAnnotation\"},{\"attributes\":{\"bottom_units\":\"screen\",\"fill_alpha\":0.5,\"fill_color\":\"lightgrey\",\"left_units\":\"screen\",\"level\":\"overlay\",\"line_alpha\":1.0,\"line_color\":\"black\",\"line_dash\":[4,4],\"line_width\":2,\"right_units\":\"screen\",\"top_units\":\"screen\"},\"id\":\"24442\",\"type\":\"BoxAnnotation\"},{\"attributes\":{\"source\":{\"id\":\"24594\"}},\"id\":\"24601\",\"type\":\"CDSView\"},{\"attributes\":{\"source\":{\"id\":\"24469\"}},\"id\":\"24476\",\"type\":\"CDSView\"},{\"attributes\":{},\"id\":\"24449\",\"type\":\"BasicTickFormatter\"},{\"attributes\":{},\"id\":\"24592\",\"type\":\"BasicTickFormatter\"},{\"attributes\":{\"fill_alpha\":{\"value\":0.2},\"fill_color\":{\"value\":\"#DEFB48\"},\"line_alpha\":{\"value\":0.2},\"line_color\":{\"value\":\"#DEFB48\"},\"size\":{\"units\":\"screen\",\"value\":5},\"x\":{\"field\":\"x\"},\"y\":{\"field\":\"y\"}},\"id\":\"24615\",\"type\":\"Scatter\"},{\"attributes\":{},\"id\":\"24470\",\"type\":\"Selection\"},{\"attributes\":{\"below\":[{\"id\":\"24429\"}],\"center\":[{\"id\":\"24432\"},{\"id\":\"24436\"}],\"left\":[{\"id\":\"24433\"}],\"margin\":null,\"min_border_bottom\":10,\"min_border_left\":10,\"min_border_right\":10,\"min_border_top\":10,\"plot_height\":300,\"plot_width\":300,\"renderers\":[{\"id\":\"24459\"},{\"id\":\"24467\"},{\"id\":\"24475\"}],\"sizing_mode\":\"fixed\",\"title\":{\"id\":\"24421\"},\"toolbar\":{\"id\":\"24443\"},\"toolbar_location\":null,\"x_range\":{\"id\":\"24418\"},\"x_scale\":{\"id\":\"24425\"},\"y_range\":{\"id\":\"24419\"},\"y_scale\":{\"id\":\"24427\"}},\"id\":\"24420\",\"subtype\":\"Figure\",\"type\":\"Plot\"},{\"attributes\":{\"fill_alpha\":{\"value\":0.2},\"fill_color\":{\"value\":\"#0b0a15\"},\"line_alpha\":{\"value\":0.2},\"line_color\":{\"value\":\"#0b0a15\"},\"size\":{\"units\":\"screen\",\"value\":5},\"x\":{\"field\":\"x\"},\"y\":{\"field\":\"y\"}},\"id\":\"24607\",\"type\":\"Scatter\"},{\"attributes\":{\"children\":[{\"id\":\"24417\"},{\"id\":\"24731\"},{\"id\":\"24948\"}],\"margin\":[0,0,0,0],\"name\":\"Row46221\",\"tags\":[\"embedded\"]},\"id\":\"24416\",\"type\":\"Row\"},{\"attributes\":{},\"id\":\"24437\",\"type\":\"SaveTool\"},{\"attributes\":{},\"id\":\"24462\",\"type\":\"Selection\"},{\"attributes\":{},\"id\":\"24487\",\"type\":\"UnionRenderers\"},{\"attributes\":{\"data_source\":{\"id\":\"24461\"},\"glyph\":{\"id\":\"24464\"},\"hover_glyph\":null,\"muted_glyph\":{\"id\":\"24466\"},\"nonselection_glyph\":{\"id\":\"24465\"},\"selection_glyph\":null,\"view\":{\"id\":\"24468\"}},\"id\":\"24467\",\"type\":\"GlyphRenderer\"},{\"attributes\":{\"axis\":{\"id\":\"24433\"},\"dimension\":1,\"grid_line_color\":null,\"ticker\":null},\"id\":\"24436\",\"type\":\"Grid\"},{\"attributes\":{\"axis\":{\"id\":\"24570\"},\"grid_line_color\":null,\"ticker\":null},\"id\":\"24573\",\"type\":\"Grid\"},{\"attributes\":{},\"id\":\"24626\",\"type\":\"UnionRenderers\"},{\"attributes\":{\"fill_alpha\":{\"value\":0.2},\"fill_color\":{\"value\":\"#30a2da\"},\"line_alpha\":{\"value\":0.2},\"line_color\":{\"value\":\"#30a2da\"},\"size\":{\"units\":\"screen\",\"value\":2.449489742783178},\"x\":{\"field\":\"x\"},\"y\":{\"field\":\"y\"}},\"id\":\"24458\",\"type\":\"Scatter\"},{\"attributes\":{\"fill_color\":{\"value\":\"#fc4f30\"},\"line_color\":{\"value\":\"#fc4f30\"},\"size\":{\"units\":\"screen\",\"value\":2.449489742783178},\"x\":{\"field\":\"x\"},\"y\":{\"field\":\"y\"}},\"id\":\"24464\",\"type\":\"Scatter\"},{\"attributes\":{\"overlay\":{\"id\":\"24583\"}},\"id\":\"24581\",\"type\":\"BoxZoomTool\"},{\"attributes\":{\"data\":{\"x\":{\"__ndarray__\":\"0p7zSjCu7j9teiVkR5jzv1zPL3M1ve0/uWGPtfQO0b/XjsQxaoTrP06dXtKHYuA/A0V21ieOqr8Sy2LqVqjfPyBmnKvjF/I/2CyAUCILv78Op9tHSuHDP29jdnkMHNC/lhG1qeIV27/P9ytFJVICQI8W1OZ/dfG/aNVzvblz9T/TNdVYzCXFP0mHZ3wvrfI/3abEaRkvnT+Eg1f9ZCPjP+WXALenz+m/P64+7bqx0T89PnJTrXP5Pw0eILgznLg/zH7jD6Rh77/SU7TwWAPnv0uC10en3PM/DOmP1HLtzz/3gn+WEuzSv4fXBl1Yc9Y/lwdni2I78z+3SJM05VP0vypw3YsoTO6/c3539mFs4L8jIpNtOb3nPx1lE331Isu/SXwIC4917T/MObNv35j6PwkkcKixLPc/O85kOKsa/b/MO9qTX7qgP1hHslR15Ne/HUEu/Xm6s7/6/wqQ477wP+ApayzqZP4/o5pWSICk6b9qYb7832nwv9v0tMGKMeU//fY6Xps43r92B2/pdzbKPw==\",\"dtype\":\"float64\",\"order\":\"little\",\"shape\":[50]},\"y\":{\"__ndarray__\":\"SI69mwJJAkCzPG63zLXYv/nOHYbfffg/uuPsOZjVcL9+tydQLgHtv6mVWU66s+O/USljXWP62T97UM8d0BH2v7vX3skVxss/FY+I4rLaxr9S53D+FSXlv2oeJciV3Mk/Qf32wHje1T+BIMHWgD3Qv2YTae/0MOE/JEinGyBv0j9JkLc8xN/BvzKiN/aFFfo/TOJqxzMfvj+qJXU8Ipf2PwY0aShLU6M/bmpvYHls6b/NYaHaX63RPwf1zvnhct6/881ht9KT6z/NW22CKx7xv6z3+lUFCt0/LA3UXIoW4L88sjWJUyTwvywcTJeCa/e/aTaCj1vE0b/xNHyYk5HxP+Et+dPD2dq/c49ozA4h5L8+tN2Lz93mvx4frDhqdKk/H4WxBgcG8b/2o+7ZKpngP3qWZU0zvgNADe1a/iq4978YplenExrkvw/FQcwM6eg/BZAXtjUF8D8JC6k54dYAQLaDOoKry8q/Hrb66uZv8j/Akz1gtozyP/xWKlTWTuQ/D7xm6uH51b/HANywZ8qfvw==\",\"dtype\":\"float64\",\"order\":\"little\",\"shape\":[50]}},\"selected\":{\"id\":\"24595\"},\"selection_policy\":{\"id\":\"24624\"}},\"id\":\"24594\",\"type\":\"ColumnDataSource\"},{\"attributes\":{\"axis_label\":\"y\",\"bounds\":\"auto\",\"formatter\":{\"id\":\"24451\"},\"major_label_orientation\":\"horizontal\",\"ticker\":{\"id\":\"24434\"}},\"id\":\"24433\",\"type\":\"LinearAxis\"},{\"attributes\":{\"fill_alpha\":{\"value\":0.1},\"fill_color\":{\"value\":\"#fc4f30\"},\"line_alpha\":{\"value\":0.1},\"line_color\":{\"value\":\"#fc4f30\"},\"size\":{\"units\":\"screen\",\"value\":2.449489742783178},\"x\":{\"field\":\"x\"},\"y\":{\"field\":\"y\"}},\"id\":\"24465\",\"type\":\"Scatter\"},{\"attributes\":{},\"id\":\"24427\",\"type\":\"LinearScale\"},{\"attributes\":{\"axis\":{\"id\":\"24574\"},\"dimension\":1,\"grid_line_color\":null,\"ticker\":null},\"id\":\"24577\",\"type\":\"Grid\"},{\"attributes\":{},\"id\":\"24434\",\"type\":\"BasicTicker\"},{\"attributes\":{\"data_source\":{\"id\":\"24469\"},\"glyph\":{\"id\":\"24472\"},\"hover_glyph\":null,\"muted_glyph\":{\"id\":\"24474\"},\"nonselection_glyph\":{\"id\":\"24473\"},\"selection_glyph\":null,\"view\":{\"id\":\"24476\"}},\"id\":\"24475\",\"type\":\"GlyphRenderer\"},{\"attributes\":{\"fill_alpha\":{\"value\":0.1},\"fill_color\":{\"value\":\"#30a2da\"},\"line_alpha\":{\"value\":0.1},\"line_color\":{\"value\":\"#30a2da\"},\"size\":{\"units\":\"screen\",\"value\":2.449489742783178},\"x\":{\"field\":\"x\"},\"y\":{\"field\":\"y\"}},\"id\":\"24457\",\"type\":\"Scatter\"},{\"attributes\":{\"fill_color\":{\"value\":\"#DEFB48\"},\"line_color\":{\"value\":\"#DEFB48\"},\"size\":{\"units\":\"screen\",\"value\":5},\"x\":{\"field\":\"x\"},\"y\":{\"field\":\"y\"}},\"id\":\"24613\",\"type\":\"Scatter\"},{\"attributes\":{\"end\":3.7436667648017865,\"reset_end\":3.7436667648017865,\"reset_start\":-2.3247089182270093,\"start\":-2.3247089182270093,\"tags\":[[[\"x\",\"x\",null]]]},\"id\":\"24418\",\"type\":\"Range1d\"},{\"attributes\":{\"fill_alpha\":{\"value\":0.1},\"fill_color\":{\"value\":\"#DEFB48\"},\"line_alpha\":{\"value\":0.1},\"line_color\":{\"value\":\"#DEFB48\"},\"size\":{\"units\":\"screen\",\"value\":5},\"x\":{\"field\":\"x\"},\"y\":{\"field\":\"y\"}},\"id\":\"24614\",\"type\":\"Scatter\"},{\"attributes\":{},\"id\":\"24439\",\"type\":\"WheelZoomTool\"},{\"attributes\":{\"fill_color\":{\"value\":\"#30a2da\"},\"line_color\":{\"value\":\"#30a2da\"},\"size\":{\"units\":\"screen\",\"value\":2.449489742783178},\"x\":{\"field\":\"x\"},\"y\":{\"field\":\"y\"}},\"id\":\"24456\",\"type\":\"Scatter\"},{\"attributes\":{},\"id\":\"24580\",\"type\":\"WheelZoomTool\"}],\"root_ids\":[\"24416\"]},\"title\":\"Bokeh Application\",\"version\":\"2.2.3\"}};\n",
       "    var render_items = [{\"docid\":\"43c70afb-eb1d-4265-8e6b-8d285be4c338\",\"root_ids\":[\"24416\"],\"roots\":{\"24416\":\"2f31cda7-3319-41cd-8326-98d87e8fbc19\"}}];\n",
       "    root.Bokeh.embed.embed_items_notebook(docs_json, render_items);\n",
       "  }\n",
       "  if (root.Bokeh !== undefined && root.Bokeh.Panel !== undefined) {\n",
       "    embed_document(root);\n",
       "  } else {\n",
       "    var attempts = 0;\n",
       "    var timer = setInterval(function(root) {\n",
       "      if (root.Bokeh !== undefined && root.Bokeh.Panel !== undefined) {\n",
       "        clearInterval(timer);\n",
       "        embed_document(root);\n",
       "      } else if (document.readyState == \"complete\") {\n",
       "        attempts++;\n",
       "        if (attempts > 100) {\n",
       "          clearInterval(timer);\n",
       "          console.log(\"Bokeh: ERROR: Unable to run BokehJS code because BokehJS library is missing\");\n",
       "        }\n",
       "      }\n",
       "    }, 10, root)\n",
       "  }\n",
       "})(window);</script>"
      ],
      "text/plain": [
       ":Layout\n",
       "   .Overlay.I  :Overlay\n",
       "      .Points.I   :Points   [x,y]\n",
       "      .Points.II  :Points   [x,y]\n",
       "      .Points.III :Points   [x,y]\n",
       "   .Overlay.II :Overlay\n",
       "      .Points.I   :Points   [x,y]\n",
       "      .Points.II  :Points   [x,y]\n",
       "      .Points.III :Points   [x,y]"
      ]
     },
     "execution_count": 190,
     "metadata": {
      "application/vnd.holoviews_exec.v0+json": {
       "id": "24416"
      }
     },
     "output_type": "execute_result"
    }
   ],
   "source": [
    "color_cycle = hv.Cycle(['#0F2EEE', '#0b0a15', '#DEFB48'])\n",
    "points + points.options({'Points': {'color': color_cycle, 'size': 5}})"
   ]
  },
  {
   "cell_type": "code",
   "execution_count": 191,
   "id": "laden-quality",
   "metadata": {},
   "outputs": [
    {
     "data": {},
     "metadata": {},
     "output_type": "display_data"
    },
    {
     "data": {
      "application/vnd.holoviews_exec.v0+json": "",
      "text/html": [
       "<div id='25070'>\n",
       "\n",
       "\n",
       "\n",
       "\n",
       "\n",
       "  <div class=\"bk-root\" id=\"4b25270f-d02b-4487-89b9-3e73493d3067\" data-root-id=\"25070\"></div>\n",
       "</div>\n",
       "<script type=\"application/javascript\">(function(root) {\n",
       "  function embed_document(root) {\n",
       "    var docs_json = {\"f0b50450-4841-47c9-a981-d67df313a275\":{\"roots\":{\"references\":[{\"attributes\":{\"children\":[{\"id\":\"25071\"},{\"id\":\"25075\"},{\"id\":\"25132\"}],\"margin\":[0,0,0,0],\"name\":\"Row47418\",\"tags\":[\"embedded\"]},\"id\":\"25070\",\"type\":\"Row\"},{\"attributes\":{},\"id\":\"25088\",\"type\":\"BasicTicker\"},{\"attributes\":{\"active_drag\":\"auto\",\"active_inspect\":\"auto\",\"active_multi\":null,\"active_scroll\":\"auto\",\"active_tap\":\"auto\",\"tools\":[{\"id\":\"25074\"},{\"id\":\"25091\"},{\"id\":\"25092\"},{\"id\":\"25093\"},{\"id\":\"25094\"},{\"id\":\"25095\"}]},\"id\":\"25097\",\"type\":\"Toolbar\"},{\"attributes\":{},\"id\":\"25093\",\"type\":\"WheelZoomTool\"},{\"attributes\":{\"bottom_units\":\"screen\",\"fill_alpha\":0.5,\"fill_color\":\"lightgrey\",\"left_units\":\"screen\",\"level\":\"overlay\",\"line_alpha\":1.0,\"line_color\":\"black\",\"line_dash\":[4,4],\"line_width\":2,\"right_units\":\"screen\",\"top_units\":\"screen\"},\"id\":\"25096\",\"type\":\"BoxAnnotation\"},{\"attributes\":{\"fill_alpha\":{\"value\":0.2},\"fill_color\":{\"value\":\"#0F2EEE\"},\"line_alpha\":{\"value\":0.2},\"top\":{\"field\":\"Amount\"},\"width\":{\"value\":0.8},\"x\":{\"field\":\"Label\"}},\"id\":\"25109\",\"type\":\"VBar\"},{\"attributes\":{\"source\":{\"id\":\"25104\"}},\"id\":\"25111\",\"type\":\"CDSView\"},{\"attributes\":{\"fill_color\":{\"value\":\"#0F2EEE\"},\"top\":{\"field\":\"Amount\"},\"width\":{\"value\":0.8},\"x\":{\"field\":\"Label\"}},\"id\":\"25107\",\"type\":\"VBar\"},{\"attributes\":{},\"id\":\"25091\",\"type\":\"SaveTool\"},{\"attributes\":{},\"id\":\"25112\",\"type\":\"CategoricalTickFormatter\"},{\"attributes\":{},\"id\":\"25085\",\"type\":\"CategoricalTicker\"},{\"attributes\":{},\"id\":\"25122\",\"type\":\"UnionRenderers\"},{\"attributes\":{\"axis_label\":\"Label\",\"bounds\":\"auto\",\"formatter\":{\"id\":\"25112\"},\"major_label_orientation\":\"horizontal\",\"ticker\":{\"id\":\"25085\"}},\"id\":\"25084\",\"type\":\"CategoricalAxis\"},{\"attributes\":{},\"id\":\"25105\",\"type\":\"Selection\"},{\"attributes\":{\"factors\":[\"Amount\"],\"tags\":[[[\"Label\",\"Label\",null]]]},\"id\":\"25072\",\"type\":\"FactorRange\"},{\"attributes\":{},\"id\":\"25082\",\"type\":\"LinearScale\"},{\"attributes\":{\"data_source\":{\"id\":\"25104\"},\"glyph\":{\"id\":\"25107\"},\"hover_glyph\":null,\"muted_glyph\":{\"id\":\"25109\"},\"nonselection_glyph\":{\"id\":\"25108\"},\"selection_glyph\":null,\"view\":{\"id\":\"25111\"}},\"id\":\"25110\",\"type\":\"GlyphRenderer\"},{\"attributes\":{\"axis\":{\"id\":\"25084\"},\"grid_line_color\":null,\"ticker\":null},\"id\":\"25086\",\"type\":\"Grid\"},{\"attributes\":{\"margin\":[5,5,5,5],\"name\":\"HSpacer47422\",\"sizing_mode\":\"stretch_width\"},\"id\":\"25071\",\"type\":\"Spacer\"},{\"attributes\":{\"below\":[{\"id\":\"25084\"}],\"center\":[{\"id\":\"25086\"},{\"id\":\"25090\"}],\"left\":[{\"id\":\"25087\"}],\"margin\":[5,5,5,5],\"min_border_bottom\":10,\"min_border_left\":10,\"min_border_right\":10,\"min_border_top\":10,\"plot_height\":300,\"plot_width\":700,\"renderers\":[{\"id\":\"25110\"}],\"sizing_mode\":\"fixed\",\"title\":{\"id\":\"25076\"},\"toolbar\":{\"id\":\"25097\"},\"x_range\":{\"id\":\"25072\"},\"x_scale\":{\"id\":\"25080\"},\"y_range\":{\"id\":\"25073\"},\"y_scale\":{\"id\":\"25082\"}},\"id\":\"25075\",\"subtype\":\"Figure\",\"type\":\"Plot\"},{\"attributes\":{\"axis\":{\"id\":\"25087\"},\"dimension\":1,\"grid_line_color\":null,\"ticker\":null},\"id\":\"25090\",\"type\":\"Grid\"},{\"attributes\":{\"margin\":[5,5,5,5],\"name\":\"HSpacer47423\",\"sizing_mode\":\"stretch_width\"},\"id\":\"25132\",\"type\":\"Spacer\"},{\"attributes\":{\"data\":{\"Amount\":{\"__ndarray__\":\"7FG4HoXrwT9wPQrXo3AbQA==\",\"dtype\":\"float64\",\"order\":\"little\",\"shape\":[2]},\"Label\":[\"Amount\",\"Amount\"]},\"selected\":{\"id\":\"25105\"},\"selection_policy\":{\"id\":\"25122\"}},\"id\":\"25104\",\"type\":\"ColumnDataSource\"},{\"attributes\":{\"end\":6.999999999999999,\"reset_end\":6.999999999999999,\"reset_start\":0.0,\"tags\":[[[\"Amount\",\"Amount\",null]]]},\"id\":\"25073\",\"type\":\"Range1d\"},{\"attributes\":{},\"id\":\"25095\",\"type\":\"ResetTool\"},{\"attributes\":{},\"id\":\"25092\",\"type\":\"PanTool\"},{\"attributes\":{\"text\":\"\",\"text_color\":{\"value\":\"black\"},\"text_font_size\":{\"value\":\"12pt\"}},\"id\":\"25076\",\"type\":\"Title\"},{\"attributes\":{},\"id\":\"25080\",\"type\":\"CategoricalScale\"},{\"attributes\":{\"callback\":null,\"renderers\":[{\"id\":\"25110\"}],\"tags\":[\"hv_created\"],\"tooltips\":[[\"Label\",\"@{Label}\"],[\"Amount\",\"@{Amount}\"]]},\"id\":\"25074\",\"type\":\"HoverTool\"},{\"attributes\":{\"fill_alpha\":{\"value\":0.1},\"fill_color\":{\"value\":\"#0F2EEE\"},\"line_alpha\":{\"value\":0.1},\"top\":{\"field\":\"Amount\"},\"width\":{\"value\":0.8},\"x\":{\"field\":\"Label\"}},\"id\":\"25108\",\"type\":\"VBar\"},{\"attributes\":{},\"id\":\"25114\",\"type\":\"BasicTickFormatter\"},{\"attributes\":{\"axis_label\":\"Amount\",\"bounds\":\"auto\",\"formatter\":{\"id\":\"25114\"},\"major_label_orientation\":\"horizontal\",\"ticker\":{\"id\":\"25088\"}},\"id\":\"25087\",\"type\":\"LinearAxis\"},{\"attributes\":{\"overlay\":{\"id\":\"25096\"}},\"id\":\"25094\",\"type\":\"BoxZoomTool\"}],\"root_ids\":[\"25070\"]},\"title\":\"Bokeh Application\",\"version\":\"2.2.3\"}};\n",
       "    var render_items = [{\"docid\":\"f0b50450-4841-47c9-a981-d67df313a275\",\"root_ids\":[\"25070\"],\"roots\":{\"25070\":\"4b25270f-d02b-4487-89b9-3e73493d3067\"}}];\n",
       "    root.Bokeh.embed.embed_items_notebook(docs_json, render_items);\n",
       "  }\n",
       "  if (root.Bokeh !== undefined && root.Bokeh.Panel !== undefined) {\n",
       "    embed_document(root);\n",
       "  } else {\n",
       "    var attempts = 0;\n",
       "    var timer = setInterval(function(root) {\n",
       "      if (root.Bokeh !== undefined && root.Bokeh.Panel !== undefined) {\n",
       "        clearInterval(timer);\n",
       "        embed_document(root);\n",
       "      } else if (document.readyState == \"complete\") {\n",
       "        attempts++;\n",
       "        if (attempts > 100) {\n",
       "          clearInterval(timer);\n",
       "          console.log(\"Bokeh: ERROR: Unable to run BokehJS code because BokehJS library is missing\");\n",
       "        }\n",
       "      }\n",
       "    }, 10, root)\n",
       "  }\n",
       "})(window);</script>"
      ],
      "text/plain": [
       ":Bars   [Label]   (Amount)"
      ]
     },
     "execution_count": 191,
     "metadata": {
      "application/vnd.holoviews_exec.v0+json": {
       "id": "25070"
      }
     },
     "output_type": "execute_result"
    }
   ],
   "source": [
    "bar.set_index('Label',append=True).hvplot.bar(stacked=True).opts(color=hv.Cycle(['#0F2EEE', '#0b0a15', '#DEFB48']))"
   ]
  },
  {
   "cell_type": "code",
   "execution_count": null,
   "id": "visible-outline",
   "metadata": {},
   "outputs": [],
   "source": [
    "opts.defaults(\n",
    "        color=hv.Cycle(colors.COLOR_CYCLE)\n",
    "    )"
   ]
  },
  {
   "cell_type": "code",
   "execution_count": 182,
   "id": "distributed-wallpaper",
   "metadata": {},
   "outputs": [
    {
     "data": {
      "text/html": [
       "<div>\n",
       "<style scoped>\n",
       "    .dataframe tbody tr th:only-of-type {\n",
       "        vertical-align: middle;\n",
       "    }\n",
       "\n",
       "    .dataframe tbody tr th {\n",
       "        vertical-align: top;\n",
       "    }\n",
       "\n",
       "    .dataframe thead th {\n",
       "        text-align: right;\n",
       "    }\n",
       "</style>\n",
       "<table border=\"1\" class=\"dataframe\">\n",
       "  <thead>\n",
       "    <tr style=\"text-align: right;\">\n",
       "      <th></th>\n",
       "      <th>Label</th>\n",
       "      <th>Amount</th>\n",
       "    </tr>\n",
       "  </thead>\n",
       "  <tbody>\n",
       "    <tr>\n",
       "      <th>0</th>\n",
       "      <td>Amount</td>\n",
       "      <td>0.14</td>\n",
       "    </tr>\n",
       "    <tr>\n",
       "      <th>1</th>\n",
       "      <td>Amount</td>\n",
       "      <td>6.86</td>\n",
       "    </tr>\n",
       "  </tbody>\n",
       "</table>\n",
       "</div>"
      ],
      "text/plain": [
       "    Label  Amount\n",
       "0  Amount    0.14\n",
       "1  Amount    6.86"
      ]
     },
     "execution_count": 182,
     "metadata": {},
     "output_type": "execute_result"
    }
   ],
   "source": [
    "bar"
   ]
  },
  {
   "cell_type": "code",
   "execution_count": 178,
   "id": "hungarian-panic",
   "metadata": {},
   "outputs": [
    {
     "ename": "TypeError",
     "evalue": "reset_index() got an unexpected keyword argument 'append'",
     "output_type": "error",
     "traceback": [
      "\u001b[0;31m---------------------------------------------------------------------------\u001b[0m",
      "\u001b[0;31mTypeError\u001b[0m                                 Traceback (most recent call last)",
      "\u001b[0;32m<ipython-input-178-244eb40e2b78>\u001b[0m in \u001b[0;36m<module>\u001b[0;34m\u001b[0m\n\u001b[0;32m----> 1\u001b[0;31m \u001b[0mbar\u001b[0m\u001b[0;34m.\u001b[0m\u001b[0mreset_index\u001b[0m\u001b[0;34m(\u001b[0m\u001b[0mappend\u001b[0m\u001b[0;34m=\u001b[0m\u001b[0;32mTrue\u001b[0m\u001b[0;34m)\u001b[0m\u001b[0;34m.\u001b[0m\u001b[0mhvplot\u001b[0m\u001b[0;34m.\u001b[0m\u001b[0mbar\u001b[0m\u001b[0;34m(\u001b[0m\u001b[0mstacked\u001b[0m\u001b[0;34m=\u001b[0m\u001b[0;32mTrue\u001b[0m\u001b[0;34m)\u001b[0m\u001b[0;34m\u001b[0m\u001b[0;34m\u001b[0m\u001b[0m\n\u001b[0m",
      "\u001b[0;31mTypeError\u001b[0m: reset_index() got an unexpected keyword argument 'append'"
     ]
    }
   ],
   "source": [
    "bar.reset_index(append=True).hvplot.bar(stacked=True)"
   ]
  },
  {
   "cell_type": "code",
   "execution_count": 164,
   "id": "descending-extra",
   "metadata": {},
   "outputs": [
    {
     "data": {
      "text/html": [
       "<div>\n",
       "<style scoped>\n",
       "    .dataframe tbody tr th:only-of-type {\n",
       "        vertical-align: middle;\n",
       "    }\n",
       "\n",
       "    .dataframe tbody tr th {\n",
       "        vertical-align: top;\n",
       "    }\n",
       "\n",
       "    .dataframe thead th {\n",
       "        text-align: right;\n",
       "    }\n",
       "</style>\n",
       "<table border=\"1\" class=\"dataframe\">\n",
       "  <thead>\n",
       "    <tr style=\"text-align: right;\">\n",
       "      <th></th>\n",
       "      <th>Label</th>\n",
       "      <th>Amount</th>\n",
       "      <th>A2</th>\n",
       "    </tr>\n",
       "  </thead>\n",
       "  <tbody>\n",
       "    <tr>\n",
       "      <th>0</th>\n",
       "      <td>A</td>\n",
       "      <td>0.14</td>\n",
       "      <td>2.0</td>\n",
       "    </tr>\n",
       "    <tr>\n",
       "      <th>1</th>\n",
       "      <td>B</td>\n",
       "      <td>(0.98, 2, 0.98, 2, 0.98, 2, 0.98, 2, 0.98, 2, ...</td>\n",
       "      <td>NaN</td>\n",
       "    </tr>\n",
       "  </tbody>\n",
       "</table>\n",
       "</div>"
      ],
      "text/plain": [
       "  Label                                             Amount   A2\n",
       "0     A                                               0.14  2.0\n",
       "1     B  (0.98, 2, 0.98, 2, 0.98, 2, 0.98, 2, 0.98, 2, ...  NaN"
      ]
     },
     "execution_count": 164,
     "metadata": {},
     "output_type": "execute_result"
    }
   ],
   "source": [
    "bar"
   ]
  },
  {
   "cell_type": "code",
   "execution_count": 163,
   "id": "filled-money",
   "metadata": {},
   "outputs": [
    {
     "ename": "TypeError",
     "evalue": "'<' not supported between instances of 'tuple' and 'float'",
     "output_type": "error",
     "traceback": [
      "\u001b[0;31m---------------------------------------------------------------------------\u001b[0m",
      "\u001b[0;31mTypeError\u001b[0m                                 Traceback (most recent call last)",
      "\u001b[0;32m~/.cache/pypoetry/virtualenvs/tec-lab-28y3wQ5Q-py3.8/lib/python3.8/site-packages/IPython/core/formatters.py\u001b[0m in \u001b[0;36m__call__\u001b[0;34m(self, obj, include, exclude)\u001b[0m\n\u001b[1;32m    968\u001b[0m \u001b[0;34m\u001b[0m\u001b[0m\n\u001b[1;32m    969\u001b[0m             \u001b[0;32mif\u001b[0m \u001b[0mmethod\u001b[0m \u001b[0;32mis\u001b[0m \u001b[0;32mnot\u001b[0m \u001b[0;32mNone\u001b[0m\u001b[0;34m:\u001b[0m\u001b[0;34m\u001b[0m\u001b[0;34m\u001b[0m\u001b[0m\n\u001b[0;32m--> 970\u001b[0;31m                 \u001b[0;32mreturn\u001b[0m \u001b[0mmethod\u001b[0m\u001b[0;34m(\u001b[0m\u001b[0minclude\u001b[0m\u001b[0;34m=\u001b[0m\u001b[0minclude\u001b[0m\u001b[0;34m,\u001b[0m \u001b[0mexclude\u001b[0m\u001b[0;34m=\u001b[0m\u001b[0mexclude\u001b[0m\u001b[0;34m)\u001b[0m\u001b[0;34m\u001b[0m\u001b[0;34m\u001b[0m\u001b[0m\n\u001b[0m\u001b[1;32m    971\u001b[0m             \u001b[0;32mreturn\u001b[0m \u001b[0;32mNone\u001b[0m\u001b[0;34m\u001b[0m\u001b[0;34m\u001b[0m\u001b[0m\n\u001b[1;32m    972\u001b[0m         \u001b[0;32melse\u001b[0m\u001b[0;34m:\u001b[0m\u001b[0;34m\u001b[0m\u001b[0;34m\u001b[0m\u001b[0m\n",
      "\u001b[0;32m~/.cache/pypoetry/virtualenvs/tec-lab-28y3wQ5Q-py3.8/lib/python3.8/site-packages/holoviews/core/dimension.py\u001b[0m in \u001b[0;36m_repr_mimebundle_\u001b[0;34m(self, include, exclude)\u001b[0m\n\u001b[1;32m   1314\u001b[0m         \u001b[0mcombined\u001b[0m \u001b[0;32mand\u001b[0m \u001b[0mreturned\u001b[0m\u001b[0;34m.\u001b[0m\u001b[0;34m\u001b[0m\u001b[0;34m\u001b[0m\u001b[0m\n\u001b[1;32m   1315\u001b[0m         \"\"\"\n\u001b[0;32m-> 1316\u001b[0;31m         \u001b[0;32mreturn\u001b[0m \u001b[0mStore\u001b[0m\u001b[0;34m.\u001b[0m\u001b[0mrender\u001b[0m\u001b[0;34m(\u001b[0m\u001b[0mself\u001b[0m\u001b[0;34m)\u001b[0m\u001b[0;34m\u001b[0m\u001b[0;34m\u001b[0m\u001b[0m\n\u001b[0m\u001b[1;32m   1317\u001b[0m \u001b[0;34m\u001b[0m\u001b[0m\n\u001b[1;32m   1318\u001b[0m \u001b[0;34m\u001b[0m\u001b[0m\n",
      "\u001b[0;32m~/.cache/pypoetry/virtualenvs/tec-lab-28y3wQ5Q-py3.8/lib/python3.8/site-packages/holoviews/core/options.py\u001b[0m in \u001b[0;36mrender\u001b[0;34m(cls, obj)\u001b[0m\n\u001b[1;32m   1403\u001b[0m         \u001b[0mdata\u001b[0m\u001b[0;34m,\u001b[0m \u001b[0mmetadata\u001b[0m \u001b[0;34m=\u001b[0m \u001b[0;34m{\u001b[0m\u001b[0;34m}\u001b[0m\u001b[0;34m,\u001b[0m \u001b[0;34m{\u001b[0m\u001b[0;34m}\u001b[0m\u001b[0;34m\u001b[0m\u001b[0;34m\u001b[0m\u001b[0m\n\u001b[1;32m   1404\u001b[0m         \u001b[0;32mfor\u001b[0m \u001b[0mhook\u001b[0m \u001b[0;32min\u001b[0m \u001b[0mhooks\u001b[0m\u001b[0;34m:\u001b[0m\u001b[0;34m\u001b[0m\u001b[0;34m\u001b[0m\u001b[0m\n\u001b[0;32m-> 1405\u001b[0;31m             \u001b[0mret\u001b[0m \u001b[0;34m=\u001b[0m \u001b[0mhook\u001b[0m\u001b[0;34m(\u001b[0m\u001b[0mobj\u001b[0m\u001b[0;34m)\u001b[0m\u001b[0;34m\u001b[0m\u001b[0;34m\u001b[0m\u001b[0m\n\u001b[0m\u001b[1;32m   1406\u001b[0m             \u001b[0;32mif\u001b[0m \u001b[0mret\u001b[0m \u001b[0;32mis\u001b[0m \u001b[0;32mNone\u001b[0m\u001b[0;34m:\u001b[0m\u001b[0;34m\u001b[0m\u001b[0;34m\u001b[0m\u001b[0m\n\u001b[1;32m   1407\u001b[0m                 \u001b[0;32mcontinue\u001b[0m\u001b[0;34m\u001b[0m\u001b[0;34m\u001b[0m\u001b[0m\n",
      "\u001b[0;32m~/.cache/pypoetry/virtualenvs/tec-lab-28y3wQ5Q-py3.8/lib/python3.8/site-packages/holoviews/ipython/display_hooks.py\u001b[0m in \u001b[0;36mpprint_display\u001b[0;34m(obj)\u001b[0m\n\u001b[1;32m    280\u001b[0m     \u001b[0;32mif\u001b[0m \u001b[0;32mnot\u001b[0m \u001b[0mip\u001b[0m\u001b[0;34m.\u001b[0m\u001b[0mdisplay_formatter\u001b[0m\u001b[0;34m.\u001b[0m\u001b[0mformatters\u001b[0m\u001b[0;34m[\u001b[0m\u001b[0;34m'text/plain'\u001b[0m\u001b[0;34m]\u001b[0m\u001b[0;34m.\u001b[0m\u001b[0mpprint\u001b[0m\u001b[0;34m:\u001b[0m\u001b[0;34m\u001b[0m\u001b[0;34m\u001b[0m\u001b[0m\n\u001b[1;32m    281\u001b[0m         \u001b[0;32mreturn\u001b[0m \u001b[0;32mNone\u001b[0m\u001b[0;34m\u001b[0m\u001b[0;34m\u001b[0m\u001b[0m\n\u001b[0;32m--> 282\u001b[0;31m     \u001b[0;32mreturn\u001b[0m \u001b[0mdisplay\u001b[0m\u001b[0;34m(\u001b[0m\u001b[0mobj\u001b[0m\u001b[0;34m,\u001b[0m \u001b[0mraw_output\u001b[0m\u001b[0;34m=\u001b[0m\u001b[0;32mTrue\u001b[0m\u001b[0;34m)\u001b[0m\u001b[0;34m\u001b[0m\u001b[0;34m\u001b[0m\u001b[0m\n\u001b[0m\u001b[1;32m    283\u001b[0m \u001b[0;34m\u001b[0m\u001b[0m\n\u001b[1;32m    284\u001b[0m \u001b[0;34m\u001b[0m\u001b[0m\n",
      "\u001b[0;32m~/.cache/pypoetry/virtualenvs/tec-lab-28y3wQ5Q-py3.8/lib/python3.8/site-packages/holoviews/ipython/display_hooks.py\u001b[0m in \u001b[0;36mdisplay\u001b[0;34m(obj, raw_output, **kwargs)\u001b[0m\n\u001b[1;32m    250\u001b[0m     \u001b[0;32melif\u001b[0m \u001b[0misinstance\u001b[0m\u001b[0;34m(\u001b[0m\u001b[0mobj\u001b[0m\u001b[0;34m,\u001b[0m \u001b[0;34m(\u001b[0m\u001b[0mCompositeOverlay\u001b[0m\u001b[0;34m,\u001b[0m \u001b[0mViewableElement\u001b[0m\u001b[0;34m)\u001b[0m\u001b[0;34m)\u001b[0m\u001b[0;34m:\u001b[0m\u001b[0;34m\u001b[0m\u001b[0;34m\u001b[0m\u001b[0m\n\u001b[1;32m    251\u001b[0m         \u001b[0;32mwith\u001b[0m \u001b[0moption_state\u001b[0m\u001b[0;34m(\u001b[0m\u001b[0mobj\u001b[0m\u001b[0;34m)\u001b[0m\u001b[0;34m:\u001b[0m\u001b[0;34m\u001b[0m\u001b[0;34m\u001b[0m\u001b[0m\n\u001b[0;32m--> 252\u001b[0;31m             \u001b[0moutput\u001b[0m \u001b[0;34m=\u001b[0m \u001b[0melement_display\u001b[0m\u001b[0;34m(\u001b[0m\u001b[0mobj\u001b[0m\u001b[0;34m)\u001b[0m\u001b[0;34m\u001b[0m\u001b[0;34m\u001b[0m\u001b[0m\n\u001b[0m\u001b[1;32m    253\u001b[0m     \u001b[0;32melif\u001b[0m \u001b[0misinstance\u001b[0m\u001b[0;34m(\u001b[0m\u001b[0mobj\u001b[0m\u001b[0;34m,\u001b[0m \u001b[0;34m(\u001b[0m\u001b[0mLayout\u001b[0m\u001b[0;34m,\u001b[0m \u001b[0mNdLayout\u001b[0m\u001b[0;34m,\u001b[0m \u001b[0mAdjointLayout\u001b[0m\u001b[0;34m)\u001b[0m\u001b[0;34m)\u001b[0m\u001b[0;34m:\u001b[0m\u001b[0;34m\u001b[0m\u001b[0;34m\u001b[0m\u001b[0m\n\u001b[1;32m    254\u001b[0m         \u001b[0;32mwith\u001b[0m \u001b[0moption_state\u001b[0m\u001b[0;34m(\u001b[0m\u001b[0mobj\u001b[0m\u001b[0;34m)\u001b[0m\u001b[0;34m:\u001b[0m\u001b[0;34m\u001b[0m\u001b[0;34m\u001b[0m\u001b[0m\n",
      "\u001b[0;32m~/.cache/pypoetry/virtualenvs/tec-lab-28y3wQ5Q-py3.8/lib/python3.8/site-packages/holoviews/ipython/display_hooks.py\u001b[0m in \u001b[0;36mwrapped\u001b[0;34m(element)\u001b[0m\n\u001b[1;32m    144\u001b[0m         \u001b[0;32mtry\u001b[0m\u001b[0;34m:\u001b[0m\u001b[0;34m\u001b[0m\u001b[0;34m\u001b[0m\u001b[0m\n\u001b[1;32m    145\u001b[0m             \u001b[0mmax_frames\u001b[0m \u001b[0;34m=\u001b[0m \u001b[0mOutputSettings\u001b[0m\u001b[0;34m.\u001b[0m\u001b[0moptions\u001b[0m\u001b[0;34m[\u001b[0m\u001b[0;34m'max_frames'\u001b[0m\u001b[0;34m]\u001b[0m\u001b[0;34m\u001b[0m\u001b[0;34m\u001b[0m\u001b[0m\n\u001b[0;32m--> 146\u001b[0;31m             \u001b[0mmimebundle\u001b[0m \u001b[0;34m=\u001b[0m \u001b[0mfn\u001b[0m\u001b[0;34m(\u001b[0m\u001b[0melement\u001b[0m\u001b[0;34m,\u001b[0m \u001b[0mmax_frames\u001b[0m\u001b[0;34m=\u001b[0m\u001b[0mmax_frames\u001b[0m\u001b[0;34m)\u001b[0m\u001b[0;34m\u001b[0m\u001b[0;34m\u001b[0m\u001b[0m\n\u001b[0m\u001b[1;32m    147\u001b[0m             \u001b[0;32mif\u001b[0m \u001b[0mmimebundle\u001b[0m \u001b[0;32mis\u001b[0m \u001b[0;32mNone\u001b[0m\u001b[0;34m:\u001b[0m\u001b[0;34m\u001b[0m\u001b[0;34m\u001b[0m\u001b[0m\n\u001b[1;32m    148\u001b[0m                 \u001b[0;32mreturn\u001b[0m \u001b[0;34m{\u001b[0m\u001b[0;34m}\u001b[0m\u001b[0;34m,\u001b[0m \u001b[0;34m{\u001b[0m\u001b[0;34m}\u001b[0m\u001b[0;34m\u001b[0m\u001b[0;34m\u001b[0m\u001b[0m\n",
      "\u001b[0;32m~/.cache/pypoetry/virtualenvs/tec-lab-28y3wQ5Q-py3.8/lib/python3.8/site-packages/holoviews/ipython/display_hooks.py\u001b[0m in \u001b[0;36melement_display\u001b[0;34m(element, max_frames)\u001b[0m\n\u001b[1;32m    190\u001b[0m         \u001b[0;32mreturn\u001b[0m \u001b[0;32mNone\u001b[0m\u001b[0;34m\u001b[0m\u001b[0;34m\u001b[0m\u001b[0m\n\u001b[1;32m    191\u001b[0m \u001b[0;34m\u001b[0m\u001b[0m\n\u001b[0;32m--> 192\u001b[0;31m     \u001b[0;32mreturn\u001b[0m \u001b[0mrender\u001b[0m\u001b[0;34m(\u001b[0m\u001b[0melement\u001b[0m\u001b[0;34m)\u001b[0m\u001b[0;34m\u001b[0m\u001b[0;34m\u001b[0m\u001b[0m\n\u001b[0m\u001b[1;32m    193\u001b[0m \u001b[0;34m\u001b[0m\u001b[0m\n\u001b[1;32m    194\u001b[0m \u001b[0;34m\u001b[0m\u001b[0m\n",
      "\u001b[0;32m~/.cache/pypoetry/virtualenvs/tec-lab-28y3wQ5Q-py3.8/lib/python3.8/site-packages/holoviews/ipython/display_hooks.py\u001b[0m in \u001b[0;36mrender\u001b[0;34m(obj, **kwargs)\u001b[0m\n\u001b[1;32m     66\u001b[0m         \u001b[0mrenderer\u001b[0m \u001b[0;34m=\u001b[0m \u001b[0mrenderer\u001b[0m\u001b[0;34m.\u001b[0m\u001b[0minstance\u001b[0m\u001b[0;34m(\u001b[0m\u001b[0mfig\u001b[0m\u001b[0;34m=\u001b[0m\u001b[0;34m'png'\u001b[0m\u001b[0;34m)\u001b[0m\u001b[0;34m\u001b[0m\u001b[0;34m\u001b[0m\u001b[0m\n\u001b[1;32m     67\u001b[0m \u001b[0;34m\u001b[0m\u001b[0m\n\u001b[0;32m---> 68\u001b[0;31m     \u001b[0;32mreturn\u001b[0m \u001b[0mrenderer\u001b[0m\u001b[0;34m.\u001b[0m\u001b[0mcomponents\u001b[0m\u001b[0;34m(\u001b[0m\u001b[0mobj\u001b[0m\u001b[0;34m,\u001b[0m \u001b[0;34m**\u001b[0m\u001b[0mkwargs\u001b[0m\u001b[0;34m)\u001b[0m\u001b[0;34m\u001b[0m\u001b[0;34m\u001b[0m\u001b[0m\n\u001b[0m\u001b[1;32m     69\u001b[0m \u001b[0;34m\u001b[0m\u001b[0m\n\u001b[1;32m     70\u001b[0m \u001b[0;34m\u001b[0m\u001b[0m\n",
      "\u001b[0;32m~/.cache/pypoetry/virtualenvs/tec-lab-28y3wQ5Q-py3.8/lib/python3.8/site-packages/holoviews/plotting/renderer.py\u001b[0m in \u001b[0;36mcomponents\u001b[0;34m(self, obj, fmt, comm, **kwargs)\u001b[0m\n\u001b[1;32m    408\u001b[0m                 \u001b[0mdoc\u001b[0m \u001b[0;34m=\u001b[0m \u001b[0mDocument\u001b[0m\u001b[0;34m(\u001b[0m\u001b[0;34m)\u001b[0m\u001b[0;34m\u001b[0m\u001b[0;34m\u001b[0m\u001b[0m\n\u001b[1;32m    409\u001b[0m                 \u001b[0;32mwith\u001b[0m \u001b[0mconfig\u001b[0m\u001b[0;34m.\u001b[0m\u001b[0mset\u001b[0m\u001b[0;34m(\u001b[0m\u001b[0membed\u001b[0m\u001b[0;34m=\u001b[0m\u001b[0membed\u001b[0m\u001b[0;34m)\u001b[0m\u001b[0;34m:\u001b[0m\u001b[0;34m\u001b[0m\u001b[0;34m\u001b[0m\u001b[0m\n\u001b[0;32m--> 410\u001b[0;31m                     \u001b[0mmodel\u001b[0m \u001b[0;34m=\u001b[0m \u001b[0mplot\u001b[0m\u001b[0;34m.\u001b[0m\u001b[0mlayout\u001b[0m\u001b[0;34m.\u001b[0m\u001b[0m_render_model\u001b[0m\u001b[0;34m(\u001b[0m\u001b[0mdoc\u001b[0m\u001b[0;34m,\u001b[0m \u001b[0mcomm\u001b[0m\u001b[0;34m)\u001b[0m\u001b[0;34m\u001b[0m\u001b[0;34m\u001b[0m\u001b[0m\n\u001b[0m\u001b[1;32m    411\u001b[0m                 \u001b[0;32mif\u001b[0m \u001b[0membed\u001b[0m\u001b[0;34m:\u001b[0m\u001b[0;34m\u001b[0m\u001b[0;34m\u001b[0m\u001b[0m\n\u001b[1;32m    412\u001b[0m                     \u001b[0;32mreturn\u001b[0m \u001b[0mrender_model\u001b[0m\u001b[0;34m(\u001b[0m\u001b[0mmodel\u001b[0m\u001b[0;34m,\u001b[0m \u001b[0mcomm\u001b[0m\u001b[0;34m)\u001b[0m\u001b[0;34m\u001b[0m\u001b[0;34m\u001b[0m\u001b[0m\n",
      "\u001b[0;32m~/.cache/pypoetry/virtualenvs/tec-lab-28y3wQ5Q-py3.8/lib/python3.8/site-packages/panel/viewable.py\u001b[0m in \u001b[0;36m_render_model\u001b[0;34m(self, doc, comm)\u001b[0m\n\u001b[1;32m    422\u001b[0m         \u001b[0;32mif\u001b[0m \u001b[0mcomm\u001b[0m \u001b[0;32mis\u001b[0m \u001b[0;32mNone\u001b[0m\u001b[0;34m:\u001b[0m\u001b[0;34m\u001b[0m\u001b[0;34m\u001b[0m\u001b[0m\n\u001b[1;32m    423\u001b[0m             \u001b[0mcomm\u001b[0m \u001b[0;34m=\u001b[0m \u001b[0mstate\u001b[0m\u001b[0;34m.\u001b[0m\u001b[0m_comm_manager\u001b[0m\u001b[0;34m.\u001b[0m\u001b[0mget_server_comm\u001b[0m\u001b[0;34m(\u001b[0m\u001b[0;34m)\u001b[0m\u001b[0;34m\u001b[0m\u001b[0;34m\u001b[0m\u001b[0m\n\u001b[0;32m--> 424\u001b[0;31m         \u001b[0mmodel\u001b[0m \u001b[0;34m=\u001b[0m \u001b[0mself\u001b[0m\u001b[0;34m.\u001b[0m\u001b[0mget_root\u001b[0m\u001b[0;34m(\u001b[0m\u001b[0mdoc\u001b[0m\u001b[0;34m,\u001b[0m \u001b[0mcomm\u001b[0m\u001b[0;34m)\u001b[0m\u001b[0;34m\u001b[0m\u001b[0;34m\u001b[0m\u001b[0m\n\u001b[0m\u001b[1;32m    425\u001b[0m \u001b[0;34m\u001b[0m\u001b[0m\n\u001b[1;32m    426\u001b[0m         \u001b[0;32mif\u001b[0m \u001b[0mconfig\u001b[0m\u001b[0;34m.\u001b[0m\u001b[0membed\u001b[0m\u001b[0;34m:\u001b[0m\u001b[0;34m\u001b[0m\u001b[0;34m\u001b[0m\u001b[0m\n",
      "\u001b[0;32m~/.cache/pypoetry/virtualenvs/tec-lab-28y3wQ5Q-py3.8/lib/python3.8/site-packages/panel/viewable.py\u001b[0m in \u001b[0;36mget_root\u001b[0;34m(self, doc, comm, preprocess)\u001b[0m\n\u001b[1;32m    480\u001b[0m         \"\"\"\n\u001b[1;32m    481\u001b[0m         \u001b[0mdoc\u001b[0m \u001b[0;34m=\u001b[0m \u001b[0minit_doc\u001b[0m\u001b[0;34m(\u001b[0m\u001b[0mdoc\u001b[0m\u001b[0;34m)\u001b[0m\u001b[0;34m\u001b[0m\u001b[0;34m\u001b[0m\u001b[0m\n\u001b[0;32m--> 482\u001b[0;31m         \u001b[0mroot\u001b[0m \u001b[0;34m=\u001b[0m \u001b[0mself\u001b[0m\u001b[0;34m.\u001b[0m\u001b[0m_get_model\u001b[0m\u001b[0;34m(\u001b[0m\u001b[0mdoc\u001b[0m\u001b[0;34m,\u001b[0m \u001b[0mcomm\u001b[0m\u001b[0;34m=\u001b[0m\u001b[0mcomm\u001b[0m\u001b[0;34m)\u001b[0m\u001b[0;34m\u001b[0m\u001b[0;34m\u001b[0m\u001b[0m\n\u001b[0m\u001b[1;32m    483\u001b[0m         \u001b[0;32mif\u001b[0m \u001b[0mpreprocess\u001b[0m\u001b[0;34m:\u001b[0m\u001b[0;34m\u001b[0m\u001b[0;34m\u001b[0m\u001b[0m\n\u001b[1;32m    484\u001b[0m             \u001b[0mself\u001b[0m\u001b[0;34m.\u001b[0m\u001b[0m_preprocess\u001b[0m\u001b[0;34m(\u001b[0m\u001b[0mroot\u001b[0m\u001b[0;34m)\u001b[0m\u001b[0;34m\u001b[0m\u001b[0;34m\u001b[0m\u001b[0m\n",
      "\u001b[0;32m~/.cache/pypoetry/virtualenvs/tec-lab-28y3wQ5Q-py3.8/lib/python3.8/site-packages/panel/layout/base.py\u001b[0m in \u001b[0;36m_get_model\u001b[0;34m(self, doc, root, parent, comm)\u001b[0m\n\u001b[1;32m    110\u001b[0m         \u001b[0;32mif\u001b[0m \u001b[0mroot\u001b[0m \u001b[0;32mis\u001b[0m \u001b[0;32mNone\u001b[0m\u001b[0;34m:\u001b[0m\u001b[0;34m\u001b[0m\u001b[0;34m\u001b[0m\u001b[0m\n\u001b[1;32m    111\u001b[0m             \u001b[0mroot\u001b[0m \u001b[0;34m=\u001b[0m \u001b[0mmodel\u001b[0m\u001b[0;34m\u001b[0m\u001b[0;34m\u001b[0m\u001b[0m\n\u001b[0;32m--> 112\u001b[0;31m         \u001b[0mobjects\u001b[0m \u001b[0;34m=\u001b[0m \u001b[0mself\u001b[0m\u001b[0;34m.\u001b[0m\u001b[0m_get_objects\u001b[0m\u001b[0;34m(\u001b[0m\u001b[0mmodel\u001b[0m\u001b[0;34m,\u001b[0m \u001b[0;34m[\u001b[0m\u001b[0;34m]\u001b[0m\u001b[0;34m,\u001b[0m \u001b[0mdoc\u001b[0m\u001b[0;34m,\u001b[0m \u001b[0mroot\u001b[0m\u001b[0;34m,\u001b[0m \u001b[0mcomm\u001b[0m\u001b[0;34m)\u001b[0m\u001b[0;34m\u001b[0m\u001b[0;34m\u001b[0m\u001b[0m\n\u001b[0m\u001b[1;32m    113\u001b[0m         \u001b[0mprops\u001b[0m \u001b[0;34m=\u001b[0m \u001b[0mdict\u001b[0m\u001b[0;34m(\u001b[0m\u001b[0mself\u001b[0m\u001b[0;34m.\u001b[0m\u001b[0m_init_properties\u001b[0m\u001b[0;34m(\u001b[0m\u001b[0;34m)\u001b[0m\u001b[0;34m,\u001b[0m \u001b[0mobjects\u001b[0m\u001b[0;34m=\u001b[0m\u001b[0mobjects\u001b[0m\u001b[0;34m)\u001b[0m\u001b[0;34m\u001b[0m\u001b[0;34m\u001b[0m\u001b[0m\n\u001b[1;32m    114\u001b[0m         \u001b[0mmodel\u001b[0m\u001b[0;34m.\u001b[0m\u001b[0mupdate\u001b[0m\u001b[0;34m(\u001b[0m\u001b[0;34m**\u001b[0m\u001b[0mself\u001b[0m\u001b[0;34m.\u001b[0m\u001b[0m_process_param_change\u001b[0m\u001b[0;34m(\u001b[0m\u001b[0mprops\u001b[0m\u001b[0;34m)\u001b[0m\u001b[0;34m)\u001b[0m\u001b[0;34m\u001b[0m\u001b[0;34m\u001b[0m\u001b[0m\n",
      "\u001b[0;32m~/.cache/pypoetry/virtualenvs/tec-lab-28y3wQ5Q-py3.8/lib/python3.8/site-packages/panel/layout/base.py\u001b[0m in \u001b[0;36m_get_objects\u001b[0;34m(self, model, old_objects, doc, root, comm)\u001b[0m\n\u001b[1;32m    100\u001b[0m             \u001b[0;32melse\u001b[0m\u001b[0;34m:\u001b[0m\u001b[0;34m\u001b[0m\u001b[0;34m\u001b[0m\u001b[0m\n\u001b[1;32m    101\u001b[0m                 \u001b[0;32mtry\u001b[0m\u001b[0;34m:\u001b[0m\u001b[0;34m\u001b[0m\u001b[0;34m\u001b[0m\u001b[0m\n\u001b[0;32m--> 102\u001b[0;31m                     \u001b[0mchild\u001b[0m \u001b[0;34m=\u001b[0m \u001b[0mpane\u001b[0m\u001b[0;34m.\u001b[0m\u001b[0m_get_model\u001b[0m\u001b[0;34m(\u001b[0m\u001b[0mdoc\u001b[0m\u001b[0;34m,\u001b[0m \u001b[0mroot\u001b[0m\u001b[0;34m,\u001b[0m \u001b[0mmodel\u001b[0m\u001b[0;34m,\u001b[0m \u001b[0mcomm\u001b[0m\u001b[0;34m)\u001b[0m\u001b[0;34m\u001b[0m\u001b[0;34m\u001b[0m\u001b[0m\n\u001b[0m\u001b[1;32m    103\u001b[0m                 \u001b[0;32mexcept\u001b[0m \u001b[0mRerenderError\u001b[0m\u001b[0;34m:\u001b[0m\u001b[0;34m\u001b[0m\u001b[0;34m\u001b[0m\u001b[0m\n\u001b[1;32m    104\u001b[0m                     \u001b[0;32mreturn\u001b[0m \u001b[0mself\u001b[0m\u001b[0;34m.\u001b[0m\u001b[0m_get_objects\u001b[0m\u001b[0;34m(\u001b[0m\u001b[0mmodel\u001b[0m\u001b[0;34m,\u001b[0m \u001b[0mcurrent_objects\u001b[0m\u001b[0;34m[\u001b[0m\u001b[0;34m:\u001b[0m\u001b[0mi\u001b[0m\u001b[0;34m]\u001b[0m\u001b[0;34m,\u001b[0m \u001b[0mdoc\u001b[0m\u001b[0;34m,\u001b[0m \u001b[0mroot\u001b[0m\u001b[0;34m,\u001b[0m \u001b[0mcomm\u001b[0m\u001b[0;34m)\u001b[0m\u001b[0;34m\u001b[0m\u001b[0;34m\u001b[0m\u001b[0m\n",
      "\u001b[0;32m~/.cache/pypoetry/virtualenvs/tec-lab-28y3wQ5Q-py3.8/lib/python3.8/site-packages/panel/pane/holoviews.py\u001b[0m in \u001b[0;36m_get_model\u001b[0;34m(self, doc, root, parent, comm)\u001b[0m\n\u001b[1;32m    239\u001b[0m             \u001b[0mplot\u001b[0m \u001b[0;34m=\u001b[0m \u001b[0mself\u001b[0m\u001b[0;34m.\u001b[0m\u001b[0mobject\u001b[0m\u001b[0;34m\u001b[0m\u001b[0;34m\u001b[0m\u001b[0m\n\u001b[1;32m    240\u001b[0m         \u001b[0;32melse\u001b[0m\u001b[0;34m:\u001b[0m\u001b[0;34m\u001b[0m\u001b[0;34m\u001b[0m\u001b[0m\n\u001b[0;32m--> 241\u001b[0;31m             \u001b[0mplot\u001b[0m \u001b[0;34m=\u001b[0m \u001b[0mself\u001b[0m\u001b[0;34m.\u001b[0m\u001b[0m_render\u001b[0m\u001b[0;34m(\u001b[0m\u001b[0mdoc\u001b[0m\u001b[0;34m,\u001b[0m \u001b[0mcomm\u001b[0m\u001b[0;34m,\u001b[0m \u001b[0mroot\u001b[0m\u001b[0;34m)\u001b[0m\u001b[0;34m\u001b[0m\u001b[0;34m\u001b[0m\u001b[0m\n\u001b[0m\u001b[1;32m    242\u001b[0m \u001b[0;34m\u001b[0m\u001b[0m\n\u001b[1;32m    243\u001b[0m         \u001b[0mplot\u001b[0m\u001b[0;34m.\u001b[0m\u001b[0mpane\u001b[0m \u001b[0;34m=\u001b[0m \u001b[0mself\u001b[0m\u001b[0;34m\u001b[0m\u001b[0;34m\u001b[0m\u001b[0m\n",
      "\u001b[0;32m~/.cache/pypoetry/virtualenvs/tec-lab-28y3wQ5Q-py3.8/lib/python3.8/site-packages/panel/pane/holoviews.py\u001b[0m in \u001b[0;36m_render\u001b[0;34m(self, doc, comm, root)\u001b[0m\n\u001b[1;32m    304\u001b[0m                 \u001b[0mkwargs\u001b[0m\u001b[0;34m[\u001b[0m\u001b[0;34m'comm'\u001b[0m\u001b[0;34m]\u001b[0m \u001b[0;34m=\u001b[0m \u001b[0mcomm\u001b[0m\u001b[0;34m\u001b[0m\u001b[0;34m\u001b[0m\u001b[0m\n\u001b[1;32m    305\u001b[0m \u001b[0;34m\u001b[0m\u001b[0m\n\u001b[0;32m--> 306\u001b[0;31m         \u001b[0;32mreturn\u001b[0m \u001b[0mrenderer\u001b[0m\u001b[0;34m.\u001b[0m\u001b[0mget_plot\u001b[0m\u001b[0;34m(\u001b[0m\u001b[0mself\u001b[0m\u001b[0;34m.\u001b[0m\u001b[0mobject\u001b[0m\u001b[0;34m,\u001b[0m \u001b[0;34m**\u001b[0m\u001b[0mkwargs\u001b[0m\u001b[0;34m)\u001b[0m\u001b[0;34m\u001b[0m\u001b[0;34m\u001b[0m\u001b[0m\n\u001b[0m\u001b[1;32m    307\u001b[0m \u001b[0;34m\u001b[0m\u001b[0m\n\u001b[1;32m    308\u001b[0m     \u001b[0;32mdef\u001b[0m \u001b[0m_cleanup\u001b[0m\u001b[0;34m(\u001b[0m\u001b[0mself\u001b[0m\u001b[0;34m,\u001b[0m \u001b[0mroot\u001b[0m\u001b[0;34m)\u001b[0m\u001b[0;34m:\u001b[0m\u001b[0;34m\u001b[0m\u001b[0;34m\u001b[0m\u001b[0m\n",
      "\u001b[0;32m~/.cache/pypoetry/virtualenvs/tec-lab-28y3wQ5Q-py3.8/lib/python3.8/site-packages/holoviews/plotting/bokeh/renderer.py\u001b[0m in \u001b[0;36mget_plot\u001b[0;34m(self_or_cls, obj, doc, renderer, **kwargs)\u001b[0m\n\u001b[1;32m     71\u001b[0m         \u001b[0mcombining\u001b[0m \u001b[0mthe\u001b[0m \u001b[0mbokeh\u001b[0m \u001b[0mmodel\u001b[0m \u001b[0;32mwith\u001b[0m \u001b[0manother\u001b[0m \u001b[0mplot\u001b[0m\u001b[0;34m.\u001b[0m\u001b[0;34m\u001b[0m\u001b[0;34m\u001b[0m\u001b[0m\n\u001b[1;32m     72\u001b[0m         \"\"\"\n\u001b[0;32m---> 73\u001b[0;31m         \u001b[0mplot\u001b[0m \u001b[0;34m=\u001b[0m \u001b[0msuper\u001b[0m\u001b[0;34m(\u001b[0m\u001b[0mBokehRenderer\u001b[0m\u001b[0;34m,\u001b[0m \u001b[0mself_or_cls\u001b[0m\u001b[0;34m)\u001b[0m\u001b[0;34m.\u001b[0m\u001b[0mget_plot\u001b[0m\u001b[0;34m(\u001b[0m\u001b[0mobj\u001b[0m\u001b[0;34m,\u001b[0m \u001b[0mdoc\u001b[0m\u001b[0;34m,\u001b[0m \u001b[0mrenderer\u001b[0m\u001b[0;34m,\u001b[0m \u001b[0;34m**\u001b[0m\u001b[0mkwargs\u001b[0m\u001b[0;34m)\u001b[0m\u001b[0;34m\u001b[0m\u001b[0;34m\u001b[0m\u001b[0m\n\u001b[0m\u001b[1;32m     74\u001b[0m         \u001b[0;32mif\u001b[0m \u001b[0mplot\u001b[0m\u001b[0;34m.\u001b[0m\u001b[0mdocument\u001b[0m \u001b[0;32mis\u001b[0m \u001b[0;32mNone\u001b[0m\u001b[0;34m:\u001b[0m\u001b[0;34m\u001b[0m\u001b[0;34m\u001b[0m\u001b[0m\n\u001b[1;32m     75\u001b[0m             \u001b[0mplot\u001b[0m\u001b[0;34m.\u001b[0m\u001b[0mdocument\u001b[0m \u001b[0;34m=\u001b[0m \u001b[0mDocument\u001b[0m\u001b[0;34m(\u001b[0m\u001b[0;34m)\u001b[0m \u001b[0;32mif\u001b[0m \u001b[0mself_or_cls\u001b[0m\u001b[0;34m.\u001b[0m\u001b[0mnotebook_context\u001b[0m \u001b[0;32melse\u001b[0m \u001b[0mcurdoc\u001b[0m\u001b[0;34m(\u001b[0m\u001b[0;34m)\u001b[0m\u001b[0;34m\u001b[0m\u001b[0;34m\u001b[0m\u001b[0m\n",
      "\u001b[0;32m~/.cache/pypoetry/virtualenvs/tec-lab-28y3wQ5Q-py3.8/lib/python3.8/site-packages/holoviews/plotting/renderer.py\u001b[0m in \u001b[0;36mget_plot\u001b[0;34m(self_or_cls, obj, doc, renderer, comm, **kwargs)\u001b[0m\n\u001b[1;32m    241\u001b[0m             init_key = tuple(v if d is None else d for v, d in\n\u001b[1;32m    242\u001b[0m                              zip(plot.keys[0], defaults))\n\u001b[0;32m--> 243\u001b[0;31m             \u001b[0mplot\u001b[0m\u001b[0;34m.\u001b[0m\u001b[0mupdate\u001b[0m\u001b[0;34m(\u001b[0m\u001b[0minit_key\u001b[0m\u001b[0;34m)\u001b[0m\u001b[0;34m\u001b[0m\u001b[0;34m\u001b[0m\u001b[0m\n\u001b[0m\u001b[1;32m    244\u001b[0m         \u001b[0;32melse\u001b[0m\u001b[0;34m:\u001b[0m\u001b[0;34m\u001b[0m\u001b[0;34m\u001b[0m\u001b[0m\n\u001b[1;32m    245\u001b[0m             \u001b[0mplot\u001b[0m \u001b[0;34m=\u001b[0m \u001b[0mobj\u001b[0m\u001b[0;34m\u001b[0m\u001b[0;34m\u001b[0m\u001b[0m\n",
      "\u001b[0;32m~/.cache/pypoetry/virtualenvs/tec-lab-28y3wQ5Q-py3.8/lib/python3.8/site-packages/holoviews/plotting/plot.py\u001b[0m in \u001b[0;36mupdate\u001b[0;34m(self, key)\u001b[0m\n\u001b[1;32m    980\u001b[0m     \u001b[0;32mdef\u001b[0m \u001b[0mupdate\u001b[0m\u001b[0;34m(\u001b[0m\u001b[0mself\u001b[0m\u001b[0;34m,\u001b[0m \u001b[0mkey\u001b[0m\u001b[0;34m)\u001b[0m\u001b[0;34m:\u001b[0m\u001b[0;34m\u001b[0m\u001b[0;34m\u001b[0m\u001b[0m\n\u001b[1;32m    981\u001b[0m         \u001b[0;32mif\u001b[0m \u001b[0mlen\u001b[0m\u001b[0;34m(\u001b[0m\u001b[0mself\u001b[0m\u001b[0;34m)\u001b[0m \u001b[0;34m==\u001b[0m \u001b[0;36m1\u001b[0m \u001b[0;32mand\u001b[0m \u001b[0;34m(\u001b[0m\u001b[0;34m(\u001b[0m\u001b[0mkey\u001b[0m \u001b[0;34m==\u001b[0m \u001b[0;36m0\u001b[0m\u001b[0;34m)\u001b[0m \u001b[0;32mor\u001b[0m \u001b[0;34m(\u001b[0m\u001b[0mkey\u001b[0m \u001b[0;34m==\u001b[0m \u001b[0mself\u001b[0m\u001b[0;34m.\u001b[0m\u001b[0mkeys\u001b[0m\u001b[0;34m[\u001b[0m\u001b[0;36m0\u001b[0m\u001b[0;34m]\u001b[0m\u001b[0;34m)\u001b[0m\u001b[0;34m)\u001b[0m \u001b[0;32mand\u001b[0m \u001b[0;32mnot\u001b[0m \u001b[0mself\u001b[0m\u001b[0;34m.\u001b[0m\u001b[0mdrawn\u001b[0m\u001b[0;34m:\u001b[0m\u001b[0;34m\u001b[0m\u001b[0;34m\u001b[0m\u001b[0m\n\u001b[0;32m--> 982\u001b[0;31m             \u001b[0;32mreturn\u001b[0m \u001b[0mself\u001b[0m\u001b[0;34m.\u001b[0m\u001b[0minitialize_plot\u001b[0m\u001b[0;34m(\u001b[0m\u001b[0;34m)\u001b[0m\u001b[0;34m\u001b[0m\u001b[0;34m\u001b[0m\u001b[0m\n\u001b[0m\u001b[1;32m    983\u001b[0m         \u001b[0mitem\u001b[0m \u001b[0;34m=\u001b[0m \u001b[0mself\u001b[0m\u001b[0;34m.\u001b[0m\u001b[0m__getitem__\u001b[0m\u001b[0;34m(\u001b[0m\u001b[0mkey\u001b[0m\u001b[0;34m)\u001b[0m\u001b[0;34m\u001b[0m\u001b[0;34m\u001b[0m\u001b[0m\n\u001b[1;32m    984\u001b[0m         \u001b[0mself\u001b[0m\u001b[0;34m.\u001b[0m\u001b[0mtraverse\u001b[0m\u001b[0;34m(\u001b[0m\u001b[0;32mlambda\u001b[0m \u001b[0mx\u001b[0m\u001b[0;34m:\u001b[0m \u001b[0msetattr\u001b[0m\u001b[0;34m(\u001b[0m\u001b[0mx\u001b[0m\u001b[0;34m,\u001b[0m \u001b[0;34m'_updated'\u001b[0m\u001b[0;34m,\u001b[0m \u001b[0;32mTrue\u001b[0m\u001b[0;34m)\u001b[0m\u001b[0;34m)\u001b[0m\u001b[0;34m\u001b[0m\u001b[0;34m\u001b[0m\u001b[0m\n",
      "\u001b[0;32m~/.cache/pypoetry/virtualenvs/tec-lab-28y3wQ5Q-py3.8/lib/python3.8/site-packages/holoviews/plotting/bokeh/element.py\u001b[0m in \u001b[0;36minitialize_plot\u001b[0;34m(self, ranges, plot, plots, source)\u001b[0m\n\u001b[1;32m   1370\u001b[0m             \u001b[0melement\u001b[0m \u001b[0;34m=\u001b[0m \u001b[0mself\u001b[0m\u001b[0;34m.\u001b[0m\u001b[0mhmap\u001b[0m\u001b[0;34m.\u001b[0m\u001b[0mlast\u001b[0m\u001b[0;34m\u001b[0m\u001b[0;34m\u001b[0m\u001b[0m\n\u001b[1;32m   1371\u001b[0m         \u001b[0mkey\u001b[0m \u001b[0;34m=\u001b[0m \u001b[0mutil\u001b[0m\u001b[0;34m.\u001b[0m\u001b[0mwrap_tuple\u001b[0m\u001b[0;34m(\u001b[0m\u001b[0mself\u001b[0m\u001b[0;34m.\u001b[0m\u001b[0mhmap\u001b[0m\u001b[0;34m.\u001b[0m\u001b[0mlast_key\u001b[0m\u001b[0;34m)\u001b[0m\u001b[0;34m\u001b[0m\u001b[0;34m\u001b[0m\u001b[0m\n\u001b[0;32m-> 1372\u001b[0;31m         \u001b[0mranges\u001b[0m \u001b[0;34m=\u001b[0m \u001b[0mself\u001b[0m\u001b[0;34m.\u001b[0m\u001b[0mcompute_ranges\u001b[0m\u001b[0;34m(\u001b[0m\u001b[0mself\u001b[0m\u001b[0;34m.\u001b[0m\u001b[0mhmap\u001b[0m\u001b[0;34m,\u001b[0m \u001b[0mkey\u001b[0m\u001b[0;34m,\u001b[0m \u001b[0mranges\u001b[0m\u001b[0;34m)\u001b[0m\u001b[0;34m\u001b[0m\u001b[0;34m\u001b[0m\u001b[0m\n\u001b[0m\u001b[1;32m   1373\u001b[0m         \u001b[0mself\u001b[0m\u001b[0;34m.\u001b[0m\u001b[0mcurrent_ranges\u001b[0m \u001b[0;34m=\u001b[0m \u001b[0mranges\u001b[0m\u001b[0;34m\u001b[0m\u001b[0;34m\u001b[0m\u001b[0m\n\u001b[1;32m   1374\u001b[0m         \u001b[0mself\u001b[0m\u001b[0;34m.\u001b[0m\u001b[0mcurrent_frame\u001b[0m \u001b[0;34m=\u001b[0m \u001b[0melement\u001b[0m\u001b[0;34m\u001b[0m\u001b[0;34m\u001b[0m\u001b[0m\n",
      "\u001b[0;32m~/.cache/pypoetry/virtualenvs/tec-lab-28y3wQ5Q-py3.8/lib/python3.8/site-packages/holoviews/plotting/plot.py\u001b[0m in \u001b[0;36mcompute_ranges\u001b[0;34m(self, obj, key, ranges)\u001b[0m\n\u001b[1;32m    636\u001b[0m             if (not (axiswise and not isinstance(obj, HoloMap)) or\n\u001b[1;32m    637\u001b[0m                 (not framewise and isinstance(obj, HoloMap))):\n\u001b[0;32m--> 638\u001b[0;31m                 self._compute_group_range(group, elements, ranges, framewise,\n\u001b[0m\u001b[1;32m    639\u001b[0m                                           \u001b[0maxiswise\u001b[0m\u001b[0;34m,\u001b[0m \u001b[0mrobust\u001b[0m\u001b[0;34m,\u001b[0m \u001b[0mself\u001b[0m\u001b[0;34m.\u001b[0m\u001b[0mtop_level\u001b[0m\u001b[0;34m,\u001b[0m\u001b[0;34m\u001b[0m\u001b[0;34m\u001b[0m\u001b[0m\n\u001b[1;32m    640\u001b[0m                                           prev_frame)\n",
      "\u001b[0;32m~/.cache/pypoetry/virtualenvs/tec-lab-28y3wQ5Q-py3.8/lib/python3.8/site-packages/holoviews/plotting/plot.py\u001b[0m in \u001b[0;36m_compute_group_range\u001b[0;34m(cls, group, elements, ranges, framewise, axiswise, robust, top_level, prev_frame)\u001b[0m\n\u001b[1;32m    749\u001b[0m                     \u001b[0mdata_range\u001b[0m \u001b[0;34m=\u001b[0m \u001b[0mds\u001b[0m\u001b[0;34m.\u001b[0m\u001b[0mrange\u001b[0m\u001b[0;34m(\u001b[0m\u001b[0mel_dim\u001b[0m\u001b[0;34m,\u001b[0m \u001b[0mdimension_range\u001b[0m\u001b[0;34m=\u001b[0m\u001b[0;32mFalse\u001b[0m\u001b[0;34m)\u001b[0m\u001b[0;34m\u001b[0m\u001b[0;34m\u001b[0m\u001b[0m\n\u001b[1;32m    750\u001b[0m                 \u001b[0;32melse\u001b[0m\u001b[0;34m:\u001b[0m\u001b[0;34m\u001b[0m\u001b[0;34m\u001b[0m\u001b[0m\n\u001b[0;32m--> 751\u001b[0;31m                     \u001b[0mdata_range\u001b[0m \u001b[0;34m=\u001b[0m \u001b[0mel\u001b[0m\u001b[0;34m.\u001b[0m\u001b[0mrange\u001b[0m\u001b[0;34m(\u001b[0m\u001b[0mel_dim\u001b[0m\u001b[0;34m,\u001b[0m \u001b[0mdimension_range\u001b[0m\u001b[0;34m=\u001b[0m\u001b[0;32mFalse\u001b[0m\u001b[0;34m)\u001b[0m\u001b[0;34m\u001b[0m\u001b[0;34m\u001b[0m\u001b[0m\n\u001b[0m\u001b[1;32m    752\u001b[0m \u001b[0;34m\u001b[0m\u001b[0m\n\u001b[1;32m    753\u001b[0m                 \u001b[0mdata_ranges\u001b[0m\u001b[0;34m[\u001b[0m\u001b[0;34m(\u001b[0m\u001b[0mel\u001b[0m\u001b[0;34m,\u001b[0m \u001b[0mel_dim\u001b[0m\u001b[0;34m)\u001b[0m\u001b[0;34m]\u001b[0m \u001b[0;34m=\u001b[0m \u001b[0mdata_range\u001b[0m\u001b[0;34m\u001b[0m\u001b[0;34m\u001b[0m\u001b[0m\n",
      "\u001b[0;32m~/.cache/pypoetry/virtualenvs/tec-lab-28y3wQ5Q-py3.8/lib/python3.8/site-packages/holoviews/core/data/__init__.py\u001b[0m in \u001b[0;36mpipelined_fn\u001b[0;34m(*args, **kwargs)\u001b[0m\n\u001b[1;32m    199\u001b[0m \u001b[0;34m\u001b[0m\u001b[0m\n\u001b[1;32m    200\u001b[0m             \u001b[0;32mtry\u001b[0m\u001b[0;34m:\u001b[0m\u001b[0;34m\u001b[0m\u001b[0;34m\u001b[0m\u001b[0m\n\u001b[0;32m--> 201\u001b[0;31m                 \u001b[0mresult\u001b[0m \u001b[0;34m=\u001b[0m \u001b[0mmethod_fn\u001b[0m\u001b[0;34m(\u001b[0m\u001b[0;34m*\u001b[0m\u001b[0margs\u001b[0m\u001b[0;34m,\u001b[0m \u001b[0;34m**\u001b[0m\u001b[0mkwargs\u001b[0m\u001b[0;34m)\u001b[0m\u001b[0;34m\u001b[0m\u001b[0;34m\u001b[0m\u001b[0m\n\u001b[0m\u001b[1;32m    202\u001b[0m                 \u001b[0;32mif\u001b[0m \u001b[0mPipelineMeta\u001b[0m\u001b[0;34m.\u001b[0m\u001b[0mdisable\u001b[0m\u001b[0;34m:\u001b[0m\u001b[0;34m\u001b[0m\u001b[0;34m\u001b[0m\u001b[0m\n\u001b[1;32m    203\u001b[0m                     \u001b[0;32mreturn\u001b[0m \u001b[0mresult\u001b[0m\u001b[0;34m\u001b[0m\u001b[0;34m\u001b[0m\u001b[0m\n",
      "\u001b[0;32m~/.cache/pypoetry/virtualenvs/tec-lab-28y3wQ5Q-py3.8/lib/python3.8/site-packages/holoviews/core/data/__init__.py\u001b[0m in \u001b[0;36mrange\u001b[0;34m(self, dim, data_range, dimension_range)\u001b[0m\n\u001b[1;32m    512\u001b[0m             \u001b[0;32mreturn\u001b[0m \u001b[0mdim\u001b[0m\u001b[0;34m.\u001b[0m\u001b[0mrange\u001b[0m\u001b[0;34m\u001b[0m\u001b[0;34m\u001b[0m\u001b[0m\n\u001b[1;32m    513\u001b[0m         \u001b[0;32melif\u001b[0m \u001b[0mdim\u001b[0m \u001b[0;32min\u001b[0m \u001b[0mself\u001b[0m\u001b[0;34m.\u001b[0m\u001b[0mdimensions\u001b[0m\u001b[0;34m(\u001b[0m\u001b[0;34m)\u001b[0m \u001b[0;32mand\u001b[0m \u001b[0mdata_range\u001b[0m \u001b[0;32mand\u001b[0m \u001b[0mbool\u001b[0m\u001b[0;34m(\u001b[0m\u001b[0mself\u001b[0m\u001b[0;34m)\u001b[0m\u001b[0;34m:\u001b[0m\u001b[0;34m\u001b[0m\u001b[0;34m\u001b[0m\u001b[0m\n\u001b[0;32m--> 514\u001b[0;31m             \u001b[0mlower\u001b[0m\u001b[0;34m,\u001b[0m \u001b[0mupper\u001b[0m \u001b[0;34m=\u001b[0m \u001b[0mself\u001b[0m\u001b[0;34m.\u001b[0m\u001b[0minterface\u001b[0m\u001b[0;34m.\u001b[0m\u001b[0mrange\u001b[0m\u001b[0;34m(\u001b[0m\u001b[0mself\u001b[0m\u001b[0;34m,\u001b[0m \u001b[0mdim\u001b[0m\u001b[0;34m)\u001b[0m\u001b[0;34m\u001b[0m\u001b[0;34m\u001b[0m\u001b[0m\n\u001b[0m\u001b[1;32m    515\u001b[0m         \u001b[0;32melse\u001b[0m\u001b[0;34m:\u001b[0m\u001b[0;34m\u001b[0m\u001b[0;34m\u001b[0m\u001b[0m\n\u001b[1;32m    516\u001b[0m             \u001b[0mlower\u001b[0m\u001b[0;34m,\u001b[0m \u001b[0mupper\u001b[0m \u001b[0;34m=\u001b[0m \u001b[0;34m(\u001b[0m\u001b[0mnp\u001b[0m\u001b[0;34m.\u001b[0m\u001b[0mNaN\u001b[0m\u001b[0;34m,\u001b[0m \u001b[0mnp\u001b[0m\u001b[0;34m.\u001b[0m\u001b[0mNaN\u001b[0m\u001b[0;34m)\u001b[0m\u001b[0;34m\u001b[0m\u001b[0;34m\u001b[0m\u001b[0m\n",
      "\u001b[0;32m~/.cache/pypoetry/virtualenvs/tec-lab-28y3wQ5Q-py3.8/lib/python3.8/site-packages/holoviews/core/data/pandas.py\u001b[0m in \u001b[0;36mrange\u001b[0;34m(cls, dataset, dimension)\u001b[0m\n\u001b[1;32m    167\u001b[0m                 \u001b[0mcolumn\u001b[0m \u001b[0;34m=\u001b[0m \u001b[0mcolumn\u001b[0m\u001b[0;34m.\u001b[0m\u001b[0msort\u001b[0m\u001b[0;34m(\u001b[0m\u001b[0minplace\u001b[0m\u001b[0;34m=\u001b[0m\u001b[0;32mFalse\u001b[0m\u001b[0;34m)\u001b[0m\u001b[0;34m\u001b[0m\u001b[0;34m\u001b[0m\u001b[0m\n\u001b[1;32m    168\u001b[0m             \u001b[0;32melse\u001b[0m\u001b[0;34m:\u001b[0m\u001b[0;34m\u001b[0m\u001b[0;34m\u001b[0m\u001b[0m\n\u001b[0;32m--> 169\u001b[0;31m                 \u001b[0mcolumn\u001b[0m \u001b[0;34m=\u001b[0m \u001b[0mcolumn\u001b[0m\u001b[0;34m.\u001b[0m\u001b[0msort_values\u001b[0m\u001b[0;34m(\u001b[0m\u001b[0;34m)\u001b[0m\u001b[0;34m\u001b[0m\u001b[0;34m\u001b[0m\u001b[0m\n\u001b[0m\u001b[1;32m    170\u001b[0m             \u001b[0;32mtry\u001b[0m\u001b[0;34m:\u001b[0m\u001b[0;34m\u001b[0m\u001b[0;34m\u001b[0m\u001b[0m\n\u001b[1;32m    171\u001b[0m                 \u001b[0mcolumn\u001b[0m \u001b[0;34m=\u001b[0m \u001b[0mcolumn\u001b[0m\u001b[0;34m[\u001b[0m\u001b[0;34m~\u001b[0m\u001b[0mcolumn\u001b[0m\u001b[0;34m.\u001b[0m\u001b[0misin\u001b[0m\u001b[0;34m(\u001b[0m\u001b[0;34m[\u001b[0m\u001b[0;32mNone\u001b[0m\u001b[0;34m]\u001b[0m\u001b[0;34m)\u001b[0m\u001b[0;34m]\u001b[0m\u001b[0;34m\u001b[0m\u001b[0;34m\u001b[0m\u001b[0m\n",
      "\u001b[0;32m~/.cache/pypoetry/virtualenvs/tec-lab-28y3wQ5Q-py3.8/lib/python3.8/site-packages/pandas/core/series.py\u001b[0m in \u001b[0;36msort_values\u001b[0;34m(self, axis, ascending, inplace, kind, na_position, ignore_index, key)\u001b[0m\n\u001b[1;32m   3231\u001b[0m         \u001b[0;31m# GH 35922. Make sorting stable by leveraging nargsort\u001b[0m\u001b[0;34m\u001b[0m\u001b[0;34m\u001b[0m\u001b[0;34m\u001b[0m\u001b[0m\n\u001b[1;32m   3232\u001b[0m         \u001b[0mvalues_to_sort\u001b[0m \u001b[0;34m=\u001b[0m \u001b[0mensure_key_mapped\u001b[0m\u001b[0;34m(\u001b[0m\u001b[0mself\u001b[0m\u001b[0;34m,\u001b[0m \u001b[0mkey\u001b[0m\u001b[0;34m)\u001b[0m\u001b[0;34m.\u001b[0m\u001b[0m_values\u001b[0m \u001b[0;32mif\u001b[0m \u001b[0mkey\u001b[0m \u001b[0;32melse\u001b[0m \u001b[0mself\u001b[0m\u001b[0;34m.\u001b[0m\u001b[0m_values\u001b[0m\u001b[0;34m\u001b[0m\u001b[0;34m\u001b[0m\u001b[0m\n\u001b[0;32m-> 3233\u001b[0;31m         \u001b[0msorted_index\u001b[0m \u001b[0;34m=\u001b[0m \u001b[0mnargsort\u001b[0m\u001b[0;34m(\u001b[0m\u001b[0mvalues_to_sort\u001b[0m\u001b[0;34m,\u001b[0m \u001b[0mkind\u001b[0m\u001b[0;34m,\u001b[0m \u001b[0mascending\u001b[0m\u001b[0;34m,\u001b[0m \u001b[0mna_position\u001b[0m\u001b[0;34m)\u001b[0m\u001b[0;34m\u001b[0m\u001b[0;34m\u001b[0m\u001b[0m\n\u001b[0m\u001b[1;32m   3234\u001b[0m \u001b[0;34m\u001b[0m\u001b[0m\n\u001b[1;32m   3235\u001b[0m         result = self._constructor(\n",
      "\u001b[0;32m~/.cache/pypoetry/virtualenvs/tec-lab-28y3wQ5Q-py3.8/lib/python3.8/site-packages/pandas/core/sorting.py\u001b[0m in \u001b[0;36mnargsort\u001b[0;34m(items, kind, ascending, na_position, key, mask)\u001b[0m\n\u001b[1;32m    377\u001b[0m         \u001b[0mnon_nans\u001b[0m \u001b[0;34m=\u001b[0m \u001b[0mnon_nans\u001b[0m\u001b[0;34m[\u001b[0m\u001b[0;34m:\u001b[0m\u001b[0;34m:\u001b[0m\u001b[0;34m-\u001b[0m\u001b[0;36m1\u001b[0m\u001b[0;34m]\u001b[0m\u001b[0;34m\u001b[0m\u001b[0;34m\u001b[0m\u001b[0m\n\u001b[1;32m    378\u001b[0m         \u001b[0mnon_nan_idx\u001b[0m \u001b[0;34m=\u001b[0m \u001b[0mnon_nan_idx\u001b[0m\u001b[0;34m[\u001b[0m\u001b[0;34m:\u001b[0m\u001b[0;34m:\u001b[0m\u001b[0;34m-\u001b[0m\u001b[0;36m1\u001b[0m\u001b[0;34m]\u001b[0m\u001b[0;34m\u001b[0m\u001b[0;34m\u001b[0m\u001b[0m\n\u001b[0;32m--> 379\u001b[0;31m     \u001b[0mindexer\u001b[0m \u001b[0;34m=\u001b[0m \u001b[0mnon_nan_idx\u001b[0m\u001b[0;34m[\u001b[0m\u001b[0mnon_nans\u001b[0m\u001b[0;34m.\u001b[0m\u001b[0margsort\u001b[0m\u001b[0;34m(\u001b[0m\u001b[0mkind\u001b[0m\u001b[0;34m=\u001b[0m\u001b[0mkind\u001b[0m\u001b[0;34m)\u001b[0m\u001b[0;34m]\u001b[0m\u001b[0;34m\u001b[0m\u001b[0;34m\u001b[0m\u001b[0m\n\u001b[0m\u001b[1;32m    380\u001b[0m     \u001b[0;32mif\u001b[0m \u001b[0;32mnot\u001b[0m \u001b[0mascending\u001b[0m\u001b[0;34m:\u001b[0m\u001b[0;34m\u001b[0m\u001b[0;34m\u001b[0m\u001b[0m\n\u001b[1;32m    381\u001b[0m         \u001b[0mindexer\u001b[0m \u001b[0;34m=\u001b[0m \u001b[0mindexer\u001b[0m\u001b[0;34m[\u001b[0m\u001b[0;34m:\u001b[0m\u001b[0;34m:\u001b[0m\u001b[0;34m-\u001b[0m\u001b[0;36m1\u001b[0m\u001b[0;34m]\u001b[0m\u001b[0;34m\u001b[0m\u001b[0;34m\u001b[0m\u001b[0m\n",
      "\u001b[0;31mTypeError\u001b[0m: '<' not supported between instances of 'tuple' and 'float'"
     ]
    },
    {
     "data": {
      "text/plain": [
       ":Bars   [Label]   (Amount)"
      ]
     },
     "execution_count": 163,
     "metadata": {},
     "output_type": "execute_result"
    }
   ],
   "source": [
    "bar.set_index('Label',append=True).hvplot.bar(stacked=True, ylim=(0, bounds[1]), x='Label', y='Amount', color='#0F2EEE').opts(bgcolor='#0b0a15')"
   ]
  },
  {
   "cell_type": "code",
   "execution_count": null,
   "id": "architectural-duration",
   "metadata": {},
   "outputs": [],
   "source": []
  },
  {
   "cell_type": "code",
   "execution_count": 161,
   "id": "public-louisiana",
   "metadata": {},
   "outputs": [
    {
     "data": {
      "text/html": [
       "<div>\n",
       "<style scoped>\n",
       "    .dataframe tbody tr th:only-of-type {\n",
       "        vertical-align: middle;\n",
       "    }\n",
       "\n",
       "    .dataframe tbody tr th {\n",
       "        vertical-align: top;\n",
       "    }\n",
       "\n",
       "    .dataframe thead th {\n",
       "        text-align: right;\n",
       "    }\n",
       "</style>\n",
       "<table border=\"1\" class=\"dataframe\">\n",
       "  <thead>\n",
       "    <tr style=\"text-align: right;\">\n",
       "      <th></th>\n",
       "      <th></th>\n",
       "      <th>Amount</th>\n",
       "    </tr>\n",
       "    <tr>\n",
       "      <th></th>\n",
       "      <th>Label</th>\n",
       "      <th></th>\n",
       "    </tr>\n",
       "  </thead>\n",
       "  <tbody>\n",
       "    <tr>\n",
       "      <th>0</th>\n",
       "      <th>A</th>\n",
       "      <td>0.14</td>\n",
       "    </tr>\n",
       "    <tr>\n",
       "      <th>1</th>\n",
       "      <th>B</th>\n",
       "      <td>6.86</td>\n",
       "    </tr>\n",
       "  </tbody>\n",
       "</table>\n",
       "</div>"
      ],
      "text/plain": [
       "         Amount\n",
       "  Label        \n",
       "0 A        0.14\n",
       "1 B        6.86"
      ]
     },
     "execution_count": 161,
     "metadata": {},
     "output_type": "execute_result"
    }
   ],
   "source": [
    "bar.set_index('Label',append=True)"
   ]
  },
  {
   "cell_type": "code",
   "execution_count": 160,
   "id": "completed-ambassador",
   "metadata": {},
   "outputs": [
    {
     "data": {},
     "metadata": {},
     "output_type": "display_data"
    },
    {
     "data": {
      "application/vnd.holoviews_exec.v0+json": "",
      "text/html": [
       "<div id='23342'>\n",
       "\n",
       "\n",
       "\n",
       "\n",
       "\n",
       "  <div class=\"bk-root\" id=\"d7032eef-67df-4868-85ab-5f05310266ec\" data-root-id=\"23342\"></div>\n",
       "</div>\n",
       "<script type=\"application/javascript\">(function(root) {\n",
       "  function embed_document(root) {\n",
       "    var docs_json = {\"dc80ff21-9475-4e4d-8391-0b6c0532fe68\":{\"roots\":{\"references\":[{\"attributes\":{\"data_source\":{\"id\":\"23376\"},\"glyph\":{\"id\":\"23379\"},\"hover_glyph\":null,\"muted_glyph\":{\"id\":\"23381\"},\"nonselection_glyph\":{\"id\":\"23380\"},\"selection_glyph\":null,\"view\":{\"id\":\"23383\"}},\"id\":\"23382\",\"type\":\"GlyphRenderer\"},{\"attributes\":{\"factors\":[\"A\",\"B\"],\"tags\":[[[\"Label\",\"Label\",null]]]},\"id\":\"23344\",\"type\":\"FactorRange\"},{\"attributes\":{\"margin\":[5,5,5,5],\"name\":\"HSpacer44052\",\"sizing_mode\":\"stretch_width\"},\"id\":\"23404\",\"type\":\"Spacer\"},{\"attributes\":{},\"id\":\"23384\",\"type\":\"CategoricalTickFormatter\"},{\"attributes\":{},\"id\":\"23364\",\"type\":\"PanTool\"},{\"attributes\":{\"children\":[{\"id\":\"23343\"},{\"id\":\"23347\"},{\"id\":\"23404\"}],\"margin\":[0,0,0,0],\"name\":\"Row44047\",\"tags\":[\"embedded\"]},\"id\":\"23342\",\"type\":\"Row\"},{\"attributes\":{\"axis\":{\"id\":\"23356\"},\"grid_line_color\":null,\"ticker\":null},\"id\":\"23358\",\"type\":\"Grid\"},{\"attributes\":{},\"id\":\"23360\",\"type\":\"BasicTicker\"},{\"attributes\":{\"fill_alpha\":{\"value\":0.1},\"fill_color\":{\"value\":\"#1f77b3\"},\"line_alpha\":{\"value\":0.1},\"top\":{\"field\":\"Amount\"},\"width\":{\"value\":0.8},\"x\":{\"field\":\"Label\"}},\"id\":\"23380\",\"type\":\"VBar\"},{\"attributes\":{\"fill_alpha\":{\"value\":0.2},\"fill_color\":{\"value\":\"#1f77b3\"},\"line_alpha\":{\"value\":0.2},\"top\":{\"field\":\"Amount\"},\"width\":{\"value\":0.8},\"x\":{\"field\":\"Label\"}},\"id\":\"23381\",\"type\":\"VBar\"},{\"attributes\":{\"callback\":null,\"renderers\":[{\"id\":\"23382\"}],\"tags\":[\"hv_created\"],\"tooltips\":[[\"Label\",\"@{Label}\"],[\"Amount\",\"@{Amount}\"]]},\"id\":\"23346\",\"type\":\"HoverTool\"},{\"attributes\":{\"axis\":{\"id\":\"23359\"},\"dimension\":1,\"grid_line_color\":null,\"ticker\":null},\"id\":\"23362\",\"type\":\"Grid\"},{\"attributes\":{\"end\":7.531999999999999,\"reset_end\":7.531999999999999,\"reset_start\":0.0,\"tags\":[[[\"Amount\",\"Amount\",null]]]},\"id\":\"23345\",\"type\":\"Range1d\"},{\"attributes\":{},\"id\":\"23367\",\"type\":\"ResetTool\"},{\"attributes\":{},\"id\":\"23363\",\"type\":\"SaveTool\"},{\"attributes\":{},\"id\":\"23352\",\"type\":\"CategoricalScale\"},{\"attributes\":{},\"id\":\"23354\",\"type\":\"LinearScale\"},{\"attributes\":{\"source\":{\"id\":\"23376\"}},\"id\":\"23383\",\"type\":\"CDSView\"},{\"attributes\":{},\"id\":\"23377\",\"type\":\"Selection\"},{\"attributes\":{\"below\":[{\"id\":\"23356\"}],\"center\":[{\"id\":\"23358\"},{\"id\":\"23362\"}],\"left\":[{\"id\":\"23359\"}],\"margin\":[5,5,5,5],\"min_border_bottom\":10,\"min_border_left\":10,\"min_border_right\":10,\"min_border_top\":10,\"plot_height\":300,\"plot_width\":700,\"renderers\":[{\"id\":\"23382\"}],\"sizing_mode\":\"fixed\",\"title\":{\"id\":\"23348\"},\"toolbar\":{\"id\":\"23369\"},\"x_range\":{\"id\":\"23344\"},\"x_scale\":{\"id\":\"23352\"},\"y_range\":{\"id\":\"23345\"},\"y_scale\":{\"id\":\"23354\"}},\"id\":\"23347\",\"subtype\":\"Figure\",\"type\":\"Plot\"},{\"attributes\":{\"axis_label\":\"Label\",\"bounds\":\"auto\",\"formatter\":{\"id\":\"23384\"},\"major_label_orientation\":\"horizontal\",\"ticker\":{\"id\":\"23357\"}},\"id\":\"23356\",\"type\":\"CategoricalAxis\"},{\"attributes\":{},\"id\":\"23386\",\"type\":\"BasicTickFormatter\"},{\"attributes\":{},\"id\":\"23357\",\"type\":\"CategoricalTicker\"},{\"attributes\":{\"active_drag\":\"auto\",\"active_inspect\":\"auto\",\"active_multi\":null,\"active_scroll\":\"auto\",\"active_tap\":\"auto\",\"tools\":[{\"id\":\"23346\"},{\"id\":\"23363\"},{\"id\":\"23364\"},{\"id\":\"23365\"},{\"id\":\"23366\"},{\"id\":\"23367\"}]},\"id\":\"23369\",\"type\":\"Toolbar\"},{\"attributes\":{\"fill_color\":{\"value\":\"#1f77b3\"},\"top\":{\"field\":\"Amount\"},\"width\":{\"value\":0.8},\"x\":{\"field\":\"Label\"}},\"id\":\"23379\",\"type\":\"VBar\"},{\"attributes\":{\"margin\":[5,5,5,5],\"name\":\"HSpacer44051\",\"sizing_mode\":\"stretch_width\"},\"id\":\"23343\",\"type\":\"Spacer\"},{\"attributes\":{},\"id\":\"23394\",\"type\":\"UnionRenderers\"},{\"attributes\":{\"overlay\":{\"id\":\"23368\"}},\"id\":\"23366\",\"type\":\"BoxZoomTool\"},{\"attributes\":{\"data\":{\"Amount\":{\"__ndarray__\":\"7FG4HoXrwT9wPQrXo3AbQA==\",\"dtype\":\"float64\",\"order\":\"little\",\"shape\":[2]},\"Label\":[\"A\",\"B\"]},\"selected\":{\"id\":\"23377\"},\"selection_policy\":{\"id\":\"23394\"}},\"id\":\"23376\",\"type\":\"ColumnDataSource\"},{\"attributes\":{\"text\":\"\",\"text_color\":{\"value\":\"black\"},\"text_font_size\":{\"value\":\"12pt\"}},\"id\":\"23348\",\"type\":\"Title\"},{\"attributes\":{\"bottom_units\":\"screen\",\"fill_alpha\":0.5,\"fill_color\":\"lightgrey\",\"left_units\":\"screen\",\"level\":\"overlay\",\"line_alpha\":1.0,\"line_color\":\"black\",\"line_dash\":[4,4],\"line_width\":2,\"right_units\":\"screen\",\"top_units\":\"screen\"},\"id\":\"23368\",\"type\":\"BoxAnnotation\"},{\"attributes\":{\"axis_label\":\"Amount\",\"bounds\":\"auto\",\"formatter\":{\"id\":\"23386\"},\"major_label_orientation\":\"horizontal\",\"ticker\":{\"id\":\"23360\"}},\"id\":\"23359\",\"type\":\"LinearAxis\"},{\"attributes\":{},\"id\":\"23365\",\"type\":\"WheelZoomTool\"}],\"root_ids\":[\"23342\"]},\"title\":\"Bokeh Application\",\"version\":\"2.2.3\"}};\n",
       "    var render_items = [{\"docid\":\"dc80ff21-9475-4e4d-8391-0b6c0532fe68\",\"root_ids\":[\"23342\"],\"roots\":{\"23342\":\"d7032eef-67df-4868-85ab-5f05310266ec\"}}];\n",
       "    root.Bokeh.embed.embed_items_notebook(docs_json, render_items);\n",
       "  }\n",
       "  if (root.Bokeh !== undefined && root.Bokeh.Panel !== undefined) {\n",
       "    embed_document(root);\n",
       "  } else {\n",
       "    var attempts = 0;\n",
       "    var timer = setInterval(function(root) {\n",
       "      if (root.Bokeh !== undefined && root.Bokeh.Panel !== undefined) {\n",
       "        clearInterval(timer);\n",
       "        embed_document(root);\n",
       "      } else if (document.readyState == \"complete\") {\n",
       "        attempts++;\n",
       "        if (attempts > 100) {\n",
       "          clearInterval(timer);\n",
       "          console.log(\"Bokeh: ERROR: Unable to run BokehJS code because BokehJS library is missing\");\n",
       "        }\n",
       "      }\n",
       "    }, 10, root)\n",
       "  }\n",
       "})(window);</script>"
      ],
      "text/plain": [
       ":Bars   [Label]   (Amount)"
      ]
     },
     "execution_count": 160,
     "metadata": {
      "application/vnd.holoviews_exec.v0+json": {
       "id": "23342"
      }
     },
     "output_type": "execute_result"
    }
   ],
   "source": [
    "bar.set_index('Label',append=True).hvplot.bar(stacked=True)#, ylim=(0, bounds[1]), x='Label', y='Amount', color='#0F2EEE').opts(bgcolor='#0b0a15')"
   ]
  },
  {
   "cell_type": "code",
   "execution_count": 156,
   "id": "sealed-design",
   "metadata": {},
   "outputs": [
    {
     "data": {},
     "metadata": {},
     "output_type": "display_data"
    },
    {
     "data": {
      "application/vnd.holoviews_exec.v0+json": "",
      "text/html": [
       "<div id='23134'>\n",
       "\n",
       "\n",
       "\n",
       "\n",
       "\n",
       "  <div class=\"bk-root\" id=\"47dfba9b-adf3-4a03-b0b3-c9bbe1ff1cc7\" data-root-id=\"23134\"></div>\n",
       "</div>\n",
       "<script type=\"application/javascript\">(function(root) {\n",
       "  function embed_document(root) {\n",
       "    var docs_json = {\"e4a70ec2-c352-45de-8cc0-2361f154c92b\":{\"roots\":{\"references\":[{\"attributes\":{},\"id\":\"23186\",\"type\":\"UnionRenderers\"},{\"attributes\":{},\"id\":\"23178\",\"type\":\"BasicTickFormatter\"},{\"attributes\":{},\"id\":\"23169\",\"type\":\"Selection\"},{\"attributes\":{\"source\":{\"id\":\"23168\"}},\"id\":\"23175\",\"type\":\"CDSView\"},{\"attributes\":{\"fill_color\":{\"value\":\"#0F2EEE\"},\"top\":{\"field\":\"Amount\"},\"width\":{\"value\":0.8},\"x\":{\"field\":\"Label\"}},\"id\":\"23171\",\"type\":\"VBar\"},{\"attributes\":{\"data\":{\"Amount\":{\"__ndarray__\":\"7FG4HoXrwT9wPQrXo3AbQA==\",\"dtype\":\"float64\",\"order\":\"little\",\"shape\":[2]},\"Label\":[\"A\",\"B\"]},\"selected\":{\"id\":\"23169\"},\"selection_policy\":{\"id\":\"23186\"}},\"id\":\"23168\",\"type\":\"ColumnDataSource\"},{\"attributes\":{\"fill_alpha\":{\"value\":0.1},\"fill_color\":{\"value\":\"#0F2EEE\"},\"line_alpha\":{\"value\":0.1},\"top\":{\"field\":\"Amount\"},\"width\":{\"value\":0.8},\"x\":{\"field\":\"Label\"}},\"id\":\"23172\",\"type\":\"VBar\"},{\"attributes\":{},\"id\":\"23152\",\"type\":\"BasicTicker\"},{\"attributes\":{\"children\":[{\"id\":\"23135\"},{\"id\":\"23139\"},{\"id\":\"23196\"}],\"margin\":[0,0,0,0],\"name\":\"Row43590\",\"tags\":[\"embedded\"]},\"id\":\"23134\",\"type\":\"Row\"},{\"attributes\":{\"axis_label\":\"Label\",\"bounds\":\"auto\",\"formatter\":{\"id\":\"23176\"},\"major_label_orientation\":\"horizontal\",\"ticker\":{\"id\":\"23149\"}},\"id\":\"23148\",\"type\":\"CategoricalAxis\"},{\"attributes\":{\"margin\":[5,5,5,5],\"name\":\"HSpacer43594\",\"sizing_mode\":\"stretch_width\"},\"id\":\"23135\",\"type\":\"Spacer\"},{\"attributes\":{},\"id\":\"23156\",\"type\":\"PanTool\"},{\"attributes\":{\"axis_label\":\"Amount\",\"bounds\":\"auto\",\"formatter\":{\"id\":\"23178\"},\"major_label_orientation\":\"horizontal\",\"ticker\":{\"id\":\"23152\"}},\"id\":\"23151\",\"type\":\"LinearAxis\"},{\"attributes\":{\"axis\":{\"id\":\"23151\"},\"dimension\":1,\"grid_line_color\":null,\"ticker\":null},\"id\":\"23154\",\"type\":\"Grid\"},{\"attributes\":{\"callback\":null,\"renderers\":[{\"id\":\"23174\"}],\"tags\":[\"hv_created\"],\"tooltips\":[[\"Label\",\"@{Label}\"],[\"Amount\",\"@{Amount}\"]]},\"id\":\"23138\",\"type\":\"HoverTool\"},{\"attributes\":{\"axis\":{\"id\":\"23148\"},\"grid_line_color\":null,\"ticker\":null},\"id\":\"23150\",\"type\":\"Grid\"},{\"attributes\":{},\"id\":\"23149\",\"type\":\"CategoricalTicker\"},{\"attributes\":{\"margin\":[5,5,5,5],\"name\":\"HSpacer43595\",\"sizing_mode\":\"stretch_width\"},\"id\":\"23196\",\"type\":\"Spacer\"},{\"attributes\":{\"active_drag\":\"auto\",\"active_inspect\":\"auto\",\"active_multi\":null,\"active_scroll\":\"auto\",\"active_tap\":\"auto\",\"tools\":[{\"id\":\"23138\"},{\"id\":\"23155\"},{\"id\":\"23156\"},{\"id\":\"23157\"},{\"id\":\"23158\"},{\"id\":\"23159\"}]},\"id\":\"23161\",\"type\":\"Toolbar\"},{\"attributes\":{\"end\":10,\"reset_end\":10,\"reset_start\":0,\"tags\":[[[\"Amount\",\"Amount\",null]]]},\"id\":\"23137\",\"type\":\"Range1d\"},{\"attributes\":{},\"id\":\"23157\",\"type\":\"WheelZoomTool\"},{\"attributes\":{},\"id\":\"23146\",\"type\":\"LinearScale\"},{\"attributes\":{\"text\":\"\",\"text_color\":{\"value\":\"black\"},\"text_font_size\":{\"value\":\"12pt\"}},\"id\":\"23140\",\"type\":\"Title\"},{\"attributes\":{\"data_source\":{\"id\":\"23168\"},\"glyph\":{\"id\":\"23171\"},\"hover_glyph\":null,\"muted_glyph\":{\"id\":\"23173\"},\"nonselection_glyph\":{\"id\":\"23172\"},\"selection_glyph\":null,\"view\":{\"id\":\"23175\"}},\"id\":\"23174\",\"type\":\"GlyphRenderer\"},{\"attributes\":{},\"id\":\"23155\",\"type\":\"SaveTool\"},{\"attributes\":{\"overlay\":{\"id\":\"23160\"}},\"id\":\"23158\",\"type\":\"BoxZoomTool\"},{\"attributes\":{},\"id\":\"23176\",\"type\":\"CategoricalTickFormatter\"},{\"attributes\":{},\"id\":\"23144\",\"type\":\"CategoricalScale\"},{\"attributes\":{},\"id\":\"23159\",\"type\":\"ResetTool\"},{\"attributes\":{\"fill_alpha\":{\"value\":0.2},\"fill_color\":{\"value\":\"#0F2EEE\"},\"line_alpha\":{\"value\":0.2},\"top\":{\"field\":\"Amount\"},\"width\":{\"value\":0.8},\"x\":{\"field\":\"Label\"}},\"id\":\"23173\",\"type\":\"VBar\"},{\"attributes\":{\"background_fill_color\":\"#0b0a15\",\"below\":[{\"id\":\"23148\"}],\"center\":[{\"id\":\"23150\"},{\"id\":\"23154\"}],\"left\":[{\"id\":\"23151\"}],\"margin\":[5,5,5,5],\"min_border_bottom\":10,\"min_border_left\":10,\"min_border_right\":10,\"min_border_top\":10,\"plot_height\":300,\"plot_width\":700,\"renderers\":[{\"id\":\"23174\"}],\"sizing_mode\":\"fixed\",\"title\":{\"id\":\"23140\"},\"toolbar\":{\"id\":\"23161\"},\"x_range\":{\"id\":\"23136\"},\"x_scale\":{\"id\":\"23144\"},\"y_range\":{\"id\":\"23137\"},\"y_scale\":{\"id\":\"23146\"}},\"id\":\"23139\",\"subtype\":\"Figure\",\"type\":\"Plot\"},{\"attributes\":{\"factors\":[\"A\",\"B\"],\"tags\":[[[\"Label\",\"Label\",null]]]},\"id\":\"23136\",\"type\":\"FactorRange\"},{\"attributes\":{\"bottom_units\":\"screen\",\"fill_alpha\":0.5,\"fill_color\":\"lightgrey\",\"left_units\":\"screen\",\"level\":\"overlay\",\"line_alpha\":1.0,\"line_color\":\"black\",\"line_dash\":[4,4],\"line_width\":2,\"right_units\":\"screen\",\"top_units\":\"screen\"},\"id\":\"23160\",\"type\":\"BoxAnnotation\"}],\"root_ids\":[\"23134\"]},\"title\":\"Bokeh Application\",\"version\":\"2.2.3\"}};\n",
       "    var render_items = [{\"docid\":\"e4a70ec2-c352-45de-8cc0-2361f154c92b\",\"root_ids\":[\"23134\"],\"roots\":{\"23134\":\"47dfba9b-adf3-4a03-b0b3-c9bbe1ff1cc7\"}}];\n",
       "    root.Bokeh.embed.embed_items_notebook(docs_json, render_items);\n",
       "  }\n",
       "  if (root.Bokeh !== undefined && root.Bokeh.Panel !== undefined) {\n",
       "    embed_document(root);\n",
       "  } else {\n",
       "    var attempts = 0;\n",
       "    var timer = setInterval(function(root) {\n",
       "      if (root.Bokeh !== undefined && root.Bokeh.Panel !== undefined) {\n",
       "        clearInterval(timer);\n",
       "        embed_document(root);\n",
       "      } else if (document.readyState == \"complete\") {\n",
       "        attempts++;\n",
       "        if (attempts > 100) {\n",
       "          clearInterval(timer);\n",
       "          console.log(\"Bokeh: ERROR: Unable to run BokehJS code because BokehJS library is missing\");\n",
       "        }\n",
       "      }\n",
       "    }, 10, root)\n",
       "  }\n",
       "})(window);</script>"
      ],
      "text/plain": [
       ":Bars   [Label]   (Amount)"
      ]
     },
     "execution_count": 156,
     "metadata": {
      "application/vnd.holoviews_exec.v0+json": {
       "id": "23134"
      }
     },
     "output_type": "execute_result"
    }
   ],
   "source": [
    "bar.hvplot.bar(stacked=True, ylim=(0, bounds[1]), x='Label', y='Amount', color='#0F2EEE').opts(bgcolor='#0b0a15')"
   ]
  },
  {
   "cell_type": "code",
   "execution_count": 136,
   "id": "modern-conservation",
   "metadata": {},
   "outputs": [],
   "source": [
    "d = pd.DataFrame([[1, 2]])"
   ]
  },
  {
   "cell_type": "code",
   "execution_count": 137,
   "id": "instructional-nicaragua",
   "metadata": {},
   "outputs": [
    {
     "data": {
      "text/html": [
       "<div>\n",
       "<style scoped>\n",
       "    .dataframe tbody tr th:only-of-type {\n",
       "        vertical-align: middle;\n",
       "    }\n",
       "\n",
       "    .dataframe tbody tr th {\n",
       "        vertical-align: top;\n",
       "    }\n",
       "\n",
       "    .dataframe thead th {\n",
       "        text-align: right;\n",
       "    }\n",
       "</style>\n",
       "<table border=\"1\" class=\"dataframe\">\n",
       "  <thead>\n",
       "    <tr style=\"text-align: right;\">\n",
       "      <th></th>\n",
       "      <th>0</th>\n",
       "      <th>1</th>\n",
       "    </tr>\n",
       "  </thead>\n",
       "  <tbody>\n",
       "    <tr>\n",
       "      <th>0</th>\n",
       "      <td>1</td>\n",
       "      <td>2</td>\n",
       "    </tr>\n",
       "  </tbody>\n",
       "</table>\n",
       "</div>"
      ],
      "text/plain": [
       "   0  1\n",
       "0  1  2"
      ]
     },
     "execution_count": 137,
     "metadata": {},
     "output_type": "execute_result"
    }
   ],
   "source": [
    "d"
   ]
  },
  {
   "cell_type": "code",
   "execution_count": 139,
   "id": "regulation-durham",
   "metadata": {},
   "outputs": [
    {
     "data": {},
     "metadata": {},
     "output_type": "display_data"
    },
    {
     "data": {
      "application/vnd.holoviews_exec.v0+json": "",
      "text/html": [
       "<div id='22625'>\n",
       "\n",
       "\n",
       "\n",
       "\n",
       "\n",
       "  <div class=\"bk-root\" id=\"efe35fe1-2ee2-4318-82c4-c17088c95f1c\" data-root-id=\"22625\"></div>\n",
       "</div>\n",
       "<script type=\"application/javascript\">(function(root) {\n",
       "  function embed_document(root) {\n",
       "    var docs_json = {\"8f63cbec-9930-4a0c-b85a-4cf7b22e0f49\":{\"roots\":{\"references\":[{\"attributes\":{\"end\":7.531999999999999,\"reset_end\":7.531999999999999,\"reset_start\":0.0,\"tags\":[[[\"Amount\",\"Amount\",null]]]},\"id\":\"22628\",\"type\":\"Range1d\"},{\"attributes\":{},\"id\":\"22648\",\"type\":\"WheelZoomTool\"},{\"attributes\":{\"fill_alpha\":0.2,\"fill_color\":\"#1f77b3\",\"line_alpha\":0.2,\"x\":{\"field\":\"x\"},\"y\":{\"field\":\"y\"}},\"id\":\"22664\",\"type\":\"Patch\"},{\"attributes\":{},\"id\":\"22677\",\"type\":\"UnionRenderers\"},{\"attributes\":{},\"id\":\"22660\",\"type\":\"Selection\"},{\"attributes\":{\"callback\":null,\"renderers\":[{\"id\":\"22665\"}],\"tags\":[\"hv_created\"],\"tooltips\":[[\"Label\",\"@{Label}\"],[\"Amount\",\"@{Amount}\"]]},\"id\":\"22629\",\"type\":\"HoverTool\"},{\"attributes\":{\"axis_label\":\"Label\",\"bounds\":\"auto\",\"formatter\":{\"id\":\"22667\"},\"major_label_orientation\":\"horizontal\",\"ticker\":{\"id\":\"22640\"}},\"id\":\"22639\",\"type\":\"CategoricalAxis\"},{\"attributes\":{},\"id\":\"22635\",\"type\":\"CategoricalScale\"},{\"attributes\":{\"factors\":[\"A\",\"B\"],\"tags\":[[[\"Label\",\"Label\",null]]]},\"id\":\"22627\",\"type\":\"FactorRange\"},{\"attributes\":{\"children\":[{\"id\":\"22626\"},{\"id\":\"22630\"},{\"id\":\"22687\"}],\"margin\":[0,0,0,0],\"name\":\"Row42353\",\"tags\":[\"embedded\"]},\"id\":\"22625\",\"type\":\"Row\"},{\"attributes\":{},\"id\":\"22669\",\"type\":\"BasicTickFormatter\"},{\"attributes\":{\"overlay\":{\"id\":\"22651\"}},\"id\":\"22649\",\"type\":\"BoxZoomTool\"},{\"attributes\":{},\"id\":\"22643\",\"type\":\"BasicTicker\"},{\"attributes\":{\"margin\":[5,5,5,5],\"name\":\"HSpacer42358\",\"sizing_mode\":\"stretch_width\"},\"id\":\"22687\",\"type\":\"Spacer\"},{\"attributes\":{\"source\":{\"id\":\"22659\"}},\"id\":\"22666\",\"type\":\"CDSView\"},{\"attributes\":{},\"id\":\"22647\",\"type\":\"PanTool\"},{\"attributes\":{\"data_source\":{\"id\":\"22659\"},\"glyph\":{\"id\":\"22662\"},\"hover_glyph\":null,\"muted_glyph\":{\"id\":\"22664\"},\"nonselection_glyph\":{\"id\":\"22663\"},\"selection_glyph\":null,\"view\":{\"id\":\"22666\"}},\"id\":\"22665\",\"type\":\"GlyphRenderer\"},{\"attributes\":{\"text\":\"\",\"text_color\":{\"value\":\"black\"},\"text_font_size\":{\"value\":\"12pt\"}},\"id\":\"22631\",\"type\":\"Title\"},{\"attributes\":{},\"id\":\"22650\",\"type\":\"ResetTool\"},{\"attributes\":{\"active_drag\":\"auto\",\"active_inspect\":\"auto\",\"active_multi\":null,\"active_scroll\":\"auto\",\"active_tap\":\"auto\",\"tools\":[{\"id\":\"22629\"},{\"id\":\"22646\"},{\"id\":\"22647\"},{\"id\":\"22648\"},{\"id\":\"22649\"},{\"id\":\"22650\"}]},\"id\":\"22652\",\"type\":\"Toolbar\"},{\"attributes\":{\"data\":{\"x\":[\"A\",\"B\",\"B\",\"A\"],\"y\":{\"__ndarray__\":\"AAAAAAAAAAAAAAAAAAAAAHA9CtejcBtA7FG4HoXrwT8=\",\"dtype\":\"float64\",\"order\":\"little\",\"shape\":[4]}},\"selected\":{\"id\":\"22660\"},\"selection_policy\":{\"id\":\"22677\"}},\"id\":\"22659\",\"type\":\"ColumnDataSource\"},{\"attributes\":{\"margin\":[5,5,5,5],\"name\":\"HSpacer42357\",\"sizing_mode\":\"stretch_width\"},\"id\":\"22626\",\"type\":\"Spacer\"},{\"attributes\":{\"background_fill_color\":\"goldenrod\",\"below\":[{\"id\":\"22639\"}],\"center\":[{\"id\":\"22641\"},{\"id\":\"22645\"}],\"left\":[{\"id\":\"22642\"}],\"margin\":[5,5,5,5],\"min_border_bottom\":10,\"min_border_left\":10,\"min_border_right\":10,\"min_border_top\":10,\"plot_height\":300,\"plot_width\":700,\"renderers\":[{\"id\":\"22665\"}],\"sizing_mode\":\"fixed\",\"title\":{\"id\":\"22631\"},\"toolbar\":{\"id\":\"22652\"},\"x_range\":{\"id\":\"22627\"},\"x_scale\":{\"id\":\"22635\"},\"y_range\":{\"id\":\"22628\"},\"y_scale\":{\"id\":\"22637\"}},\"id\":\"22630\",\"subtype\":\"Figure\",\"type\":\"Plot\"},{\"attributes\":{\"axis\":{\"id\":\"22642\"},\"dimension\":1,\"grid_line_color\":null,\"ticker\":null},\"id\":\"22645\",\"type\":\"Grid\"},{\"attributes\":{},\"id\":\"22637\",\"type\":\"LinearScale\"},{\"attributes\":{\"fill_alpha\":1,\"fill_color\":\"#1f77b3\",\"line_alpha\":1,\"x\":{\"field\":\"x\"},\"y\":{\"field\":\"y\"}},\"id\":\"22663\",\"type\":\"Patch\"},{\"attributes\":{},\"id\":\"22667\",\"type\":\"CategoricalTickFormatter\"},{\"attributes\":{\"axis\":{\"id\":\"22639\"},\"grid_line_color\":null,\"ticker\":null},\"id\":\"22641\",\"type\":\"Grid\"},{\"attributes\":{\"bottom_units\":\"screen\",\"fill_alpha\":0.5,\"fill_color\":\"lightgrey\",\"left_units\":\"screen\",\"level\":\"overlay\",\"line_alpha\":1.0,\"line_color\":\"black\",\"line_dash\":[4,4],\"line_width\":2,\"right_units\":\"screen\",\"top_units\":\"screen\"},\"id\":\"22651\",\"type\":\"BoxAnnotation\"},{\"attributes\":{\"fill_color\":\"#1f77b3\",\"x\":{\"field\":\"x\"},\"y\":{\"field\":\"y\"}},\"id\":\"22662\",\"type\":\"Patch\"},{\"attributes\":{},\"id\":\"22646\",\"type\":\"SaveTool\"},{\"attributes\":{},\"id\":\"22640\",\"type\":\"CategoricalTicker\"},{\"attributes\":{\"axis_label\":\"Amount\",\"bounds\":\"auto\",\"formatter\":{\"id\":\"22669\"},\"major_label_orientation\":\"horizontal\",\"ticker\":{\"id\":\"22643\"}},\"id\":\"22642\",\"type\":\"LinearAxis\"}],\"root_ids\":[\"22625\"]},\"title\":\"Bokeh Application\",\"version\":\"2.2.3\"}};\n",
       "    var render_items = [{\"docid\":\"8f63cbec-9930-4a0c-b85a-4cf7b22e0f49\",\"root_ids\":[\"22625\"],\"roots\":{\"22625\":\"efe35fe1-2ee2-4318-82c4-c17088c95f1c\"}}];\n",
       "    root.Bokeh.embed.embed_items_notebook(docs_json, render_items);\n",
       "  }\n",
       "  if (root.Bokeh !== undefined && root.Bokeh.Panel !== undefined) {\n",
       "    embed_document(root);\n",
       "  } else {\n",
       "    var attempts = 0;\n",
       "    var timer = setInterval(function(root) {\n",
       "      if (root.Bokeh !== undefined && root.Bokeh.Panel !== undefined) {\n",
       "        clearInterval(timer);\n",
       "        embed_document(root);\n",
       "      } else if (document.readyState == \"complete\") {\n",
       "        attempts++;\n",
       "        if (attempts > 100) {\n",
       "          clearInterval(timer);\n",
       "          console.log(\"Bokeh: ERROR: Unable to run BokehJS code because BokehJS library is missing\");\n",
       "        }\n",
       "      }\n",
       "    }, 10, root)\n",
       "  }\n",
       "})(window);</script>"
      ],
      "text/plain": [
       ":Area   [Label]   (Amount)"
      ]
     },
     "execution_count": 139,
     "metadata": {
      "application/vnd.holoviews_exec.v0+json": {
       "id": "22625"
      }
     },
     "output_type": "execute_result"
    }
   ],
   "source": [
    "bar.hvplot.area(x='Label', y='Amount').opts(bgcolor='goldenrod')"
   ]
  },
  {
   "cell_type": "code",
   "execution_count": 115,
   "id": "elegant-pipeline",
   "metadata": {},
   "outputs": [
    {
     "data": {},
     "metadata": {},
     "output_type": "display_data"
    },
    {
     "data": {
      "application/vnd.holoviews_exec.v0+json": "",
      "text/html": [
       "<div id='21509'>\n",
       "\n",
       "\n",
       "\n",
       "\n",
       "\n",
       "  <div class=\"bk-root\" id=\"ddff1264-9c33-4e7f-a452-e8a4ce3667f2\" data-root-id=\"21509\"></div>\n",
       "</div>\n",
       "<script type=\"application/javascript\">(function(root) {\n",
       "  function embed_document(root) {\n",
       "    var docs_json = {\"fd2e0782-462d-4289-ba50-d4e2c94e70b6\":{\"roots\":{\"references\":[{\"attributes\":{},\"id\":\"21521\",\"type\":\"LinearScale\"},{\"attributes\":{},\"id\":\"21552\",\"type\":\"BasicTickFormatter\"},{\"attributes\":{\"children\":[{\"id\":\"21510\"},{\"id\":\"21514\"},{\"id\":\"21572\"}],\"margin\":[0,0,0,0],\"name\":\"Row40004\",\"tags\":[\"embedded\"]},\"id\":\"21509\",\"type\":\"Row\"},{\"attributes\":{},\"id\":\"21531\",\"type\":\"SaveTool\"},{\"attributes\":{\"fill_alpha\":0.2,\"fill_color\":\"#1f77b3\",\"line_alpha\":0.2,\"x\":{\"field\":\"x\"},\"y\":{\"field\":\"y\"}},\"id\":\"21549\",\"type\":\"Patch\"},{\"attributes\":{\"axis\":{\"id\":\"21523\"},\"grid_line_color\":null,\"ticker\":null},\"id\":\"21526\",\"type\":\"Grid\"},{\"attributes\":{\"text\":\"\",\"text_color\":{\"value\":\"black\"},\"text_font_size\":{\"value\":\"12pt\"}},\"id\":\"21515\",\"type\":\"Title\"},{\"attributes\":{\"axis_label\":\"\",\"bounds\":\"auto\",\"formatter\":{\"id\":\"21552\"},\"major_label_orientation\":\"horizontal\",\"ticker\":{\"id\":\"21524\"}},\"id\":\"21523\",\"type\":\"LinearAxis\"},{\"attributes\":{\"reset_end\":1.0,\"reset_start\":0.0,\"tags\":[[[\"index\",\"index\",null]]]},\"id\":\"21511\",\"type\":\"Range1d\"},{\"attributes\":{},\"id\":\"21532\",\"type\":\"PanTool\"},{\"attributes\":{\"end\":7.531999999999999,\"reset_end\":7.531999999999999,\"reset_start\":0.0,\"tags\":[[[\"Amount\",\"Amount\",null]]]},\"id\":\"21512\",\"type\":\"Range1d\"},{\"attributes\":{\"bottom_units\":\"screen\",\"fill_alpha\":0.5,\"fill_color\":\"lightgrey\",\"left_units\":\"screen\",\"level\":\"overlay\",\"line_alpha\":1.0,\"line_color\":\"black\",\"line_dash\":[4,4],\"line_width\":2,\"right_units\":\"screen\",\"top_units\":\"screen\"},\"id\":\"21536\",\"type\":\"BoxAnnotation\"},{\"attributes\":{\"axis\":{\"id\":\"21527\"},\"dimension\":1,\"grid_line_color\":null,\"ticker\":null},\"id\":\"21530\",\"type\":\"Grid\"},{\"attributes\":{\"below\":[{\"id\":\"21523\"}],\"center\":[{\"id\":\"21526\"},{\"id\":\"21530\"}],\"left\":[{\"id\":\"21527\"}],\"margin\":[5,5,5,5],\"min_border_bottom\":10,\"min_border_left\":10,\"min_border_right\":10,\"min_border_top\":10,\"plot_height\":300,\"plot_width\":700,\"renderers\":[{\"id\":\"21550\"}],\"sizing_mode\":\"fixed\",\"title\":{\"id\":\"21515\"},\"toolbar\":{\"id\":\"21537\"},\"x_range\":{\"id\":\"21511\"},\"x_scale\":{\"id\":\"21519\"},\"y_range\":{\"id\":\"21512\"},\"y_scale\":{\"id\":\"21521\"}},\"id\":\"21514\",\"subtype\":\"Figure\",\"type\":\"Plot\"},{\"attributes\":{},\"id\":\"21519\",\"type\":\"LinearScale\"},{\"attributes\":{\"overlay\":{\"id\":\"21536\"}},\"id\":\"21534\",\"type\":\"BoxZoomTool\"},{\"attributes\":{\"axis_label\":\"Amount\",\"bounds\":\"auto\",\"formatter\":{\"id\":\"21554\"},\"major_label_orientation\":\"horizontal\",\"ticker\":{\"id\":\"21528\"}},\"id\":\"21527\",\"type\":\"LinearAxis\"},{\"attributes\":{\"source\":{\"id\":\"21544\"}},\"id\":\"21551\",\"type\":\"CDSView\"},{\"attributes\":{\"fill_alpha\":1,\"fill_color\":\"#1f77b3\",\"line_alpha\":1,\"x\":{\"field\":\"x\"},\"y\":{\"field\":\"y\"}},\"id\":\"21548\",\"type\":\"Patch\"},{\"attributes\":{\"data_source\":{\"id\":\"21544\"},\"glyph\":{\"id\":\"21547\"},\"hover_glyph\":null,\"muted_glyph\":{\"id\":\"21549\"},\"nonselection_glyph\":{\"id\":\"21548\"},\"selection_glyph\":null,\"view\":{\"id\":\"21551\"}},\"id\":\"21550\",\"type\":\"GlyphRenderer\"},{\"attributes\":{\"margin\":[5,5,5,5],\"name\":\"HSpacer40009\",\"sizing_mode\":\"stretch_width\"},\"id\":\"21572\",\"type\":\"Spacer\"},{\"attributes\":{\"margin\":[5,5,5,5],\"name\":\"HSpacer40008\",\"sizing_mode\":\"stretch_width\"},\"id\":\"21510\",\"type\":\"Spacer\"},{\"attributes\":{},\"id\":\"21524\",\"type\":\"BasicTicker\"},{\"attributes\":{\"data\":{\"x\":[0,1,1,0],\"y\":{\"__ndarray__\":\"AAAAAAAAAAAAAAAAAAAAAHA9CtejcBtA7FG4HoXrwT8=\",\"dtype\":\"float64\",\"order\":\"little\",\"shape\":[4]}},\"selected\":{\"id\":\"21545\"},\"selection_policy\":{\"id\":\"21562\"}},\"id\":\"21544\",\"type\":\"ColumnDataSource\"},{\"attributes\":{\"active_drag\":\"auto\",\"active_inspect\":\"auto\",\"active_multi\":null,\"active_scroll\":\"auto\",\"active_tap\":\"auto\",\"tools\":[{\"id\":\"21513\"},{\"id\":\"21531\"},{\"id\":\"21532\"},{\"id\":\"21533\"},{\"id\":\"21534\"},{\"id\":\"21535\"}]},\"id\":\"21537\",\"type\":\"Toolbar\"},{\"attributes\":{\"fill_color\":\"#1f77b3\",\"x\":{\"field\":\"x\"},\"y\":{\"field\":\"y\"}},\"id\":\"21547\",\"type\":\"Patch\"},{\"attributes\":{\"callback\":null,\"renderers\":[{\"id\":\"21550\"}],\"tags\":[\"hv_created\"],\"tooltips\":[[\"index\",\"@{index}\"],[\"Amount\",\"@{Amount}\"]]},\"id\":\"21513\",\"type\":\"HoverTool\"},{\"attributes\":{},\"id\":\"21533\",\"type\":\"WheelZoomTool\"},{\"attributes\":{},\"id\":\"21554\",\"type\":\"BasicTickFormatter\"},{\"attributes\":{},\"id\":\"21528\",\"type\":\"BasicTicker\"},{\"attributes\":{},\"id\":\"21545\",\"type\":\"Selection\"},{\"attributes\":{},\"id\":\"21535\",\"type\":\"ResetTool\"},{\"attributes\":{},\"id\":\"21562\",\"type\":\"UnionRenderers\"}],\"root_ids\":[\"21509\"]},\"title\":\"Bokeh Application\",\"version\":\"2.2.3\"}};\n",
       "    var render_items = [{\"docid\":\"fd2e0782-462d-4289-ba50-d4e2c94e70b6\",\"root_ids\":[\"21509\"],\"roots\":{\"21509\":\"ddff1264-9c33-4e7f-a452-e8a4ce3667f2\"}}];\n",
       "    root.Bokeh.embed.embed_items_notebook(docs_json, render_items);\n",
       "  }\n",
       "  if (root.Bokeh !== undefined && root.Bokeh.Panel !== undefined) {\n",
       "    embed_document(root);\n",
       "  } else {\n",
       "    var attempts = 0;\n",
       "    var timer = setInterval(function(root) {\n",
       "      if (root.Bokeh !== undefined && root.Bokeh.Panel !== undefined) {\n",
       "        clearInterval(timer);\n",
       "        embed_document(root);\n",
       "      } else if (document.readyState == \"complete\") {\n",
       "        attempts++;\n",
       "        if (attempts > 100) {\n",
       "          clearInterval(timer);\n",
       "          console.log(\"Bokeh: ERROR: Unable to run BokehJS code because BokehJS library is missing\");\n",
       "        }\n",
       "      }\n",
       "    }, 10, root)\n",
       "  }\n",
       "})(window);</script>"
      ],
      "text/plain": [
       ":Area   [index]   (Amount)"
      ]
     },
     "execution_count": 115,
     "metadata": {
      "application/vnd.holoviews_exec.v0+json": {
       "id": "21509"
      }
     },
     "output_type": "execute_result"
    }
   ],
   "source": [
    "bar.hvplot.area(y='Amount')"
   ]
  },
  {
   "cell_type": "code",
   "execution_count": 112,
   "id": "hungarian-progressive",
   "metadata": {},
   "outputs": [
    {
     "data": {},
     "metadata": {},
     "output_type": "display_data"
    },
    {
     "data": {
      "application/vnd.holoviews_exec.v0+json": "",
      "text/html": [
       "<div id='21300'>\n",
       "\n",
       "\n",
       "\n",
       "\n",
       "\n",
       "  <div class=\"bk-root\" id=\"2a1fdef5-e76c-4dbf-b37d-37b8faa81025\" data-root-id=\"21300\"></div>\n",
       "</div>\n",
       "<script type=\"application/javascript\">(function(root) {\n",
       "  function embed_document(root) {\n",
       "    var docs_json = {\"a498910e-2563-4554-9bff-ab631219b5c2\":{\"roots\":{\"references\":[{\"attributes\":{\"children\":[{\"id\":\"21301\"},{\"id\":\"21305\"},{\"id\":\"21362\"}],\"margin\":[0,0,0,0],\"name\":\"Row39612\",\"tags\":[\"embedded\"]},\"id\":\"21300\",\"type\":\"Row\"},{\"attributes\":{\"axis_label\":\"Amount\",\"bounds\":\"auto\",\"formatter\":{\"id\":\"21344\"},\"major_label_orientation\":\"horizontal\",\"ticker\":{\"id\":\"21318\"}},\"id\":\"21317\",\"type\":\"LinearAxis\"},{\"attributes\":{\"text\":\"\",\"text_color\":{\"value\":\"black\"},\"text_font_size\":{\"value\":\"12pt\"}},\"id\":\"21306\",\"type\":\"Title\"},{\"attributes\":{},\"id\":\"21312\",\"type\":\"LinearScale\"},{\"attributes\":{\"overlay\":{\"id\":\"21326\"}},\"id\":\"21324\",\"type\":\"BoxZoomTool\"},{\"attributes\":{\"data_source\":{\"id\":\"21334\"},\"glyph\":{\"id\":\"21337\"},\"hover_glyph\":null,\"muted_glyph\":{\"id\":\"21339\"},\"nonselection_glyph\":{\"id\":\"21338\"},\"selection_glyph\":null,\"view\":{\"id\":\"21341\"}},\"id\":\"21340\",\"type\":\"GlyphRenderer\"},{\"attributes\":{},\"id\":\"21323\",\"type\":\"WheelZoomTool\"},{\"attributes\":{},\"id\":\"21310\",\"type\":\"CategoricalScale\"},{\"attributes\":{},\"id\":\"21325\",\"type\":\"ResetTool\"},{\"attributes\":{\"below\":[{\"id\":\"21314\"}],\"center\":[{\"id\":\"21316\"},{\"id\":\"21320\"}],\"left\":[{\"id\":\"21317\"}],\"margin\":[5,5,5,5],\"min_border_bottom\":10,\"min_border_left\":10,\"min_border_right\":10,\"min_border_top\":10,\"plot_height\":300,\"plot_width\":700,\"renderers\":[{\"id\":\"21340\"}],\"sizing_mode\":\"fixed\",\"title\":{\"id\":\"21306\"},\"toolbar\":{\"id\":\"21327\"},\"x_range\":{\"id\":\"21302\"},\"x_scale\":{\"id\":\"21310\"},\"y_range\":{\"id\":\"21303\"},\"y_scale\":{\"id\":\"21312\"}},\"id\":\"21305\",\"subtype\":\"Figure\",\"type\":\"Plot\"},{\"attributes\":{},\"id\":\"21335\",\"type\":\"Selection\"},{\"attributes\":{},\"id\":\"21342\",\"type\":\"CategoricalTickFormatter\"},{\"attributes\":{\"fill_color\":{\"value\":\"#1f77b3\"},\"top\":{\"field\":\"Amount\"},\"width\":{\"value\":0.8},\"x\":{\"field\":\"Label\"}},\"id\":\"21337\",\"type\":\"VBar\"},{\"attributes\":{\"active_drag\":\"auto\",\"active_inspect\":\"auto\",\"active_multi\":null,\"active_scroll\":\"auto\",\"active_tap\":\"auto\",\"tools\":[{\"id\":\"21304\"},{\"id\":\"21321\"},{\"id\":\"21322\"},{\"id\":\"21323\"},{\"id\":\"21324\"},{\"id\":\"21325\"}]},\"id\":\"21327\",\"type\":\"Toolbar\"},{\"attributes\":{},\"id\":\"21315\",\"type\":\"CategoricalTicker\"},{\"attributes\":{\"source\":{\"id\":\"21334\"}},\"id\":\"21341\",\"type\":\"CDSView\"},{\"attributes\":{\"fill_alpha\":{\"value\":0.2},\"fill_color\":{\"value\":\"#1f77b3\"},\"line_alpha\":{\"value\":0.2},\"top\":{\"field\":\"Amount\"},\"width\":{\"value\":0.8},\"x\":{\"field\":\"Label\"}},\"id\":\"21339\",\"type\":\"VBar\"},{\"attributes\":{\"axis_label\":\"Label\",\"bounds\":\"auto\",\"formatter\":{\"id\":\"21342\"},\"major_label_orientation\":\"horizontal\",\"ticker\":{\"id\":\"21315\"}},\"id\":\"21314\",\"type\":\"CategoricalAxis\"},{\"attributes\":{\"margin\":[5,5,5,5],\"name\":\"HSpacer39616\",\"sizing_mode\":\"stretch_width\"},\"id\":\"21301\",\"type\":\"Spacer\"},{\"attributes\":{\"axis\":{\"id\":\"21314\"},\"grid_line_color\":null,\"ticker\":null},\"id\":\"21316\",\"type\":\"Grid\"},{\"attributes\":{},\"id\":\"21344\",\"type\":\"BasicTickFormatter\"},{\"attributes\":{\"axis\":{\"id\":\"21317\"},\"dimension\":1,\"grid_line_color\":null,\"ticker\":null},\"id\":\"21320\",\"type\":\"Grid\"},{\"attributes\":{\"margin\":[5,5,5,5],\"name\":\"HSpacer39617\",\"sizing_mode\":\"stretch_width\"},\"id\":\"21362\",\"type\":\"Spacer\"},{\"attributes\":{\"factors\":[\"A\",\"B\"],\"tags\":[[[\"Label\",\"Label\",null]]]},\"id\":\"21302\",\"type\":\"FactorRange\"},{\"attributes\":{},\"id\":\"21321\",\"type\":\"SaveTool\"},{\"attributes\":{\"fill_alpha\":{\"value\":0.1},\"fill_color\":{\"value\":\"#1f77b3\"},\"line_alpha\":{\"value\":0.1},\"top\":{\"field\":\"Amount\"},\"width\":{\"value\":0.8},\"x\":{\"field\":\"Label\"}},\"id\":\"21338\",\"type\":\"VBar\"},{\"attributes\":{},\"id\":\"21318\",\"type\":\"BasicTicker\"},{\"attributes\":{\"end\":10,\"reset_end\":10,\"reset_start\":0,\"tags\":[[[\"Amount\",\"Amount\",null]]]},\"id\":\"21303\",\"type\":\"Range1d\"},{\"attributes\":{},\"id\":\"21352\",\"type\":\"UnionRenderers\"},{\"attributes\":{\"bottom_units\":\"screen\",\"fill_alpha\":0.5,\"fill_color\":\"lightgrey\",\"left_units\":\"screen\",\"level\":\"overlay\",\"line_alpha\":1.0,\"line_color\":\"black\",\"line_dash\":[4,4],\"line_width\":2,\"right_units\":\"screen\",\"top_units\":\"screen\"},\"id\":\"21326\",\"type\":\"BoxAnnotation\"},{\"attributes\":{},\"id\":\"21322\",\"type\":\"PanTool\"},{\"attributes\":{\"data\":{\"Amount\":{\"__ndarray__\":\"7FG4HoXrwT9wPQrXo3AbQA==\",\"dtype\":\"float64\",\"order\":\"little\",\"shape\":[2]},\"Label\":[\"A\",\"B\"]},\"selected\":{\"id\":\"21335\"},\"selection_policy\":{\"id\":\"21352\"}},\"id\":\"21334\",\"type\":\"ColumnDataSource\"},{\"attributes\":{\"callback\":null,\"renderers\":[{\"id\":\"21340\"}],\"tags\":[\"hv_created\"],\"tooltips\":[[\"Label\",\"@{Label}\"],[\"Amount\",\"@{Amount}\"]]},\"id\":\"21304\",\"type\":\"HoverTool\"}],\"root_ids\":[\"21300\"]},\"title\":\"Bokeh Application\",\"version\":\"2.2.3\"}};\n",
       "    var render_items = [{\"docid\":\"a498910e-2563-4554-9bff-ab631219b5c2\",\"root_ids\":[\"21300\"],\"roots\":{\"21300\":\"2a1fdef5-e76c-4dbf-b37d-37b8faa81025\"}}];\n",
       "    root.Bokeh.embed.embed_items_notebook(docs_json, render_items);\n",
       "  }\n",
       "  if (root.Bokeh !== undefined && root.Bokeh.Panel !== undefined) {\n",
       "    embed_document(root);\n",
       "  } else {\n",
       "    var attempts = 0;\n",
       "    var timer = setInterval(function(root) {\n",
       "      if (root.Bokeh !== undefined && root.Bokeh.Panel !== undefined) {\n",
       "        clearInterval(timer);\n",
       "        embed_document(root);\n",
       "      } else if (document.readyState == \"complete\") {\n",
       "        attempts++;\n",
       "        if (attempts > 100) {\n",
       "          clearInterval(timer);\n",
       "          console.log(\"Bokeh: ERROR: Unable to run BokehJS code because BokehJS library is missing\");\n",
       "        }\n",
       "      }\n",
       "    }, 10, root)\n",
       "  }\n",
       "})(window);</script>"
      ],
      "text/plain": [
       ":Bars   [Label]   (Amount)"
      ]
     },
     "execution_count": 112,
     "metadata": {
      "application/vnd.holoviews_exec.v0+json": {
       "id": "21300"
      }
     },
     "output_type": "execute_result"
    }
   ],
   "source": [
    "bar.hvplot.bar(stacked=True, ylim=(0, bounds[1]), x='Label', y='Amount')"
   ]
  },
  {
   "cell_type": "code",
   "execution_count": 111,
   "id": "alien-cyprus",
   "metadata": {},
   "outputs": [
    {
     "data": {},
     "metadata": {},
     "output_type": "display_data"
    },
    {
     "data": {
      "application/vnd.holoviews_exec.v0+json": "",
      "text/html": [
       "<div id='21196'>\n",
       "\n",
       "\n",
       "\n",
       "\n",
       "\n",
       "  <div class=\"bk-root\" id=\"deb94a0b-a7f5-4871-bc0a-5c37a4582e62\" data-root-id=\"21196\"></div>\n",
       "</div>\n",
       "<script type=\"application/javascript\">(function(root) {\n",
       "  function embed_document(root) {\n",
       "    var docs_json = {\"22ee7529-84f2-48c5-b58e-d50dae57c857\":{\"roots\":{\"references\":[{\"attributes\":{\"active_drag\":\"auto\",\"active_inspect\":\"auto\",\"active_multi\":null,\"active_scroll\":\"auto\",\"active_tap\":\"auto\",\"tools\":[{\"id\":\"21200\"},{\"id\":\"21217\"},{\"id\":\"21218\"},{\"id\":\"21219\"},{\"id\":\"21220\"},{\"id\":\"21221\"}]},\"id\":\"21223\",\"type\":\"Toolbar\"},{\"attributes\":{\"bottom_units\":\"screen\",\"fill_alpha\":0.5,\"fill_color\":\"lightgrey\",\"left_units\":\"screen\",\"level\":\"overlay\",\"line_alpha\":1.0,\"line_color\":\"black\",\"line_dash\":[4,4],\"line_width\":2,\"right_units\":\"screen\",\"top_units\":\"screen\"},\"id\":\"21222\",\"type\":\"BoxAnnotation\"},{\"attributes\":{\"text\":\"\",\"text_color\":{\"value\":\"black\"},\"text_font_size\":{\"value\":\"12pt\"}},\"id\":\"21202\",\"type\":\"Title\"},{\"attributes\":{\"margin\":[5,5,5,5],\"name\":\"HSpacer39407\",\"sizing_mode\":\"stretch_width\"},\"id\":\"21197\",\"type\":\"Spacer\"},{\"attributes\":{},\"id\":\"21217\",\"type\":\"SaveTool\"},{\"attributes\":{},\"id\":\"21238\",\"type\":\"CategoricalTickFormatter\"},{\"attributes\":{},\"id\":\"21219\",\"type\":\"WheelZoomTool\"},{\"attributes\":{\"callback\":null,\"renderers\":[{\"id\":\"21236\"}],\"tags\":[\"hv_created\"],\"tooltips\":[[\"Label\",\"@{Label}\"],[\"Amount\",\"@{Amount}\"]]},\"id\":\"21200\",\"type\":\"HoverTool\"},{\"attributes\":{},\"id\":\"21206\",\"type\":\"CategoricalScale\"},{\"attributes\":{\"axis\":{\"id\":\"21213\"},\"dimension\":1,\"grid_line_color\":null,\"ticker\":null},\"id\":\"21216\",\"type\":\"Grid\"},{\"attributes\":{\"fill_alpha\":{\"value\":0.2},\"fill_color\":{\"value\":\"#0F2EEE\"},\"line_alpha\":{\"value\":0.2},\"top\":{\"field\":\"Amount\"},\"width\":{\"value\":0.8},\"x\":{\"field\":\"Label\"}},\"id\":\"21235\",\"type\":\"VBar\"},{\"attributes\":{},\"id\":\"21240\",\"type\":\"BasicTickFormatter\"},{\"attributes\":{\"fill_color\":{\"value\":\"#0F2EEE\"},\"top\":{\"field\":\"Amount\"},\"width\":{\"value\":0.8},\"x\":{\"field\":\"Label\"}},\"id\":\"21233\",\"type\":\"VBar\"},{\"attributes\":{\"overlay\":{\"id\":\"21222\"}},\"id\":\"21220\",\"type\":\"BoxZoomTool\"},{\"attributes\":{\"data_source\":{\"id\":\"21230\"},\"glyph\":{\"id\":\"21233\"},\"hover_glyph\":null,\"muted_glyph\":{\"id\":\"21235\"},\"nonselection_glyph\":{\"id\":\"21234\"},\"selection_glyph\":null,\"view\":{\"id\":\"21237\"}},\"id\":\"21236\",\"type\":\"GlyphRenderer\"},{\"attributes\":{},\"id\":\"21218\",\"type\":\"PanTool\"},{\"attributes\":{\"source\":{\"id\":\"21230\"}},\"id\":\"21237\",\"type\":\"CDSView\"},{\"attributes\":{},\"id\":\"21208\",\"type\":\"LinearScale\"},{\"attributes\":{\"factors\":[\"A\",\"B\"],\"tags\":[[[\"Label\",\"Label\",null]]]},\"id\":\"21198\",\"type\":\"FactorRange\"},{\"attributes\":{\"axis_label\":\"Amount\",\"bounds\":\"auto\",\"formatter\":{\"id\":\"21240\"},\"major_label_orientation\":\"horizontal\",\"ticker\":{\"id\":\"21214\"}},\"id\":\"21213\",\"type\":\"LinearAxis\"},{\"attributes\":{},\"id\":\"21231\",\"type\":\"Selection\"},{\"attributes\":{},\"id\":\"21221\",\"type\":\"ResetTool\"},{\"attributes\":{\"children\":[{\"id\":\"21197\"},{\"id\":\"21201\"},{\"id\":\"21258\"}],\"margin\":[0,0,0,0],\"name\":\"Row39403\",\"tags\":[\"embedded\"]},\"id\":\"21196\",\"type\":\"Row\"},{\"attributes\":{},\"id\":\"21248\",\"type\":\"UnionRenderers\"},{\"attributes\":{\"margin\":[5,5,5,5],\"name\":\"HSpacer39408\",\"sizing_mode\":\"stretch_width\"},\"id\":\"21258\",\"type\":\"Spacer\"},{\"attributes\":{},\"id\":\"21214\",\"type\":\"BasicTicker\"},{\"attributes\":{\"data\":{\"Amount\":{\"__ndarray__\":\"7FG4HoXrwT9wPQrXo3AbQA==\",\"dtype\":\"float64\",\"order\":\"little\",\"shape\":[2]},\"Label\":[\"A\",\"B\"]},\"selected\":{\"id\":\"21231\"},\"selection_policy\":{\"id\":\"21248\"}},\"id\":\"21230\",\"type\":\"ColumnDataSource\"},{\"attributes\":{\"below\":[{\"id\":\"21210\"}],\"center\":[{\"id\":\"21212\"},{\"id\":\"21216\"}],\"left\":[{\"id\":\"21213\"}],\"margin\":[5,5,5,5],\"min_border_bottom\":10,\"min_border_left\":10,\"min_border_right\":10,\"min_border_top\":10,\"plot_height\":300,\"plot_width\":700,\"renderers\":[{\"id\":\"21236\"}],\"sizing_mode\":\"fixed\",\"title\":{\"id\":\"21202\"},\"toolbar\":{\"id\":\"21223\"},\"x_range\":{\"id\":\"21198\"},\"x_scale\":{\"id\":\"21206\"},\"y_range\":{\"id\":\"21199\"},\"y_scale\":{\"id\":\"21208\"}},\"id\":\"21201\",\"subtype\":\"Figure\",\"type\":\"Plot\"},{\"attributes\":{\"fill_alpha\":{\"value\":0.1},\"fill_color\":{\"value\":\"#0F2EEE\"},\"line_alpha\":{\"value\":0.1},\"top\":{\"field\":\"Amount\"},\"width\":{\"value\":0.8},\"x\":{\"field\":\"Label\"}},\"id\":\"21234\",\"type\":\"VBar\"},{\"attributes\":{\"end\":10,\"reset_end\":10,\"reset_start\":0,\"tags\":[[[\"Amount\",\"Amount\",null]]]},\"id\":\"21199\",\"type\":\"Range1d\"},{\"attributes\":{\"axis\":{\"id\":\"21210\"},\"grid_line_color\":null,\"ticker\":null},\"id\":\"21212\",\"type\":\"Grid\"},{\"attributes\":{\"axis_label\":\"Label\",\"bounds\":\"auto\",\"formatter\":{\"id\":\"21238\"},\"major_label_orientation\":\"horizontal\",\"ticker\":{\"id\":\"21211\"}},\"id\":\"21210\",\"type\":\"CategoricalAxis\"},{\"attributes\":{},\"id\":\"21211\",\"type\":\"CategoricalTicker\"}],\"root_ids\":[\"21196\"]},\"title\":\"Bokeh Application\",\"version\":\"2.2.3\"}};\n",
       "    var render_items = [{\"docid\":\"22ee7529-84f2-48c5-b58e-d50dae57c857\",\"root_ids\":[\"21196\"],\"roots\":{\"21196\":\"deb94a0b-a7f5-4871-bc0a-5c37a4582e62\"}}];\n",
       "    root.Bokeh.embed.embed_items_notebook(docs_json, render_items);\n",
       "  }\n",
       "  if (root.Bokeh !== undefined && root.Bokeh.Panel !== undefined) {\n",
       "    embed_document(root);\n",
       "  } else {\n",
       "    var attempts = 0;\n",
       "    var timer = setInterval(function(root) {\n",
       "      if (root.Bokeh !== undefined && root.Bokeh.Panel !== undefined) {\n",
       "        clearInterval(timer);\n",
       "        embed_document(root);\n",
       "      } else if (document.readyState == \"complete\") {\n",
       "        attempts++;\n",
       "        if (attempts > 100) {\n",
       "          clearInterval(timer);\n",
       "          console.log(\"Bokeh: ERROR: Unable to run BokehJS code because BokehJS library is missing\");\n",
       "        }\n",
       "      }\n",
       "    }, 10, root)\n",
       "  }\n",
       "})(window);</script>"
      ],
      "text/plain": [
       ":Bars   [Label]   (Amount)"
      ]
     },
     "execution_count": 111,
     "metadata": {
      "application/vnd.holoviews_exec.v0+json": {
       "id": "21196"
      }
     },
     "output_type": "execute_result"
    }
   ],
   "source": [
    "bar.hvplot.bar(stacked=True, ylim=(0, bounds[1]), x='Label', y='Amount', color='#0F2EEE')"
   ]
  },
  {
   "cell_type": "code",
   "execution_count": 101,
   "id": "charitable-correction",
   "metadata": {},
   "outputs": [
    {
     "data": {
      "text/plain": [
       "(0.114, 5.586)"
      ]
     },
     "execution_count": 101,
     "metadata": {},
     "output_type": "execute_result"
    }
   ],
   "source": [
    "(self.support_required * self.min_acceptance_quorum, self.support_required * (1 - self.min_acceptance_quorum))"
   ]
  },
  {
   "cell_type": "code",
   "execution_count": null,
   "id": "exempt-child",
   "metadata": {},
   "outputs": [],
   "source": []
  },
  {
   "cell_type": "code",
   "execution_count": 98,
   "id": "noted-taxation",
   "metadata": {},
   "outputs": [
    {
     "ename": "NameError",
     "evalue": "name 'label' is not defined",
     "output_type": "error",
     "traceback": [
      "\u001b[0;31m---------------------------------------------------------------------------\u001b[0m",
      "\u001b[0;31mNameError\u001b[0m                                 Traceback (most recent call last)",
      "\u001b[0;32m<ipython-input-98-44eafa27a411>\u001b[0m in \u001b[0;36m<module>\u001b[0;34m\u001b[0m\n\u001b[0;32m----> 1\u001b[0;31m \u001b[0mpd\u001b[0m\u001b[0;34m.\u001b[0m\u001b[0mDataFrame\u001b[0m\u001b[0;34m(\u001b[0m\u001b[0;34m[\u001b[0m\u001b[0;34m(\u001b[0m\u001b[0mlabel\u001b[0m\u001b[0;34m,\u001b[0m \u001b[0mself\u001b[0m\u001b[0;34m.\u001b[0m\u001b[0msupport_required\u001b[0m\u001b[0;34m)\u001b[0m\u001b[0;34m]\u001b[0m\u001b[0;34m,\u001b[0m \u001b[0mcolumns\u001b[0m\u001b[0;34m=\u001b[0m\u001b[0;34m[\u001b[0m\u001b[0;34m'Label'\u001b[0m\u001b[0;34m,\u001b[0m \u001b[0;34m'Amount'\u001b[0m\u001b[0;34m]\u001b[0m\u001b[0;34m)\u001b[0m\u001b[0;34m\u001b[0m\u001b[0;34m\u001b[0m\u001b[0m\n\u001b[0m",
      "\u001b[0;31mNameError\u001b[0m: name 'label' is not defined"
     ]
    }
   ],
   "source": [
    "pd.DataFrame([(label, self.support_required)], columns=['Label', 'Amount'])"
   ]
  },
  {
   "cell_type": "code",
   "execution_count": null,
   "id": "empirical-procurement",
   "metadata": {},
   "outputs": [],
   "source": []
  },
  {
   "cell_type": "code",
   "execution_count": 142,
   "id": "graphic-weekend",
   "metadata": {},
   "outputs": [
    {
     "ename": "ValueError",
     "evalue": "expected an element of either Enum('aliceblue', 'antiquewhite', 'aqua', 'aquamarine', 'azure', 'beige', 'bisque', 'black', 'blanchedalmond', 'blue', 'blueviolet', 'brown', 'burlywood', 'cadetblue', 'chartreuse', 'chocolate', 'coral', 'cornflowerblue', 'cornsilk', 'crimson', 'cyan', 'darkblue', 'darkcyan', 'darkgoldenrod', 'darkgray', 'darkgreen', 'darkgrey', 'darkkhaki', 'darkmagenta', 'darkolivegreen', 'darkorange', 'darkorchid', 'darkred', 'darksalmon', 'darkseagreen', 'darkslateblue', 'darkslategray', 'darkslategrey', 'darkturquoise', 'darkviolet', 'deeppink', 'deepskyblue', 'dimgray', 'dimgrey', 'dodgerblue', 'firebrick', 'floralwhite', 'forestgreen', 'fuchsia', 'gainsboro', 'ghostwhite', 'gold', 'goldenrod', 'gray', 'green', 'greenyellow', 'grey', 'honeydew', 'hotpink', 'indianred', 'indigo', 'ivory', 'khaki', 'lavender', 'lavenderblush', 'lawngreen', 'lemonchiffon', 'lightblue', 'lightcoral', 'lightcyan', 'lightgoldenrodyellow', 'lightgray', 'lightgreen', 'lightgrey', 'lightpink', 'lightsalmon', 'lightseagreen', 'lightskyblue', 'lightslategray', 'lightslategrey', 'lightsteelblue', 'lightyellow', 'lime', 'limegreen', 'linen', 'magenta', 'maroon', 'mediumaquamarine', 'mediumblue', 'mediumorchid', 'mediumpurple', 'mediumseagreen', 'mediumslateblue', 'mediumspringgreen', 'mediumturquoise', 'mediumvioletred', 'midnightblue', 'mintcream', 'mistyrose', 'moccasin', 'navajowhite', 'navy', 'oldlace', 'olive', 'olivedrab', 'orange', 'orangered', 'orchid', 'palegoldenrod', 'palegreen', 'paleturquoise', 'palevioletred', 'papayawhip', 'peachpuff', 'peru', 'pink', 'plum', 'powderblue', 'purple', 'red', 'rosybrown', 'royalblue', 'saddlebrown', 'salmon', 'sandybrown', 'seagreen', 'seashell', 'sienna', 'silver', 'skyblue', 'slateblue', 'slategray', 'slategrey', 'snow', 'springgreen', 'steelblue', 'tan', 'teal', 'thistle', 'tomato', 'turquoise', 'violet', 'wheat', 'white', 'whitesmoke', 'yellow', 'yellowgreen'), Regex('^#[0-9a-fA-F]{6}$'), Regex('^rgba\\\\(((25[0-5]|2[0-4]\\\\d|1\\\\d{1,2}|\\\\d\\\\d?)\\\\s*,\\\\s*?){2}(25[0-5]|2[0-4]\\\\d|1\\\\d{1,2}|\\\\d\\\\d?)\\\\s*,\\\\s*([01]\\\\.?\\\\d*?)\\\\)'), Regex('^rgb\\\\(((25[0-5]|2[0-4]\\\\d|1\\\\d{1,2}|\\\\d\\\\d?)\\\\s*,\\\\s*?){2}(25[0-5]|2[0-4]\\\\d|1\\\\d{1,2}|\\\\d\\\\d?)\\\\s*?\\\\)'), Tuple(Byte(Int, 0, 255), Byte(Int, 0, 255), Byte(Int, 0, 255)), Tuple(Byte(Int, 0, 255), Byte(Int, 0, 255), Byte(Int, 0, 255), Percent) or RGB, got '#oboa15'",
     "output_type": "error",
     "traceback": [
      "\u001b[0;31m---------------------------------------------------------------------------\u001b[0m",
      "\u001b[0;31mValueError\u001b[0m                                Traceback (most recent call last)",
      "\u001b[0;32m~/.cache/pypoetry/virtualenvs/tec-lab-28y3wQ5Q-py3.8/lib/python3.8/site-packages/IPython/core/formatters.py\u001b[0m in \u001b[0;36m__call__\u001b[0;34m(self, obj, include, exclude)\u001b[0m\n\u001b[1;32m    968\u001b[0m \u001b[0;34m\u001b[0m\u001b[0m\n\u001b[1;32m    969\u001b[0m             \u001b[0;32mif\u001b[0m \u001b[0mmethod\u001b[0m \u001b[0;32mis\u001b[0m \u001b[0;32mnot\u001b[0m \u001b[0;32mNone\u001b[0m\u001b[0;34m:\u001b[0m\u001b[0;34m\u001b[0m\u001b[0;34m\u001b[0m\u001b[0m\n\u001b[0;32m--> 970\u001b[0;31m                 \u001b[0;32mreturn\u001b[0m \u001b[0mmethod\u001b[0m\u001b[0;34m(\u001b[0m\u001b[0minclude\u001b[0m\u001b[0;34m=\u001b[0m\u001b[0minclude\u001b[0m\u001b[0;34m,\u001b[0m \u001b[0mexclude\u001b[0m\u001b[0;34m=\u001b[0m\u001b[0mexclude\u001b[0m\u001b[0;34m)\u001b[0m\u001b[0;34m\u001b[0m\u001b[0;34m\u001b[0m\u001b[0m\n\u001b[0m\u001b[1;32m    971\u001b[0m             \u001b[0;32mreturn\u001b[0m \u001b[0;32mNone\u001b[0m\u001b[0;34m\u001b[0m\u001b[0;34m\u001b[0m\u001b[0m\n\u001b[1;32m    972\u001b[0m         \u001b[0;32melse\u001b[0m\u001b[0;34m:\u001b[0m\u001b[0;34m\u001b[0m\u001b[0;34m\u001b[0m\u001b[0m\n",
      "\u001b[0;32m~/.cache/pypoetry/virtualenvs/tec-lab-28y3wQ5Q-py3.8/lib/python3.8/site-packages/panel/viewable.py\u001b[0m in \u001b[0;36m_repr_mimebundle_\u001b[0;34m(self, include, exclude)\u001b[0m\n\u001b[1;32m    571\u001b[0m         \u001b[0mdoc\u001b[0m \u001b[0;34m=\u001b[0m \u001b[0m_Document\u001b[0m\u001b[0;34m(\u001b[0m\u001b[0;34m)\u001b[0m\u001b[0;34m\u001b[0m\u001b[0;34m\u001b[0m\u001b[0m\n\u001b[1;32m    572\u001b[0m         \u001b[0mcomm\u001b[0m \u001b[0;34m=\u001b[0m \u001b[0mstate\u001b[0m\u001b[0;34m.\u001b[0m\u001b[0m_comm_manager\u001b[0m\u001b[0;34m.\u001b[0m\u001b[0mget_server_comm\u001b[0m\u001b[0;34m(\u001b[0m\u001b[0;34m)\u001b[0m\u001b[0;34m\u001b[0m\u001b[0;34m\u001b[0m\u001b[0m\n\u001b[0;32m--> 573\u001b[0;31m         \u001b[0mmodel\u001b[0m \u001b[0;34m=\u001b[0m \u001b[0mself\u001b[0m\u001b[0;34m.\u001b[0m\u001b[0m_render_model\u001b[0m\u001b[0;34m(\u001b[0m\u001b[0mdoc\u001b[0m\u001b[0;34m,\u001b[0m \u001b[0mcomm\u001b[0m\u001b[0;34m)\u001b[0m\u001b[0;34m\u001b[0m\u001b[0;34m\u001b[0m\u001b[0m\n\u001b[0m\u001b[1;32m    574\u001b[0m         \u001b[0mref\u001b[0m \u001b[0;34m=\u001b[0m \u001b[0mmodel\u001b[0m\u001b[0;34m.\u001b[0m\u001b[0mref\u001b[0m\u001b[0;34m[\u001b[0m\u001b[0;34m'id'\u001b[0m\u001b[0;34m]\u001b[0m\u001b[0;34m\u001b[0m\u001b[0;34m\u001b[0m\u001b[0m\n\u001b[1;32m    575\u001b[0m         \u001b[0mmanager\u001b[0m \u001b[0;34m=\u001b[0m \u001b[0mCommManager\u001b[0m\u001b[0;34m(\u001b[0m\u001b[0mcomm_id\u001b[0m\u001b[0;34m=\u001b[0m\u001b[0mcomm\u001b[0m\u001b[0;34m.\u001b[0m\u001b[0mid\u001b[0m\u001b[0;34m,\u001b[0m \u001b[0mplot_id\u001b[0m\u001b[0;34m=\u001b[0m\u001b[0mref\u001b[0m\u001b[0;34m)\u001b[0m\u001b[0;34m\u001b[0m\u001b[0;34m\u001b[0m\u001b[0m\n",
      "\u001b[0;32m~/.cache/pypoetry/virtualenvs/tec-lab-28y3wQ5Q-py3.8/lib/python3.8/site-packages/panel/viewable.py\u001b[0m in \u001b[0;36m_render_model\u001b[0;34m(self, doc, comm)\u001b[0m\n\u001b[1;32m    422\u001b[0m         \u001b[0;32mif\u001b[0m \u001b[0mcomm\u001b[0m \u001b[0;32mis\u001b[0m \u001b[0;32mNone\u001b[0m\u001b[0;34m:\u001b[0m\u001b[0;34m\u001b[0m\u001b[0;34m\u001b[0m\u001b[0m\n\u001b[1;32m    423\u001b[0m             \u001b[0mcomm\u001b[0m \u001b[0;34m=\u001b[0m \u001b[0mstate\u001b[0m\u001b[0;34m.\u001b[0m\u001b[0m_comm_manager\u001b[0m\u001b[0;34m.\u001b[0m\u001b[0mget_server_comm\u001b[0m\u001b[0;34m(\u001b[0m\u001b[0;34m)\u001b[0m\u001b[0;34m\u001b[0m\u001b[0;34m\u001b[0m\u001b[0m\n\u001b[0;32m--> 424\u001b[0;31m         \u001b[0mmodel\u001b[0m \u001b[0;34m=\u001b[0m \u001b[0mself\u001b[0m\u001b[0;34m.\u001b[0m\u001b[0mget_root\u001b[0m\u001b[0;34m(\u001b[0m\u001b[0mdoc\u001b[0m\u001b[0;34m,\u001b[0m \u001b[0mcomm\u001b[0m\u001b[0;34m)\u001b[0m\u001b[0;34m\u001b[0m\u001b[0;34m\u001b[0m\u001b[0m\n\u001b[0m\u001b[1;32m    425\u001b[0m \u001b[0;34m\u001b[0m\u001b[0m\n\u001b[1;32m    426\u001b[0m         \u001b[0;32mif\u001b[0m \u001b[0mconfig\u001b[0m\u001b[0;34m.\u001b[0m\u001b[0membed\u001b[0m\u001b[0;34m:\u001b[0m\u001b[0;34m\u001b[0m\u001b[0;34m\u001b[0m\u001b[0m\n",
      "\u001b[0;32m~/.cache/pypoetry/virtualenvs/tec-lab-28y3wQ5Q-py3.8/lib/python3.8/site-packages/panel/viewable.py\u001b[0m in \u001b[0;36mget_root\u001b[0;34m(self, doc, comm, preprocess)\u001b[0m\n\u001b[1;32m    480\u001b[0m         \"\"\"\n\u001b[1;32m    481\u001b[0m         \u001b[0mdoc\u001b[0m \u001b[0;34m=\u001b[0m \u001b[0minit_doc\u001b[0m\u001b[0;34m(\u001b[0m\u001b[0mdoc\u001b[0m\u001b[0;34m)\u001b[0m\u001b[0;34m\u001b[0m\u001b[0;34m\u001b[0m\u001b[0m\n\u001b[0;32m--> 482\u001b[0;31m         \u001b[0mroot\u001b[0m \u001b[0;34m=\u001b[0m \u001b[0mself\u001b[0m\u001b[0;34m.\u001b[0m\u001b[0m_get_model\u001b[0m\u001b[0;34m(\u001b[0m\u001b[0mdoc\u001b[0m\u001b[0;34m,\u001b[0m \u001b[0mcomm\u001b[0m\u001b[0;34m=\u001b[0m\u001b[0mcomm\u001b[0m\u001b[0;34m)\u001b[0m\u001b[0;34m\u001b[0m\u001b[0;34m\u001b[0m\u001b[0m\n\u001b[0m\u001b[1;32m    483\u001b[0m         \u001b[0;32mif\u001b[0m \u001b[0mpreprocess\u001b[0m\u001b[0;34m:\u001b[0m\u001b[0;34m\u001b[0m\u001b[0;34m\u001b[0m\u001b[0m\n\u001b[1;32m    484\u001b[0m             \u001b[0mself\u001b[0m\u001b[0;34m.\u001b[0m\u001b[0m_preprocess\u001b[0m\u001b[0;34m(\u001b[0m\u001b[0mroot\u001b[0m\u001b[0;34m)\u001b[0m\u001b[0;34m\u001b[0m\u001b[0;34m\u001b[0m\u001b[0m\n",
      "\u001b[0;32m~/.cache/pypoetry/virtualenvs/tec-lab-28y3wQ5Q-py3.8/lib/python3.8/site-packages/panel/layout/base.py\u001b[0m in \u001b[0;36m_get_model\u001b[0;34m(self, doc, root, parent, comm)\u001b[0m\n\u001b[1;32m    110\u001b[0m         \u001b[0;32mif\u001b[0m \u001b[0mroot\u001b[0m \u001b[0;32mis\u001b[0m \u001b[0;32mNone\u001b[0m\u001b[0;34m:\u001b[0m\u001b[0;34m\u001b[0m\u001b[0;34m\u001b[0m\u001b[0m\n\u001b[1;32m    111\u001b[0m             \u001b[0mroot\u001b[0m \u001b[0;34m=\u001b[0m \u001b[0mmodel\u001b[0m\u001b[0;34m\u001b[0m\u001b[0;34m\u001b[0m\u001b[0m\n\u001b[0;32m--> 112\u001b[0;31m         \u001b[0mobjects\u001b[0m \u001b[0;34m=\u001b[0m \u001b[0mself\u001b[0m\u001b[0;34m.\u001b[0m\u001b[0m_get_objects\u001b[0m\u001b[0;34m(\u001b[0m\u001b[0mmodel\u001b[0m\u001b[0;34m,\u001b[0m \u001b[0;34m[\u001b[0m\u001b[0;34m]\u001b[0m\u001b[0;34m,\u001b[0m \u001b[0mdoc\u001b[0m\u001b[0;34m,\u001b[0m \u001b[0mroot\u001b[0m\u001b[0;34m,\u001b[0m \u001b[0mcomm\u001b[0m\u001b[0;34m)\u001b[0m\u001b[0;34m\u001b[0m\u001b[0;34m\u001b[0m\u001b[0m\n\u001b[0m\u001b[1;32m    113\u001b[0m         \u001b[0mprops\u001b[0m \u001b[0;34m=\u001b[0m \u001b[0mdict\u001b[0m\u001b[0;34m(\u001b[0m\u001b[0mself\u001b[0m\u001b[0;34m.\u001b[0m\u001b[0m_init_properties\u001b[0m\u001b[0;34m(\u001b[0m\u001b[0;34m)\u001b[0m\u001b[0;34m,\u001b[0m \u001b[0mobjects\u001b[0m\u001b[0;34m=\u001b[0m\u001b[0mobjects\u001b[0m\u001b[0;34m)\u001b[0m\u001b[0;34m\u001b[0m\u001b[0;34m\u001b[0m\u001b[0m\n\u001b[1;32m    114\u001b[0m         \u001b[0mmodel\u001b[0m\u001b[0;34m.\u001b[0m\u001b[0mupdate\u001b[0m\u001b[0;34m(\u001b[0m\u001b[0;34m**\u001b[0m\u001b[0mself\u001b[0m\u001b[0;34m.\u001b[0m\u001b[0m_process_param_change\u001b[0m\u001b[0;34m(\u001b[0m\u001b[0mprops\u001b[0m\u001b[0;34m)\u001b[0m\u001b[0;34m)\u001b[0m\u001b[0;34m\u001b[0m\u001b[0;34m\u001b[0m\u001b[0m\n",
      "\u001b[0;32m~/.cache/pypoetry/virtualenvs/tec-lab-28y3wQ5Q-py3.8/lib/python3.8/site-packages/panel/layout/base.py\u001b[0m in \u001b[0;36m_get_objects\u001b[0;34m(self, model, old_objects, doc, root, comm)\u001b[0m\n\u001b[1;32m    100\u001b[0m             \u001b[0;32melse\u001b[0m\u001b[0;34m:\u001b[0m\u001b[0;34m\u001b[0m\u001b[0;34m\u001b[0m\u001b[0m\n\u001b[1;32m    101\u001b[0m                 \u001b[0;32mtry\u001b[0m\u001b[0;34m:\u001b[0m\u001b[0;34m\u001b[0m\u001b[0;34m\u001b[0m\u001b[0m\n\u001b[0;32m--> 102\u001b[0;31m                     \u001b[0mchild\u001b[0m \u001b[0;34m=\u001b[0m \u001b[0mpane\u001b[0m\u001b[0;34m.\u001b[0m\u001b[0m_get_model\u001b[0m\u001b[0;34m(\u001b[0m\u001b[0mdoc\u001b[0m\u001b[0;34m,\u001b[0m \u001b[0mroot\u001b[0m\u001b[0;34m,\u001b[0m \u001b[0mmodel\u001b[0m\u001b[0;34m,\u001b[0m \u001b[0mcomm\u001b[0m\u001b[0;34m)\u001b[0m\u001b[0;34m\u001b[0m\u001b[0;34m\u001b[0m\u001b[0m\n\u001b[0m\u001b[1;32m    103\u001b[0m                 \u001b[0;32mexcept\u001b[0m \u001b[0mRerenderError\u001b[0m\u001b[0;34m:\u001b[0m\u001b[0;34m\u001b[0m\u001b[0;34m\u001b[0m\u001b[0m\n\u001b[1;32m    104\u001b[0m                     \u001b[0;32mreturn\u001b[0m \u001b[0mself\u001b[0m\u001b[0;34m.\u001b[0m\u001b[0m_get_objects\u001b[0m\u001b[0;34m(\u001b[0m\u001b[0mmodel\u001b[0m\u001b[0;34m,\u001b[0m \u001b[0mcurrent_objects\u001b[0m\u001b[0;34m[\u001b[0m\u001b[0;34m:\u001b[0m\u001b[0mi\u001b[0m\u001b[0;34m]\u001b[0m\u001b[0;34m,\u001b[0m \u001b[0mdoc\u001b[0m\u001b[0;34m,\u001b[0m \u001b[0mroot\u001b[0m\u001b[0;34m,\u001b[0m \u001b[0mcomm\u001b[0m\u001b[0;34m)\u001b[0m\u001b[0;34m\u001b[0m\u001b[0;34m\u001b[0m\u001b[0m\n",
      "\u001b[0;32m~/.cache/pypoetry/virtualenvs/tec-lab-28y3wQ5Q-py3.8/lib/python3.8/site-packages/panel/pane/base.py\u001b[0m in \u001b[0;36m_get_model\u001b[0;34m(self, doc, root, parent, comm)\u001b[0m\n\u001b[1;32m    408\u001b[0m             \u001b[0;32mif\u001b[0m \u001b[0mref\u001b[0m \u001b[0;32min\u001b[0m \u001b[0mself\u001b[0m\u001b[0;34m.\u001b[0m\u001b[0m_models\u001b[0m\u001b[0;34m:\u001b[0m\u001b[0;34m\u001b[0m\u001b[0;34m\u001b[0m\u001b[0m\n\u001b[1;32m    409\u001b[0m                 \u001b[0mself\u001b[0m\u001b[0;34m.\u001b[0m\u001b[0m_cleanup\u001b[0m\u001b[0;34m(\u001b[0m\u001b[0mroot\u001b[0m\u001b[0;34m)\u001b[0m\u001b[0;34m\u001b[0m\u001b[0;34m\u001b[0m\u001b[0m\n\u001b[0;32m--> 410\u001b[0;31m         \u001b[0mmodel\u001b[0m \u001b[0;34m=\u001b[0m \u001b[0mself\u001b[0m\u001b[0;34m.\u001b[0m\u001b[0m_inner_layout\u001b[0m\u001b[0;34m.\u001b[0m\u001b[0m_get_model\u001b[0m\u001b[0;34m(\u001b[0m\u001b[0mdoc\u001b[0m\u001b[0;34m,\u001b[0m \u001b[0mroot\u001b[0m\u001b[0;34m,\u001b[0m \u001b[0mparent\u001b[0m\u001b[0;34m,\u001b[0m \u001b[0mcomm\u001b[0m\u001b[0;34m)\u001b[0m\u001b[0;34m\u001b[0m\u001b[0;34m\u001b[0m\u001b[0m\n\u001b[0m\u001b[1;32m    411\u001b[0m         \u001b[0;32mif\u001b[0m \u001b[0mroot\u001b[0m \u001b[0;32mis\u001b[0m \u001b[0;32mNone\u001b[0m\u001b[0;34m:\u001b[0m\u001b[0;34m\u001b[0m\u001b[0;34m\u001b[0m\u001b[0m\n\u001b[1;32m    412\u001b[0m             \u001b[0mref\u001b[0m \u001b[0;34m=\u001b[0m \u001b[0mmodel\u001b[0m\u001b[0;34m.\u001b[0m\u001b[0mref\u001b[0m\u001b[0;34m[\u001b[0m\u001b[0;34m'id'\u001b[0m\u001b[0;34m]\u001b[0m\u001b[0;34m\u001b[0m\u001b[0;34m\u001b[0m\u001b[0m\n",
      "\u001b[0;32m~/.cache/pypoetry/virtualenvs/tec-lab-28y3wQ5Q-py3.8/lib/python3.8/site-packages/panel/layout/base.py\u001b[0m in \u001b[0;36m_get_model\u001b[0;34m(self, doc, root, parent, comm)\u001b[0m\n\u001b[1;32m    110\u001b[0m         \u001b[0;32mif\u001b[0m \u001b[0mroot\u001b[0m \u001b[0;32mis\u001b[0m \u001b[0;32mNone\u001b[0m\u001b[0;34m:\u001b[0m\u001b[0;34m\u001b[0m\u001b[0;34m\u001b[0m\u001b[0m\n\u001b[1;32m    111\u001b[0m             \u001b[0mroot\u001b[0m \u001b[0;34m=\u001b[0m \u001b[0mmodel\u001b[0m\u001b[0;34m\u001b[0m\u001b[0;34m\u001b[0m\u001b[0m\n\u001b[0;32m--> 112\u001b[0;31m         \u001b[0mobjects\u001b[0m \u001b[0;34m=\u001b[0m \u001b[0mself\u001b[0m\u001b[0;34m.\u001b[0m\u001b[0m_get_objects\u001b[0m\u001b[0;34m(\u001b[0m\u001b[0mmodel\u001b[0m\u001b[0;34m,\u001b[0m \u001b[0;34m[\u001b[0m\u001b[0;34m]\u001b[0m\u001b[0;34m,\u001b[0m \u001b[0mdoc\u001b[0m\u001b[0;34m,\u001b[0m \u001b[0mroot\u001b[0m\u001b[0;34m,\u001b[0m \u001b[0mcomm\u001b[0m\u001b[0;34m)\u001b[0m\u001b[0;34m\u001b[0m\u001b[0;34m\u001b[0m\u001b[0m\n\u001b[0m\u001b[1;32m    113\u001b[0m         \u001b[0mprops\u001b[0m \u001b[0;34m=\u001b[0m \u001b[0mdict\u001b[0m\u001b[0;34m(\u001b[0m\u001b[0mself\u001b[0m\u001b[0;34m.\u001b[0m\u001b[0m_init_properties\u001b[0m\u001b[0;34m(\u001b[0m\u001b[0;34m)\u001b[0m\u001b[0;34m,\u001b[0m \u001b[0mobjects\u001b[0m\u001b[0;34m=\u001b[0m\u001b[0mobjects\u001b[0m\u001b[0;34m)\u001b[0m\u001b[0;34m\u001b[0m\u001b[0;34m\u001b[0m\u001b[0m\n\u001b[1;32m    114\u001b[0m         \u001b[0mmodel\u001b[0m\u001b[0;34m.\u001b[0m\u001b[0mupdate\u001b[0m\u001b[0;34m(\u001b[0m\u001b[0;34m**\u001b[0m\u001b[0mself\u001b[0m\u001b[0;34m.\u001b[0m\u001b[0m_process_param_change\u001b[0m\u001b[0;34m(\u001b[0m\u001b[0mprops\u001b[0m\u001b[0;34m)\u001b[0m\u001b[0;34m)\u001b[0m\u001b[0;34m\u001b[0m\u001b[0;34m\u001b[0m\u001b[0m\n",
      "\u001b[0;32m~/.cache/pypoetry/virtualenvs/tec-lab-28y3wQ5Q-py3.8/lib/python3.8/site-packages/panel/layout/base.py\u001b[0m in \u001b[0;36m_get_objects\u001b[0;34m(self, model, old_objects, doc, root, comm)\u001b[0m\n\u001b[1;32m    100\u001b[0m             \u001b[0;32melse\u001b[0m\u001b[0;34m:\u001b[0m\u001b[0;34m\u001b[0m\u001b[0;34m\u001b[0m\u001b[0m\n\u001b[1;32m    101\u001b[0m                 \u001b[0;32mtry\u001b[0m\u001b[0;34m:\u001b[0m\u001b[0;34m\u001b[0m\u001b[0;34m\u001b[0m\u001b[0m\n\u001b[0;32m--> 102\u001b[0;31m                     \u001b[0mchild\u001b[0m \u001b[0;34m=\u001b[0m \u001b[0mpane\u001b[0m\u001b[0;34m.\u001b[0m\u001b[0m_get_model\u001b[0m\u001b[0;34m(\u001b[0m\u001b[0mdoc\u001b[0m\u001b[0;34m,\u001b[0m \u001b[0mroot\u001b[0m\u001b[0;34m,\u001b[0m \u001b[0mmodel\u001b[0m\u001b[0;34m,\u001b[0m \u001b[0mcomm\u001b[0m\u001b[0;34m)\u001b[0m\u001b[0;34m\u001b[0m\u001b[0;34m\u001b[0m\u001b[0m\n\u001b[0m\u001b[1;32m    103\u001b[0m                 \u001b[0;32mexcept\u001b[0m \u001b[0mRerenderError\u001b[0m\u001b[0;34m:\u001b[0m\u001b[0;34m\u001b[0m\u001b[0;34m\u001b[0m\u001b[0m\n\u001b[1;32m    104\u001b[0m                     \u001b[0;32mreturn\u001b[0m \u001b[0mself\u001b[0m\u001b[0;34m.\u001b[0m\u001b[0m_get_objects\u001b[0m\u001b[0;34m(\u001b[0m\u001b[0mmodel\u001b[0m\u001b[0;34m,\u001b[0m \u001b[0mcurrent_objects\u001b[0m\u001b[0;34m[\u001b[0m\u001b[0;34m:\u001b[0m\u001b[0mi\u001b[0m\u001b[0;34m]\u001b[0m\u001b[0;34m,\u001b[0m \u001b[0mdoc\u001b[0m\u001b[0;34m,\u001b[0m \u001b[0mroot\u001b[0m\u001b[0;34m,\u001b[0m \u001b[0mcomm\u001b[0m\u001b[0;34m)\u001b[0m\u001b[0;34m\u001b[0m\u001b[0;34m\u001b[0m\u001b[0m\n",
      "\u001b[0;32m~/.cache/pypoetry/virtualenvs/tec-lab-28y3wQ5Q-py3.8/lib/python3.8/site-packages/panel/pane/holoviews.py\u001b[0m in \u001b[0;36m_get_model\u001b[0;34m(self, doc, root, parent, comm)\u001b[0m\n\u001b[1;32m    239\u001b[0m             \u001b[0mplot\u001b[0m \u001b[0;34m=\u001b[0m \u001b[0mself\u001b[0m\u001b[0;34m.\u001b[0m\u001b[0mobject\u001b[0m\u001b[0;34m\u001b[0m\u001b[0;34m\u001b[0m\u001b[0m\n\u001b[1;32m    240\u001b[0m         \u001b[0;32melse\u001b[0m\u001b[0;34m:\u001b[0m\u001b[0;34m\u001b[0m\u001b[0;34m\u001b[0m\u001b[0m\n\u001b[0;32m--> 241\u001b[0;31m             \u001b[0mplot\u001b[0m \u001b[0;34m=\u001b[0m \u001b[0mself\u001b[0m\u001b[0;34m.\u001b[0m\u001b[0m_render\u001b[0m\u001b[0;34m(\u001b[0m\u001b[0mdoc\u001b[0m\u001b[0;34m,\u001b[0m \u001b[0mcomm\u001b[0m\u001b[0;34m,\u001b[0m \u001b[0mroot\u001b[0m\u001b[0;34m)\u001b[0m\u001b[0;34m\u001b[0m\u001b[0;34m\u001b[0m\u001b[0m\n\u001b[0m\u001b[1;32m    242\u001b[0m \u001b[0;34m\u001b[0m\u001b[0m\n\u001b[1;32m    243\u001b[0m         \u001b[0mplot\u001b[0m\u001b[0;34m.\u001b[0m\u001b[0mpane\u001b[0m \u001b[0;34m=\u001b[0m \u001b[0mself\u001b[0m\u001b[0;34m\u001b[0m\u001b[0;34m\u001b[0m\u001b[0m\n",
      "\u001b[0;32m~/.cache/pypoetry/virtualenvs/tec-lab-28y3wQ5Q-py3.8/lib/python3.8/site-packages/panel/pane/holoviews.py\u001b[0m in \u001b[0;36m_render\u001b[0;34m(self, doc, comm, root)\u001b[0m\n\u001b[1;32m    304\u001b[0m                 \u001b[0mkwargs\u001b[0m\u001b[0;34m[\u001b[0m\u001b[0;34m'comm'\u001b[0m\u001b[0;34m]\u001b[0m \u001b[0;34m=\u001b[0m \u001b[0mcomm\u001b[0m\u001b[0;34m\u001b[0m\u001b[0;34m\u001b[0m\u001b[0m\n\u001b[1;32m    305\u001b[0m \u001b[0;34m\u001b[0m\u001b[0m\n\u001b[0;32m--> 306\u001b[0;31m         \u001b[0;32mreturn\u001b[0m \u001b[0mrenderer\u001b[0m\u001b[0;34m.\u001b[0m\u001b[0mget_plot\u001b[0m\u001b[0;34m(\u001b[0m\u001b[0mself\u001b[0m\u001b[0;34m.\u001b[0m\u001b[0mobject\u001b[0m\u001b[0;34m,\u001b[0m \u001b[0;34m**\u001b[0m\u001b[0mkwargs\u001b[0m\u001b[0;34m)\u001b[0m\u001b[0;34m\u001b[0m\u001b[0;34m\u001b[0m\u001b[0m\n\u001b[0m\u001b[1;32m    307\u001b[0m \u001b[0;34m\u001b[0m\u001b[0m\n\u001b[1;32m    308\u001b[0m     \u001b[0;32mdef\u001b[0m \u001b[0m_cleanup\u001b[0m\u001b[0;34m(\u001b[0m\u001b[0mself\u001b[0m\u001b[0;34m,\u001b[0m \u001b[0mroot\u001b[0m\u001b[0;34m)\u001b[0m\u001b[0;34m:\u001b[0m\u001b[0;34m\u001b[0m\u001b[0;34m\u001b[0m\u001b[0m\n",
      "\u001b[0;32m~/.cache/pypoetry/virtualenvs/tec-lab-28y3wQ5Q-py3.8/lib/python3.8/site-packages/holoviews/plotting/bokeh/renderer.py\u001b[0m in \u001b[0;36mget_plot\u001b[0;34m(self_or_cls, obj, doc, renderer, **kwargs)\u001b[0m\n\u001b[1;32m     71\u001b[0m         \u001b[0mcombining\u001b[0m \u001b[0mthe\u001b[0m \u001b[0mbokeh\u001b[0m \u001b[0mmodel\u001b[0m \u001b[0;32mwith\u001b[0m \u001b[0manother\u001b[0m \u001b[0mplot\u001b[0m\u001b[0;34m.\u001b[0m\u001b[0;34m\u001b[0m\u001b[0;34m\u001b[0m\u001b[0m\n\u001b[1;32m     72\u001b[0m         \"\"\"\n\u001b[0;32m---> 73\u001b[0;31m         \u001b[0mplot\u001b[0m \u001b[0;34m=\u001b[0m \u001b[0msuper\u001b[0m\u001b[0;34m(\u001b[0m\u001b[0mBokehRenderer\u001b[0m\u001b[0;34m,\u001b[0m \u001b[0mself_or_cls\u001b[0m\u001b[0;34m)\u001b[0m\u001b[0;34m.\u001b[0m\u001b[0mget_plot\u001b[0m\u001b[0;34m(\u001b[0m\u001b[0mobj\u001b[0m\u001b[0;34m,\u001b[0m \u001b[0mdoc\u001b[0m\u001b[0;34m,\u001b[0m \u001b[0mrenderer\u001b[0m\u001b[0;34m,\u001b[0m \u001b[0;34m**\u001b[0m\u001b[0mkwargs\u001b[0m\u001b[0;34m)\u001b[0m\u001b[0;34m\u001b[0m\u001b[0;34m\u001b[0m\u001b[0m\n\u001b[0m\u001b[1;32m     74\u001b[0m         \u001b[0;32mif\u001b[0m \u001b[0mplot\u001b[0m\u001b[0;34m.\u001b[0m\u001b[0mdocument\u001b[0m \u001b[0;32mis\u001b[0m \u001b[0;32mNone\u001b[0m\u001b[0;34m:\u001b[0m\u001b[0;34m\u001b[0m\u001b[0;34m\u001b[0m\u001b[0m\n\u001b[1;32m     75\u001b[0m             \u001b[0mplot\u001b[0m\u001b[0;34m.\u001b[0m\u001b[0mdocument\u001b[0m \u001b[0;34m=\u001b[0m \u001b[0mDocument\u001b[0m\u001b[0;34m(\u001b[0m\u001b[0;34m)\u001b[0m \u001b[0;32mif\u001b[0m \u001b[0mself_or_cls\u001b[0m\u001b[0;34m.\u001b[0m\u001b[0mnotebook_context\u001b[0m \u001b[0;32melse\u001b[0m \u001b[0mcurdoc\u001b[0m\u001b[0;34m(\u001b[0m\u001b[0;34m)\u001b[0m\u001b[0;34m\u001b[0m\u001b[0;34m\u001b[0m\u001b[0m\n",
      "\u001b[0;32m~/.cache/pypoetry/virtualenvs/tec-lab-28y3wQ5Q-py3.8/lib/python3.8/site-packages/holoviews/plotting/renderer.py\u001b[0m in \u001b[0;36mget_plot\u001b[0;34m(self_or_cls, obj, doc, renderer, comm, **kwargs)\u001b[0m\n\u001b[1;32m    241\u001b[0m             init_key = tuple(v if d is None else d for v, d in\n\u001b[1;32m    242\u001b[0m                              zip(plot.keys[0], defaults))\n\u001b[0;32m--> 243\u001b[0;31m             \u001b[0mplot\u001b[0m\u001b[0;34m.\u001b[0m\u001b[0mupdate\u001b[0m\u001b[0;34m(\u001b[0m\u001b[0minit_key\u001b[0m\u001b[0;34m)\u001b[0m\u001b[0;34m\u001b[0m\u001b[0;34m\u001b[0m\u001b[0m\n\u001b[0m\u001b[1;32m    244\u001b[0m         \u001b[0;32melse\u001b[0m\u001b[0;34m:\u001b[0m\u001b[0;34m\u001b[0m\u001b[0;34m\u001b[0m\u001b[0m\n\u001b[1;32m    245\u001b[0m             \u001b[0mplot\u001b[0m \u001b[0;34m=\u001b[0m \u001b[0mobj\u001b[0m\u001b[0;34m\u001b[0m\u001b[0;34m\u001b[0m\u001b[0m\n",
      "\u001b[0;32m~/.cache/pypoetry/virtualenvs/tec-lab-28y3wQ5Q-py3.8/lib/python3.8/site-packages/holoviews/plotting/plot.py\u001b[0m in \u001b[0;36mupdate\u001b[0;34m(self, key)\u001b[0m\n\u001b[1;32m    980\u001b[0m     \u001b[0;32mdef\u001b[0m \u001b[0mupdate\u001b[0m\u001b[0;34m(\u001b[0m\u001b[0mself\u001b[0m\u001b[0;34m,\u001b[0m \u001b[0mkey\u001b[0m\u001b[0;34m)\u001b[0m\u001b[0;34m:\u001b[0m\u001b[0;34m\u001b[0m\u001b[0;34m\u001b[0m\u001b[0m\n\u001b[1;32m    981\u001b[0m         \u001b[0;32mif\u001b[0m \u001b[0mlen\u001b[0m\u001b[0;34m(\u001b[0m\u001b[0mself\u001b[0m\u001b[0;34m)\u001b[0m \u001b[0;34m==\u001b[0m \u001b[0;36m1\u001b[0m \u001b[0;32mand\u001b[0m \u001b[0;34m(\u001b[0m\u001b[0;34m(\u001b[0m\u001b[0mkey\u001b[0m \u001b[0;34m==\u001b[0m \u001b[0;36m0\u001b[0m\u001b[0;34m)\u001b[0m \u001b[0;32mor\u001b[0m \u001b[0;34m(\u001b[0m\u001b[0mkey\u001b[0m \u001b[0;34m==\u001b[0m \u001b[0mself\u001b[0m\u001b[0;34m.\u001b[0m\u001b[0mkeys\u001b[0m\u001b[0;34m[\u001b[0m\u001b[0;36m0\u001b[0m\u001b[0;34m]\u001b[0m\u001b[0;34m)\u001b[0m\u001b[0;34m)\u001b[0m \u001b[0;32mand\u001b[0m \u001b[0;32mnot\u001b[0m \u001b[0mself\u001b[0m\u001b[0;34m.\u001b[0m\u001b[0mdrawn\u001b[0m\u001b[0;34m:\u001b[0m\u001b[0;34m\u001b[0m\u001b[0;34m\u001b[0m\u001b[0m\n\u001b[0;32m--> 982\u001b[0;31m             \u001b[0;32mreturn\u001b[0m \u001b[0mself\u001b[0m\u001b[0;34m.\u001b[0m\u001b[0minitialize_plot\u001b[0m\u001b[0;34m(\u001b[0m\u001b[0;34m)\u001b[0m\u001b[0;34m\u001b[0m\u001b[0;34m\u001b[0m\u001b[0m\n\u001b[0m\u001b[1;32m    983\u001b[0m         \u001b[0mitem\u001b[0m \u001b[0;34m=\u001b[0m \u001b[0mself\u001b[0m\u001b[0;34m.\u001b[0m\u001b[0m__getitem__\u001b[0m\u001b[0;34m(\u001b[0m\u001b[0mkey\u001b[0m\u001b[0;34m)\u001b[0m\u001b[0;34m\u001b[0m\u001b[0;34m\u001b[0m\u001b[0m\n\u001b[1;32m    984\u001b[0m         \u001b[0mself\u001b[0m\u001b[0;34m.\u001b[0m\u001b[0mtraverse\u001b[0m\u001b[0;34m(\u001b[0m\u001b[0;32mlambda\u001b[0m \u001b[0mx\u001b[0m\u001b[0;34m:\u001b[0m \u001b[0msetattr\u001b[0m\u001b[0;34m(\u001b[0m\u001b[0mx\u001b[0m\u001b[0;34m,\u001b[0m \u001b[0;34m'_updated'\u001b[0m\u001b[0;34m,\u001b[0m \u001b[0;32mTrue\u001b[0m\u001b[0;34m)\u001b[0m\u001b[0;34m)\u001b[0m\u001b[0;34m\u001b[0m\u001b[0;34m\u001b[0m\u001b[0m\n",
      "\u001b[0;32m~/.cache/pypoetry/virtualenvs/tec-lab-28y3wQ5Q-py3.8/lib/python3.8/site-packages/holoviews/plotting/bokeh/element.py\u001b[0m in \u001b[0;36minitialize_plot\u001b[0;34m(self, ranges, plot, plots, source)\u001b[0m\n\u001b[1;32m   1378\u001b[0m         \u001b[0;31m# Initialize plot, source and glyph\u001b[0m\u001b[0;34m\u001b[0m\u001b[0;34m\u001b[0m\u001b[0;34m\u001b[0m\u001b[0m\n\u001b[1;32m   1379\u001b[0m         \u001b[0;32mif\u001b[0m \u001b[0mplot\u001b[0m \u001b[0;32mis\u001b[0m \u001b[0;32mNone\u001b[0m\u001b[0;34m:\u001b[0m\u001b[0;34m\u001b[0m\u001b[0;34m\u001b[0m\u001b[0m\n\u001b[0;32m-> 1380\u001b[0;31m             \u001b[0mplot\u001b[0m \u001b[0;34m=\u001b[0m \u001b[0mself\u001b[0m\u001b[0;34m.\u001b[0m\u001b[0m_init_plot\u001b[0m\u001b[0;34m(\u001b[0m\u001b[0mkey\u001b[0m\u001b[0;34m,\u001b[0m \u001b[0mstyle_element\u001b[0m\u001b[0;34m,\u001b[0m \u001b[0mranges\u001b[0m\u001b[0;34m=\u001b[0m\u001b[0mranges\u001b[0m\u001b[0;34m,\u001b[0m \u001b[0mplots\u001b[0m\u001b[0;34m=\u001b[0m\u001b[0mplots\u001b[0m\u001b[0;34m)\u001b[0m\u001b[0;34m\u001b[0m\u001b[0;34m\u001b[0m\u001b[0m\n\u001b[0m\u001b[1;32m   1381\u001b[0m             \u001b[0mself\u001b[0m\u001b[0;34m.\u001b[0m\u001b[0m_init_axes\u001b[0m\u001b[0;34m(\u001b[0m\u001b[0mplot\u001b[0m\u001b[0;34m)\u001b[0m\u001b[0;34m\u001b[0m\u001b[0;34m\u001b[0m\u001b[0m\n\u001b[1;32m   1382\u001b[0m         \u001b[0;32melse\u001b[0m\u001b[0;34m:\u001b[0m\u001b[0;34m\u001b[0m\u001b[0;34m\u001b[0m\u001b[0m\n",
      "\u001b[0;32m~/.cache/pypoetry/virtualenvs/tec-lab-28y3wQ5Q-py3.8/lib/python3.8/site-packages/holoviews/plotting/bokeh/element.py\u001b[0m in \u001b[0;36m_init_plot\u001b[0;34m(self, key, element, plots, ranges)\u001b[0m\n\u001b[1;32m    524\u001b[0m             \u001b[0;31m# are not really an issue\u001b[0m\u001b[0;34m\u001b[0m\u001b[0;34m\u001b[0m\u001b[0;34m\u001b[0m\u001b[0m\n\u001b[1;32m    525\u001b[0m             \u001b[0mwarnings\u001b[0m\u001b[0;34m.\u001b[0m\u001b[0msimplefilter\u001b[0m\u001b[0;34m(\u001b[0m\u001b[0;34m'ignore'\u001b[0m\u001b[0;34m,\u001b[0m \u001b[0mUserWarning\u001b[0m\u001b[0;34m)\u001b[0m\u001b[0;34m\u001b[0m\u001b[0;34m\u001b[0m\u001b[0m\n\u001b[0;32m--> 526\u001b[0;31m             return bokeh.plotting.Figure(x_axis_type=x_axis_type,\n\u001b[0m\u001b[1;32m    527\u001b[0m                                          \u001b[0my_axis_type\u001b[0m\u001b[0;34m=\u001b[0m\u001b[0my_axis_type\u001b[0m\u001b[0;34m,\u001b[0m \u001b[0mtitle\u001b[0m\u001b[0;34m=\u001b[0m\u001b[0mtitle\u001b[0m\u001b[0;34m,\u001b[0m\u001b[0;34m\u001b[0m\u001b[0;34m\u001b[0m\u001b[0m\n\u001b[1;32m    528\u001b[0m                                          **properties)\n",
      "\u001b[0;32m~/.cache/pypoetry/virtualenvs/tec-lab-28y3wQ5Q-py3.8/lib/python3.8/site-packages/bokeh/plotting/figure.py\u001b[0m in \u001b[0;36m__init__\u001b[0;34m(self, *arg, **kw)\u001b[0m\n\u001b[1;32m    163\u001b[0m             \u001b[0mkw\u001b[0m\u001b[0;34m[\u001b[0m\u001b[0;34m'title'\u001b[0m\u001b[0;34m]\u001b[0m \u001b[0;34m=\u001b[0m \u001b[0mTitle\u001b[0m\u001b[0;34m(\u001b[0m\u001b[0mtext\u001b[0m\u001b[0;34m=\u001b[0m\u001b[0mtitle\u001b[0m\u001b[0;34m)\u001b[0m\u001b[0;34m\u001b[0m\u001b[0;34m\u001b[0m\u001b[0m\n\u001b[1;32m    164\u001b[0m \u001b[0;34m\u001b[0m\u001b[0m\n\u001b[0;32m--> 165\u001b[0;31m         \u001b[0msuper\u001b[0m\u001b[0;34m(\u001b[0m\u001b[0;34m)\u001b[0m\u001b[0;34m.\u001b[0m\u001b[0m__init__\u001b[0m\u001b[0;34m(\u001b[0m\u001b[0;34m*\u001b[0m\u001b[0marg\u001b[0m\u001b[0;34m,\u001b[0m \u001b[0;34m**\u001b[0m\u001b[0mkw\u001b[0m\u001b[0;34m)\u001b[0m\u001b[0;34m\u001b[0m\u001b[0;34m\u001b[0m\u001b[0m\n\u001b[0m\u001b[1;32m    166\u001b[0m \u001b[0;34m\u001b[0m\u001b[0m\n\u001b[1;32m    167\u001b[0m         \u001b[0mself\u001b[0m\u001b[0;34m.\u001b[0m\u001b[0mx_range\u001b[0m \u001b[0;34m=\u001b[0m \u001b[0mget_range\u001b[0m\u001b[0;34m(\u001b[0m\u001b[0mopts\u001b[0m\u001b[0;34m.\u001b[0m\u001b[0mx_range\u001b[0m\u001b[0;34m)\u001b[0m\u001b[0;34m\u001b[0m\u001b[0;34m\u001b[0m\u001b[0m\n",
      "\u001b[0;32m~/.cache/pypoetry/virtualenvs/tec-lab-28y3wQ5Q-py3.8/lib/python3.8/site-packages/bokeh/model.py\u001b[0m in \u001b[0;36m__init__\u001b[0;34m(self, **kwargs)\u001b[0m\n\u001b[1;32m    233\u001b[0m         \u001b[0mkwargs\u001b[0m\u001b[0;34m.\u001b[0m\u001b[0mpop\u001b[0m\u001b[0;34m(\u001b[0m\u001b[0;34m\"id\"\u001b[0m\u001b[0;34m,\u001b[0m \u001b[0;32mNone\u001b[0m\u001b[0;34m)\u001b[0m\u001b[0;34m\u001b[0m\u001b[0;34m\u001b[0m\u001b[0m\n\u001b[1;32m    234\u001b[0m \u001b[0;34m\u001b[0m\u001b[0m\n\u001b[0;32m--> 235\u001b[0;31m         \u001b[0msuper\u001b[0m\u001b[0;34m(\u001b[0m\u001b[0;34m)\u001b[0m\u001b[0;34m.\u001b[0m\u001b[0m__init__\u001b[0m\u001b[0;34m(\u001b[0m\u001b[0;34m**\u001b[0m\u001b[0mkwargs\u001b[0m\u001b[0;34m)\u001b[0m\u001b[0;34m\u001b[0m\u001b[0;34m\u001b[0m\u001b[0m\n\u001b[0m\u001b[1;32m    236\u001b[0m         \u001b[0mdefault_theme\u001b[0m\u001b[0;34m.\u001b[0m\u001b[0mapply_to_model\u001b[0m\u001b[0;34m(\u001b[0m\u001b[0mself\u001b[0m\u001b[0;34m)\u001b[0m\u001b[0;34m\u001b[0m\u001b[0;34m\u001b[0m\u001b[0m\n\u001b[1;32m    237\u001b[0m \u001b[0;34m\u001b[0m\u001b[0m\n",
      "\u001b[0;32m~/.cache/pypoetry/virtualenvs/tec-lab-28y3wQ5Q-py3.8/lib/python3.8/site-packages/bokeh/core/has_props.py\u001b[0m in \u001b[0;36m__init__\u001b[0;34m(self, **properties)\u001b[0m\n\u001b[1;32m    247\u001b[0m \u001b[0;34m\u001b[0m\u001b[0m\n\u001b[1;32m    248\u001b[0m         \u001b[0;32mfor\u001b[0m \u001b[0mname\u001b[0m\u001b[0;34m,\u001b[0m \u001b[0mvalue\u001b[0m \u001b[0;32min\u001b[0m \u001b[0mproperties\u001b[0m\u001b[0;34m.\u001b[0m\u001b[0mitems\u001b[0m\u001b[0;34m(\u001b[0m\u001b[0;34m)\u001b[0m\u001b[0;34m:\u001b[0m\u001b[0;34m\u001b[0m\u001b[0;34m\u001b[0m\u001b[0m\n\u001b[0;32m--> 249\u001b[0;31m             \u001b[0msetattr\u001b[0m\u001b[0;34m(\u001b[0m\u001b[0mself\u001b[0m\u001b[0;34m,\u001b[0m \u001b[0mname\u001b[0m\u001b[0;34m,\u001b[0m \u001b[0mvalue\u001b[0m\u001b[0;34m)\u001b[0m\u001b[0;34m\u001b[0m\u001b[0;34m\u001b[0m\u001b[0m\n\u001b[0m\u001b[1;32m    250\u001b[0m \u001b[0;34m\u001b[0m\u001b[0m\n\u001b[1;32m    251\u001b[0m         \u001b[0mself\u001b[0m\u001b[0;34m.\u001b[0m\u001b[0m_initialized\u001b[0m \u001b[0;34m=\u001b[0m \u001b[0;32mTrue\u001b[0m\u001b[0;34m\u001b[0m\u001b[0;34m\u001b[0m\u001b[0m\n",
      "\u001b[0;32m~/.cache/pypoetry/virtualenvs/tec-lab-28y3wQ5Q-py3.8/lib/python3.8/site-packages/bokeh/core/has_props.py\u001b[0m in \u001b[0;36m__setattr__\u001b[0;34m(self, name, value)\u001b[0m\n\u001b[1;32m    276\u001b[0m \u001b[0;34m\u001b[0m\u001b[0m\n\u001b[1;32m    277\u001b[0m         \u001b[0;32mif\u001b[0m \u001b[0mname\u001b[0m \u001b[0;32min\u001b[0m \u001b[0mprops\u001b[0m \u001b[0;32mor\u001b[0m \u001b[0;34m(\u001b[0m\u001b[0mdescriptor\u001b[0m \u001b[0;32mis\u001b[0m \u001b[0;32mnot\u001b[0m \u001b[0;32mNone\u001b[0m \u001b[0;32mand\u001b[0m \u001b[0mdescriptor\u001b[0m\u001b[0;34m.\u001b[0m\u001b[0mfset\u001b[0m \u001b[0;32mis\u001b[0m \u001b[0;32mnot\u001b[0m \u001b[0;32mNone\u001b[0m\u001b[0;34m)\u001b[0m\u001b[0;34m:\u001b[0m\u001b[0;34m\u001b[0m\u001b[0;34m\u001b[0m\u001b[0m\n\u001b[0;32m--> 278\u001b[0;31m             \u001b[0msuper\u001b[0m\u001b[0;34m(\u001b[0m\u001b[0;34m)\u001b[0m\u001b[0;34m.\u001b[0m\u001b[0m__setattr__\u001b[0m\u001b[0;34m(\u001b[0m\u001b[0mname\u001b[0m\u001b[0;34m,\u001b[0m \u001b[0mvalue\u001b[0m\u001b[0;34m)\u001b[0m\u001b[0;34m\u001b[0m\u001b[0;34m\u001b[0m\u001b[0m\n\u001b[0m\u001b[1;32m    279\u001b[0m         \u001b[0;32melse\u001b[0m\u001b[0;34m:\u001b[0m\u001b[0;34m\u001b[0m\u001b[0;34m\u001b[0m\u001b[0m\n\u001b[1;32m    280\u001b[0m             \u001b[0mmatches\u001b[0m\u001b[0;34m,\u001b[0m \u001b[0mtext\u001b[0m \u001b[0;34m=\u001b[0m \u001b[0mdifflib\u001b[0m\u001b[0;34m.\u001b[0m\u001b[0mget_close_matches\u001b[0m\u001b[0;34m(\u001b[0m\u001b[0mname\u001b[0m\u001b[0;34m.\u001b[0m\u001b[0mlower\u001b[0m\u001b[0;34m(\u001b[0m\u001b[0;34m)\u001b[0m\u001b[0;34m,\u001b[0m \u001b[0mprops\u001b[0m\u001b[0;34m)\u001b[0m\u001b[0;34m,\u001b[0m \u001b[0;34m\"similar\"\u001b[0m\u001b[0;34m\u001b[0m\u001b[0;34m\u001b[0m\u001b[0m\n",
      "\u001b[0;32m~/.cache/pypoetry/virtualenvs/tec-lab-28y3wQ5Q-py3.8/lib/python3.8/site-packages/bokeh/core/property/descriptors.py\u001b[0m in \u001b[0;36m__set__\u001b[0;34m(self, obj, value, setter)\u001b[0m\n\u001b[1;32m    537\u001b[0m             \u001b[0;32mraise\u001b[0m \u001b[0mRuntimeError\u001b[0m\u001b[0;34m(\u001b[0m\u001b[0;34m\"%s.%s is a readonly property\"\u001b[0m \u001b[0;34m%\u001b[0m \u001b[0;34m(\u001b[0m\u001b[0mobj\u001b[0m\u001b[0;34m.\u001b[0m\u001b[0m__class__\u001b[0m\u001b[0;34m.\u001b[0m\u001b[0m__name__\u001b[0m\u001b[0;34m,\u001b[0m \u001b[0mself\u001b[0m\u001b[0;34m.\u001b[0m\u001b[0mname\u001b[0m\u001b[0;34m)\u001b[0m\u001b[0;34m)\u001b[0m\u001b[0;34m\u001b[0m\u001b[0;34m\u001b[0m\u001b[0m\n\u001b[1;32m    538\u001b[0m \u001b[0;34m\u001b[0m\u001b[0m\n\u001b[0;32m--> 539\u001b[0;31m         \u001b[0mself\u001b[0m\u001b[0;34m.\u001b[0m\u001b[0m_internal_set\u001b[0m\u001b[0;34m(\u001b[0m\u001b[0mobj\u001b[0m\u001b[0;34m,\u001b[0m \u001b[0mvalue\u001b[0m\u001b[0;34m,\u001b[0m \u001b[0msetter\u001b[0m\u001b[0;34m=\u001b[0m\u001b[0msetter\u001b[0m\u001b[0;34m)\u001b[0m\u001b[0;34m\u001b[0m\u001b[0;34m\u001b[0m\u001b[0m\n\u001b[0m\u001b[1;32m    540\u001b[0m \u001b[0;34m\u001b[0m\u001b[0m\n\u001b[1;32m    541\u001b[0m     \u001b[0;32mdef\u001b[0m \u001b[0m__delete__\u001b[0m\u001b[0;34m(\u001b[0m\u001b[0mself\u001b[0m\u001b[0;34m,\u001b[0m \u001b[0mobj\u001b[0m\u001b[0;34m)\u001b[0m\u001b[0;34m:\u001b[0m\u001b[0;34m\u001b[0m\u001b[0;34m\u001b[0m\u001b[0m\n",
      "\u001b[0;32m~/.cache/pypoetry/virtualenvs/tec-lab-28y3wQ5Q-py3.8/lib/python3.8/site-packages/bokeh/core/property/descriptors.py\u001b[0m in \u001b[0;36m_internal_set\u001b[0;34m(self, obj, value, hint, setter)\u001b[0m\n\u001b[1;32m    758\u001b[0m \u001b[0;34m\u001b[0m\u001b[0m\n\u001b[1;32m    759\u001b[0m         '''\n\u001b[0;32m--> 760\u001b[0;31m         \u001b[0mvalue\u001b[0m \u001b[0;34m=\u001b[0m \u001b[0mself\u001b[0m\u001b[0;34m.\u001b[0m\u001b[0mproperty\u001b[0m\u001b[0;34m.\u001b[0m\u001b[0mprepare_value\u001b[0m\u001b[0;34m(\u001b[0m\u001b[0mobj\u001b[0m\u001b[0;34m,\u001b[0m \u001b[0mself\u001b[0m\u001b[0;34m.\u001b[0m\u001b[0mname\u001b[0m\u001b[0;34m,\u001b[0m \u001b[0mvalue\u001b[0m\u001b[0;34m)\u001b[0m\u001b[0;34m\u001b[0m\u001b[0;34m\u001b[0m\u001b[0m\n\u001b[0m\u001b[1;32m    761\u001b[0m \u001b[0;34m\u001b[0m\u001b[0m\n\u001b[1;32m    762\u001b[0m         \u001b[0mold\u001b[0m \u001b[0;34m=\u001b[0m \u001b[0mself\u001b[0m\u001b[0;34m.\u001b[0m\u001b[0m__get__\u001b[0m\u001b[0;34m(\u001b[0m\u001b[0mobj\u001b[0m\u001b[0;34m,\u001b[0m \u001b[0mobj\u001b[0m\u001b[0;34m.\u001b[0m\u001b[0m__class__\u001b[0m\u001b[0;34m)\u001b[0m\u001b[0;34m\u001b[0m\u001b[0;34m\u001b[0m\u001b[0m\n",
      "\u001b[0;32m~/.cache/pypoetry/virtualenvs/tec-lab-28y3wQ5Q-py3.8/lib/python3.8/site-packages/bokeh/core/property/bases.py\u001b[0m in \u001b[0;36mprepare_value\u001b[0;34m(self, obj_or_cls, name, value)\u001b[0m\n\u001b[1;32m    329\u001b[0m                     \u001b[0;32mbreak\u001b[0m\u001b[0;34m\u001b[0m\u001b[0;34m\u001b[0m\u001b[0m\n\u001b[1;32m    330\u001b[0m             \u001b[0;32melse\u001b[0m\u001b[0;34m:\u001b[0m\u001b[0;34m\u001b[0m\u001b[0;34m\u001b[0m\u001b[0m\n\u001b[0;32m--> 331\u001b[0;31m                 \u001b[0;32mraise\u001b[0m \u001b[0me\u001b[0m\u001b[0;34m\u001b[0m\u001b[0;34m\u001b[0m\u001b[0m\n\u001b[0m\u001b[1;32m    332\u001b[0m         \u001b[0;32melse\u001b[0m\u001b[0;34m:\u001b[0m\u001b[0;34m\u001b[0m\u001b[0;34m\u001b[0m\u001b[0m\n\u001b[1;32m    333\u001b[0m             \u001b[0mvalue\u001b[0m \u001b[0;34m=\u001b[0m \u001b[0mself\u001b[0m\u001b[0;34m.\u001b[0m\u001b[0mtransform\u001b[0m\u001b[0;34m(\u001b[0m\u001b[0mvalue\u001b[0m\u001b[0;34m)\u001b[0m\u001b[0;34m\u001b[0m\u001b[0;34m\u001b[0m\u001b[0m\n",
      "\u001b[0;32m~/.cache/pypoetry/virtualenvs/tec-lab-28y3wQ5Q-py3.8/lib/python3.8/site-packages/bokeh/core/property/bases.py\u001b[0m in \u001b[0;36mprepare_value\u001b[0;34m(self, obj_or_cls, name, value)\u001b[0m\n\u001b[1;32m    322\u001b[0m         \u001b[0;32mtry\u001b[0m\u001b[0;34m:\u001b[0m\u001b[0;34m\u001b[0m\u001b[0;34m\u001b[0m\u001b[0m\n\u001b[1;32m    323\u001b[0m             \u001b[0;32mif\u001b[0m \u001b[0mvalidation_on\u001b[0m\u001b[0;34m(\u001b[0m\u001b[0;34m)\u001b[0m\u001b[0;34m:\u001b[0m\u001b[0;34m\u001b[0m\u001b[0;34m\u001b[0m\u001b[0m\n\u001b[0;32m--> 324\u001b[0;31m                 \u001b[0mself\u001b[0m\u001b[0;34m.\u001b[0m\u001b[0mvalidate\u001b[0m\u001b[0;34m(\u001b[0m\u001b[0mvalue\u001b[0m\u001b[0;34m)\u001b[0m\u001b[0;34m\u001b[0m\u001b[0;34m\u001b[0m\u001b[0m\n\u001b[0m\u001b[1;32m    325\u001b[0m         \u001b[0;32mexcept\u001b[0m \u001b[0mValueError\u001b[0m \u001b[0;32mas\u001b[0m \u001b[0me\u001b[0m\u001b[0;34m:\u001b[0m\u001b[0;34m\u001b[0m\u001b[0;34m\u001b[0m\u001b[0m\n\u001b[1;32m    326\u001b[0m             \u001b[0;32mfor\u001b[0m \u001b[0mtp\u001b[0m\u001b[0;34m,\u001b[0m \u001b[0mconverter\u001b[0m \u001b[0;32min\u001b[0m \u001b[0mself\u001b[0m\u001b[0;34m.\u001b[0m\u001b[0malternatives\u001b[0m\u001b[0;34m:\u001b[0m\u001b[0;34m\u001b[0m\u001b[0;34m\u001b[0m\u001b[0m\n",
      "\u001b[0;32m~/.cache/pypoetry/virtualenvs/tec-lab-28y3wQ5Q-py3.8/lib/python3.8/site-packages/bokeh/core/property/either.py\u001b[0m in \u001b[0;36mvalidate\u001b[0;34m(self, value, detail)\u001b[0m\n\u001b[1;32m    107\u001b[0m         \u001b[0;32mif\u001b[0m \u001b[0;32mnot\u001b[0m \u001b[0;34m(\u001b[0m\u001b[0mvalue\u001b[0m \u001b[0;32mis\u001b[0m \u001b[0;32mNone\u001b[0m \u001b[0;32mor\u001b[0m \u001b[0many\u001b[0m\u001b[0;34m(\u001b[0m\u001b[0mparam\u001b[0m\u001b[0;34m.\u001b[0m\u001b[0mis_valid\u001b[0m\u001b[0;34m(\u001b[0m\u001b[0mvalue\u001b[0m\u001b[0;34m)\u001b[0m \u001b[0;32mfor\u001b[0m \u001b[0mparam\u001b[0m \u001b[0;32min\u001b[0m \u001b[0mself\u001b[0m\u001b[0;34m.\u001b[0m\u001b[0mtype_params\u001b[0m\u001b[0;34m)\u001b[0m\u001b[0;34m)\u001b[0m\u001b[0;34m:\u001b[0m\u001b[0;34m\u001b[0m\u001b[0;34m\u001b[0m\u001b[0m\n\u001b[1;32m    108\u001b[0m             \u001b[0mmsg\u001b[0m \u001b[0;34m=\u001b[0m \u001b[0;34m\"\"\u001b[0m \u001b[0;32mif\u001b[0m \u001b[0;32mnot\u001b[0m \u001b[0mdetail\u001b[0m \u001b[0;32melse\u001b[0m \u001b[0;34m\"expected an element of either %s, got %r\"\u001b[0m \u001b[0;34m%\u001b[0m \u001b[0;34m(\u001b[0m\u001b[0mnice_join\u001b[0m\u001b[0;34m(\u001b[0m\u001b[0mself\u001b[0m\u001b[0;34m.\u001b[0m\u001b[0mtype_params\u001b[0m\u001b[0;34m)\u001b[0m\u001b[0;34m,\u001b[0m \u001b[0mvalue\u001b[0m\u001b[0;34m)\u001b[0m\u001b[0;34m\u001b[0m\u001b[0;34m\u001b[0m\u001b[0m\n\u001b[0;32m--> 109\u001b[0;31m             \u001b[0;32mraise\u001b[0m \u001b[0mValueError\u001b[0m\u001b[0;34m(\u001b[0m\u001b[0mmsg\u001b[0m\u001b[0;34m)\u001b[0m\u001b[0;34m\u001b[0m\u001b[0;34m\u001b[0m\u001b[0m\n\u001b[0m\u001b[1;32m    110\u001b[0m \u001b[0;34m\u001b[0m\u001b[0m\n\u001b[1;32m    111\u001b[0m     \u001b[0;31m# TODO (bev) implement this\u001b[0m\u001b[0;34m\u001b[0m\u001b[0;34m\u001b[0m\u001b[0;34m\u001b[0m\u001b[0m\n",
      "\u001b[0;31mValueError\u001b[0m: expected an element of either Enum('aliceblue', 'antiquewhite', 'aqua', 'aquamarine', 'azure', 'beige', 'bisque', 'black', 'blanchedalmond', 'blue', 'blueviolet', 'brown', 'burlywood', 'cadetblue', 'chartreuse', 'chocolate', 'coral', 'cornflowerblue', 'cornsilk', 'crimson', 'cyan', 'darkblue', 'darkcyan', 'darkgoldenrod', 'darkgray', 'darkgreen', 'darkgrey', 'darkkhaki', 'darkmagenta', 'darkolivegreen', 'darkorange', 'darkorchid', 'darkred', 'darksalmon', 'darkseagreen', 'darkslateblue', 'darkslategray', 'darkslategrey', 'darkturquoise', 'darkviolet', 'deeppink', 'deepskyblue', 'dimgray', 'dimgrey', 'dodgerblue', 'firebrick', 'floralwhite', 'forestgreen', 'fuchsia', 'gainsboro', 'ghostwhite', 'gold', 'goldenrod', 'gray', 'green', 'greenyellow', 'grey', 'honeydew', 'hotpink', 'indianred', 'indigo', 'ivory', 'khaki', 'lavender', 'lavenderblush', 'lawngreen', 'lemonchiffon', 'lightblue', 'lightcoral', 'lightcyan', 'lightgoldenrodyellow', 'lightgray', 'lightgreen', 'lightgrey', 'lightpink', 'lightsalmon', 'lightseagreen', 'lightskyblue', 'lightslategray', 'lightslategrey', 'lightsteelblue', 'lightyellow', 'lime', 'limegreen', 'linen', 'magenta', 'maroon', 'mediumaquamarine', 'mediumblue', 'mediumorchid', 'mediumpurple', 'mediumseagreen', 'mediumslateblue', 'mediumspringgreen', 'mediumturquoise', 'mediumvioletred', 'midnightblue', 'mintcream', 'mistyrose', 'moccasin', 'navajowhite', 'navy', 'oldlace', 'olive', 'olivedrab', 'orange', 'orangered', 'orchid', 'palegoldenrod', 'palegreen', 'paleturquoise', 'palevioletred', 'papayawhip', 'peachpuff', 'peru', 'pink', 'plum', 'powderblue', 'purple', 'red', 'rosybrown', 'royalblue', 'saddlebrown', 'salmon', 'sandybrown', 'seagreen', 'seashell', 'sienna', 'silver', 'skyblue', 'slateblue', 'slategray', 'slategrey', 'snow', 'springgreen', 'steelblue', 'tan', 'teal', 'thistle', 'tomato', 'turquoise', 'violet', 'wheat', 'white', 'whitesmoke', 'yellow', 'yellowgreen'), Regex('^#[0-9a-fA-F]{6}$'), Regex('^rgba\\\\(((25[0-5]|2[0-4]\\\\d|1\\\\d{1,2}|\\\\d\\\\d?)\\\\s*,\\\\s*?){2}(25[0-5]|2[0-4]\\\\d|1\\\\d{1,2}|\\\\d\\\\d?)\\\\s*,\\\\s*([01]\\\\.?\\\\d*?)\\\\)'), Regex('^rgb\\\\(((25[0-5]|2[0-4]\\\\d|1\\\\d{1,2}|\\\\d\\\\d?)\\\\s*,\\\\s*?){2}(25[0-5]|2[0-4]\\\\d|1\\\\d{1,2}|\\\\d\\\\d?)\\\\s*?\\\\)'), Tuple(Byte(Int, 0, 255), Byte(Int, 0, 255), Byte(Int, 0, 255)), Tuple(Byte(Int, 0, 255), Byte(Int, 0, 255), Byte(Int, 0, 255), Percent) or RGB, got '#oboa15'"
     ]
    },
    {
     "data": {
      "text/plain": [
       "Column\n",
       "    [0] Column(margin=5, name='FillBar', width=300)\n",
       "        [0] StaticText(value='<b>FillBar</b>')\n",
       "        [1] FloatSlider(end=10, name='Support required', value=7, value_throttled=7)\n",
       "        [2] FloatSlider(name='Min acceptance quorum', step=0.01, value=0.02, value_throttled=0.02)\n",
       "    [1] ParamMethod(method)"
      ]
     },
     "execution_count": 142,
     "metadata": {},
     "output_type": "execute_result"
    }
   ],
   "source": [
    "pn.Column(f, f.amount_bar)"
   ]
  },
  {
   "cell_type": "code",
   "execution_count": 46,
   "id": "global-switch",
   "metadata": {},
   "outputs": [],
   "source": [
    "import panel as pn\n",
    "import pandas as pd\n",
    "import hvplot.pandas"
   ]
  },
  {
   "cell_type": "code",
   "execution_count": 47,
   "id": "diagnostic-parks",
   "metadata": {},
   "outputs": [
    {
     "data": {},
     "metadata": {},
     "output_type": "display_data"
    },
    {
     "data": {
      "application/vnd.holoviews_exec.v0+json": "",
      "text/html": [
       "<div id='1026'>\n",
       "\n",
       "\n",
       "\n",
       "\n",
       "\n",
       "  <div class=\"bk-root\" id=\"e7a63ce4-f985-4e80-b33f-4a9da04f8852\" data-root-id=\"1026\"></div>\n",
       "</div>\n",
       "<script type=\"application/javascript\">(function(root) {\n",
       "  function embed_document(root) {\n",
       "    var docs_json = {\"02c110e5-33da-444d-a6a5-90e3acacfe56\":{\"roots\":{\"references\":[{\"attributes\":{\"reload\":false},\"id\":\"1030\",\"type\":\"panel.models.location.Location\"},{\"attributes\":{\"children\":[{\"id\":\"1027\"},{\"id\":\"1028\"}],\"margin\":[5,5,5,5],\"min_width\":300,\"name\":\"FillBar\",\"width\":300},\"id\":\"1026\",\"type\":\"Column\"},{\"attributes\":{\"format\":null,\"margin\":[5,10,5,10],\"placeholder\":\"0\",\"step\":0.1,\"title\":\"Amount\",\"value\":7,\"value_throttled\":7},\"id\":\"1028\",\"type\":\"Spinner\"},{\"attributes\":{\"client_comm_id\":\"161c5d8f9eb944b7bbfaf14f4c987041\",\"comm_id\":\"07950e3f1376431d8389d133b90adc86\",\"plot_id\":\"1026\"},\"id\":\"1029\",\"type\":\"panel.models.comm_manager.CommManager\"},{\"attributes\":{\"margin\":[5,10,5,10],\"name\":\"\",\"text\":\"<b>FillBar</b>\"},\"id\":\"1027\",\"type\":\"Div\"}],\"root_ids\":[\"1026\",\"1029\",\"1030\"]},\"title\":\"Bokeh Application\",\"version\":\"2.2.3\"}};\n",
       "    var render_items = [{\"docid\":\"02c110e5-33da-444d-a6a5-90e3acacfe56\",\"root_ids\":[\"1026\"],\"roots\":{\"1026\":\"e7a63ce4-f985-4e80-b33f-4a9da04f8852\"}}];\n",
       "    root.Bokeh.embed.embed_items_notebook(docs_json, render_items);\n",
       "  }\n",
       "  if (root.Bokeh !== undefined && root.Bokeh.Panel !== undefined) {\n",
       "    embed_document(root);\n",
       "  } else {\n",
       "    var attempts = 0;\n",
       "    var timer = setInterval(function(root) {\n",
       "      if (root.Bokeh !== undefined && root.Bokeh.Panel !== undefined) {\n",
       "        clearInterval(timer);\n",
       "        embed_document(root);\n",
       "      } else if (document.readyState == \"complete\") {\n",
       "        attempts++;\n",
       "        if (attempts > 100) {\n",
       "          clearInterval(timer);\n",
       "          console.log(\"Bokeh: ERROR: Unable to run BokehJS code because BokehJS library is missing\");\n",
       "        }\n",
       "      }\n",
       "    }, 10, root)\n",
       "  }\n",
       "})(window);</script>"
      ],
      "text/plain": [
       "Param(FillBar)"
      ]
     },
     "execution_count": 47,
     "metadata": {
      "application/vnd.holoviews_exec.v0+json": {
       "id": "1026"
      }
     },
     "output_type": "execute_result"
    }
   ],
   "source": [
    "pn.Pane(f)"
   ]
  },
  {
   "cell_type": "code",
   "execution_count": 48,
   "id": "turkish-finder",
   "metadata": {},
   "outputs": [],
   "source": [
    "pn.extension()"
   ]
  },
  {
   "cell_type": "code",
   "execution_count": 49,
   "id": "insured-acoustic",
   "metadata": {},
   "outputs": [],
   "source": [
    "f.param['amount'].bounds"
   ]
  },
  {
   "cell_type": "code",
   "execution_count": 50,
   "id": "involved-jacksonville",
   "metadata": {},
   "outputs": [
    {
     "ename": "AttributeError",
     "evalue": "'int' object has no attribute 'doc'",
     "output_type": "error",
     "traceback": [
      "\u001b[0;31m---------------------------------------------------------------------------\u001b[0m",
      "\u001b[0;31mAttributeError\u001b[0m                            Traceback (most recent call last)",
      "\u001b[0;32m<ipython-input-50-76048ab1ebf8>\u001b[0m in \u001b[0;36m<module>\u001b[0;34m\u001b[0m\n\u001b[0;32m----> 1\u001b[0;31m \u001b[0mf\u001b[0m\u001b[0;34m.\u001b[0m\u001b[0mfill_bar\u001b[0m\u001b[0;34m(\u001b[0m\u001b[0mf\u001b[0m\u001b[0;34m.\u001b[0m\u001b[0mamount\u001b[0m\u001b[0;34m)\u001b[0m\u001b[0;34m\u001b[0m\u001b[0;34m\u001b[0m\u001b[0m\n\u001b[0m",
      "\u001b[0;32m<ipython-input-44-2f89ca1a245e>\u001b[0m in \u001b[0;36mfill_bar\u001b[0;34m(self, number)\u001b[0m\n\u001b[1;32m      4\u001b[0m \u001b[0;34m\u001b[0m\u001b[0m\n\u001b[1;32m      5\u001b[0m     \u001b[0;32mdef\u001b[0m \u001b[0mfill_bar\u001b[0m\u001b[0;34m(\u001b[0m\u001b[0mself\u001b[0m\u001b[0;34m,\u001b[0m \u001b[0mnumber\u001b[0m\u001b[0;34m)\u001b[0m\u001b[0;34m:\u001b[0m\u001b[0;34m\u001b[0m\u001b[0;34m\u001b[0m\u001b[0m\n\u001b[0;32m----> 6\u001b[0;31m         \u001b[0mlabel\u001b[0m \u001b[0;34m=\u001b[0m \u001b[0mnumber\u001b[0m\u001b[0;34m.\u001b[0m\u001b[0mdoc\u001b[0m\u001b[0;34m\u001b[0m\u001b[0;34m\u001b[0m\u001b[0m\n\u001b[0m\u001b[1;32m      7\u001b[0m         \u001b[0mbounds\u001b[0m \u001b[0;34m=\u001b[0m \u001b[0mnumber\u001b[0m\u001b[0;34m.\u001b[0m\u001b[0mparam\u001b[0m\u001b[0;34m[\u001b[0m\u001b[0;34m'amount'\u001b[0m\u001b[0;34m]\u001b[0m\u001b[0;34m.\u001b[0m\u001b[0mbounds\u001b[0m\u001b[0;34m\u001b[0m\u001b[0;34m\u001b[0m\u001b[0m\n\u001b[1;32m      8\u001b[0m         \u001b[0mbar\u001b[0m \u001b[0;34m=\u001b[0m \u001b[0mpd\u001b[0m\u001b[0;34m.\u001b[0m\u001b[0mDataFrame\u001b[0m\u001b[0;34m(\u001b[0m\u001b[0;34m[\u001b[0m\u001b[0;34m(\u001b[0m\u001b[0mlabel\u001b[0m\u001b[0;34m,\u001b[0m \u001b[0mnumber\u001b[0m\u001b[0;34m)\u001b[0m\u001b[0;34m]\u001b[0m\u001b[0;34m,\u001b[0m \u001b[0mcolumns\u001b[0m\u001b[0;34m=\u001b[0m\u001b[0;34m[\u001b[0m\u001b[0;34m'Label'\u001b[0m\u001b[0;34m,\u001b[0m \u001b[0;34m'Amount'\u001b[0m\u001b[0;34m]\u001b[0m\u001b[0;34m)\u001b[0m\u001b[0;34m\u001b[0m\u001b[0;34m\u001b[0m\u001b[0m\n",
      "\u001b[0;31mAttributeError\u001b[0m: 'int' object has no attribute 'doc'"
     ]
    }
   ],
   "source": [
    "f.fill_bar(f"
   ]
  },
  {
   "cell_type": "code",
   "execution_count": null,
   "id": "fossil-karaoke",
   "metadata": {},
   "outputs": [],
   "source": []
  }
 ],
 "metadata": {
  "kernelspec": {
   "display_name": "Python 3",
   "language": "python",
   "name": "python3"
  },
  "language_info": {
   "codemirror_mode": {
    "name": "ipython",
    "version": 3
   },
   "file_extension": ".py",
   "mimetype": "text/x-python",
   "name": "python",
   "nbconvert_exporter": "python",
   "pygments_lexer": "ipython3",
   "version": "3.8.6"
  }
 },
 "nbformat": 4,
 "nbformat_minor": 5
}
