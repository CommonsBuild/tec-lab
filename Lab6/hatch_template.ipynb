{
 "cells": [
  {
   "cell_type": "markdown",
   "id": "empirical-column",
   "metadata": {},
   "source": [
    "# Hatch Template!"
   ]
  },
  {
   "cell_type": "markdown",
   "id": "gothic-kinase",
   "metadata": {},
   "source": [
    "## Dandelion Voting"
   ]
  },
  {
   "cell_type": "markdown",
   "id": "wireless-reserve",
   "metadata": {},
   "source": [
    "1. Percentage of total tokens that have to vote 'yes' to `something` for it to pass."
   ]
  },
  {
   "cell_type": "code",
   "execution_count": 78,
   "id": "meaning-vehicle",
   "metadata": {},
   "outputs": [],
   "source": [
    "import param\n",
    "import panel as pn\n",
    "import pandas as pd\n",
    "import hvplot.pandas\n",
    "import holoviews as hv\n",
    "pn.extension()"
   ]
  },
  {
   "cell_type": "code",
   "execution_count": 94,
   "id": "union-merchant",
   "metadata": {},
   "outputs": [],
   "source": [
    "class DandelionVoting(param.Parameterized):\n",
    "    total_tokens = param.Number(1e6, constant=True)\n",
    "    minimum_quorum = param.Number(0.02, bounds=(0,1), step=0.01)\n",
    "    support_required = param.Number(0.5, bounds=(0.5,0.9), step=0.01)\n",
    "    days_to_vote_on_proposal = param.Integer(3 + 8 + 24, bounds=(0,100))\n",
    "    days_to_exit_hatch = param.Integer(8)\n",
    "#     vote_buffer_blocks = param.Integer(8, bounds=(0,None))\n",
    "#     vote_execution_delay_blocks = param.Integer(24, bounds=(0,None))\n",
    "    cost_to_make_a_proposal = param.Number(3, step=1, doc=\"cost to make a proposal\")\n",
    "    maximum_number_votes_per_year = param.Number(50, bounds=(20, 1000))\n",
    "    \n",
    "    def view(self):\n",
    "        min_support = self.support_required * self.minimum_quorum * self.total_tokens\n",
    "        min_blockers = (1 - self.support_required) * self.minimum_quorum * self.total_tokens\n",
    "        votes = pd.DataFrame.from_dict({'Votes': [min_support, min_blockers]}, orient='index', columns=['Minimum Tokens to Pass', 'Minimum Tokens for Quorum'])\n",
    "        vote_plot = votes.hvplot.bar(stacked=True, ylim=(0,self.total_tokens)).opts(color=hv.Cycle(['#0F2EEE', '#0b0a15', '#DEFB48']))\n",
    "        return pn.Row(vote_plot, pn.Column(\"Minimum Tokens to Meet Quorum: \", int(self.minimum_quorum * self.total_tokens), \"Minimum Tokens to Pass a Vote: \", int(min_support), \"Minimum Tokens to Block a Vote: \", int(min_blockers)))"
   ]
  },
  {
   "cell_type": "code",
   "execution_count": 97,
   "id": "behavioral-maintenance",
   "metadata": {},
   "outputs": [],
   "source": [
    "d = DandelionVoting()"
   ]
  },
  {
   "cell_type": "code",
   "execution_count": 98,
   "id": "continuing-dakota",
   "metadata": {},
   "outputs": [
    {
     "data": {},
     "metadata": {},
     "output_type": "display_data"
    },
    {
     "data": {},
     "metadata": {},
     "output_type": "display_data"
    },
    {
     "data": {
      "application/vnd.holoviews_exec.v0+json": "",
      "text/html": [
       "<div id='34119'>\n",
       "\n",
       "\n",
       "\n",
       "\n",
       "\n",
       "  <div class=\"bk-root\" id=\"11ef60a1-8346-4991-9e9a-635edd681ba2\" data-root-id=\"34119\"></div>\n",
       "</div>\n",
       "<script type=\"application/javascript\">(function(root) {\n",
       "  function embed_document(root) {\n",
       "    var docs_json = {\"d9ef72f7-db43-4b18-93cc-d4c05d197d58\":{\"roots\":{\"references\":[{\"attributes\":{\"bottom\":{\"field\":\"bottom\"},\"fill_alpha\":{\"value\":0.1},\"fill_color\":{\"field\":\"Variable\",\"transform\":{\"id\":\"34163\"}},\"line_alpha\":{\"value\":0.1},\"top\":{\"field\":\"top\"},\"width\":{\"value\":0.8},\"x\":{\"field\":\"index\"}},\"id\":\"34168\",\"type\":\"VBar\"},{\"attributes\":{},\"id\":\"34152\",\"type\":\"WheelZoomTool\"},{\"attributes\":{},\"id\":\"34178\",\"type\":\"UnionRenderers\"},{\"attributes\":{\"children\":[{\"id\":\"34203\"},{\"id\":\"34204\"},{\"id\":\"34205\"},{\"id\":\"34206\"},{\"id\":\"34207\"},{\"id\":\"34208\"}],\"margin\":[0,0,0,0],\"name\":\"Column87267\"},\"id\":\"34202\",\"type\":\"Column\"},{\"attributes\":{},\"id\":\"34151\",\"type\":\"PanTool\"},{\"attributes\":{},\"id\":\"34147\",\"type\":\"BasicTicker\"},{\"attributes\":{\"below\":[{\"id\":\"34143\"}],\"center\":[{\"id\":\"34145\"},{\"id\":\"34149\"},{\"id\":\"34180\"}],\"left\":[{\"id\":\"34146\"}],\"margin\":[5,5,5,5],\"min_border_bottom\":10,\"min_border_left\":10,\"min_border_right\":10,\"min_border_top\":10,\"plot_height\":300,\"plot_width\":700,\"renderers\":[{\"id\":\"34170\"}],\"right\":[{\"id\":\"34180\"}],\"sizing_mode\":\"fixed\",\"title\":{\"id\":\"34135\"},\"toolbar\":{\"id\":\"34156\"},\"x_range\":{\"id\":\"34131\"},\"x_scale\":{\"id\":\"34139\"},\"y_range\":{\"id\":\"34132\"},\"y_scale\":{\"id\":\"34141\"}},\"id\":\"34134\",\"subtype\":\"Figure\",\"type\":\"Plot\"},{\"attributes\":{\"text\":\"\",\"text_color\":{\"value\":\"black\"},\"text_font_size\":{\"value\":\"12pt\"}},\"id\":\"34135\",\"type\":\"Title\"},{\"attributes\":{\"axis\":{\"id\":\"34146\"},\"dimension\":1,\"grid_line_color\":null,\"ticker\":null},\"id\":\"34149\",\"type\":\"Grid\"},{\"attributes\":{\"factors\":[\"Minimum Tokens to Pass\",\"Minimum Tokens for Quorum\"],\"palette\":[\"#0F2EEE\",\"#0b0a15\"]},\"id\":\"34163\",\"type\":\"CategoricalColorMapper\"},{\"attributes\":{\"end\":1,\"format\":\"0[.]00\",\"margin\":[5,10,5,10],\"start\":0,\"step\":0.01,\"title\":\"Minimum quorum\",\"value\":0.02,\"value_throttled\":0.02},\"id\":\"34123\",\"type\":\"Slider\"},{\"attributes\":{},\"id\":\"34141\",\"type\":\"LinearScale\"},{\"attributes\":{},\"id\":\"34144\",\"type\":\"CategoricalTicker\"},{\"attributes\":{\"end\":1000000.0,\"reset_end\":1000000.0,\"reset_start\":0,\"tags\":[[[\"value\",\"value\",null]]]},\"id\":\"34132\",\"type\":\"Range1d\"},{\"attributes\":{\"css_classes\":[\"markdown\"],\"margin\":[5,5,5,5],\"name\":\"Markdown87259\",\"text\":\"&lt;p&gt;Minimum Tokens to Pass a Vote: &lt;/p&gt;\"},\"id\":\"34205\",\"type\":\"panel.models.markup.HTML\"},{\"attributes\":{\"overlay\":{\"id\":\"34155\"}},\"id\":\"34153\",\"type\":\"BoxZoomTool\"},{\"attributes\":{\"end\":1000,\"format\":\"0[.]00\",\"margin\":[5,10,5,10],\"start\":20,\"step\":0.1,\"title\":\"Maximum number votes per year\",\"value\":50,\"value_throttled\":50},\"id\":\"34128\",\"type\":\"Slider\"},{\"attributes\":{\"label\":{\"field\":\"Variable\"},\"renderers\":[{\"id\":\"34170\"}]},\"id\":\"34181\",\"type\":\"LegendItem\"},{\"attributes\":{\"children\":[{\"id\":\"34121\"},{\"id\":\"34122\"},{\"id\":\"34123\"},{\"id\":\"34124\"},{\"id\":\"34125\"},{\"id\":\"34126\"},{\"id\":\"34127\"},{\"id\":\"34128\"}],\"margin\":[5,5,5,5],\"min_width\":300,\"name\":\"DandelionVoting\",\"width\":300},\"id\":\"34120\",\"type\":\"Column\"},{\"attributes\":{},\"id\":\"34173\",\"type\":\"CategoricalTickFormatter\"},{\"attributes\":{\"children\":[{\"id\":\"34130\"}],\"margin\":[0,0,0,0],\"name\":\"Row87159\"},\"id\":\"34129\",\"type\":\"Row\"},{\"attributes\":{\"axis_label\":\"\",\"bounds\":\"auto\",\"formatter\":{\"id\":\"34173\"},\"major_label_orientation\":\"horizontal\",\"ticker\":{\"id\":\"34144\"}},\"id\":\"34143\",\"type\":\"CategoricalAxis\"},{\"attributes\":{\"bottom\":{\"field\":\"bottom\"},\"fill_alpha\":{\"value\":0.2},\"fill_color\":{\"field\":\"Variable\",\"transform\":{\"id\":\"34163\"}},\"line_alpha\":{\"value\":0.2},\"top\":{\"field\":\"top\"},\"width\":{\"value\":0.8},\"x\":{\"field\":\"index\"}},\"id\":\"34169\",\"type\":\"VBar\"},{\"attributes\":{\"callback\":null,\"renderers\":[{\"id\":\"34170\"}],\"tags\":[\"hv_created\"],\"tooltips\":[[\"index\",\"@{index}\"],[\"Variable\",\"@{Variable}\"],[\"value\",\"@{value}\"]]},\"id\":\"34133\",\"type\":\"HoverTool\"},{\"attributes\":{\"end\":0.9,\"format\":\"0[.]00\",\"margin\":[5,10,5,10],\"start\":0.5,\"step\":0.01,\"title\":\"Support required\",\"value\":0.5,\"value_throttled\":0.5},\"id\":\"34124\",\"type\":\"Slider\"},{\"attributes\":{\"source\":{\"id\":\"34164\"}},\"id\":\"34171\",\"type\":\"CDSView\"},{\"attributes\":{\"format\":null,\"margin\":[5,10,5,10],\"placeholder\":\"0\",\"title\":\"Cost to make a proposal\",\"value\":3,\"value_throttled\":3},\"id\":\"34127\",\"type\":\"Spinner\"},{\"attributes\":{\"children\":[{\"id\":\"34134\"},{\"id\":\"34202\"}],\"margin\":[0,0,0,0],\"name\":\"Row87273\"},\"id\":\"34130\",\"type\":\"Row\"},{\"attributes\":{\"data\":{\"Variable\":[\"Minimum Tokens to Pass\",\"Minimum Tokens for Quorum\"],\"bottom\":{\"__ndarray__\":\"AAAAAAAAAAAAAAAAAIjDQA==\",\"dtype\":\"float64\",\"order\":\"little\",\"shape\":[2]},\"index\":[\"Votes\",\"Votes\"],\"top\":{\"__ndarray__\":\"AAAAAACIw0AAAAAAAIjTQA==\",\"dtype\":\"float64\",\"order\":\"little\",\"shape\":[2]},\"value\":{\"__ndarray__\":\"AAAAAACIw0AAAAAAAIjDQA==\",\"dtype\":\"float64\",\"order\":\"little\",\"shape\":[2]}},\"selected\":{\"id\":\"34165\"},\"selection_policy\":{\"id\":\"34178\"}},\"id\":\"34164\",\"type\":\"ColumnDataSource\"},{\"attributes\":{\"disabled\":true,\"format\":null,\"margin\":[5,10,5,10],\"placeholder\":\"0\",\"step\":0.1,\"title\":\"Total tokens\",\"value\":1000000.0,\"value_throttled\":1000000.0},\"id\":\"34122\",\"type\":\"Spinner\"},{\"attributes\":{\"axis\":{\"id\":\"34143\"},\"grid_line_color\":null,\"ticker\":null},\"id\":\"34145\",\"type\":\"Grid\"},{\"attributes\":{\"format\":null,\"margin\":[5,10,5,10],\"mode\":\"int\",\"placeholder\":\"0\",\"title\":\"Days to exit hatch\",\"value\":8,\"value_throttled\":8},\"id\":\"34126\",\"type\":\"Spinner\"},{\"attributes\":{},\"id\":\"34139\",\"type\":\"CategoricalScale\"},{\"attributes\":{\"margin\":[5,5,5,5],\"name\":\"Str87257\",\"text\":\"&lt;pre&gt;20000&lt;/pre&gt;\"},\"id\":\"34204\",\"type\":\"panel.models.markup.HTML\"},{\"attributes\":{\"margin\":[5,5,5,5],\"name\":\"Str87261\",\"text\":\"&lt;pre&gt;10000&lt;/pre&gt;\"},\"id\":\"34206\",\"type\":\"panel.models.markup.HTML\"},{\"attributes\":{\"bottom_units\":\"screen\",\"fill_alpha\":0.5,\"fill_color\":\"lightgrey\",\"left_units\":\"screen\",\"level\":\"overlay\",\"line_alpha\":1.0,\"line_color\":\"black\",\"line_dash\":[4,4],\"line_width\":2,\"right_units\":\"screen\",\"top_units\":\"screen\"},\"id\":\"34155\",\"type\":\"BoxAnnotation\"},{\"attributes\":{\"client_comm_id\":\"5dcfb011c8df47cda691819cb059b815\",\"comm_id\":\"efcb70f661634e7280a6c3cad8b1f075\",\"plot_id\":\"34119\"},\"id\":\"34233\",\"type\":\"panel.models.comm_manager.CommManager\"},{\"attributes\":{\"bottom\":{\"field\":\"bottom\"},\"fill_color\":{\"field\":\"Variable\",\"transform\":{\"id\":\"34163\"}},\"top\":{\"field\":\"top\"},\"width\":{\"value\":0.8},\"x\":{\"field\":\"index\"}},\"id\":\"34167\",\"type\":\"VBar\"},{\"attributes\":{\"css_classes\":[\"markdown\"],\"margin\":[5,5,5,5],\"name\":\"Markdown87255\",\"text\":\"&lt;p&gt;Minimum Tokens to Meet Quorum: &lt;/p&gt;\"},\"id\":\"34203\",\"type\":\"panel.models.markup.HTML\"},{\"attributes\":{\"factors\":[\"Votes\"],\"tags\":[[[\"index\",\"index\",null]]]},\"id\":\"34131\",\"type\":\"FactorRange\"},{\"attributes\":{\"active_drag\":\"auto\",\"active_inspect\":\"auto\",\"active_multi\":null,\"active_scroll\":\"auto\",\"active_tap\":\"auto\",\"tools\":[{\"id\":\"34133\"},{\"id\":\"34150\"},{\"id\":\"34151\"},{\"id\":\"34152\"},{\"id\":\"34153\"},{\"id\":\"34154\"}]},\"id\":\"34156\",\"type\":\"Toolbar\"},{\"attributes\":{\"margin\":[5,10,5,10],\"name\":\"\",\"text\":\"<b>DandelionVoting</b>\"},\"id\":\"34121\",\"type\":\"Div\"},{\"attributes\":{\"data_source\":{\"id\":\"34164\"},\"glyph\":{\"id\":\"34167\"},\"hover_glyph\":null,\"muted_glyph\":{\"id\":\"34169\"},\"nonselection_glyph\":{\"id\":\"34168\"},\"selection_glyph\":null,\"view\":{\"id\":\"34171\"}},\"id\":\"34170\",\"type\":\"GlyphRenderer\"},{\"attributes\":{},\"id\":\"34150\",\"type\":\"SaveTool\"},{\"attributes\":{\"margin\":[5,5,5,5],\"name\":\"Str87265\",\"text\":\"&lt;pre&gt;10000&lt;/pre&gt;\"},\"id\":\"34208\",\"type\":\"panel.models.markup.HTML\"},{\"attributes\":{},\"id\":\"34154\",\"type\":\"ResetTool\"},{\"attributes\":{\"children\":[{\"id\":\"34120\"},{\"id\":\"34129\"}],\"margin\":[0,0,0,0],\"name\":\"Row87275\"},\"id\":\"34119\",\"type\":\"Row\"},{\"attributes\":{\"axis_label\":\"\",\"bounds\":\"auto\",\"formatter\":{\"id\":\"34175\"},\"major_label_orientation\":\"horizontal\",\"ticker\":{\"id\":\"34147\"}},\"id\":\"34146\",\"type\":\"LinearAxis\"},{\"attributes\":{\"css_classes\":[\"markdown\"],\"margin\":[5,5,5,5],\"name\":\"Markdown87263\",\"text\":\"&lt;p&gt;Minimum Tokens to Block a Vote: &lt;/p&gt;\"},\"id\":\"34207\",\"type\":\"panel.models.markup.HTML\"},{\"attributes\":{},\"id\":\"34175\",\"type\":\"BasicTickFormatter\"},{\"attributes\":{},\"id\":\"34165\",\"type\":\"Selection\"},{\"attributes\":{\"end\":100,\"format\":\"0[.]00\",\"margin\":[5,10,5,10],\"start\":0,\"title\":\"Days to vote on proposal\",\"value\":35,\"value_throttled\":35},\"id\":\"34125\",\"type\":\"Slider\"},{\"attributes\":{\"items\":[{\"id\":\"34181\"}],\"location\":[0,0]},\"id\":\"34180\",\"type\":\"Legend\"}],\"root_ids\":[\"34119\",\"34233\"]},\"title\":\"Bokeh Application\",\"version\":\"2.2.3\"}};\n",
       "    var render_items = [{\"docid\":\"d9ef72f7-db43-4b18-93cc-d4c05d197d58\",\"root_ids\":[\"34119\"],\"roots\":{\"34119\":\"11ef60a1-8346-4991-9e9a-635edd681ba2\"}}];\n",
       "    root.Bokeh.embed.embed_items_notebook(docs_json, render_items);\n",
       "  }\n",
       "  if (root.Bokeh !== undefined && root.Bokeh.Panel !== undefined) {\n",
       "    embed_document(root);\n",
       "  } else {\n",
       "    var attempts = 0;\n",
       "    var timer = setInterval(function(root) {\n",
       "      if (root.Bokeh !== undefined && root.Bokeh.Panel !== undefined) {\n",
       "        clearInterval(timer);\n",
       "        embed_document(root);\n",
       "      } else if (document.readyState == \"complete\") {\n",
       "        attempts++;\n",
       "        if (attempts > 100) {\n",
       "          clearInterval(timer);\n",
       "          console.log(\"Bokeh: ERROR: Unable to run BokehJS code because BokehJS library is missing\");\n",
       "        }\n",
       "      }\n",
       "    }, 10, root)\n",
       "  }\n",
       "})(window);</script>"
      ],
      "text/plain": [
       "Row\n",
       "    [0] Column(margin=5, name='DandelionVoting', width=300)\n",
       "        [0] StaticText(value='<b>DandelionVoting</b>')\n",
       "        [1] FloatInput(disabled=True, name='Total tokens', value=1000000.0, value_throttled=1000000.0)\n",
       "        [2] FloatSlider(name='Minimum quorum', step=0.01, value=0.02, value_throttled=0.02)\n",
       "        [3] FloatSlider(end=0.9, name='Support required', start=0.5, step=0.01, value=0.5, value_throttled=0.5)\n",
       "        [4] IntSlider(end=100, name='Days to vote o..., value=35, value_throttled=35)\n",
       "        [5] IntInput(name='Days to exit hatch', value=8, value_throttled=8)\n",
       "        [6] FloatInput(name='Cost to make a proposal', step=1, value=3, value_throttled=3)\n",
       "        [7] FloatSlider(end=1000, name='Maximum number v..., start=20, value=50, value_throttled=50)\n",
       "    [1] ParamMethod(method)"
      ]
     },
     "execution_count": 98,
     "metadata": {
      "application/vnd.holoviews_exec.v0+json": {
       "id": "34119"
      }
     },
     "output_type": "execute_result"
    }
   ],
   "source": [
    "pn.Row(d, d.view)"
   ]
  },
  {
   "cell_type": "code",
   "execution_count": null,
   "id": "dressed-fitting",
   "metadata": {},
   "outputs": [],
   "source": [
    "class CommunityParticipation(param.Parameterized)"
   ]
  },
  {
   "cell_type": "code",
   "execution_count": null,
   "id": "satellite-olive",
   "metadata": {},
   "outputs": [],
   "source": [
    "class DandelionVoting(param.Parameterized):\n",
    "    total_tokens = param.Number(1e6, constant=True)\n",
    "    minimum_quorum = param.Number(0.02, bounds=(0,1), step=0.01)\n",
    "    support_required = param.Number(0.5, bounds=(0.5,0.9), step=0.01)\n",
    "    days_to_vote_on_proposal = param.Integer(3 + 8 + 24, bounds=(0,100))\n",
    "    days_to_exit_hatch = param.Integer(8)\n",
    "#     vote_buffer_blocks = param.Integer(8, bounds=(0,None))\n",
    "#     vote_execution_delay_blocks = param.Integer(24, bounds=(0,None))\n",
    "    cost_to_make_a_proposal = param.Number(3, step=1, doc=\"cost to make a proposal\")\n",
    "    maximum_number_votes_per_year = param.Number(50, bounds=(20, 1000))\n",
    "    \n",
    "    def view(self):\n",
    "        min_support = self.support_required * self.minimum_quorum * self.total_tokens\n",
    "        min_blockers = (1 - self.support_required) * self.minimum_quorum * self.total_tokens\n",
    "        votes = pd.DataFrame.from_dict({'Votes': [min_support, min_blockers]}, orient='index', columns=['Minimum Tokens to Pass', 'Minimum Tokens for Quorum'])\n",
    "        vote_plot = votes.hvplot.bar(stacked=True, ylim=(0,self.total_tokens)).opts(color=hv.Cycle(['#0F2EEE', '#0b0a15', '#DEFB48']))\n",
    "        return pn.Row(vote_plot, pn.Column(\"Minimum Tokens to Meet Quorum: \", int(self.minimum_quorum * self.total_tokens), \"Minimum Tokens to Pass a Vote: \", int(min_support), \"Minimum Tokens to Block a Vote: \", int(min_blockers)))"
   ]
  }
 ],
 "metadata": {
  "kernelspec": {
   "display_name": "Python 3",
   "language": "python",
   "name": "python3"
  },
  "language_info": {
   "codemirror_mode": {
    "name": "ipython",
    "version": 3
   },
   "file_extension": ".py",
   "mimetype": "text/x-python",
   "name": "python",
   "nbconvert_exporter": "python",
   "pygments_lexer": "ipython3",
   "version": "3.8.6"
  }
 },
 "nbformat": 4,
 "nbformat_minor": 5
}
