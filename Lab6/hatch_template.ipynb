{
 "cells": [
  {
   "cell_type": "markdown",
   "id": "corrected-nomination",
   "metadata": {},
   "source": [
    "# Hatch Template!"
   ]
  },
  {
   "cell_type": "markdown",
   "id": "passing-flood",
   "metadata": {},
   "source": [
    "## Dandelion Voting"
   ]
  },
  {
   "cell_type": "markdown",
   "id": "white-twenty",
   "metadata": {},
   "source": [
    "1. Percentage of total tokens that have to vote 'yes' to `something` for it to pass."
   ]
  },
  {
   "cell_type": "code",
   "execution_count": 27,
   "id": "middle-toddler",
   "metadata": {},
   "outputs": [],
   "source": [
    "import param\n",
    "import panel as pn\n",
    "import pandas as pd\n",
    "import hvplot.pandas\n",
    "import holoviews as hv\n",
    "pn.extension()"
   ]
  },
  {
   "cell_type": "code",
   "execution_count": null,
   "id": "center-source",
   "metadata": {},
   "outputs": [],
   "source": [
    "class DandelionVoting(param.Parameterized):\n",
    "    total_tokens = param.Number(1e6, constant=True)\n",
    "    support_required = param.Number(0.5, bounds=(0.5,0.9), step=0.01) # Of those who voted, this percent must be yes to pass\n",
    "    minimum_quorum = param.Number(0.02, bounds=(0,1), step=0.01)\n",
    "    "
   ]
  },
  {
   "cell_type": "code",
   "execution_count": 28,
   "id": "serial-jimmy",
   "metadata": {},
   "outputs": [],
   "source": [
    "class DandelionVoting(param.Parameterized):\n",
    "    total_tokens = param.Number(1e6, constant=True)\n",
    "    minimum_quorum = param.Number(0.02, bounds=(0,1), step=0.01)\n",
    "    support_required = param.Number(0.5, bounds=(0.5,0.9), step=0.01)\n",
    "    days_to_vote_on_proposal = param.Integer(3 + 8 + 24, bounds=(0,100))\n",
    "    days_to_exit_hatch = param.Integer(8)\n",
    "#     vote_buffer_blocks = param.Integer(8, bounds=(0,None))\n",
    "#     vote_execution_delay_blocks = param.Integer(24, bounds=(0,None))\n",
    "    cost_to_make_a_proposal = param.Number(3, step=1, doc=\"cost to make a proposal\")\n",
    "    maximum_number_proposals_per_month = param.Number(10, bounds=(1, 100))\n",
    "    \n",
    "    def view(self):\n",
    "        min_yes_tokens = self.support_required * self.minimum_quorum * self.total_tokens\n",
    "        min_blockers = (1 - self.support_required) * self.minimum_quorum * self.total_tokens\n",
    "        votes = pd.DataFrame.from_dict({'Votes': [min_yes_tokens, min_blockers]}, orient='index', columns=['Minimum Tokens to Pass', 'Minimum Tokens for Quorum'])\n",
    "        vote_plot = votes.hvplot.bar(stacked=True, ylim=(0,self.total_tokens)).opts(color=hv.Cycle(['#0F2EEE', '#0b0a15', '#DEFB48']))\n",
    "        return pn.Row(vote_plot, pn.Column(\"Minimum Tokens to Meet Quorum: \", int(self.minimum_quorum * self.total_tokens), \"Minimum Tokens to Pass a Vote: \", int(min_yes_tokens), \"Minimum Tokens to Block a Vote: \", int(min_blockers)))"
   ]
  },
  {
   "cell_type": "code",
   "execution_count": 29,
   "id": "sized-chick",
   "metadata": {},
   "outputs": [],
   "source": [
    "d = DandelionVoting()"
   ]
  },
  {
   "cell_type": "code",
   "execution_count": 36,
   "id": "light-texas",
   "metadata": {},
   "outputs": [
    {
     "data": {},
     "metadata": {},
     "output_type": "display_data"
    },
    {
     "data": {},
     "metadata": {},
     "output_type": "display_data"
    },
    {
     "data": {
      "application/vnd.holoviews_exec.v0+json": "",
      "text/html": [
       "<div id='20463'>\n",
       "\n",
       "\n",
       "\n",
       "\n",
       "\n",
       "  <div class=\"bk-root\" id=\"5c6e0978-a5b4-45dc-bed9-e3d9fc52c486\" data-root-id=\"20463\"></div>\n",
       "</div>\n",
       "<script type=\"application/javascript\">(function(root) {\n",
       "  function embed_document(root) {\n",
       "    var docs_json = {\"258d19e4-c9fa-447f-88ac-c6d058a0fd01\":{\"roots\":{\"references\":[{\"attributes\":{\"children\":[{\"id\":\"20474\"}],\"margin\":[0,0,0,0],\"name\":\"Row51780\"},\"id\":\"20473\",\"type\":\"Row\"},{\"attributes\":{\"margin\":[5,5,5,5],\"name\":\"Str51882\",\"text\":\"&lt;pre&gt;10000&lt;/pre&gt;\"},\"id\":\"20550\",\"type\":\"panel.models.markup.HTML\"},{\"attributes\":{\"axis\":{\"id\":\"20490\"},\"dimension\":1,\"grid_line_color\":null,\"ticker\":null},\"id\":\"20493\",\"type\":\"Grid\"},{\"attributes\":{\"children\":[{\"id\":\"20547\"},{\"id\":\"20548\"},{\"id\":\"20549\"},{\"id\":\"20550\"},{\"id\":\"20551\"},{\"id\":\"20552\"}],\"margin\":[0,0,0,0],\"name\":\"Column51888\"},\"id\":\"20546\",\"type\":\"Column\"},{\"attributes\":{},\"id\":\"20498\",\"type\":\"ResetTool\"},{\"attributes\":{\"data\":{\"Variable\":[\"Minimum Tokens to Pass\",\"Minimum Tokens for Quorum\"],\"bottom\":{\"__ndarray__\":\"AAAAAAAAAAAAAAAAAIjDQA==\",\"dtype\":\"float64\",\"order\":\"little\",\"shape\":[2]},\"index\":[\"Votes\",\"Votes\"],\"top\":{\"__ndarray__\":\"AAAAAACIw0AAAAAAAIjTQA==\",\"dtype\":\"float64\",\"order\":\"little\",\"shape\":[2]},\"value\":{\"__ndarray__\":\"AAAAAACIw0AAAAAAAIjDQA==\",\"dtype\":\"float64\",\"order\":\"little\",\"shape\":[2]}},\"selected\":{\"id\":\"20509\"},\"selection_policy\":{\"id\":\"20522\"}},\"id\":\"20508\",\"type\":\"ColumnDataSource\"},{\"attributes\":{},\"id\":\"20520\",\"type\":\"CategoricalTickFormatter\"},{\"attributes\":{\"callback\":null,\"renderers\":[{\"id\":\"20514\"}],\"tags\":[\"hv_created\"],\"tooltips\":[[\"index\",\"@{index}\"],[\"Variable\",\"@{Variable}\"],[\"value\",\"@{value}\"]]},\"id\":\"20477\",\"type\":\"HoverTool\"},{\"attributes\":{\"axis\":{\"id\":\"20487\"},\"grid_line_color\":null,\"ticker\":null},\"id\":\"20489\",\"type\":\"Grid\"},{\"attributes\":{\"children\":[{\"id\":\"20478\"},{\"id\":\"20546\"}],\"margin\":[0,0,0,0],\"name\":\"Row51894\"},\"id\":\"20474\",\"type\":\"Row\"},{\"attributes\":{\"label\":{\"field\":\"Variable\"},\"renderers\":[{\"id\":\"20514\"}]},\"id\":\"20525\",\"type\":\"LegendItem\"},{\"attributes\":{},\"id\":\"20495\",\"type\":\"PanTool\"},{\"attributes\":{\"text\":\"\",\"text_color\":{\"value\":\"black\"},\"text_font_size\":{\"value\":\"12pt\"}},\"id\":\"20479\",\"type\":\"Title\"},{\"attributes\":{\"css_classes\":[\"markdown\"],\"margin\":[5,5,5,5],\"name\":\"Markdown51880\",\"text\":\"&lt;p&gt;Minimum Tokens to Pass a Vote: &lt;/p&gt;\"},\"id\":\"20549\",\"type\":\"panel.models.markup.HTML\"},{\"attributes\":{},\"id\":\"20494\",\"type\":\"SaveTool\"},{\"attributes\":{\"css_classes\":[\"markdown\"],\"margin\":[5,5,5,5],\"name\":\"Markdown51884\",\"text\":\"&lt;p&gt;Minimum Tokens to Block a Vote: &lt;/p&gt;\"},\"id\":\"20551\",\"type\":\"panel.models.markup.HTML\"},{\"attributes\":{\"overlay\":{\"id\":\"20499\"}},\"id\":\"20497\",\"type\":\"BoxZoomTool\"},{\"attributes\":{\"end\":100,\"format\":\"0[.]00\",\"margin\":[5,10,5,10],\"start\":1,\"step\":0.1,\"title\":\"Maximum number proposals per month\",\"value\":10,\"value_throttled\":10},\"id\":\"20472\",\"type\":\"Slider\"},{\"attributes\":{\"below\":[{\"id\":\"20487\"}],\"center\":[{\"id\":\"20489\"},{\"id\":\"20493\"},{\"id\":\"20524\"}],\"left\":[{\"id\":\"20490\"}],\"margin\":[5,5,5,5],\"min_border_bottom\":10,\"min_border_left\":10,\"min_border_right\":10,\"min_border_top\":10,\"plot_height\":300,\"plot_width\":700,\"renderers\":[{\"id\":\"20514\"}],\"right\":[{\"id\":\"20524\"}],\"sizing_mode\":\"fixed\",\"title\":{\"id\":\"20479\"},\"toolbar\":{\"id\":\"20500\"},\"x_range\":{\"id\":\"20475\"},\"x_scale\":{\"id\":\"20483\"},\"y_range\":{\"id\":\"20476\"},\"y_scale\":{\"id\":\"20485\"}},\"id\":\"20478\",\"subtype\":\"Figure\",\"type\":\"Plot\"},{\"attributes\":{},\"id\":\"20491\",\"type\":\"BasicTicker\"},{\"attributes\":{\"margin\":[5,5,5,5],\"name\":\"Str51878\",\"text\":\"&lt;pre&gt;20000&lt;/pre&gt;\"},\"id\":\"20548\",\"type\":\"panel.models.markup.HTML\"},{\"attributes\":{\"margin\":[5,10,5,10],\"name\":\"\",\"text\":\"<b>DandelionVoting</b>\"},\"id\":\"20465\",\"type\":\"Div\"},{\"attributes\":{},\"id\":\"20509\",\"type\":\"Selection\"},{\"attributes\":{\"bottom\":{\"field\":\"bottom\"},\"fill_alpha\":{\"value\":0.1},\"fill_color\":{\"field\":\"Variable\",\"transform\":{\"id\":\"20507\"}},\"line_alpha\":{\"value\":0.1},\"top\":{\"field\":\"top\"},\"width\":{\"value\":0.8},\"x\":{\"field\":\"index\"}},\"id\":\"20512\",\"type\":\"VBar\"},{\"attributes\":{\"end\":0.9,\"format\":\"0[.]00\",\"margin\":[5,10,5,10],\"start\":0.5,\"step\":0.01,\"title\":\"Support required\",\"value\":0.5,\"value_throttled\":0.5},\"id\":\"20468\",\"type\":\"Slider\"},{\"attributes\":{\"factors\":[\"Minimum Tokens to Pass\",\"Minimum Tokens for Quorum\"],\"palette\":[\"#0F2EEE\",\"#0b0a15\"]},\"id\":\"20507\",\"type\":\"CategoricalColorMapper\"},{\"attributes\":{},\"id\":\"20522\",\"type\":\"UnionRenderers\"},{\"attributes\":{},\"id\":\"20496\",\"type\":\"WheelZoomTool\"},{\"attributes\":{\"axis_label\":\"\",\"bounds\":\"auto\",\"formatter\":{\"id\":\"20518\"},\"major_label_orientation\":\"horizontal\",\"ticker\":{\"id\":\"20491\"}},\"id\":\"20490\",\"type\":\"LinearAxis\"},{\"attributes\":{},\"id\":\"20485\",\"type\":\"LinearScale\"},{\"attributes\":{\"format\":null,\"margin\":[5,10,5,10],\"placeholder\":\"0\",\"title\":\"Cost to make a proposal\",\"value\":3,\"value_throttled\":3},\"id\":\"20471\",\"type\":\"Spinner\"},{\"attributes\":{\"children\":[{\"id\":\"20465\"},{\"id\":\"20466\"},{\"id\":\"20467\"},{\"id\":\"20468\"},{\"id\":\"20469\"},{\"id\":\"20470\"},{\"id\":\"20471\"},{\"id\":\"20472\"}],\"margin\":[5,5,5,5],\"min_width\":300,\"name\":\"DandelionVoting\",\"width\":300},\"id\":\"20464\",\"type\":\"Column\"},{\"attributes\":{\"bottom_units\":\"screen\",\"fill_alpha\":0.5,\"fill_color\":\"lightgrey\",\"left_units\":\"screen\",\"level\":\"overlay\",\"line_alpha\":1.0,\"line_color\":\"black\",\"line_dash\":[4,4],\"line_width\":2,\"right_units\":\"screen\",\"top_units\":\"screen\"},\"id\":\"20499\",\"type\":\"BoxAnnotation\"},{\"attributes\":{\"items\":[{\"id\":\"20525\"}],\"location\":[0,0]},\"id\":\"20524\",\"type\":\"Legend\"},{\"attributes\":{},\"id\":\"20483\",\"type\":\"CategoricalScale\"},{\"attributes\":{\"css_classes\":[\"markdown\"],\"margin\":[5,5,5,5],\"name\":\"Markdown51876\",\"text\":\"&lt;p&gt;Minimum Tokens to Meet Quorum: &lt;/p&gt;\"},\"id\":\"20547\",\"type\":\"panel.models.markup.HTML\"},{\"attributes\":{\"source\":{\"id\":\"20508\"}},\"id\":\"20515\",\"type\":\"CDSView\"},{\"attributes\":{\"children\":[{\"id\":\"20464\"},{\"id\":\"20473\"}],\"margin\":[0,0,0,0],\"name\":\"Column51896\"},\"id\":\"20463\",\"type\":\"Column\"},{\"attributes\":{\"end\":1000000.0,\"reset_end\":1000000.0,\"reset_start\":0,\"tags\":[[[\"value\",\"value\",null]]]},\"id\":\"20476\",\"type\":\"Range1d\"},{\"attributes\":{\"client_comm_id\":\"11697e09689d4b9683b8f9471c478a6d\",\"comm_id\":\"f1cc536ef18e4cb2aaa6f6493f9aa843\",\"plot_id\":\"20463\"},\"id\":\"20577\",\"type\":\"panel.models.comm_manager.CommManager\"},{\"attributes\":{\"disabled\":true,\"format\":null,\"margin\":[5,10,5,10],\"placeholder\":\"0\",\"step\":0.1,\"title\":\"Total tokens\",\"value\":1000000.0,\"value_throttled\":1000000.0},\"id\":\"20466\",\"type\":\"Spinner\"},{\"attributes\":{\"end\":1,\"format\":\"0[.]00\",\"margin\":[5,10,5,10],\"start\":0,\"step\":0.01,\"title\":\"Minimum quorum\",\"value\":0.02,\"value_throttled\":0.02},\"id\":\"20467\",\"type\":\"Slider\"},{\"attributes\":{\"axis_label\":\"\",\"bounds\":\"auto\",\"formatter\":{\"id\":\"20520\"},\"major_label_orientation\":\"horizontal\",\"ticker\":{\"id\":\"20488\"}},\"id\":\"20487\",\"type\":\"CategoricalAxis\"},{\"attributes\":{\"bottom\":{\"field\":\"bottom\"},\"fill_color\":{\"field\":\"Variable\",\"transform\":{\"id\":\"20507\"}},\"top\":{\"field\":\"top\"},\"width\":{\"value\":0.8},\"x\":{\"field\":\"index\"}},\"id\":\"20511\",\"type\":\"VBar\"},{\"attributes\":{\"end\":100,\"format\":\"0[.]00\",\"margin\":[5,10,5,10],\"start\":0,\"title\":\"Days to vote on proposal\",\"value\":35,\"value_throttled\":35},\"id\":\"20469\",\"type\":\"Slider\"},{\"attributes\":{\"bottom\":{\"field\":\"bottom\"},\"fill_alpha\":{\"value\":0.2},\"fill_color\":{\"field\":\"Variable\",\"transform\":{\"id\":\"20507\"}},\"line_alpha\":{\"value\":0.2},\"top\":{\"field\":\"top\"},\"width\":{\"value\":0.8},\"x\":{\"field\":\"index\"}},\"id\":\"20513\",\"type\":\"VBar\"},{\"attributes\":{\"active_drag\":\"auto\",\"active_inspect\":\"auto\",\"active_multi\":null,\"active_scroll\":\"auto\",\"active_tap\":\"auto\",\"tools\":[{\"id\":\"20477\"},{\"id\":\"20494\"},{\"id\":\"20495\"},{\"id\":\"20496\"},{\"id\":\"20497\"},{\"id\":\"20498\"}]},\"id\":\"20500\",\"type\":\"Toolbar\"},{\"attributes\":{\"data_source\":{\"id\":\"20508\"},\"glyph\":{\"id\":\"20511\"},\"hover_glyph\":null,\"muted_glyph\":{\"id\":\"20513\"},\"nonselection_glyph\":{\"id\":\"20512\"},\"selection_glyph\":null,\"view\":{\"id\":\"20515\"}},\"id\":\"20514\",\"type\":\"GlyphRenderer\"},{\"attributes\":{\"margin\":[5,5,5,5],\"name\":\"Str51886\",\"text\":\"&lt;pre&gt;10000&lt;/pre&gt;\"},\"id\":\"20552\",\"type\":\"panel.models.markup.HTML\"},{\"attributes\":{\"factors\":[\"Votes\"],\"tags\":[[[\"index\",\"index\",null]]]},\"id\":\"20475\",\"type\":\"FactorRange\"},{\"attributes\":{\"format\":null,\"margin\":[5,10,5,10],\"mode\":\"int\",\"placeholder\":\"0\",\"title\":\"Days to exit hatch\",\"value\":8,\"value_throttled\":8},\"id\":\"20470\",\"type\":\"Spinner\"},{\"attributes\":{},\"id\":\"20488\",\"type\":\"CategoricalTicker\"},{\"attributes\":{},\"id\":\"20518\",\"type\":\"BasicTickFormatter\"}],\"root_ids\":[\"20463\",\"20577\"]},\"title\":\"Bokeh Application\",\"version\":\"2.2.3\"}};\n",
       "    var render_items = [{\"docid\":\"258d19e4-c9fa-447f-88ac-c6d058a0fd01\",\"root_ids\":[\"20463\"],\"roots\":{\"20463\":\"5c6e0978-a5b4-45dc-bed9-e3d9fc52c486\"}}];\n",
       "    root.Bokeh.embed.embed_items_notebook(docs_json, render_items);\n",
       "  }\n",
       "  if (root.Bokeh !== undefined && root.Bokeh.Panel !== undefined) {\n",
       "    embed_document(root);\n",
       "  } else {\n",
       "    var attempts = 0;\n",
       "    var timer = setInterval(function(root) {\n",
       "      if (root.Bokeh !== undefined && root.Bokeh.Panel !== undefined) {\n",
       "        clearInterval(timer);\n",
       "        embed_document(root);\n",
       "      } else if (document.readyState == \"complete\") {\n",
       "        attempts++;\n",
       "        if (attempts > 100) {\n",
       "          clearInterval(timer);\n",
       "          console.log(\"Bokeh: ERROR: Unable to run BokehJS code because BokehJS library is missing\");\n",
       "        }\n",
       "      }\n",
       "    }, 10, root)\n",
       "  }\n",
       "})(window);</script>"
      ],
      "text/plain": [
       "Column\n",
       "    [0] Column(margin=5, name='DandelionVoting', width=300)\n",
       "        [0] StaticText(value='<b>DandelionVoting</b>')\n",
       "        [1] FloatInput(disabled=True, name='Total tokens', value=1000000.0, value_throttled=1000000.0)\n",
       "        [2] FloatSlider(name='Minimum quorum', step=0.01, value=0.02, value_throttled=0.02)\n",
       "        [3] FloatSlider(end=0.9, name='Support required', start=0.5, step=0.01, value=0.5, value_throttled=0.5)\n",
       "        [4] IntSlider(end=100, name='Days to vote o..., value=35, value_throttled=35)\n",
       "        [5] IntInput(name='Days to exit hatch', value=8, value_throttled=8)\n",
       "        [6] FloatInput(name='Cost to make a proposal', step=1, value=3, value_throttled=3)\n",
       "        [7] FloatSlider(end=100, name='Maximum number p..., start=1, value=10, value_throttled=10)\n",
       "    [1] ParamMethod(method)"
      ]
     },
     "execution_count": 36,
     "metadata": {
      "application/vnd.holoviews_exec.v0+json": {
       "id": "20463"
      }
     },
     "output_type": "execute_result"
    }
   ],
   "source": [
    "pn.Column(d, d.view)"
   ]
  },
  {
   "cell_type": "code",
   "execution_count": 37,
   "id": "binding-enforcement",
   "metadata": {},
   "outputs": [],
   "source": [
    "class Hatch(param.Parameterized):\n",
    "    # CSTK Ratio\n",
    "    total_cstk_tokens = param.Number(700000, constant=True)\n",
    "    hatch_oracle_ratio = param.Number(0.005, constant=True)\n",
    "    @param.depends('hatch_oracle_ratio', 'total_cstk_tokens')\n",
    "    def wxdai_range(self):\n",
    "        return pn.Row(pn.Pane(\"Cap on wxdai staked: \"), self.hatch_oracle_ratio * self.total_cstk_tokens)\n",
    "    \n",
    "    # Min and Target Goals\n",
    "    min_goal = param.Number(5, bounds=(1,100), step=10)\n",
    "    max_goal = param.Number(1000, bounds=(100,10000), step=50) # Something to consider -> target goal or max goal\n",
    "    \n",
    "    # Hatch params\n",
    "    hatch_period = param.Integer(15, bounds=(5, 30), step=2)\n",
    "    hatch_exchange_rate = param.Number() # This needs to be tested and explained -> See the forum post\n",
    "    hatch_tribute = param.Number(0.05, bounds=(0,1))    "
   ]
  },
  {
   "cell_type": "code",
   "execution_count": 38,
   "id": "apart-doubt",
   "metadata": {},
   "outputs": [
    {
     "data": {},
     "metadata": {},
     "output_type": "display_data"
    },
    {
     "data": {
      "application/vnd.holoviews_exec.v0+json": "",
      "text/html": [
       "<div id='20618'>\n",
       "\n",
       "\n",
       "\n",
       "\n",
       "\n",
       "  <div class=\"bk-root\" id=\"320cb1cf-a133-4c4d-98ec-1281e0ab56a8\" data-root-id=\"20618\"></div>\n",
       "</div>\n",
       "<script type=\"application/javascript\">(function(root) {\n",
       "  function embed_document(root) {\n",
       "    var docs_json = {\"b43d51e0-0e0d-42f6-be75-8dbc4b0b3ee0\":{\"roots\":{\"references\":[{\"attributes\":{\"end\":10000,\"format\":\"0[.]00\",\"margin\":[5,10,5,10],\"start\":100,\"step\":50,\"title\":\"Max goal\",\"value\":1000,\"value_throttled\":1000},\"id\":\"20623\",\"type\":\"Slider\"},{\"attributes\":{\"disabled\":true,\"format\":null,\"margin\":[5,10,5,10],\"placeholder\":\"0\",\"step\":0.1,\"title\":\"Hatch oracle ratio\",\"value\":0.005,\"value_throttled\":0.005},\"id\":\"20621\",\"type\":\"Spinner\"},{\"attributes\":{\"disabled\":true,\"format\":null,\"margin\":[5,10,5,10],\"placeholder\":\"0\",\"step\":0.1,\"title\":\"Total cstk tokens\",\"value\":700000,\"value_throttled\":700000},\"id\":\"20620\",\"type\":\"Spinner\"},{\"attributes\":{\"format\":null,\"margin\":[5,10,5,10],\"placeholder\":\"0\",\"step\":0.1,\"title\":\"Hatch exchange rate\",\"value\":0.0,\"value_throttled\":0.0},\"id\":\"20625\",\"type\":\"Spinner\"},{\"attributes\":{\"client_comm_id\":\"96c2cb1a1fdd4f9fae962ab5e0c28ad1\",\"comm_id\":\"76336f1fa6f746cabece097c906a98b7\",\"plot_id\":\"20618\"},\"id\":\"20627\",\"type\":\"panel.models.comm_manager.CommManager\"},{\"attributes\":{\"margin\":[5,10,5,10],\"name\":\"\",\"text\":\"<b>Hatch</b>\"},\"id\":\"20619\",\"type\":\"Div\"},{\"attributes\":{\"end\":1,\"format\":\"0[.]00\",\"margin\":[5,10,5,10],\"start\":0,\"step\":0.1,\"title\":\"Hatch tribute\",\"value\":0.05,\"value_throttled\":0.05},\"id\":\"20626\",\"type\":\"Slider\"},{\"attributes\":{\"end\":100,\"format\":\"0[.]00\",\"margin\":[5,10,5,10],\"start\":1,\"step\":10,\"title\":\"Min goal\",\"value\":5,\"value_throttled\":5},\"id\":\"20622\",\"type\":\"Slider\"},{\"attributes\":{\"children\":[{\"id\":\"20619\"},{\"id\":\"20620\"},{\"id\":\"20621\"},{\"id\":\"20622\"},{\"id\":\"20623\"},{\"id\":\"20624\"},{\"id\":\"20625\"},{\"id\":\"20626\"}],\"margin\":[5,5,5,5],\"min_width\":300,\"name\":\"Hatch\",\"width\":300},\"id\":\"20618\",\"type\":\"Column\"},{\"attributes\":{\"end\":30,\"format\":\"0[.]00\",\"margin\":[5,10,5,10],\"start\":5,\"step\":2,\"title\":\"Hatch period\",\"value\":15,\"value_throttled\":15},\"id\":\"20624\",\"type\":\"Slider\"}],\"root_ids\":[\"20618\",\"20627\"]},\"title\":\"Bokeh Application\",\"version\":\"2.2.3\"}};\n",
       "    var render_items = [{\"docid\":\"b43d51e0-0e0d-42f6-be75-8dbc4b0b3ee0\",\"root_ids\":[\"20618\"],\"roots\":{\"20618\":\"320cb1cf-a133-4c4d-98ec-1281e0ab56a8\"}}];\n",
       "    root.Bokeh.embed.embed_items_notebook(docs_json, render_items);\n",
       "  }\n",
       "  if (root.Bokeh !== undefined && root.Bokeh.Panel !== undefined) {\n",
       "    embed_document(root);\n",
       "  } else {\n",
       "    var attempts = 0;\n",
       "    var timer = setInterval(function(root) {\n",
       "      if (root.Bokeh !== undefined && root.Bokeh.Panel !== undefined) {\n",
       "        clearInterval(timer);\n",
       "        embed_document(root);\n",
       "      } else if (document.readyState == \"complete\") {\n",
       "        attempts++;\n",
       "        if (attempts > 100) {\n",
       "          clearInterval(timer);\n",
       "          console.log(\"Bokeh: ERROR: Unable to run BokehJS code because BokehJS library is missing\");\n",
       "        }\n",
       "      }\n",
       "    }, 10, root)\n",
       "  }\n",
       "})(window);</script>"
      ],
      "text/plain": [
       "Param(Hatch)"
      ]
     },
     "execution_count": 38,
     "metadata": {
      "application/vnd.holoviews_exec.v0+json": {
       "id": "20618"
      }
     },
     "output_type": "execute_result"
    }
   ],
   "source": [
    "h = Hatch()\n",
    "\n",
    "pn.Pane(h)"
   ]
  },
  {
   "cell_type": "code",
   "execution_count": 42,
   "id": "sitting-eleven",
   "metadata": {},
   "outputs": [
    {
     "data": {},
     "metadata": {},
     "output_type": "display_data"
    },
    {
     "data": {},
     "metadata": {},
     "output_type": "display_data"
    },
    {
     "data": {
      "application/vnd.holoviews_exec.v0+json": "",
      "text/html": [
       "<div id='20628'>\n",
       "\n",
       "\n",
       "\n",
       "\n",
       "\n",
       "  <div class=\"bk-root\" id=\"5357f3a0-3713-4456-8459-173e88eb6f3f\" data-root-id=\"20628\"></div>\n",
       "</div>\n",
       "<script type=\"application/javascript\">(function(root) {\n",
       "  function embed_document(root) {\n",
       "    var docs_json = {\"665dfe27-ddb2-484f-9c4b-c2b6d421a843\":{\"roots\":{\"references\":[{\"attributes\":{},\"id\":\"20636\",\"type\":\"StringFormatter\"},{\"attributes\":{},\"id\":\"20683\",\"type\":\"Selection\"},{\"attributes\":{},\"id\":\"20656\",\"type\":\"StringFormatter\"},{\"attributes\":{},\"id\":\"20642\",\"type\":\"StringEditor\"},{\"attributes\":{},\"id\":\"20697\",\"type\":\"UnionRenderers\"},{\"attributes\":{},\"id\":\"20630\",\"type\":\"Selection\"},{\"attributes\":{\"data\":{\"Actual_over_Predicted\":[\"Actual\",\"Actual\",\"Actual\",\"Actual\",\"Actual\",\"Actual\",\"Actual\",\"Predicted\",\"Predicted\",\"Predicted\",\"Predicted\",\"Predicted\",\"Predicted\",\"Predicted\",\"Actual\",\"Actual\",\"Actual\",\"Actual\",\"Actual\",\"Actual\",\"Actual\",\"Predicted\",\"Predicted\",\"Predicted\",\"Predicted\",\"Predicted\",\"Predicted\",\"Predicted\"],\"Change_in_Impact_hours_from_previous_round\":{\"__ndarray__\":\"AiuHFtl+WUAzMzMzM3tcQJqZmZmZmZm/cT0K16NoYEBWDi2ynUdbQLe075GaOiLAy0dS0kNubcAwO9VrhBZzQCiNA3WroVJAKI0DdauhUkAojQN1q6FSQCiNA3WroVJAKI0DdauhUkAojQN1q6FSQAIrhxbZfllAMzMzMzN7XECamZmZmZmZv3E9CtejaGBAVg4tsp1HW0C3tO+RmjoiwMtHUtJDbm3AMA4uHTPcbEAAAAAAAAAAAAAAAAAAAAAAAAAAAAAAAAAAAAAAAAAAAAAAAAAAAAAAAAAAAAAAAAA=\",\"dtype\":\"float64\",\"order\":\"little\",\"shape\":[28]},\"End_Date\":{\"__ndarray__\":\"AAAAhKpQd0IAAIAULFV3QgAAAKWtWXdCAACANS9ed0IAAADGsGJ3QgAAgFYyZ3dCAAAA57Nrd0IAAIB3NXB3QgAAAAi3dHdCAACAmDh5d0IAAAApun13QgAAgLk7gndCAAAASr2Gd0IAAIDaPot3QgAAAISqUHdCAACAFCxVd0IAAAClrVl3QgAAgDUvXndCAAAAxrBid0IAAIBWMmd3QgAAAOeza3dCAACAdzVwd0IAAAAIt3R3QgAAgJg4eXdCAAAAKbp9d0IAAIC5O4J3QgAAAEq9hndCAACA2j6Ld0I=\",\"dtype\":\"float64\",\"order\":\"little\",\"shape\":[28]},\"Min_Goal_commercial_at_10_IH_over_hr_ampersand_15_percent_Tribute\":{\"__ndarray__\":\"ZmZmZiZX5EBmZmZmxjztQMAJhYgYEfNAMzMzM8Om+UCoNc27iwEBQeXyH9K4HAVBTfOO02JNB0Fjf9m9UPoLQaJFtvNAoRBBW0I+KPuSE0HdtYT8VtIWQSegiXBUXxpBOwFNhPM5HkGLbOcbGjEhQWZmZmYmV+RAZmZmZsY87UDACYWIGBHzQDMzMzPDpvlAqDXNu4sBAUHl8h/SuBwFQU3zjtNiTQdB0ZFcfg1fC0GPwvUouHAPQad5x2kxwRFB6UguvwbKE0FI4XoU3NIVQad5x2mx2xdB6Uguv4bkGUE=\",\"dtype\":\"float64\",\"order\":\"little\",\"shape\":[28]},\"Min_Goal_commercial_at_10_IH_over_hr_ampersand_20_percent_Tribute\":{\"__ndarray__\":\"mpmZmbmC3kDNzMzMlO3lQM3MzMykmexAZmZmZhI980CamZmZUYL5QB1aZDsVq/9A7FG4Hgp6AUEZBFaOvPsEQXNokW3h8QhB+n5qvHhcDUHXo3A9wR0RQWWqYFR/xxNB7MA5o3arFkGKsOEpp8kZQZqZmZm5gt5AzczMzJTt5UDNzMzMpJnsQGZmZmYSPfNAmpmZmVGC+UAdWmQ7Fav/QOxRuB4KegFB7FG4HkqHBEHsUbgeipQHQexRuB7KoQpB7FG4HgqvDUH2KFwPJV4QQfYoXA/F5BFB9ihcD2VrE0E=\",\"dtype\":\"float64\",\"order\":\"little\",\"shape\":[28]},\"Min_Goal_commercial_at_15_DAI_over_IH_ampersand_15_percent_Tribute\":{\"__ndarray__\":\"mpmZmbmC7kDNzMzMlO31QM3MzMykmfxAZmZmZhI9A0GamZmZUYIJQVfsLzsVqw9B7FG4Hgp6EUEZBFaOvPsUQXNokW3h8RhBF0hQvHhcHUFmiGM9wR0hQdbFbVR/xyNB7MA5o3arJkEYldQpp8kpQZqZmZm5gu5AzczMzJTt9UDNzMzMpJn8QGZmZmYSPQNBmpmZmVGCCUFX7C87FasPQexRuB4KehFB7FG4HkqHFEHsUbgeipQXQexRuB7KoRpB7FG4HgqvHUH2KFwPJV4gQfYoXA/F5CFB9ihcD2VrI0E=\",\"dtype\":\"float64\",\"order\":\"little\",\"shape\":[28]},\"Round\":[2,3,4,5,6,7,8,9,10,11,12,13,14,15,2,3,4,5,6,7,8,9,10,11,12,13,14,15],\"Total_Hours\":{\"__ndarray__\":\"FK5H4XrsY0DXo3A9ChVxQHE9CtejFHFAKVyPwvVIeUDfT42Xbg2AQGgMi1oIiX9A1XdgcebRcEAMGp9uNfSBQBg0Pt1qSIRAJE7dS6CchkAwaHy61fCIQDbuKCkLRYtAQgjIl0CZjUBpcjEGdu2PQBSuR+F67GNA16NwPQoVcUBxPQrXoxRxQClcj8L1SHlA30+Nl24NgEBoDItaCIl/QNV3YHHm0XBAAAAAAABAf0AAAAAAAEB/QAAAAAAAQH9AAAAAAABAf0AAAAAAAEB/QAAAAAAAQH9AAAAAAABAf0A=\",\"dtype\":\"float64\",\"order\":\"little\",\"shape\":[28]},\"Total_IH\":{\"__ndarray__\":\"vp8aL92Gg0Cq8dJNYhGMQDEIrBzaTZJAO99PjRegmECWQ4tsZ1OgQDjAzHeIRKRATKYKRsVepkDOx7Wh0tuqQNAKDFnt7a9As/D1tYrKskC1M0xtpei1QHkHeNJGUblABaVo5W4EvUCpaRfTDoHAQL6fGi/dhoNAqvHSTWIRjEAxCKwc2k2SQDvfT40XoJhAlkOLbGdToEA4wMx3iESkQEymCkbFXqZATKYKRsVGqkBMpgpGxS6uQCZTBaNiC7FAJlMFo2L/skAmUwWjYvO0QCZTBaNi57ZAJlMFo2LbuEA=\",\"dtype\":\"float64\",\"order\":\"little\",\"shape\":[28]}},\"selected\":{\"id\":\"20630\"},\"selection_policy\":{\"id\":\"20679\"}},\"id\":\"20629\",\"type\":\"ColumnDataSource\"},{\"attributes\":{},\"id\":\"20631\",\"type\":\"StringFormatter\"},{\"attributes\":{},\"id\":\"20662\",\"type\":\"StringEditor\"},{\"attributes\":{},\"id\":\"20684\",\"type\":\"StringFormatter\"},{\"attributes\":{\"editor\":{\"id\":\"20657\"},\"field\":\"Min_Goal_commercial_at_15_DAI_over_IH_ampersand_15_percent_Tribute\",\"formatter\":{\"id\":\"20656\"},\"title\":\"Min Goal @ 15 DAI/IH & 15% Tribute\"},\"id\":\"20658\",\"type\":\"TableColumn\"},{\"attributes\":{},\"id\":\"20667\",\"type\":\"StringEditor\"},{\"attributes\":{},\"id\":\"20690\",\"type\":\"NumberEditor\"},{\"attributes\":{},\"id\":\"20661\",\"type\":\"StringFormatter\"},{\"attributes\":{\"source\":{\"id\":\"20629\"}},\"id\":\"20677\",\"type\":\"CDSView\"},{\"attributes\":{\"columns\":[{\"id\":\"20686\"},{\"id\":\"20691\"}],\"height\":300,\"reorderable\":false,\"source\":{\"id\":\"20682\"},\"view\":{\"id\":\"20695\"},\"width\":700},\"id\":\"20694\",\"type\":\"DataTable\"},{\"attributes\":{},\"id\":\"20672\",\"type\":\"StringEditor\"},{\"attributes\":{\"editor\":{\"id\":\"20662\"},\"field\":\"Min_Goal_commercial_at_10_IH_over_hr_ampersand_15_percent_Tribute\",\"formatter\":{\"id\":\"20661\"},\"title\":\"Min Goal @ 10 IH/hr & 15% Tribute\"},\"id\":\"20663\",\"type\":\"TableColumn\"},{\"attributes\":{\"editor\":{\"id\":\"20690\"},\"field\":\"Impact_Hours\",\"formatter\":{\"id\":\"20689\"},\"title\":\"Impact Hours\"},\"id\":\"20691\",\"type\":\"TableColumn\"},{\"attributes\":{},\"id\":\"20666\",\"type\":\"StringFormatter\"},{\"attributes\":{\"client_comm_id\":\"089911d7056a4ae2a17abcedd3f48a2c\",\"comm_id\":\"72c7857b5d81454593f68f1c52012e08\",\"plot_id\":\"20628\"},\"id\":\"20712\",\"type\":\"panel.models.comm_manager.CommManager\"},{\"attributes\":{},\"id\":\"20671\",\"type\":\"StringFormatter\"},{\"attributes\":{},\"id\":\"20685\",\"type\":\"StringEditor\"},{\"attributes\":{\"editor\":{\"id\":\"20667\"},\"field\":\"Min_Goal_commercial_at_10_IH_over_hr_ampersand_20_percent_Tribute\",\"formatter\":{\"id\":\"20666\"},\"title\":\"Min Goal @ 10 IH/hr & 20% Tribute\"},\"id\":\"20668\",\"type\":\"TableColumn\"},{\"attributes\":{\"source\":{\"id\":\"20682\"}},\"id\":\"20695\",\"type\":\"CDSView\"},{\"attributes\":{\"editor\":{\"id\":\"20672\"},\"field\":\"Change_in_Impact_hours_from_previous_round\",\"formatter\":{\"id\":\"20671\"},\"title\":\"Change in Impact hours from previous round\"},\"id\":\"20673\",\"type\":\"TableColumn\"},{\"attributes\":{},\"id\":\"20652\",\"type\":\"StringEditor\"},{\"attributes\":{},\"id\":\"20632\",\"type\":\"StringEditor\"},{\"attributes\":{\"columns\":[{\"id\":\"20633\"},{\"id\":\"20638\"},{\"id\":\"20643\"},{\"id\":\"20648\"},{\"id\":\"20653\"},{\"id\":\"20658\"},{\"id\":\"20663\"},{\"id\":\"20668\"},{\"id\":\"20673\"}],\"height\":300,\"reorderable\":false,\"source\":{\"id\":\"20629\"},\"view\":{\"id\":\"20677\"},\"width\":700},\"id\":\"20676\",\"type\":\"DataTable\"},{\"attributes\":{\"children\":[{\"id\":\"20676\"},{\"id\":\"20694\"}],\"margin\":[0,0,0,0],\"name\":\"Row52244\"},\"id\":\"20628\",\"type\":\"Row\"},{\"attributes\":{},\"id\":\"20651\",\"type\":\"StringFormatter\"},{\"attributes\":{\"editor\":{\"id\":\"20685\"},\"field\":\"Telegram_Handle\",\"formatter\":{\"id\":\"20684\"},\"title\":\"Telegram Handle\"},\"id\":\"20686\",\"type\":\"TableColumn\"},{\"attributes\":{},\"id\":\"20647\",\"type\":\"DateEditor\"},{\"attributes\":{\"format\":\"0,0.0[00000]\"},\"id\":\"20689\",\"type\":\"NumberFormatter\"},{\"attributes\":{\"format\":\"%Y-%m-%d %H:%M:%S\"},\"id\":\"20646\",\"type\":\"DateFormatter\"},{\"attributes\":{\"data\":{\"Impact_Hours\":{\"__ndarray__\":\"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\",\"dtype\":\"float64\",\"order\":\"little\",\"shape\":[199]},\"Telegram_Handle\":[\"sembrestels\",\"santigs67\",\"zeptimusq\",\"cranders71\",\"akrtws\",\"ygganderson\",\"solsista\",\"jessicazartler\",\"tonga2020\",\"juankbell\",\"mateodaza\",\"manualzuru\",\"durgadasji\",\"jeffemmett\",\"lkngtn\",\"randomshinichi\",\"vegayp\",\"freedumbs00\",\"liviade\",\"vntrp\",\"griffgreen\",\"paulo_c2d\",\"mzargham\",\"daithic\",\"hbesso31\",\"blairv\",\"loie_giveth\",\"quartagiulio\",\"sponnet2\",\"fabianvb\",\"fiorebotta\",\"rodrigouy\",\"xgabi\",\"danlessa\",\"fvigevani\",\"sgonzt\",\"abchewey\",\"tannra\",\"willjgriff\",\"aminlatifi\",\"burrrata\",\"markop\",\"gracerachmany\",\"jonathanbsci\",\"niranb\",\"benjaminscholtz\",\"tam2140\",\"rosamoc\",\"rubenrussel7\",\"elihanover\",\"dulcedu\",\"tylerdmace\",\"naynaysoo\",\"jonassft\",\"vitormarthendal\",\"fabimol\",\"d8n13l\",\"anjablaj\",\"marinam00\",\"danibelle\",\"simunstrukan\",\"knobsdao\",\"krrisis\",\"vivszaid\",\"auryn_macmillan\",\"felixfalafel\",\"geleeroyale\",\"lbagic\",\"katalenacaban\",\"aaron_soskin\",\"merlinegalite\",\"trentmc0\",\"freddbomba\",\"iviangita\",\"jakublanc\",\"owocki\",\"phil_h\",\"fabiosmendes\",\"stephen_yo\",\"atacas\",\"gfriis\",\"aidanbrodieo\",\"jameszaki\",\"crypt0dawg\",\"krisjones\",\"simondlr\",\"krisparuch\",\"rpp63\",\"willruddick\",\"bierlingm\",\"coachb\",\"wslyvh\",\"glefevre\",\"anthonyoliai\",\"juliet_myea\",\"castall\",\"sbilbao\",\"monstros1ty\",\"thelastjosh\",\"ivanthinking\",\"cpt_grog\",\"tech_digger\",\"staccop2p\",\"gcrewe\",\"alexholman\",\"wertuals\",\"sepu85\",\"yalormewn\",\"metaverde\",\"laurenluz\",\"flakoubay\",\"orishim\",\"xlcrr\",\"chriscyber\",\"papa_raw\",\"barnabemonnot\",\"matslats\",\"proofoftom\",\"shrutiappiah1\",\"jamessimbouras\",\"existenialstoic\",\"luukweber\",\"smokyish\",\"lalogarza\",\"officialnico\",\"petheth\",\"witwiki3\",\"renzod5\",\"upaul\",\"macerer\",\"victorid\",\"vasileios_panagiotidis\",\"katebee\",\"revxzx\",\"brutalfluffy\",\"viken33\",\"paxthemax\",\"davidhq\",\"lescanor\",\"jakubgregus\",\"nikoline_nik\",\"positonic\",\"lescanore\",\"santosthegreat\",\"blockchainberlin\",\"unquale\",\"monsterplayaus\",\"cryptononymouseconomist\",\"jwaup\",\"tokenbrice\",\"misterboyfriend\",\"supernova_labs\",\"fenjamin\",\"benjaminaaron\",\"bradym\",\"dazuck\",\"eduadiez\",\"erikbjare\",\"ferdinandrg\",\"jimbobbins\",\"jasselnorm\",\"jamiepitts\",\"nukemandan\",\"wildpau\",\"pacobacpac\",\"ubipromoter\",\"wipabramson\",\"hanna_nevermind\",\"freedumbs\",\"josevicente1\",\"lanski13\",\"meta_dreamer\",\"quentin_hb\",\"wunluv\",\"edapt\",\"adriamb\",\"codersinblack\",\"edendh\",\"econaut6\",\"scupytrooples\",\"paulsalis\",\"nelsonm\",\"morgangr\",\"ethicraul\",\"gijsspoor\",\"hubway\",\"marveloushelper\",\"hxrts\",\"denissrgn\",\"robinwhitney\",\"pimpmypeon\",\"cryptonian_z\",\"tjayrush\",\"asalemalawi\",\"wolfofcurrency\",\"llll79\",\"burningfiat\",\"immortaz\",\"exiledsurfer\"]},\"selected\":{\"id\":\"20683\"},\"selection_policy\":{\"id\":\"20697\"}},\"id\":\"20682\",\"type\":\"ColumnDataSource\"},{\"attributes\":{},\"id\":\"20679\",\"type\":\"UnionRenderers\"},{\"attributes\":{},\"id\":\"20657\",\"type\":\"StringEditor\"},{\"attributes\":{},\"id\":\"20641\",\"type\":\"StringFormatter\"},{\"attributes\":{\"editor\":{\"id\":\"20637\"},\"field\":\"Total_Hours\",\"formatter\":{\"id\":\"20636\"},\"title\":\"Total Hours\"},\"id\":\"20638\",\"type\":\"TableColumn\"},{\"attributes\":{\"editor\":{\"id\":\"20652\"},\"field\":\"Total_IH\",\"formatter\":{\"id\":\"20651\"},\"title\":\"Total IH\"},\"id\":\"20653\",\"type\":\"TableColumn\"},{\"attributes\":{\"editor\":{\"id\":\"20642\"},\"field\":\"Actual_over_Predicted\",\"formatter\":{\"id\":\"20641\"},\"title\":\"Actual / Predicted\"},\"id\":\"20643\",\"type\":\"TableColumn\"},{\"attributes\":{\"editor\":{\"id\":\"20632\"},\"field\":\"Round\",\"formatter\":{\"id\":\"20631\"},\"title\":\"Round\"},\"id\":\"20633\",\"type\":\"TableColumn\"},{\"attributes\":{\"editor\":{\"id\":\"20647\"},\"field\":\"End_Date\",\"formatter\":{\"id\":\"20646\"},\"title\":\"End Date\"},\"id\":\"20648\",\"type\":\"TableColumn\"},{\"attributes\":{},\"id\":\"20637\",\"type\":\"StringEditor\"}],\"root_ids\":[\"20628\",\"20712\"]},\"title\":\"Bokeh Application\",\"version\":\"2.2.3\"}};\n",
       "    var render_items = [{\"docid\":\"665dfe27-ddb2-484f-9c4b-c2b6d421a843\",\"root_ids\":[\"20628\"],\"roots\":{\"20628\":\"5357f3a0-3713-4456-8459-173e88eb6f3f\"}}];\n",
       "    root.Bokeh.embed.embed_items_notebook(docs_json, render_items);\n",
       "  }\n",
       "  if (root.Bokeh !== undefined && root.Bokeh.Panel !== undefined) {\n",
       "    embed_document(root);\n",
       "  } else {\n",
       "    var attempts = 0;\n",
       "    var timer = setInterval(function(root) {\n",
       "      if (root.Bokeh !== undefined && root.Bokeh.Panel !== undefined) {\n",
       "        clearInterval(timer);\n",
       "        embed_document(root);\n",
       "      } else if (document.readyState == \"complete\") {\n",
       "        attempts++;\n",
       "        if (attempts > 100) {\n",
       "          clearInterval(timer);\n",
       "          console.log(\"Bokeh: ERROR: Unable to run BokehJS code because BokehJS library is missing\");\n",
       "        }\n",
       "      }\n",
       "    }, 10, root)\n",
       "  }\n",
       "})(window);</script>"
      ],
      "text/plain": [
       "Row\n",
       "    [0] HoloViews(Table)\n",
       "    [1] HoloViews(Table)"
      ]
     },
     "execution_count": 42,
     "metadata": {
      "application/vnd.holoviews_exec.v0+json": {
       "id": "20628"
      }
     },
     "output_type": "execute_result"
    }
   ],
   "source": [
    "import pandas as pd\n",
    "import panel as pn\n",
    "import os\n",
    "import hvplot.pandas\n",
    "APP_PATH = './'\n",
    "\n",
    "sheets = [\n",
    "    \"Total Impact Hours so far\", \n",
    "    \"IH Predictions\", \n",
    "    \"#8 Jan 1\",\n",
    "    \"#7 Dec 18\",\n",
    "    \"#6 Dec 4\",\n",
    "    \"#5 Nov 20\",\n",
    "    \"#4 Nov 6\",\n",
    "    \"#3 Oct 23\",\n",
    "    \"#2 Oct 9\",\n",
    "    \"#1 Sept 24\",\n",
    "    \"#0 Sept 7 (historic)\",\n",
    "] + [f\"#{i} IH Results\" for i in range(9)]\n",
    "sheets = {i:sheet for i, sheet in enumerate(sheets)}\n",
    "\n",
    "def read_excel(sheet_name=\"Total Impact Hours so far\", header=1, index_col=0, usecols=None) -> pd.DataFrame:\n",
    "    data = pd.read_excel(\n",
    "        os.path.join(APP_PATH, \"data\", \"TEC Praise Quantification.xlsx\"),\n",
    "        sheet_name=sheet_name,\n",
    "        engine='openpyxl',\n",
    "        header=header,\n",
    "        index_col=index_col,\n",
    "        usecols=usecols\n",
    "    ).reset_index().dropna(how='any')\n",
    "    return data\n",
    "\n",
    "## Tests\n",
    "total_impact_hours = read_excel()\n",
    "impact_hour_data = read_excel(sheet_name=\"IH Predictions\", header=0, index_col=0, usecols='A:I').drop(index=19)\n",
    "pn.Row(impact_hour_data.hvplot.table(), total_impact_hours.hvplot.table())"
   ]
  },
  {
   "cell_type": "code",
   "execution_count": 43,
   "id": "broke-ranking",
   "metadata": {},
   "outputs": [],
   "source": [
    "import numpy as np\n",
    "\n",
    "\n",
    "class ImpactHours(param.Parameterized):\n",
    "    max_ih_rate = param.Number(0.01, bounds=(0,200))\n",
    "    expected_raise_per_ih = param.Number(0.012, bounds=(0,20))\n",
    "\n",
    "    @param.depends('max_ih_rate', 'expected_raise_per_ih')\n",
    "    def impact_hours_rewards(self):\n",
    "        x = np.linspace(h.min_goal, h.max_goal)\n",
    "\n",
    "        R = self.max_ih_rate\n",
    "\n",
    "        m = self.expected_raise_per_ih\n",
    "        \n",
    "        H = total_impact_hours['Impact Hours'].sum()\n",
    "\n",
    "        y = [R* (x / (x + m*H)) for x in x]\n",
    "\n",
    "        df = pd.DataFrame([x,y]).T\n",
    "        df.columns = ['x','y']\n",
    "\n",
    "        return df.hvplot(x='x')"
   ]
  },
  {
   "cell_type": "code",
   "execution_count": 44,
   "id": "sonic-turner",
   "metadata": {},
   "outputs": [
    {
     "data": {},
     "metadata": {},
     "output_type": "display_data"
    },
    {
     "data": {},
     "metadata": {},
     "output_type": "display_data"
    },
    {
     "data": {
      "application/vnd.holoviews_exec.v0+json": "",
      "text/html": [
       "<div id='20733'>\n",
       "\n",
       "\n",
       "\n",
       "\n",
       "\n",
       "  <div class=\"bk-root\" id=\"a6561684-08ad-407b-9516-9929bb3625b6\" data-root-id=\"20733\"></div>\n",
       "</div>\n",
       "<script type=\"application/javascript\">(function(root) {\n",
       "  function embed_document(root) {\n",
       "    var docs_json = {\"f12224f5-2fe8-47b9-a01a-12bee78c3f88\":{\"roots\":{\"references\":[{\"attributes\":{},\"id\":\"20752\",\"type\":\"BasicTicker\"},{\"attributes\":{},\"id\":\"20749\",\"type\":\"LinearScale\"},{\"attributes\":{\"children\":[{\"id\":\"20734\"},{\"id\":\"20738\"}],\"margin\":[0,0,0,0],\"name\":\"Row52413\"},\"id\":\"20733\",\"type\":\"Row\"},{\"attributes\":{},\"id\":\"20761\",\"type\":\"WheelZoomTool\"},{\"attributes\":{},\"id\":\"20760\",\"type\":\"PanTool\"},{\"attributes\":{\"client_comm_id\":\"790213b5d5974ec6b5c2e35e9c95880b\",\"comm_id\":\"6b7ad6c8a3c24dc9af53d5dae443ec6a\",\"plot_id\":\"20733\"},\"id\":\"20824\",\"type\":\"panel.models.comm_manager.CommManager\"},{\"attributes\":{\"data\":{\"x\":{\"__ndarray__\":\"AAAAAAAAFEBU8HIKXk45QFTwcgpezkZAPzTWh8Z6UEBU8HIKXo5VQGmsD431oVpAfmisD421X0BKkiRJkmRiQFTwcgpe7mRAXk7Byyl4Z0BprA+N9QFqQHQKXk7Bi2xAfmisD40Vb0BEY31orM9wQEqSJEmSFHJAT8HLKXhZc0BU8HIKXp50QFkfGutD43VAXk7Byykod0BkfWisD214QGmsD431sXlAbtu2bdv2ekB0Cl5OwTt8QHk5BS+ngH1AfmisD43FfkDCyyl4OQWAQERjfWisp4BAx/rQWB9KgUBKkiRJkuyBQMwpeDkFj4JAT8HLKXgxg0DRWB8a69ODQFTwcgpedoRA14fG+tAYhUBZHxrrQ7uFQNy2bdu2XYZAXk7ByykAh0Dh5RS8nKKHQGR9aKwPRYhA5hS8nILniEBprA+N9YmJQOxDY31oLIpAbtu2bdvOikDxcgpeTnGLQHQKXk7BE4xA9qGxPjS2jEB5OQUvp1iNQPvQWB8a+41AfmisD42djkAAAAAAAECPQA==\",\"dtype\":\"float64\",\"order\":\"little\",\"shape\":[50]},\"y\":{\"__ndarray__\":\"k63MNvKfVD8ChShDs0RxPx5q4VbSQXc/SaihpkDUej9crbRWnzN9P4lyCGJc5H4/aLMuiSgUgD8Hxxvj9pGAP/vxwYN/9oA/PV2z+K1IgT85G+geHY2BP5Lk/d37xoE/6ItHjY/4gT/3SywJgiOCP/gT2msSSYI/EwVsiDRqgj8/XRrhpYeCP1wI5vr7oYI/kluKYq65gj91vQ3THc+CPzaTE2iZ4oI/brt5dGL0gj+3NttirwSDP8re/+StE4M/FVb6oYQhgz96K4mEVC6DP8wItME5OoM/k0T+qExFgz+9FuZKok+DP8FtHv9MWYM/4w2V0Vxigz+AWZ/b32qDP8xFZY3icoM/vkOy6m96gz/4KqC9kYGDP5E/CMFQiIM/SrM+xLSOgz8iQU3JxJSDP0K3ox6HmoM/wQwFdQGggz+zwVHyOKWDPzNYskEyqoM/j+aMofGugz9FuJ3verODP3yje7PRt4M/cFjEJ/m7gz/o4SJC9L+DP45ZWrrFw4M/aRh4EHDHgz/PIUuS9cqDPw==\",\"dtype\":\"float64\",\"order\":\"little\",\"shape\":[50]}},\"selected\":{\"id\":\"20773\"},\"selection_policy\":{\"id\":\"20790\"}},\"id\":\"20772\",\"type\":\"ColumnDataSource\"},{\"attributes\":{\"callback\":null,\"renderers\":[{\"id\":\"20778\"}],\"tags\":[\"hv_created\"],\"tooltips\":[[\"x\",\"@{x}\"],[\"y\",\"@{y}\"]]},\"id\":\"20741\",\"type\":\"HoverTool\"},{\"attributes\":{},\"id\":\"20780\",\"type\":\"BasicTickFormatter\"},{\"attributes\":{\"source\":{\"id\":\"20772\"}},\"id\":\"20779\",\"type\":\"CDSView\"},{\"attributes\":{\"end\":20,\"format\":\"0[.]00\",\"margin\":[5,10,5,10],\"start\":0,\"step\":0.1,\"title\":\"Expected raise per ih\",\"value\":0.012,\"value_throttled\":0.012},\"id\":\"20737\",\"type\":\"Slider\"},{\"attributes\":{\"line_alpha\":0.2,\"line_color\":\"#1f77b3\",\"line_width\":2,\"x\":{\"field\":\"x\"},\"y\":{\"field\":\"y\"}},\"id\":\"20777\",\"type\":\"Line\"},{\"attributes\":{\"children\":[{\"id\":\"20742\"}],\"margin\":[0,0,0,0],\"name\":\"Row52332\"},\"id\":\"20738\",\"type\":\"Row\"},{\"attributes\":{\"active_drag\":\"auto\",\"active_inspect\":\"auto\",\"active_multi\":null,\"active_scroll\":\"auto\",\"active_tap\":\"auto\",\"tools\":[{\"id\":\"20741\"},{\"id\":\"20759\"},{\"id\":\"20760\"},{\"id\":\"20761\"},{\"id\":\"20762\"},{\"id\":\"20763\"}]},\"id\":\"20765\",\"type\":\"Toolbar\"},{\"attributes\":{\"end\":200,\"format\":\"0[.]00\",\"margin\":[5,10,5,10],\"start\":0,\"step\":0.1,\"title\":\"Max ih rate\",\"value\":0.01,\"value_throttled\":0.01},\"id\":\"20736\",\"type\":\"Slider\"},{\"attributes\":{\"bottom_units\":\"screen\",\"fill_alpha\":0.5,\"fill_color\":\"lightgrey\",\"left_units\":\"screen\",\"level\":\"overlay\",\"line_alpha\":1.0,\"line_color\":\"black\",\"line_dash\":[4,4],\"line_width\":2,\"right_units\":\"screen\",\"top_units\":\"screen\"},\"id\":\"20764\",\"type\":\"BoxAnnotation\"},{\"attributes\":{\"axis_label\":\"y\",\"bounds\":\"auto\",\"formatter\":{\"id\":\"20782\"},\"major_label_orientation\":\"horizontal\",\"ticker\":{\"id\":\"20756\"}},\"id\":\"20755\",\"type\":\"LinearAxis\"},{\"attributes\":{\"end\":1000.0,\"reset_end\":1000.0,\"reset_start\":5.0,\"start\":5.0,\"tags\":[[[\"x\",\"x\",null]]]},\"id\":\"20739\",\"type\":\"Range1d\"},{\"attributes\":{\"line_color\":\"#1f77b3\",\"line_width\":2,\"x\":{\"field\":\"x\"},\"y\":{\"field\":\"y\"}},\"id\":\"20775\",\"type\":\"Line\"},{\"attributes\":{},\"id\":\"20790\",\"type\":\"UnionRenderers\"},{\"attributes\":{\"data_source\":{\"id\":\"20772\"},\"glyph\":{\"id\":\"20775\"},\"hover_glyph\":null,\"muted_glyph\":{\"id\":\"20777\"},\"nonselection_glyph\":{\"id\":\"20776\"},\"selection_glyph\":null,\"view\":{\"id\":\"20779\"}},\"id\":\"20778\",\"type\":\"GlyphRenderer\"},{\"attributes\":{},\"id\":\"20763\",\"type\":\"ResetTool\"},{\"attributes\":{\"below\":[{\"id\":\"20751\"}],\"center\":[{\"id\":\"20754\"},{\"id\":\"20758\"}],\"left\":[{\"id\":\"20755\"}],\"margin\":[5,5,5,5],\"min_border_bottom\":10,\"min_border_left\":10,\"min_border_right\":10,\"min_border_top\":10,\"plot_height\":300,\"plot_width\":700,\"renderers\":[{\"id\":\"20778\"}],\"sizing_mode\":\"fixed\",\"title\":{\"id\":\"20743\"},\"toolbar\":{\"id\":\"20765\"},\"x_range\":{\"id\":\"20739\"},\"x_scale\":{\"id\":\"20747\"},\"y_range\":{\"id\":\"20740\"},\"y_scale\":{\"id\":\"20749\"}},\"id\":\"20742\",\"subtype\":\"Figure\",\"type\":\"Plot\"},{\"attributes\":{\"margin\":[5,10,5,10],\"name\":\"\",\"text\":\"<b>ImpactHours</b>\"},\"id\":\"20735\",\"type\":\"Div\"},{\"attributes\":{},\"id\":\"20773\",\"type\":\"Selection\"},{\"attributes\":{\"axis\":{\"id\":\"20755\"},\"dimension\":1,\"grid_line_color\":null,\"ticker\":null},\"id\":\"20758\",\"type\":\"Grid\"},{\"attributes\":{\"line_alpha\":0.1,\"line_color\":\"#1f77b3\",\"line_width\":2,\"x\":{\"field\":\"x\"},\"y\":{\"field\":\"y\"}},\"id\":\"20776\",\"type\":\"Line\"},{\"attributes\":{\"axis_label\":\"x\",\"bounds\":\"auto\",\"formatter\":{\"id\":\"20780\"},\"major_label_orientation\":\"horizontal\",\"ticker\":{\"id\":\"20752\"}},\"id\":\"20751\",\"type\":\"LinearAxis\"},{\"attributes\":{},\"id\":\"20759\",\"type\":\"SaveTool\"},{\"attributes\":{},\"id\":\"20782\",\"type\":\"BasicTickFormatter\"},{\"attributes\":{\"text\":\"\",\"text_color\":{\"value\":\"black\"},\"text_font_size\":{\"value\":\"12pt\"}},\"id\":\"20743\",\"type\":\"Title\"},{\"attributes\":{\"end\":0.01050501988030269,\"reset_end\":0.01050501988030269,\"reset_start\":0.00041827520197216714,\"start\":0.00041827520197216714,\"tags\":[[[\"y\",\"y\",null]]]},\"id\":\"20740\",\"type\":\"Range1d\"},{\"attributes\":{\"children\":[{\"id\":\"20735\"},{\"id\":\"20736\"},{\"id\":\"20737\"}],\"margin\":[5,5,5,5],\"min_width\":300,\"name\":\"ImpactHours\",\"width\":300},\"id\":\"20734\",\"type\":\"Column\"},{\"attributes\":{},\"id\":\"20747\",\"type\":\"LinearScale\"},{\"attributes\":{\"overlay\":{\"id\":\"20764\"}},\"id\":\"20762\",\"type\":\"BoxZoomTool\"},{\"attributes\":{},\"id\":\"20756\",\"type\":\"BasicTicker\"},{\"attributes\":{\"axis\":{\"id\":\"20751\"},\"grid_line_color\":null,\"ticker\":null},\"id\":\"20754\",\"type\":\"Grid\"}],\"root_ids\":[\"20733\",\"20824\"]},\"title\":\"Bokeh Application\",\"version\":\"2.2.3\"}};\n",
       "    var render_items = [{\"docid\":\"f12224f5-2fe8-47b9-a01a-12bee78c3f88\",\"root_ids\":[\"20733\"],\"roots\":{\"20733\":\"a6561684-08ad-407b-9516-9929bb3625b6\"}}];\n",
       "    root.Bokeh.embed.embed_items_notebook(docs_json, render_items);\n",
       "  }\n",
       "  if (root.Bokeh !== undefined && root.Bokeh.Panel !== undefined) {\n",
       "    embed_document(root);\n",
       "  } else {\n",
       "    var attempts = 0;\n",
       "    var timer = setInterval(function(root) {\n",
       "      if (root.Bokeh !== undefined && root.Bokeh.Panel !== undefined) {\n",
       "        clearInterval(timer);\n",
       "        embed_document(root);\n",
       "      } else if (document.readyState == \"complete\") {\n",
       "        attempts++;\n",
       "        if (attempts > 100) {\n",
       "          clearInterval(timer);\n",
       "          console.log(\"Bokeh: ERROR: Unable to run BokehJS code because BokehJS library is missing\");\n",
       "        }\n",
       "      }\n",
       "    }, 10, root)\n",
       "  }\n",
       "})(window);</script>"
      ],
      "text/plain": [
       "Row\n",
       "    [0] Column(margin=5, name='ImpactHours', width=300)\n",
       "        [0] StaticText(value='<b>ImpactHours</b>')\n",
       "        [1] FloatSlider(end=200, name='Max ih rate', value=0.01, value_throttled=0.01)\n",
       "        [2] FloatSlider(end=20, name='Expected raise per ih', value=0.012, value_throttled=0.012)\n",
       "    [1] ParamMethod(method)"
      ]
     },
     "execution_count": 44,
     "metadata": {
      "application/vnd.holoviews_exec.v0+json": {
       "id": "20733"
      }
     },
     "output_type": "execute_result"
    }
   ],
   "source": [
    "i = ImpactHours()\n",
    "\n",
    "pn.Row(i, i.impact_hours_rewards)"
   ]
  },
  {
   "cell_type": "code",
   "execution_count": 46,
   "id": "commercial-creation",
   "metadata": {},
   "outputs": [
    {
     "data": {},
     "metadata": {},
     "output_type": "display_data"
    },
    {
     "data": {
      "application/vnd.holoviews_exec.v0+json": "",
      "text/html": [
       "<div id='21523'>\n",
       "\n",
       "\n",
       "\n",
       "\n",
       "\n",
       "  <div class=\"bk-root\" id=\"d449dff9-86bc-4f07-bcc8-0163d3f2ce2d\" data-root-id=\"21523\"></div>\n",
       "</div>\n",
       "<script type=\"application/javascript\">(function(root) {\n",
       "  function embed_document(root) {\n",
       "    var docs_json = {\"dd9c6add-0bb7-4b2b-afa1-ccd1342a376b\":{\"roots\":{\"references\":[{\"attributes\":{\"end\":0.9,\"format\":\"0[.]00\",\"margin\":[5,10,5,10],\"start\":0.5,\"step\":0.01,\"title\":\"Support required\",\"value\":0.5,\"value_throttled\":0.5},\"id\":\"21528\",\"type\":\"Slider\"},{\"attributes\":{\"end\":100,\"format\":\"0[.]00\",\"margin\":[5,10,5,10],\"start\":1,\"step\":10,\"title\":\"Min goal\",\"value\":5,\"value_throttled\":5},\"id\":\"21537\",\"type\":\"Slider\"},{\"attributes\":{\"end\":100,\"format\":\"0[.]00\",\"margin\":[5,10,5,10],\"start\":1,\"step\":0.1,\"title\":\"Maximum number proposals per month\",\"value\":10,\"value_throttled\":10},\"id\":\"21532\",\"type\":\"Slider\"},{\"attributes\":{\"margin\":[5,10,5,10],\"name\":\"\",\"text\":\"<b>Hatch</b>\"},\"id\":\"21534\",\"type\":\"Div\"},{\"attributes\":{\"children\":[{\"id\":\"21534\"},{\"id\":\"21535\"},{\"id\":\"21536\"},{\"id\":\"21537\"},{\"id\":\"21538\"},{\"id\":\"21539\"},{\"id\":\"21540\"},{\"id\":\"21541\"}],\"margin\":[5,5,5,5],\"min_width\":300,\"name\":\"Hatch\",\"width\":300},\"id\":\"21533\",\"type\":\"Column\"},{\"attributes\":{\"format\":null,\"margin\":[5,10,5,10],\"placeholder\":\"0\",\"title\":\"Cost to make a proposal\",\"value\":3,\"value_throttled\":3},\"id\":\"21531\",\"type\":\"Spinner\"},{\"attributes\":{\"end\":1,\"format\":\"0[.]00\",\"margin\":[5,10,5,10],\"start\":0,\"step\":0.1,\"title\":\"Hatch tribute\",\"value\":0.05,\"value_throttled\":0.05},\"id\":\"21541\",\"type\":\"Slider\"},{\"attributes\":{\"end\":20,\"format\":\"0[.]00\",\"margin\":[5,10,5,10],\"start\":0,\"step\":0.1,\"title\":\"Expected raise per ih\",\"value\":1.3,\"value_throttled\":1.3},\"id\":\"21545\",\"type\":\"Slider\"},{\"attributes\":{\"children\":[{\"id\":\"21524\"},{\"id\":\"21533\"},{\"id\":\"21542\"}],\"margin\":[0,0,0,0],\"name\":\"Row53767\"},\"id\":\"21523\",\"type\":\"Row\"},{\"attributes\":{\"margin\":[5,10,5,10],\"name\":\"\",\"text\":\"<b>DandelionVoting</b>\"},\"id\":\"21525\",\"type\":\"Div\"},{\"attributes\":{\"margin\":[5,10,5,10],\"name\":\"\",\"text\":\"<b>ImpactHours</b>\"},\"id\":\"21543\",\"type\":\"Div\"},{\"attributes\":{\"children\":[{\"id\":\"21525\"},{\"id\":\"21526\"},{\"id\":\"21527\"},{\"id\":\"21528\"},{\"id\":\"21529\"},{\"id\":\"21530\"},{\"id\":\"21531\"},{\"id\":\"21532\"}],\"margin\":[5,5,5,5],\"min_width\":300,\"name\":\"DandelionVoting\",\"width\":300},\"id\":\"21524\",\"type\":\"Column\"},{\"attributes\":{\"client_comm_id\":\"52c995997a0f4de6b9f8b0cc7326140e\",\"comm_id\":\"136f7de37aec45fa9e3e601cbde67ceb\",\"plot_id\":\"21523\"},\"id\":\"21546\",\"type\":\"panel.models.comm_manager.CommManager\"},{\"attributes\":{\"disabled\":true,\"format\":null,\"margin\":[5,10,5,10],\"placeholder\":\"0\",\"step\":0.1,\"title\":\"Total tokens\",\"value\":1000000.0,\"value_throttled\":1000000.0},\"id\":\"21526\",\"type\":\"Spinner\"},{\"attributes\":{\"format\":null,\"margin\":[5,10,5,10],\"placeholder\":\"0\",\"step\":0.1,\"title\":\"Hatch exchange rate\",\"value\":0.0,\"value_throttled\":0.0},\"id\":\"21540\",\"type\":\"Spinner\"},{\"attributes\":{\"disabled\":true,\"format\":null,\"margin\":[5,10,5,10],\"placeholder\":\"0\",\"step\":0.1,\"title\":\"Total cstk tokens\",\"value\":700000,\"value_throttled\":700000},\"id\":\"21535\",\"type\":\"Spinner\"},{\"attributes\":{\"end\":1,\"format\":\"0[.]00\",\"margin\":[5,10,5,10],\"start\":0,\"step\":0.01,\"title\":\"Minimum quorum\",\"value\":0.02,\"value_throttled\":0.02},\"id\":\"21527\",\"type\":\"Slider\"},{\"attributes\":{\"disabled\":true,\"format\":null,\"margin\":[5,10,5,10],\"placeholder\":\"0\",\"step\":0.1,\"title\":\"Hatch oracle ratio\",\"value\":0.005,\"value_throttled\":0.005},\"id\":\"21536\",\"type\":\"Spinner\"},{\"attributes\":{\"format\":null,\"margin\":[5,10,5,10],\"mode\":\"int\",\"placeholder\":\"0\",\"title\":\"Days to exit hatch\",\"value\":8,\"value_throttled\":8},\"id\":\"21530\",\"type\":\"Spinner\"},{\"attributes\":{\"end\":200,\"format\":\"0[.]00\",\"margin\":[5,10,5,10],\"start\":0,\"step\":0.1,\"title\":\"Max ih rate\",\"value\":85,\"value_throttled\":85},\"id\":\"21544\",\"type\":\"Slider\"},{\"attributes\":{\"end\":100,\"format\":\"0[.]00\",\"margin\":[5,10,5,10],\"start\":0,\"title\":\"Days to vote on proposal\",\"value\":35,\"value_throttled\":35},\"id\":\"21529\",\"type\":\"Slider\"},{\"attributes\":{\"children\":[{\"id\":\"21543\"},{\"id\":\"21544\"},{\"id\":\"21545\"}],\"margin\":[5,5,5,5],\"min_width\":300,\"name\":\"ImpactHours\",\"width\":300},\"id\":\"21542\",\"type\":\"Column\"},{\"attributes\":{\"end\":10000,\"format\":\"0[.]00\",\"margin\":[5,10,5,10],\"start\":100,\"step\":50,\"title\":\"Max goal\",\"value\":1000,\"value_throttled\":1000},\"id\":\"21538\",\"type\":\"Slider\"},{\"attributes\":{\"end\":30,\"format\":\"0[.]00\",\"margin\":[5,10,5,10],\"start\":5,\"step\":2,\"title\":\"Hatch period\",\"value\":15,\"value_throttled\":15},\"id\":\"21539\",\"type\":\"Slider\"}],\"root_ids\":[\"21523\",\"21546\"]},\"title\":\"Bokeh Application\",\"version\":\"2.2.3\"}};\n",
       "    var render_items = [{\"docid\":\"dd9c6add-0bb7-4b2b-afa1-ccd1342a376b\",\"root_ids\":[\"21523\"],\"roots\":{\"21523\":\"d449dff9-86bc-4f07-bcc8-0163d3f2ce2d\"}}];\n",
       "    root.Bokeh.embed.embed_items_notebook(docs_json, render_items);\n",
       "  }\n",
       "  if (root.Bokeh !== undefined && root.Bokeh.Panel !== undefined) {\n",
       "    embed_document(root);\n",
       "  } else {\n",
       "    var attempts = 0;\n",
       "    var timer = setInterval(function(root) {\n",
       "      if (root.Bokeh !== undefined && root.Bokeh.Panel !== undefined) {\n",
       "        clearInterval(timer);\n",
       "        embed_document(root);\n",
       "      } else if (document.readyState == \"complete\") {\n",
       "        attempts++;\n",
       "        if (attempts > 100) {\n",
       "          clearInterval(timer);\n",
       "          console.log(\"Bokeh: ERROR: Unable to run BokehJS code because BokehJS library is missing\");\n",
       "        }\n",
       "      }\n",
       "    }, 10, root)\n",
       "  }\n",
       "})(window);</script>"
      ],
      "text/plain": [
       "Row\n",
       "    [0] Column(margin=5, name='DandelionVoting', width=300)\n",
       "        [0] StaticText(value='<b>DandelionVoting</b>')\n",
       "        [1] FloatInput(disabled=True, name='Total tokens', value=1000000.0, value_throttled=1000000.0)\n",
       "        [2] FloatSlider(name='Minimum quorum', step=0.01, value=0.02, value_throttled=0.02)\n",
       "        [3] FloatSlider(end=0.9, name='Support required', start=0.5, step=0.01, value=0.5, value_throttled=0.5)\n",
       "        [4] IntSlider(end=100, name='Days to vote o..., value=35, value_throttled=35)\n",
       "        [5] IntInput(name='Days to exit hatch', value=8, value_throttled=8)\n",
       "        [6] FloatInput(name='Cost to make a proposal', step=1, value=3, value_throttled=3)\n",
       "        [7] FloatSlider(end=100, name='Maximum number p..., start=1, value=10, value_throttled=10)\n",
       "    [1] Column(margin=5, name='Hatch', width=300)\n",
       "        [0] StaticText(value='<b>Hatch</b>')\n",
       "        [1] FloatInput(disabled=True, name='Total cstk tokens', value=700000, value_throttled=700000)\n",
       "        [2] FloatInput(disabled=True, name='Hatch oracle ratio', value=0.005, value_throttled=0.005)\n",
       "        [3] FloatSlider(end=100, name='Min goal', start=1, step=10, value=5, value_throttled=5)\n",
       "        [4] FloatSlider(end=10000, name='Max goal', start=100, step=50, value=1000, value_throttled=1000)\n",
       "        [5] IntSlider(end=30, name='Hatch period', start=5, step=2, value=15, value_throttled=15)\n",
       "        [6] FloatInput(name='Hatch exchange rate', value_throttled=0.0)\n",
       "        [7] FloatSlider(name='Hatch tribute', value=0.05, value_throttled=0.05)\n",
       "    [2] Column(margin=5, name='ImpactHours', width=300)\n",
       "        [0] StaticText(value='<b>ImpactHours</b>')\n",
       "        [1] FloatSlider(end=200, name='Max ih rate', value=85, value_throttled=85)\n",
       "        [2] FloatSlider(end=20, name='Expected raise per ih', value=1.3, value_throttled=1.3)"
      ]
     },
     "execution_count": 46,
     "metadata": {
      "application/vnd.holoviews_exec.v0+json": {
       "id": "21523"
      }
     },
     "output_type": "execute_result"
    }
   ],
   "source": [
    "pn.Row(d, h, i)"
   ]
  },
  {
   "cell_type": "code",
   "execution_count": 47,
   "id": "seeing-belarus",
   "metadata": {},
   "outputs": [
    {
     "data": {},
     "metadata": {},
     "output_type": "display_data"
    },
    {
     "data": {},
     "metadata": {},
     "output_type": "display_data"
    },
    {
     "data": {
      "application/vnd.holoviews_exec.v0+json": "",
      "text/html": [
       "<div id='21547'>\n",
       "\n",
       "\n",
       "\n",
       "\n",
       "\n",
       "  <div class=\"bk-root\" id=\"a351d298-9a79-49c0-aad5-05e111924c6a\" data-root-id=\"21547\"></div>\n",
       "</div>\n",
       "<script type=\"application/javascript\">(function(root) {\n",
       "  function embed_document(root) {\n",
       "    var docs_json = {\"02ab5451-012b-46d1-8622-c7165184ce28\":{\"roots\":{\"references\":[{\"attributes\":{},\"id\":\"21573\",\"type\":\"ResetTool\"},{\"attributes\":{\"axis\":{\"id\":\"21645\"},\"dimension\":1,\"grid_line_color\":null,\"ticker\":null},\"id\":\"21648\",\"type\":\"Grid\"},{\"attributes\":{\"css_classes\":[\"markdown\"],\"margin\":[5,5,5,5],\"name\":\"Markdown53878\",\"text\":\"&lt;p&gt;Minimum Tokens to Block a Vote: &lt;/p&gt;\"},\"id\":\"21626\",\"type\":\"panel.models.markup.HTML\"},{\"attributes\":{},\"id\":\"21672\",\"type\":\"BasicTickFormatter\"},{\"attributes\":{\"bottom\":{\"field\":\"bottom\"},\"fill_color\":{\"field\":\"Variable\",\"transform\":{\"id\":\"21582\"}},\"top\":{\"field\":\"top\"},\"width\":{\"value\":0.8},\"x\":{\"field\":\"index\"}},\"id\":\"21586\",\"type\":\"VBar\"},{\"attributes\":{},\"id\":\"21558\",\"type\":\"CategoricalScale\"},{\"attributes\":{\"children\":[{\"id\":\"21549\"}],\"margin\":[0,0,0,0],\"name\":\"Row53774\"},\"id\":\"21548\",\"type\":\"Row\"},{\"attributes\":{\"axis_label\":\"\",\"bounds\":\"auto\",\"formatter\":{\"id\":\"21593\"},\"major_label_orientation\":\"horizontal\",\"ticker\":{\"id\":\"21566\"}},\"id\":\"21565\",\"type\":\"LinearAxis\"},{\"attributes\":{\"items\":[{\"id\":\"21600\"}],\"location\":[0,0]},\"id\":\"21599\",\"type\":\"Legend\"},{\"attributes\":{},\"id\":\"21637\",\"type\":\"LinearScale\"},{\"attributes\":{},\"id\":\"21670\",\"type\":\"BasicTickFormatter\"},{\"attributes\":{\"axis_label\":\"x\",\"bounds\":\"auto\",\"formatter\":{\"id\":\"21670\"},\"major_label_orientation\":\"horizontal\",\"ticker\":{\"id\":\"21642\"}},\"id\":\"21641\",\"type\":\"LinearAxis\"},{\"attributes\":{\"active_drag\":\"auto\",\"active_inspect\":\"auto\",\"active_multi\":null,\"active_scroll\":\"auto\",\"active_tap\":\"auto\",\"tools\":[{\"id\":\"21552\"},{\"id\":\"21569\"},{\"id\":\"21570\"},{\"id\":\"21571\"},{\"id\":\"21572\"},{\"id\":\"21573\"}]},\"id\":\"21575\",\"type\":\"Toolbar\"},{\"attributes\":{},\"id\":\"21571\",\"type\":\"WheelZoomTool\"},{\"attributes\":{},\"id\":\"21663\",\"type\":\"Selection\"},{\"attributes\":{},\"id\":\"21584\",\"type\":\"Selection\"},{\"attributes\":{},\"id\":\"21563\",\"type\":\"CategoricalTicker\"},{\"attributes\":{\"source\":{\"id\":\"21583\"}},\"id\":\"21590\",\"type\":\"CDSView\"},{\"attributes\":{\"client_comm_id\":\"e6b4d6b2a42f4f149f72293adb8362cf\",\"comm_id\":\"63998c31ac64447dbb8db91172ec001c\",\"plot_id\":\"21547\"},\"id\":\"21738\",\"type\":\"panel.models.comm_manager.CommManager\"},{\"attributes\":{\"axis_label\":\"y\",\"bounds\":\"auto\",\"formatter\":{\"id\":\"21672\"},\"major_label_orientation\":\"horizontal\",\"ticker\":{\"id\":\"21646\"}},\"id\":\"21645\",\"type\":\"LinearAxis\"},{\"attributes\":{\"css_classes\":[\"markdown\"],\"margin\":[5,5,5,5],\"name\":\"Markdown53870\",\"text\":\"&lt;p&gt;Minimum Tokens to Meet Quorum: &lt;/p&gt;\"},\"id\":\"21622\",\"type\":\"panel.models.markup.HTML\"},{\"attributes\":{\"callback\":null,\"renderers\":[{\"id\":\"21589\"}],\"tags\":[\"hv_created\"],\"tooltips\":[[\"index\",\"@{index}\"],[\"Variable\",\"@{Variable}\"],[\"value\",\"@{value}\"]]},\"id\":\"21552\",\"type\":\"HoverTool\"},{\"attributes\":{},\"id\":\"21570\",\"type\":\"PanTool\"},{\"attributes\":{},\"id\":\"21569\",\"type\":\"SaveTool\"},{\"attributes\":{\"children\":[{\"id\":\"21548\"},{\"id\":\"21628\"}],\"margin\":[0,0,0,0],\"name\":\"Row53975\"},\"id\":\"21547\",\"type\":\"Row\"},{\"attributes\":{\"children\":[{\"id\":\"21632\"}],\"margin\":[0,0,0,0],\"name\":\"Row53894\"},\"id\":\"21628\",\"type\":\"Row\"},{\"attributes\":{\"margin\":[5,5,5,5],\"name\":\"Str53880\",\"text\":\"&lt;pre&gt;10000&lt;/pre&gt;\"},\"id\":\"21627\",\"type\":\"panel.models.markup.HTML\"},{\"attributes\":{\"children\":[{\"id\":\"21553\"},{\"id\":\"21621\"}],\"margin\":[0,0,0,0],\"name\":\"Row53888\"},\"id\":\"21549\",\"type\":\"Row\"},{\"attributes\":{\"line_alpha\":0.2,\"line_color\":\"#1f77b3\",\"line_width\":2,\"x\":{\"field\":\"x\"},\"y\":{\"field\":\"y\"}},\"id\":\"21667\",\"type\":\"Line\"},{\"attributes\":{},\"id\":\"21639\",\"type\":\"LinearScale\"},{\"attributes\":{\"source\":{\"id\":\"21662\"}},\"id\":\"21669\",\"type\":\"CDSView\"},{\"attributes\":{},\"id\":\"21649\",\"type\":\"SaveTool\"},{\"attributes\":{\"axis\":{\"id\":\"21565\"},\"dimension\":1,\"grid_line_color\":null,\"ticker\":null},\"id\":\"21568\",\"type\":\"Grid\"},{\"attributes\":{\"margin\":[5,5,5,5],\"name\":\"Str53876\",\"text\":\"&lt;pre&gt;10000&lt;/pre&gt;\"},\"id\":\"21625\",\"type\":\"panel.models.markup.HTML\"},{\"attributes\":{},\"id\":\"21680\",\"type\":\"UnionRenderers\"},{\"attributes\":{},\"id\":\"21651\",\"type\":\"WheelZoomTool\"},{\"attributes\":{},\"id\":\"21642\",\"type\":\"BasicTicker\"},{\"attributes\":{\"css_classes\":[\"markdown\"],\"margin\":[5,5,5,5],\"name\":\"Markdown53874\",\"text\":\"&lt;p&gt;Minimum Tokens to Pass a Vote: &lt;/p&gt;\"},\"id\":\"21624\",\"type\":\"panel.models.markup.HTML\"},{\"attributes\":{\"end\":1000.0,\"reset_end\":1000.0,\"reset_start\":5.0,\"start\":5.0,\"tags\":[[[\"x\",\"x\",null]]]},\"id\":\"21629\",\"type\":\"Range1d\"},{\"attributes\":{},\"id\":\"21560\",\"type\":\"LinearScale\"},{\"attributes\":{\"data\":{\"x\":{\"__ndarray__\":\"AAAAAAAAFEBU8HIKXk45QFTwcgpezkZAPzTWh8Z6UEBU8HIKXo5VQGmsD431oVpAfmisD421X0BKkiRJkmRiQFTwcgpe7mRAXk7Byyl4Z0BprA+N9QFqQHQKXk7Bi2xAfmisD40Vb0BEY31orM9wQEqSJEmSFHJAT8HLKXhZc0BU8HIKXp50QFkfGutD43VAXk7Byykod0BkfWisD214QGmsD431sXlAbtu2bdv2ekB0Cl5OwTt8QHk5BS+ngH1AfmisD43FfkDCyyl4OQWAQERjfWisp4BAx/rQWB9KgUBKkiRJkuyBQMwpeDkFj4JAT8HLKXgxg0DRWB8a69ODQFTwcgpedoRA14fG+tAYhUBZHxrrQ7uFQNy2bdu2XYZAXk7ByykAh0Dh5RS8nKKHQGR9aKwPRYhA5hS8nILniEBprA+N9YmJQOxDY31oLIpAbtu2bdvOikDxcgpeTnGLQHQKXk7BE4xA9qGxPjS2jEB5OQUvp1iNQPvQWB8a+41AfmisD42djkAAAAAAAECPQA==\",\"dtype\":\"float64\",\"order\":\"little\",\"shape\":[50]},\"y\":{\"__ndarray__\":\"fN7E8V/jvD93HYqznS3iPxPhw2ODS/A/pBh+q6Rs9z8ShEgJgnr+P4uhc5W0ugJAla5YD9MuBkDTuS2vwZkJQEljtuyk+wxAb2jYP1AqEEDOiV+ya9IRQF4TFfE1dhNAlfI/xr8VFUDPoYalGbEWQEkIG65TSBhAAbfVrH3bGUCdFkEep2obQE0UlTDf9RxAXNajxTR9HkC9/Vs6WwAgQIVxMkY5wCBAuLskijt+IUCH92LnaDoiQPp5Uh3I9CJABk9cyl+tI0Cw07VsNmQkQDOfI2NSGSVAEuu27bnMJUBWqIUuc34mQHxuXSqELidAzW5xyfLcJ0B8lQPYxIkoQDQACQcANSlAXPDJ7KneKUDwXX0FyIYqQKJO4LNfLStAIxPJQXbSK0AWjLbgEHYsQC+WW6o0GC1AOLwmoea4LUDbTMawK1guQHHwqK4I9i5Antp6WoKSL0Ag2U+vzhYwQLSkVCivYzBABJ/l2OSvMEC9zaX3cfswQORJeLFYRjFAhrO1KZuQMUBOR2B6O9oxQA==\",\"dtype\":\"float64\",\"order\":\"little\",\"shape\":[50]}},\"selected\":{\"id\":\"21663\"},\"selection_policy\":{\"id\":\"21680\"}},\"id\":\"21662\",\"type\":\"ColumnDataSource\"},{\"attributes\":{},\"id\":\"21597\",\"type\":\"UnionRenderers\"},{\"attributes\":{\"below\":[{\"id\":\"21641\"}],\"center\":[{\"id\":\"21644\"},{\"id\":\"21648\"}],\"left\":[{\"id\":\"21645\"}],\"margin\":[5,5,5,5],\"min_border_bottom\":10,\"min_border_left\":10,\"min_border_right\":10,\"min_border_top\":10,\"plot_height\":300,\"plot_width\":700,\"renderers\":[{\"id\":\"21668\"}],\"sizing_mode\":\"fixed\",\"title\":{\"id\":\"21633\"},\"toolbar\":{\"id\":\"21655\"},\"x_range\":{\"id\":\"21629\"},\"x_scale\":{\"id\":\"21637\"},\"y_range\":{\"id\":\"21630\"},\"y_scale\":{\"id\":\"21639\"}},\"id\":\"21632\",\"subtype\":\"Figure\",\"type\":\"Plot\"},{\"attributes\":{},\"id\":\"21653\",\"type\":\"ResetTool\"},{\"attributes\":{},\"id\":\"21593\",\"type\":\"BasicTickFormatter\"},{\"attributes\":{\"overlay\":{\"id\":\"21574\"}},\"id\":\"21572\",\"type\":\"BoxZoomTool\"},{\"attributes\":{\"line_color\":\"#1f77b3\",\"line_width\":2,\"x\":{\"field\":\"x\"},\"y\":{\"field\":\"y\"}},\"id\":\"21665\",\"type\":\"Line\"},{\"attributes\":{},\"id\":\"21566\",\"type\":\"BasicTicker\"},{\"attributes\":{\"children\":[{\"id\":\"21622\"},{\"id\":\"21623\"},{\"id\":\"21624\"},{\"id\":\"21625\"},{\"id\":\"21626\"},{\"id\":\"21627\"}],\"margin\":[0,0,0,0],\"name\":\"Column53882\"},\"id\":\"21621\",\"type\":\"Column\"},{\"attributes\":{\"end\":19.62643262262677,\"reset_end\":19.62643262262677,\"reset_start\":-1.6611180960391492,\"start\":-1.6611180960391492,\"tags\":[[[\"y\",\"y\",null]]]},\"id\":\"21630\",\"type\":\"Range1d\"},{\"attributes\":{\"factors\":[\"Votes\"],\"tags\":[[[\"index\",\"index\",null]]]},\"id\":\"21550\",\"type\":\"FactorRange\"},{\"attributes\":{\"text\":\"\",\"text_color\":{\"value\":\"black\"},\"text_font_size\":{\"value\":\"12pt\"}},\"id\":\"21554\",\"type\":\"Title\"},{\"attributes\":{\"below\":[{\"id\":\"21562\"}],\"center\":[{\"id\":\"21564\"},{\"id\":\"21568\"},{\"id\":\"21599\"}],\"left\":[{\"id\":\"21565\"}],\"margin\":[5,5,5,5],\"min_border_bottom\":10,\"min_border_left\":10,\"min_border_right\":10,\"min_border_top\":10,\"plot_height\":300,\"plot_width\":700,\"renderers\":[{\"id\":\"21589\"}],\"right\":[{\"id\":\"21599\"}],\"sizing_mode\":\"fixed\",\"title\":{\"id\":\"21554\"},\"toolbar\":{\"id\":\"21575\"},\"x_range\":{\"id\":\"21550\"},\"x_scale\":{\"id\":\"21558\"},\"y_range\":{\"id\":\"21551\"},\"y_scale\":{\"id\":\"21560\"}},\"id\":\"21553\",\"subtype\":\"Figure\",\"type\":\"Plot\"},{\"attributes\":{\"label\":{\"field\":\"Variable\"},\"renderers\":[{\"id\":\"21589\"}]},\"id\":\"21600\",\"type\":\"LegendItem\"},{\"attributes\":{\"callback\":null,\"renderers\":[{\"id\":\"21668\"}],\"tags\":[\"hv_created\"],\"tooltips\":[[\"x\",\"@{x}\"],[\"y\",\"@{y}\"]]},\"id\":\"21631\",\"type\":\"HoverTool\"},{\"attributes\":{\"bottom_units\":\"screen\",\"fill_alpha\":0.5,\"fill_color\":\"lightgrey\",\"left_units\":\"screen\",\"level\":\"overlay\",\"line_alpha\":1.0,\"line_color\":\"black\",\"line_dash\":[4,4],\"line_width\":2,\"right_units\":\"screen\",\"top_units\":\"screen\"},\"id\":\"21574\",\"type\":\"BoxAnnotation\"},{\"attributes\":{\"axis_label\":\"\",\"bounds\":\"auto\",\"formatter\":{\"id\":\"21595\"},\"major_label_orientation\":\"horizontal\",\"ticker\":{\"id\":\"21563\"}},\"id\":\"21562\",\"type\":\"CategoricalAxis\"},{\"attributes\":{\"text\":\"\",\"text_color\":{\"value\":\"black\"},\"text_font_size\":{\"value\":\"12pt\"}},\"id\":\"21633\",\"type\":\"Title\"},{\"attributes\":{\"bottom\":{\"field\":\"bottom\"},\"fill_alpha\":{\"value\":0.2},\"fill_color\":{\"field\":\"Variable\",\"transform\":{\"id\":\"21582\"}},\"line_alpha\":{\"value\":0.2},\"top\":{\"field\":\"top\"},\"width\":{\"value\":0.8},\"x\":{\"field\":\"index\"}},\"id\":\"21588\",\"type\":\"VBar\"},{\"attributes\":{\"active_drag\":\"auto\",\"active_inspect\":\"auto\",\"active_multi\":null,\"active_scroll\":\"auto\",\"active_tap\":\"auto\",\"tools\":[{\"id\":\"21631\"},{\"id\":\"21649\"},{\"id\":\"21650\"},{\"id\":\"21651\"},{\"id\":\"21652\"},{\"id\":\"21653\"}]},\"id\":\"21655\",\"type\":\"Toolbar\"},{\"attributes\":{},\"id\":\"21650\",\"type\":\"PanTool\"},{\"attributes\":{\"axis\":{\"id\":\"21641\"},\"grid_line_color\":null,\"ticker\":null},\"id\":\"21644\",\"type\":\"Grid\"},{\"attributes\":{\"margin\":[5,5,5,5],\"name\":\"Str53872\",\"text\":\"&lt;pre&gt;20000&lt;/pre&gt;\"},\"id\":\"21623\",\"type\":\"panel.models.markup.HTML\"},{\"attributes\":{},\"id\":\"21646\",\"type\":\"BasicTicker\"},{\"attributes\":{\"data_source\":{\"id\":\"21662\"},\"glyph\":{\"id\":\"21665\"},\"hover_glyph\":null,\"muted_glyph\":{\"id\":\"21667\"},\"nonselection_glyph\":{\"id\":\"21666\"},\"selection_glyph\":null,\"view\":{\"id\":\"21669\"}},\"id\":\"21668\",\"type\":\"GlyphRenderer\"},{\"attributes\":{\"axis\":{\"id\":\"21562\"},\"grid_line_color\":null,\"ticker\":null},\"id\":\"21564\",\"type\":\"Grid\"},{\"attributes\":{\"bottom\":{\"field\":\"bottom\"},\"fill_alpha\":{\"value\":0.1},\"fill_color\":{\"field\":\"Variable\",\"transform\":{\"id\":\"21582\"}},\"line_alpha\":{\"value\":0.1},\"top\":{\"field\":\"top\"},\"width\":{\"value\":0.8},\"x\":{\"field\":\"index\"}},\"id\":\"21587\",\"type\":\"VBar\"},{\"attributes\":{\"factors\":[\"Minimum Tokens to Pass\",\"Minimum Tokens for Quorum\"],\"palette\":[\"#0F2EEE\",\"#0b0a15\"]},\"id\":\"21582\",\"type\":\"CategoricalColorMapper\"},{\"attributes\":{\"end\":1000000.0,\"reset_end\":1000000.0,\"reset_start\":0,\"tags\":[[[\"value\",\"value\",null]]]},\"id\":\"21551\",\"type\":\"Range1d\"},{\"attributes\":{\"line_alpha\":0.1,\"line_color\":\"#1f77b3\",\"line_width\":2,\"x\":{\"field\":\"x\"},\"y\":{\"field\":\"y\"}},\"id\":\"21666\",\"type\":\"Line\"},{\"attributes\":{},\"id\":\"21595\",\"type\":\"CategoricalTickFormatter\"},{\"attributes\":{\"overlay\":{\"id\":\"21654\"}},\"id\":\"21652\",\"type\":\"BoxZoomTool\"},{\"attributes\":{\"data\":{\"Variable\":[\"Minimum Tokens to Pass\",\"Minimum Tokens for Quorum\"],\"bottom\":{\"__ndarray__\":\"AAAAAAAAAAAAAAAAAIjDQA==\",\"dtype\":\"float64\",\"order\":\"little\",\"shape\":[2]},\"index\":[\"Votes\",\"Votes\"],\"top\":{\"__ndarray__\":\"AAAAAACIw0AAAAAAAIjTQA==\",\"dtype\":\"float64\",\"order\":\"little\",\"shape\":[2]},\"value\":{\"__ndarray__\":\"AAAAAACIw0AAAAAAAIjDQA==\",\"dtype\":\"float64\",\"order\":\"little\",\"shape\":[2]}},\"selected\":{\"id\":\"21584\"},\"selection_policy\":{\"id\":\"21597\"}},\"id\":\"21583\",\"type\":\"ColumnDataSource\"},{\"attributes\":{\"data_source\":{\"id\":\"21583\"},\"glyph\":{\"id\":\"21586\"},\"hover_glyph\":null,\"muted_glyph\":{\"id\":\"21588\"},\"nonselection_glyph\":{\"id\":\"21587\"},\"selection_glyph\":null,\"view\":{\"id\":\"21590\"}},\"id\":\"21589\",\"type\":\"GlyphRenderer\"},{\"attributes\":{\"bottom_units\":\"screen\",\"fill_alpha\":0.5,\"fill_color\":\"lightgrey\",\"left_units\":\"screen\",\"level\":\"overlay\",\"line_alpha\":1.0,\"line_color\":\"black\",\"line_dash\":[4,4],\"line_width\":2,\"right_units\":\"screen\",\"top_units\":\"screen\"},\"id\":\"21654\",\"type\":\"BoxAnnotation\"}],\"root_ids\":[\"21547\",\"21738\"]},\"title\":\"Bokeh Application\",\"version\":\"2.2.3\"}};\n",
       "    var render_items = [{\"docid\":\"02ab5451-012b-46d1-8622-c7165184ce28\",\"root_ids\":[\"21547\"],\"roots\":{\"21547\":\"a351d298-9a79-49c0-aad5-05e111924c6a\"}}];\n",
       "    root.Bokeh.embed.embed_items_notebook(docs_json, render_items);\n",
       "  }\n",
       "  if (root.Bokeh !== undefined && root.Bokeh.Panel !== undefined) {\n",
       "    embed_document(root);\n",
       "  } else {\n",
       "    var attempts = 0;\n",
       "    var timer = setInterval(function(root) {\n",
       "      if (root.Bokeh !== undefined && root.Bokeh.Panel !== undefined) {\n",
       "        clearInterval(timer);\n",
       "        embed_document(root);\n",
       "      } else if (document.readyState == \"complete\") {\n",
       "        attempts++;\n",
       "        if (attempts > 100) {\n",
       "          clearInterval(timer);\n",
       "          console.log(\"Bokeh: ERROR: Unable to run BokehJS code because BokehJS library is missing\");\n",
       "        }\n",
       "      }\n",
       "    }, 10, root)\n",
       "  }\n",
       "})(window);</script>"
      ],
      "text/plain": [
       "Row\n",
       "    [0] ParamMethod(method)\n",
       "    [1] ParamMethod(method)"
      ]
     },
     "execution_count": 47,
     "metadata": {
      "application/vnd.holoviews_exec.v0+json": {
       "id": "21547"
      }
     },
     "output_type": "execute_result"
    }
   ],
   "source": [
    "pn.Row(d.view, i.impact_hours_rewards)"
   ]
  },
  {
   "cell_type": "markdown",
   "id": "inclusive-stomach",
   "metadata": {},
   "source": [
    "# Target/Expected Goals"
   ]
  },
  {
   "cell_type": "code",
   "execution_count": null,
   "id": "silent-cornwall",
   "metadata": {},
   "outputs": [],
   "source": []
  },
  {
   "cell_type": "code",
   "execution_count": null,
   "id": "choice-triumph",
   "metadata": {},
   "outputs": [],
   "source": []
  },
  {
   "cell_type": "code",
   "execution_count": null,
   "id": "israeli-afternoon",
   "metadata": {},
   "outputs": [],
   "source": []
  },
  {
   "cell_type": "code",
   "execution_count": null,
   "id": "vocational-favorite",
   "metadata": {},
   "outputs": [],
   "source": [
    "class CommunityParticipation(param.Parameterized)"
   ]
  }
 ],
 "metadata": {
  "kernelspec": {
   "display_name": "Python 3",
   "language": "python",
   "name": "python3"
  },
  "language_info": {
   "codemirror_mode": {
    "name": "ipython",
    "version": 3
   },
   "file_extension": ".py",
   "mimetype": "text/x-python",
   "name": "python",
   "nbconvert_exporter": "python",
   "pygments_lexer": "ipython3",
   "version": "3.8.6"
  }
 },
 "nbformat": 4,
 "nbformat_minor": 5
}
