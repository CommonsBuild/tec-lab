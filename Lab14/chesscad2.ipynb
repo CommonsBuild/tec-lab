{
 "cells": [
  {
   "cell_type": "code",
   "execution_count": 10,
   "id": "annoying-interface",
   "metadata": {},
   "outputs": [],
   "source": [
    "\"\"\"CONVENTIONS:\n",
    "positions are done row-column from the bottom left and are both numbers. This corresponds to the alpha-number system in traditional chess while being computationally useful. they are specified as tuples\n",
    "\"\"\"\n",
    "import itertools\n",
    "WHITE = \"white\"\n",
    "BLACK = \"black\"\n",
    "\n",
    "class Game:\n",
    "    #ive decided since the number of pieces is capped but the type of pieces is not (pawn transformations), I've already coded much of the modularity to support just using a dictionary of pieces\n",
    "    def __init__(self):\n",
    "        self.playersturn = BLACK\n",
    "        self.message = \"this is where prompts will go\"\n",
    "        self.gameboard = {}\n",
    "        self.placePieces()\n",
    "        print(\"chess program. enter moves in algebraic notation separated by space\")\n",
    "\n",
    "        \n",
    "    def placePieces(self):\n",
    "\n",
    "        for i in range(0,8):\n",
    "            self.gameboard[(i,1)] = Pawn(WHITE,uniDict[WHITE][Pawn],1)\n",
    "            self.gameboard[(i,6)] = Pawn(BLACK,uniDict[BLACK][Pawn],-1)\n",
    "            \n",
    "        placers = [Rook,Knight,Bishop,Queen,King,Bishop,Knight,Rook]\n",
    "        \n",
    "        for i in range(0,8):\n",
    "            self.gameboard[(i,0)] = placers[i](WHITE,uniDict[WHITE][placers[i]])\n",
    "            self.gameboard[((7-i),7)] = placers[i](BLACK,uniDict[BLACK][placers[i]])\n",
    "        placers.reverse()\n",
    "\n",
    "        \n",
    "#     def main(self):\n",
    "        \n",
    "                    \n",
    "    def isCheck(self):\n",
    "        \"\"\"\n",
    "        Ascertain where the kings are, check all pieces of opposing color against those kings, then if either get hit, check if its checkmate\n",
    "        \"\"\"\n",
    "        king = King\n",
    "        kingDict = {}\n",
    "        pieceDict = {BLACK : [], WHITE : []}\n",
    "        for position,piece in self.gameboard.items():\n",
    "            if type(piece) == King:\n",
    "                kingDict[piece.Color] = position\n",
    "            print(piece)\n",
    "            pieceDict[piece.Color].append((piece,position))\n",
    "        #white\n",
    "        if self.canSeeKing(kingDict[WHITE],pieceDict[BLACK]):\n",
    "            self.message = \"White player is in check\"\n",
    "        if self.canSeeKing(kingDict[BLACK],pieceDict[WHITE]):\n",
    "            self.message = \"Black player is in check\"\n",
    "        \n",
    "        \n",
    "    def canSeeKing(self,kingpos,piecelist):\n",
    "        #checks if any pieces in piece list (which is an array of (piece,position) tuples) can see the king in kingpos\n",
    "        for piece,position in piecelist:\n",
    "            if piece.isValid(position,kingpos,piece.Color,self.gameboard):\n",
    "                return True\n",
    "                \n",
    "    def parseInput(self):\n",
    "        try:\n",
    "            a,b = input().split()\n",
    "            a = ((ord(a[0])-97), int(a[1])-1)\n",
    "            b = (ord(b[0])-97, int(b[1])-1)\n",
    "            print(a,b)\n",
    "            return (a,b)\n",
    "        except:\n",
    "            print(\"error decoding input. please try again\")\n",
    "            return((-1,-1),(-1,-1))\n",
    "    \n",
    "    \"\"\"def validateInput(self, *kargs):\n",
    "        for arg in kargs:\n",
    "            if type(arg[0]) is not type(1) or type(arg[1]) is not type(1):\n",
    "                return False\n",
    "        return True\"\"\"\n",
    "        \n",
    "    def printBoard(self):\n",
    "        print(\"  1 | 2 | 3 | 4 | 5 | 6 | 7 | 8 |\")\n",
    "        for i in range(0,8):\n",
    "            print(\"-\"*32)\n",
    "            print(chr(i+97),end=\"|\")\n",
    "            for j in range(0,8):\n",
    "                item = self.gameboard.get((i,j),\" \")\n",
    "                print(str(item)+' |', end = \" \")\n",
    "            print()\n",
    "        print(\"-\"*32)\n",
    "            \n",
    "           \n",
    "        \n",
    "    \"\"\"game class. contains the following members and methods:\n",
    "    two arrays of pieces for each player\n",
    "    8x8 piece array with references to these pieces\n",
    "    a parse function, which turns the input from the user into a list of two tuples denoting start and end points\n",
    "    a checkmateExists function which checks if either players are in checkmate\n",
    "    a checkExists function which checks if either players are in check (woah, I just got that nonsequitur)\n",
    "    a main loop, which takes input, runs it through the parser, asks the piece if the move is valid, and moves the piece if it is. \n",
    "    if the move conflicts with another piece, that piece is removed. ischeck(mate) is run, and if there is a checkmate, \n",
    "    the game prints a message as to who wins\n",
    "    \"\"\"\n",
    "\n",
    "class Piece:\n",
    "    \n",
    "    def __init__(self,color,name):\n",
    "        self.name = name\n",
    "        self.position = None\n",
    "        self.Color = color\n",
    "    def isValid(self,startpos,endpos,Color,gameboard):\n",
    "        if endpos in self.availableMoves(startpos[0],startpos[1],gameboard, Color = Color):\n",
    "            return True\n",
    "        return False\n",
    "    def __repr__(self):\n",
    "        return self.name\n",
    "    \n",
    "    def __str__(self):\n",
    "        return self.name\n",
    "    \n",
    "    def availableMoves(self,x,y,gameboard):\n",
    "        print(\"ERROR: no movement for base class\")\n",
    "        \n",
    "    def AdNauseum(self,x,y,gameboard, Color, intervals):\n",
    "        \"\"\"repeats the given interval until another piece is run into. \n",
    "        if that piece is not of the same color, that square is added and\n",
    "         then the list is returned\"\"\"\n",
    "        answers = []\n",
    "        for xint,yint in intervals:\n",
    "            xtemp,ytemp = x+xint,y+yint\n",
    "            while self.isInBounds(xtemp,ytemp):\n",
    "                #print(str((xtemp,ytemp))+\"is in bounds\")\n",
    "                \n",
    "                target = gameboard.get((xtemp,ytemp),None)\n",
    "                if target is None: answers.append((xtemp,ytemp))\n",
    "                elif target.Color != Color: \n",
    "                    answers.append((xtemp,ytemp))\n",
    "                    break\n",
    "                else:\n",
    "                    break\n",
    "                \n",
    "                xtemp,ytemp = xtemp + xint,ytemp + yint\n",
    "        return answers\n",
    "                \n",
    "    def isInBounds(self,x,y):\n",
    "        \"checks if a position is on the board\"\n",
    "        if x >= 0 and x < 8 and y >= 0 and y < 8:\n",
    "            return True\n",
    "        return False\n",
    "    \n",
    "    def noConflict(self,gameboard,initialColor,x,y):\n",
    "        \"checks if a single position poses no conflict to the rules of chess\"\n",
    "        if self.isInBounds(x,y) and (((x,y) not in gameboard) or gameboard[(x,y)].Color != initialColor) : return True\n",
    "        return False\n",
    "        \n",
    "        \n",
    "chessCardinals = [(1,0),(0,1),(-1,0),(0,-1)]\n",
    "chessDiagonals = [(1,1),(-1,1),(1,-1),(-1,-1)]\n",
    "\n",
    "def knightList(x,y,int1,int2):\n",
    "    \"\"\"sepcifically for the rook, permutes the values needed around a position for noConflict tests\"\"\"\n",
    "    return [(x+int1,y+int2),(x-int1,y+int2),(x+int1,y-int2),(x-int1,y-int2),(x+int2,y+int1),(x-int2,y+int1),(x+int2,y-int1),(x-int2,y-int1)]\n",
    "def kingList(x,y):\n",
    "    return [(x+1,y),(x+1,y+1),(x+1,y-1),(x,y+1),(x,y-1),(x-1,y),(x-1,y+1),(x-1,y-1)]\n",
    "\n",
    "\n",
    "\n",
    "class Knight(Piece):\n",
    "    def availableMoves(self,x,y,gameboard, Color = None):\n",
    "        if Color is None : Color = self.Color\n",
    "        return [(xx,yy) for xx,yy in knightList(x,y,2,1) if self.noConflict(gameboard, Color, xx, yy)]\n",
    "        \n",
    "class Rook(Piece):\n",
    "    def availableMoves(self,x,y,gameboard ,Color = None):\n",
    "        if Color is None : Color = self.Color\n",
    "        return self.AdNauseum(x, y, gameboard, Color, chessCardinals)\n",
    "        \n",
    "class Bishop(Piece):\n",
    "    def availableMoves(self,x,y,gameboard, Color = None):\n",
    "        if Color is None : Color = self.Color\n",
    "        return self.AdNauseum(x, y, gameboard, Color, chessDiagonals)\n",
    "        \n",
    "class Queen(Piece):\n",
    "    def availableMoves(self,x,y,gameboard, Color = None):\n",
    "        if Color is None : Color = self.Color\n",
    "        return self.AdNauseum(x, y, gameboard, Color, chessCardinals+chessDiagonals)\n",
    "        \n",
    "class King(Piece):\n",
    "    def availableMoves(self,x,y,gameboard, Color = None):\n",
    "        if Color is None : Color = self.Color\n",
    "        return [(xx,yy) for xx,yy in kingList(x,y) if self.noConflict(gameboard, Color, xx, yy)]\n",
    "        \n",
    "class Pawn(Piece):\n",
    "    def __init__(self,color,name,direction):\n",
    "        self.name = name\n",
    "        self.Color = color\n",
    "        #of course, the smallest piece is the hardest to code. direction should be either 1 or -1, should be -1 if the pawn is traveling \"backwards\"\n",
    "        self.direction = direction\n",
    "    def availableMoves(self,x,y,gameboard, Color = None):\n",
    "        if Color is None : Color = self.Color\n",
    "        answers = []\n",
    "        if (x+1,y+self.direction) in gameboard and self.noConflict(gameboard, Color, x+1, y+self.direction) : answers.append((x+1,y+self.direction))\n",
    "        if (x-1,y+self.direction) in gameboard and self.noConflict(gameboard, Color, x-1, y+self.direction) : answers.append((x-1,y+self.direction))\n",
    "        if (x,y+self.direction) not in gameboard and Color == self.Color : answers.append((x,y+self.direction))# the condition after the and is to make sure the non-capturing movement (the only fucking one in the game) is not used in the calculation of checkmate\n",
    "        return answers\n",
    "\n",
    "uniDict = {WHITE : {Pawn : \"♙\", Rook : \"♖\", Knight : \"♘\", Bishop : \"♗\", King : \"♔\", Queen : \"♕\" }, BLACK : {Pawn : \"♟\", Rook : \"♜\", Knight : \"♞\", Bishop : \"♝\", King : \"♚\", Queen : \"♛\" }}"
   ]
  },
  {
   "cell_type": "code",
   "execution_count": 18,
   "id": "vocational-minnesota",
   "metadata": {},
   "outputs": [
    {
     "data": {
      "text/plain": [
       "'game class. contains the following members and methods:\\ntwo arrays of pieces for each player\\n8x8 piece array with references to these pieces\\na parse function, which turns the input from the user into a list of two tuples denoting start and end points\\na checkmateExists function which checks if either players are in checkmate\\na checkExists function which checks if either players are in check (woah, I just got that nonsequitur)\\na main loop, which takes input, runs it through the parser, asks the piece if the move is valid, and moves the piece if it is. \\nif the move conflicts with another piece, that piece is removed. ischeck(mate) is run, and if there is a checkmate, \\nthe game prints a message as to who wins\\n'"
      ]
     },
     "execution_count": 18,
     "metadata": {},
     "output_type": "execute_result"
    }
   ],
   "source": [
    "\"\"\"game class. contains the following members and methods:\n",
    "two arrays of pieces for each player\n",
    "8x8 piece array with references to these pieces\n",
    "a parse function, which turns the input from the user into a list of two tuples denoting start and end points\n",
    "a checkmateExists function which checks if either players are in checkmate\n",
    "a checkExists function which checks if either players are in check (woah, I just got that nonsequitur)\n",
    "a main loop, which takes input, runs it through the parser, asks the piece if the move is valid, and moves the piece if it is. \n",
    "if the move conflicts with another piece, that piece is removed. ischeck(mate) is run, and if there is a checkmate, \n",
    "the game prints a message as to who wins\n",
    "\"\"\""
   ]
  },
  {
   "cell_type": "code",
   "execution_count": 19,
   "id": "oriental-sheffield",
   "metadata": {},
   "outputs": [
    {
     "name": "stdout",
     "output_type": "stream",
     "text": [
      "chess program. enter moves in algebraic notation separated by space\n"
     ]
    }
   ],
   "source": [
    "g = Game()"
   ]
  },
  {
   "cell_type": "code",
   "execution_count": 20,
   "id": "charitable-person",
   "metadata": {},
   "outputs": [
    {
     "data": {
      "text/plain": [
       "{(0, 1): ♙,\n",
       " (0, 6): ♟,\n",
       " (1, 1): ♙,\n",
       " (1, 6): ♟,\n",
       " (2, 1): ♙,\n",
       " (2, 6): ♟,\n",
       " (3, 1): ♙,\n",
       " (3, 6): ♟,\n",
       " (4, 1): ♙,\n",
       " (4, 6): ♟,\n",
       " (5, 1): ♙,\n",
       " (5, 6): ♟,\n",
       " (6, 1): ♙,\n",
       " (6, 6): ♟,\n",
       " (7, 1): ♙,\n",
       " (7, 6): ♟,\n",
       " (0, 0): ♖,\n",
       " (7, 7): ♜,\n",
       " (1, 0): ♘,\n",
       " (6, 7): ♞,\n",
       " (2, 0): ♗,\n",
       " (5, 7): ♝,\n",
       " (3, 0): ♕,\n",
       " (4, 7): ♛,\n",
       " (4, 0): ♔,\n",
       " (3, 7): ♚,\n",
       " (5, 0): ♗,\n",
       " (2, 7): ♝,\n",
       " (6, 0): ♘,\n",
       " (1, 7): ♞,\n",
       " (7, 0): ♖,\n",
       " (0, 7): ♜}"
      ]
     },
     "execution_count": 20,
     "metadata": {},
     "output_type": "execute_result"
    }
   ],
   "source": [
    "g.gameboard"
   ]
  },
  {
   "cell_type": "code",
   "execution_count": 25,
   "id": "hearing-marriage",
   "metadata": {},
   "outputs": [],
   "source": [
    "def printBoard(self):\n",
    "    print(\"  1 | 2 | 3 | 4 | 5 | 6 | 7 | 8 |\")\n",
    "    for i in range(0,8):\n",
    "        print(\"-\"*32)\n",
    "        print(chr(i+97),end=\"|\")\n",
    "        for j in range(0,8):\n",
    "            item = self.gameboard.get((i,7-j),\" \")\n",
    "            print(str(item)+' |', end = \" \")\n",
    "        print()\n",
    "    print(\"-\"*32)"
   ]
  },
  {
   "cell_type": "code",
   "execution_count": 26,
   "id": "regional-yacht",
   "metadata": {},
   "outputs": [
    {
     "name": "stdout",
     "output_type": "stream",
     "text": [
      "  1 | 2 | 3 | 4 | 5 | 6 | 7 | 8 |\n",
      "--------------------------------\n",
      "a|♜ | ♟ |   |   |   |   | ♙ | ♖ | \n",
      "--------------------------------\n",
      "b|♞ | ♟ |   |   |   |   | ♙ | ♘ | \n",
      "--------------------------------\n",
      "c|♝ | ♟ |   |   |   |   | ♙ | ♗ | \n",
      "--------------------------------\n",
      "d|♚ | ♟ |   |   |   |   | ♙ | ♕ | \n",
      "--------------------------------\n",
      "e|♛ | ♟ |   |   |   |   | ♙ | ♔ | \n",
      "--------------------------------\n",
      "f|♝ | ♟ |   |   |   |   | ♙ | ♗ | \n",
      "--------------------------------\n",
      "g|♞ | ♟ |   |   |   |   | ♙ | ♘ | \n",
      "--------------------------------\n",
      "h|♜ | ♟ |   |   |   |   | ♙ | ♖ | \n",
      "--------------------------------\n"
     ]
    }
   ],
   "source": [
    "printBoard(g)"
   ]
  },
  {
   "cell_type": "code",
   "execution_count": null,
   "id": "basic-cleanup",
   "metadata": {},
   "outputs": [],
   "source": []
  },
  {
   "cell_type": "code",
   "execution_count": 22,
   "id": "specific-nowhere",
   "metadata": {},
   "outputs": [
    {
     "data": {
      "text/plain": [
       "'h'"
      ]
     },
     "execution_count": 22,
     "metadata": {},
     "output_type": "execute_result"
    }
   ],
   "source": [
    "chr(7+97)"
   ]
  },
  {
   "cell_type": "code",
   "execution_count": 17,
   "id": "danish-delicious",
   "metadata": {},
   "outputs": [
    {
     "data": {
      "text/plain": [
       "\u001b[0;31mSignature:\u001b[0m \u001b[0mg\u001b[0m\u001b[0;34m.\u001b[0m\u001b[0mplacePieces\u001b[0m\u001b[0;34m(\u001b[0m\u001b[0;34m)\u001b[0m\u001b[0;34m\u001b[0m\u001b[0;34m\u001b[0m\u001b[0m\n",
       "\u001b[0;31mDocstring:\u001b[0m <no docstring>\n",
       "\u001b[0;31mFile:\u001b[0m      ~/Workspace/TEC🐉/tec-lab/Lab14/<ipython-input-10-9693d9d94d41>\n",
       "\u001b[0;31mType:\u001b[0m      method\n"
      ]
     },
     "metadata": {},
     "output_type": "display_data"
    }
   ],
   "source": [
    "g.placePieces?"
   ]
  },
  {
   "cell_type": "code",
   "execution_count": 14,
   "id": "dental-identity",
   "metadata": {},
   "outputs": [
    {
     "data": {
      "text/plain": [
       "{(0, 1): ♙,\n",
       " (0, 6): ♟,\n",
       " (1, 1): ♙,\n",
       " (1, 6): ♟,\n",
       " (2, 1): ♙,\n",
       " (2, 6): ♟,\n",
       " (3, 1): ♙,\n",
       " (3, 6): ♟,\n",
       " (4, 1): ♙,\n",
       " (4, 6): ♟,\n",
       " (5, 1): ♙,\n",
       " (5, 6): ♟,\n",
       " (6, 1): ♙,\n",
       " (6, 6): ♟,\n",
       " (7, 1): ♙,\n",
       " (7, 6): ♟,\n",
       " (0, 0): ♖,\n",
       " (7, 7): ♜,\n",
       " (1, 0): ♘,\n",
       " (6, 7): ♞,\n",
       " (2, 0): ♗,\n",
       " (5, 7): ♝,\n",
       " (3, 0): ♕,\n",
       " (4, 7): ♛,\n",
       " (4, 0): ♔,\n",
       " (3, 7): ♚,\n",
       " (5, 0): ♗,\n",
       " (2, 7): ♝,\n",
       " (6, 0): ♘,\n",
       " (1, 7): ♞,\n",
       " (7, 0): ♖,\n",
       " (0, 7): ♜}"
      ]
     },
     "execution_count": 14,
     "metadata": {},
     "output_type": "execute_result"
    }
   ],
   "source": [
    "g.gameboard"
   ]
  },
  {
   "cell_type": "code",
   "execution_count": 32,
   "id": "backed-terminology",
   "metadata": {},
   "outputs": [],
   "source": [
    "target = g.gameboard[(0,1)]"
   ]
  },
  {
   "cell_type": "code",
   "execution_count": null,
   "id": "crude-wisdom",
   "metadata": {},
   "outputs": [],
   "source": []
  },
  {
   "cell_type": "code",
   "execution_count": 36,
   "id": "legitimate-voltage",
   "metadata": {},
   "outputs": [
    {
     "data": {
      "text/plain": [
       "[(0, 2)]"
      ]
     },
     "execution_count": 36,
     "metadata": {},
     "output_type": "execute_result"
    }
   ],
   "source": [
    "target.availableMoves(0,1,g.gameboard)"
   ]
  },
  {
   "cell_type": "code",
   "execution_count": 37,
   "id": "rolled-prague",
   "metadata": {},
   "outputs": [
    {
     "data": {
      "text/plain": [
       "'white'"
      ]
     },
     "execution_count": 37,
     "metadata": {},
     "output_type": "execute_result"
    }
   ],
   "source": [
    "target.Color"
   ]
  },
  {
   "cell_type": "code",
   "execution_count": null,
   "id": "partial-negotiation",
   "metadata": {},
   "outputs": [],
   "source": [
    "        while True:\n",
    "            self.printBoard()\n",
    "            print(self.message)\n",
    "            self.message = \"\"\n",
    "            startpos,endpos = self.parseInput()\n",
    "            try:\n",
    "                target = self.gameboard[startpos]\n",
    "            except:\n",
    "                self.message = \"could not find piece; index probably out of range\"\n",
    "                target = None\n",
    "                \n",
    "            if target:\n",
    "                print(\"found \"+str(target))\n",
    "                if target.Color != self.playersturn:\n",
    "                    self.message = \"you aren't allowed to move that piece this turn\"\n",
    "                    continue\n",
    "                if target.isValid(startpos,endpos,target.Color,self.gameboard):\n",
    "                    self.message = \"that is a valid move\"\n",
    "                    self.gameboard[endpos] = self.gameboard[startpos]\n",
    "                    del self.gameboard[startpos]\n",
    "                    self.isCheck()\n",
    "                    if self.playersturn == BLACK:\n",
    "                        self.playersturn = WHITE\n",
    "                    else : self.playersturn = BLACK\n",
    "                else : \n",
    "                    self.message = \"invalid move\" + str(target.availableMoves(startpos[0],startpos[1],self.gameboard))\n",
    "                    print(target.availableMoves(startpos[0],startpos[1],self.gameboard))\n",
    "            else : self.message = \"there is no piece in that space\""
   ]
  },
  {
   "cell_type": "code",
   "execution_count": 38,
   "id": "developing-attention",
   "metadata": {},
   "outputs": [],
   "source": [
    "# cadCAD configuration\n",
    "from cadCAD.configuration.utils import  config_sim\n",
    "from cadCAD.configuration import Experiment\n",
    "\n",
    "# cadCAD Engine\n",
    "from cadCAD.engine import ExecutionMode, ExecutionContext\n",
    "from cadCAD.engine import Executor\n",
    "\n",
    "# cadCAD global simulation configuration list\n",
    "from cadCAD import configs\n",
    "\n",
    "import numpy as np"
   ]
  },
  {
   "cell_type": "code",
   "execution_count": 39,
   "id": "spiritual-columbia",
   "metadata": {},
   "outputs": [],
   "source": [
    "# List of all the state variables in the system and their initial values\n",
    "system_params = {\n",
    "    'example': [1], # number of created portfolios\n",
    "}"
   ]
  },
  {
   "cell_type": "code",
   "execution_count": 43,
   "id": "twelve-provincial",
   "metadata": {},
   "outputs": [
    {
     "data": {
      "text/plain": [
       "'black'"
      ]
     },
     "execution_count": 43,
     "metadata": {},
     "output_type": "execute_result"
    }
   ],
   "source": [
    "g.playersturn"
   ]
  },
  {
   "cell_type": "code",
   "execution_count": 50,
   "id": "cutting-browser",
   "metadata": {},
   "outputs": [],
   "source": []
  },
  {
   "cell_type": "code",
   "execution_count": 51,
   "id": "absent-groove",
   "metadata": {},
   "outputs": [
    {
     "data": {
      "text/plain": [
       "{(0, 1): ♙,\n",
       " (1, 1): ♙,\n",
       " (2, 1): ♙,\n",
       " (3, 1): ♙,\n",
       " (4, 1): ♙,\n",
       " (5, 1): ♙,\n",
       " (6, 1): ♙,\n",
       " (7, 1): ♙,\n",
       " (0, 0): ♖,\n",
       " (1, 0): ♘,\n",
       " (2, 0): ♗,\n",
       " (3, 0): ♕,\n",
       " (4, 0): ♔,\n",
       " (5, 0): ♗,\n",
       " (6, 0): ♘,\n",
       " (7, 0): ♖}"
      ]
     },
     "execution_count": 51,
     "metadata": {},
     "output_type": "execute_result"
    }
   ],
   "source": [
    "current_players_pieces"
   ]
  },
  {
   "cell_type": "code",
   "execution_count": 55,
   "id": "trying-nowhere",
   "metadata": {},
   "outputs": [],
   "source": [
    "piece = current_players_pieces[(0,1)]"
   ]
  },
  {
   "cell_type": "code",
   "execution_count": 56,
   "id": "operating-strengthening",
   "metadata": {},
   "outputs": [
    {
     "data": {
      "text/plain": [
       "♙"
      ]
     },
     "execution_count": 56,
     "metadata": {},
     "output_type": "execute_result"
    }
   ],
   "source": [
    "piece"
   ]
  },
  {
   "cell_type": "code",
   "execution_count": null,
   "id": "different-estonia",
   "metadata": {},
   "outputs": [],
   "source": [
    "piece."
   ]
  },
  {
   "cell_type": "code",
   "execution_count": null,
   "id": "fossil-evaluation",
   "metadata": {},
   "outputs": [],
   "source": [
    "piece = c"
   ]
  },
  {
   "cell_type": "code",
   "execution_count": 66,
   "id": "identified-hospital",
   "metadata": {},
   "outputs": [],
   "source": [
    "def get_current_players_available_moves(g):\n",
    "    current_players_pieces = {position:piece for position,piece in g.gameboard.items() if piece.Color != g.playersturn}\n",
    "    available_moves = []\n",
    "    for position, piece, in current_players_pieces.items():    \n",
    "        available_moves.append({piece: piece.availableMoves(*position, g.gameboard)})\n",
    "    return available_moves"
   ]
  },
  {
   "cell_type": "code",
   "execution_count": 67,
   "id": "perceived-disorder",
   "metadata": {},
   "outputs": [
    {
     "data": {
      "text/plain": [
       "[{♙: [(0, 2)]},\n",
       " {♙: [(1, 2)]},\n",
       " {♙: [(2, 2)]},\n",
       " {♙: [(3, 2)]},\n",
       " {♙: [(4, 2)]},\n",
       " {♙: [(5, 2)]},\n",
       " {♙: [(6, 2)]},\n",
       " {♙: [(7, 2)]},\n",
       " {♖: []},\n",
       " {♘: [(2, 2), (0, 2)]},\n",
       " {♗: []},\n",
       " {♕: []},\n",
       " {♔: []},\n",
       " {♗: []},\n",
       " {♘: [(7, 2), (5, 2)]},\n",
       " {♖: []}]"
      ]
     },
     "execution_count": 67,
     "metadata": {},
     "output_type": "execute_result"
    }
   ],
   "source": []
  },
  {
   "cell_type": "code",
   "execution_count": 89,
   "id": "norman-development",
   "metadata": {},
   "outputs": [],
   "source": [
    "import ast\n"
   ]
  },
  {
   "cell_type": "code",
   "execution_count": 113,
   "id": "circular-upgrade",
   "metadata": {},
   "outputs": [
    {
     "data": {
      "text/plain": [
       "[{♙: [(0, 2)]},\n",
       " {♙: [(1, 2)]},\n",
       " {♙: [(2, 2)]},\n",
       " {♙: [(3, 2)]},\n",
       " {♙: [(4, 2)]},\n",
       " {♙: [(5, 2)]},\n",
       " {♙: [(6, 2)]},\n",
       " {♙: [(7, 2)]},\n",
       " {♖: []},\n",
       " {♘: [(2, 2), (0, 2)]},\n",
       " {♗: []},\n",
       " {♕: []},\n",
       " {♔: []},\n",
       " {♗: []},\n",
       " {♘: [(7, 2), (5, 2)]},\n",
       " {♖: []}]"
      ]
     },
     "execution_count": 113,
     "metadata": {},
     "output_type": "execute_result"
    }
   ],
   "source": [
    "[p for p in get_current_players_available_moves(g) if len(list(p.values()))]"
   ]
  },
  {
   "cell_type": "code",
   "execution_count": 117,
   "id": "devoted-chosen",
   "metadata": {},
   "outputs": [
    {
     "data": {
      "text/plain": [
       "1"
      ]
     },
     "execution_count": 117,
     "metadata": {},
     "output_type": "execute_result"
    }
   ],
   "source": [
    "len(list(random_piece.values()))"
   ]
  },
  {
   "cell_type": "code",
   "execution_count": 116,
   "id": "ideal-adrian",
   "metadata": {},
   "outputs": [],
   "source": [
    "random_piece = np.random.choice(get_current_players_available_moves(g))"
   ]
  },
  {
   "cell_type": "code",
   "execution_count": 106,
   "id": "quick-cruise",
   "metadata": {},
   "outputs": [
    {
     "data": {
      "text/plain": [
       "{♙: [(4, 2)]}"
      ]
     },
     "execution_count": 106,
     "metadata": {},
     "output_type": "execute_result"
    }
   ],
   "source": [
    "random_piece"
   ]
  },
  {
   "cell_type": "code",
   "execution_count": 107,
   "id": "activated-stylus",
   "metadata": {},
   "outputs": [
    {
     "data": {
      "text/plain": [
       "[[(4, 2)]]"
      ]
     },
     "execution_count": 107,
     "metadata": {},
     "output_type": "execute_result"
    }
   ],
   "source": [
    "list(random_piece.values())"
   ]
  },
  {
   "cell_type": "code",
   "execution_count": 95,
   "id": "specialized-exception",
   "metadata": {},
   "outputs": [
    {
     "data": {
      "text/plain": [
       "[{♙: [(0, 2)]},\n",
       " {♙: [(1, 2)]},\n",
       " {♙: [(2, 2)]},\n",
       " {♙: [(3, 2)]},\n",
       " {♙: [(4, 2)]},\n",
       " {♙: [(5, 2)]},\n",
       " {♙: [(6, 2)]},\n",
       " {♙: [(7, 2)]},\n",
       " {♖: []},\n",
       " {♘: [(2, 2), (0, 2)]},\n",
       " {♗: []},\n",
       " {♕: []},\n",
       " {♔: []},\n",
       " {♗: []},\n",
       " {♘: [(7, 2), (5, 2)]},\n",
       " {♖: []}]"
      ]
     },
     "execution_count": 95,
     "metadata": {},
     "output_type": "execute_result"
    }
   ],
   "source": [
    "get_current_players_available_moves(g)"
   ]
  },
  {
   "cell_type": "code",
   "execution_count": 93,
   "id": "addressed-tongue",
   "metadata": {},
   "outputs": [
    {
     "ename": "ValueError",
     "evalue": "'a' cannot be empty unless no samples are taken",
     "output_type": "error",
     "traceback": [
      "\u001b[0;31m---------------------------------------------------------------------------\u001b[0m",
      "\u001b[0;31mValueError\u001b[0m                                Traceback (most recent call last)",
      "\u001b[0;32m<ipython-input-93-70a21f8ee0f7>\u001b[0m in \u001b[0;36m<module>\u001b[0;34m\u001b[0m\n\u001b[1;32m      1\u001b[0m \u001b[0mmoves\u001b[0m \u001b[0;34m=\u001b[0m \u001b[0;34m[\u001b[0m\u001b[0mstr\u001b[0m\u001b[0;34m(\u001b[0m\u001b[0ma\u001b[0m\u001b[0;34m)\u001b[0m \u001b[0;32mfor\u001b[0m \u001b[0ma\u001b[0m \u001b[0;32min\u001b[0m \u001b[0mlist\u001b[0m\u001b[0;34m(\u001b[0m\u001b[0mrandom_piece\u001b[0m\u001b[0;34m.\u001b[0m\u001b[0mvalues\u001b[0m\u001b[0;34m(\u001b[0m\u001b[0;34m)\u001b[0m\u001b[0;34m)\u001b[0m\u001b[0;34m[\u001b[0m\u001b[0;36m0\u001b[0m\u001b[0;34m]\u001b[0m\u001b[0;34m]\u001b[0m\u001b[0;34m\u001b[0m\u001b[0;34m\u001b[0m\u001b[0m\n\u001b[0;32m----> 2\u001b[0;31m \u001b[0mast\u001b[0m\u001b[0;34m.\u001b[0m\u001b[0mliteral_eval\u001b[0m\u001b[0;34m(\u001b[0m\u001b[0mnp\u001b[0m\u001b[0;34m.\u001b[0m\u001b[0mrandom\u001b[0m\u001b[0;34m.\u001b[0m\u001b[0mchoice\u001b[0m\u001b[0;34m(\u001b[0m\u001b[0mmoves\u001b[0m\u001b[0;34m)\u001b[0m\u001b[0;34m)\u001b[0m\u001b[0;34m\u001b[0m\u001b[0;34m\u001b[0m\u001b[0m\n\u001b[0m",
      "\u001b[0;32mmtrand.pyx\u001b[0m in \u001b[0;36mnumpy.random.mtrand.RandomState.choice\u001b[0;34m()\u001b[0m\n",
      "\u001b[0;31mValueError\u001b[0m: 'a' cannot be empty unless no samples are taken"
     ]
    }
   ],
   "source": [
    "moves = [str(a) for a in list(random_piece.values())[0]]\n",
    "ast.literal_eval(np.random.choice(moves))"
   ]
  },
  {
   "cell_type": "code",
   "execution_count": 94,
   "id": "failing-enhancement",
   "metadata": {},
   "outputs": [
    {
     "data": {
      "text/plain": [
       "{♕: []}"
      ]
     },
     "execution_count": 94,
     "metadata": {},
     "output_type": "execute_result"
    }
   ],
   "source": [
    "random_piece"
   ]
  },
  {
   "cell_type": "code",
   "execution_count": null,
   "id": "frequent-helicopter",
   "metadata": {},
   "outputs": [],
   "source": []
  },
  {
   "cell_type": "code",
   "execution_count": 86,
   "id": "crazy-accused",
   "metadata": {},
   "outputs": [
    {
     "data": {
      "text/plain": [
       "'(1, 2)'"
      ]
     },
     "execution_count": 86,
     "metadata": {},
     "output_type": "execute_result"
    }
   ],
   "source": [
    "np.random.choice(a)"
   ]
  },
  {
   "cell_type": "code",
   "execution_count": 87,
   "id": "flush-graduation",
   "metadata": {},
   "outputs": [
    {
     "data": {
      "text/plain": [
       "(1, 2)"
      ]
     },
     "execution_count": 87,
     "metadata": {},
     "output_type": "execute_result"
    }
   ],
   "source": []
  },
  {
   "cell_type": "code",
   "execution_count": 76,
   "id": "incorporated-locking",
   "metadata": {},
   "outputs": [
    {
     "ename": "ValueError",
     "evalue": "a must be 1-dimensional",
     "output_type": "error",
     "traceback": [
      "\u001b[0;31m---------------------------------------------------------------------------\u001b[0m",
      "\u001b[0;31mValueError\u001b[0m                                Traceback (most recent call last)",
      "\u001b[0;32m<ipython-input-76-ef87242b96f8>\u001b[0m in \u001b[0;36m<module>\u001b[0;34m\u001b[0m\n\u001b[0;32m----> 1\u001b[0;31m \u001b[0mnp\u001b[0m\u001b[0;34m.\u001b[0m\u001b[0mrandom\u001b[0m\u001b[0;34m.\u001b[0m\u001b[0mchoice\u001b[0m\u001b[0;34m(\u001b[0m\u001b[0mlist\u001b[0m\u001b[0;34m(\u001b[0m\u001b[0mrandom_piece\u001b[0m\u001b[0;34m.\u001b[0m\u001b[0mvalues\u001b[0m\u001b[0;34m(\u001b[0m\u001b[0;34m)\u001b[0m\u001b[0;34m)\u001b[0m\u001b[0;34m[\u001b[0m\u001b[0;36m0\u001b[0m\u001b[0;34m]\u001b[0m\u001b[0;34m)\u001b[0m\u001b[0;34m\u001b[0m\u001b[0;34m\u001b[0m\u001b[0m\n\u001b[0m",
      "\u001b[0;32mmtrand.pyx\u001b[0m in \u001b[0;36mnumpy.random.mtrand.RandomState.choice\u001b[0;34m()\u001b[0m\n",
      "\u001b[0;31mValueError\u001b[0m: a must be 1-dimensional"
     ]
    }
   ],
   "source": [
    "np.random.choice(list(random_piece.values())[0])"
   ]
  },
  {
   "cell_type": "code",
   "execution_count": 63,
   "id": "quick-constant",
   "metadata": {},
   "outputs": [
    {
     "data": {
      "text/plain": [
       "[{♙: [(0, 2)]},\n",
       " {♙: [(1, 2)]},\n",
       " {♙: [(2, 2)]},\n",
       " {♙: [(3, 2)]},\n",
       " {♙: [(4, 2)]},\n",
       " {♙: [(5, 2)]},\n",
       " {♙: [(6, 2)]},\n",
       " {♙: [(7, 2)]},\n",
       " {♖: []},\n",
       " {♘: [(2, 2), (0, 2)]},\n",
       " {♗: []},\n",
       " {♕: []},\n",
       " {♔: []},\n",
       " {♗: []},\n",
       " {♘: [(7, 2), (5, 2)]},\n",
       " {♖: []}]"
      ]
     },
     "execution_count": 63,
     "metadata": {},
     "output_type": "execute_result"
    }
   ],
   "source": [
    "available_moves"
   ]
  },
  {
   "cell_type": "code",
   "execution_count": null,
   "id": "typical-procedure",
   "metadata": {},
   "outputs": [],
   "source": [
    "\n",
    "    \n",
    "    \n",
    "    print(\"  1 | 2 | 3 | 4 | 5 | 6 | 7 | 8 |\")\n",
    "    for i in range(0,8):\n",
    "        print(\"-\"*32)\n",
    "        print(chr(i+97),end=\"|\")\n",
    "        for j in range(0,8):\n",
    "            item = self.gameboard.get((i,7-j),\" \")\n",
    "            print(str(item)+' |', end = \" \")\n",
    "        print()\n",
    "    print(\"-\"*32)"
   ]
  },
  {
   "cell_type": "code",
   "execution_count": 45,
   "id": "collected-michael",
   "metadata": {},
   "outputs": [
    {
     "data": {
      "text/plain": [
       "'white'"
      ]
     },
     "execution_count": 45,
     "metadata": {},
     "output_type": "execute_result"
    }
   ],
   "source": [
    "g.gameboard[(0,1)].Color"
   ]
  },
  {
   "cell_type": "code",
   "execution_count": 47,
   "id": "insured-trailer",
   "metadata": {},
   "outputs": [
    {
     "data": {
      "text/plain": [
       "{0: 7, 1: 7, 2: 7, 3: 7, 4: 0, 5: 0, 6: 0, 7: 0}"
      ]
     },
     "execution_count": 47,
     "metadata": {},
     "output_type": "execute_result"
    }
   ],
   "source": [
    "{position:piece for position,piece in g.gameboard}"
   ]
  },
  {
   "cell_type": "code",
   "execution_count": 42,
   "id": "breathing-conditioning",
   "metadata": {},
   "outputs": [
    {
     "data": {
      "text/plain": [
       "{(0, 1): ♙,\n",
       " (0, 6): ♟,\n",
       " (1, 1): ♙,\n",
       " (1, 6): ♟,\n",
       " (2, 1): ♙,\n",
       " (2, 6): ♟,\n",
       " (3, 1): ♙,\n",
       " (3, 6): ♟,\n",
       " (4, 1): ♙,\n",
       " (4, 6): ♟,\n",
       " (5, 1): ♙,\n",
       " (5, 6): ♟,\n",
       " (6, 1): ♙,\n",
       " (6, 6): ♟,\n",
       " (7, 1): ♙,\n",
       " (7, 6): ♟,\n",
       " (0, 0): ♖,\n",
       " (7, 7): ♜,\n",
       " (1, 0): ♘,\n",
       " (6, 7): ♞,\n",
       " (2, 0): ♗,\n",
       " (5, 7): ♝,\n",
       " (3, 0): ♕,\n",
       " (4, 7): ♛,\n",
       " (4, 0): ♔,\n",
       " (3, 7): ♚,\n",
       " (5, 0): ♗,\n",
       " (2, 7): ♝,\n",
       " (6, 0): ♘,\n",
       " (1, 7): ♞,\n",
       " (7, 0): ♖,\n",
       " (0, 7): ♜}"
      ]
     },
     "execution_count": 42,
     "metadata": {},
     "output_type": "execute_result"
    }
   ],
   "source": [
    "g.gameboard"
   ]
  },
  {
   "cell_type": "code",
   "execution_count": 41,
   "id": "golden-ballot",
   "metadata": {},
   "outputs": [],
   "source": [
    "# List of all the state variables in the system and their initial values\n",
    "initial_state = {\n",
    "    # State of Portfolios\n",
    "    'game': g,\n",
    "    'finished': False,\n",
    "    'winner': None,\n",
    "    'move_number': 1,\n",
    "    'captured': ({}, {})\n",
    "}\n",
    "# # # # # # # # # # # # # # # # # # # # # # # # # # # # # # # # # # # # # # # # # # # # # # # # "
   ]
  },
  {
   "cell_type": "code",
   "execution_count": null,
   "id": "color-sixth",
   "metadata": {},
   "outputs": [],
   "source": [
    "g."
   ]
  },
  {
   "cell_type": "code",
   "execution_count": null,
   "id": "potential-tissue",
   "metadata": {},
   "outputs": [],
   "source": [
    "def p_progress_game(params, substep, state_history, previous_state):\n",
    "    game = previous_state['game']\n",
    "    \n",
    "    return {'organic_distribution': organic_distribution}\n"
   ]
  }
 ],
 "metadata": {
  "kernelspec": {
   "display_name": "Python 3",
   "language": "python",
   "name": "python3"
  },
  "language_info": {
   "codemirror_mode": {
    "name": "ipython",
    "version": 3
   },
   "file_extension": ".py",
   "mimetype": "text/x-python",
   "name": "python",
   "nbconvert_exporter": "python",
   "pygments_lexer": "ipython3",
   "version": "3.8.6"
  }
 },
 "nbformat": 4,
 "nbformat_minor": 5
}
