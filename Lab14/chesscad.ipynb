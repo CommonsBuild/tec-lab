{
 "cells": [
  {
   "cell_type": "code",
   "execution_count": 3,
   "id": "uniform-split",
   "metadata": {},
   "outputs": [],
   "source": [
    "import pandas as pd\n",
    "import numpy as np\n",
    "import hvplot.pandas\n",
    "\n",
    "# cadCAD configuration\n",
    "from cadCAD.configuration.utils import  config_sim\n",
    "from cadCAD.configuration import Experiment\n",
    "\n",
    "# cadCAD Engine\n",
    "from cadCAD.engine import ExecutionMode, ExecutionContext\n",
    "from cadCAD.engine import Executor\n",
    "\n",
    "# cadCAD global simulation configuration list\n",
    "from cadCAD import configs\n",
    "\n",
    "import numpy as np"
   ]
  },
  {
   "cell_type": "code",
   "execution_count": 4,
   "id": "collectible-copper",
   "metadata": {},
   "outputs": [],
   "source": [
    "# List of all the state variables in the system and their initial values\n",
    "system_params = {\n",
    "    'example': [1], # number of created portfolios\n",
    "}"
   ]
  },
  {
   "cell_type": "code",
   "execution_count": 5,
   "id": "married-discount",
   "metadata": {},
   "outputs": [],
   "source": [
    "black_pieces = ['R', 'N', 'B', 'Q', 'K', 'B', 'N', 'R']\n",
    "black_pawns = ['P', 'P', 'P', 'P', 'P', 'P', 'P', 'P']\n",
    "white_pieces = [p.lower() for p in black_pieces]\n",
    "white_pawns = [p.lower() for p in black_pawns]\n",
    "empty_row = ['0', '0', '0', '0', '0', '0', '0', '0']"
   ]
  },
  {
   "cell_type": "code",
   "execution_count": 6,
   "id": "shared-dimension",
   "metadata": {},
   "outputs": [
    {
     "data": {
      "text/plain": [
       "['r', 'n', 'b', 'q', 'k', 'b', 'n', 'r']"
      ]
     },
     "execution_count": 6,
     "metadata": {},
     "output_type": "execute_result"
    }
   ],
   "source": [
    "white_pieces"
   ]
  },
  {
   "cell_type": "code",
   "execution_count": 7,
   "id": "applied-macro",
   "metadata": {},
   "outputs": [
    {
     "data": {
      "text/plain": [
       "['p', 'p', 'p', 'p', 'p', 'p', 'p', 'p']"
      ]
     },
     "execution_count": 7,
     "metadata": {},
     "output_type": "execute_result"
    }
   ],
   "source": [
    "white_pawns"
   ]
  },
  {
   "cell_type": "code",
   "execution_count": 8,
   "id": "respected-leisure",
   "metadata": {},
   "outputs": [],
   "source": [
    "test_row = ['0', '0', '0', '0', 'R', '0', '0', '0']"
   ]
  },
  {
   "cell_type": "code",
   "execution_count": 9,
   "id": "parallel-seven",
   "metadata": {},
   "outputs": [],
   "source": [
    "board = [black_pieces, black_pawns, empty_row, empty_row, test_row, empty_row, white_pawns, white_pieces]"
   ]
  },
  {
   "cell_type": "code",
   "execution_count": 10,
   "id": "public-latitude",
   "metadata": {},
   "outputs": [
    {
     "data": {
      "text/plain": [
       "[['R', 'N', 'B', 'Q', 'K', 'B', 'N', 'R'],\n",
       " ['P', 'P', 'P', 'P', 'P', 'P', 'P', 'P'],\n",
       " ['0', '0', '0', '0', '0', '0', '0', '0'],\n",
       " ['0', '0', '0', '0', '0', '0', '0', '0'],\n",
       " ['0', '0', '0', '0', 'R', '0', '0', '0'],\n",
       " ['0', '0', '0', '0', '0', '0', '0', '0'],\n",
       " ['p', 'p', 'p', 'p', 'p', 'p', 'p', 'p'],\n",
       " ['r', 'n', 'b', 'q', 'k', 'b', 'n', 'r']]"
      ]
     },
     "execution_count": 10,
     "metadata": {},
     "output_type": "execute_result"
    }
   ],
   "source": [
    "board"
   ]
  },
  {
   "cell_type": "code",
   "execution_count": 44,
   "id": "political-niagara",
   "metadata": {},
   "outputs": [
    {
     "data": {
      "text/plain": [
       "[['R', 'N', 'B', 'Q', 'K', 'B', 'N', 'R'],\n",
       " ['P', 'P', 'P', 'P', 'P', 'P', 'P', 'P'],\n",
       " ['0', '0', '0', '0', '0', '0', '0', '0'],\n",
       " ['0', '0', '0', '0', '0', '0', '0', '0'],\n",
       " ['0', '0', '0', '0', 'R', '0', '0', '0'],\n",
       " ['0', '0', '0', '0', '0', '0', '0', '0'],\n",
       " ['p', 'p', 'p', 'p', 'p', 'p', 'p', 'p'],\n",
       " ['r', 'n', 'b', 'q', 'k', 'b', 'n', 'r']]"
      ]
     },
     "execution_count": 44,
     "metadata": {},
     "output_type": "execute_result"
    }
   ],
   "source": [
    "board"
   ]
  },
  {
   "cell_type": "code",
   "execution_count": 45,
   "id": "accepted-terrorist",
   "metadata": {},
   "outputs": [
    {
     "data": {
      "text/plain": [
       "'R'"
      ]
     },
     "execution_count": 45,
     "metadata": {},
     "output_type": "execute_result"
    }
   ],
   "source": [
    "board[4][4]"
   ]
  },
  {
   "cell_type": "code",
   "execution_count": 11,
   "id": "crazy-measure",
   "metadata": {},
   "outputs": [],
   "source": [
    "# List of all the state variables in the system and their initial values\n",
    "initial_state = {\n",
    "    # State of Portfolios\n",
    "    'board': board,\n",
    "    'turn': 'white',\n",
    "    'finished': False,\n",
    "    'winner': None,\n",
    "    'move_number': 1,\n",
    "    'captured': ({}, {})\n",
    "}\n",
    "# # # # # # # # # # # # # # # # # # # # # # # # # # # # # # # # # # # # # # # # # # # # # # # # "
   ]
  },
  {
   "cell_type": "code",
   "execution_count": 12,
   "id": "unauthorized-steps",
   "metadata": {},
   "outputs": [
    {
     "data": {
      "text/plain": [
       "'R'"
      ]
     },
     "execution_count": 12,
     "metadata": {},
     "output_type": "execute_result"
    }
   ],
   "source": [
    "board[0][0]"
   ]
  },
  {
   "cell_type": "code",
   "execution_count": 13,
   "id": "prerequisite-introduction",
   "metadata": {},
   "outputs": [],
   "source": [
    "i = 2\n",
    "j = 5"
   ]
  },
  {
   "cell_type": "code",
   "execution_count": 14,
   "id": "prostate-behalf",
   "metadata": {},
   "outputs": [
    {
     "data": {
      "text/plain": [
       "'0'"
      ]
     },
     "execution_count": 14,
     "metadata": {},
     "output_type": "execute_result"
    }
   ],
   "source": [
    "board[i][j]"
   ]
  },
  {
   "cell_type": "code",
   "execution_count": 16,
   "id": "foreign-retreat",
   "metadata": {},
   "outputs": [
    {
     "name": "stdout",
     "output_type": "stream",
     "text": [
      "7\n",
      "6\n",
      "5\n",
      "4\n",
      "3\n",
      "2\n",
      "1\n",
      "0\n"
     ]
    }
   ],
   "source": [
    "for k in range(7, -1, -1):\n",
    "    print(k)"
   ]
  },
  {
   "cell_type": "code",
   "execution_count": 32,
   "id": "preliminary-worry",
   "metadata": {},
   "outputs": [],
   "source": [
    "def move_allowed(board, k, j, player):\n",
    "    piece = board[k][j]\n",
    "    if piece == '0':\n",
    "        return -1\n",
    "    if player == 'white':\n",
    "        if piece.lower() == piece:\n",
    "            # This is our piece and we can not move here\n",
    "            return k\n",
    "        elif piece.upper() == piece:\n",
    "            # This is our opponents piece\n",
    "            return k+1\n",
    "        else:\n",
    "            print(\"We shouldnt end up here.\")\n",
    "            raise\n",
    "    if player == 'black':\n",
    "        if piece.lower() == piece:\n",
    "            # This is our enemy\n",
    "            return k+1\n",
    "        elif piece.upper() == piece:\n",
    "            # This is our piece\n",
    "            return k\n",
    "        else:\n",
    "            print(\"We shouldnt end up here.\")\n",
    "            raise"
   ]
  },
  {
   "cell_type": "code",
   "execution_count": 52,
   "id": "peaceful-interest",
   "metadata": {},
   "outputs": [],
   "source": [
    "def m_rook(board, i, j, player='white'):\n",
    "    max_up = None\n",
    "    max_left = None\n",
    "    max_right = None\n",
    "    max_down = None\n",
    "    #up\n",
    "    for k in range(i-1, -1, -1):\n",
    "        print(k, j)\n",
    "        allowed = move_allowed(board, k, j, player)\n",
    "        print(allowed)\n",
    "        if allowed == -1:\n",
    "            continue\n",
    "        else:\n",
    "            max_up = allowed\n",
    "            break\n",
    "            \n",
    "    # Left\n",
    "    for k in range(j-1, -1, -1):\n",
    "        allowed = move_allowed(board, k, j, player)\n",
    "        if allowed == -1:\n",
    "            continue\n",
    "        else:\n",
    "            max_left = allowed\n",
    "            break\n",
    "            \n",
    "    # Right\n",
    "    for k in range(i+1, 8, 1):\n",
    "#         print(k, j)\n",
    "        allowed = move_allowed(board, k, j, player)\n",
    "#         print(allowed)\n",
    "        if allowed == -1:\n",
    "            continue\n",
    "        else:\n",
    "            max_right = allowed\n",
    "            break\n",
    "            \n",
    "    # Down\n",
    "    for k in range(i+1, 8, 1):\n",
    "        allowed = move_allowed(board, k, j, player)\n",
    "        if allowed == -1:\n",
    "            continue\n",
    "        else:\n",
    "            max_down = allowed\n",
    "            break\n",
    "            \n",
    "    return(max_up, max_left, max_right, max_down)"
   ]
  },
  {
   "cell_type": "code",
   "execution_count": 53,
   "id": "pointed-response",
   "metadata": {},
   "outputs": [
    {
     "name": "stdout",
     "output_type": "stream",
     "text": [
      "3 4\n",
      "-1\n",
      "2 4\n",
      "-1\n",
      "1 4\n",
      "1\n"
     ]
    },
    {
     "data": {
      "text/plain": [
       "(1, 1, 7, 7)"
      ]
     },
     "execution_count": 53,
     "metadata": {},
     "output_type": "execute_result"
    }
   ],
   "source": [
    "m_rook(board, 4, 4, 'black')"
   ]
  },
  {
   "cell_type": "code",
   "execution_count": 54,
   "id": "little-radius",
   "metadata": {},
   "outputs": [
    {
     "data": {
      "text/plain": [
       "[['R', 'N', 'B', 'Q', 'K', 'B', 'N', 'R'],\n",
       " ['P', 'P', 'P', 'P', 'P', 'P', 'P', 'P'],\n",
       " ['0', '0', '0', '0', '0', '0', '0', '0'],\n",
       " ['0', '0', '0', '0', '0', '0', '0', '0'],\n",
       " ['0', '0', '0', '0', 'R', '0', '0', '0'],\n",
       " ['0', '0', '0', '0', '0', '0', '0', '0'],\n",
       " ['p', 'p', 'p', 'p', 'p', 'p', 'p', 'p'],\n",
       " ['r', 'n', 'b', 'q', 'k', 'b', 'n', 'r']]"
      ]
     },
     "execution_count": 54,
     "metadata": {},
     "output_type": "execute_result"
    }
   ],
   "source": [
    "board"
   ]
  },
  {
   "cell_type": "code",
   "execution_count": 49,
   "id": "collective-finish",
   "metadata": {},
   "outputs": [],
   "source": [
    "# Left to right a-h\n",
    "# Bottom to top 1-8"
   ]
  },
  {
   "cell_type": "code",
   "execution_count": 5,
   "id": "iraqi-graph",
   "metadata": {},
   "outputs": [],
   "source": [
    "def collude(previous_state):\n",
    "    return max(np.random.normal(previous_state['colluder_optimality_gap'], 0.1), 0)\n",
    "\n",
    "def dont_collude(previous_state):\n",
    "    return max(np.random.normal(previous_state['organic_optimality_gap'], 0.12), 0)"
   ]
  },
  {
   "cell_type": "code",
   "execution_count": 7,
   "id": "aquatic-split",
   "metadata": {},
   "outputs": [],
   "source": [
    "def p_organic_policy(params, substep, state_history, previous_state):\n",
    "    organic_distribution = dont_collude(previous_state)\n",
    "    return {'organic_distribution': organic_distribution}\n",
    "\n",
    "def p_colluder_policy(params, substep, state_history, previous_state):\n",
    "    colluder_distribution = collude(previous_state)\n",
    "    return {'colluder_distribution': colluder_distribution}"
   ]
  },
  {
   "cell_type": "code",
   "execution_count": 9,
   "id": "handled-active",
   "metadata": {},
   "outputs": [],
   "source": [
    "def s_organic_distribution(params, substep, state_history, previous_state, policy_input):\n",
    "    key = 'organic_distribution'\n",
    "    value = policy_input[key]\n",
    "    return (key, value)\n",
    "\n",
    "def s_colluder_distribution(params, substep, state_history, previous_state, policy_input):\n",
    "    key = 'colluder_distribution'\n",
    "    value = policy_input[key]\n",
    "    return (key, value)"
   ]
  },
  {
   "cell_type": "code",
   "execution_count": 10,
   "id": "entertaining-camel",
   "metadata": {},
   "outputs": [],
   "source": [
    "partial_state_update_blocks = [\n",
    "    {\n",
    "        'policies': {\n",
    "            'organic_policy': p_organic_policy,\n",
    "            'colluder_policy': p_colluder_policy,\n",
    "\n",
    "        },\n",
    "        'variables': {\n",
    "            'organic_distribution': s_organic_distribution,\n",
    "            'colluder_distribution': s_colluder_distribution,\n",
    "\n",
    "        }\n",
    "    }\n",
    "]"
   ]
  },
  {
   "cell_type": "code",
   "execution_count": 11,
   "id": "apparent-bruce",
   "metadata": {},
   "outputs": [],
   "source": [
    "del configs[:]\n",
    "\n",
    "sim_config = config_sim({\n",
    "    'N': 10, # Number of Monte Carlo Runs\n",
    "    'T': range(100), # Number of timesteps\n",
    "    'M': system_params,\n",
    "})\n",
    "experiment = Experiment()\n",
    "experiment.append_configs(\n",
    "    initial_state=initial_state,\n",
    "    partial_state_update_blocks=partial_state_update_blocks,\n",
    "    sim_configs=sim_config,\n",
    ")"
   ]
  },
  {
   "cell_type": "code",
   "execution_count": 12,
   "id": "canadian-mathematics",
   "metadata": {},
   "outputs": [],
   "source": [
    "exec_context = ExecutionContext()\n",
    "simulation = Executor(\n",
    "    exec_context=exec_context,\n",
    "    configs=configs,\n",
    ")"
   ]
  },
  {
   "cell_type": "code",
   "execution_count": 13,
   "id": "integral-continent",
   "metadata": {},
   "outputs": [
    {
     "name": "stdout",
     "output_type": "stream",
     "text": [
      "\n",
      "                  ___________    ____\n",
      "  ________ __ ___/ / ____/   |  / __ \\\n",
      " / ___/ __` / __  / /   / /| | / / / /\n",
      "/ /__/ /_/ / /_/ / /___/ ___ |/ /_/ /\n",
      "\\___/\\__,_/\\__,_/\\____/_/  |_/_____/\n",
      "by cadCAD\n",
      "\n",
      "Execution Mode: local_proc\n",
      "Configuration Count: 1\n",
      "Dimensions of the first simulation: (Timesteps, Params, Runs, Vars) = (100, 2, 10, 2)\n",
      "Execution Method: local_simulations\n",
      "SimIDs   : [0, 0, 0, 0, 0, 0, 0, 0, 0, 0]\n",
      "SubsetIDs: [0, 0, 0, 0, 0, 0, 0, 0, 0, 0]\n",
      "Ns       : [0, 1, 2, 3, 4, 5, 6, 7, 8, 9]\n",
      "ExpIDs   : [0, 0, 0, 0, 0, 0, 0, 0, 0, 0]\n",
      "Execution Mode: parallelized\n",
      "Total execution time: 0.16s\n"
     ]
    }
   ],
   "source": [
    "raw_result, tensor_field, sessions = simulation.execute()"
   ]
  },
  {
   "cell_type": "code",
   "execution_count": 14,
   "id": "particular-parameter",
   "metadata": {},
   "outputs": [
    {
     "data": {
      "text/html": [
       "<div>\n",
       "<style scoped>\n",
       "    .dataframe tbody tr th:only-of-type {\n",
       "        vertical-align: middle;\n",
       "    }\n",
       "\n",
       "    .dataframe tbody tr th {\n",
       "        vertical-align: top;\n",
       "    }\n",
       "\n",
       "    .dataframe thead th {\n",
       "        text-align: right;\n",
       "    }\n",
       "</style>\n",
       "<table border=\"1\" class=\"dataframe\">\n",
       "  <thead>\n",
       "    <tr style=\"text-align: right;\">\n",
       "      <th></th>\n",
       "      <th>organic_optimality_gap</th>\n",
       "      <th>colluder_optimality_gap</th>\n",
       "      <th>simulation</th>\n",
       "      <th>subset</th>\n",
       "      <th>run</th>\n",
       "      <th>substep</th>\n",
       "      <th>timestep</th>\n",
       "      <th>organic_distribution</th>\n",
       "      <th>colluder_distribution</th>\n",
       "    </tr>\n",
       "  </thead>\n",
       "  <tbody>\n",
       "    <tr>\n",
       "      <th>0</th>\n",
       "      <td>0.5</td>\n",
       "      <td>0.3</td>\n",
       "      <td>0</td>\n",
       "      <td>0</td>\n",
       "      <td>1</td>\n",
       "      <td>0</td>\n",
       "      <td>0</td>\n",
       "      <td>NaN</td>\n",
       "      <td>NaN</td>\n",
       "    </tr>\n",
       "    <tr>\n",
       "      <th>1</th>\n",
       "      <td>0.5</td>\n",
       "      <td>0.3</td>\n",
       "      <td>0</td>\n",
       "      <td>0</td>\n",
       "      <td>1</td>\n",
       "      <td>1</td>\n",
       "      <td>1</td>\n",
       "      <td>0.366867</td>\n",
       "      <td>0.217916</td>\n",
       "    </tr>\n",
       "    <tr>\n",
       "      <th>2</th>\n",
       "      <td>0.5</td>\n",
       "      <td>0.3</td>\n",
       "      <td>0</td>\n",
       "      <td>0</td>\n",
       "      <td>1</td>\n",
       "      <td>1</td>\n",
       "      <td>2</td>\n",
       "      <td>0.395652</td>\n",
       "      <td>0.356852</td>\n",
       "    </tr>\n",
       "    <tr>\n",
       "      <th>3</th>\n",
       "      <td>0.5</td>\n",
       "      <td>0.3</td>\n",
       "      <td>0</td>\n",
       "      <td>0</td>\n",
       "      <td>1</td>\n",
       "      <td>1</td>\n",
       "      <td>3</td>\n",
       "      <td>0.564924</td>\n",
       "      <td>0.357972</td>\n",
       "    </tr>\n",
       "    <tr>\n",
       "      <th>4</th>\n",
       "      <td>0.5</td>\n",
       "      <td>0.3</td>\n",
       "      <td>0</td>\n",
       "      <td>0</td>\n",
       "      <td>1</td>\n",
       "      <td>1</td>\n",
       "      <td>4</td>\n",
       "      <td>0.603976</td>\n",
       "      <td>0.252642</td>\n",
       "    </tr>\n",
       "    <tr>\n",
       "      <th>...</th>\n",
       "      <td>...</td>\n",
       "      <td>...</td>\n",
       "      <td>...</td>\n",
       "      <td>...</td>\n",
       "      <td>...</td>\n",
       "      <td>...</td>\n",
       "      <td>...</td>\n",
       "      <td>...</td>\n",
       "      <td>...</td>\n",
       "    </tr>\n",
       "    <tr>\n",
       "      <th>1005</th>\n",
       "      <td>0.5</td>\n",
       "      <td>0.3</td>\n",
       "      <td>0</td>\n",
       "      <td>0</td>\n",
       "      <td>10</td>\n",
       "      <td>1</td>\n",
       "      <td>96</td>\n",
       "      <td>0.604110</td>\n",
       "      <td>0.398127</td>\n",
       "    </tr>\n",
       "    <tr>\n",
       "      <th>1006</th>\n",
       "      <td>0.5</td>\n",
       "      <td>0.3</td>\n",
       "      <td>0</td>\n",
       "      <td>0</td>\n",
       "      <td>10</td>\n",
       "      <td>1</td>\n",
       "      <td>97</td>\n",
       "      <td>0.591379</td>\n",
       "      <td>0.260129</td>\n",
       "    </tr>\n",
       "    <tr>\n",
       "      <th>1007</th>\n",
       "      <td>0.5</td>\n",
       "      <td>0.3</td>\n",
       "      <td>0</td>\n",
       "      <td>0</td>\n",
       "      <td>10</td>\n",
       "      <td>1</td>\n",
       "      <td>98</td>\n",
       "      <td>0.414653</td>\n",
       "      <td>0.440853</td>\n",
       "    </tr>\n",
       "    <tr>\n",
       "      <th>1008</th>\n",
       "      <td>0.5</td>\n",
       "      <td>0.3</td>\n",
       "      <td>0</td>\n",
       "      <td>0</td>\n",
       "      <td>10</td>\n",
       "      <td>1</td>\n",
       "      <td>99</td>\n",
       "      <td>0.676922</td>\n",
       "      <td>0.420930</td>\n",
       "    </tr>\n",
       "    <tr>\n",
       "      <th>1009</th>\n",
       "      <td>0.5</td>\n",
       "      <td>0.3</td>\n",
       "      <td>0</td>\n",
       "      <td>0</td>\n",
       "      <td>10</td>\n",
       "      <td>1</td>\n",
       "      <td>100</td>\n",
       "      <td>0.780378</td>\n",
       "      <td>0.263126</td>\n",
       "    </tr>\n",
       "  </tbody>\n",
       "</table>\n",
       "<p>1010 rows × 9 columns</p>\n",
       "</div>"
      ],
      "text/plain": [
       "      organic_optimality_gap  colluder_optimality_gap  simulation  subset  \\\n",
       "0                        0.5                      0.3           0       0   \n",
       "1                        0.5                      0.3           0       0   \n",
       "2                        0.5                      0.3           0       0   \n",
       "3                        0.5                      0.3           0       0   \n",
       "4                        0.5                      0.3           0       0   \n",
       "...                      ...                      ...         ...     ...   \n",
       "1005                     0.5                      0.3           0       0   \n",
       "1006                     0.5                      0.3           0       0   \n",
       "1007                     0.5                      0.3           0       0   \n",
       "1008                     0.5                      0.3           0       0   \n",
       "1009                     0.5                      0.3           0       0   \n",
       "\n",
       "      run  substep  timestep  organic_distribution  colluder_distribution  \n",
       "0       1        0         0                   NaN                    NaN  \n",
       "1       1        1         1              0.366867               0.217916  \n",
       "2       1        1         2              0.395652               0.356852  \n",
       "3       1        1         3              0.564924               0.357972  \n",
       "4       1        1         4              0.603976               0.252642  \n",
       "...   ...      ...       ...                   ...                    ...  \n",
       "1005   10        1        96              0.604110               0.398127  \n",
       "1006   10        1        97              0.591379               0.260129  \n",
       "1007   10        1        98              0.414653               0.440853  \n",
       "1008   10        1        99              0.676922               0.420930  \n",
       "1009   10        1       100              0.780378               0.263126  \n",
       "\n",
       "[1010 rows x 9 columns]"
      ]
     },
     "execution_count": 14,
     "metadata": {},
     "output_type": "execute_result"
    }
   ],
   "source": [
    "df = pd.DataFrame(raw_result)\n",
    "df"
   ]
  },
  {
   "cell_type": "code",
   "execution_count": 15,
   "id": "helpful-bridge",
   "metadata": {},
   "outputs": [
    {
     "data": {},
     "metadata": {},
     "output_type": "display_data"
    },
    {
     "data": {
      "application/vnd.holoviews_exec.v0+json": "",
      "text/html": [
       "<div id='1001'>\n",
       "\n",
       "\n",
       "\n",
       "\n",
       "\n",
       "  <div class=\"bk-root\" id=\"574bd840-bfa4-4b25-9360-0d4aa5b42be8\" data-root-id=\"1001\"></div>\n",
       "</div>\n",
       "<script type=\"application/javascript\">(function(root) {\n",
       "  function embed_document(root) {\n",
       "    var docs_json = {\"354a24e7-fc86-42c0-b9ec-0e5bf40bb9a7\":{\"roots\":{\"references\":[{\"attributes\":{},\"id\":\"1014\",\"type\":\"LinearScale\"},{\"attributes\":{\"text\":\"Optimality Gap Distribution\",\"text_color\":{\"value\":\"black\"},\"text_font_size\":{\"value\":\"12pt\"}},\"id\":\"1008\",\"type\":\"Title\"},{\"attributes\":{\"children\":[{\"id\":\"1177\"},{\"id\":\"1178\"}],\"margin\":[0,0,0,0],\"min_width\":290,\"name\":\"Column01498\",\"width\":290},\"id\":\"1176\",\"type\":\"Column\"},{\"attributes\":{},\"id\":\"1012\",\"type\":\"LinearScale\"},{\"attributes\":{\"children\":[{\"id\":\"1176\"}],\"css_classes\":[\"panel-widget-box\"],\"margin\":[5,5,5,5],\"name\":\"WidgetBox01489\"},\"id\":\"1175\",\"type\":\"Column\"},{\"attributes\":{\"data_source\":{\"id\":\"1059\"},\"glyph\":{\"id\":\"1062\"},\"hover_glyph\":null,\"muted_glyph\":{\"id\":\"1064\"},\"nonselection_glyph\":{\"id\":\"1063\"},\"selection_glyph\":null,\"view\":{\"id\":\"1066\"}},\"id\":\"1065\",\"type\":\"GlyphRenderer\"},{\"attributes\":{\"margin\":[5,5,5,5],\"name\":\"HSpacer01505\",\"sizing_mode\":\"stretch_width\"},\"id\":\"1172\",\"type\":\"Spacer\"},{\"attributes\":{\"axis_label\":\"value\",\"bounds\":\"auto\",\"formatter\":{\"id\":\"1037\"},\"major_label_orientation\":\"horizontal\",\"ticker\":{\"id\":\"1017\"}},\"id\":\"1016\",\"type\":\"LinearAxis\"},{\"attributes\":{\"source\":{\"id\":\"1059\"}},\"id\":\"1066\",\"type\":\"CDSView\"},{\"attributes\":{\"axis_label\":\"Density\",\"bounds\":\"auto\",\"formatter\":{\"id\":\"1039\"},\"major_label_orientation\":\"horizontal\",\"ticker\":{\"id\":\"1021\"}},\"id\":\"1020\",\"type\":\"LinearAxis\"},{\"attributes\":{\"client_comm_id\":\"2f4c2a1464654d00ac91e08b68282bc0\",\"comm_id\":\"03531f99a7734115b5e07f62bc3106a4\",\"plot_id\":\"1001\"},\"id\":\"1211\",\"type\":\"panel.models.comm_manager.CommManager\"},{\"attributes\":{},\"id\":\"1021\",\"type\":\"BasicTicker\"},{\"attributes\":{\"args\":{\"bidirectional\":false,\"properties\":{},\"source\":{\"id\":\"1178\"},\"target\":{\"id\":\"1177\"}},\"code\":\"try { \\n    var labels = ['run: <b>1</b>', 'run: <b>2</b>', 'run: <b>3</b>', 'run: <b>4</b>', 'run: <b>5</b>', 'run: <b>6</b>', 'run: <b>7</b>', 'run: <b>8</b>', 'run: <b>9</b>', 'run: <b>10</b>']\\n    target.text = labels[source.value]\\n     } catch(err) { console.log(err) }\",\"tags\":[139723089540768]},\"id\":\"1190\",\"type\":\"CustomJS\"},{\"attributes\":{},\"id\":\"1026\",\"type\":\"WheelZoomTool\"},{\"attributes\":{\"label\":{\"value\":\"organic_distribution\"},\"renderers\":[{\"id\":\"1065\"}]},\"id\":\"1077\",\"type\":\"LegendItem\"},{\"attributes\":{},\"id\":\"1024\",\"type\":\"SaveTool\"},{\"attributes\":{\"overlay\":{\"id\":\"1029\"}},\"id\":\"1027\",\"type\":\"BoxZoomTool\"},{\"attributes\":{\"fill_alpha\":0.5,\"fill_color\":\"#ff7e0e\",\"line_alpha\":1,\"x\":{\"field\":\"x\"},\"y\":{\"field\":\"y\"}},\"id\":\"1063\",\"type\":\"Patch\"},{\"attributes\":{},\"id\":\"1028\",\"type\":\"ResetTool\"},{\"attributes\":{\"data\":{\"x\":{\"__ndarray__\":\"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\",\"dtype\":\"float64\",\"order\":\"little\",\"shape\":[200]},\"y\":{\"__ndarray__\":\"AAAAAAAAAAAAAAAAAAAAAAAAAAAAAAAAAAAAAAAAAAAAAAAAAAAAAAAAAAAAAAAAAAAAAAAAAAAAAAAAAAAAAAAAAAAAAAAAAAAAAAAAAAAAAAAAAAAAAAAAAAAAAAAAAAAAAAAAAAAAAAAAAAAAAAAAAAAAAAAAAAAAAAAAAAAAAAAAAAAAAAAAAAAAAAAAAAAAAAAAAAAAAAAAAAAAAAAAAAAAAAAAAAAAAAAAAAAAAAAAAAAAAAAAAAAAAAAAAAAAAAAAAAAAAAAAAAAAAAAAAAAAAAAAAAAAAAAAAAAAAAAAAAAAAAAAAAAAAAAAAAAAAAAAAAAAAAAAAAAAAAAAAAAAAAAAAAAAAAAAAAAAAAAAAAAAAAAAAAAAAAAAAAAAAAAAAAAAAAAAAAAAAAAAAAAAAAAAAAAAAAAAAAAAAAAAAAAAAAAAAAAAAAAAAAAAAAAAAAAAAAAAAAAAAAAAAAAAAAAAAAAAAAAAAAAAAAAAAAAAAAAAAAAAAAAAAAAAAAAAAAAAAAAAAAAAAAAAAAAAAAAAAAAAAAAAAAAAAAAAAAAAAAAAAAAAAAAAAAAAAAAAAAAAAAAAAAAAAAAAAAAAAAAAAAAAAAAAAAAAAAAAAAAAAAAAAAAAAAAAAAAAAAAAAAAAAAAAAAAAAAAAAAAAAAAAAAAAAAAAAAAAAAAAAAAAAAAAAAAAAAAAAAAAAAAAAAAAAAAAAAAAAAAAAAAAAAAAAAAAAAAAAAAAAAAAAAAAAAAAAAAAAAAAAAAAAAAAAAAAAAAAAAAAAAAAAAAAAAAAAAAAAAAAAAAAAAAAAAAAAAAAAAAAAAAAAAAAAAAAAAAAAAAAAAAAAAAAAAAAAAAAAAAAAAAAAAAAAAAAAAAAAAAAAAAAAAAAAAAAAAAAAAAAAAAAAAAAAAAAAAAAAAAAAAAAAAAAAAAAAAAAAAAAAAAAAAAAAAAAAAAAAAAAAAAAAAAAAAAAAAAAAAAAAAAAAAAAAAAAAAAAAAAAAAAAAAAAAAAAAAAAAAAAAAAAAAAAAAAAAAAAAAAAAAAAAAAAAAAAAAAAAAB4VLqJHMGqPp/IcBO7ysI+mDLlRM1B2T7JE41/xD3wPpFZSyxP/QM/8KcgUF+MFz9f7t6BY44qP04fK564rDw/atUcF8+mTT8qrRkl8F5dP79rEX4e4Gs/daEgc3NbeT8+EQPz0B2GP8VzhTfigJI/d9zSFeC2nT9pKJTNeemmPwTBytdv+rA/1hL1ywI0uD+P2GAghpzAPwcCDQQp/MU/fRg1IH0ZzD+zX8EfWWDRP62g0obA2NQ/SX89IfdV2D8eAahv+L/bP+PfqFmUDt8/t+9SCuUn4T/hG9+rotXiP8utdZT9sOQ/9wpwdKrk5j/ObBNH7aDpPwPL9K71FO0/oGmYj3Wz8D/STtrg3FXzP9NebFICcPY/iKf4a93x+T/qbJcrx7z9P+t+kki80gBAGUL01xi8AkBHM9jBPn8EQOkugqzXAgZAZSkew4cyB0Dc1J7vXgEIQGjVHfVHawhAb14zB0Z1CEDkv4FdgiwIQIxtdKBXpAdA2VcyhKzzBkCtWTufBjIGQObPP+rGdAVAvxE2F/bMBEDH4NFa5kUEQMsdroy/5ANACXPkLdeoA0C7wceykYwDQMQxkLSChgNAZtxAKJeKA0BiJDBbOYsDQD3VHSh8egNAX7YrxF9LA0ClfxfaK/MCQJfcP722agJA3hItWFevAUCSuaX8QMMAQIe90CRPWv8/Ro8gdHPu/D9s3H2ZUFv6PzIvo0EPuvc/ovEApKgh9T81mjUGpqTyP2ua4RLXT/A/qINH0SlU7D+jx3YmAGroP/SDwAn/3OQ/pNfXUEKl4T/w+ftmmXXdPwIeJvc3MNg/uYg+9l520z+emBqt4pPOP2xlT6OvXsc/m0UxPchSwT8xHdD51te4P9CPaHhsMbE/7/jQBETtpj+w5UtoNmmdP2faD2RRIJI/7Cc5trFyhT8rd4egAlh4Pwtpi/3afGo/HGme6F2dWz+NycKj8pJLP0yKZAmpXDo/Q8/oUsofKD/Di6TvVSAVPzIWssKIswE/UUwU9E9g7D7x4EU6JsHVPrimKmh45r8+n2Y00aRdpj5TICZvwvyNPg==\",\"dtype\":\"float64\",\"order\":\"little\",\"shape\":[200]}},\"selected\":{\"id\":\"1060\"},\"selection_policy\":{\"id\":\"1075\"}},\"id\":\"1059\",\"type\":\"ColumnDataSource\"},{\"attributes\":{\"active_drag\":\"auto\",\"active_inspect\":\"auto\",\"active_multi\":null,\"active_scroll\":\"auto\",\"active_tap\":\"auto\",\"tools\":[{\"id\":\"1005\"},{\"id\":\"1024\"},{\"id\":\"1025\"},{\"id\":\"1026\"},{\"id\":\"1027\"},{\"id\":\"1028\"}]},\"id\":\"1030\",\"type\":\"Toolbar\"},{\"attributes\":{\"end\":3.6119926877914437,\"reset_end\":3.6119926877914437,\"reset_start\":0.0,\"tags\":[[[\"value_density\",\"Density\",null]]]},\"id\":\"1004\",\"type\":\"Range1d\"},{\"attributes\":{\"fill_alpha\":0.2,\"fill_color\":\"#1f77b3\",\"line_alpha\":0.2,\"x\":{\"field\":\"x\"},\"y\":{\"field\":\"y\"}},\"id\":\"1046\",\"type\":\"Patch\"},{\"attributes\":{\"source\":{\"id\":\"1041\"}},\"id\":\"1048\",\"type\":\"CDSView\"},{\"attributes\":{\"data_source\":{\"id\":\"1041\"},\"glyph\":{\"id\":\"1044\"},\"hover_glyph\":null,\"muted_glyph\":{\"id\":\"1046\"},\"nonselection_glyph\":{\"id\":\"1045\"},\"selection_glyph\":null,\"view\":{\"id\":\"1048\"}},\"id\":\"1047\",\"type\":\"GlyphRenderer\"},{\"attributes\":{\"margin\":[5,5,5,5],\"name\":\"VSpacer01501\",\"sizing_mode\":\"stretch_height\"},\"id\":\"1174\",\"type\":\"Spacer\"},{\"attributes\":{\"margin\":[20,0,0,20],\"name\":\"\",\"style\":{\"white-space\":\"nowrap\"},\"text\":\"run: <b>1</b>\",\"width\":250},\"id\":\"1177\",\"type\":\"Div\"},{\"attributes\":{},\"id\":\"1075\",\"type\":\"UnionRenderers\"},{\"attributes\":{\"children\":[{\"id\":\"1002\"},{\"id\":\"1007\"},{\"id\":\"1172\"},{\"id\":\"1173\"}],\"margin\":[0,0,0,0],\"name\":\"Row01488\"},\"id\":\"1001\",\"type\":\"Row\"},{\"attributes\":{},\"id\":\"1060\",\"type\":\"Selection\"},{\"attributes\":{},\"id\":\"1055\",\"type\":\"UnionRenderers\"},{\"attributes\":{\"reset_end\":1,\"reset_start\":0,\"tags\":[[[\"value\",\"value\",null]]]},\"id\":\"1003\",\"type\":\"Range1d\"},{\"attributes\":{\"fill_alpha\":0.5,\"fill_color\":\"#1f77b3\",\"x\":{\"field\":\"x\"},\"y\":{\"field\":\"y\"}},\"id\":\"1044\",\"type\":\"Patch\"},{\"attributes\":{\"click_policy\":\"mute\",\"items\":[{\"id\":\"1058\"},{\"id\":\"1077\"}],\"location\":[0,0],\"title\":\"Variable\"},\"id\":\"1057\",\"type\":\"Legend\"},{\"attributes\":{\"data\":{\"x\":{\"__ndarray__\":\"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\",\"dtype\":\"float64\",\"order\":\"little\",\"shape\":[200]},\"y\":{\"__ndarray__\":\"AAAAAAAAAAAAAAAAAAAAAAAAAAAAAAAAAAAAAAAAAAAAAAAAAAAAAAAAAAAAAAAAAAAAAAAAAAAAAAAAAAAAAAAAAAAAAAAAAAAAAAAAAAAAAAAAAAAAAAAAAAAAAAAAAAAAAAAAAAAAAAAAAAAAAAAAAAAAAAAAAAAAAAAAAAAAAAAAAAAAAAAAAAAAAAAAAAAAAAAAAAAAAAAAAAAAAAAAAAAAAAAAAAAAAAAAAAAAAAAAAAAAAAAAAAAAAAAAAAAAAAAAAAAAAAAAAAAAAAAAAAAAAAAAAAAAAAAAAAAAAAAAAAAAAAAAAAAAAAAAAAAAAAAAAAAAAAAAAAAAAAAAAAAAAAAAAAAAAAAAAAAAAAAAAAAAAAAAAAAAAAAAAAAAAAAAAAAAAAAAAAAAAAAAAAAAAAAAAAAAAAAAAAAAAAAAAAAAAAAAAAAAAAAAAAAAAAAAAAAAAAAAAAAAAAAAAAAAAAAAAAAAAAAAAAAAAAAAAAAAAAAAAAAAAAAAAAAAAAAAAAAAAAAAAAAAAAAAAAAAAAAAAAAAAAAAAAAAAAAAAAAAAAAAAAAAAAAAAAAAAAAAAAAAAAAAAAAAAAAAAAAAAAAAAAAAAAAAAAAAAAAAAAAAAAAAAAAAAAAAAAAAAAAAAAAAAAAAAAAAAAAAAAAAAAAAAAAAAAAAAAAAAAAAAAAAAAAAAAAAAAAAAAAAAAAAAAAAAAAAAAAAAAAAAAAAAAAAAAAAAAAAAAAAAAAAAAAAAAAAAAAAAAAAAAAAAAAAAAAAAAAAAAAAAAAAAAAAAAAAAAAAAAAAAAAAAAAAAAAAAAAAAAAAAAAAAAAAAAAAAAAAAAAAAAAAAAAAAAAAAAAAAAAAAAAAAAAAAAAAAAAAAAAAAAAAAAAAAAAAAAAAAAAAAAAAAAAAAAAAAAAAAAAAAAAAAAAAAAAAAAAAAAAAAAAAAAAAAAAAAAAAAAAAAAAAAAAAAAAAAAAAAAAAAAAAAAAAAAAAAAAAAAAAAAAAAAAAAAAAAAAAAAAAAAAAAAAAAAAAAAAAAAAAAAAAAAAAAAAAAAAAAADORMZ7c1k2OFQxj/kFcoM4yyH0Pveezzid9F57pAYYOePcIuEzD2E5wxvgQomjpjm74NkTOhPsObF/zLOhRDA655D+xTyecToNM+bkkdSxOpscJe313PA6HOZNibLOLTu6UoaqSp5oO+M+c2syAKM7FyJ+sbFo2zuWLHNbXnkSPGum+MLERUc8gjBrW6llezyKWTv76yOuPKbgLDOT/N483PEB0T7FDT2ztsBlrLo6PYCmKi9lbWY9NT5VrQCWkT1+gN9NOsa5PV9PLMfhpuE9uNj7P86YBj5hvE0dSQkrPo1Zv4caPE4+9kgbNe2abz4s94hhceKOPtnWQdiHN6w+CXpNb00byD7B8JzEUEPjPmFWCiZ8zfw+6GwVKsYnFD8BNuCxGGsqP2ScbcdDOkA/nIGg4WK0Uj9WXRrlqkFkP7CzGtQfpnQ/e4NR9Czcgz/XkdqHrBOSPyX10RT8QZ8/FZ2bIwbIqT/BDb3jH2K0PwoMyxQcDL8/YZFtzIvhxj94FJcBI2HQP5Qh+Q8e19Y/5KhTJ7QS3z8NOdsBHqTkP6oXCnwrzOo/4MLZVJQC8T90gWWY6iH1P4Huc6kPtfk/IiSPor+f/j/5eQOeqNkBQE2tZQiIVQRAJLM8xTqXBkC9AFy9T24IQGHvr6tVsAlATiEZqN9ECkAhkCcIGC8KQMyYC6m8kAlAhzDybHSkCED1sPQwkLAHQK6OrG8X9gZAHQVGfVShBkATqbz4gcAGQFPWgLgaQwdA4wUtFHMBCEDuGzrypskIQEoWxdhlbQlAS1P4iT/MCUBqwJC/u9cJQMGPdVoQkQlAQ6TwEaACCUArx29AmzgIQBlhn2TIOwdAaMzZLv8PBkB9d0PODbYEQOQYgx5hLwNA5nqv7FOBAUC3fMjAEG3/P1ewWduau/s/XVFbOI4O+D+GDAnzm4L0P5zACz/aLPE/texc4JE07D9ctDA/V6TmP0+PxV9psuE/fqYezv3N2j/6vaUv6JHTP5EwIqw+ass/gf51s69Xwj84Zwc11Vu3P+Wq+izxOKw/PzYrTq8ioD9ZSAYNFm2RPw==\",\"dtype\":\"float64\",\"order\":\"little\",\"shape\":[200]}},\"selected\":{\"id\":\"1042\"},\"selection_policy\":{\"id\":\"1055\"}},\"id\":\"1041\",\"type\":\"ColumnDataSource\"},{\"attributes\":{},\"id\":\"1042\",\"type\":\"Selection\"},{\"attributes\":{\"callback\":null,\"renderers\":[{\"id\":\"1047\"},{\"id\":\"1065\"}],\"tags\":[\"hv_created\"],\"tooltips\":[[\"Variable\",\"@{Variable}\"],[\"value\",\"@{value}\"],[\"Density\",\"@{value_density}\"]]},\"id\":\"1005\",\"type\":\"HoverTool\"},{\"attributes\":{},\"id\":\"1037\",\"type\":\"BasicTickFormatter\"},{\"attributes\":{\"children\":[{\"id\":\"1174\"},{\"id\":\"1175\"},{\"id\":\"1179\"}],\"margin\":[0,0,0,0],\"name\":\"Column01503\"},\"id\":\"1173\",\"type\":\"Column\"},{\"attributes\":{},\"id\":\"1039\",\"type\":\"BasicTickFormatter\"},{\"attributes\":{\"fill_alpha\":0.5,\"fill_color\":\"#1f77b3\",\"line_alpha\":1,\"x\":{\"field\":\"x\"},\"y\":{\"field\":\"y\"}},\"id\":\"1045\",\"type\":\"Patch\"},{\"attributes\":{\"bottom_units\":\"screen\",\"fill_alpha\":0.5,\"fill_color\":\"lightgrey\",\"left_units\":\"screen\",\"level\":\"overlay\",\"line_alpha\":1.0,\"line_color\":\"black\",\"line_dash\":[4,4],\"line_width\":2,\"right_units\":\"screen\",\"top_units\":\"screen\"},\"id\":\"1029\",\"type\":\"BoxAnnotation\"},{\"attributes\":{\"below\":[{\"id\":\"1016\"}],\"center\":[{\"id\":\"1019\"},{\"id\":\"1023\"}],\"left\":[{\"id\":\"1020\"}],\"margin\":[5,5,5,5],\"min_border_bottom\":10,\"min_border_left\":10,\"min_border_right\":10,\"min_border_top\":10,\"plot_height\":300,\"plot_width\":700,\"renderers\":[{\"id\":\"1047\"},{\"id\":\"1065\"}],\"right\":[{\"id\":\"1057\"}],\"sizing_mode\":\"fixed\",\"title\":{\"id\":\"1008\"},\"toolbar\":{\"id\":\"1030\"},\"x_range\":{\"id\":\"1003\"},\"x_scale\":{\"id\":\"1012\"},\"y_range\":{\"id\":\"1004\"},\"y_scale\":{\"id\":\"1014\"}},\"id\":\"1007\",\"subtype\":\"Figure\",\"type\":\"Plot\"},{\"attributes\":{\"margin\":[5,5,5,5],\"name\":\"HSpacer01504\",\"sizing_mode\":\"stretch_width\"},\"id\":\"1002\",\"type\":\"Spacer\"},{\"attributes\":{\"label\":{\"value\":\"colluder_distribution\"},\"renderers\":[{\"id\":\"1047\"}]},\"id\":\"1058\",\"type\":\"LegendItem\"},{\"attributes\":{\"axis\":{\"id\":\"1020\"},\"dimension\":1,\"grid_line_color\":null,\"ticker\":null},\"id\":\"1023\",\"type\":\"Grid\"},{\"attributes\":{\"margin\":[5,5,5,5],\"name\":\"VSpacer01502\",\"sizing_mode\":\"stretch_height\"},\"id\":\"1179\",\"type\":\"Spacer\"},{\"attributes\":{\"end\":9,\"format\":\"0[.]00\",\"js_property_callbacks\":{\"change:value\":[{\"id\":\"1190\"}]},\"margin\":[0,20,20,20],\"min_width\":250,\"show_value\":false,\"start\":0,\"tooltips\":false,\"value\":0,\"value_throttled\":0,\"width\":250},\"id\":\"1178\",\"type\":\"Slider\"},{\"attributes\":{},\"id\":\"1017\",\"type\":\"BasicTicker\"},{\"attributes\":{\"fill_alpha\":0.5,\"fill_color\":\"#ff7e0e\",\"x\":{\"field\":\"x\"},\"y\":{\"field\":\"y\"}},\"id\":\"1062\",\"type\":\"Patch\"},{\"attributes\":{\"fill_alpha\":0.2,\"fill_color\":\"#ff7e0e\",\"line_alpha\":0.2,\"x\":{\"field\":\"x\"},\"y\":{\"field\":\"y\"}},\"id\":\"1064\",\"type\":\"Patch\"},{\"attributes\":{},\"id\":\"1025\",\"type\":\"PanTool\"},{\"attributes\":{\"axis\":{\"id\":\"1016\"},\"grid_line_color\":null,\"ticker\":null},\"id\":\"1019\",\"type\":\"Grid\"}],\"root_ids\":[\"1001\",\"1211\"]},\"title\":\"Bokeh Application\",\"version\":\"2.2.3\"}};\n",
       "    var render_items = [{\"docid\":\"354a24e7-fc86-42c0-b9ec-0e5bf40bb9a7\",\"root_ids\":[\"1001\"],\"roots\":{\"1001\":\"574bd840-bfa4-4b25-9360-0d4aa5b42be8\"}}];\n",
       "    root.Bokeh.embed.embed_items_notebook(docs_json, render_items);\n",
       "  }\n",
       "  if (root.Bokeh !== undefined && root.Bokeh.Panel !== undefined) {\n",
       "    embed_document(root);\n",
       "  } else {\n",
       "    var attempts = 0;\n",
       "    var timer = setInterval(function(root) {\n",
       "      if (root.Bokeh !== undefined && root.Bokeh.Panel !== undefined) {\n",
       "        clearInterval(timer);\n",
       "        embed_document(root);\n",
       "      } else if (document.readyState == \"complete\") {\n",
       "        attempts++;\n",
       "        if (attempts > 100) {\n",
       "          clearInterval(timer);\n",
       "          console.log(\"Bokeh: ERROR: Unable to run BokehJS code because BokehJS library is missing\");\n",
       "        }\n",
       "      }\n",
       "    }, 10, root)\n",
       "  }\n",
       "})(window);</script>"
      ],
      "text/plain": [
       ":DynamicMap   [run]\n",
       "   :NdOverlay   [Variable]\n",
       "      :Distribution   [value]   (Density)"
      ]
     },
     "execution_count": 15,
     "metadata": {
      "application/vnd.holoviews_exec.v0+json": {
       "id": "1001"
      }
     },
     "output_type": "execute_result"
    }
   ],
   "source": [
    "df.hvplot.kde(['colluder_distribution', 'organic_distribution'], title='Optimality Gap Distribution', groupby='run', xlim=(0,1))"
   ]
  },
  {
   "cell_type": "code",
   "execution_count": 13,
   "id": "musical-simon",
   "metadata": {},
   "outputs": [
    {
     "data": {
      "text/html": [
       "<div>\n",
       "<style scoped>\n",
       "    .dataframe tbody tr th:only-of-type {\n",
       "        vertical-align: middle;\n",
       "    }\n",
       "\n",
       "    .dataframe tbody tr th {\n",
       "        vertical-align: top;\n",
       "    }\n",
       "\n",
       "    .dataframe thead th {\n",
       "        text-align: right;\n",
       "    }\n",
       "</style>\n",
       "<table border=\"1\" class=\"dataframe\">\n",
       "  <thead>\n",
       "    <tr style=\"text-align: right;\">\n",
       "      <th></th>\n",
       "      <th>organic_optimality_gap</th>\n",
       "      <th>colluder_optimality_gap</th>\n",
       "      <th>simulation</th>\n",
       "      <th>subset</th>\n",
       "      <th>run</th>\n",
       "      <th>substep</th>\n",
       "      <th>timestep</th>\n",
       "      <th>organic_distribution</th>\n",
       "      <th>colluder_distribution</th>\n",
       "    </tr>\n",
       "  </thead>\n",
       "  <tbody>\n",
       "    <tr>\n",
       "      <th>0</th>\n",
       "      <td>0.5</td>\n",
       "      <td>0.3</td>\n",
       "      <td>0</td>\n",
       "      <td>0</td>\n",
       "      <td>1</td>\n",
       "      <td>0</td>\n",
       "      <td>0</td>\n",
       "      <td>NaN</td>\n",
       "      <td>NaN</td>\n",
       "    </tr>\n",
       "    <tr>\n",
       "      <th>1</th>\n",
       "      <td>0.5</td>\n",
       "      <td>0.3</td>\n",
       "      <td>0</td>\n",
       "      <td>0</td>\n",
       "      <td>1</td>\n",
       "      <td>1</td>\n",
       "      <td>1</td>\n",
       "      <td>0.384892</td>\n",
       "      <td>0.314623</td>\n",
       "    </tr>\n",
       "    <tr>\n",
       "      <th>2</th>\n",
       "      <td>0.5</td>\n",
       "      <td>0.3</td>\n",
       "      <td>0</td>\n",
       "      <td>0</td>\n",
       "      <td>1</td>\n",
       "      <td>1</td>\n",
       "      <td>2</td>\n",
       "      <td>0.448249</td>\n",
       "      <td>0.387461</td>\n",
       "    </tr>\n",
       "    <tr>\n",
       "      <th>3</th>\n",
       "      <td>0.5</td>\n",
       "      <td>0.3</td>\n",
       "      <td>0</td>\n",
       "      <td>0</td>\n",
       "      <td>1</td>\n",
       "      <td>1</td>\n",
       "      <td>3</td>\n",
       "      <td>0.525539</td>\n",
       "      <td>0.326186</td>\n",
       "    </tr>\n",
       "    <tr>\n",
       "      <th>4</th>\n",
       "      <td>0.5</td>\n",
       "      <td>0.3</td>\n",
       "      <td>0</td>\n",
       "      <td>0</td>\n",
       "      <td>1</td>\n",
       "      <td>1</td>\n",
       "      <td>4</td>\n",
       "      <td>0.387261</td>\n",
       "      <td>0.265082</td>\n",
       "    </tr>\n",
       "    <tr>\n",
       "      <th>...</th>\n",
       "      <td>...</td>\n",
       "      <td>...</td>\n",
       "      <td>...</td>\n",
       "      <td>...</td>\n",
       "      <td>...</td>\n",
       "      <td>...</td>\n",
       "      <td>...</td>\n",
       "      <td>...</td>\n",
       "      <td>...</td>\n",
       "    </tr>\n",
       "    <tr>\n",
       "      <th>1005</th>\n",
       "      <td>0.5</td>\n",
       "      <td>0.3</td>\n",
       "      <td>0</td>\n",
       "      <td>0</td>\n",
       "      <td>10</td>\n",
       "      <td>1</td>\n",
       "      <td>96</td>\n",
       "      <td>0.600193</td>\n",
       "      <td>0.260825</td>\n",
       "    </tr>\n",
       "    <tr>\n",
       "      <th>1006</th>\n",
       "      <td>0.5</td>\n",
       "      <td>0.3</td>\n",
       "      <td>0</td>\n",
       "      <td>0</td>\n",
       "      <td>10</td>\n",
       "      <td>1</td>\n",
       "      <td>97</td>\n",
       "      <td>0.705680</td>\n",
       "      <td>0.417178</td>\n",
       "    </tr>\n",
       "    <tr>\n",
       "      <th>1007</th>\n",
       "      <td>0.5</td>\n",
       "      <td>0.3</td>\n",
       "      <td>0</td>\n",
       "      <td>0</td>\n",
       "      <td>10</td>\n",
       "      <td>1</td>\n",
       "      <td>98</td>\n",
       "      <td>0.284489</td>\n",
       "      <td>0.400643</td>\n",
       "    </tr>\n",
       "    <tr>\n",
       "      <th>1008</th>\n",
       "      <td>0.5</td>\n",
       "      <td>0.3</td>\n",
       "      <td>0</td>\n",
       "      <td>0</td>\n",
       "      <td>10</td>\n",
       "      <td>1</td>\n",
       "      <td>99</td>\n",
       "      <td>0.560108</td>\n",
       "      <td>0.364641</td>\n",
       "    </tr>\n",
       "    <tr>\n",
       "      <th>1009</th>\n",
       "      <td>0.5</td>\n",
       "      <td>0.3</td>\n",
       "      <td>0</td>\n",
       "      <td>0</td>\n",
       "      <td>10</td>\n",
       "      <td>1</td>\n",
       "      <td>100</td>\n",
       "      <td>0.420831</td>\n",
       "      <td>0.321376</td>\n",
       "    </tr>\n",
       "  </tbody>\n",
       "</table>\n",
       "<p>1010 rows × 9 columns</p>\n",
       "</div>"
      ],
      "text/plain": [
       "      organic_optimality_gap  colluder_optimality_gap  simulation  subset  \\\n",
       "0                        0.5                      0.3           0       0   \n",
       "1                        0.5                      0.3           0       0   \n",
       "2                        0.5                      0.3           0       0   \n",
       "3                        0.5                      0.3           0       0   \n",
       "4                        0.5                      0.3           0       0   \n",
       "...                      ...                      ...         ...     ...   \n",
       "1005                     0.5                      0.3           0       0   \n",
       "1006                     0.5                      0.3           0       0   \n",
       "1007                     0.5                      0.3           0       0   \n",
       "1008                     0.5                      0.3           0       0   \n",
       "1009                     0.5                      0.3           0       0   \n",
       "\n",
       "      run  substep  timestep  organic_distribution  colluder_distribution  \n",
       "0       1        0         0                   NaN                    NaN  \n",
       "1       1        1         1              0.384892               0.314623  \n",
       "2       1        1         2              0.448249               0.387461  \n",
       "3       1        1         3              0.525539               0.326186  \n",
       "4       1        1         4              0.387261               0.265082  \n",
       "...   ...      ...       ...                   ...                    ...  \n",
       "1005   10        1        96              0.600193               0.260825  \n",
       "1006   10        1        97              0.705680               0.417178  \n",
       "1007   10        1        98              0.284489               0.400643  \n",
       "1008   10        1        99              0.560108               0.364641  \n",
       "1009   10        1       100              0.420831               0.321376  \n",
       "\n",
       "[1010 rows x 9 columns]"
      ]
     },
     "execution_count": 13,
     "metadata": {},
     "output_type": "execute_result"
    }
   ],
   "source": [
    "df"
   ]
  },
  {
   "cell_type": "code",
   "execution_count": 16,
   "id": "roman-complex",
   "metadata": {},
   "outputs": [],
   "source": [
    "from stable_baselines3.ppo import MlpPolicy\n",
    "from stable_baselines3.common.vec_env import DummyVecEnv\n",
    "from stable_baselines3.ppo import PPO\n",
    "from gym import spaces\n",
    "import gym\n",
    "import json"
   ]
  },
  {
   "cell_type": "code",
   "execution_count": 17,
   "id": "rational-tuning",
   "metadata": {},
   "outputs": [],
   "source": [
    "\n",
    "class Environment(gym.Env):\n",
    "    def __init__(self):\n",
    "\n",
    "        self.action_space = spaces.Discrete(2)\n",
    "\n",
    "        self.observation_space = spaces.Discrete(2)\n",
    "        \n",
    "        self.performance = []\n",
    "        \n",
    "        self.reset()\n",
    "        \n",
    "    def _next_observation(self):\n",
    "        return 1\n",
    "    \n",
    "    \n",
    "    def _take_action(self, action):\n",
    "        if action == 1:\n",
    "            reward = collude(initial_state)\n",
    "        else:\n",
    "            reward = dont_collude(initial_state)\n",
    "        return reward\n",
    "        \n",
    "\n",
    "    def reset(self):\n",
    "        # Return the next observation\n",
    "        return self._next_observation()\n",
    "    \n",
    "    def step(self, action):\n",
    "        # Execute one time step within the environment\n",
    "        reward = self._take_action(action)  \n",
    "        done = 0\n",
    "        obs = self._next_observation()  \n",
    "        self.performance.append([\n",
    "            reward,\n",
    "        ])\n",
    "        return obs, reward, done, {}\n",
    "    \n",
    "    def render(self):\n",
    "        pass\n",
    "#         print(f\"Reward: {self.performance}\")"
   ]
  },
  {
   "cell_type": "code",
   "execution_count": 18,
   "id": "later-wright",
   "metadata": {},
   "outputs": [
    {
     "data": {
      "text/plain": [
       "<stable_baselines3.ppo.ppo.PPO at 0x7f12a9cca3a0>"
      ]
     },
     "execution_count": 18,
     "metadata": {},
     "output_type": "execute_result"
    }
   ],
   "source": [
    "env = Environment()\n",
    "agent = PPO(MlpPolicy, env, verbose=0)\n",
    "agent.learn(total_timesteps=2000)"
   ]
  },
  {
   "cell_type": "code",
   "execution_count": 19,
   "id": "dirty-delaware",
   "metadata": {},
   "outputs": [],
   "source": [
    "obs = env.reset()\n",
    "for i in range(2000):\n",
    "    action, _states = agent.predict(obs)\n",
    "    obs, rewards, done, info = env.step(action)\n",
    "    if not i % 200:\n",
    "        env.render()"
   ]
  },
  {
   "cell_type": "code",
   "execution_count": 20,
   "id": "illegal-patch",
   "metadata": {},
   "outputs": [],
   "source": [
    "performance = pd.DataFrame(env.performance)"
   ]
  },
  {
   "cell_type": "code",
   "execution_count": 21,
   "id": "sexual-armenia",
   "metadata": {},
   "outputs": [
    {
     "data": {},
     "metadata": {},
     "output_type": "display_data"
    },
    {
     "data": {
      "application/vnd.holoviews_exec.v0+json": "",
      "text/html": [
       "<div id='2261'>\n",
       "\n",
       "\n",
       "\n",
       "\n",
       "\n",
       "  <div class=\"bk-root\" id=\"c8b117c9-3e45-43bd-9791-ec0432b513d4\" data-root-id=\"2261\"></div>\n",
       "</div>\n",
       "<script type=\"application/javascript\">(function(root) {\n",
       "  function embed_document(root) {\n",
       "    var docs_json = {\"45118b67-6a49-4f8f-baf9-2f204f8e4a12\":{\"roots\":{\"references\":[{\"attributes\":{},\"id\":\"2280\",\"type\":\"BasicTicker\"},{\"attributes\":{\"fill_alpha\":0.2,\"fill_color\":\"#1f77b3\",\"line_alpha\":0.2,\"x\":{\"field\":\"x\"},\"y\":{\"field\":\"y\"}},\"id\":\"2301\",\"type\":\"Patch\"},{\"attributes\":{\"callback\":null,\"renderers\":[{\"id\":\"2302\"}],\"tags\":[\"hv_created\"],\"tooltips\":[[\"0\",\"@{A_0}\"],[\"Density\",\"@{A_0_density}\"]]},\"id\":\"2265\",\"type\":\"HoverTool\"},{\"attributes\":{\"data_source\":{\"id\":\"2296\"},\"glyph\":{\"id\":\"2299\"},\"hover_glyph\":null,\"muted_glyph\":{\"id\":\"2301\"},\"nonselection_glyph\":{\"id\":\"2300\"},\"selection_glyph\":null,\"view\":{\"id\":\"2303\"}},\"id\":\"2302\",\"type\":\"GlyphRenderer\"},{\"attributes\":{\"axis_label\":\"Density\",\"bounds\":\"auto\",\"formatter\":{\"id\":\"2306\"},\"major_label_orientation\":\"horizontal\",\"ticker\":{\"id\":\"2280\"}},\"id\":\"2279\",\"type\":\"LinearAxis\"},{\"attributes\":{\"text\":\"\",\"text_color\":{\"value\":\"black\"},\"text_font_size\":{\"value\":\"12pt\"}},\"id\":\"2267\",\"type\":\"Title\"},{\"attributes\":{},\"id\":\"2297\",\"type\":\"Selection\"},{\"attributes\":{\"fill_alpha\":0.5,\"fill_color\":\"#1f77b3\",\"line_alpha\":1,\"x\":{\"field\":\"x\"},\"y\":{\"field\":\"y\"}},\"id\":\"2300\",\"type\":\"Patch\"},{\"attributes\":{\"children\":[{\"id\":\"2262\"},{\"id\":\"2266\"},{\"id\":\"2324\"}],\"margin\":[0,0,0,0],\"name\":\"Row10613\",\"tags\":[\"embedded\"]},\"id\":\"2261\",\"type\":\"Row\"},{\"attributes\":{},\"id\":\"2271\",\"type\":\"LinearScale\"},{\"attributes\":{\"end\":1.0218192878245058,\"reset_end\":1.0218192878245058,\"reset_start\":-0.08386492602841786,\"start\":-0.08386492602841786,\"tags\":[[[\"0\",\"0\",null]]]},\"id\":\"2263\",\"type\":\"Range1d\"},{\"attributes\":{\"fill_alpha\":0.5,\"fill_color\":\"#1f77b3\",\"x\":{\"field\":\"x\"},\"y\":{\"field\":\"y\"}},\"id\":\"2299\",\"type\":\"Patch\"},{\"attributes\":{\"source\":{\"id\":\"2296\"}},\"id\":\"2303\",\"type\":\"CDSView\"},{\"attributes\":{\"axis\":{\"id\":\"2275\"},\"grid_line_color\":null,\"ticker\":null},\"id\":\"2278\",\"type\":\"Grid\"},{\"attributes\":{\"end\":2.7788527442938595,\"reset_end\":2.7788527442938595,\"reset_start\":0.0,\"tags\":[[[\"0_density\",\"Density\",null]]]},\"id\":\"2264\",\"type\":\"Range1d\"},{\"attributes\":{\"data\":{\"x\":{\"__ndarray__\":\"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\",\"dtype\":\"float64\",\"order\":\"little\",\"shape\":[200]},\"y\":{\"__ndarray__\":\"AAAAAAAAAAAAAAAAAAAAAAAAAAAAAAAAAAAAAAAAAAAAAAAAAAAAAAAAAAAAAAAAAAAAAAAAAAAAAAAAAAAAAAAAAAAAAAAAAAAAAAAAAAAAAAAAAAAAAAAAAAAAAAAAAAAAAAAAAAAAAAAAAAAAAAAAAAAAAAAAAAAAAAAAAAAAAAAAAAAAAAAAAAAAAAAAAAAAAAAAAAAAAAAAAAAAAAAAAAAAAAAAAAAAAAAAAAAAAAAAAAAAAAAAAAAAAAAAAAAAAAAAAAAAAAAAAAAAAAAAAAAAAAAAAAAAAAAAAAAAAAAAAAAAAAAAAAAAAAAAAAAAAAAAAAAAAAAAAAAAAAAAAAAAAAAAAAAAAAAAAAAAAAAAAAAAAAAAAAAAAAAAAAAAAAAAAAAAAAAAAAAAAAAAAAAAAAAAAAAAAAAAAAAAAAAAAAAAAAAAAAAAAAAAAAAAAAAAAAAAAAAAAAAAAAAAAAAAAAAAAAAAAAAAAAAAAAAAAAAAAAAAAAAAAAAAAAAAAAAAAAAAAAAAAAAAAAAAAAAAAAAAAAAAAAAAAAAAAAAAAAAAAAAAAAAAAAAAAAAAAAAAAAAAAAAAAAAAAAAAAAAAAAAAAAAAAAAAAAAAAAAAAAAAAAAAAAAAAAAAAAAAAAAAAAAAAAAAAAAAAAAAAAAAAAAAAAAAAAAAAAAAAAAAAAAAAAAAAAAAAAAAAAAAAAAAAAAAAAAAAAAAAAAAAAAAAAAAAAAAAAAAAAAAAAAAAAAAAAAAAAAAAAAAAAAAAAAAAAAAAAAAAAAAAAAAAAAAAAAAAAAAAAAAAAAAAAAAAAAAAAAAAAAAAAAAAAAAAAAAAAAAAAAAAAAAAAAAAAAAAAAAAAAAAAAAAAAAAAAAAAAAAAAAAAAAAAAAAAAAAAAAAAAAAAAAAAAAAAAAAAAAAAAAAAAAAAAAAAAAAAAAAAAAAAAAAAAAAAAAAAAAAAAAAAAAAAAAAAAAAAAAAAAAAAAAAAAAAAAAAAAAAAAAAAAAAAAAAAAAAAAAAAAAAAAAAAAAAAAAAAAAAAAAAAAAAAAAAAAAAAAAAABiyPV9xJ4EP13MHKv+qh8/mMRjbtDJND/hIKom82JHP4lMuYX5o1Y/g1NMmmgCYz+mmq/HtBJsP2S4yPohq3I/NjcdZpYzdz+nLQDN40V8P/qGAVnProE/Nx0WXyQ7hz/e4SPUoMOPP1t0RHVF7ZU/9Tf2KoiOnT+USXnuyfyiP8bbfAGBDqc/56zqtYu0qj/cFIKLQESuPxSID4CyXLE/r9YF0BmrtD9zm0IDqIO5P/ze8eYi8b8/xajam37Iwz+yX9Cq1/XHP2wbXNYcf8w/7IVawT3h0D/cvLkpjSrUPzTxVJd5T9g/JyrbxgxH3T9pXqN+Z2rhP9j0XbBkXeQ/1Vwqnepy5z9MAJhi8LXqP0OJCIVdMO4/y76gzCbr8D/FeYoxysLyPzIvF5xMjPQ/hijFBSY99j+70/RIpNX3P7iVjl8aXPk/iMDU8M/V+j8Re4pRz0H8Pwr9sX6Hl/0/fFdjz2LK/j8UmR5jLtH/PwUd4JGCVgBA5/N5Qtm1AEBHbMPPHhIBQK7VcjardgFAVftSO9vnAUC5VcrM714CQG6R1dhSzgJA4hRJ8Y0sA0An98CFQXsDQDnLJw72wQNAJ9rS2MABBEBYLFo3sC4EQOFwsdO5NQRAOuQZc6UJBEAo3JF8wasDQI+qU1mBKQNAcVKlx2aRAkC4fHmMnOgBQLsXkc8aKgFAyGeGcf5PAEC9t+NRib3+P5TEebsI0fw/hoK9DTkK+z+xOcZM74n5PyWt5uHCTvg/LXgaRyE09z/zEIF4ywL2P/PfROVtifQ/b6/wxXey8j/zQeD5PY7wPzki/grol+w/zikM0KZG6D/7CiF8wHXkP4iFEL2ZNeE/7TZvkG/O3D96hG4XE8LXP/JdS1ASG9M/3dPqdMXJzT+a4inbwpDGP1mo+f3SzsA/Gu/ouBEUuT/2vr1fPg6zP5hRMk+8oK0/Cw91TUBOpz/bz9gWGi2iP9AH/MzofJs/dA9/TAK3kz/CqnMa30CKPyvn9el1zX8/t1unih43cT+8Fj/St2xgPz3msRltVUs/gzynozexMz/ua3c1EHIYPw==\",\"dtype\":\"float64\",\"order\":\"little\",\"shape\":[200]}},\"selected\":{\"id\":\"2297\"},\"selection_policy\":{\"id\":\"2314\"}},\"id\":\"2296\",\"type\":\"ColumnDataSource\"},{\"attributes\":{},\"id\":\"2304\",\"type\":\"BasicTickFormatter\"},{\"attributes\":{\"bottom_units\":\"screen\",\"fill_alpha\":0.5,\"fill_color\":\"lightgrey\",\"left_units\":\"screen\",\"level\":\"overlay\",\"line_alpha\":1.0,\"line_color\":\"black\",\"line_dash\":[4,4],\"line_width\":2,\"right_units\":\"screen\",\"top_units\":\"screen\"},\"id\":\"2288\",\"type\":\"BoxAnnotation\"},{\"attributes\":{},\"id\":\"2276\",\"type\":\"BasicTicker\"},{\"attributes\":{},\"id\":\"2284\",\"type\":\"PanTool\"},{\"attributes\":{\"margin\":[5,5,5,5],\"name\":\"HSpacer10617\",\"sizing_mode\":\"stretch_width\"},\"id\":\"2262\",\"type\":\"Spacer\"},{\"attributes\":{},\"id\":\"2314\",\"type\":\"UnionRenderers\"},{\"attributes\":{},\"id\":\"2285\",\"type\":\"WheelZoomTool\"},{\"attributes\":{},\"id\":\"2306\",\"type\":\"BasicTickFormatter\"},{\"attributes\":{\"axis\":{\"id\":\"2279\"},\"dimension\":1,\"grid_line_color\":null,\"ticker\":null},\"id\":\"2282\",\"type\":\"Grid\"},{\"attributes\":{},\"id\":\"2273\",\"type\":\"LinearScale\"},{\"attributes\":{},\"id\":\"2283\",\"type\":\"SaveTool\"},{\"attributes\":{\"axis_label\":\"0\",\"bounds\":\"auto\",\"formatter\":{\"id\":\"2304\"},\"major_label_orientation\":\"horizontal\",\"ticker\":{\"id\":\"2276\"}},\"id\":\"2275\",\"type\":\"LinearAxis\"},{\"attributes\":{\"active_drag\":\"auto\",\"active_inspect\":\"auto\",\"active_multi\":null,\"active_scroll\":\"auto\",\"active_tap\":\"auto\",\"tools\":[{\"id\":\"2265\"},{\"id\":\"2283\"},{\"id\":\"2284\"},{\"id\":\"2285\"},{\"id\":\"2286\"},{\"id\":\"2287\"}]},\"id\":\"2289\",\"type\":\"Toolbar\"},{\"attributes\":{},\"id\":\"2287\",\"type\":\"ResetTool\"},{\"attributes\":{\"overlay\":{\"id\":\"2288\"}},\"id\":\"2286\",\"type\":\"BoxZoomTool\"},{\"attributes\":{\"below\":[{\"id\":\"2275\"}],\"center\":[{\"id\":\"2278\"},{\"id\":\"2282\"}],\"left\":[{\"id\":\"2279\"}],\"margin\":[5,5,5,5],\"min_border_bottom\":10,\"min_border_left\":10,\"min_border_right\":10,\"min_border_top\":10,\"plot_height\":300,\"plot_width\":700,\"renderers\":[{\"id\":\"2302\"}],\"sizing_mode\":\"fixed\",\"title\":{\"id\":\"2267\"},\"toolbar\":{\"id\":\"2289\"},\"x_range\":{\"id\":\"2263\"},\"x_scale\":{\"id\":\"2271\"},\"y_range\":{\"id\":\"2264\"},\"y_scale\":{\"id\":\"2273\"}},\"id\":\"2266\",\"subtype\":\"Figure\",\"type\":\"Plot\"},{\"attributes\":{\"margin\":[5,5,5,5],\"name\":\"HSpacer10618\",\"sizing_mode\":\"stretch_width\"},\"id\":\"2324\",\"type\":\"Spacer\"}],\"root_ids\":[\"2261\"]},\"title\":\"Bokeh Application\",\"version\":\"2.2.3\"}};\n",
       "    var render_items = [{\"docid\":\"45118b67-6a49-4f8f-baf9-2f204f8e4a12\",\"root_ids\":[\"2261\"],\"roots\":{\"2261\":\"c8b117c9-3e45-43bd-9791-ec0432b513d4\"}}];\n",
       "    root.Bokeh.embed.embed_items_notebook(docs_json, render_items);\n",
       "  }\n",
       "  if (root.Bokeh !== undefined && root.Bokeh.Panel !== undefined) {\n",
       "    embed_document(root);\n",
       "  } else {\n",
       "    var attempts = 0;\n",
       "    var timer = setInterval(function(root) {\n",
       "      if (root.Bokeh !== undefined && root.Bokeh.Panel !== undefined) {\n",
       "        clearInterval(timer);\n",
       "        embed_document(root);\n",
       "      } else if (document.readyState == \"complete\") {\n",
       "        attempts++;\n",
       "        if (attempts > 100) {\n",
       "          clearInterval(timer);\n",
       "          console.log(\"Bokeh: ERROR: Unable to run BokehJS code because BokehJS library is missing\");\n",
       "        }\n",
       "      }\n",
       "    }, 10, root)\n",
       "  }\n",
       "})(window);</script>"
      ],
      "text/plain": [
       ":Distribution   [0]   (Density)"
      ]
     },
     "execution_count": 21,
     "metadata": {
      "application/vnd.holoviews_exec.v0+json": {
       "id": "2261"
      }
     },
     "output_type": "execute_result"
    }
   ],
   "source": [
    "performance.hvplot.kde()"
   ]
  },
  {
   "cell_type": "code",
   "execution_count": null,
   "id": "expired-silence",
   "metadata": {},
   "outputs": [],
   "source": []
  },
  {
   "cell_type": "code",
   "execution_count": null,
   "id": "unusual-somerset",
   "metadata": {},
   "outputs": [],
   "source": []
  }
 ],
 "metadata": {
  "kernelspec": {
   "display_name": "Python 3",
   "language": "python",
   "name": "python3"
  },
  "language_info": {
   "codemirror_mode": {
    "name": "ipython",
    "version": 3
   },
   "file_extension": ".py",
   "mimetype": "text/x-python",
   "name": "python",
   "nbconvert_exporter": "python",
   "pygments_lexer": "ipython3",
   "version": "3.8.6"
  }
 },
 "nbformat": 4,
 "nbformat_minor": 5
}
