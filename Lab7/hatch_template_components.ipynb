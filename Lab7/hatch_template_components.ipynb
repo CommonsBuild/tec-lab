{
 "cells": [
  {
   "cell_type": "code",
   "execution_count": 34,
   "metadata": {},
   "outputs": [],
   "source": [
    "doc = \"\"\"\n",
    "This jupyter notebook is authored by ygg_anderson for the Token Engineering Commons. See appropriate licensing. 🐧 🐧 🐧\n",
    "\"\"\"\n",
    "\n",
    "import param\n",
    "import panel as pn\n",
    "import pandas as pd\n",
    "import hvplot.pandas\n",
    "import holoviews as hv\n",
    "import numpy as np\n",
    "from scipy.stats.mstats import gmean\n",
    "pn.extension()\n",
    "\n",
    "\n",
    "# Load CSTK data\n",
    "cstk_data = pd.read_csv('CSTK_DATA.csv', header=None).reset_index().head(100)\n",
    "cstk_data.columns = ['CSTK Token Holders', 'CSTK Tokens']\n",
    "cstk_data['CSTK Tokens Capped'] = cstk_data['CSTK Tokens'].apply(lambda x: min(x, cstk_data['CSTK Tokens'].sum()/10))"
   ]
  },
  {
   "cell_type": "code",
   "execution_count": 35,
   "metadata": {},
   "outputs": [
    {
     "data": {
      "text/html": [
       "<div>\n",
       "<style scoped>\n",
       "    .dataframe tbody tr th:only-of-type {\n",
       "        vertical-align: middle;\n",
       "    }\n",
       "\n",
       "    .dataframe tbody tr th {\n",
       "        vertical-align: top;\n",
       "    }\n",
       "\n",
       "    .dataframe thead th {\n",
       "        text-align: right;\n",
       "    }\n",
       "</style>\n",
       "<table border=\"1\" class=\"dataframe\">\n",
       "  <thead>\n",
       "    <tr style=\"text-align: right;\">\n",
       "      <th></th>\n",
       "      <th>CSTK Token Holders</th>\n",
       "      <th>CSTK Tokens</th>\n",
       "      <th>CSTK Tokens Capped</th>\n",
       "    </tr>\n",
       "  </thead>\n",
       "  <tbody>\n",
       "    <tr>\n",
       "      <th>0</th>\n",
       "      <td>0</td>\n",
       "      <td>176256</td>\n",
       "      <td>83367.7</td>\n",
       "    </tr>\n",
       "    <tr>\n",
       "      <th>1</th>\n",
       "      <td>1</td>\n",
       "      <td>112192</td>\n",
       "      <td>83367.7</td>\n",
       "    </tr>\n",
       "    <tr>\n",
       "      <th>2</th>\n",
       "      <td>2</td>\n",
       "      <td>46263</td>\n",
       "      <td>46263.0</td>\n",
       "    </tr>\n",
       "    <tr>\n",
       "      <th>3</th>\n",
       "      <td>3</td>\n",
       "      <td>44539</td>\n",
       "      <td>44539.0</td>\n",
       "    </tr>\n",
       "    <tr>\n",
       "      <th>4</th>\n",
       "      <td>4</td>\n",
       "      <td>30783</td>\n",
       "      <td>30783.0</td>\n",
       "    </tr>\n",
       "    <tr>\n",
       "      <th>...</th>\n",
       "      <td>...</td>\n",
       "      <td>...</td>\n",
       "      <td>...</td>\n",
       "    </tr>\n",
       "    <tr>\n",
       "      <th>95</th>\n",
       "      <td>95</td>\n",
       "      <td>570</td>\n",
       "      <td>570.0</td>\n",
       "    </tr>\n",
       "    <tr>\n",
       "      <th>96</th>\n",
       "      <td>96</td>\n",
       "      <td>565</td>\n",
       "      <td>565.0</td>\n",
       "    </tr>\n",
       "    <tr>\n",
       "      <th>97</th>\n",
       "      <td>97</td>\n",
       "      <td>563</td>\n",
       "      <td>563.0</td>\n",
       "    </tr>\n",
       "    <tr>\n",
       "      <th>98</th>\n",
       "      <td>98</td>\n",
       "      <td>560</td>\n",
       "      <td>560.0</td>\n",
       "    </tr>\n",
       "    <tr>\n",
       "      <th>99</th>\n",
       "      <td>99</td>\n",
       "      <td>550</td>\n",
       "      <td>550.0</td>\n",
       "    </tr>\n",
       "  </tbody>\n",
       "</table>\n",
       "<p>100 rows × 3 columns</p>\n",
       "</div>"
      ],
      "text/plain": [
       "    CSTK Token Holders  CSTK Tokens  CSTK Tokens Capped\n",
       "0                    0       176256             83367.7\n",
       "1                    1       112192             83367.7\n",
       "2                    2        46263             46263.0\n",
       "3                    3        44539             44539.0\n",
       "4                    4        30783             30783.0\n",
       "..                 ...          ...                 ...\n",
       "95                  95          570               570.0\n",
       "96                  96          565               565.0\n",
       "97                  97          563               563.0\n",
       "98                  98          560               560.0\n",
       "99                  99          550               550.0\n",
       "\n",
       "[100 rows x 3 columns]"
      ]
     },
     "execution_count": 35,
     "metadata": {},
     "output_type": "execute_result"
    }
   ],
   "source": [
    "cstk_data"
   ]
  },
  {
   "cell_type": "markdown",
   "metadata": {},
   "source": [
    "# Hatch Template!"
   ]
  },
  {
   "cell_type": "code",
   "execution_count": 36,
   "metadata": {},
   "outputs": [],
   "source": [
    "class Hatch(param.Parameterized):\n",
    "    # CSTK Ratio\n",
    "    total_cstk_tokens = param.Number(cstk_data['CSTK Tokens Capped'].sum(), constant=True)\n",
    "    hatch_oracle_ratio = param.Number(0.005, bounds=(0.005, 100), step=0.005)\n",
    "    \n",
    "    # Min and Target Goals\n",
    "    max_raise = param.Number(0.75, bounds=(0.5,1), step=0.01)\n",
    "    min_raise = param.Number(0.05, bounds=(0.01,0.5), step=0.01)\n",
    "    target_raise = param.Number(0.50, bounds=(0.01,1), step=0.01) \n",
    "    \n",
    "    # Hatch params\n",
    "    hatch_period_days = param.Integer(15, bounds=(5, 30), step=2)\n",
    "    \n",
    "    # Number of TESTTEC exchanged for 1 wxdai\n",
    "    hatch_exchange_rate = param.Number(10000, bounds=(1,100000), step=1) \n",
    "    hatch_tribute = param.Number(0.05, bounds=(0,1))    \n",
    "    \n",
    "    def min_goal(self):\n",
    "        return self.min_raise * self.total_cstk_tokens * self.hatch_oracle_ratio\n",
    "    \n",
    "    def max_goal(self):\n",
    "        return self.max_raise * self.total_cstk_tokens * self.hatch_oracle_ratio\n",
    "\n",
    "    def wxdai_range(self):\n",
    "        return pn.Row(pn.Pane(\"Cap on wxdai staked: \"), self.hatch_oracle_ratio * self.total_cstk_tokens)\n",
    "    \n",
    "    def hatch_raise_view(self):\n",
    "        # Load CSTK data\n",
    "        cstk_data = pd.read_csv('CSTK_DATA.csv', header=None).reset_index().head(100)\n",
    "        cstk_data.columns = ['CSTK Token Holders', 'CSTK Tokens']\n",
    "        cstk_data['CSTK Tokens Capped'] = cstk_data['CSTK Tokens'].apply(lambda x: min(x, cstk_data['CSTK Tokens'].sum()/10))\n",
    "        cstk_data['Cap raise'] = cstk_data['CSTK Tokens Capped'] * self.hatch_oracle_ratio\n",
    "\n",
    "        cap_plot = cstk_data.hvplot.area(title=\"Raise Targets Per Hatcher\", x='CSTK Token Holders', y='Cap raise', yformatter='%.0f', label=\"Cap Raise\", ylabel=\"XDAI Staked\")\n",
    "\n",
    "        cstk_data['max_goal'] = cstk_data['Cap raise'] * self.max_raise\n",
    "        max_plot = cstk_data.hvplot.area(x='CSTK Token Holders', y='max_goal', yformatter='%.0f', label=\"Max Raise\")\n",
    "\n",
    "        cstk_data['min_goal'] = cstk_data['Cap raise'] * self.min_raise\n",
    "        min_plot = cstk_data.hvplot.area(x='CSTK Token Holders', y='min_goal', yformatter='%.0f', label=\"Min Raise\")\n",
    "\n",
    "        cstk_data['target_goal'] = cstk_data['Cap raise'] * self.target_raise \n",
    "        target_plot = cstk_data.hvplot.line(x='CSTK Token Holders', y='target_goal', yformatter='%.0f', label=\"Target Raise\")\n",
    "        \n",
    "        raise_bars = cstk_data.iloc[:,3:].sum().sort_values(ascending=False).hvplot.bar(yformatter='%.0f', title=\"Total Raise Targets\")\n",
    "        \n",
    "        stats = pd.DataFrame(cstk_data.iloc[:,3:].sum(), columns=['Total XDAI Raise'])\n",
    "        stats['GMean XDAI Co-vested Per Hatcher'] = gmean(cstk_data.iloc[:,3:])\n",
    "        stats['XDAI Hatch Tribute'] = stats['Total XDAI Raise'] * self.hatch_tribute\n",
    "        stats['Total TECH Tokens'] = stats['Total XDAI Raise'] * self.hatch_exchange_rate\n",
    "        \n",
    "        \n",
    "        return pn.Column(cap_plot * max_plot * min_plot * target_plot, raise_bars, stats.sort_values('Total XDAI Raise',ascending=False).apply(round).reset_index().hvplot.table())"
   ]
  },
  {
   "cell_type": "code",
   "execution_count": 37,
   "metadata": {},
   "outputs": [
    {
     "data": {},
     "metadata": {},
     "output_type": "display_data"
    },
    {
     "data": {
      "application/vnd.holoviews_exec.v0+json": "",
      "text/html": [
       "<div id='5815'>\n",
       "\n",
       "\n",
       "\n",
       "\n",
       "\n",
       "  <div class=\"bk-root\" id=\"97b40d96-35f7-4f1b-9f9c-0b1d3d6017bc\" data-root-id=\"5815\"></div>\n",
       "</div>\n",
       "<script type=\"application/javascript\">(function(root) {\n",
       "  function embed_document(root) {\n",
       "    var docs_json = {\"e00eb39a-b105-40d3-a5d9-cf058cb7c968\":{\"roots\":{\"references\":[{\"attributes\":{\"client_comm_id\":\"b4268f04bb454e179da055b555cf238d\",\"comm_id\":\"b90d4672e7ff43dd9ec9bdf2151f417c\",\"plot_id\":\"5815\"},\"id\":\"5818\",\"type\":\"panel.models.comm_manager.CommManager\"},{\"attributes\":{\"end\":10,\"format\":\"0[.]00\",\"margin\":[5,10,5,10],\"start\":0,\"title\":\"Integer range\",\"value\":[3,7],\"value_throttled\":[3,7]},\"id\":\"5817\",\"type\":\"RangeSlider\"},{\"attributes\":{\"margin\":[5,10,5,10],\"name\":\"\",\"text\":\"<b>A</b>\"},\"id\":\"5816\",\"type\":\"Div\"},{\"attributes\":{\"children\":[{\"id\":\"5816\"},{\"id\":\"5817\"}],\"margin\":[5,5,5,5],\"min_width\":300,\"name\":\"A\",\"width\":300},\"id\":\"5815\",\"type\":\"Column\"}],\"root_ids\":[\"5815\",\"5818\"]},\"title\":\"Bokeh Application\",\"version\":\"2.2.3\"}};\n",
       "    var render_items = [{\"docid\":\"e00eb39a-b105-40d3-a5d9-cf058cb7c968\",\"root_ids\":[\"5815\"],\"roots\":{\"5815\":\"97b40d96-35f7-4f1b-9f9c-0b1d3d6017bc\"}}];\n",
       "    root.Bokeh.embed.embed_items_notebook(docs_json, render_items);\n",
       "  }\n",
       "  if (root.Bokeh !== undefined && root.Bokeh.Panel !== undefined) {\n",
       "    embed_document(root);\n",
       "  } else {\n",
       "    var attempts = 0;\n",
       "    var timer = setInterval(function(root) {\n",
       "      if (root.Bokeh !== undefined && root.Bokeh.Panel !== undefined) {\n",
       "        clearInterval(timer);\n",
       "        embed_document(root);\n",
       "      } else if (document.readyState == \"complete\") {\n",
       "        attempts++;\n",
       "        if (attempts > 100) {\n",
       "          clearInterval(timer);\n",
       "          console.log(\"Bokeh: ERROR: Unable to run BokehJS code because BokehJS library is missing\");\n",
       "        }\n",
       "      }\n",
       "    }, 10, root)\n",
       "  }\n",
       "})(window);</script>"
      ],
      "text/plain": [
       "Param(ParameterizedMetaclass, name='A')"
      ]
     },
     "execution_count": 37,
     "metadata": {
      "application/vnd.holoviews_exec.v0+json": {
       "id": "5815"
      }
     },
     "output_type": "execute_result"
    }
   ],
   "source": [
    "## Use range for min_goal, max_goal in the next notebook\n",
    "\n",
    "class A(param.Parameterized):\n",
    "    integer_range = param.Range(default=(3, 7), bounds=(0, 10))\n",
    "pn.Pane(A)"
   ]
  },
  {
   "cell_type": "code",
   "execution_count": 38,
   "metadata": {},
   "outputs": [
    {
     "data": {},
     "metadata": {},
     "output_type": "display_data"
    },
    {
     "data": {},
     "metadata": {},
     "output_type": "display_data"
    },
    {
     "data": {
      "application/vnd.holoviews_exec.v0+json": "",
      "text/html": [
       "<div id='5819'>\n",
       "\n",
       "\n",
       "\n",
       "\n",
       "\n",
       "  <div class=\"bk-root\" id=\"7d2da07f-df67-476f-96fe-e21812fe4e57\" data-root-id=\"5819\"></div>\n",
       "</div>\n",
       "<script type=\"application/javascript\">(function(root) {\n",
       "  function embed_document(root) {\n",
       "    var docs_json = {\"b6cf0a1f-6524-4e19-8da2-bce8f031b8e1\":{\"roots\":{\"references\":[{\"attributes\":{},\"id\":\"5855\",\"type\":\"SaveTool\"},{\"attributes\":{\"editor\":{\"id\":\"6136\"},\"field\":\"index\",\"formatter\":{\"id\":\"6135\"},\"title\":\"index\"},\"id\":\"6137\",\"type\":\"TableColumn\"},{\"attributes\":{},\"id\":\"5951\",\"type\":\"UnionRenderers\"},{\"attributes\":{\"fill_alpha\":{\"value\":0.1},\"fill_color\":{\"value\":\"#1f77b3\"},\"line_alpha\":{\"value\":0.1},\"top\":{\"field\":\"A_0\"},\"width\":{\"value\":0.8},\"x\":{\"field\":\"index\"}},\"id\":\"6108\",\"type\":\"VBar\"},{\"attributes\":{\"format\":\"0,0.0[00000]\"},\"id\":\"6150\",\"type\":\"NumberFormatter\"},{\"attributes\":{\"below\":[{\"id\":\"6084\"}],\"center\":[{\"id\":\"6086\"},{\"id\":\"6090\"}],\"left\":[{\"id\":\"6087\"}],\"margin\":[5,5,5,5],\"min_border_bottom\":10,\"min_border_left\":10,\"min_border_right\":10,\"min_border_top\":10,\"plot_height\":300,\"plot_width\":700,\"renderers\":[{\"id\":\"6110\"}],\"sizing_mode\":\"fixed\",\"title\":{\"id\":\"6076\"},\"toolbar\":{\"id\":\"6097\"},\"x_range\":{\"id\":\"6072\"},\"x_scale\":{\"id\":\"6080\"},\"y_range\":{\"id\":\"6073\"},\"y_scale\":{\"id\":\"6082\"}},\"id\":\"6075\",\"subtype\":\"Figure\",\"type\":\"Plot\"},{\"attributes\":{\"axis\":{\"id\":\"5847\"},\"grid_line_color\":null,\"ticker\":null},\"id\":\"5850\",\"type\":\"Grid\"},{\"attributes\":{\"callback\":null,\"renderers\":[{\"id\":\"5939\"}],\"tags\":[\"hv_created\"],\"tooltips\":[[\"CSTK Token Holders\",\"@{CSTK_Token_Holders}\"],[\"target_goal\",\"@{target_goal}\"]]},\"id\":\"5837\",\"type\":\"HoverTool\"},{\"attributes\":{\"fill_color\":{\"value\":\"#1f77b3\"},\"top\":{\"field\":\"A_0\"},\"width\":{\"value\":0.8},\"x\":{\"field\":\"index\"}},\"id\":\"6107\",\"type\":\"VBar\"},{\"attributes\":{\"axis_label\":\"XDAI Staked\",\"bounds\":\"auto\",\"formatter\":{\"id\":\"5871\"},\"major_label_orientation\":\"horizontal\",\"ticker\":{\"id\":\"5852\"}},\"id\":\"5851\",\"type\":\"LinearAxis\"},{\"attributes\":{},\"id\":\"6146\",\"type\":\"NumberEditor\"},{\"attributes\":{\"fill_alpha\":1,\"fill_color\":\"#ff7e0e\",\"line_alpha\":1,\"x\":{\"field\":\"x\"},\"y\":{\"field\":\"y\"}},\"id\":\"5899\",\"type\":\"Patch\"},{\"attributes\":{\"format\":\"0,0.0[00000]\"},\"id\":\"6140\",\"type\":\"NumberFormatter\"},{\"attributes\":{},\"id\":\"5848\",\"type\":\"BasicTicker\"},{\"attributes\":{\"active_drag\":\"auto\",\"active_inspect\":\"auto\",\"active_multi\":null,\"active_scroll\":\"auto\",\"active_tap\":\"auto\",\"tools\":[{\"id\":\"5834\"},{\"id\":\"5835\"},{\"id\":\"5836\"},{\"id\":\"5837\"},{\"id\":\"5855\"},{\"id\":\"5856\"},{\"id\":\"5857\"},{\"id\":\"5858\"},{\"id\":\"5859\"}]},\"id\":\"5861\",\"type\":\"Toolbar\"},{\"attributes\":{\"bottom_units\":\"screen\",\"fill_alpha\":0.5,\"fill_color\":\"lightgrey\",\"left_units\":\"screen\",\"level\":\"overlay\",\"line_alpha\":1.0,\"line_color\":\"black\",\"line_dash\":[4,4],\"line_width\":2,\"right_units\":\"screen\",\"top_units\":\"screen\"},\"id\":\"5860\",\"type\":\"BoxAnnotation\"},{\"attributes\":{\"callback\":null,\"renderers\":[{\"id\":\"5884\"}],\"tags\":[\"hv_created\"],\"tooltips\":[[\"CSTK Token Holders\",\"@{CSTK_Token_Holders}\"],[\"Cap raise\",\"@{Cap_raise}\"]]},\"id\":\"5834\",\"type\":\"HoverTool\"},{\"attributes\":{\"line_alpha\":0.1,\"line_color\":\"#1f77b3\",\"line_width\":2,\"x\":{\"field\":\"CSTK Token Holders\"},\"y\":{\"field\":\"target_goal\"}},\"id\":\"5937\",\"type\":\"Line\"},{\"attributes\":{},\"id\":\"6095\",\"type\":\"ResetTool\"},{\"attributes\":{\"source\":{\"id\":\"6104\"}},\"id\":\"6111\",\"type\":\"CDSView\"},{\"attributes\":{\"disabled\":true,\"format\":null,\"margin\":[5,10,5,10],\"placeholder\":\"0\",\"step\":0.1,\"title\":\"Total cstk tokens\",\"value\":711964.4,\"value_throttled\":711964.4},\"id\":\"5822\",\"type\":\"Spinner\"},{\"attributes\":{\"fill_alpha\":0.2,\"fill_color\":\"#ff7e0e\",\"line_alpha\":0.2,\"x\":{\"field\":\"x\"},\"y\":{\"field\":\"y\"}},\"id\":\"5900\",\"type\":\"Patch\"},{\"attributes\":{\"overlay\":{\"id\":\"5860\"}},\"id\":\"5858\",\"type\":\"BoxZoomTool\"},{\"attributes\":{\"active_drag\":\"auto\",\"active_inspect\":\"auto\",\"active_multi\":null,\"active_scroll\":\"auto\",\"active_tap\":\"auto\",\"tools\":[{\"id\":\"6074\"},{\"id\":\"6091\"},{\"id\":\"6092\"},{\"id\":\"6093\"},{\"id\":\"6094\"},{\"id\":\"6095\"}]},\"id\":\"6097\",\"type\":\"Toolbar\"},{\"attributes\":{\"format\":\"%.0f\"},\"id\":\"6112\",\"type\":\"PrintfTickFormatter\"},{\"attributes\":{\"source\":{\"id\":\"5878\"}},\"id\":\"5885\",\"type\":\"CDSView\"},{\"attributes\":{},\"id\":\"6156\",\"type\":\"NumberEditor\"},{\"attributes\":{},\"id\":\"5872\",\"type\":\"BasicTickFormatter\"},{\"attributes\":{\"end\":100000,\"format\":\"0[.]00\",\"margin\":[5,10,5,10],\"start\":1,\"title\":\"Hatch exchange rate\",\"value\":10000,\"value_throttled\":10000},\"id\":\"5828\",\"type\":\"Slider\"},{\"attributes\":{\"source\":{\"id\":\"5933\"}},\"id\":\"5940\",\"type\":\"CDSView\"},{\"attributes\":{\"format\":\"%.0f\"},\"id\":\"5871\",\"type\":\"PrintfTickFormatter\"},{\"attributes\":{\"fill_alpha\":{\"value\":0.2},\"fill_color\":{\"value\":\"#1f77b3\"},\"line_alpha\":{\"value\":0.2},\"top\":{\"field\":\"A_0\"},\"width\":{\"value\":0.8},\"x\":{\"field\":\"index\"}},\"id\":\"6109\",\"type\":\"VBar\"},{\"attributes\":{\"editor\":{\"id\":\"6156\"},\"field\":\"Total_TECH_Tokens\",\"formatter\":{\"id\":\"6155\"},\"title\":\"Total TECH Tokens\"},\"id\":\"6157\",\"type\":\"TableColumn\"},{\"attributes\":{\"fill_color\":\"#1f77b3\",\"x\":{\"field\":\"x\"},\"y\":{\"field\":\"y\"}},\"id\":\"5881\",\"type\":\"Patch\"},{\"attributes\":{},\"id\":\"5857\",\"type\":\"WheelZoomTool\"},{\"attributes\":{},\"id\":\"5852\",\"type\":\"BasicTicker\"},{\"attributes\":{},\"id\":\"5896\",\"type\":\"Selection\"},{\"attributes\":{\"fill_color\":\"#ff7e0e\",\"x\":{\"field\":\"x\"},\"y\":{\"field\":\"y\"}},\"id\":\"5898\",\"type\":\"Patch\"},{\"attributes\":{\"margin\":[5,10,5,10],\"name\":\"\",\"text\":\"<b>Hatch</b>\"},\"id\":\"5821\",\"type\":\"Div\"},{\"attributes\":{},\"id\":\"6085\",\"type\":\"CategoricalTicker\"},{\"attributes\":{},\"id\":\"6091\",\"type\":\"SaveTool\"},{\"attributes\":{\"line_alpha\":0.2,\"line_color\":\"#1f77b3\",\"line_width\":2,\"x\":{\"field\":\"CSTK Token Holders\"},\"y\":{\"field\":\"target_goal\"}},\"id\":\"5938\",\"type\":\"Line\"},{\"attributes\":{},\"id\":\"6113\",\"type\":\"CategoricalTickFormatter\"},{\"attributes\":{},\"id\":\"6093\",\"type\":\"WheelZoomTool\"},{\"attributes\":{\"data_source\":{\"id\":\"6104\"},\"glyph\":{\"id\":\"6107\"},\"hover_glyph\":null,\"muted_glyph\":{\"id\":\"6109\"},\"nonselection_glyph\":{\"id\":\"6108\"},\"selection_glyph\":null,\"view\":{\"id\":\"6111\"}},\"id\":\"6110\",\"type\":\"GlyphRenderer\"},{\"attributes\":{},\"id\":\"5909\",\"type\":\"UnionRenderers\"},{\"attributes\":{\"below\":[{\"id\":\"5847\"}],\"center\":[{\"id\":\"5850\"},{\"id\":\"5854\"},{\"id\":\"5893\"}],\"left\":[{\"id\":\"5851\"}],\"margin\":[5,5,5,5],\"min_border_bottom\":10,\"min_border_left\":10,\"min_border_right\":10,\"min_border_top\":10,\"plot_height\":300,\"plot_width\":700,\"renderers\":[{\"id\":\"5884\"},{\"id\":\"5901\"},{\"id\":\"5919\"},{\"id\":\"5939\"}],\"sizing_mode\":\"fixed\",\"title\":{\"id\":\"5839\"},\"toolbar\":{\"id\":\"5861\"},\"x_range\":{\"id\":\"5832\"},\"x_scale\":{\"id\":\"5843\"},\"y_range\":{\"id\":\"5833\"},\"y_scale\":{\"id\":\"5845\"}},\"id\":\"5838\",\"subtype\":\"Figure\",\"type\":\"Plot\"},{\"attributes\":{\"data_source\":{\"id\":\"5895\"},\"glyph\":{\"id\":\"5898\"},\"hover_glyph\":null,\"muted_glyph\":{\"id\":\"5900\"},\"nonselection_glyph\":{\"id\":\"5899\"},\"selection_glyph\":null,\"view\":{\"id\":\"5902\"}},\"id\":\"5901\",\"type\":\"GlyphRenderer\"},{\"attributes\":{},\"id\":\"5859\",\"type\":\"ResetTool\"},{\"attributes\":{\"children\":[{\"id\":\"5831\"}],\"margin\":[0,0,0,0],\"name\":\"Row14563\"},\"id\":\"5830\",\"type\":\"Row\"},{\"attributes\":{},\"id\":\"6082\",\"type\":\"LinearScale\"},{\"attributes\":{\"source\":{\"id\":\"5895\"}},\"id\":\"5902\",\"type\":\"CDSView\"},{\"attributes\":{\"label\":{\"value\":\"Target Raise\"},\"renderers\":[{\"id\":\"5939\"}]},\"id\":\"5954\",\"type\":\"LegendItem\"},{\"attributes\":{\"callback\":null,\"renderers\":[{\"id\":\"5919\"}],\"tags\":[\"hv_created\"],\"tooltips\":[[\"CSTK Token Holders\",\"@{CSTK_Token_Holders}\"],[\"min_goal\",\"@{min_goal}\"]]},\"id\":\"5836\",\"type\":\"HoverTool\"},{\"attributes\":{\"line_color\":\"#1f77b3\",\"line_width\":2,\"x\":{\"field\":\"CSTK Token Holders\"},\"y\":{\"field\":\"target_goal\"}},\"id\":\"5936\",\"type\":\"Line\"},{\"attributes\":{\"children\":[{\"id\":\"5820\"},{\"id\":\"5830\"}],\"margin\":[0,0,0,0],\"name\":\"Row15035\"},\"id\":\"5819\",\"type\":\"Row\"},{\"attributes\":{},\"id\":\"5845\",\"type\":\"LinearScale\"},{\"attributes\":{\"data_source\":{\"id\":\"5933\"},\"glyph\":{\"id\":\"5936\"},\"hover_glyph\":null,\"muted_glyph\":{\"id\":\"5938\"},\"nonselection_glyph\":{\"id\":\"5937\"},\"selection_glyph\":null,\"view\":{\"id\":\"5940\"}},\"id\":\"5939\",\"type\":\"GlyphRenderer\"},{\"attributes\":{\"data\":{\"A_0\":{\"__ndarray__\":\"nhov3aTPq0D4U+Olu9ukQJ4aL92kz5tAGeJYF7c/ZkA=\",\"dtype\":\"float64\",\"order\":\"little\",\"shape\":[4]},\"index\":[\"Cap raise\",\"max_goal\",\"target_goal\",\"min_goal\"]},\"selected\":{\"id\":\"6105\"},\"selection_policy\":{\"id\":\"6123\"}},\"id\":\"6104\",\"type\":\"ColumnDataSource\"},{\"attributes\":{\"axis_label\":\"CSTK Token Holders\",\"bounds\":\"auto\",\"formatter\":{\"id\":\"5872\"},\"major_label_orientation\":\"horizontal\",\"ticker\":{\"id\":\"5848\"}},\"id\":\"5847\",\"type\":\"LinearAxis\"},{\"attributes\":{\"text\":\"Total Raise Targets\",\"text_color\":{\"value\":\"black\"},\"text_font_size\":{\"value\":\"12pt\"}},\"id\":\"6076\",\"type\":\"Title\"},{\"attributes\":{\"callback\":null,\"renderers\":[{\"id\":\"5901\"}],\"tags\":[\"hv_created\"],\"tooltips\":[[\"CSTK Token Holders\",\"@{CSTK_Token_Holders}\"],[\"max_goal\",\"@{max_goal}\"]]},\"id\":\"5835\",\"type\":\"HoverTool\"},{\"attributes\":{\"end\":100,\"format\":\"0[.]00\",\"margin\":[5,10,5,10],\"start\":0.005,\"step\":0.005,\"title\":\"Hatch oracle ratio\",\"value\":0.005,\"value_throttled\":0.005},\"id\":\"5823\",\"type\":\"Slider\"},{\"attributes\":{\"children\":[{\"id\":\"5821\"},{\"id\":\"5822\"},{\"id\":\"5823\"},{\"id\":\"5824\"},{\"id\":\"5825\"},{\"id\":\"5826\"},{\"id\":\"5827\"},{\"id\":\"5828\"},{\"id\":\"5829\"}],\"margin\":[5,5,5,5],\"min_width\":300,\"name\":\"Hatch\",\"width\":300},\"id\":\"5820\",\"type\":\"Column\"},{\"attributes\":{\"callback\":null,\"renderers\":[{\"id\":\"6110\"}],\"tags\":[\"hv_created\"],\"tooltips\":[[\"index\",\"@{index}\"],[\"0\",\"@{A_0}\"]]},\"id\":\"6074\",\"type\":\"HoverTool\"},{\"attributes\":{\"client_comm_id\":\"1cd91ecae020440184e7f88459888c77\",\"comm_id\":\"2086e78adeb04b0796b0d748dbd95f37\",\"plot_id\":\"5819\"},\"id\":\"6232\",\"type\":\"panel.models.comm_manager.CommManager\"},{\"attributes\":{\"end\":30,\"format\":\"0[.]00\",\"margin\":[5,10,5,10],\"start\":5,\"step\":2,\"title\":\"Hatch period days\",\"value\":15,\"value_throttled\":15},\"id\":\"5827\",\"type\":\"Slider\"},{\"attributes\":{},\"id\":\"6105\",\"type\":\"Selection\"},{\"attributes\":{\"end\":3898.005089999999,\"reset_end\":3898.005089999999,\"reset_start\":0.0,\"tags\":[[[\"0\",\"0\",null]]]},\"id\":\"6073\",\"type\":\"Range1d\"},{\"attributes\":{\"fill_alpha\":1,\"fill_color\":\"#1f77b3\",\"line_alpha\":1,\"x\":{\"field\":\"x\"},\"y\":{\"field\":\"y\"}},\"id\":\"5882\",\"type\":\"Patch\"},{\"attributes\":{},\"id\":\"5843\",\"type\":\"LinearScale\"},{\"attributes\":{\"axis_label\":\"\",\"bounds\":\"auto\",\"formatter\":{\"id\":\"6113\"},\"major_label_orientation\":\"horizontal\",\"ticker\":{\"id\":\"6085\"}},\"id\":\"6084\",\"type\":\"CategoricalAxis\"},{\"attributes\":{\"axis\":{\"id\":\"6084\"},\"grid_line_color\":null,\"ticker\":null},\"id\":\"6086\",\"type\":\"Grid\"},{\"attributes\":{\"data\":{\"x\":[0,1,2,3,4,5,6,7,8,9,10,11,12,13,14,15,16,17,18,19,20,21,22,23,24,25,26,27,28,29,30,31,32,33,34,35,36,37,38,39,40,41,42,43,44,45,46,47,48,49,50,51,52,53,54,55,56,57,58,59,60,61,62,63,64,65,66,67,68,69,70,71,72,73,74,75,76,77,78,79,80,81,82,83,84,85,86,87,88,89,90,91,92,93,94,95,96,97,98,99,99,98,97,96,95,94,93,92,91,90,89,88,87,86,85,84,83,82,81,80,79,78,77,76,75,74,73,72,71,70,69,68,67,66,65,64,63,62,61,60,59,58,57,56,55,54,53,52,51,50,49,48,47,46,45,44,43,42,41,40,39,38,37,36,35,34,33,32,31,30,29,28,27,26,25,24,23,22,21,20,19,18,17,16,15,14,13,12,11,10,9,8,7,6,5,4,3,2,1,0],\"y\":{\"__ndarray__\":\"AAAAAAAAAAAAAAAAAAAAAAAAAAAAAAAAAAAAAAAAAAAAAAAAAAAAAAAAAAAAAAAAAAAAAAAAAAAAAAAAAAAAAAAAAAAAAAAAAAAAAAAAAAAAAAAAAAAAAAAAAAAAAAAAAAAAAAAAAAAAAAAAAAAAAAAAAAAAAAAAAAAAAAAAAAAAAAAAAAAAAAAAAAAAAAAAAAAAAAAAAAAAAAAAAAAAAAAAAAAAAAAAAAAAAAAAAAAAAAAAAAAAAAAAAAAAAAAAAAAAAAAAAAAAAAAAAAAAAAAAAAAAAAAAAAAAAAAAAAAAAAAAAAAAAAAAAAAAAAAAAAAAAAAAAAAAAAAAAAAAAAAAAAAAAAAAAAAAAAAAAAAAAAAAAAAAAAAAAAAAAAAAAAAAAAAAAAAAAAAAAAAAAAAAAAAAAAAAAAAAAAAAAAAAAAAAAAAAAAAAAAAAAAAAAAAAAAAAAAAAAAAAAAAAAAAAAAAAAAAAAAAAAAAAAAAAAAAAAAAAAAAAAAAAAAAAAAAAAAAAAAAAAAAAAAAAAAAAAAAAAAAAAAAAAAAAAAAAAAAAAAAAAAAAAAAAAAAAAAAAAAAAAAAAAAAAAAAAAAAAAAAAAAAAAAAAAAAAAAAAAAAAAAAAAAAAAAAAAAAAAAAAAAAAAAAAAAAAAAAAAAAAAAAAAAAAAAAAAAAAAAAAAAAAAAAAAAAAAAAAAAAAAAAAAAAAAAAAAAAAAAAAAAAAAAAAAAAAAAAAAAAAAAAAAAAAAAAAAAAAAAAAAAAAAAAAAAAAAAAAAAAAAAAAAAAAAAAAAAAAAAAAAAAAAAAAAAAAAAAAAAAAAAAAAAAAAAAAAAAAAAAAAAAAAAAAAAAAAAAAAAAAAAAAAAAAAAAAAAAAAAAAAAAAAAAAAAAAAAAAAAAAAAAAAAAAAAAAAAAAAAAAAAAAAAAAAAAAAAAAAAAAAAAAAAAAAAAAAAAAAAAAAAAAAAAAAAAAAAAAAAAAAAAAAAAAAAAAAAAAAAAAAAAAAAAAAAAAAAAAAAAAAAAAAAAAAAAAAAAAAAAAAAAAAAAAAAAAAAAAAAAAAAAAAAAAAIAAQM3MzMzMzABApHA9CtfjAEA0MzMzM/MAQJqZmZmZGQFAPgrXo3A9AkAAAAAAAIADQJqZmZmZGQRAcT0K16MwBEBI4XoUrkcEQB+F61G4XgRAFa5H4XpUBUBmZmZmZuYFQDQzMzMzMwZA9ihcj8K1BkCF61G4HoUHQBWuR+F6lAdAAAAAAAAACED2KFyPwjUIQD4K16NwPQhAwvUoXI9CCUAAAAAAAIAJQGdmZmZmpglAFK5H4XrUDEAghetRuF4NQPYoXI/CdQ1AzMzMzMxMDkBxPQrXo7AOQIXrUbgexQ9AzMzMzMzMD0AK16NwPUoQQK5H4XoUDhFAexSuR+FaEUBxPQrXo/ARQJDC9ShcLxNArkfhehQOFEAVrkfhevQUQArXo3A9ihVAH4XrUbjeFUD2KFyPwrUWQML1KFyPYhdArkfhehTOGkBnZmZmZiYbQMzMzMzMTBtAZ2ZmZmZmHUBdj8L1KBwfQKRwPQrXIx9AwvUoXI9CH0BSuB6F67EfQF2PwvUo3B9AH4XrUbg+IEDrUbgehesgQClcj8L1KCFA61G4HoVLIUCQwvUoXK8hQM3MzMzMHCJA4XoUrkehIkDsUbgehWslQDQzMzMzcyVAzczMzMxsJkA+CtejcL0mQOxRuB6FGydA7FG4HoV7KkBxPQrXo4ArQCpcj8L1yCxAhetRuB7dMEC4HoXrUQgxQKRwPQrXQzFAmpmZmZnBMUDC9ShcjwoyQGZmZmZmPjJAwvUoXI+aMkA0MzMzMyM0QLgehetRmDRAPgrXo3CdNUCkcD0K18M1QOxRuB6FEzZAkML1KFx3NkBSuB6F68k8QOtRuB6Ff0BA9ihcj8LJQUD2KFyPwhFCQNejcD0KW0NAPgrXo3CVRECF61G4HgVGQLgehetRJEZAcT0K16M0RkAAAAAAACBMQPYoXI/CqUxASOF6FK55UkAVrkfheopSQJqZmZmZ/1JAzczMzMyGVEDC9Shcj3hWQF2PwvUoZFxAUrgehevbXEBI4XoUruBkQML1KFyPr2VAWmQ73w+Kc0BaZDvfD4pzQA==\",\"dtype\":\"float64\",\"order\":\"little\",\"shape\":[200]}},\"selected\":{\"id\":\"5896\"},\"selection_policy\":{\"id\":\"5909\"}},\"id\":\"5895\",\"type\":\"ColumnDataSource\"},{\"attributes\":{},\"id\":\"5879\",\"type\":\"Selection\"},{\"attributes\":{},\"id\":\"6151\",\"type\":\"NumberEditor\"},{\"attributes\":{},\"id\":\"6088\",\"type\":\"BasicTicker\"},{\"attributes\":{\"axis_label\":\"\",\"bounds\":\"auto\",\"formatter\":{\"id\":\"6112\"},\"major_label_orientation\":\"horizontal\",\"ticker\":{\"id\":\"6088\"}},\"id\":\"6087\",\"type\":\"LinearAxis\"},{\"attributes\":{\"bottom_units\":\"screen\",\"fill_alpha\":0.5,\"fill_color\":\"lightgrey\",\"left_units\":\"screen\",\"level\":\"overlay\",\"line_alpha\":1.0,\"line_color\":\"black\",\"line_dash\":[4,4],\"line_width\":2,\"right_units\":\"screen\",\"top_units\":\"screen\"},\"id\":\"6096\",\"type\":\"BoxAnnotation\"},{\"attributes\":{},\"id\":\"6162\",\"type\":\"UnionRenderers\"},{\"attributes\":{\"data\":{\"x\":[0,1,2,3,4,5,6,7,8,9,10,11,12,13,14,15,16,17,18,19,20,21,22,23,24,25,26,27,28,29,30,31,32,33,34,35,36,37,38,39,40,41,42,43,44,45,46,47,48,49,50,51,52,53,54,55,56,57,58,59,60,61,62,63,64,65,66,67,68,69,70,71,72,73,74,75,76,77,78,79,80,81,82,83,84,85,86,87,88,89,90,91,92,93,94,95,96,97,98,99,99,98,97,96,95,94,93,92,91,90,89,88,87,86,85,84,83,82,81,80,79,78,77,76,75,74,73,72,71,70,69,68,67,66,65,64,63,62,61,60,59,58,57,56,55,54,53,52,51,50,49,48,47,46,45,44,43,42,41,40,39,38,37,36,35,34,33,32,31,30,29,28,27,26,25,24,23,22,21,20,19,18,17,16,15,14,13,12,11,10,9,8,7,6,5,4,3,2,1,0],\"y\":{\"__ndarray__\":\"AAAAAAAAAAAAAAAAAAAAAAAAAAAAAAAAAAAAAAAAAAAAAAAAAAAAAAAAAAAAAAAAAAAAAAAAAAAAAAAAAAAAAAAAAAAAAAAAAAAAAAAAAAAAAAAAAAAAAAAAAAAAAAAAAAAAAAAAAAAAAAAAAAAAAAAAAAAAAAAAAAAAAAAAAAAAAAAAAAAAAAAAAAAAAAAAAAAAAAAAAAAAAAAAAAAAAAAAAAAAAAAAAAAAAAAAAAAAAAAAAAAAAAAAAAAAAAAAAAAAAAAAAAAAAAAAAAAAAAAAAAAAAAAAAAAAAAAAAAAAAAAAAAAAAAAAAAAAAAAAAAAAAAAAAAAAAAAAAAAAAAAAAAAAAAAAAAAAAAAAAAAAAAAAAAAAAAAAAAAAAAAAAAAAAAAAAAAAAAAAAAAAAAAAAAAAAAAAAAAAAAAAAAAAAAAAAAAAAAAAAAAAAAAAAAAAAAAAAAAAAAAAAAAAAAAAAAAAAAAAAAAAAAAAAAAAAAAAAAAAAAAAAAAAAAAAAAAAAAAAAAAAAAAAAAAAAAAAAAAAAAAAAAAAAAAAAAAAAAAAAAAAAAAAAAAAAAAAAAAAAAAAAAAAAAAAAAAAAAAAAAAAAAAAAAAAAAAAAAAAAAAAAAAAAAAAAAAAAAAAAAAAAAAAAAAAAAAAAAAAAAAAAAAAAAAAAAAAAAAAAAAAAAAAAAAAAAAAAAAAAAAAAAAAAAAAAAAAAAAAAAAAAAAAAAAAAAAAAAAAAAAAAAAAAAAAAAAAAAAAAAAAAAAAAAAAAAAAAAAAAAAAAAAAAAAAAAAAAAAAAAAAAAAAAAAAAAAAAAAAAAAAAAAAAAAAAAAAAAAAAAAAAAAAAAAAAAAAAAAAAAAAAAAAAAAAAAAAAAAAAAAAAAAAAAAAAAAAAAAAAAAAAAAAAAAAAAAAAAAAAAAAAAAAAAAAAAAAAAAAAAAAAAAAAAAAAAAAAAAAAAAAAAAAAAAAAAAAAAAAAAAAAAAAAAAAAAAAAAAAAAAAAAAAAAAAAAAAAAAAAAAAAAAAAAAAAAAAAAAAAAAAAAAAAAAAAAAAAAAAAAAAAAAAAAAAAAAGQGdmZmZmZgZAhetRuB6FBkCamZmZmZkGQM3MzMzMzAZAUrgehetRCEAAAAAAAAAKQM3MzMzMzApA7FG4HoXrCkAK16NwPQoLQClcj8L1KAtAcT0K16NwDEAzMzMzMzMNQJqZmZmZmQ1ASOF6FK5HDkBcj8L1KFwPQHE9CtejcA9AAAAAAAAAEECkcD0K1yMQQClcj8L1KBBA16NwPQrXEEAAAAAAAAARQJqZmZmZGRFAuB6F61E4E0AVrkfhepQTQKRwPQrXoxNAMzMzMzMzFED2KFyPwnUUQK5H4XoULhVAMzMzMzMzFUC4HoXrUbgVQD4K16NwvRZApHA9CtcjF0DsUbgehesXQBWuR+F6lBlAPgrXo3C9GkBxPQrXo/AbQLgehetRuBxAKVyPwvUoHUBI4XoUrkceQK5H4XoULh9AH4XrUbjeIUCamZmZmRkiQDMzMzMzMyJAmpmZmZmZI0A+CtejcL0kQMP1KFyPwiRA16NwPQrXJEDhehSuRyElQD4K16NwPSVAKVyPwvWoJUCPwvUoXI8mQOF6FK5H4SZAj8L1KFwPJ0AVrkfhepQnQGdmZmZmJihA16NwPQrXKECQwvUoXI8sQJqZmZmZmSxAZ2ZmZmbmLUBSuB6F61EuQJDC9Shczy5ASOF6FK6nMUD2KFyPwlUyQHE9CtejMDNAXI/C9Sh8NkD2KFyPwrU2QIXrUbgeBTdAzczMzMysN0CuR+F6FA44QDMzMzMzUzhArkfhehTOOECamZmZmdk6QPYoXI/CdTtAUrgehevRPECF61G4HgU9QJDC9Shcbz1AFa5H4Xr0PUDhehSuRzFDQI/C9Shc/0VASOF6FK63R0BI4XoUrhdIQB+F61G4zklAUrgehetxS0Bcj8L1KFxNQPYoXI/ChU1A7FG4HoWbTUAAAAAAAMBSQKRwPQrXG1NACtejcD2iWEBxPQrXo7hYQM3MzMzMVFlAZ2ZmZmZeW0CuR+F6FPZdQD4K16Nw7WJA4XoUrkc9Y0AK16NwPdZrQK5H4XoU6mxAI9v5fmoNekAj2/l+ag16QA==\",\"dtype\":\"float64\",\"order\":\"little\",\"shape\":[200]}},\"selected\":{\"id\":\"5879\"},\"selection_policy\":{\"id\":\"5890\"}},\"id\":\"5878\",\"type\":\"ColumnDataSource\"},{\"attributes\":{\"label\":{\"value\":\"Min Raise\"},\"renderers\":[{\"id\":\"5919\"}]},\"id\":\"5932\",\"type\":\"LegendItem\"},{\"attributes\":{\"source\":{\"id\":\"5913\"}},\"id\":\"5920\",\"type\":\"CDSView\"},{\"attributes\":{\"end\":1,\"format\":\"0[.]00\",\"margin\":[5,10,5,10],\"start\":0,\"step\":0.1,\"title\":\"Hatch tribute\",\"value\":0.05,\"value_throttled\":0.05},\"id\":\"5829\",\"type\":\"Slider\"},{\"attributes\":{\"fill_alpha\":0.2,\"fill_color\":\"#2ba02b\",\"line_alpha\":0.2,\"x\":{\"field\":\"x\"},\"y\":{\"field\":\"y\"}},\"id\":\"5918\",\"type\":\"Patch\"},{\"attributes\":{},\"id\":\"6080\",\"type\":\"CategoricalScale\"},{\"attributes\":{\"data\":{\"CSTK Token Holders\":[0,1,2,3,4,5,6,7,8,9,10,11,12,13,14,15,16,17,18,19,20,21,22,23,24,25,26,27,28,29,30,31,32,33,34,35,36,37,38,39,40,41,42,43,44,45,46,47,48,49,50,51,52,53,54,55,56,57,58,59,60,61,62,63,64,65,66,67,68,69,70,71,72,73,74,75,76,77,78,79,80,81,82,83,84,85,86,87,88,89,90,91,92,93,94,95,96,97,98,99],\"CSTK_Token_Holders\":[0,1,2,3,4,5,6,7,8,9,10,11,12,13,14,15,16,17,18,19,20,21,22,23,24,25,26,27,28,29,30,31,32,33,34,35,36,37,38,39,40,41,42,43,44,45,46,47,48,49,50,51,52,53,54,55,56,57,58,59,60,61,62,63,64,65,66,67,68,69,70,71,72,73,74,75,76,77,78,79,80,81,82,83,84,85,86,87,88,89,90,91,92,93,94,95,96,97,98,99],\"target_goal\":{\"__ndarray__\":\"I9v5fmoNakAj2/l+ag1qQK5H4XoU6lxACtejcD3WW0DhehSuRz1TQD4K16Nw7VJArkfhehT2TUBnZmZmZl5LQM3MzMzMVElAcT0K16O4SEAK16NwPaJIQKRwPQrXG0NAAAAAAADAQkDsUbgehZs9QPYoXI/ChT1AXI/C9ShcPUBSuB6F63E7QB+F61G4zjlASOF6FK4XOEBI4XoUrrc3QI/C9Shc/zVA4XoUrkcxM0AVrkfhevQtQJDC9Shcby1AhetRuB4FLUBSuB6F69EsQPYoXI/CdStAmpmZmZnZKkCuR+F6FM4oQDMzMzMzUyhArkfhehQOKEDNzMzMzKwnQIXrUbgeBSdA9ihcj8K1JkBcj8L1KHwmQHE9CtejMCNA9ihcj8JVIkBI4XoUrqchQJDC9Shczx5AUrgehetRHkBnZmZmZuYdQJqZmZmZmRxAkML1KFyPHEDXo3A9CtcYQGdmZmZmJhhAFa5H4XqUF0CPwvUoXA8XQOF6FK5H4RZAj8L1KFyPFkApXI/C9agVQD4K16NwPRVA4XoUrkchFUDXo3A9CtcUQMP1KFyPwhRAPgrXo3C9FECamZmZmZkTQDMzMzMzMxJAmpmZmZkZEkAfhetRuN4RQK5H4XoULg9ASOF6FK5HDkApXI/C9SgNQLgehetRuAxAcT0K16PwC0A+CtejcL0KQBWuR+F6lAlA7FG4HoXrB0CkcD0K1yMHQD4K16NwvQZAuB6F61G4BUAzMzMzMzMFQK5H4XoULgVA9ihcj8J1BEAzMzMzMzMEQKRwPQrXowNAFa5H4XqUA0C4HoXrUTgDQJqZmZmZGQFAAAAAAAAAAUDXo3A9CtcAQClcj8L1KABApHA9CtcjAEAAAAAAAAAAQHE9CtejcP8/XI/C9Shc/z9I4XoUrkf+P5qZmZmZmf0/MzMzMzMz/T9xPQrXo3D8Pylcj8L1KPs/CtejcD0K+z/sUbgehev6P83MzMzMzPo/AAAAAAAA+j9SuB6F61H4P83MzMzMzPY/mpmZmZmZ9j+F61G4HoX2P2dmZmZmZvY/AAAAAAAA9j8=\",\"dtype\":\"float64\",\"order\":\"little\",\"shape\":[100]}},\"selected\":{\"id\":\"5934\"},\"selection_policy\":{\"id\":\"5951\"}},\"id\":\"5933\",\"type\":\"ColumnDataSource\"},{\"attributes\":{},\"id\":\"6092\",\"type\":\"PanTool\"},{\"attributes\":{\"click_policy\":\"mute\",\"items\":[{\"id\":\"5894\"},{\"id\":\"5912\"},{\"id\":\"5932\"},{\"id\":\"5954\"}]},\"id\":\"5893\",\"type\":\"Legend\"},{\"attributes\":{\"axis\":{\"id\":\"6087\"},\"dimension\":1,\"grid_line_color\":null,\"ticker\":null},\"id\":\"6090\",\"type\":\"Grid\"},{\"attributes\":{},\"id\":\"5914\",\"type\":\"Selection\"},{\"attributes\":{\"data\":{\"GMean_XDAI_Co_hyphen_minus_vested_Per_Hatcher\":{\"__ndarray__\":\"AAAAAAAALEAAAAAAAAAkQAAAAAAAABxAAAAAAAAA8D8=\",\"dtype\":\"float64\",\"order\":\"little\",\"shape\":[4]},\"Total_TECH_Tokens\":{\"__ndarray__\":\"AAAAYHz5gEEAAACQOnZ5QQAAAGB8+XBBAAAAAMcoO0E=\",\"dtype\":\"float64\",\"order\":\"little\",\"shape\":[4]},\"Total_XDAI_Raise\":{\"__ndarray__\":\"AAAAAADQq0AAAAAAANykQAAAAAAA0JtAAAAAAABAZkA=\",\"dtype\":\"float64\",\"order\":\"little\",\"shape\":[4]},\"XDAI_Hatch_Tribute\":{\"__ndarray__\":\"AAAAAABAZkAAAAAAAKBgQAAAAAAAQFZAAAAAAAAAIkA=\",\"dtype\":\"float64\",\"order\":\"little\",\"shape\":[4]},\"index\":[\"Cap raise\",\"max_goal\",\"target_goal\",\"min_goal\"]},\"selected\":{\"id\":\"6134\"},\"selection_policy\":{\"id\":\"6162\"}},\"id\":\"6133\",\"type\":\"ColumnDataSource\"},{\"attributes\":{\"data_source\":{\"id\":\"5913\"},\"glyph\":{\"id\":\"5916\"},\"hover_glyph\":null,\"muted_glyph\":{\"id\":\"5918\"},\"nonselection_glyph\":{\"id\":\"5917\"},\"selection_glyph\":null,\"view\":{\"id\":\"5920\"}},\"id\":\"5919\",\"type\":\"GlyphRenderer\"},{\"attributes\":{\"source\":{\"id\":\"6133\"}},\"id\":\"6161\",\"type\":\"CDSView\"},{\"attributes\":{\"end\":1,\"format\":\"0[.]00\",\"margin\":[5,10,5,10],\"start\":0.5,\"step\":0.01,\"title\":\"Max raise\",\"value\":0.75,\"value_throttled\":0.75},\"id\":\"5824\",\"type\":\"Slider\"},{\"attributes\":{\"data_source\":{\"id\":\"5878\"},\"glyph\":{\"id\":\"5881\"},\"hover_glyph\":null,\"muted_glyph\":{\"id\":\"5883\"},\"nonselection_glyph\":{\"id\":\"5882\"},\"selection_glyph\":null,\"view\":{\"id\":\"5885\"}},\"id\":\"5884\",\"type\":\"GlyphRenderer\"},{\"attributes\":{\"fill_color\":\"#2ba02b\",\"x\":{\"field\":\"x\"},\"y\":{\"field\":\"y\"}},\"id\":\"5916\",\"type\":\"Patch\"},{\"attributes\":{\"overlay\":{\"id\":\"6096\"}},\"id\":\"6094\",\"type\":\"BoxZoomTool\"},{\"attributes\":{},\"id\":\"5890\",\"type\":\"UnionRenderers\"},{\"attributes\":{\"columns\":[{\"id\":\"6137\"},{\"id\":\"6142\"},{\"id\":\"6147\"},{\"id\":\"6152\"},{\"id\":\"6157\"}],\"height\":300,\"reorderable\":false,\"source\":{\"id\":\"6133\"},\"view\":{\"id\":\"6161\"},\"width\":700},\"id\":\"6160\",\"type\":\"DataTable\"},{\"attributes\":{\"format\":\"0,0.0[00000]\"},\"id\":\"6145\",\"type\":\"NumberFormatter\"},{\"attributes\":{\"end\":99.0,\"reset_end\":99.0,\"reset_start\":0.0,\"tags\":[[[\"CSTK Token Holders\",\"CSTK Token Holders\",null]]]},\"id\":\"5832\",\"type\":\"Range1d\"},{\"attributes\":{},\"id\":\"6141\",\"type\":\"NumberEditor\"},{\"attributes\":{\"editor\":{\"id\":\"6146\"},\"field\":\"GMean_XDAI_Co_hyphen_minus_vested_Per_Hatcher\",\"formatter\":{\"id\":\"6145\"},\"title\":\"GMean XDAI Co-vested Per Hatcher\"},\"id\":\"6147\",\"type\":\"TableColumn\"},{\"attributes\":{},\"id\":\"5929\",\"type\":\"UnionRenderers\"},{\"attributes\":{},\"id\":\"5934\",\"type\":\"Selection\"},{\"attributes\":{\"factors\":[\"Cap raise\",\"max_goal\",\"target_goal\",\"min_goal\"],\"tags\":[[[\"index\",\"index\",null]]]},\"id\":\"6072\",\"type\":\"FactorRange\"},{\"attributes\":{},\"id\":\"6136\",\"type\":\"StringEditor\"},{\"attributes\":{},\"id\":\"6123\",\"type\":\"UnionRenderers\"},{\"attributes\":{\"format\":\"0,0.0[00000]\"},\"id\":\"6155\",\"type\":\"NumberFormatter\"},{\"attributes\":{\"end\":0.5,\"format\":\"0[.]00\",\"margin\":[5,10,5,10],\"start\":0.01,\"step\":0.01,\"title\":\"Min raise\",\"value\":0.05,\"value_throttled\":0.05},\"id\":\"5825\",\"type\":\"Slider\"},{\"attributes\":{\"end\":1,\"format\":\"0[.]00\",\"margin\":[5,10,5,10],\"start\":0.01,\"step\":0.01,\"title\":\"Target raise\",\"value\":0.5,\"value_throttled\":0.5},\"id\":\"5826\",\"type\":\"Slider\"},{\"attributes\":{\"axis\":{\"id\":\"5851\"},\"dimension\":1,\"grid_line_color\":null,\"ticker\":null},\"id\":\"5854\",\"type\":\"Grid\"},{\"attributes\":{\"editor\":{\"id\":\"6141\"},\"field\":\"Total_XDAI_Raise\",\"formatter\":{\"id\":\"6140\"},\"title\":\"Total XDAI Raise\"},\"id\":\"6142\",\"type\":\"TableColumn\"},{\"attributes\":{\"label\":{\"value\":\"Max Raise\"},\"renderers\":[{\"id\":\"5901\"}]},\"id\":\"5912\",\"type\":\"LegendItem\"},{\"attributes\":{\"editor\":{\"id\":\"6151\"},\"field\":\"XDAI_Hatch_Tribute\",\"formatter\":{\"id\":\"6150\"},\"title\":\"XDAI Hatch Tribute\"},\"id\":\"6152\",\"type\":\"TableColumn\"},{\"attributes\":{\"fill_alpha\":0.2,\"fill_color\":\"#1f77b3\",\"line_alpha\":0.2,\"x\":{\"field\":\"x\"},\"y\":{\"field\":\"y\"}},\"id\":\"5883\",\"type\":\"Patch\"},{\"attributes\":{\"fill_alpha\":1,\"fill_color\":\"#2ba02b\",\"line_alpha\":1,\"x\":{\"field\":\"x\"},\"y\":{\"field\":\"y\"}},\"id\":\"5917\",\"type\":\"Patch\"},{\"attributes\":{},\"id\":\"6135\",\"type\":\"StringFormatter\"},{\"attributes\":{\"text\":\"Raise Targets Per Hatcher\",\"text_color\":{\"value\":\"black\"},\"text_font_size\":{\"value\":\"12pt\"}},\"id\":\"5839\",\"type\":\"Title\"},{\"attributes\":{},\"id\":\"6134\",\"type\":\"Selection\"},{\"attributes\":{\"data\":{\"x\":[0,1,2,3,4,5,6,7,8,9,10,11,12,13,14,15,16,17,18,19,20,21,22,23,24,25,26,27,28,29,30,31,32,33,34,35,36,37,38,39,40,41,42,43,44,45,46,47,48,49,50,51,52,53,54,55,56,57,58,59,60,61,62,63,64,65,66,67,68,69,70,71,72,73,74,75,76,77,78,79,80,81,82,83,84,85,86,87,88,89,90,91,92,93,94,95,96,97,98,99,99,98,97,96,95,94,93,92,91,90,89,88,87,86,85,84,83,82,81,80,79,78,77,76,75,74,73,72,71,70,69,68,67,66,65,64,63,62,61,60,59,58,57,56,55,54,53,52,51,50,49,48,47,46,45,44,43,42,41,40,39,38,37,36,35,34,33,32,31,30,29,28,27,26,25,24,23,22,21,20,19,18,17,16,15,14,13,12,11,10,9,8,7,6,5,4,3,2,1,0],\"y\":{\"__ndarray__\":\"AAAAAAAAAAAAAAAAAAAAAAAAAAAAAAAAAAAAAAAAAAAAAAAAAAAAAAAAAAAAAAAAAAAAAAAAAAAAAAAAAAAAAAAAAAAAAAAAAAAAAAAAAAAAAAAAAAAAAAAAAAAAAAAAAAAAAAAAAAAAAAAAAAAAAAAAAAAAAAAAAAAAAAAAAAAAAAAAAAAAAAAAAAAAAAAAAAAAAAAAAAAAAAAAAAAAAAAAAAAAAAAAAAAAAAAAAAAAAAAAAAAAAAAAAAAAAAAAAAAAAAAAAAAAAAAAAAAAAAAAAAAAAAAAAAAAAAAAAAAAAAAAAAAAAAAAAAAAAAAAAAAAAAAAAAAAAAAAAAAAAAAAAAAAAAAAAAAAAAAAAAAAAAAAAAAAAAAAAAAAAAAAAAAAAAAAAAAAAAAAAAAAAAAAAAAAAAAAAAAAAAAAAAAAAAAAAAAAAAAAAAAAAAAAAAAAAAAAAAAAAAAAAAAAAAAAAAAAAAAAAAAAAAAAAAAAAAAAAAAAAAAAAAAAAAAAAAAAAAAAAAAAAAAAAAAAAAAAAAAAAAAAAAAAAAAAAAAAAAAAAAAAAAAAAAAAAAAAAAAAAAAAAAAAAAAAAAAAAAAAAAAAAAAAAAAAAAAAAAAAAAAAAAAAAAAAAAAAAAAAAAAAAAAAAAAAAAAAAAAAAAAAAAAAAAAAAAAAAAAAAAAAAAAAAAAAAAAAAAAAAAAAAAAAAAAAAAAAAAAAAAAAAAAAAAAAAAAAAAAAAAAAAAAAAAAAAAAAAAAAAAAAAAAAAAAAAAAAAAAAAAAAAAAAAAAAAAAAAAAAAAAAAAAAAAAAAAAAAAAAAAAAAAAAAAAAAAAAAAAAAAAAAAAAAAAAAAAAAAAAAAAAAAAAAAAAAAAAAAAAAAAAAAAAAAAAAAAAAAAAAAAAAAAAAAAAAAAAAAAAAAAAAAAAAAAAAAAAAAAAAAAAAAAAAAAAAAAAAAAAAAAAAAAAAAAAAAAAAAAAAAAAAAAAAAAAAAAAAAAAAAAAAAAAAAAAAAAAAAAAAAAAAAAAAAAAAAAAAAAAAAAAAAAAAAAAAAAAAAAAAAAAAACamZmZmZnBP+xRuB6F68E/a7x0kxgEwj8VrkfhehTCPz4K16NwPcI/3Pl+arx0wz/NzMzMzMzEP3E9CtejcMU/8KfGSzeJxT9vEoPAyqHFP+58PzVeusU/jpduEoPAxj9cj8L1KFzHP69H4XoUrsc/1E1iEFg5yD9KDAIrhxbJP/T91HjpJsk/mpmZmZmZyT9t5/up8dLJP0Jg5dAi28k/jGzn+6nxyj80MzMzMzPLP12PwvUoXMs/jZduEoPAzj+IFtnO91PPPweBlUOLbM8/KVyPwvUo0D+S7Xw/NV7QP4ts5/up8dA/9ihcj8L10D/HSzeJQWDRP//UeOkmMdI/UI2XbhKD0j+KQWDl0CLTPxFYObTIdtQ/MgisHFpk1T8oMQisHFrWP2Dl0CLb+dY/iBbZzvdT1z/UTWIQWDnYP4xs5/up8dg/ZTvfT42X3D/3KFyPwvXcPx+F61G4Ht0/XY/C9Shc3z9lO99PjZfgP8/3U+Olm+A/eekmMQis4D+BlUOLbOfgP8uhRbbz/eA/hxbZzvdT4T8/NV66SQziP+f7qfHSTeI/ppvEILBy4j93vp8aL93iP1O4HoXrUeM/rBxaZDvf4z8NAiuHFtnmP+J6FK5H4eY/7FG4HoXr5z+oxks3iUHoP9rO91Pjpeg/dGiR7Xw/7D+9dJMYBFbtP09iEFg5tO4/sHJoke388T9fukkMAivyP9Ei2/l+avI/cT0K16Pw8j9YObTIdj7zP/YoXI/CdfM/8tJNYhDY8z98FK5H4Xr1PyyHFtnO9/U/dZMYBFYO9z+e76fGSzf3P0A1XrpJjPc/EVg5tMj29z9oke18P7X+PwwCK4cWmQFA001iEFj5AkCgGi/dJEYDQEw3iUFgpQRA3Pl+arz0BUCwcmiR7XwHQJLtfD81ngdAVw4tsp2vB0AAAAAAAAAOQG3n+6nxkg5AokW28/20E0D0/dR46cYTQKRwPQrXQxRAhutRuB7lFUDy0k1iEPgXQGQQWDm0SB5AnMQgsHLIHkCiRbbz/UQmQIxs5/upISdAUK+UZYjXNEBQr5RliNc0QA==\",\"dtype\":\"float64\",\"order\":\"little\",\"shape\":[200]}},\"selected\":{\"id\":\"5914\"},\"selection_policy\":{\"id\":\"5929\"}},\"id\":\"5913\",\"type\":\"ColumnDataSource\"},{\"attributes\":{\"children\":[{\"id\":\"5838\"},{\"id\":\"6075\"},{\"id\":\"6160\"}],\"margin\":[0,0,0,0],\"name\":\"Column15033\"},\"id\":\"5831\",\"type\":\"Column\"},{\"attributes\":{\"end\":458.5086,\"reset_end\":458.5086,\"reset_start\":0.0,\"tags\":[[[\"Cap raise\",\"Cap raise\",null]]]},\"id\":\"5833\",\"type\":\"Range1d\"},{\"attributes\":{\"label\":{\"value\":\"Cap Raise\"},\"renderers\":[{\"id\":\"5884\"}]},\"id\":\"5894\",\"type\":\"LegendItem\"},{\"attributes\":{},\"id\":\"5856\",\"type\":\"PanTool\"}],\"root_ids\":[\"5819\",\"6232\"]},\"title\":\"Bokeh Application\",\"version\":\"2.2.3\"}};\n",
       "    var render_items = [{\"docid\":\"b6cf0a1f-6524-4e19-8da2-bce8f031b8e1\",\"root_ids\":[\"5819\"],\"roots\":{\"5819\":\"7d2da07f-df67-476f-96fe-e21812fe4e57\"}}];\n",
       "    root.Bokeh.embed.embed_items_notebook(docs_json, render_items);\n",
       "  }\n",
       "  if (root.Bokeh !== undefined && root.Bokeh.Panel !== undefined) {\n",
       "    embed_document(root);\n",
       "  } else {\n",
       "    var attempts = 0;\n",
       "    var timer = setInterval(function(root) {\n",
       "      if (root.Bokeh !== undefined && root.Bokeh.Panel !== undefined) {\n",
       "        clearInterval(timer);\n",
       "        embed_document(root);\n",
       "      } else if (document.readyState == \"complete\") {\n",
       "        attempts++;\n",
       "        if (attempts > 100) {\n",
       "          clearInterval(timer);\n",
       "          console.log(\"Bokeh: ERROR: Unable to run BokehJS code because BokehJS library is missing\");\n",
       "        }\n",
       "      }\n",
       "    }, 10, root)\n",
       "  }\n",
       "})(window);</script>"
      ],
      "text/plain": [
       "Row\n",
       "    [0] Column(margin=5, name='Hatch', width=300)\n",
       "        [0] StaticText(value='<b>Hatch</b>')\n",
       "        [1] FloatInput(disabled=True, name='Total cstk tokens', value=711964.4, value_throttled=711964.4)\n",
       "        [2] FloatSlider(end=100, name='Hatch oracle ratio', start=0.005, step=0.005, value=0.005, value_throttled=0.005)\n",
       "        [3] FloatSlider(name='Max raise', start=0.5, step=0.01, value=0.75, value_throttled=0.75)\n",
       "        [4] FloatSlider(end=0.5, name='Min raise', start=0.01, step=0.01, value=0.05, value_throttled=0.05)\n",
       "        [5] FloatSlider(name='Target raise', start=0.01, step=0.01, value=0.5, value_throttled=0.5)\n",
       "        [6] IntSlider(end=30, name='Hatch period days', start=5, step=2, value=15, value_throttled=15)\n",
       "        [7] FloatSlider(end=100000, name='Hatch exchange rate', start=1, step=1, value=10000, value_throttled=10000)\n",
       "        [8] FloatSlider(name='Hatch tribute', value=0.05, value_throttled=0.05)\n",
       "    [1] ParamMethod(method)"
      ]
     },
     "execution_count": 38,
     "metadata": {
      "application/vnd.holoviews_exec.v0+json": {
       "id": "5819"
      }
     },
     "output_type": "execute_result"
    }
   ],
   "source": [
    "h = Hatch()\n",
    "\n",
    "pn.Row(h, h.hatch_raise_view)"
   ]
  },
  {
   "cell_type": "markdown",
   "metadata": {},
   "source": [
    "## Dandelion Voting"
   ]
  },
  {
   "cell_type": "markdown",
   "metadata": {},
   "source": [
    "1. Percentage of total tokens that have to vote 'yes' to `something` for it to pass."
   ]
  },
  {
   "cell_type": "code",
   "execution_count": 28,
   "metadata": {},
   "outputs": [],
   "source": [
    "class DandelionVoting(param.Parameterized):\n",
    "    total_tokens = param.Number(1e6, constant=True)\n",
    "    support_required = param.Number(0.6, bounds=(0.5,0.9), step=0.01)\n",
    "    minimum_accepted_quorum = param.Number(0.02, bounds=(0.01,1), step=0.01)\n",
    "    vote_duration_days = param.Number(3, bounds=(1,14), step=1)\n",
    "    vote_buffer_hours = param.Number(8, bounds=(1,48), step=1)\n",
    "    rage_quit_hours = param.Number(24, bounds=(1, 48), step=1)\n",
    "    tollgate_fee_xdai = param.Number(3, bounds=(1,100), step=1)\n",
    "    \n",
    "    \n",
    "    def vote_pass_view(self):\n",
    "        x = np.linspace(0, self.total_tokens, num=100)\n",
    "        y = [a*self.support_required for a in x]\n",
    "        df = pd.DataFrame(zip(x,y))\n",
    "        y_fill = [a for a in x]\n",
    "        df_fill = pd.DataFrame(zip(x,y_fill))\n",
    "        y_fill_quorum = [a for i, a in enumerate(x) if i < self.minimum_accepted_quorum*len(x)]\n",
    "        df_fill_q = pd.DataFrame(zip(x,y_fill_quorum))\n",
    "        total_votes_plot = df_fill.hvplot.area(\n",
    "                title = \"Minimum Support and Quorum Accepted for Proposals to Pass\", \n",
    "                x='0', y='1', xformatter='%.0f', yformatter='%.0f', color='green', \n",
    "                xlabel='Total Token Votes', ylabel='Token Parity (Vote Distribution)')\n",
    "        support_required_plot = df.hvplot.area(x='0', y='1', xformatter='%.0f', yformatter='%.0f', color='red')\n",
    "        quorum_accepted_plot = df_fill_q.hvplot.area(x='0', y='1', xformatter='%.0f', yformatter='%.0f', color='red')\n",
    "        return total_votes_plot * support_required_plot * quorum_accepted_plot\n",
    "            "
   ]
  },
  {
   "cell_type": "markdown",
   "metadata": {},
   "source": [
    "### Dandelion Voting\n",
    "The minimum quorum accepted is the percentage of **all tokens** that must vote yes. Support required is the percentage of **tokens that voted** that must vote yes. As the number of **No** votes grows, the **Yes** votes"
   ]
  },
  {
   "cell_type": "code",
   "execution_count": 29,
   "metadata": {},
   "outputs": [
    {
     "data": {},
     "metadata": {},
     "output_type": "display_data"
    },
    {
     "data": {},
     "metadata": {},
     "output_type": "display_data"
    },
    {
     "data": {
      "application/vnd.holoviews_exec.v0+json": "",
      "text/html": [
       "<div id='4802'>\n",
       "\n",
       "\n",
       "\n",
       "\n",
       "\n",
       "  <div class=\"bk-root\" id=\"c96127e6-6a08-4433-81ed-b1a3a4c2db04\" data-root-id=\"4802\"></div>\n",
       "</div>\n",
       "<script type=\"application/javascript\">(function(root) {\n",
       "  function embed_document(root) {\n",
       "    var docs_json = {\"7f869130-2448-441b-a7e3-78a6e6e4fc61\":{\"roots\":{\"references\":[{\"attributes\":{\"overlay\":{\"id\":\"4840\"}},\"id\":\"4838\",\"type\":\"BoxZoomTool\"},{\"attributes\":{},\"id\":\"4887\",\"type\":\"UnionRenderers\"},{\"attributes\":{\"end\":0.9,\"format\":\"0[.]00\",\"margin\":[5,10,5,10],\"start\":0.5,\"step\":0.01,\"title\":\"Support required\",\"value\":0.6,\"value_throttled\":0.6},\"id\":\"4806\",\"type\":\"Slider\"},{\"attributes\":{\"data\":{\"x\":{\"__ndarray__\":\"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\",\"dtype\":\"float64\",\"order\":\"little\",\"shape\":[200]},\"y\":{\"__ndarray__\":\"AAAAAAAAAAAAAAAAAAAAAAAAAAAAAAAAAAAAAAAAAAAAAAAAAAAAAAAAAAAAAAAAAAAAAAAAAAAAAAAAAAAAAAAAAAAAAAAAAAAAAAAAAAAAAAAAAAAAAAAAAAAAAAAAAAAAAAAAAAAAAAAAAAAAAAAAAAAAAAAAAAAAAAAAAAAAAAAAAAAAAAAAAAAAAAAAAAAAAAAAAAAAAAAAAAAAAAAAAAAAAAAAAAAAAAAAAAAAAAAAAAAAAAAAAAAAAAAAAAAAAAAAAAAAAAAAAAAAAAAAAAAAAAAAAAAAAAAAAAAAAAAAAAAAAAAAAAAAAAAAAAAAAAAAAAAAAAAAAAAAAAAAAAAAAAAAAAAAAAAAAAAAAAAAAAAAAAAAAAAAAAAAAAAAAAAAAAAAAAAAAAAAAAAAAAAAAAAAAAAAAAAAAAAAAAAAAAAAAAAAAAAAAAAAAAAAAAAAAAAAAAAAAAAAAAAAAAAAAAAAAAAAAAAAAAAAAAAAAAAAAAAAAAAAAAAAAAAAAAAAAAAAAAAAAAAAAAAAAAAAAAAAAAAAAAAAAAAAAAAAAAAAAAAAAAAAAAAAAAAAAAAAAAAAAAAAAAAAAAAAAAAAAAAAAAAAAAAAAAAAAAAAAAAAAAAAAAAAAAAAAAAAAAAAAAAAAAAAAAAAAAAAAAAAAAAAAAAAAAAAAAAAAAAAAAAAAAAAAAAAAAAAAAAAAAAAAAAAAAAAAAAAAAAAAAAAAAAAAAAAAAAAAAAAAAAAAAAAAAAAAAAAAAAAAAAAAAAAAAAAAAAAAAAAAAAAAAAAAAAAAAAAAAAAAAAAAAAAAAAAAAAAAAAAAAAAAAAAAAAAAAAAAAAAAAAAAAAAAAAAAAAAAAAAAAAAAAAAAAAAAAAAAAAAAAAAAAAAAAAAAAAAAAAAAAAAAAAAAAAAAAAAAAAAAAAAAAAAAAAAAAAAAAAAAAAAAAAAAAAAAAAAAAAAAAAAAAAAAAAAAAAAAAAAAAAAAAAAAAAAAAAAAAAAAAAAAAAAAAAAAAAAAAAAAAAAAAAAAAAAAAAAAAAAAAAAAAAAAAAAAAAAAAAAAAAAgE8iQZtssskmICJBNtlkk83wIUHRRRdddMEhQWyyySYbkiFBBx988MFiIUGiiy66aDMhQT744IMPBCFB2WSTTbbUIEF00UUXXaUgQQ8++OADdiBBqqqqqqpGIEFGF110URcgQcIHH3zwzx9B+OCDDz5xH0EuuuiiixIfQWSTTTbZsx5BmmyyySZVHkHQRRdddPYdQQcffPDBlx1BPfjggw85HUF00UUXXdocQaqqqqqqexxB4YMPPvgcHEEXXXTRRb4bQU022WSTXxtBhA8++OAAG0G66KKLLqIaQfHBBx98QxpBJptsssnkGUFcdNFFF4YZQZNNNtlkJxlBySabbLLIGEH//////2kYQTbZZJNNCxhBbLLJJpusF0Gjiy666E0XQdlkk0027xZBDz744IOQFkFGF1100TEWQXzwwQcf0xVBs8kmm2x0FUHooosuuhUVQR588MEHtxRBVVVVVVVYFEGLLrroovkTQcEHH3zwmhNB+OCDDz48E0Euuuiii90SQWWTTTbZfhJBm2yyySYgEkHRRRdddMERQQcffPDBYhFBPvjggw8EEUF00UUXXaUQQaqqqqqqRhBBwgcffPDPD0EuuuiiixIPQZpssskmVQ5BBx988MGXDUF00UUXXdoMQeGDDz74HAxBTTbZZJNfC0G66KKLLqIKQSabbLLJ5AlBk0022WQnCUH//////2kIQWyyySabrAdB2WSTTTbvBkFGF1100TEGQbPJJptsdAVBHnzwwQe3BEGLLrroovkDQfjggw8+PANBZZNNNtl+AkHRRRdddMEBQT744IMPBAFBqqqqqqpGAEEuuuiiixL/QAcffPDBl/1A4YMPPvgc/EC66KKLLqL6QJNNNtlkJ/lAbLLJJpus90BGF1100TH2QB588MEHt/RA+OCDDz4880DRRRdddMHxQKqqqqqqRvBABx988MGX7UC66KKLLqLqQGyyySabrOdAHnzwwQe35EDRRRdddMHhQAcffPDBl91AbLLJJpus10DRRRdddMHRQGyyySabrMdAbLLJJpust0AAAAAAAAAAAA==\",\"dtype\":\"float64\",\"order\":\"little\",\"shape\":[200]}},\"selected\":{\"id\":\"4867\"},\"selection_policy\":{\"id\":\"4887\"}},\"id\":\"4866\",\"type\":\"ColumnDataSource\"},{\"attributes\":{\"end\":1000000.0,\"reset_end\":1000000.0,\"reset_start\":0.0,\"tags\":[[[\"0\",\"0\",null]]]},\"id\":\"4813\",\"type\":\"Range1d\"},{\"attributes\":{\"format\":\"%.0f\"},\"id\":\"4848\",\"type\":\"PrintfTickFormatter\"},{\"attributes\":{},\"id\":\"4867\",\"type\":\"Selection\"},{\"attributes\":{\"data_source\":{\"id\":\"4858\"},\"glyph\":{\"id\":\"4861\"},\"hover_glyph\":null,\"muted_glyph\":{\"id\":\"4863\"},\"nonselection_glyph\":{\"id\":\"4862\"},\"selection_glyph\":null,\"view\":{\"id\":\"4865\"}},\"id\":\"4864\",\"type\":\"GlyphRenderer\"},{\"attributes\":{\"end\":48,\"format\":\"0[.]00\",\"margin\":[5,10,5,10],\"start\":1,\"title\":\"Vote buffer hours\",\"value\":8,\"value_throttled\":8},\"id\":\"4809\",\"type\":\"Slider\"},{\"attributes\":{\"format\":\"%.0f\"},\"id\":\"4849\",\"type\":\"PrintfTickFormatter\"},{\"attributes\":{\"data_source\":{\"id\":\"4866\"},\"glyph\":{\"id\":\"4869\"},\"hover_glyph\":null,\"muted_glyph\":{\"id\":\"4871\"},\"nonselection_glyph\":{\"id\":\"4870\"},\"selection_glyph\":null,\"view\":{\"id\":\"4873\"}},\"id\":\"4872\",\"type\":\"GlyphRenderer\"},{\"attributes\":{\"source\":{\"id\":\"4874\"}},\"id\":\"4881\",\"type\":\"CDSView\"},{\"attributes\":{\"end\":48,\"format\":\"0[.]00\",\"margin\":[5,10,5,10],\"start\":1,\"title\":\"Rage quit hours\",\"value\":24,\"value_throttled\":24},\"id\":\"4810\",\"type\":\"Slider\"},{\"attributes\":{\"fill_color\":\"red\",\"x\":{\"field\":\"x\"},\"y\":{\"field\":\"y\"}},\"id\":\"4869\",\"type\":\"Patch\"},{\"attributes\":{\"data\":{\"x\":{\"__ndarray__\":\"AAAAAAAAAAAFav1KgbrDQAVq/UqBusNAAAAAAAAAAAA=\",\"dtype\":\"float64\",\"order\":\"little\",\"shape\":[4]},\"y\":{\"__ndarray__\":\"AAAAAAAAAAAAAAAAAAAAAAVq/UqBusNAAAAAAAAAAAA=\",\"dtype\":\"float64\",\"order\":\"little\",\"shape\":[4]}},\"selected\":{\"id\":\"4875\"},\"selection_policy\":{\"id\":\"4889\"}},\"id\":\"4874\",\"type\":\"ColumnDataSource\"},{\"attributes\":{\"children\":[{\"id\":\"4803\"},{\"id\":\"4812\"}],\"margin\":[0,0,0,0],\"name\":\"Row12172\"},\"id\":\"4802\",\"type\":\"Row\"},{\"attributes\":{\"fill_alpha\":0.2,\"fill_color\":\"green\",\"line_alpha\":0.2,\"x\":{\"field\":\"x\"},\"y\":{\"field\":\"y\"}},\"id\":\"4863\",\"type\":\"Patch\"},{\"attributes\":{\"source\":{\"id\":\"4866\"}},\"id\":\"4873\",\"type\":\"CDSView\"},{\"attributes\":{\"text\":\"Minimum Support and Quorum Accepted for Proposals to Pass\",\"text_color\":{\"value\":\"black\"},\"text_font_size\":{\"value\":\"12pt\"}},\"id\":\"4819\",\"type\":\"Title\"},{\"attributes\":{\"source\":{\"id\":\"4858\"}},\"id\":\"4865\",\"type\":\"CDSView\"},{\"attributes\":{\"axis_label\":\"Total Token Votes\",\"bounds\":\"auto\",\"formatter\":{\"id\":\"4848\"},\"major_label_orientation\":\"horizontal\",\"ticker\":{\"id\":\"4828\"}},\"id\":\"4827\",\"type\":\"LinearAxis\"},{\"attributes\":{\"bottom_units\":\"screen\",\"fill_alpha\":0.5,\"fill_color\":\"lightgrey\",\"left_units\":\"screen\",\"level\":\"overlay\",\"line_alpha\":1.0,\"line_color\":\"black\",\"line_dash\":[4,4],\"line_width\":2,\"right_units\":\"screen\",\"top_units\":\"screen\"},\"id\":\"4840\",\"type\":\"BoxAnnotation\"},{\"attributes\":{\"fill_alpha\":1,\"fill_color\":\"red\",\"line_alpha\":1,\"x\":{\"field\":\"x\"},\"y\":{\"field\":\"y\"}},\"id\":\"4870\",\"type\":\"Patch\"},{\"attributes\":{},\"id\":\"4889\",\"type\":\"UnionRenderers\"},{\"attributes\":{\"callback\":null,\"renderers\":[{\"id\":\"4864\"},{\"id\":\"4872\"},{\"id\":\"4880\"}],\"tags\":[\"hv_created\"],\"tooltips\":[[\"0\",\"@{A_0}\"],[\"1\",\"@{A_1}\"]]},\"id\":\"4815\",\"type\":\"HoverTool\"},{\"attributes\":{\"below\":[{\"id\":\"4827\"}],\"center\":[{\"id\":\"4830\"},{\"id\":\"4834\"}],\"left\":[{\"id\":\"4831\"}],\"margin\":[5,5,5,5],\"min_border_bottom\":10,\"min_border_left\":10,\"min_border_right\":10,\"min_border_top\":10,\"plot_height\":300,\"plot_width\":700,\"renderers\":[{\"id\":\"4864\"},{\"id\":\"4872\"},{\"id\":\"4880\"}],\"sizing_mode\":\"fixed\",\"title\":{\"id\":\"4819\"},\"toolbar\":{\"id\":\"4841\"},\"x_range\":{\"id\":\"4813\"},\"x_scale\":{\"id\":\"4823\"},\"y_range\":{\"id\":\"4814\"},\"y_scale\":{\"id\":\"4825\"}},\"id\":\"4818\",\"subtype\":\"Figure\",\"type\":\"Plot\"},{\"attributes\":{\"fill_alpha\":1,\"fill_color\":\"green\",\"line_alpha\":1,\"x\":{\"field\":\"x\"},\"y\":{\"field\":\"y\"}},\"id\":\"4862\",\"type\":\"Patch\"},{\"attributes\":{\"end\":1100000.0,\"reset_end\":1100000.0,\"reset_start\":0.0,\"tags\":[[[\"1\",\"1\",null]]]},\"id\":\"4814\",\"type\":\"Range1d\"},{\"attributes\":{\"fill_alpha\":0.2,\"fill_color\":\"red\",\"line_alpha\":0.2,\"x\":{\"field\":\"x\"},\"y\":{\"field\":\"y\"}},\"id\":\"4871\",\"type\":\"Patch\"},{\"attributes\":{\"end\":1,\"format\":\"0[.]00\",\"margin\":[5,10,5,10],\"start\":0.01,\"step\":0.01,\"title\":\"Minimum accepted quorum\",\"value\":0.02,\"value_throttled\":0.02},\"id\":\"4807\",\"type\":\"Slider\"},{\"attributes\":{},\"id\":\"4875\",\"type\":\"Selection\"},{\"attributes\":{},\"id\":\"4823\",\"type\":\"LinearScale\"},{\"attributes\":{},\"id\":\"4836\",\"type\":\"PanTool\"},{\"attributes\":{\"end\":100,\"format\":\"0[.]00\",\"margin\":[5,10,5,10],\"start\":1,\"title\":\"Tollgate fee xdai\",\"value\":3,\"value_throttled\":3},\"id\":\"4811\",\"type\":\"Slider\"},{\"attributes\":{\"fill_color\":\"green\",\"x\":{\"field\":\"x\"},\"y\":{\"field\":\"y\"}},\"id\":\"4861\",\"type\":\"Patch\"},{\"attributes\":{},\"id\":\"4885\",\"type\":\"UnionRenderers\"},{\"attributes\":{},\"id\":\"4828\",\"type\":\"BasicTicker\"},{\"attributes\":{\"data\":{\"x\":{\"__ndarray__\":\"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\",\"dtype\":\"float64\",\"order\":\"little\",\"shape\":[200]},\"y\":{\"__ndarray__\":\"AAAAAAAAAAAAAAAAAAAAAAAAAAAAAAAAAAAAAAAAAAAAAAAAAAAAAAAAAAAAAAAAAAAAAAAAAAAAAAAAAAAAAAAAAAAAAAAAAAAAAAAAAAAAAAAAAAAAAAAAAAAAAAAAAAAAAAAAAAAAAAAAAAAAAAAAAAAAAAAAAAAAAAAAAAAAAAAAAAAAAAAAAAAAAAAAAAAAAAAAAAAAAAAAAAAAAAAAAAAAAAAAAAAAAAAAAAAAAAAAAAAAAAAAAAAAAAAAAAAAAAAAAAAAAAAAAAAAAAAAAAAAAAAAAAAAAAAAAAAAAAAAAAAAAAAAAAAAAAAAAAAAAAAAAAAAAAAAAAAAAAAAAAAAAAAAAAAAAAAAAAAAAAAAAAAAAAAAAAAAAAAAAAAAAAAAAAAAAAAAAAAAAAAAAAAAAAAAAAAAAAAAAAAAAAAAAAAAAAAAAAAAAAAAAAAAAAAAAAAAAAAAAAAAAAAAAAAAAAAAAAAAAAAAAAAAAAAAAAAAAAAAAAAAAAAAAAAAAAAAAAAAAAAAAAAAAAAAAAAAAAAAAAAAAAAAAAAAAAAAAAAAAAAAAAAAAAAAAAAAAAAAAAAAAAAAAAAAAAAAAAAAAAAAAAAAAAAAAAAAAAAAAAAAAAAAAAAAAAAAAAAAAAAAAAAAAAAAAAAAAAAAAAAAAAAAAAAAAAAAAAAAAAAAAAAAAAAAAAAAAAAAAAAAAAAAAAAAAAAAAAAAAAAAAAAAAAAAAAAAAAAAAAAAAAAAAAAAAAAAAAAAAAAAAAAAAAAAAAAAAAAAAAAAAAAAAAAAAAAAAAAAAAAAAAAAAAAAAAAAAAAAAAAAAAAAAAAAAAAAAAAAAAAAAAAAAAAAAAAAAAAAAAAAAAAAAAAAAAAAAAAAAAAAAAAAAAAAAAAAAAAAAAAAAAAAAAAAAAAAAAAAAAAAAAAAAAAAAAAAAAAAAAAAAAAAAAAAAAAAAAAAAAAAAAAAAAAAAAAAAAAAAAAAAAAAAAAAAAAAAAAAAAAAAAAAAAAAAAAAAAAAAAAAAAAAAAAAAAAAAAAAAAAAAAAAAAAAAAAAAAAAAAAAAAAAgIQuQVgK1PqVNS5BsBSo9avmLUEIH3zwwZctQV8pUOvXSC1BtzMk5u35LEEPPvjgA6ssQWdIzNsZXCxBv1Kg1i8NLEEXXXTRRb4rQW9nSMxbbytBx3Ecx3EgK0EffPDBh9EqQXeGxLydgipBz5CYt7MzKkEnm2yyyeQpQX6lQK3flSlB1q8UqPVGKUEuuuiiC/goQYbEvJ0hqShB3s6QmDdaKEE22WSTTQsoQY7jOI5jvCdB5u0MiXltJ0E++OCDjx4nQZYCtX6lzyZB7gyJebuAJkFGF1100TEmQZ4hMW/n4iVB9SsFav2TJUFNNtlkE0UlQaVArV8p9iRB/UqBWj+nJEFVVVVVVVgkQa1fKVBrCSRBBWr9SoG6I0FddNFFl2sjQbV+pUCtHCNBDYl5O8PNIkFlk0022X4iQb2dITHvLyJBFaj1KwXhIUFssskmG5IhQcS8nSExQyFBHMdxHEf0IEF00UUXXaUgQczbGRJzViBBJObtDIkHIEH44IMPPnEfQaj1KwVq0x5BWArU+pU1HkEIH3zwwZcdQbczJObt+RxBZ0jM2xlcHEEXXXTRRb4bQcdxHMdxIBtBd4bEvJ2CGkEnm2yyyeQZQdavFKj1RhlBhsS8nSGpGEE22WSTTQsYQebtDIl5bRdBlgK1fqXPFkFGF1100TEWQfUrBWr9kxVBpUCtXyn2FEFVVVVVVVgUQQVq/UqBuhNBtX6lQK0cE0Flk0022X4SQRWo9SsF4RFBxLydITFDEUF00UUXXaUQQSTm7QyJBxBBqPUrBWrTDkEIH3zwwZcNQWdIzNsZXAxBx3Ecx3EgC0Enm2yyyeQJQYbEvJ0hqQhB5u0MiXltB0FGF1100TEGQaVArV8p9gRBBWr9SoG6A0Flk0022X4CQcS8nSExQwFBJObtDIkHAEEIH3zwwZf9QMdxHMdxIPtAhsS8nSGp+EBGF1100TH2QAVq/UqBuvNAxLydITFD8UAIH3zwwZftQIbEvJ0hqehABWr9SoG640AIH3zwwZfdQAVq/UqButNABWr9SoG6w0AAAAAAAAAAAA==\",\"dtype\":\"float64\",\"order\":\"little\",\"shape\":[200]}},\"selected\":{\"id\":\"4859\"},\"selection_policy\":{\"id\":\"4885\"}},\"id\":\"4858\",\"type\":\"ColumnDataSource\"},{\"attributes\":{\"fill_color\":\"red\",\"x\":{\"field\":\"x\"},\"y\":{\"field\":\"y\"}},\"id\":\"4877\",\"type\":\"Patch\"},{\"attributes\":{\"end\":14,\"format\":\"0[.]00\",\"margin\":[5,10,5,10],\"start\":1,\"title\":\"Vote duration days\",\"value\":3,\"value_throttled\":3},\"id\":\"4808\",\"type\":\"Slider\"},{\"attributes\":{\"axis\":{\"id\":\"4827\"},\"grid_line_color\":null,\"ticker\":null},\"id\":\"4830\",\"type\":\"Grid\"},{\"attributes\":{\"fill_alpha\":1,\"fill_color\":\"red\",\"line_alpha\":1,\"x\":{\"field\":\"x\"},\"y\":{\"field\":\"y\"}},\"id\":\"4878\",\"type\":\"Patch\"},{\"attributes\":{\"disabled\":true,\"format\":null,\"margin\":[5,10,5,10],\"placeholder\":\"0\",\"step\":0.1,\"title\":\"Total tokens\",\"value\":1000000.0,\"value_throttled\":1000000.0},\"id\":\"4805\",\"type\":\"Spinner\"},{\"attributes\":{},\"id\":\"4837\",\"type\":\"WheelZoomTool\"},{\"attributes\":{\"axis\":{\"id\":\"4831\"},\"dimension\":1,\"grid_line_color\":null,\"ticker\":null},\"id\":\"4834\",\"type\":\"Grid\"},{\"attributes\":{\"fill_alpha\":0.2,\"fill_color\":\"red\",\"line_alpha\":0.2,\"x\":{\"field\":\"x\"},\"y\":{\"field\":\"y\"}},\"id\":\"4879\",\"type\":\"Patch\"},{\"attributes\":{\"margin\":[5,10,5,10],\"name\":\"\",\"text\":\"<b>DandelionVoting</b>\"},\"id\":\"4804\",\"type\":\"Div\"},{\"attributes\":{},\"id\":\"4832\",\"type\":\"BasicTicker\"},{\"attributes\":{},\"id\":\"4859\",\"type\":\"Selection\"},{\"attributes\":{},\"id\":\"4825\",\"type\":\"LinearScale\"},{\"attributes\":{\"client_comm_id\":\"0946d2b68173449fbad5906bda06386c\",\"comm_id\":\"1b3dce4d648d4f95b3f089a621ecc77c\",\"plot_id\":\"4802\"},\"id\":\"5002\",\"type\":\"panel.models.comm_manager.CommManager\"},{\"attributes\":{\"data_source\":{\"id\":\"4874\"},\"glyph\":{\"id\":\"4877\"},\"hover_glyph\":null,\"muted_glyph\":{\"id\":\"4879\"},\"nonselection_glyph\":{\"id\":\"4878\"},\"selection_glyph\":null,\"view\":{\"id\":\"4881\"}},\"id\":\"4880\",\"type\":\"GlyphRenderer\"},{\"attributes\":{\"axis_label\":\"Token Parity (Vote Distribution)\",\"bounds\":\"auto\",\"formatter\":{\"id\":\"4849\"},\"major_label_orientation\":\"horizontal\",\"ticker\":{\"id\":\"4832\"}},\"id\":\"4831\",\"type\":\"LinearAxis\"},{\"attributes\":{},\"id\":\"4839\",\"type\":\"ResetTool\"},{\"attributes\":{\"children\":[{\"id\":\"4804\"},{\"id\":\"4805\"},{\"id\":\"4806\"},{\"id\":\"4807\"},{\"id\":\"4808\"},{\"id\":\"4809\"},{\"id\":\"4810\"},{\"id\":\"4811\"}],\"margin\":[5,5,5,5],\"min_width\":300,\"name\":\"DandelionVoting\",\"width\":300},\"id\":\"4803\",\"type\":\"Column\"},{\"attributes\":{},\"id\":\"4835\",\"type\":\"SaveTool\"},{\"attributes\":{\"active_drag\":\"auto\",\"active_inspect\":\"auto\",\"active_multi\":null,\"active_scroll\":\"auto\",\"active_tap\":\"auto\",\"tools\":[{\"id\":\"4815\"},{\"id\":\"4835\"},{\"id\":\"4836\"},{\"id\":\"4837\"},{\"id\":\"4838\"},{\"id\":\"4839\"}]},\"id\":\"4841\",\"type\":\"Toolbar\"},{\"attributes\":{\"children\":[{\"id\":\"4818\"}],\"margin\":[0,0,0,0],\"name\":\"Row11943\"},\"id\":\"4812\",\"type\":\"Row\"}],\"root_ids\":[\"4802\",\"5002\"]},\"title\":\"Bokeh Application\",\"version\":\"2.2.3\"}};\n",
       "    var render_items = [{\"docid\":\"7f869130-2448-441b-a7e3-78a6e6e4fc61\",\"root_ids\":[\"4802\"],\"roots\":{\"4802\":\"c96127e6-6a08-4433-81ed-b1a3a4c2db04\"}}];\n",
       "    root.Bokeh.embed.embed_items_notebook(docs_json, render_items);\n",
       "  }\n",
       "  if (root.Bokeh !== undefined && root.Bokeh.Panel !== undefined) {\n",
       "    embed_document(root);\n",
       "  } else {\n",
       "    var attempts = 0;\n",
       "    var timer = setInterval(function(root) {\n",
       "      if (root.Bokeh !== undefined && root.Bokeh.Panel !== undefined) {\n",
       "        clearInterval(timer);\n",
       "        embed_document(root);\n",
       "      } else if (document.readyState == \"complete\") {\n",
       "        attempts++;\n",
       "        if (attempts > 100) {\n",
       "          clearInterval(timer);\n",
       "          console.log(\"Bokeh: ERROR: Unable to run BokehJS code because BokehJS library is missing\");\n",
       "        }\n",
       "      }\n",
       "    }, 10, root)\n",
       "  }\n",
       "})(window);</script>"
      ],
      "text/plain": [
       "Row\n",
       "    [0] Column(margin=5, name='DandelionVoting', width=300)\n",
       "        [0] StaticText(value='<b>DandelionVoting</b>')\n",
       "        [1] FloatInput(disabled=True, name='Total tokens', value=1000000.0, value_throttled=1000000.0)\n",
       "        [2] FloatSlider(end=0.9, name='Support required', start=0.5, step=0.01, value=0.6, value_throttled=0.6)\n",
       "        [3] FloatSlider(name='Minimum accepted quorum', start=0.01, step=0.01, value=0.02, value_throttled=0.02)\n",
       "        [4] FloatSlider(end=14, name='Vote duration days', start=1, step=1, value=3, value_throttled=3)\n",
       "        [5] FloatSlider(end=48, name='Vote buffer hours', start=1, step=1, value=8, value_throttled=8)\n",
       "        [6] FloatSlider(end=48, name='Rage quit hours', start=1, step=1, value=24, value_throttled=24)\n",
       "        [7] FloatSlider(end=100, name='Tollgate fee xdai', start=1, step=1, value=3, value_throttled=3)\n",
       "    [1] ParamMethod(method)"
      ]
     },
     "execution_count": 29,
     "metadata": {
      "application/vnd.holoviews_exec.v0+json": {
       "id": "4802"
      }
     },
     "output_type": "execute_result"
    }
   ],
   "source": [
    "d = DandelionVoting()\n",
    "pn.Row(d, d.vote_pass_view)"
   ]
  },
  {
   "cell_type": "markdown",
   "metadata": {},
   "source": [
    "## Impact Hours"
   ]
  },
  {
   "cell_type": "code",
   "execution_count": 30,
   "metadata": {},
   "outputs": [
    {
     "data": {},
     "metadata": {},
     "output_type": "display_data"
    },
    {
     "data": {},
     "metadata": {},
     "output_type": "display_data"
    },
    {
     "data": {
      "application/vnd.holoviews_exec.v0+json": "",
      "text/html": [
       "<div id='5053'>\n",
       "\n",
       "\n",
       "\n",
       "\n",
       "\n",
       "  <div class=\"bk-root\" id=\"9910be45-7ff9-4c00-bed0-be4d6a4766ff\" data-root-id=\"5053\"></div>\n",
       "</div>\n",
       "<script type=\"application/javascript\">(function(root) {\n",
       "  function embed_document(root) {\n",
       "    var docs_json = {\"61fb311f-6a27-4102-a1e5-615ef5d285a7\":{\"roots\":{\"references\":[{\"attributes\":{\"data_source\":{\"id\":\"5109\"},\"glyph\":{\"id\":\"5112\"},\"hover_glyph\":null,\"muted_glyph\":{\"id\":\"5114\"},\"nonselection_glyph\":{\"id\":\"5113\"},\"selection_glyph\":null,\"view\":{\"id\":\"5116\"}},\"id\":\"5115\",\"type\":\"GlyphRenderer\"},{\"attributes\":{\"source\":{\"id\":\"5137\"}},\"id\":\"5144\",\"type\":\"CDSView\"},{\"attributes\":{},\"id\":\"5084\",\"type\":\"PanTool\"},{\"attributes\":{},\"id\":\"5395\",\"type\":\"StringEditor\"},{\"attributes\":{},\"id\":\"5085\",\"type\":\"WheelZoomTool\"},{\"attributes\":{},\"id\":\"5400\",\"type\":\"NumberEditor\"},{\"attributes\":{\"data_source\":{\"id\":\"5137\"},\"glyph\":{\"id\":\"5140\"},\"hover_glyph\":null,\"muted_glyph\":{\"id\":\"5142\"},\"nonselection_glyph\":{\"id\":\"5141\"},\"selection_glyph\":null,\"view\":{\"id\":\"5144\"}},\"id\":\"5143\",\"type\":\"GlyphRenderer\"},{\"attributes\":{},\"id\":\"5404\",\"type\":\"StringFormatter\"},{\"attributes\":{\"source\":{\"id\":\"5109\"}},\"id\":\"5116\",\"type\":\"CDSView\"},{\"attributes\":{},\"id\":\"5394\",\"type\":\"StringFormatter\"},{\"attributes\":{\"editor\":{\"id\":\"5390\"},\"field\":\"Min_Goal_commercial_at_10_IH_over_hr_ampersand_15_percent_Tribute\",\"formatter\":{\"id\":\"5389\"},\"title\":\"Min Goal @ 10 IH/hr & 15% Tribute\"},\"id\":\"5391\",\"type\":\"TableColumn\"},{\"attributes\":{\"overlay\":{\"id\":\"5088\"}},\"id\":\"5086\",\"type\":\"BoxZoomTool\"},{\"attributes\":{\"axis\":{\"id\":\"5079\"},\"dimension\":1,\"grid_line_color\":null,\"ticker\":null},\"id\":\"5082\",\"type\":\"Grid\"},{\"attributes\":{},\"id\":\"5087\",\"type\":\"ResetTool\"},{\"attributes\":{},\"id\":\"5405\",\"type\":\"StringEditor\"},{\"attributes\":{\"format\":\"0,0.0[00000]\"},\"id\":\"5399\",\"type\":\"NumberFormatter\"},{\"attributes\":{\"editor\":{\"id\":\"5395\"},\"field\":\"Min_Goal_commercial_at_10_IH_over_hr_ampersand_20_percent_Tribute\",\"formatter\":{\"id\":\"5394\"},\"title\":\"Min Goal @ 10 IH/hr & 20% Tribute\"},\"id\":\"5396\",\"type\":\"TableColumn\"},{\"attributes\":{\"label\":{\"value\":\"Actual\"},\"renderers\":[{\"id\":\"5115\"}]},\"id\":\"5128\",\"type\":\"LegendItem\"},{\"attributes\":{},\"id\":\"5161\",\"type\":\"Selection\"},{\"attributes\":{\"editor\":{\"id\":\"5400\"},\"field\":\"Change_in_Impact_hours_from_previous_round\",\"formatter\":{\"id\":\"5399\"},\"title\":\"Change in Impact hours from previous round\"},\"id\":\"5401\",\"type\":\"TableColumn\"},{\"attributes\":{\"label\":{\"value\":\"Predicted\"},\"renderers\":[{\"id\":\"5143\"}]},\"id\":\"5159\",\"type\":\"LegendItem\"},{\"attributes\":{\"source\":{\"id\":\"5357\"}},\"id\":\"5410\",\"type\":\"CDSView\"},{\"attributes\":{},\"id\":\"5191\",\"type\":\"UnionRenderers\"},{\"attributes\":{\"client_comm_id\":\"b576dcab7c2e42d6b5eb346354c02a4b\",\"comm_id\":\"2776cecd6f0d46ceb0e07a46eac72279\",\"plot_id\":\"5053\"},\"id\":\"5475\",\"type\":\"panel.models.comm_manager.CommManager\"},{\"attributes\":{},\"id\":\"5154\",\"type\":\"UnionRenderers\"},{\"attributes\":{\"columns\":[{\"id\":\"5361\"},{\"id\":\"5366\"},{\"id\":\"5371\"},{\"id\":\"5376\"},{\"id\":\"5381\"},{\"id\":\"5386\"},{\"id\":\"5391\"},{\"id\":\"5396\"},{\"id\":\"5401\"},{\"id\":\"5406\"}],\"height\":300,\"reorderable\":false,\"source\":{\"id\":\"5357\"},\"view\":{\"id\":\"5410\"},\"width\":700},\"id\":\"5409\",\"type\":\"DataTable\"},{\"attributes\":{\"click_policy\":\"mute\",\"items\":[{\"id\":\"5128\"},{\"id\":\"5159\"},{\"id\":\"5194\"}],\"location\":[0,0]},\"id\":\"5127\",\"type\":\"Legend\"},{\"attributes\":{\"editor\":{\"id\":\"5405\"},\"field\":\"Model\",\"formatter\":{\"id\":\"5404\"},\"title\":\"Model\"},\"id\":\"5406\",\"type\":\"TableColumn\"},{\"attributes\":{},\"id\":\"5411\",\"type\":\"UnionRenderers\"},{\"attributes\":{\"bottom_units\":\"screen\",\"fill_alpha\":0.5,\"fill_color\":\"lightgrey\",\"left_units\":\"screen\",\"level\":\"overlay\",\"line_alpha\":1.0,\"line_color\":\"black\",\"line_dash\":[4,4],\"line_width\":2,\"right_units\":\"screen\",\"top_units\":\"screen\"},\"id\":\"5088\",\"type\":\"BoxAnnotation\"},{\"attributes\":{\"fill_alpha\":{\"value\":0.2},\"fill_color\":{\"value\":\"#1f77b3\"},\"line_alpha\":{\"value\":0.2},\"top\":{\"field\":\"Total_Hours\"},\"width\":{\"value\":0.8},\"x\":{\"field\":\"End_Date\"}},\"id\":\"5114\",\"type\":\"VBar\"},{\"attributes\":{},\"id\":\"5138\",\"type\":\"Selection\"},{\"attributes\":{},\"id\":\"5156\",\"type\":\"UnionRenderers\"},{\"attributes\":{\"children\":[{\"id\":\"5054\"},{\"id\":\"5057\"}],\"margin\":[0,0,0,0],\"name\":\"Row13229\"},\"id\":\"5053\",\"type\":\"Row\"},{\"attributes\":{\"margin\":[5,10,5,10],\"name\":\"\",\"text\":\"<b>ImpactHoursData</b>\"},\"id\":\"5055\",\"type\":\"Div\"},{\"attributes\":{},\"id\":\"5390\",\"type\":\"StringEditor\"},{\"attributes\":{\"end\":1,\"format\":\"0[.]00\",\"margin\":[5,10,5,10],\"start\":0,\"step\":0.01,\"title\":\"Prediction\",\"value\":0,\"value_throttled\":0},\"id\":\"5056\",\"type\":\"Slider\"},{\"attributes\":{\"children\":[{\"id\":\"5055\"},{\"id\":\"5056\"}],\"margin\":[5,5,5,5],\"min_width\":300,\"name\":\"ImpactHoursData\",\"width\":300},\"id\":\"5054\",\"type\":\"Column\"},{\"attributes\":{},\"id\":\"5122\",\"type\":\"UnionRenderers\"},{\"attributes\":{\"children\":[{\"id\":\"5058\"}],\"margin\":[0,0,0,0],\"name\":\"Row12640\"},\"id\":\"5057\",\"type\":\"Row\"},{\"attributes\":{\"children\":[{\"id\":\"5067\"},{\"id\":\"5409\"}],\"margin\":[0,0,0,0],\"name\":\"Row13227\"},\"id\":\"5058\",\"type\":\"Row\"},{\"attributes\":{\"data\":{\"End Date\":[\"Fri, Sep 11\",\"Fri, Sep 25\",\"Fri, Oct 9\",\"Fri, Oct 23\",\"Fri, Nov 6\",\"Fri, Nov 20\",\"Fri, Dec 4\",\"Fri, Dec 18\",\"Fri, Jan 1\",\"Fri, Jan 15\",\"Fri, Jan 29\",\"Fri, Feb 12\",\"Fri, Feb 26\",\"Fri, Mar 12\",\"Fri, Mar 26\",\"Fri, Apr 9\"],\"End_Date\":[\"Fri, Sep 11\",\"Fri, Sep 25\",\"Fri, Oct 9\",\"Fri, Oct 23\",\"Fri, Nov 6\",\"Fri, Nov 20\",\"Fri, Dec 4\",\"Fri, Dec 18\",\"Fri, Jan 1\",\"Fri, Jan 15\",\"Fri, Jan 29\",\"Fri, Feb 12\",\"Fri, Feb 26\",\"Fri, Mar 12\",\"Fri, Mar 26\",\"Fri, Apr 9\"],\"Total IH\":{\"__ndarray__\":\"KVyPwvWAeUBzaJHtfBd9QL+fGi/dhoNAqvHSTWIRjEAxCKwc2k2SQDvfT40XoJhAlkOLbGdToEA4wMx3iESkQEymCkbFXqZAzce1odLbqkDRCgxZ7e2vQLPw9bWKyrJAtTNMbaXotUB5B3jSRlG5QAWlaOVuBL1AqWkX0w6BwEA=\",\"dtype\":\"float64\",\"order\":\"little\",\"shape\":[16]},\"Total_IH\":{\"__ndarray__\":\"KVyPwvWAeUBzaJHtfBd9QL+fGi/dhoNAqvHSTWIRjEAxCKwc2k2SQDvfT40XoJhAlkOLbGdToEA4wMx3iESkQEymCkbFXqZAzce1odLbqkDRCgxZ7e2vQLPw9bWKyrJAtTNMbaXotUB5B3jSRlG5QAWlaOVuBL1AqWkX0w6BwEA=\",\"dtype\":\"float64\",\"order\":\"little\",\"shape\":[16]}},\"selected\":{\"id\":\"5102\"},\"selection_policy\":{\"id\":\"5122\"}},\"id\":\"5101\",\"type\":\"ColumnDataSource\"},{\"attributes\":{\"editor\":{\"id\":\"5385\"},\"field\":\"Min_Goal_commercial_at_15_DAI_over_IH_ampersand_15_percent_Tribute\",\"formatter\":{\"id\":\"5384\"},\"title\":\"Min Goal @ 15 DAI/IH & 15% Tribute\"},\"id\":\"5386\",\"type\":\"TableColumn\"},{\"attributes\":{},\"id\":\"5124\",\"type\":\"UnionRenderers\"},{\"attributes\":{\"axis_label\":\"End Date\",\"bounds\":\"auto\",\"formatter\":{\"id\":\"5097\"},\"major_label_orientation\":0.7853981633974483,\"ticker\":{\"id\":\"5077\"}},\"id\":\"5076\",\"type\":\"CategoricalAxis\"},{\"attributes\":{\"active_drag\":\"auto\",\"active_inspect\":\"auto\",\"active_multi\":null,\"active_scroll\":\"auto\",\"active_tap\":\"auto\",\"tools\":[{\"id\":\"5061\"},{\"id\":\"5062\"},{\"id\":\"5083\"},{\"id\":\"5084\"},{\"id\":\"5085\"},{\"id\":\"5086\"},{\"id\":\"5087\"}]},\"id\":\"5089\",\"type\":\"Toolbar\"},{\"attributes\":{\"line_color\":\"#2ba02b\",\"line_width\":2,\"x\":{\"field\":\"End Date\"},\"y\":{\"field\":\"Total IH\"}},\"id\":\"5163\",\"type\":\"Line\"},{\"attributes\":{\"data_source\":{\"id\":\"5160\"},\"glyph\":{\"id\":\"5163\"},\"hover_glyph\":null,\"muted_glyph\":{\"id\":\"5165\"},\"nonselection_glyph\":{\"id\":\"5164\"},\"selection_glyph\":null,\"view\":{\"id\":\"5167\"}},\"id\":\"5166\",\"type\":\"GlyphRenderer\"},{\"attributes\":{\"fill_color\":{\"value\":\"#2ba02b\"},\"top\":{\"field\":\"Total_Hours\"},\"width\":{\"value\":0.8},\"x\":{\"field\":\"End_Date\"}},\"id\":\"5171\",\"type\":\"VBar\"},{\"attributes\":{\"data\":{\"Actual_over_Predicted\":[\"Predicted\",\"Predicted\",\"Predicted\",\"Predicted\",\"Predicted\",\"Predicted\",\"Predicted\"],\"Change_in_Impact_hours_from_previous_round\":{\"__ndarray__\":\"MDvVa4QWc0AojQN1q6FSQCiNA3WroVJAKI0DdauhUkAojQN1q6FSQCiNA3WroVJAKI0DdauhUkA=\",\"dtype\":\"float64\",\"order\":\"little\",\"shape\":[7]},\"End_Date\":[\"Fri, Jan 15\",\"Fri, Jan 29\",\"Fri, Feb 12\",\"Fri, Feb 26\",\"Fri, Mar 12\",\"Fri, Mar 26\",\"Fri, Apr 9\"],\"Min_Goal_commercial_at_10_IH_over_hr_ampersand_15_percent_Tribute\":[\"$229,194.09\",\"$272,464.24\",\"$320,702.79\",\"$373,909.75\",\"$432,085.11\",\"$495,228.88\",\"$563,341.05\"],\"Min_Goal_commercial_at_10_IH_over_hr_ampersand_20_percent_Tribute\":[\"$171,895.57\",\"$204,348.18\",\"$240,527.09\",\"$280,432.31\",\"$324,063.83\",\"$371,421.66\",\"$422,505.79\"],\"Min_Goal_commercial_at_15_DAI_over_IH_ampersand_15_percent_Tribute\":[\"$343,791.14\",\"$408,696.36\",\"$481,054.18\",\"$560,864.62\",\"$648,127.66\",\"$742,843.32\",\"$845,011.58\"],\"Model\":[\"Historic\",\"Historic\",\"Historic\",\"Historic\",\"Historic\",\"Historic\",\"Historic\"],\"Round\":[\"9\",\"10\",\"11\",\"12\",\"13\",\"14\",\"15\"],\"Total_Hours\":{\"__ndarray__\":\"DBqfbjX0gUAYND7dakiEQCVO3UugnIZAMGh8utXwiEA17igpC0WLQEIIyJdAmY1AaHIxBnbtj0A=\",\"dtype\":\"float64\",\"order\":\"little\",\"shape\":[7]},\"Total_IH\":{\"__ndarray__\":\"AAAAAAAA+H8AAAAAAAD4fwAAAAAAAPh/AAAAAAAA+H8AAAAAAAD4fwAAAAAAAPh/AAAAAAAA+H8=\",\"dtype\":\"float64\",\"order\":\"little\",\"shape\":[7]}},\"selected\":{\"id\":\"5358\"},\"selection_policy\":{\"id\":\"5411\"}},\"id\":\"5357\",\"type\":\"ColumnDataSource\"},{\"attributes\":{\"fill_alpha\":{\"value\":0.1},\"fill_color\":{\"value\":\"#1f77b3\"},\"line_alpha\":{\"value\":0.1},\"top\":{\"field\":\"Total_Hours\"},\"width\":{\"value\":0.8},\"x\":{\"field\":\"End_Date\"}},\"id\":\"5113\",\"type\":\"VBar\"},{\"attributes\":{\"callback\":null,\"renderers\":[{\"id\":\"5107\"},{\"id\":\"5135\"},{\"id\":\"5166\"}],\"tags\":[\"hv_created\"],\"tooltips\":[[\"End Date\",\"@{End_Date}\"],[\"Total IH\",\"@{Total_IH}\"]]},\"id\":\"5061\",\"type\":\"HoverTool\"},{\"attributes\":{\"format\":\"0,0.0[00000]\"},\"id\":\"5364\",\"type\":\"NumberFormatter\"},{\"attributes\":{\"editor\":{\"id\":\"5360\"},\"field\":\"Round\",\"formatter\":{\"id\":\"5359\"},\"title\":\"Round\"},\"id\":\"5361\",\"type\":\"TableColumn\"},{\"attributes\":{\"editor\":{\"id\":\"5365\"},\"field\":\"Total_Hours\",\"formatter\":{\"id\":\"5364\"},\"title\":\"Total Hours\"},\"id\":\"5366\",\"type\":\"TableColumn\"},{\"attributes\":{},\"id\":\"5097\",\"type\":\"CategoricalTickFormatter\"},{\"attributes\":{},\"id\":\"5072\",\"type\":\"CategoricalScale\"},{\"attributes\":{\"text\":\"Impact Hours Accumulation Curve :)\",\"text_color\":{\"value\":\"black\"},\"text_font_size\":{\"value\":\"12pt\"}},\"id\":\"5068\",\"type\":\"Title\"},{\"attributes\":{\"line_alpha\":0.2,\"line_color\":\"#2ba02b\",\"line_width\":2,\"x\":{\"field\":\"End Date\"},\"y\":{\"field\":\"Total IH\"}},\"id\":\"5165\",\"type\":\"Line\"},{\"attributes\":{\"factors\":[\"Fri, Sep 11\",\"Fri, Sep 25\",\"Fri, Oct 9\",\"Fri, Oct 23\",\"Fri, Nov 6\",\"Fri, Nov 20\",\"Fri, Dec 4\",\"Fri, Dec 18\",\"Fri, Jan 1\",\"Fri, Jan 15\",\"Fri, Jan 29\",\"Fri, Feb 12\",\"Fri, Feb 26\",\"Fri, Mar 12\",\"Fri, Mar 26\",\"Fri, Apr 9\"],\"tags\":[[[\"End Date\",\"End Date\",null]]]},\"id\":\"5059\",\"type\":\"FactorRange\"},{\"attributes\":{\"data\":{\"End Date\":[\"Fri, Jan 15\",\"Fri, Jan 29\",\"Fri, Feb 12\",\"Fri, Feb 26\",\"Fri, Mar 12\",\"Fri, Mar 26\",\"Fri, Apr 9\"],\"End_Date\":[\"Fri, Jan 15\",\"Fri, Jan 29\",\"Fri, Feb 12\",\"Fri, Feb 26\",\"Fri, Mar 12\",\"Fri, Mar 26\",\"Fri, Apr 9\"],\"Total IH\":{\"__ndarray__\":\"TKYKRsVGqkBMpgpGxS6uQCZTBaNiC7FAJlMFo2L/skAmUwWjYvO0QCZTBaNi57ZAJlMFo2LbuEA=\",\"dtype\":\"float64\",\"order\":\"little\",\"shape\":[7]},\"Total_IH\":{\"__ndarray__\":\"TKYKRsVGqkBMpgpGxS6uQCZTBaNiC7FAJlMFo2L/skAmUwWjYvO0QCZTBaNi57ZAJlMFo2LbuEA=\",\"dtype\":\"float64\",\"order\":\"little\",\"shape\":[7]}},\"selected\":{\"id\":\"5161\"},\"selection_policy\":{\"id\":\"5189\"}},\"id\":\"5160\",\"type\":\"ColumnDataSource\"},{\"attributes\":{},\"id\":\"5360\",\"type\":\"StringEditor\"},{\"attributes\":{\"end\":9289.386598699999,\"reset_end\":9289.386598699999,\"reset_start\":0.0,\"tags\":[[[\"Total IH\",\"Total IH\",null]]]},\"id\":\"5060\",\"type\":\"Range1d\"},{\"attributes\":{},\"id\":\"5099\",\"type\":\"BasicTickFormatter\"},{\"attributes\":{\"line_alpha\":0.1,\"line_color\":\"#2ba02b\",\"line_width\":2,\"x\":{\"field\":\"End Date\"},\"y\":{\"field\":\"Total IH\"}},\"id\":\"5164\",\"type\":\"Line\"},{\"attributes\":{},\"id\":\"5130\",\"type\":\"Selection\"},{\"attributes\":{\"below\":[{\"id\":\"5076\"}],\"center\":[{\"id\":\"5078\"},{\"id\":\"5082\"}],\"left\":[{\"id\":\"5079\"}],\"margin\":[5,5,5,5],\"min_border_bottom\":10,\"min_border_left\":10,\"min_border_right\":10,\"min_border_top\":10,\"plot_height\":300,\"plot_width\":700,\"renderers\":[{\"id\":\"5107\"},{\"id\":\"5115\"},{\"id\":\"5135\"},{\"id\":\"5143\"},{\"id\":\"5166\"},{\"id\":\"5174\"}],\"right\":[{\"id\":\"5127\"}],\"sizing_mode\":\"fixed\",\"title\":{\"id\":\"5068\"},\"toolbar\":{\"id\":\"5089\"},\"x_range\":{\"id\":\"5059\"},\"x_scale\":{\"id\":\"5072\"},\"y_range\":{\"id\":\"5060\"},\"y_scale\":{\"id\":\"5074\"}},\"id\":\"5067\",\"subtype\":\"Figure\",\"type\":\"Plot\"},{\"attributes\":{\"fill_color\":{\"value\":\"#1f77b3\"},\"top\":{\"field\":\"Total_Hours\"},\"width\":{\"value\":0.8},\"x\":{\"field\":\"End_Date\"}},\"id\":\"5112\",\"type\":\"VBar\"},{\"attributes\":{\"data\":{\"End_Date\":[\"Fri, Jan 15\",\"Fri, Jan 29\",\"Fri, Feb 12\",\"Fri, Feb 26\",\"Fri, Mar 12\",\"Fri, Mar 26\",\"Fri, Apr 9\"],\"Total_Hours\":{\"__ndarray__\":\"DBqfbjX0gUAYND7dakiEQCVO3UugnIZAMGh8utXwiEA17igpC0WLQEIIyJdAmY1AaHIxBnbtj0A=\",\"dtype\":\"float64\",\"order\":\"little\",\"shape\":[7]}},\"selected\":{\"id\":\"5138\"},\"selection_policy\":{\"id\":\"5156\"}},\"id\":\"5137\",\"type\":\"ColumnDataSource\"},{\"attributes\":{\"source\":{\"id\":\"5160\"}},\"id\":\"5167\",\"type\":\"CDSView\"},{\"attributes\":{},\"id\":\"5369\",\"type\":\"StringFormatter\"},{\"attributes\":{},\"id\":\"5359\",\"type\":\"StringFormatter\"},{\"attributes\":{\"data_source\":{\"id\":\"5129\"},\"glyph\":{\"id\":\"5132\"},\"hover_glyph\":null,\"muted_glyph\":{\"id\":\"5134\"},\"nonselection_glyph\":{\"id\":\"5133\"},\"selection_glyph\":null,\"view\":{\"id\":\"5136\"}},\"id\":\"5135\",\"type\":\"GlyphRenderer\"},{\"attributes\":{\"line_color\":\"#1f77b3\",\"line_width\":2,\"x\":{\"field\":\"End Date\"},\"y\":{\"field\":\"Total IH\"}},\"id\":\"5104\",\"type\":\"Line\"},{\"attributes\":{\"fill_alpha\":{\"value\":0.2},\"fill_color\":{\"value\":\"#2ba02b\"},\"line_alpha\":{\"value\":0.2},\"top\":{\"field\":\"Total_Hours\"},\"width\":{\"value\":0.8},\"x\":{\"field\":\"End_Date\"}},\"id\":\"5173\",\"type\":\"VBar\"},{\"attributes\":{\"line_color\":\"#ff7e0e\",\"line_width\":2,\"x\":{\"field\":\"End Date\"},\"y\":{\"field\":\"Total IH\"}},\"id\":\"5132\",\"type\":\"Line\"},{\"attributes\":{},\"id\":\"5358\",\"type\":\"Selection\"},{\"attributes\":{\"source\":{\"id\":\"5168\"}},\"id\":\"5175\",\"type\":\"CDSView\"},{\"attributes\":{\"fill_alpha\":{\"value\":0.1},\"fill_color\":{\"value\":\"#ff7e0e\"},\"line_alpha\":{\"value\":0.1},\"top\":{\"field\":\"Total_Hours\"},\"width\":{\"value\":0.8},\"x\":{\"field\":\"End_Date\"}},\"id\":\"5141\",\"type\":\"VBar\"},{\"attributes\":{\"callback\":null,\"renderers\":[{\"id\":\"5115\"},{\"id\":\"5143\"},{\"id\":\"5174\"}],\"tags\":[\"hv_created\"],\"tooltips\":[[\"End Date\",\"@{End_Date}\"],[\"Total Hours\",\"@{Total_Hours}\"]]},\"id\":\"5062\",\"type\":\"HoverTool\"},{\"attributes\":{\"label\":{\"value\":\"Optimistic\"},\"renderers\":[{\"id\":\"5174\"}]},\"id\":\"5194\",\"type\":\"LegendItem\"},{\"attributes\":{\"line_alpha\":0.2,\"line_color\":\"#ff7e0e\",\"line_width\":2,\"x\":{\"field\":\"End Date\"},\"y\":{\"field\":\"Total IH\"}},\"id\":\"5134\",\"type\":\"Line\"},{\"attributes\":{},\"id\":\"5375\",\"type\":\"StringEditor\"},{\"attributes\":{},\"id\":\"5189\",\"type\":\"UnionRenderers\"},{\"attributes\":{\"line_alpha\":0.1,\"line_color\":\"#1f77b3\",\"line_width\":2,\"x\":{\"field\":\"End Date\"},\"y\":{\"field\":\"Total IH\"}},\"id\":\"5105\",\"type\":\"Line\"},{\"attributes\":{},\"id\":\"5365\",\"type\":\"NumberEditor\"},{\"attributes\":{},\"id\":\"5169\",\"type\":\"Selection\"},{\"attributes\":{\"data\":{\"End_Date\":[\"Fri, Jan 15\",\"Fri, Jan 29\",\"Fri, Feb 12\",\"Fri, Feb 26\",\"Fri, Mar 12\",\"Fri, Mar 26\",\"Fri, Apr 9\"],\"Total_Hours\":{\"__ndarray__\":\"AAAAAABAf0AAAAAAAEB/QAAAAAAAQH9AAAAAAABAf0AAAAAAAEB/QAAAAAAAQH9AAAAAAABAf0A=\",\"dtype\":\"float64\",\"order\":\"little\",\"shape\":[7]}},\"selected\":{\"id\":\"5169\"},\"selection_policy\":{\"id\":\"5191\"}},\"id\":\"5168\",\"type\":\"ColumnDataSource\"},{\"attributes\":{\"data_source\":{\"id\":\"5101\"},\"glyph\":{\"id\":\"5104\"},\"hover_glyph\":null,\"muted_glyph\":{\"id\":\"5106\"},\"nonselection_glyph\":{\"id\":\"5105\"},\"selection_glyph\":null,\"view\":{\"id\":\"5108\"}},\"id\":\"5107\",\"type\":\"GlyphRenderer\"},{\"attributes\":{\"fill_alpha\":{\"value\":0.1},\"fill_color\":{\"value\":\"#2ba02b\"},\"line_alpha\":{\"value\":0.1},\"top\":{\"field\":\"Total_Hours\"},\"width\":{\"value\":0.8},\"x\":{\"field\":\"End_Date\"}},\"id\":\"5172\",\"type\":\"VBar\"},{\"attributes\":{},\"id\":\"5370\",\"type\":\"StringEditor\"},{\"attributes\":{},\"id\":\"5110\",\"type\":\"Selection\"},{\"attributes\":{},\"id\":\"5380\",\"type\":\"NumberEditor\"},{\"attributes\":{\"line_alpha\":0.1,\"line_color\":\"#ff7e0e\",\"line_width\":2,\"x\":{\"field\":\"End Date\"},\"y\":{\"field\":\"Total IH\"}},\"id\":\"5133\",\"type\":\"Line\"},{\"attributes\":{\"data\":{\"End Date\":[\"Fri, Jan 15\",\"Fri, Jan 29\",\"Fri, Feb 12\",\"Fri, Feb 26\",\"Fri, Mar 12\",\"Fri, Mar 26\",\"Fri, Apr 9\"],\"End_Date\":[\"Fri, Jan 15\",\"Fri, Jan 29\",\"Fri, Feb 12\",\"Fri, Feb 26\",\"Fri, Mar 12\",\"Fri, Mar 26\",\"Fri, Apr 9\"],\"Total IH\":{\"__ndarray__\":\"AAAAAAAA+H8AAAAAAAD4fwAAAAAAAPh/AAAAAAAA+H8AAAAAAAD4fwAAAAAAAPh/AAAAAAAA+H8=\",\"dtype\":\"float64\",\"order\":\"little\",\"shape\":[7]},\"Total_IH\":{\"__ndarray__\":\"AAAAAAAA+H8AAAAAAAD4fwAAAAAAAPh/AAAAAAAA+H8AAAAAAAD4fwAAAAAAAPh/AAAAAAAA+H8=\",\"dtype\":\"float64\",\"order\":\"little\",\"shape\":[7]}},\"selected\":{\"id\":\"5130\"},\"selection_policy\":{\"id\":\"5154\"}},\"id\":\"5129\",\"type\":\"ColumnDataSource\"},{\"attributes\":{},\"id\":\"5083\",\"type\":\"SaveTool\"},{\"attributes\":{},\"id\":\"5384\",\"type\":\"StringFormatter\"},{\"attributes\":{\"source\":{\"id\":\"5101\"}},\"id\":\"5108\",\"type\":\"CDSView\"},{\"attributes\":{},\"id\":\"5374\",\"type\":\"StringFormatter\"},{\"attributes\":{\"source\":{\"id\":\"5129\"}},\"id\":\"5136\",\"type\":\"CDSView\"},{\"attributes\":{\"editor\":{\"id\":\"5370\"},\"field\":\"Actual_over_Predicted\",\"formatter\":{\"id\":\"5369\"},\"title\":\"Actual / Predicted\"},\"id\":\"5371\",\"type\":\"TableColumn\"},{\"attributes\":{},\"id\":\"5077\",\"type\":\"CategoricalTicker\"},{\"attributes\":{\"line_alpha\":0.2,\"line_color\":\"#1f77b3\",\"line_width\":2,\"x\":{\"field\":\"End Date\"},\"y\":{\"field\":\"Total IH\"}},\"id\":\"5106\",\"type\":\"Line\"},{\"attributes\":{},\"id\":\"5074\",\"type\":\"LinearScale\"},{\"attributes\":{},\"id\":\"5385\",\"type\":\"StringEditor\"},{\"attributes\":{},\"id\":\"5102\",\"type\":\"Selection\"},{\"attributes\":{\"data_source\":{\"id\":\"5168\"},\"glyph\":{\"id\":\"5171\"},\"hover_glyph\":null,\"muted_glyph\":{\"id\":\"5173\"},\"nonselection_glyph\":{\"id\":\"5172\"},\"selection_glyph\":null,\"view\":{\"id\":\"5175\"}},\"id\":\"5174\",\"type\":\"GlyphRenderer\"},{\"attributes\":{},\"id\":\"5080\",\"type\":\"BasicTicker\"},{\"attributes\":{\"format\":\"0,0.0[00000]\"},\"id\":\"5379\",\"type\":\"NumberFormatter\"},{\"attributes\":{\"editor\":{\"id\":\"5375\"},\"field\":\"End_Date\",\"formatter\":{\"id\":\"5374\"},\"title\":\"End Date\"},\"id\":\"5376\",\"type\":\"TableColumn\"},{\"attributes\":{\"fill_color\":{\"value\":\"#ff7e0e\"},\"top\":{\"field\":\"Total_Hours\"},\"width\":{\"value\":0.8},\"x\":{\"field\":\"End_Date\"}},\"id\":\"5140\",\"type\":\"VBar\"},{\"attributes\":{\"axis\":{\"id\":\"5076\"},\"grid_line_color\":null,\"ticker\":null},\"id\":\"5078\",\"type\":\"Grid\"},{\"attributes\":{\"editor\":{\"id\":\"5380\"},\"field\":\"Total_IH\",\"formatter\":{\"id\":\"5379\"},\"title\":\"Total IH\"},\"id\":\"5381\",\"type\":\"TableColumn\"},{\"attributes\":{\"axis_label\":\"Total IH\",\"bounds\":\"auto\",\"formatter\":{\"id\":\"5099\"},\"major_label_orientation\":\"horizontal\",\"ticker\":{\"id\":\"5080\"}},\"id\":\"5079\",\"type\":\"LinearAxis\"},{\"attributes\":{\"data\":{\"End_Date\":[\"Fri, Sep 11\",\"Fri, Sep 25\",\"Fri, Oct 9\",\"Fri, Oct 23\",\"Fri, Nov 6\",\"Fri, Nov 20\",\"Fri, Dec 4\",\"Fri, Dec 18\",\"Fri, Jan 1\",\"Fri, Jan 15\",\"Fri, Jan 29\",\"Fri, Feb 12\",\"Fri, Feb 26\",\"Fri, Mar 12\",\"Fri, Mar 26\",\"Fri, Apr 9\"],\"Total_Hours\":{\"__ndarray__\":\"KVyPwvWAeUBOYhBYObRMQBSuR+F67GNA16NwPQoVcUBxPQrXoxRxQClcj8L1SHlA30+Nl24NgEDNHJJaCIl/QOj4aHHm0XBADBqfbjX0gUAYND7dakiEQCVO3UugnIZAMGh8utXwiEA17igpC0WLQEIIyJdAmY1AaHIxBnbtj0A=\",\"dtype\":\"float64\",\"order\":\"little\",\"shape\":[16]}},\"selected\":{\"id\":\"5110\"},\"selection_policy\":{\"id\":\"5124\"}},\"id\":\"5109\",\"type\":\"ColumnDataSource\"},{\"attributes\":{},\"id\":\"5389\",\"type\":\"StringFormatter\"},{\"attributes\":{\"fill_alpha\":{\"value\":0.2},\"fill_color\":{\"value\":\"#ff7e0e\"},\"line_alpha\":{\"value\":0.2},\"top\":{\"field\":\"Total_Hours\"},\"width\":{\"value\":0.8},\"x\":{\"field\":\"End_Date\"}},\"id\":\"5142\",\"type\":\"VBar\"}],\"root_ids\":[\"5053\",\"5475\"]},\"title\":\"Bokeh Application\",\"version\":\"2.2.3\"}};\n",
       "    var render_items = [{\"docid\":\"61fb311f-6a27-4102-a1e5-615ef5d285a7\",\"root_ids\":[\"5053\"],\"roots\":{\"5053\":\"9910be45-7ff9-4c00-bed0-be4d6a4766ff\"}}];\n",
       "    root.Bokeh.embed.embed_items_notebook(docs_json, render_items);\n",
       "  }\n",
       "  if (root.Bokeh !== undefined && root.Bokeh.Panel !== undefined) {\n",
       "    embed_document(root);\n",
       "  } else {\n",
       "    var attempts = 0;\n",
       "    var timer = setInterval(function(root) {\n",
       "      if (root.Bokeh !== undefined && root.Bokeh.Panel !== undefined) {\n",
       "        clearInterval(timer);\n",
       "        embed_document(root);\n",
       "      } else if (document.readyState == \"complete\") {\n",
       "        attempts++;\n",
       "        if (attempts > 100) {\n",
       "          clearInterval(timer);\n",
       "          console.log(\"Bokeh: ERROR: Unable to run BokehJS code because BokehJS library is missing\");\n",
       "        }\n",
       "      }\n",
       "    }, 10, root)\n",
       "  }\n",
       "})(window);</script>"
      ],
      "text/plain": [
       "Row\n",
       "    [0] Column(margin=5, name='ImpactHoursData', width=300)\n",
       "        [0] StaticText(value='<b>ImpactHoursData</b>')\n",
       "        [1] FloatSlider(name='Prediction', step=0.01, value_throttled=0)\n",
       "    [1] ParamMethod(method)"
      ]
     },
     "execution_count": 30,
     "metadata": {
      "application/vnd.holoviews_exec.v0+json": {
       "id": "5053"
      }
     },
     "output_type": "execute_result"
    }
   ],
   "source": [
    "class ImpactHoursData(param.Parameterized):\n",
    "    predicted = pd.read_csv('data/IHPredictions.csv').query('Model==\"Historic\"')\n",
    "    optimistic =  pd.read_csv('data/IHPredictions.csv').query('Model==\"Optimistic\"')\n",
    "    prediction = param.Number(0, bounds=(0,1), step=0.01)\n",
    "    \n",
    "    @param.depends('prediction')\n",
    "    def view(self):\n",
    "        x = 'End Date'\n",
    "        y_curve = 'Total IH'\n",
    "        y_bar = 'Total Hours'\n",
    "        \n",
    "        actual_curve = self.predicted.hvplot(x, y_curve, rot=45, title='Impact Hours Accumulation Curve :)')\n",
    "        actual_bar = self.predicted.hvplot.bar(x, y_bar, label='Actual')\n",
    "        \n",
    "        predicted = self.predicted[self.predicted[\"Actual / Predicted\"] == \"Predicted\"].copy()\n",
    "        predicted[y_curve] = 0.5 * predicted[y_curve] + 0.5 * self.optimistic[self.optimistic[\"Actual / Predicted\"] == \"Predicted\"][y_curve]\n",
    "        \n",
    "        predicted_curve = predicted.hvplot(x, y_curve, rot=45, title='Impact Hours Accumulation Curve :)')\n",
    "        predicted_bar = predicted.hvplot.bar(x, y_bar, label='Predicted')\n",
    "        \n",
    "        optimistic_curve = self.optimistic[self.optimistic[\"Actual / Predicted\"] == \"Predicted\"].hvplot(x, y_curve)\n",
    "        optimistic_bar = self.optimistic[self.optimistic[\"Actual / Predicted\"] == \"Predicted\"].hvplot.bar(x, y_bar, label='Optimistic')\n",
    "        \n",
    "        return pn.Row(actual_curve * actual_bar * predicted_curve * predicted_bar * optimistic_curve * optimistic_bar, predicted.hvplot.table()) \n",
    "\n",
    "i = ImpactHoursData()\n",
    "\n",
    "pn.Row(i, i.view)"
   ]
  },
  {
   "cell_type": "code",
   "execution_count": 31,
   "metadata": {},
   "outputs": [
    {
     "data": {},
     "metadata": {},
     "output_type": "display_data"
    },
    {
     "data": {},
     "metadata": {},
     "output_type": "display_data"
    },
    {
     "data": {
      "application/vnd.holoviews_exec.v0+json": "",
      "text/html": [
       "<div id='5576'>\n",
       "\n",
       "\n",
       "\n",
       "\n",
       "\n",
       "  <div class=\"bk-root\" id=\"b9ade5b5-748b-4ab8-a792-cc0a5d05b4bb\" data-root-id=\"5576\"></div>\n",
       "</div>\n",
       "<script type=\"application/javascript\">(function(root) {\n",
       "  function embed_document(root) {\n",
       "    var docs_json = {\"17b58613-e9f4-421e-a799-a7018a9d191a\":{\"roots\":{\"references\":[{\"attributes\":{},\"id\":\"5644\",\"type\":\"UnionRenderers\"},{\"attributes\":{},\"id\":\"5613\",\"type\":\"DateEditor\"},{\"attributes\":{},\"id\":\"5598\",\"type\":\"StringEditor\"},{\"attributes\":{},\"id\":\"5608\",\"type\":\"StringEditor\"},{\"attributes\":{},\"id\":\"5627\",\"type\":\"StringFormatter\"},{\"attributes\":{},\"id\":\"5602\",\"type\":\"StringFormatter\"},{\"attributes\":{\"editor\":{\"id\":\"5598\"},\"field\":\"Round\",\"formatter\":{\"id\":\"5597\"},\"title\":\"Round\"},\"id\":\"5599\",\"type\":\"TableColumn\"},{\"attributes\":{},\"id\":\"5585\",\"type\":\"NumberEditor\"},{\"attributes\":{\"editor\":{\"id\":\"5580\"},\"field\":\"Telegram_Handle\",\"formatter\":{\"id\":\"5579\"},\"title\":\"Telegram Handle\"},\"id\":\"5581\",\"type\":\"TableColumn\"},{\"attributes\":{\"format\":\"%Y-%m-%d %H:%M:%S\"},\"id\":\"5612\",\"type\":\"DateFormatter\"},{\"attributes\":{},\"id\":\"5632\",\"type\":\"StringFormatter\"},{\"attributes\":{},\"id\":\"5597\",\"type\":\"StringFormatter\"},{\"attributes\":{},\"id\":\"5633\",\"type\":\"StringEditor\"},{\"attributes\":{\"data\":{\"Actual_over_Predicted\":[\"Actual\",\"Actual\",\"Actual\",\"Actual\",\"Actual\",\"Actual\",\"Actual\",\"Predicted\",\"Predicted\",\"Predicted\",\"Predicted\",\"Predicted\",\"Predicted\",\"Predicted\",\"Actual\",\"Actual\",\"Actual\",\"Actual\",\"Actual\",\"Actual\",\"Actual\",\"Predicted\",\"Predicted\",\"Predicted\",\"Predicted\",\"Predicted\",\"Predicted\",\"Predicted\"],\"Change_in_Impact_hours_from_previous_round\":{\"__ndarray__\":\"AiuHFtl+WUAzMzMzM3tcQJqZmZmZmZm/cT0K16NoYEBWDi2ynUdbQLe075GaOiLAy0dS0kNubcAwO9VrhBZzQCiNA3WroVJAKI0DdauhUkAojQN1q6FSQCiNA3WroVJAKI0DdauhUkAojQN1q6FSQAIrhxbZfllAMzMzMzN7XECamZmZmZmZv3E9CtejaGBAVg4tsp1HW0C3tO+RmjoiwMtHUtJDbm3AMA4uHTPcbEAAAAAAAAAAAAAAAAAAAAAAAAAAAAAAAAAAAAAAAAAAAAAAAAAAAAAAAAAAAAAAAAA=\",\"dtype\":\"float64\",\"order\":\"little\",\"shape\":[28]},\"End_Date\":{\"__ndarray__\":\"AAAAhKpQd0IAAIAULFV3QgAAAKWtWXdCAACANS9ed0IAAADGsGJ3QgAAgFYyZ3dCAAAA57Nrd0IAAIB3NXB3QgAAAAi3dHdCAACAmDh5d0IAAAApun13QgAAgLk7gndCAAAASr2Gd0IAAIDaPot3QgAAAISqUHdCAACAFCxVd0IAAAClrVl3QgAAgDUvXndCAAAAxrBid0IAAIBWMmd3QgAAAOeza3dCAACAdzVwd0IAAAAIt3R3QgAAgJg4eXdCAAAAKbp9d0IAAIC5O4J3QgAAAEq9hndCAACA2j6Ld0I=\",\"dtype\":\"float64\",\"order\":\"little\",\"shape\":[28]},\"Min_Goal_commercial_at_10_IH_over_hr_ampersand_15_percent_Tribute\":{\"__ndarray__\":\"ZmZmZiZX5EBmZmZmxjztQMAJhYgYEfNAMzMzM8Om+UCoNc27iwEBQeXyH9K4HAVBTfOO02JNB0Fjf9m9UPoLQaJFtvNAoRBBW0I+KPuSE0HdtYT8VtIWQSegiXBUXxpBOwFNhPM5HkGLbOcbGjEhQWZmZmYmV+RAZmZmZsY87UDACYWIGBHzQDMzMzPDpvlAqDXNu4sBAUHl8h/SuBwFQU3zjtNiTQdB0ZFcfg1fC0GPwvUouHAPQad5x2kxwRFB6UguvwbKE0FI4XoU3NIVQad5x2mx2xdB6Uguv4bkGUE=\",\"dtype\":\"float64\",\"order\":\"little\",\"shape\":[28]},\"Min_Goal_commercial_at_10_IH_over_hr_ampersand_20_percent_Tribute\":{\"__ndarray__\":\"mpmZmbmC3kDNzMzMlO3lQM3MzMykmexAZmZmZhI980CamZmZUYL5QB1aZDsVq/9A7FG4Hgp6AUEZBFaOvPsEQXNokW3h8QhB+n5qvHhcDUHXo3A9wR0RQWWqYFR/xxNB7MA5o3arFkGKsOEpp8kZQZqZmZm5gt5AzczMzJTt5UDNzMzMpJnsQGZmZmYSPfNAmpmZmVGC+UAdWmQ7Fav/QOxRuB4KegFB7FG4HkqHBEHsUbgeipQHQexRuB7KoQpB7FG4HgqvDUH2KFwPJV4QQfYoXA/F5BFB9ihcD2VrE0E=\",\"dtype\":\"float64\",\"order\":\"little\",\"shape\":[28]},\"Min_Goal_commercial_at_15_DAI_over_IH_ampersand_15_percent_Tribute\":{\"__ndarray__\":\"mpmZmbmC7kDNzMzMlO31QM3MzMykmfxAZmZmZhI9A0GamZmZUYIJQVfsLzsVqw9B7FG4Hgp6EUEZBFaOvPsUQXNokW3h8RhBF0hQvHhcHUFmiGM9wR0hQdbFbVR/xyNB7MA5o3arJkEYldQpp8kpQZqZmZm5gu5AzczMzJTt9UDNzMzMpJn8QGZmZmYSPQNBmpmZmVGCCUFX7C87FasPQexRuB4KehFB7FG4HkqHFEHsUbgeipQXQexRuB7KoRpB7FG4HgqvHUH2KFwPJV4gQfYoXA/F5CFB9ihcD2VrI0E=\",\"dtype\":\"float64\",\"order\":\"little\",\"shape\":[28]},\"Round\":[2,3,4,5,6,7,8,9,10,11,12,13,14,15,2,3,4,5,6,7,8,9,10,11,12,13,14,15],\"Total_Hours\":{\"__ndarray__\":\"FK5H4XrsY0DXo3A9ChVxQHE9CtejFHFAKVyPwvVIeUDfT42Xbg2AQGgMi1oIiX9A1XdgcebRcEAMGp9uNfSBQBg0Pt1qSIRAJE7dS6CchkAwaHy61fCIQDbuKCkLRYtAQgjIl0CZjUBpcjEGdu2PQBSuR+F67GNA16NwPQoVcUBxPQrXoxRxQClcj8L1SHlA30+Nl24NgEBoDItaCIl/QNV3YHHm0XBAAAAAAABAf0AAAAAAAEB/QAAAAAAAQH9AAAAAAABAf0AAAAAAAEB/QAAAAAAAQH9AAAAAAABAf0A=\",\"dtype\":\"float64\",\"order\":\"little\",\"shape\":[28]},\"Total_IH\":{\"__ndarray__\":\"vp8aL92Gg0Cq8dJNYhGMQDEIrBzaTZJAO99PjRegmECWQ4tsZ1OgQDjAzHeIRKRATKYKRsVepkDOx7Wh0tuqQNAKDFnt7a9As/D1tYrKskC1M0xtpei1QHkHeNJGUblABaVo5W4EvUCpaRfTDoHAQL6fGi/dhoNAqvHSTWIRjEAxCKwc2k2SQDvfT40XoJhAlkOLbGdToEA4wMx3iESkQEymCkbFXqZATKYKRsVGqkBMpgpGxS6uQCZTBaNiC7FAJlMFo2L/skAmUwWjYvO0QCZTBaNi57ZAJlMFo2LbuEA=\",\"dtype\":\"float64\",\"order\":\"little\",\"shape\":[28]}},\"selected\":{\"id\":\"5596\"},\"selection_policy\":{\"id\":\"5644\"}},\"id\":\"5595\",\"type\":\"ColumnDataSource\"},{\"attributes\":{\"editor\":{\"id\":\"5613\"},\"field\":\"End_Date\",\"formatter\":{\"id\":\"5612\"},\"title\":\"End Date\"},\"id\":\"5614\",\"type\":\"TableColumn\"},{\"attributes\":{},\"id\":\"5617\",\"type\":\"StringFormatter\"},{\"attributes\":{\"editor\":{\"id\":\"5585\"},\"field\":\"Impact_Hours\",\"formatter\":{\"id\":\"5584\"},\"title\":\"Impact Hours\"},\"id\":\"5586\",\"type\":\"TableColumn\"},{\"attributes\":{},\"id\":\"5618\",\"type\":\"StringEditor\"},{\"attributes\":{},\"id\":\"5628\",\"type\":\"StringEditor\"},{\"attributes\":{\"columns\":[{\"id\":\"5599\"},{\"id\":\"5604\"},{\"id\":\"5609\"},{\"id\":\"5614\"},{\"id\":\"5619\"},{\"id\":\"5624\"},{\"id\":\"5629\"},{\"id\":\"5634\"},{\"id\":\"5639\"}],\"height\":300,\"reorderable\":false,\"source\":{\"id\":\"5595\"},\"view\":{\"id\":\"5643\"},\"width\":700},\"id\":\"5642\",\"type\":\"DataTable\"},{\"attributes\":{\"editor\":{\"id\":\"5633\"},\"field\":\"Min_Goal_commercial_at_10_IH_over_hr_ampersand_20_percent_Tribute\",\"formatter\":{\"id\":\"5632\"},\"title\":\"Min Goal @ 10 IH/hr & 20% Tribute\"},\"id\":\"5634\",\"type\":\"TableColumn\"},{\"attributes\":{},\"id\":\"5638\",\"type\":\"StringEditor\"},{\"attributes\":{},\"id\":\"5591\",\"type\":\"UnionRenderers\"},{\"attributes\":{\"editor\":{\"id\":\"5638\"},\"field\":\"Change_in_Impact_hours_from_previous_round\",\"formatter\":{\"id\":\"5637\"},\"title\":\"Change in Impact hours from previous round\"},\"id\":\"5639\",\"type\":\"TableColumn\"},{\"attributes\":{\"editor\":{\"id\":\"5608\"},\"field\":\"Actual_over_Predicted\",\"formatter\":{\"id\":\"5607\"},\"title\":\"Actual / Predicted\"},\"id\":\"5609\",\"type\":\"TableColumn\"},{\"attributes\":{},\"id\":\"5596\",\"type\":\"Selection\"},{\"attributes\":{\"editor\":{\"id\":\"5618\"},\"field\":\"Total_IH\",\"formatter\":{\"id\":\"5617\"},\"title\":\"Total IH\"},\"id\":\"5619\",\"type\":\"TableColumn\"},{\"attributes\":{\"editor\":{\"id\":\"5623\"},\"field\":\"Min_Goal_commercial_at_15_DAI_over_IH_ampersand_15_percent_Tribute\",\"formatter\":{\"id\":\"5622\"},\"title\":\"Min Goal @ 15 DAI/IH & 15% Tribute\"},\"id\":\"5624\",\"type\":\"TableColumn\"},{\"attributes\":{},\"id\":\"5623\",\"type\":\"StringEditor\"},{\"attributes\":{\"editor\":{\"id\":\"5603\"},\"field\":\"Total_Hours\",\"formatter\":{\"id\":\"5602\"},\"title\":\"Total Hours\"},\"id\":\"5604\",\"type\":\"TableColumn\"},{\"attributes\":{\"editor\":{\"id\":\"5628\"},\"field\":\"Min_Goal_commercial_at_10_IH_over_hr_ampersand_15_percent_Tribute\",\"formatter\":{\"id\":\"5627\"},\"title\":\"Min Goal @ 10 IH/hr & 15% Tribute\"},\"id\":\"5629\",\"type\":\"TableColumn\"},{\"attributes\":{},\"id\":\"5579\",\"type\":\"StringFormatter\"},{\"attributes\":{\"client_comm_id\":\"7204bb1ce5354e9396c0f4450ad1902e\",\"comm_id\":\"a682f3aaa32743d1ad1969226d215812\",\"plot_id\":\"5576\"},\"id\":\"5660\",\"type\":\"panel.models.comm_manager.CommManager\"},{\"attributes\":{\"source\":{\"id\":\"5577\"}},\"id\":\"5590\",\"type\":\"CDSView\"},{\"attributes\":{},\"id\":\"5607\",\"type\":\"StringFormatter\"},{\"attributes\":{},\"id\":\"5637\",\"type\":\"StringFormatter\"},{\"attributes\":{},\"id\":\"5580\",\"type\":\"StringEditor\"},{\"attributes\":{\"source\":{\"id\":\"5595\"}},\"id\":\"5643\",\"type\":\"CDSView\"},{\"attributes\":{\"children\":[{\"id\":\"5589\"},{\"id\":\"5642\"}],\"margin\":[0,0,0,0],\"name\":\"Row14255\"},\"id\":\"5576\",\"type\":\"Row\"},{\"attributes\":{},\"id\":\"5578\",\"type\":\"Selection\"},{\"attributes\":{\"format\":\"0,0.0[00000]\"},\"id\":\"5584\",\"type\":\"NumberFormatter\"},{\"attributes\":{\"data\":{\"Impact_Hours\":{\"__ndarray__\":\"kiQIV0AybUAi/IugMe1pQMxAZfx7D2RAciyU8VT4YEBTQrCq3mNgQDnsY6qFn11Ab6qkBLOlW0A3Xk+uyFlYQJf6HpreIlVAVFnzZ2g6U0DmRYGZyt1OQKKKbv/C6UxAqhW/jNaGSUAeUePWiyZGQF7b2y1JIERAUKvHAWRcQ0CkuaFrVyxAQLUPokoH/D9AI4mY8TrKP0Ck/4Iw+cc/QN2pDCWLsz9AZmv5WCwvPkAtr56LbbE9QJjuntGQVT1Axc1nSC5FPEAFQvwNJJ06QNhuUDVZTTpAMZBvCLg0OkAwTa61OYU5QLb/t0iQpzhACZy2kJHMN0By2ODxq4c3QMA6dYKJLzZA8Ep5SlqRNEDpvEL2rEU0QFN2G1BGHTNAvkY3Z+kOM0DNDX7JY6gyQI49WiBqnTJAXabkpEmZMkCulfncQ4oyQJSdI5ek2TFADRgkfVqwMUCFrFVY/HUxQEeH0b2YATBA4hZeD0f5L0Cd45KZwb4vQBBEUBRs7C5A+xnmHQqnLUBYp28+GkstQM2KsPqGEi1A3JbQdq/hLEBMBlerPPwrQNbpeoHd6SpAAMrfvaOgKkABLm3dcnoqQGe0VUlk7ShAcwwriapxKECl2DRjj0woQDXnZNJ04iZAs1FKxjllJkAaMGkInmslQKqSr6EncSRAATcH32YlJEDNQGq1tcQjQJKwkDX6OyNACBofpZN/IkBYULNog+ohQHcn18g5yyFAa/G3qt2CIEBeZAJ+jVYeQBOtK1KgwB1ATtFAFf8xHUBKDC2r42IcQGmH8hcQUBxAIjj2OEiEG0Bcr2BQ46waQABVkCqAAxpAduUJPcgMGUCkV3qiKM4XQFIeIt3rbhdAeO0Uo5XaFkBh8W5BwyYVQLiiRoE7jxRAI3VHbmk/FECLOcYdiG0SQJwkyM78nBFAE317LaEUEUBDI6qAExEQQAS5dUszXA9Am84Roy7EDUCssJDuJIANQHNmeSZNXgpA9Gl4J10mCkDLS+eLCeIJQCx3/J1B/QhAfMSeLGstBkAyGHJYWeQFQKE4fcZQ4QVAvvwbonTLBUCcCUZYZsMFQIS2SwRytQVAGL009DiIBUC3M1MnjjoEQHh8x2XmXgNAn7Q9aODdAkB108vHbKMCQG03cPBNUwJASfvxJ8IfAkD6dCPJ/wYCQM89BW8x9wFAdATT3TO+AUCiiKo3IWMBQM4euUyF7ABAfj1DXi2E+j/1nIJpCcv5P/WcgmkJy/k/aO9/jCgx+T9Mrr2qDsT3P0yuvaoOxPc/XjHKA/Z49z9F7xoVtED2P+CS19tKxfU/n5Qo/4Ol9D/8kFnr+2j0P12W/VphKfQ/APqw8Iux8z+3EGBo4N3yP7cQYGjg3fI//EB4CHE68j/8QHgIcTryP19NA96AMfI/Cj6JrI508T9jyJhYbNXwP2oDgsklF/A/rG0u6a2T7z8OObUw3c3uP5AqFZMBOO4/G4Pr3WHj7T8bg+vdYePtP7EF/wo5+Os/DGcCt8qJ6z8MZwK3yonrP9deCp5pkuo/FSBnaQnL6T+WqMaiXH/pP5EJGB9Wf+k/ewW0eOIu6T8Ls3mpi8XnP7PrLGNUrOc/s+ssY1Ss5z+U5tAX+6HnP7iCWk7xkOc/FVo53/+74z8VWjnf/7vjPxVaOd//u+M/FVo53/+74z8VWjnf/7vjPxVaOd//u+M/FVo53/+74z8VWjnf/7vjPxVaOd//u+M/FVo53/+74z8VWjnf/7vjPxVaOd//u+M/FVo53/+74z8VWjnf/7vjP9BDG68hqeM/2jw9l+qQ4j8hOwPsqTHiP+0LQmOo9t4/CRNfmXIP3T8JE1+Zcg/dP2Ck2FC4/tg/YKTYULj+2D9medBMLTTWP6p7X7obJNM/JIHxSA8e0T9HHRieaZLKP/CMnB+kgr8/8IycH6SCvz/wjJwfpIK/P/CMnB+kgr8/8IycH6SCvz9yluB0lSW9P3KW4HSVJb0/S8lufrW+vD+q1bu8chi3PwjGVRjN3rY/feUcN7nMsj995Rw3ucyyP33lHDe5zLI/02vXRPiLrD+pBuKAS7yoP9wV95L9TqM/2y4j7bhInD/QHpBup76ZP9AekG6nvpk/yn8twgUklD8=\",\"dtype\":\"float64\",\"order\":\"little\",\"shape\":[199]},\"Telegram_Handle\":[\"sembrestels\",\"santigs67\",\"zeptimusq\",\"cranders71\",\"akrtws\",\"ygganderson\",\"solsista\",\"jessicazartler\",\"tonga2020\",\"juankbell\",\"mateodaza\",\"manualzuru\",\"durgadasji\",\"jeffemmett\",\"lkngtn\",\"randomshinichi\",\"vegayp\",\"freedumbs00\",\"liviade\",\"vntrp\",\"griffgreen\",\"paulo_c2d\",\"mzargham\",\"daithic\",\"hbesso31\",\"blairv\",\"loie_giveth\",\"quartagiulio\",\"sponnet2\",\"fabianvb\",\"fiorebotta\",\"rodrigouy\",\"xgabi\",\"danlessa\",\"fvigevani\",\"sgonzt\",\"abchewey\",\"tannra\",\"willjgriff\",\"aminlatifi\",\"burrrata\",\"markop\",\"gracerachmany\",\"jonathanbsci\",\"niranb\",\"benjaminscholtz\",\"tam2140\",\"rosamoc\",\"rubenrussel7\",\"elihanover\",\"dulcedu\",\"tylerdmace\",\"naynaysoo\",\"jonassft\",\"vitormarthendal\",\"fabimol\",\"d8n13l\",\"anjablaj\",\"marinam00\",\"danibelle\",\"simunstrukan\",\"knobsdao\",\"krrisis\",\"vivszaid\",\"auryn_macmillan\",\"felixfalafel\",\"geleeroyale\",\"lbagic\",\"katalenacaban\",\"aaron_soskin\",\"merlinegalite\",\"trentmc0\",\"freddbomba\",\"iviangita\",\"jakublanc\",\"owocki\",\"phil_h\",\"fabiosmendes\",\"stephen_yo\",\"atacas\",\"gfriis\",\"aidanbrodieo\",\"jameszaki\",\"crypt0dawg\",\"krisjones\",\"simondlr\",\"krisparuch\",\"rpp63\",\"willruddick\",\"bierlingm\",\"coachb\",\"wslyvh\",\"glefevre\",\"anthonyoliai\",\"juliet_myea\",\"castall\",\"sbilbao\",\"monstros1ty\",\"thelastjosh\",\"ivanthinking\",\"cpt_grog\",\"tech_digger\",\"staccop2p\",\"gcrewe\",\"alexholman\",\"wertuals\",\"sepu85\",\"yalormewn\",\"metaverde\",\"laurenluz\",\"flakoubay\",\"orishim\",\"xlcrr\",\"chriscyber\",\"papa_raw\",\"barnabemonnot\",\"matslats\",\"proofoftom\",\"shrutiappiah1\",\"jamessimbouras\",\"existenialstoic\",\"luukweber\",\"smokyish\",\"lalogarza\",\"officialnico\",\"petheth\",\"witwiki3\",\"renzod5\",\"upaul\",\"macerer\",\"victorid\",\"vasileios_panagiotidis\",\"katebee\",\"revxzx\",\"brutalfluffy\",\"viken33\",\"paxthemax\",\"davidhq\",\"lescanor\",\"jakubgregus\",\"nikoline_nik\",\"positonic\",\"lescanore\",\"santosthegreat\",\"blockchainberlin\",\"unquale\",\"monsterplayaus\",\"cryptononymouseconomist\",\"jwaup\",\"tokenbrice\",\"misterboyfriend\",\"supernova_labs\",\"fenjamin\",\"benjaminaaron\",\"bradym\",\"dazuck\",\"eduadiez\",\"erikbjare\",\"ferdinandrg\",\"jimbobbins\",\"jasselnorm\",\"jamiepitts\",\"nukemandan\",\"wildpau\",\"pacobacpac\",\"ubipromoter\",\"wipabramson\",\"hanna_nevermind\",\"freedumbs\",\"josevicente1\",\"lanski13\",\"meta_dreamer\",\"quentin_hb\",\"wunluv\",\"edapt\",\"adriamb\",\"codersinblack\",\"edendh\",\"econaut6\",\"scupytrooples\",\"paulsalis\",\"nelsonm\",\"morgangr\",\"ethicraul\",\"gijsspoor\",\"hubway\",\"marveloushelper\",\"hxrts\",\"denissrgn\",\"robinwhitney\",\"pimpmypeon\",\"cryptonian_z\",\"tjayrush\",\"asalemalawi\",\"wolfofcurrency\",\"llll79\",\"burningfiat\",\"immortaz\",\"exiledsurfer\"]},\"selected\":{\"id\":\"5578\"},\"selection_policy\":{\"id\":\"5591\"}},\"id\":\"5577\",\"type\":\"ColumnDataSource\"},{\"attributes\":{\"columns\":[{\"id\":\"5581\"},{\"id\":\"5586\"}],\"height\":300,\"reorderable\":false,\"source\":{\"id\":\"5577\"},\"view\":{\"id\":\"5590\"},\"width\":700},\"id\":\"5589\",\"type\":\"DataTable\"},{\"attributes\":{},\"id\":\"5603\",\"type\":\"StringEditor\"},{\"attributes\":{},\"id\":\"5622\",\"type\":\"StringFormatter\"}],\"root_ids\":[\"5576\",\"5660\"]},\"title\":\"Bokeh Application\",\"version\":\"2.2.3\"}};\n",
       "    var render_items = [{\"docid\":\"17b58613-e9f4-421e-a799-a7018a9d191a\",\"root_ids\":[\"5576\"],\"roots\":{\"5576\":\"b9ade5b5-748b-4ab8-a792-cc0a5d05b4bb\"}}];\n",
       "    root.Bokeh.embed.embed_items_notebook(docs_json, render_items);\n",
       "  }\n",
       "  if (root.Bokeh !== undefined && root.Bokeh.Panel !== undefined) {\n",
       "    embed_document(root);\n",
       "  } else {\n",
       "    var attempts = 0;\n",
       "    var timer = setInterval(function(root) {\n",
       "      if (root.Bokeh !== undefined && root.Bokeh.Panel !== undefined) {\n",
       "        clearInterval(timer);\n",
       "        embed_document(root);\n",
       "      } else if (document.readyState == \"complete\") {\n",
       "        attempts++;\n",
       "        if (attempts > 100) {\n",
       "          clearInterval(timer);\n",
       "          console.log(\"Bokeh: ERROR: Unable to run BokehJS code because BokehJS library is missing\");\n",
       "        }\n",
       "      }\n",
       "    }, 10, root)\n",
       "  }\n",
       "})(window);</script>"
      ],
      "text/plain": [
       "Row\n",
       "    [0] HoloViews(Table)\n",
       "    [1] HoloViews(Table)"
      ]
     },
     "execution_count": 31,
     "metadata": {
      "application/vnd.holoviews_exec.v0+json": {
       "id": "5576"
      }
     },
     "output_type": "execute_result"
    }
   ],
   "source": [
    "import pandas as pd\n",
    "import panel as pn\n",
    "import os\n",
    "import hvplot.pandas\n",
    "APP_PATH = './'\n",
    "\n",
    "sheets = [\n",
    "    \"Total Impact Hours so far\", \n",
    "    \"IH Predictions\", \n",
    "    \"#8 Jan 1\",\n",
    "    \"#7 Dec 18\",\n",
    "    \"#6 Dec 4\",\n",
    "    \"#5 Nov 20\",\n",
    "    \"#4 Nov 6\",\n",
    "    \"#3 Oct 23\",\n",
    "    \"#2 Oct 9\",\n",
    "    \"#1 Sept 24\",\n",
    "    \"#0 Sept 7 (historic)\",\n",
    "] + [f\"#{i} IH Results\" for i in range(9)]\n",
    "sheets = {i:sheet for i, sheet in enumerate(sheets)}\n",
    "\n",
    "def read_excel(sheet_name=\"Total Impact Hours so far\", header=1, index_col=0, usecols=None) -> pd.DataFrame:\n",
    "    data = pd.read_excel(\n",
    "        os.path.join(APP_PATH, \"data\", \"TEC Praise Quantification.xlsx\"),\n",
    "        sheet_name=sheet_name,\n",
    "        engine='openpyxl',\n",
    "        header=header,\n",
    "        index_col=index_col,\n",
    "        usecols=usecols\n",
    "    ).reset_index().dropna(how='any')\n",
    "    return data\n",
    "\n",
    "## Tests\n",
    "impact_hour_data_1 = read_excel()\n",
    "impact_hour_data_2 = read_excel(sheet_name=\"IH Predictions\", header=0, index_col=0, usecols='A:I').drop(index=19)\n",
    "pn.Row(impact_hour_data_1.hvplot.table(), impact_hour_data_2.hvplot.table())"
   ]
  },
  {
   "cell_type": "markdown",
   "metadata": {},
   "source": [
    "### Impact Hours Formula\n",
    "This is really cool."
   ]
  },
  {
   "cell_type": "code",
   "execution_count": 32,
   "metadata": {},
   "outputs": [],
   "source": [
    "import numpy as np\n",
    "class ImpactHoursFormula(param.Parameterized):\n",
    "    \"\"\"\n",
    "    Sem's Formula 🌱 🐝 🍯\n",
    "    This formala was a collaboration of Sem and Griff for the TEC hatch impact hours formula. \n",
    "    https://forum.tecommons.org/t/impact-hour-rewards-deep-dive/90/5\n",
    "    \"\"\"\n",
    "    total_impact_hours = param.Number(round(impact_hour_data_1['Impact Hours'].sum()), constant=True)\n",
    "    max_impact_hour_rate = param.Number(100, bounds=(0,200))\n",
    "    expected_raise_per_impact_hour = param.Number(25, bounds=(0,200))\n",
    "#     total_xdai_raised = param.Range()\n",
    "\n",
    "    def impact_hours_rewards(self):\n",
    "        x = np.linspace(h.min_goal(), h.max_goal())\n",
    "\n",
    "        R = self.max_impact_hour_rate\n",
    "\n",
    "        m = self.expected_raise_per_impact_hour\n",
    "        \n",
    "        H = self.total_impact_hours\n",
    "\n",
    "        y = [R* (x / (x + m*H)) for x in x]\n",
    "\n",
    "        df = pd.DataFrame([x,y]).T\n",
    "        df.columns = ['Total XDAI Raised','Impact Hour Rate']\n",
    "\n",
    "        return df.hvplot(x='Total XDAI Raised')"
   ]
  },
  {
   "cell_type": "code",
   "execution_count": 33,
   "metadata": {},
   "outputs": [
    {
     "data": {},
     "metadata": {},
     "output_type": "display_data"
    },
    {
     "data": {},
     "metadata": {},
     "output_type": "display_data"
    },
    {
     "data": {
      "application/vnd.holoviews_exec.v0+json": "",
      "text/html": [
       "<div id='5681'>\n",
       "\n",
       "\n",
       "\n",
       "\n",
       "\n",
       "  <div class=\"bk-root\" id=\"8e310b2a-f94b-461e-828b-ee45929dc4bc\" data-root-id=\"5681\"></div>\n",
       "</div>\n",
       "<script type=\"application/javascript\">(function(root) {\n",
       "  function embed_document(root) {\n",
       "    var docs_json = {\"2444c243-2a7c-4247-a111-24027bf0cc4a\":{\"roots\":{\"references\":[{\"attributes\":{},\"id\":\"5732\",\"type\":\"BasicTickFormatter\"},{\"attributes\":{},\"id\":\"5713\",\"type\":\"ResetTool\"},{\"attributes\":{\"data\":{\"Impact Hour Rate\":{\"__ndarray__\":\"U+mn9F9szz+QUQtTwi/UP7nHWdi5p9g/B7kWZxce3T9Mrb3tbcngPxuhkQgEA+M/q3mGcc475T+wNc2VzXPnP7nWSOIBq+k/xKaOw2vh6z+HfealCxfuP7uCpfrwJfA/NwC1jvc/8T8XRtLEmVnyPzyzh9LXcvM/bJg57bGL9D8wWiZKKKT1P2SSZh47vPY/yTHtnurT9z9YoYcAN+v4P4Tj3XcgAvo/S7VyOacY+z8xr6N5yy78PwxmqWyNRP0/tYuXRu1Z/j+SD107627/P4EfYr/DQQBA0nI5IuHLAEC7NvXfzVUBQHP/QxKK3wFAT1DC0hVpAkCvq/o6cfICQMGiZWScewNASeVpaJcEBEBGUVxgYo0EQJcCgGX9FQVAiGIGkWieBUBGNw/8oyYGQFazqL+vrgZA54TP9Is2B0Au5W60OL4HQI2nYBe2RQhA0khtNgTNCEBH/ksqI1QJQMPEogsT2wlAsG8G89NhCkDft/r4ZegKQIVK8jXJbgtA8NdOwv30C0BWImG2A3sMQA==\",\"dtype\":\"float64\",\"order\":\"little\",\"shape\":[50]},\"Impact_Hour_Rate\":{\"__ndarray__\":\"U+mn9F9szz+QUQtTwi/UP7nHWdi5p9g/B7kWZxce3T9Mrb3tbcngPxuhkQgEA+M/q3mGcc475T+wNc2VzXPnP7nWSOIBq+k/xKaOw2vh6z+HfealCxfuP7uCpfrwJfA/NwC1jvc/8T8XRtLEmVnyPzyzh9LXcvM/bJg57bGL9D8wWiZKKKT1P2SSZh47vPY/yTHtnurT9z9YoYcAN+v4P4Tj3XcgAvo/S7VyOacY+z8xr6N5yy78PwxmqWyNRP0/tYuXRu1Z/j+SD107627/P4EfYr/DQQBA0nI5IuHLAEC7NvXfzVUBQHP/QxKK3wFAT1DC0hVpAkCvq/o6cfICQMGiZWScewNASeVpaJcEBEBGUVxgYo0EQJcCgGX9FQVAiGIGkWieBUBGNw/8oyYGQFazqL+vrgZA54TP9Is2B0Au5W60OL4HQI2nYBe2RQhA0khtNgTNCEBH/ksqI1QJQMPEogsT2wlAsG8G89NhCkDft/r4ZegKQIVK8jXJbgtA8NdOwv30C0BWImG2A3sMQA==\",\"dtype\":\"float64\",\"order\":\"little\",\"shape\":[50]},\"Total XDAI Raised\":{\"__ndarray__\":\"GuJYF7c/ZkBGR3L5D5tsQDnWxW00e3FAzojS3uCodEBkO99PjdZ3QPrt68A5BHtAkKD4MeYxfkCTqYJRya+AQN4CCYqfRoJAKVyPwnXdg0B0tRX7S3SFQL4OnDMiC4dACmgibPihiEBUwaikzjiKQKAaL92kz4tA6nO1FXtmjUA2zTtOUf2OQEATYcMTSpBA5j+k334VkUCLbOf76eCRQDGZKhhVrJJA1sVtNMB3k0B78rBQK0OUQCEf9GyWDpVAxks3iQHalUBseHqlbKWWQBGlvcHXcJdAt9EA3kI8mEBc/kP6rQeZQAIrhxYZ05lAp1fKMoSemkBNhA1P72mbQPKwUGtaNZxAl92Th8UAnUA9CtejMMydQOI2GsCbl55AiGNd3AZjn0AXSFD8OBegQGrecYrufKBAvHSTGKTioEAPC7WmWUihQGKh1jQPrqFAtTf4wsQTokAIzhlRenmiQFpkO98v36JArfpcbeVEo0AAkX77mqqjQFMnoIlQEKRApb3BFwZ2pED4U+Olu9ukQA==\",\"dtype\":\"float64\",\"order\":\"little\",\"shape\":[50]},\"Total_XDAI_Raised\":{\"__ndarray__\":\"GuJYF7c/ZkBGR3L5D5tsQDnWxW00e3FAzojS3uCodEBkO99PjdZ3QPrt68A5BHtAkKD4MeYxfkCTqYJRya+AQN4CCYqfRoJAKVyPwnXdg0B0tRX7S3SFQL4OnDMiC4dACmgibPihiEBUwaikzjiKQKAaL92kz4tA6nO1FXtmjUA2zTtOUf2OQEATYcMTSpBA5j+k334VkUCLbOf76eCRQDGZKhhVrJJA1sVtNMB3k0B78rBQK0OUQCEf9GyWDpVAxks3iQHalUBseHqlbKWWQBGlvcHXcJdAt9EA3kI8mEBc/kP6rQeZQAIrhxYZ05lAp1fKMoSemkBNhA1P72mbQPKwUGtaNZxAl92Th8UAnUA9CtejMMydQOI2GsCbl55AiGNd3AZjn0AXSFD8OBegQGrecYrufKBAvHSTGKTioEAPC7WmWUihQGKh1jQPrqFAtTf4wsQTokAIzhlRenmiQFpkO98v36JArfpcbeVEo0AAkX77mqqjQFMnoIlQEKRApb3BFwZ2pED4U+Olu9ukQA==\",\"dtype\":\"float64\",\"order\":\"little\",\"shape\":[50]}},\"selected\":{\"id\":\"5723\"},\"selection_policy\":{\"id\":\"5739\"}},\"id\":\"5722\",\"type\":\"ColumnDataSource\"},{\"attributes\":{},\"id\":\"5723\",\"type\":\"Selection\"},{\"attributes\":{\"axis_label\":\"Impact Hour Rate\",\"bounds\":\"auto\",\"formatter\":{\"id\":\"5732\"},\"major_label_orientation\":\"horizontal\",\"ticker\":{\"id\":\"5706\"}},\"id\":\"5705\",\"type\":\"LinearAxis\"},{\"attributes\":{},\"id\":\"5697\",\"type\":\"LinearScale\"},{\"attributes\":{\"disabled\":true,\"format\":null,\"margin\":[5,10,5,10],\"placeholder\":\"0\",\"step\":0.1,\"title\":\"Total impact hours\",\"value\":2893,\"value_throttled\":2893},\"id\":\"5684\",\"type\":\"Spinner\"},{\"attributes\":{\"bottom_units\":\"screen\",\"fill_alpha\":0.5,\"fill_color\":\"lightgrey\",\"left_units\":\"screen\",\"level\":\"overlay\",\"line_alpha\":1.0,\"line_color\":\"black\",\"line_dash\":[4,4],\"line_width\":2,\"right_units\":\"screen\",\"top_units\":\"screen\"},\"id\":\"5714\",\"type\":\"BoxAnnotation\"},{\"attributes\":{\"end\":2669.8665,\"reset_end\":2669.8665,\"reset_start\":177.99110000000002,\"start\":177.99110000000002,\"tags\":[[[\"Total XDAI Raised\",\"Total XDAI Raised\",null]]]},\"id\":\"5689\",\"type\":\"Range1d\"},{\"attributes\":{\"below\":[{\"id\":\"5701\"}],\"center\":[{\"id\":\"5704\"},{\"id\":\"5708\"}],\"left\":[{\"id\":\"5705\"}],\"margin\":[5,5,5,5],\"min_border_bottom\":10,\"min_border_left\":10,\"min_border_right\":10,\"min_border_top\":10,\"plot_height\":300,\"plot_width\":700,\"renderers\":[{\"id\":\"5728\"}],\"sizing_mode\":\"fixed\",\"title\":{\"id\":\"5693\"},\"toolbar\":{\"id\":\"5715\"},\"x_range\":{\"id\":\"5689\"},\"x_scale\":{\"id\":\"5697\"},\"y_range\":{\"id\":\"5690\"},\"y_scale\":{\"id\":\"5699\"}},\"id\":\"5692\",\"subtype\":\"Figure\",\"type\":\"Plot\"},{\"attributes\":{},\"id\":\"5711\",\"type\":\"WheelZoomTool\"},{\"attributes\":{\"margin\":[5,10,5,10],\"name\":\"\",\"text\":\"<b>ImpactHoursFormula</b>\"},\"id\":\"5683\",\"type\":\"Div\"},{\"attributes\":{\"end\":200,\"format\":\"0[.]00\",\"margin\":[5,10,5,10],\"start\":0,\"step\":0.1,\"title\":\"Max impact hour rate\",\"value\":100,\"value_throttled\":100},\"id\":\"5685\",\"type\":\"Slider\"},{\"attributes\":{},\"id\":\"5699\",\"type\":\"LinearScale\"},{\"attributes\":{\"data_source\":{\"id\":\"5722\"},\"glyph\":{\"id\":\"5725\"},\"hover_glyph\":null,\"muted_glyph\":{\"id\":\"5727\"},\"nonselection_glyph\":{\"id\":\"5726\"},\"selection_glyph\":null,\"view\":{\"id\":\"5729\"}},\"id\":\"5728\",\"type\":\"GlyphRenderer\"},{\"attributes\":{\"overlay\":{\"id\":\"5714\"}},\"id\":\"5712\",\"type\":\"BoxZoomTool\"},{\"attributes\":{\"children\":[{\"id\":\"5683\"},{\"id\":\"5684\"},{\"id\":\"5685\"},{\"id\":\"5686\"},{\"id\":\"5687\"}],\"margin\":[5,5,5,5],\"min_width\":300,\"name\":\"ImpactHoursFormula\",\"width\":300},\"id\":\"5682\",\"type\":\"Column\"},{\"attributes\":{},\"id\":\"5730\",\"type\":\"BasicTickFormatter\"},{\"attributes\":{\"active_drag\":\"auto\",\"active_inspect\":\"auto\",\"active_multi\":null,\"active_scroll\":\"auto\",\"active_tap\":\"auto\",\"tools\":[{\"id\":\"5691\"},{\"id\":\"5709\"},{\"id\":\"5710\"},{\"id\":\"5711\"},{\"id\":\"5712\"},{\"id\":\"5713\"}]},\"id\":\"5715\",\"type\":\"Toolbar\"},{\"attributes\":{\"axis\":{\"id\":\"5701\"},\"grid_line_color\":null,\"ticker\":null},\"id\":\"5704\",\"type\":\"Grid\"},{\"attributes\":{},\"id\":\"5739\",\"type\":\"UnionRenderers\"},{\"attributes\":{},\"id\":\"5710\",\"type\":\"PanTool\"},{\"attributes\":{\"callback\":null,\"renderers\":[{\"id\":\"5728\"}],\"tags\":[\"hv_created\"],\"tooltips\":[[\"Total XDAI Raised\",\"@{Total_XDAI_Raised}\"],[\"Impact Hour Rate\",\"@{Impact_Hour_Rate}\"]]},\"id\":\"5691\",\"type\":\"HoverTool\"},{\"attributes\":{\"end\":3.891522758366717,\"reset_end\":3.891522758366717,\"reset_start\":-0.08596224649138465,\"start\":-0.08596224649138465,\"tags\":[[[\"Impact Hour Rate\",\"Impact Hour Rate\",null]]]},\"id\":\"5690\",\"type\":\"Range1d\"},{\"attributes\":{},\"id\":\"5702\",\"type\":\"BasicTicker\"},{\"attributes\":{},\"id\":\"5709\",\"type\":\"SaveTool\"},{\"attributes\":{\"children\":[{\"id\":\"5692\"}],\"margin\":[0,0,0,0],\"name\":\"Row14347\"},\"id\":\"5688\",\"type\":\"Row\"},{\"attributes\":{\"end\":200,\"format\":\"0[.]00\",\"margin\":[5,10,5,10],\"start\":0,\"step\":0.1,\"title\":\"Expected raise per impact hour\",\"value\":25,\"value_throttled\":25},\"id\":\"5686\",\"type\":\"Slider\"},{\"attributes\":{\"axis\":{\"id\":\"5705\"},\"dimension\":1,\"grid_line_color\":null,\"ticker\":null},\"id\":\"5708\",\"type\":\"Grid\"},{\"attributes\":{\"line_alpha\":0.2,\"line_color\":\"#1f77b3\",\"line_width\":2,\"x\":{\"field\":\"Total XDAI Raised\"},\"y\":{\"field\":\"Impact Hour Rate\"}},\"id\":\"5727\",\"type\":\"Line\"},{\"attributes\":{\"client_comm_id\":\"63dc7c4bc5224b81863b95b62745bdac\",\"comm_id\":\"5fa6321e01954de89fa08d08d268571c\",\"plot_id\":\"5681\"},\"id\":\"5774\",\"type\":\"panel.models.comm_manager.CommManager\"},{\"attributes\":{\"margin\":[5,10,5,10],\"title\":\"Total xdai raised\"},\"id\":\"5687\",\"type\":\"TextInput\"},{\"attributes\":{\"axis_label\":\"Total XDAI Raised\",\"bounds\":\"auto\",\"formatter\":{\"id\":\"5730\"},\"major_label_orientation\":\"horizontal\",\"ticker\":{\"id\":\"5702\"}},\"id\":\"5701\",\"type\":\"LinearAxis\"},{\"attributes\":{\"line_color\":\"#1f77b3\",\"line_width\":2,\"x\":{\"field\":\"Total XDAI Raised\"},\"y\":{\"field\":\"Impact Hour Rate\"}},\"id\":\"5725\",\"type\":\"Line\"},{\"attributes\":{\"line_alpha\":0.1,\"line_color\":\"#1f77b3\",\"line_width\":2,\"x\":{\"field\":\"Total XDAI Raised\"},\"y\":{\"field\":\"Impact Hour Rate\"}},\"id\":\"5726\",\"type\":\"Line\"},{\"attributes\":{\"children\":[{\"id\":\"5682\"},{\"id\":\"5688\"}],\"margin\":[0,0,0,0],\"name\":\"Row14427\"},\"id\":\"5681\",\"type\":\"Row\"},{\"attributes\":{},\"id\":\"5706\",\"type\":\"BasicTicker\"},{\"attributes\":{\"text\":\"\",\"text_color\":{\"value\":\"black\"},\"text_font_size\":{\"value\":\"12pt\"}},\"id\":\"5693\",\"type\":\"Title\"},{\"attributes\":{\"source\":{\"id\":\"5722\"}},\"id\":\"5729\",\"type\":\"CDSView\"}],\"root_ids\":[\"5681\",\"5774\"]},\"title\":\"Bokeh Application\",\"version\":\"2.2.3\"}};\n",
       "    var render_items = [{\"docid\":\"2444c243-2a7c-4247-a111-24027bf0cc4a\",\"root_ids\":[\"5681\"],\"roots\":{\"5681\":\"8e310b2a-f94b-461e-828b-ee45929dc4bc\"}}];\n",
       "    root.Bokeh.embed.embed_items_notebook(docs_json, render_items);\n",
       "  }\n",
       "  if (root.Bokeh !== undefined && root.Bokeh.Panel !== undefined) {\n",
       "    embed_document(root);\n",
       "  } else {\n",
       "    var attempts = 0;\n",
       "    var timer = setInterval(function(root) {\n",
       "      if (root.Bokeh !== undefined && root.Bokeh.Panel !== undefined) {\n",
       "        clearInterval(timer);\n",
       "        embed_document(root);\n",
       "      } else if (document.readyState == \"complete\") {\n",
       "        attempts++;\n",
       "        if (attempts > 100) {\n",
       "          clearInterval(timer);\n",
       "          console.log(\"Bokeh: ERROR: Unable to run BokehJS code because BokehJS library is missing\");\n",
       "        }\n",
       "      }\n",
       "    }, 10, root)\n",
       "  }\n",
       "})(window);</script>"
      ],
      "text/plain": [
       "Row\n",
       "    [0] Column(margin=5, name='ImpactHoursFormula', width=300)\n",
       "        [0] StaticText(value='<b>ImpactHoursFormula</b>...)\n",
       "        [1] FloatInput(disabled=True, name='Total impact hours', value=2893, value_throttled=2893)\n",
       "        [2] FloatSlider(end=200, name='Max impact hour rate', value=100, value_throttled=100)\n",
       "        [3] FloatSlider(end=200, name='Expected raise p..., value=25, value_throttled=25)\n",
       "        [4] LiteralInput(name='Total xdai raised')\n",
       "    [1] ParamMethod(method)"
      ]
     },
     "execution_count": 33,
     "metadata": {
      "application/vnd.holoviews_exec.v0+json": {
       "id": "5681"
      }
     },
     "output_type": "execute_result"
    }
   ],
   "source": [
    "impact_hours_formula = ImpactHoursFormula()\n",
    "\n",
    "pn.Row(impact_hours_formula, impact_hours_formula.impact_hours_rewards)"
   ]
  },
  {
   "cell_type": "markdown",
   "metadata": {},
   "source": [
    "# Target/Expected Goals\n",
    "What are peoples goal target raise?"
   ]
  },
  {
   "cell_type": "code",
   "execution_count": 493,
   "metadata": {},
   "outputs": [],
   "source": [
    "class CommunityTargets(param.Parameterized):\n",
    "    pass"
   ]
  },
  {
   "cell_type": "code",
   "execution_count": 39,
   "metadata": {},
   "outputs": [
    {
     "data": {
      "text/plain": [
       "2000.0"
      ]
     },
     "execution_count": 39,
     "metadata": {},
     "output_type": "execute_result"
    }
   ],
   "source": [
    "10000000 / 5000"
   ]
  },
  {
   "cell_type": "code",
   "execution_count": null,
   "metadata": {},
   "outputs": [],
   "source": []
  }
 ],
 "metadata": {
  "kernelspec": {
   "display_name": "Python 3",
   "language": "python",
   "name": "python3"
  },
  "language_info": {
   "codemirror_mode": {
    "name": "ipython",
    "version": 3
   },
   "file_extension": ".py",
   "mimetype": "text/x-python",
   "name": "python",
   "nbconvert_exporter": "python",
   "pygments_lexer": "ipython3",
   "version": "3.8.6"
  }
 },
 "nbformat": 4,
 "nbformat_minor": 5
}
