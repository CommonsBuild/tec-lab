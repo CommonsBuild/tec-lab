{
 "cells": [
  {
   "cell_type": "markdown",
   "metadata": {},
   "source": [
    "# Hatch Template!"
   ]
  },
  {
   "cell_type": "markdown",
   "metadata": {},
   "source": [
    "## Dandelion Voting"
   ]
  },
  {
   "cell_type": "markdown",
   "metadata": {},
   "source": [
    "Note: What are peoples goal target raise?"
   ]
  },
  {
   "cell_type": "markdown",
   "metadata": {},
   "source": [
    "1. Percentage of total tokens that have to vote 'yes' to `something` for it to pass."
   ]
  },
  {
   "cell_type": "code",
   "execution_count": 121,
   "metadata": {},
   "outputs": [],
   "source": [
    "import param\n",
    "import panel as pn\n",
    "import pandas as pd\n",
    "import hvplot.pandas\n",
    "import holoviews as hv\n",
    "import numpy as np\n",
    "pn.extension()"
   ]
  },
  {
   "cell_type": "code",
   "execution_count": 122,
   "metadata": {},
   "outputs": [],
   "source": [
    "class DandelionVoting(param.Parameterized):\n",
    "    total_tokens = param.Number(1e6, constant=True)\n",
    "    support_required = param.Number(0.6, bounds=(0.5,0.9), step=0.01)\n",
    "    acceptance_quorum = param.Number(0.02, bounds=(0.01,1), step=0.01)\n",
    "    vote_duration_days = param.Number(3, bounds=(1,14), step=1)\n",
    "    vote_buffer_hours = param.Number(8, bounds=(1,48), step=1)\n",
    "    rage_quit_hours = param.Number(24, bounds=(1, 48), step=1)\n",
    "    tollgate_fee_xdai = param.Number(3, bounds=(1,100), step=1)\n",
    "    \n",
    "    \n",
    "    def vote_pass_view(self):\n",
    "        x = np.linspace(0, self.total_tokens, num=100)\n",
    "        y = [a*self.support_required for a in x]\n",
    "        df = pd.DataFrame(zip(x,y))\n",
    "        y_fill = [a for a in x]\n",
    "        df_fill = pd.DataFrame(zip(x,y_fill))\n",
    "        y_fill_quorum = [a for i, a in enumerate(x) if i < self.acceptance_quorum*len(x)]\n",
    "        df_fill_q = pd.DataFrame(zip(x,y_fill_quorum))\n",
    "        return df_fill.hvplot.area(x='0', y='1', xformatter='%.0f', yformatter='%.0f', color='green', xlabel='Total Token Votes', ylabel='Yes Token Votes') * \\\n",
    "            df.hvplot.area(x='0', y='1', xformatter='%.0f', yformatter='%.0f', color='red') * \\\n",
    "            df_fill_q.hvplot.area(x='0', y='1', xformatter='%.0f', yformatter='%.0f', color='red')"
   ]
  },
  {
   "cell_type": "code",
   "execution_count": 123,
   "metadata": {},
   "outputs": [],
   "source": [
    "d = DandelionVoting()"
   ]
  },
  {
   "cell_type": "code",
   "execution_count": 124,
   "metadata": {},
   "outputs": [
    {
     "data": {},
     "metadata": {},
     "output_type": "display_data"
    },
    {
     "data": {},
     "metadata": {},
     "output_type": "display_data"
    },
    {
     "data": {
      "application/vnd.holoviews_exec.v0+json": "",
      "text/html": [
       "<div id='145590'>\n",
       "\n",
       "\n",
       "\n",
       "\n",
       "\n",
       "  <div class=\"bk-root\" id=\"2632f136-f32a-4560-b4f0-a397f80e8414\" data-root-id=\"145590\"></div>\n",
       "</div>\n",
       "<script type=\"application/javascript\">(function(root) {\n",
       "  function embed_document(root) {\n",
       "    var docs_json = {\"5490a9c0-a541-4eb1-a3b9-fc288c73b43c\":{\"roots\":{\"references\":[{\"attributes\":{\"margin\":[5,10,5,10],\"name\":\"\",\"text\":\"<b>DandelionVoting</b>\"},\"id\":\"145592\",\"type\":\"Div\"},{\"attributes\":{\"axis_label\":\"Total Token Votes\",\"bounds\":\"auto\",\"formatter\":{\"id\":\"145636\"},\"major_label_orientation\":\"horizontal\",\"ticker\":{\"id\":\"145616\"}},\"id\":\"145615\",\"type\":\"LinearAxis\"},{\"attributes\":{\"data_source\":{\"id\":\"145646\"},\"glyph\":{\"id\":\"145649\"},\"hover_glyph\":null,\"muted_glyph\":{\"id\":\"145651\"},\"nonselection_glyph\":{\"id\":\"145650\"},\"selection_glyph\":null,\"view\":{\"id\":\"145653\"}},\"id\":\"145652\",\"type\":\"GlyphRenderer\"},{\"attributes\":{\"fill_alpha\":0.2,\"fill_color\":\"red\",\"line_alpha\":0.2,\"x\":{\"field\":\"x\"},\"y\":{\"field\":\"y\"}},\"id\":\"145659\",\"type\":\"Patch\"},{\"attributes\":{},\"id\":\"145675\",\"type\":\"UnionRenderers\"},{\"attributes\":{},\"id\":\"145611\",\"type\":\"LinearScale\"},{\"attributes\":{\"end\":100,\"format\":\"0[.]00\",\"margin\":[5,10,5,10],\"start\":1,\"title\":\"Tollgate fee xdai\",\"value\":3,\"value_throttled\":3},\"id\":\"145599\",\"type\":\"Slider\"},{\"attributes\":{\"end\":1000000.0,\"reset_end\":1000000.0,\"reset_start\":0.0,\"tags\":[[[\"0\",\"0\",null]]]},\"id\":\"145601\",\"type\":\"Range1d\"},{\"attributes\":{\"axis_label\":\"Yes Token Votes\",\"bounds\":\"auto\",\"formatter\":{\"id\":\"145637\"},\"major_label_orientation\":\"horizontal\",\"ticker\":{\"id\":\"145620\"}},\"id\":\"145619\",\"type\":\"LinearAxis\"},{\"attributes\":{\"bottom_units\":\"screen\",\"fill_alpha\":0.5,\"fill_color\":\"lightgrey\",\"left_units\":\"screen\",\"level\":\"overlay\",\"line_alpha\":1.0,\"line_color\":\"black\",\"line_dash\":[4,4],\"line_width\":2,\"right_units\":\"screen\",\"top_units\":\"screen\"},\"id\":\"145628\",\"type\":\"BoxAnnotation\"},{\"attributes\":{\"children\":[{\"id\":\"145606\"}],\"margin\":[0,0,0,0],\"name\":\"Row502214\"},\"id\":\"145600\",\"type\":\"Row\"},{\"attributes\":{\"disabled\":true,\"format\":null,\"margin\":[5,10,5,10],\"placeholder\":\"0\",\"step\":0.1,\"title\":\"Total tokens\",\"value\":1000000.0,\"value_throttled\":1000000.0},\"id\":\"145593\",\"type\":\"Spinner\"},{\"attributes\":{\"overlay\":{\"id\":\"145628\"}},\"id\":\"145626\",\"type\":\"BoxZoomTool\"},{\"attributes\":{\"fill_alpha\":1,\"fill_color\":\"green\",\"line_alpha\":1,\"x\":{\"field\":\"x\"},\"y\":{\"field\":\"y\"}},\"id\":\"145650\",\"type\":\"Patch\"},{\"attributes\":{\"text\":\"\",\"text_color\":{\"value\":\"black\"},\"text_font_size\":{\"value\":\"12pt\"}},\"id\":\"145607\",\"type\":\"Title\"},{\"attributes\":{},\"id\":\"145623\",\"type\":\"SaveTool\"},{\"attributes\":{},\"id\":\"145663\",\"type\":\"Selection\"},{\"attributes\":{\"end\":14,\"format\":\"0[.]00\",\"margin\":[5,10,5,10],\"start\":1,\"title\":\"Vote duration days\",\"value\":3,\"value_throttled\":3},\"id\":\"145596\",\"type\":\"Slider\"},{\"attributes\":{\"data\":{\"x\":{\"__ndarray__\":\"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\",\"dtype\":\"float64\",\"order\":\"little\",\"shape\":[200]},\"y\":{\"__ndarray__\":\"AAAAAAAAAAAAAAAAAAAAAAAAAAAAAAAAAAAAAAAAAAAAAAAAAAAAAAAAAAAAAAAAAAAAAAAAAAAAAAAAAAAAAAAAAAAAAAAAAAAAAAAAAAAAAAAAAAAAAAAAAAAAAAAAAAAAAAAAAAAAAAAAAAAAAAAAAAAAAAAAAAAAAAAAAAAAAAAAAAAAAAAAAAAAAAAAAAAAAAAAAAAAAAAAAAAAAAAAAAAAAAAAAAAAAAAAAAAAAAAAAAAAAAAAAAAAAAAAAAAAAAAAAAAAAAAAAAAAAAAAAAAAAAAAAAAAAAAAAAAAAAAAAAAAAAAAAAAAAAAAAAAAAAAAAAAAAAAAAAAAAAAAAAAAAAAAAAAAAAAAAAAAAAAAAAAAAAAAAAAAAAAAAAAAAAAAAAAAAAAAAAAAAAAAAAAAAAAAAAAAAAAAAAAAAAAAAAAAAAAAAAAAAAAAAAAAAAAAAAAAAAAAAAAAAAAAAAAAAAAAAAAAAAAAAAAAAAAAAAAAAAAAAAAAAAAAAAAAAAAAAAAAAAAAAAAAAAAAAAAAAAAAAAAAAAAAAAAAAAAAAAAAAAAAAAAAAAAAAAAAAAAAAAAAAAAAAAAAAAAAAAAAAAAAAAAAAAAAAAAAAAAAAAAAAAAAAAAAAAAAAAAAAAAAAAAAAAAAAAAAAAAAAAAAAAAAAAAAAAAAAAAAAAAAAAAAAAAAAAAAAAAAAAAAAAAAAAAAAAAAAAAAAAAAAAAAAAAAAAAAAAAAAAAAAAAAAAAAAAAAAAAAAAAAAAAAAAAAAAAAAAAAAAAAAAAAAAAAAAAAAAAAAAAAAAAAAAAAAAAAAAAAAAAAAAAAAAAAAAAAAAAAAAAAAAAAAAAAAAAAAAAAAAAAAAAAAAAAAAAAAAAAAAAAAAAAAAAAAAAAAAAAAAAAAAAAAAAAAAAAAAAAAAAAAAAAAAAAAAAAAAAAAAAAAAAAAAAAAAAAAAAAAAAAAAAAAAAAAAAAAAAAAAAAAAAAAAAAAAAAAAAAAAAAAAAAAAAAAAAAAAAAAAAAAAAAAAAAAAAAAAAAAAAAAAAAAAAAAAAAAAAAAAAAAAAAgIQuQVgK1PqVNS5BsBSo9avmLUEIH3zwwZctQV8pUOvXSC1BtzMk5u35LEEPPvjgA6ssQWdIzNsZXCxBv1Kg1i8NLEEXXXTRRb4rQW9nSMxbbytBx3Ecx3EgK0EffPDBh9EqQXeGxLydgipBz5CYt7MzKkEnm2yyyeQpQX6lQK3flSlB1q8UqPVGKUEuuuiiC/goQYbEvJ0hqShB3s6QmDdaKEE22WSTTQsoQY7jOI5jvCdB5u0MiXltJ0E++OCDjx4nQZYCtX6lzyZB7gyJebuAJkFGF1100TEmQZ4hMW/n4iVB9SsFav2TJUFNNtlkE0UlQaVArV8p9iRB/UqBWj+nJEFVVVVVVVgkQa1fKVBrCSRBBWr9SoG6I0FddNFFl2sjQbV+pUCtHCNBDYl5O8PNIkFlk0022X4iQb2dITHvLyJBFaj1KwXhIUFssskmG5IhQcS8nSExQyFBHMdxHEf0IEF00UUXXaUgQczbGRJzViBBJObtDIkHIEH44IMPPnEfQaj1KwVq0x5BWArU+pU1HkEIH3zwwZcdQbczJObt+RxBZ0jM2xlcHEEXXXTRRb4bQcdxHMdxIBtBd4bEvJ2CGkEnm2yyyeQZQdavFKj1RhlBhsS8nSGpGEE22WSTTQsYQebtDIl5bRdBlgK1fqXPFkFGF1100TEWQfUrBWr9kxVBpUCtXyn2FEFVVVVVVVgUQQVq/UqBuhNBtX6lQK0cE0Flk0022X4SQRWo9SsF4RFBxLydITFDEUF00UUXXaUQQSTm7QyJBxBBqPUrBWrTDkEIH3zwwZcNQWdIzNsZXAxBx3Ecx3EgC0Enm2yyyeQJQYbEvJ0hqQhB5u0MiXltB0FGF1100TEGQaVArV8p9gRBBWr9SoG6A0Flk0022X4CQcS8nSExQwFBJObtDIkHAEEIH3zwwZf9QMdxHMdxIPtAhsS8nSGp+EBGF1100TH2QAVq/UqBuvNAxLydITFD8UAIH3zwwZftQIbEvJ0hqehABWr9SoG640AIH3zwwZfdQAVq/UqButNABWr9SoG6w0AAAAAAAAAAAA==\",\"dtype\":\"float64\",\"order\":\"little\",\"shape\":[200]}},\"selected\":{\"id\":\"145647\"},\"selection_policy\":{\"id\":\"145675\"}},\"id\":\"145646\",\"type\":\"ColumnDataSource\"},{\"attributes\":{},\"id\":\"145677\",\"type\":\"UnionRenderers\"},{\"attributes\":{\"end\":1,\"format\":\"0[.]00\",\"margin\":[5,10,5,10],\"start\":0.01,\"step\":0.01,\"title\":\"Acceptance quorum\",\"value\":0.02,\"value_throttled\":0.02},\"id\":\"145595\",\"type\":\"Slider\"},{\"attributes\":{\"axis\":{\"id\":\"145619\"},\"dimension\":1,\"grid_line_color\":null,\"ticker\":null},\"id\":\"145622\",\"type\":\"Grid\"},{\"attributes\":{\"end\":1100000.0,\"reset_end\":1100000.0,\"reset_start\":0.0,\"tags\":[[[\"1\",\"1\",null]]]},\"id\":\"145602\",\"type\":\"Range1d\"},{\"attributes\":{\"data\":{\"x\":{\"__ndarray__\":\"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\",\"dtype\":\"float64\",\"order\":\"little\",\"shape\":[200]},\"y\":{\"__ndarray__\":\"AAAAAAAAAAAAAAAAAAAAAAAAAAAAAAAAAAAAAAAAAAAAAAAAAAAAAAAAAAAAAAAAAAAAAAAAAAAAAAAAAAAAAAAAAAAAAAAAAAAAAAAAAAAAAAAAAAAAAAAAAAAAAAAAAAAAAAAAAAAAAAAAAAAAAAAAAAAAAAAAAAAAAAAAAAAAAAAAAAAAAAAAAAAAAAAAAAAAAAAAAAAAAAAAAAAAAAAAAAAAAAAAAAAAAAAAAAAAAAAAAAAAAAAAAAAAAAAAAAAAAAAAAAAAAAAAAAAAAAAAAAAAAAAAAAAAAAAAAAAAAAAAAAAAAAAAAAAAAAAAAAAAAAAAAAAAAAAAAAAAAAAAAAAAAAAAAAAAAAAAAAAAAAAAAAAAAAAAAAAAAAAAAAAAAAAAAAAAAAAAAAAAAAAAAAAAAAAAAAAAAAAAAAAAAAAAAAAAAAAAAAAAAAAAAAAAAAAAAAAAAAAAAAAAAAAAAAAAAAAAAAAAAAAAAAAAAAAAAAAAAAAAAAAAAAAAAAAAAAAAAAAAAAAAAAAAAAAAAAAAAAAAAAAAAAAAAAAAAAAAAAAAAAAAAAAAAAAAAAAAAAAAAAAAAAAAAAAAAAAAAAAAAAAAAAAAAAAAAAAAAAAAAAAAAAAAAAAAAAAAAAAAAAAAAAAAAAAAAAAAAAAAAAAAAAAAAAAAAAAAAAAAAAAAAAAAAAAAAAAAAAAAAAAAAAAAAAAAAAAAAAAAAAAAAAAAAAAAAAAAAAAAAAAAAAAAAAAAAAAAAAAAAAAAAAAAAAAAAAAAAAAAAAAAAAAAAAAAAAAAAAAAAAAAAAAAAAAAAAAAAAAAAAAAAAAAAAAAAAAAAAAAAAAAAAAAAAAAAAAAAAAAAAAAAAAAAAAAAAAAAAAAAAAAAAAAAAAAAAAAAAAAAAAAAAAAAAAAAAAAAAAAAAAAAAAAAAAAAAAAAAAAAAAAAAAAAAAAAAAAAAAAAAAAAAAAAAAAAAAAAAAAAAAAAAAAAAAAAAAAAAAAAAAAAAAAAAAAAAAAAAAAAAAAAAAAAAAAAAAAAAAAAAAAAAAAAAAAAAAAAAAAAAAAAAAAgE8iQZtssskmICJBNtlkk83wIUHRRRdddMEhQWyyySYbkiFBBx988MFiIUGiiy66aDMhQT744IMPBCFB2WSTTbbUIEF00UUXXaUgQQ8++OADdiBBqqqqqqpGIEFGF110URcgQcIHH3zwzx9B+OCDDz5xH0EuuuiiixIfQWSTTTbZsx5BmmyyySZVHkHQRRdddPYdQQcffPDBlx1BPfjggw85HUF00UUXXdocQaqqqqqqexxB4YMPPvgcHEEXXXTRRb4bQU022WSTXxtBhA8++OAAG0G66KKLLqIaQfHBBx98QxpBJptsssnkGUFcdNFFF4YZQZNNNtlkJxlBySabbLLIGEH//////2kYQTbZZJNNCxhBbLLJJpusF0Gjiy666E0XQdlkk0027xZBDz744IOQFkFGF1100TEWQXzwwQcf0xVBs8kmm2x0FUHooosuuhUVQR588MEHtxRBVVVVVVVYFEGLLrroovkTQcEHH3zwmhNB+OCDDz48E0Euuuiii90SQWWTTTbZfhJBm2yyySYgEkHRRRdddMERQQcffPDBYhFBPvjggw8EEUF00UUXXaUQQaqqqqqqRhBBwgcffPDPD0EuuuiiixIPQZpssskmVQ5BBx988MGXDUF00UUXXdoMQeGDDz74HAxBTTbZZJNfC0G66KKLLqIKQSabbLLJ5AlBk0022WQnCUH//////2kIQWyyySabrAdB2WSTTTbvBkFGF1100TEGQbPJJptsdAVBHnzwwQe3BEGLLrroovkDQfjggw8+PANBZZNNNtl+AkHRRRdddMEBQT744IMPBAFBqqqqqqpGAEEuuuiiixL/QAcffPDBl/1A4YMPPvgc/EC66KKLLqL6QJNNNtlkJ/lAbLLJJpus90BGF1100TH2QB588MEHt/RA+OCDDz4880DRRRdddMHxQKqqqqqqRvBABx988MGX7UC66KKLLqLqQGyyySabrOdAHnzwwQe35EDRRRdddMHhQAcffPDBl91AbLLJJpus10DRRRdddMHRQGyyySabrMdAbLLJJpust0AAAAAAAAAAAA==\",\"dtype\":\"float64\",\"order\":\"little\",\"shape\":[200]}},\"selected\":{\"id\":\"145655\"},\"selection_policy\":{\"id\":\"145677\"}},\"id\":\"145654\",\"type\":\"ColumnDataSource\"},{\"attributes\":{},\"id\":\"145679\",\"type\":\"UnionRenderers\"},{\"attributes\":{\"end\":48,\"format\":\"0[.]00\",\"margin\":[5,10,5,10],\"start\":1,\"title\":\"Vote buffer hours\",\"value\":8,\"value_throttled\":8},\"id\":\"145597\",\"type\":\"Slider\"},{\"attributes\":{\"end\":48,\"format\":\"0[.]00\",\"margin\":[5,10,5,10],\"start\":1,\"title\":\"Rage quit hours\",\"value\":24,\"value_throttled\":24},\"id\":\"145598\",\"type\":\"Slider\"},{\"attributes\":{},\"id\":\"145613\",\"type\":\"LinearScale\"},{\"attributes\":{},\"id\":\"145655\",\"type\":\"Selection\"},{\"attributes\":{\"data_source\":{\"id\":\"145662\"},\"glyph\":{\"id\":\"145665\"},\"hover_glyph\":null,\"muted_glyph\":{\"id\":\"145667\"},\"nonselection_glyph\":{\"id\":\"145666\"},\"selection_glyph\":null,\"view\":{\"id\":\"145669\"}},\"id\":\"145668\",\"type\":\"GlyphRenderer\"},{\"attributes\":{\"fill_alpha\":0.2,\"fill_color\":\"red\",\"line_alpha\":0.2,\"x\":{\"field\":\"x\"},\"y\":{\"field\":\"y\"}},\"id\":\"145667\",\"type\":\"Patch\"},{\"attributes\":{},\"id\":\"145625\",\"type\":\"WheelZoomTool\"},{\"attributes\":{\"fill_alpha\":1,\"fill_color\":\"red\",\"line_alpha\":1,\"x\":{\"field\":\"x\"},\"y\":{\"field\":\"y\"}},\"id\":\"145666\",\"type\":\"Patch\"},{\"attributes\":{\"format\":\"%.0f\"},\"id\":\"145637\",\"type\":\"PrintfTickFormatter\"},{\"attributes\":{\"format\":\"%.0f\"},\"id\":\"145636\",\"type\":\"PrintfTickFormatter\"},{\"attributes\":{},\"id\":\"145616\",\"type\":\"BasicTicker\"},{\"attributes\":{\"fill_alpha\":1,\"fill_color\":\"red\",\"line_alpha\":1,\"x\":{\"field\":\"x\"},\"y\":{\"field\":\"y\"}},\"id\":\"145658\",\"type\":\"Patch\"},{\"attributes\":{},\"id\":\"145627\",\"type\":\"ResetTool\"},{\"attributes\":{\"source\":{\"id\":\"145662\"}},\"id\":\"145669\",\"type\":\"CDSView\"},{\"attributes\":{\"axis\":{\"id\":\"145615\"},\"grid_line_color\":null,\"ticker\":null},\"id\":\"145618\",\"type\":\"Grid\"},{\"attributes\":{\"data\":{\"x\":{\"__ndarray__\":\"AAAAAAAAAAAFav1KgbrDQAVq/UqBusNAAAAAAAAAAAA=\",\"dtype\":\"float64\",\"order\":\"little\",\"shape\":[4]},\"y\":{\"__ndarray__\":\"AAAAAAAAAAAAAAAAAAAAAAVq/UqBusNAAAAAAAAAAAA=\",\"dtype\":\"float64\",\"order\":\"little\",\"shape\":[4]}},\"selected\":{\"id\":\"145663\"},\"selection_policy\":{\"id\":\"145679\"}},\"id\":\"145662\",\"type\":\"ColumnDataSource\"},{\"attributes\":{\"children\":[{\"id\":\"145591\"},{\"id\":\"145600\"}],\"margin\":[0,0,0,0],\"name\":\"Row502443\"},\"id\":\"145590\",\"type\":\"Row\"},{\"attributes\":{\"fill_alpha\":0.2,\"fill_color\":\"green\",\"line_alpha\":0.2,\"x\":{\"field\":\"x\"},\"y\":{\"field\":\"y\"}},\"id\":\"145651\",\"type\":\"Patch\"},{\"attributes\":{\"fill_color\":\"red\",\"x\":{\"field\":\"x\"},\"y\":{\"field\":\"y\"}},\"id\":\"145657\",\"type\":\"Patch\"},{\"attributes\":{\"below\":[{\"id\":\"145615\"}],\"center\":[{\"id\":\"145618\"},{\"id\":\"145622\"}],\"left\":[{\"id\":\"145619\"}],\"margin\":[5,5,5,5],\"min_border_bottom\":10,\"min_border_left\":10,\"min_border_right\":10,\"min_border_top\":10,\"plot_height\":300,\"plot_width\":700,\"renderers\":[{\"id\":\"145652\"},{\"id\":\"145660\"},{\"id\":\"145668\"}],\"sizing_mode\":\"fixed\",\"title\":{\"id\":\"145607\"},\"toolbar\":{\"id\":\"145629\"},\"x_range\":{\"id\":\"145601\"},\"x_scale\":{\"id\":\"145611\"},\"y_range\":{\"id\":\"145602\"},\"y_scale\":{\"id\":\"145613\"}},\"id\":\"145606\",\"subtype\":\"Figure\",\"type\":\"Plot\"},{\"attributes\":{\"source\":{\"id\":\"145646\"}},\"id\":\"145653\",\"type\":\"CDSView\"},{\"attributes\":{\"fill_color\":\"green\",\"x\":{\"field\":\"x\"},\"y\":{\"field\":\"y\"}},\"id\":\"145649\",\"type\":\"Patch\"},{\"attributes\":{\"callback\":null,\"renderers\":[{\"id\":\"145652\"},{\"id\":\"145660\"},{\"id\":\"145668\"}],\"tags\":[\"hv_created\"],\"tooltips\":[[\"0\",\"@{A_0}\"],[\"1\",\"@{A_1}\"]]},\"id\":\"145603\",\"type\":\"HoverTool\"},{\"attributes\":{},\"id\":\"145624\",\"type\":\"PanTool\"},{\"attributes\":{},\"id\":\"145647\",\"type\":\"Selection\"},{\"attributes\":{\"fill_color\":\"red\",\"x\":{\"field\":\"x\"},\"y\":{\"field\":\"y\"}},\"id\":\"145665\",\"type\":\"Patch\"},{\"attributes\":{\"client_comm_id\":\"dffe2b82a21242a0a75d4804622c5369\",\"comm_id\":\"691ce1e50a1e41708d4d865d15669a46\",\"plot_id\":\"145590\"},\"id\":\"145790\",\"type\":\"panel.models.comm_manager.CommManager\"},{\"attributes\":{\"data_source\":{\"id\":\"145654\"},\"glyph\":{\"id\":\"145657\"},\"hover_glyph\":null,\"muted_glyph\":{\"id\":\"145659\"},\"nonselection_glyph\":{\"id\":\"145658\"},\"selection_glyph\":null,\"view\":{\"id\":\"145661\"}},\"id\":\"145660\",\"type\":\"GlyphRenderer\"},{\"attributes\":{\"active_drag\":\"auto\",\"active_inspect\":\"auto\",\"active_multi\":null,\"active_scroll\":\"auto\",\"active_tap\":\"auto\",\"tools\":[{\"id\":\"145603\"},{\"id\":\"145623\"},{\"id\":\"145624\"},{\"id\":\"145625\"},{\"id\":\"145626\"},{\"id\":\"145627\"}]},\"id\":\"145629\",\"type\":\"Toolbar\"},{\"attributes\":{\"end\":0.9,\"format\":\"0[.]00\",\"margin\":[5,10,5,10],\"start\":0.5,\"step\":0.01,\"title\":\"Support required\",\"value\":0.6,\"value_throttled\":0.6},\"id\":\"145594\",\"type\":\"Slider\"},{\"attributes\":{\"children\":[{\"id\":\"145592\"},{\"id\":\"145593\"},{\"id\":\"145594\"},{\"id\":\"145595\"},{\"id\":\"145596\"},{\"id\":\"145597\"},{\"id\":\"145598\"},{\"id\":\"145599\"}],\"margin\":[5,5,5,5],\"min_width\":300,\"name\":\"DandelionVoting\",\"width\":300},\"id\":\"145591\",\"type\":\"Column\"},{\"attributes\":{\"source\":{\"id\":\"145654\"}},\"id\":\"145661\",\"type\":\"CDSView\"},{\"attributes\":{},\"id\":\"145620\",\"type\":\"BasicTicker\"}],\"root_ids\":[\"145590\",\"145790\"]},\"title\":\"Bokeh Application\",\"version\":\"2.2.3\"}};\n",
       "    var render_items = [{\"docid\":\"5490a9c0-a541-4eb1-a3b9-fc288c73b43c\",\"root_ids\":[\"145590\"],\"roots\":{\"145590\":\"2632f136-f32a-4560-b4f0-a397f80e8414\"}}];\n",
       "    root.Bokeh.embed.embed_items_notebook(docs_json, render_items);\n",
       "  }\n",
       "  if (root.Bokeh !== undefined && root.Bokeh.Panel !== undefined) {\n",
       "    embed_document(root);\n",
       "  } else {\n",
       "    var attempts = 0;\n",
       "    var timer = setInterval(function(root) {\n",
       "      if (root.Bokeh !== undefined && root.Bokeh.Panel !== undefined) {\n",
       "        clearInterval(timer);\n",
       "        embed_document(root);\n",
       "      } else if (document.readyState == \"complete\") {\n",
       "        attempts++;\n",
       "        if (attempts > 100) {\n",
       "          clearInterval(timer);\n",
       "          console.log(\"Bokeh: ERROR: Unable to run BokehJS code because BokehJS library is missing\");\n",
       "        }\n",
       "      }\n",
       "    }, 10, root)\n",
       "  }\n",
       "})(window);</script>"
      ],
      "text/plain": [
       "Row\n",
       "    [0] Column(margin=5, name='DandelionVoting', width=300)\n",
       "        [0] StaticText(value='<b>DandelionVoting</b>')\n",
       "        [1] FloatInput(disabled=True, name='Total tokens', value=1000000.0, value_throttled=1000000.0)\n",
       "        [2] FloatSlider(end=0.9, name='Support required', start=0.5, step=0.01, value=0.6, value_throttled=0.6)\n",
       "        [3] FloatSlider(name='Acceptance quorum', start=0.01, step=0.01, value=0.02, value_throttled=0.02)\n",
       "        [4] FloatSlider(end=14, name='Vote duration days', start=1, step=1, value=3, value_throttled=3)\n",
       "        [5] FloatSlider(end=48, name='Vote buffer hours', start=1, step=1, value=8, value_throttled=8)\n",
       "        [6] FloatSlider(end=48, name='Rage quit hours', start=1, step=1, value=24, value_throttled=24)\n",
       "        [7] FloatSlider(end=100, name='Tollgate fee xdai', start=1, step=1, value=3, value_throttled=3)\n",
       "    [1] ParamMethod(method)"
      ]
     },
     "execution_count": 124,
     "metadata": {
      "application/vnd.holoviews_exec.v0+json": {
       "id": "145590"
      }
     },
     "output_type": "execute_result"
    }
   ],
   "source": [
    "pn.Row(d, d.vote_pass_view)"
   ]
  },
  {
   "cell_type": "code",
   "execution_count": null,
   "metadata": {},
   "outputs": [],
   "source": []
  },
  {
   "cell_type": "code",
   "execution_count": 113,
   "metadata": {},
   "outputs": [
    {
     "data": {},
     "metadata": {},
     "output_type": "display_data"
    },
    {
     "data": {
      "application/vnd.holoviews_exec.v0+json": "",
      "text/html": [
       "<div id='110978'>\n",
       "\n",
       "\n",
       "\n",
       "\n",
       "\n",
       "  <div class=\"bk-root\" id=\"c3c4f326-ed77-449d-a254-514f2078006a\" data-root-id=\"110978\"></div>\n",
       "</div>\n",
       "<script type=\"application/javascript\">(function(root) {\n",
       "  function embed_document(root) {\n",
       "    var docs_json = {\"b2b98a3b-40f6-4f81-82be-af2dea4feb9b\":{\"roots\":{\"references\":[{\"attributes\":{\"fill_alpha\":0.2,\"fill_color\":\"red\",\"line_alpha\":0.2,\"x\":{\"field\":\"x\"},\"y\":{\"field\":\"y\"}},\"id\":\"111038\",\"type\":\"Patch\"},{\"attributes\":{},\"id\":\"111026\",\"type\":\"Selection\"},{\"attributes\":{\"fill_color\":\"red\",\"x\":{\"field\":\"x\"},\"y\":{\"field\":\"y\"}},\"id\":\"111036\",\"type\":\"Patch\"},{\"attributes\":{\"source\":{\"id\":\"111041\"}},\"id\":\"111048\",\"type\":\"CDSView\"},{\"attributes\":{\"bottom_units\":\"screen\",\"fill_alpha\":0.5,\"fill_color\":\"lightgrey\",\"left_units\":\"screen\",\"level\":\"overlay\",\"line_alpha\":1.0,\"line_color\":\"black\",\"line_dash\":[4,4],\"line_width\":2,\"right_units\":\"screen\",\"top_units\":\"screen\"},\"id\":\"111007\",\"type\":\"BoxAnnotation\"},{\"attributes\":{\"axis\":{\"id\":\"110998\"},\"dimension\":1,\"grid_line_color\":null,\"ticker\":null},\"id\":\"111001\",\"type\":\"Grid\"},{\"attributes\":{\"fill_alpha\":1,\"fill_color\":\"green\",\"line_alpha\":1,\"x\":{\"field\":\"x\"},\"y\":{\"field\":\"y\"}},\"id\":\"111029\",\"type\":\"Patch\"},{\"attributes\":{\"axis_label\":\"0\",\"bounds\":\"auto\",\"formatter\":{\"id\":\"111015\"},\"major_label_orientation\":\"horizontal\",\"ticker\":{\"id\":\"110995\"}},\"id\":\"110994\",\"type\":\"LinearAxis\"},{\"attributes\":{\"fill_alpha\":1,\"fill_color\":\"red\",\"line_alpha\":1,\"x\":{\"field\":\"x\"},\"y\":{\"field\":\"y\"}},\"id\":\"111045\",\"type\":\"Patch\"},{\"attributes\":{\"fill_color\":\"red\",\"x\":{\"field\":\"x\"},\"y\":{\"field\":\"y\"}},\"id\":\"111044\",\"type\":\"Patch\"},{\"attributes\":{\"source\":{\"id\":\"111025\"}},\"id\":\"111032\",\"type\":\"CDSView\"},{\"attributes\":{},\"id\":\"111058\",\"type\":\"UnionRenderers\"},{\"attributes\":{\"fill_color\":\"green\",\"x\":{\"field\":\"x\"},\"y\":{\"field\":\"y\"}},\"id\":\"111028\",\"type\":\"Patch\"},{\"attributes\":{\"fill_alpha\":0.2,\"fill_color\":\"red\",\"line_alpha\":0.2,\"x\":{\"field\":\"x\"},\"y\":{\"field\":\"y\"}},\"id\":\"111046\",\"type\":\"Patch\"},{\"attributes\":{\"active_drag\":\"auto\",\"active_inspect\":\"auto\",\"active_multi\":null,\"active_scroll\":\"auto\",\"active_tap\":\"auto\",\"tools\":[{\"id\":\"110982\"},{\"id\":\"111002\"},{\"id\":\"111003\"},{\"id\":\"111004\"},{\"id\":\"111005\"},{\"id\":\"111006\"}]},\"id\":\"111008\",\"type\":\"Toolbar\"},{\"attributes\":{},\"id\":\"111003\",\"type\":\"PanTool\"},{\"attributes\":{},\"id\":\"111056\",\"type\":\"UnionRenderers\"},{\"attributes\":{\"axis_label\":\"1\",\"bounds\":\"auto\",\"formatter\":{\"id\":\"111016\"},\"major_label_orientation\":\"horizontal\",\"ticker\":{\"id\":\"110999\"}},\"id\":\"110998\",\"type\":\"LinearAxis\"},{\"attributes\":{\"data\":{\"x\":{\"__ndarray__\":\"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\",\"dtype\":\"float64\",\"order\":\"little\",\"shape\":[200]},\"y\":{\"__ndarray__\":\"AAAAAAAAAAAAAAAAAAAAAAAAAAAAAAAAAAAAAAAAAAAAAAAAAAAAAAAAAAAAAAAAAAAAAAAAAAAAAAAAAAAAAAAAAAAAAAAAAAAAAAAAAAAAAAAAAAAAAAAAAAAAAAAAAAAAAAAAAAAAAAAAAAAAAAAAAAAAAAAAAAAAAAAAAAAAAAAAAAAAAAAAAAAAAAAAAAAAAAAAAAAAAAAAAAAAAAAAAAAAAAAAAAAAAAAAAAAAAAAAAAAAAAAAAAAAAAAAAAAAAAAAAAAAAAAAAAAAAAAAAAAAAAAAAAAAAAAAAAAAAAAAAAAAAAAAAAAAAAAAAAAAAAAAAAAAAAAAAAAAAAAAAAAAAAAAAAAAAAAAAAAAAAAAAAAAAAAAAAAAAAAAAAAAAAAAAAAAAAAAAAAAAAAAAAAAAAAAAAAAAAAAAAAAAAAAAAAAAAAAAAAAAAAAAAAAAAAAAAAAAAAAAAAAAAAAAAAAAAAAAAAAAAAAAAAAAAAAAAAAAAAAAAAAAAAAAAAAAAAAAAAAAAAAAAAAAAAAAAAAAAAAAAAAAAAAAAAAAAAAAAAAAAAAAAAAAAAAAAAAAAAAAAAAAAAAAAAAAAAAAAAAAAAAAAAAAAAAAAAAAAAAAAAAAAAAAAAAAAAAAAAAAAAAAAAAAAAAAAAAAAAAAAAAAAAAAAAAAAAAAAAAAAAAAAAAAAAAAAAAAAAAAAAAAAAAAAAAAAAAAAAAAAAAAAAAAAAAAAAAAAAAAAAAAAAAAAAAAAAAAAAAAAAAAAAAAAAAAAAAAAAAAAAAAAAAAAAAAAAAAAAAAAAAAAAAAAAAAAAAAAAAAAAAAAAAAAAAAAAAAAAAAAAAAAAAAAAAAAAAAAAAAAAAAAAAAAAAAAAAAAAAAAAAAAAAAAAAAAAAAAAAAAAAAAAAAAAAAAAAAAAAAAAAAAAAAAAAAAAAAAAAAAAAAAAAAAAAAAAAAAAAAAAAAAAAAAAAAAAAAAAAAAAAAAAAAAAAAAAAAAAAAAAAAAAAAAAAAAAAAAAAAAAAAAAAAAAAAAAAAAAAAAAAAAAAAAAAAAAAAAAAAAAAAAAAgE8iQZtssskmICJBNtlkk83wIUHRRRdddMEhQWyyySYbkiFBBx988MFiIUGiiy66aDMhQT744IMPBCFB2WSTTbbUIEF00UUXXaUgQQ8++OADdiBBqqqqqqpGIEFGF110URcgQcIHH3zwzx9B+OCDDz5xH0EuuuiiixIfQWSTTTbZsx5BmmyyySZVHkHQRRdddPYdQQcffPDBlx1BPfjggw85HUF00UUXXdocQaqqqqqqexxB4YMPPvgcHEEXXXTRRb4bQU022WSTXxtBhA8++OAAG0G66KKLLqIaQfHBBx98QxpBJptsssnkGUFcdNFFF4YZQZNNNtlkJxlBySabbLLIGEH//////2kYQTbZZJNNCxhBbLLJJpusF0Gjiy666E0XQdlkk0027xZBDz744IOQFkFGF1100TEWQXzwwQcf0xVBs8kmm2x0FUHooosuuhUVQR588MEHtxRBVVVVVVVYFEGLLrroovkTQcEHH3zwmhNB+OCDDz48E0Euuuiii90SQWWTTTbZfhJBm2yyySYgEkHRRRdddMERQQcffPDBYhFBPvjggw8EEUF00UUXXaUQQaqqqqqqRhBBwgcffPDPD0EuuuiiixIPQZpssskmVQ5BBx988MGXDUF00UUXXdoMQeGDDz74HAxBTTbZZJNfC0G66KKLLqIKQSabbLLJ5AlBk0022WQnCUH//////2kIQWyyySabrAdB2WSTTTbvBkFGF1100TEGQbPJJptsdAVBHnzwwQe3BEGLLrroovkDQfjggw8+PANBZZNNNtl+AkHRRRdddMEBQT744IMPBAFBqqqqqqpGAEEuuuiiixL/QAcffPDBl/1A4YMPPvgc/EC66KKLLqL6QJNNNtlkJ/lAbLLJJpus90BGF1100TH2QB588MEHt/RA+OCDDz4880DRRRdddMHxQKqqqqqqRvBABx988MGX7UC66KKLLqLqQGyyySabrOdAHnzwwQe35EDRRRdddMHhQAcffPDBl91AbLLJJpus10DRRRdddMHRQGyyySabrMdAbLLJJpust0AAAAAAAAAAAA==\",\"dtype\":\"float64\",\"order\":\"little\",\"shape\":[200]}},\"selected\":{\"id\":\"111034\"},\"selection_policy\":{\"id\":\"111056\"}},\"id\":\"111033\",\"type\":\"ColumnDataSource\"},{\"attributes\":{\"fill_alpha\":1,\"fill_color\":\"red\",\"line_alpha\":1,\"x\":{\"field\":\"x\"},\"y\":{\"field\":\"y\"}},\"id\":\"111037\",\"type\":\"Patch\"},{\"attributes\":{\"below\":[{\"id\":\"110994\"}],\"center\":[{\"id\":\"110997\"},{\"id\":\"111001\"}],\"left\":[{\"id\":\"110998\"}],\"margin\":[5,5,5,5],\"min_border_bottom\":10,\"min_border_left\":10,\"min_border_right\":10,\"min_border_top\":10,\"plot_height\":300,\"plot_width\":700,\"renderers\":[{\"id\":\"111031\"},{\"id\":\"111039\"},{\"id\":\"111047\"}],\"sizing_mode\":\"fixed\",\"title\":{\"id\":\"110986\"},\"toolbar\":{\"id\":\"111008\"},\"x_range\":{\"id\":\"110980\"},\"x_scale\":{\"id\":\"110990\"},\"y_range\":{\"id\":\"110981\"},\"y_scale\":{\"id\":\"110992\"}},\"id\":\"110985\",\"subtype\":\"Figure\",\"type\":\"Plot\"},{\"attributes\":{\"format\":\"%.0f\"},\"id\":\"111015\",\"type\":\"PrintfTickFormatter\"},{\"attributes\":{\"text\":\"\",\"text_color\":{\"value\":\"black\"},\"text_font_size\":{\"value\":\"12pt\"}},\"id\":\"110986\",\"type\":\"Title\"},{\"attributes\":{},\"id\":\"110990\",\"type\":\"LinearScale\"},{\"attributes\":{\"overlay\":{\"id\":\"111007\"}},\"id\":\"111005\",\"type\":\"BoxZoomTool\"},{\"attributes\":{\"data_source\":{\"id\":\"111041\"},\"glyph\":{\"id\":\"111044\"},\"hover_glyph\":null,\"muted_glyph\":{\"id\":\"111046\"},\"nonselection_glyph\":{\"id\":\"111045\"},\"selection_glyph\":null,\"view\":{\"id\":\"111048\"}},\"id\":\"111047\",\"type\":\"GlyphRenderer\"},{\"attributes\":{\"source\":{\"id\":\"111033\"}},\"id\":\"111040\",\"type\":\"CDSView\"},{\"attributes\":{\"end\":1100000.0,\"reset_end\":1100000.0,\"reset_start\":0.0,\"tags\":[[[\"1\",\"1\",null]]]},\"id\":\"110981\",\"type\":\"Range1d\"},{\"attributes\":{\"format\":\"%.0f\"},\"id\":\"111016\",\"type\":\"PrintfTickFormatter\"},{\"attributes\":{},\"id\":\"111034\",\"type\":\"Selection\"},{\"attributes\":{},\"id\":\"111004\",\"type\":\"WheelZoomTool\"},{\"attributes\":{},\"id\":\"111002\",\"type\":\"SaveTool\"},{\"attributes\":{},\"id\":\"111042\",\"type\":\"Selection\"},{\"attributes\":{},\"id\":\"110992\",\"type\":\"LinearScale\"},{\"attributes\":{\"margin\":[5,5,5,5],\"name\":\"HSpacer385386\",\"sizing_mode\":\"stretch_width\"},\"id\":\"110979\",\"type\":\"Spacer\"},{\"attributes\":{},\"id\":\"110999\",\"type\":\"BasicTicker\"},{\"attributes\":{\"axis\":{\"id\":\"110994\"},\"grid_line_color\":null,\"ticker\":null},\"id\":\"110997\",\"type\":\"Grid\"},{\"attributes\":{\"data\":{\"x\":{\"__ndarray__\":\"AAAAAAAAAAAFav1KgbrDQAVq/UqButNACB988MGX3UAFav1KgbrjQIbEvJ0hqehACB988MGX7UDEvJ0hMUPxQAVq/UqBuvNARhdddNEx9kCGxLydIan4QMdxHMdxIPtACB988MGX/UAk5u0MiQcAQcS8nSExQwFBZZNNNtl+AkEFav1KgboDQaVArV8p9gRBRhdddNExBkHm7QyJeW0HQYbEvJ0hqQhBJ5tsssnkCUHHcRzHcSALQWdIzNsZXAxBCB988MGXDUGo9SsFatMOQSTm7QyJBxBBdNFFF12lEEHEvJ0hMUMRQRWo9SsF4RFBZZNNNtl+EkG1fqVArRwTQQVq/UqBuhNBVVVVVVVYFEGlQK1fKfYUQfUrBWr9kxVBRhdddNExFkGWArV+pc8WQebtDIl5bRdBNtlkk00LGEGGxLydIakYQdavFKj1RhlBJ5tsssnkGUF3hsS8nYIaQcdxHMdxIBtBF1100UW+G0FnSMzbGVwcQbczJObt+RxBCB988MGXHUFYCtT6lTUeQaj1KwVq0x5B+OCDDz5xH0Ek5u0MiQcgQczbGRJzViBBdNFFF12lIEEcx3EcR/QgQcS8nSExQyFBbLLJJhuSIUEVqPUrBeEhQb2dITHvLyJBZZNNNtl+IkENiXk7w80iQbV+pUCtHCNBXXTRRZdrI0EFav1KgbojQa1fKVBrCSRBVVVVVVVYJEH9SoFaP6ckQaVArV8p9iRBTTbZZBNFJUH1KwVq/ZMlQZ4hMW/n4iVBRhdddNExJkHuDIl5u4AmQZYCtX6lzyZBPvjgg48eJ0Hm7QyJeW0nQY7jOI5jvCdBNtlkk00LKEHezpCYN1ooQYbEvJ0hqShBLrroogv4KEHWrxSo9UYpQX6lQK3flSlBJ5tsssnkKUHPkJi3szMqQXeGxLydgipBH3zwwYfRKkHHcRzHcSArQW9nSMxbbytBF1100UW+K0G/UqDWLw0sQWdIzNsZXCxBDz744AOrLEG3MyTm7fksQV8pUOvXSC1BCB988MGXLUGwFKj1q+YtQVgK1PqVNS5BAAAAAICELkEAAAAAgIQuQVgK1PqVNS5BsBSo9avmLUEIH3zwwZctQV8pUOvXSC1BtzMk5u35LEEPPvjgA6ssQWdIzNsZXCxBv1Kg1i8NLEEXXXTRRb4rQW9nSMxbbytBx3Ecx3EgK0EffPDBh9EqQXeGxLydgipBz5CYt7MzKkEnm2yyyeQpQX6lQK3flSlB1q8UqPVGKUEuuuiiC/goQYbEvJ0hqShB3s6QmDdaKEE22WSTTQsoQY7jOI5jvCdB5u0MiXltJ0E++OCDjx4nQZYCtX6lzyZB7gyJebuAJkFGF1100TEmQZ4hMW/n4iVB9SsFav2TJUFNNtlkE0UlQaVArV8p9iRB/UqBWj+nJEFVVVVVVVgkQa1fKVBrCSRBBWr9SoG6I0FddNFFl2sjQbV+pUCtHCNBDYl5O8PNIkFlk0022X4iQb2dITHvLyJBFaj1KwXhIUFssskmG5IhQcS8nSExQyFBHMdxHEf0IEF00UUXXaUgQczbGRJzViBBJObtDIkHIEH44IMPPnEfQaj1KwVq0x5BWArU+pU1HkEIH3zwwZcdQbczJObt+RxBZ0jM2xlcHEEXXXTRRb4bQcdxHMdxIBtBd4bEvJ2CGkEnm2yyyeQZQdavFKj1RhlBhsS8nSGpGEE22WSTTQsYQebtDIl5bRdBlgK1fqXPFkFGF1100TEWQfUrBWr9kxVBpUCtXyn2FEFVVVVVVVgUQQVq/UqBuhNBtX6lQK0cE0Flk0022X4SQRWo9SsF4RFBxLydITFDEUF00UUXXaUQQSTm7QyJBxBBqPUrBWrTDkEIH3zwwZcNQWdIzNsZXAxBx3Ecx3EgC0Enm2yyyeQJQYbEvJ0hqQhB5u0MiXltB0FGF1100TEGQaVArV8p9gRBBWr9SoG6A0Flk0022X4CQcS8nSExQwFBJObtDIkHAEEIH3zwwZf9QMdxHMdxIPtAhsS8nSGp+EBGF1100TH2QAVq/UqBuvNAxLydITFD8UAIH3zwwZftQIbEvJ0hqehABWr9SoG640AIH3zwwZfdQAVq/UqButNABWr9SoG6w0AAAAAAAAAAAA==\",\"dtype\":\"float64\",\"order\":\"little\",\"shape\":[200]},\"y\":{\"__ndarray__\":\"AAAAAAAAAAAAAAAAAAAAAAAAAAAAAAAAAAAAAAAAAAAAAAAAAAAAAAAAAAAAAAAAAAAAAAAAAAAAAAAAAAAAAAAAAAAAAAAAAAAAAAAAAAAAAAAAAAAAAAAAAAAAAAAAAAAAAAAAAAAAAAAAAAAAAAAAAAAAAAAAAAAAAAAAAAAAAAAAAAAAAAAAAAAAAAAAAAAAAAAAAAAAAAAAAAAAAAAAAAAAAAAAAAAAAAAAAAAAAAAAAAAAAAAAAAAAAAAAAAAAAAAAAAAAAAAAAAAAAAAAAAAAAAAAAAAAAAAAAAAAAAAAAAAAAAAAAAAAAAAAAAAAAAAAAAAAAAAAAAAAAAAAAAAAAAAAAAAAAAAAAAAAAAAAAAAAAAAAAAAAAAAAAAAAAAAAAAAAAAAAAAAAAAAAAAAAAAAAAAAAAAAAAAAAAAAAAAAAAAAAAAAAAAAAAAAAAAAAAAAAAAAAAAAAAAAAAAAAAAAAAAAAAAAAAAAAAAAAAAAAAAAAAAAAAAAAAAAAAAAAAAAAAAAAAAAAAAAAAAAAAAAAAAAAAAAAAAAAAAAAAAAAAAAAAAAAAAAAAAAAAAAAAAAAAAAAAAAAAAAAAAAAAAAAAAAAAAAAAAAAAAAAAAAAAAAAAAAAAAAAAAAAAAAAAAAAAAAAAAAAAAAAAAAAAAAAAAAAAAAAAAAAAAAAAAAAAAAAAAAAAAAAAAAAAAAAAAAAAAAAAAAAAAAAAAAAAAAAAAAAAAAAAAAAAAAAAAAAAAAAAAAAAAAAAAAAAAAAAAAAAAAAAAAAAAAAAAAAAAAAAAAAAAAAAAAAAAAAAAAAAAAAAAAAAAAAAAAAAAAAAAAAAAAAAAAAAAAAAAAAAAAAAAAAAAAAAAAAAAAAAAAAAAAAAAAAAAAAAAAAAAAAAAAAAAAAAAAAAAAAAAAAAAAAAAAAAAAAAAAAAAAAAAAAAAAAAAAAAAAAAAAAAAAAAAAAAAAAAAAAAAAAAAAAAAAAAAAAAAAAAAAAAAAAAAAAAAAAAAAAAAAAAAAAAAAAAAAAAAAAAAAAAAAAAAAAAAAAAAAAAAAAAAAAAAAAgIQuQVgK1PqVNS5BsBSo9avmLUEIH3zwwZctQV8pUOvXSC1BtzMk5u35LEEPPvjgA6ssQWdIzNsZXCxBv1Kg1i8NLEEXXXTRRb4rQW9nSMxbbytBx3Ecx3EgK0EffPDBh9EqQXeGxLydgipBz5CYt7MzKkEnm2yyyeQpQX6lQK3flSlB1q8UqPVGKUEuuuiiC/goQYbEvJ0hqShB3s6QmDdaKEE22WSTTQsoQY7jOI5jvCdB5u0MiXltJ0E++OCDjx4nQZYCtX6lzyZB7gyJebuAJkFGF1100TEmQZ4hMW/n4iVB9SsFav2TJUFNNtlkE0UlQaVArV8p9iRB/UqBWj+nJEFVVVVVVVgkQa1fKVBrCSRBBWr9SoG6I0FddNFFl2sjQbV+pUCtHCNBDYl5O8PNIkFlk0022X4iQb2dITHvLyJBFaj1KwXhIUFssskmG5IhQcS8nSExQyFBHMdxHEf0IEF00UUXXaUgQczbGRJzViBBJObtDIkHIEH44IMPPnEfQaj1KwVq0x5BWArU+pU1HkEIH3zwwZcdQbczJObt+RxBZ0jM2xlcHEEXXXTRRb4bQcdxHMdxIBtBd4bEvJ2CGkEnm2yyyeQZQdavFKj1RhlBhsS8nSGpGEE22WSTTQsYQebtDIl5bRdBlgK1fqXPFkFGF1100TEWQfUrBWr9kxVBpUCtXyn2FEFVVVVVVVgUQQVq/UqBuhNBtX6lQK0cE0Flk0022X4SQRWo9SsF4RFBxLydITFDEUF00UUXXaUQQSTm7QyJBxBBqPUrBWrTDkEIH3zwwZcNQWdIzNsZXAxBx3Ecx3EgC0Enm2yyyeQJQYbEvJ0hqQhB5u0MiXltB0FGF1100TEGQaVArV8p9gRBBWr9SoG6A0Flk0022X4CQcS8nSExQwFBJObtDIkHAEEIH3zwwZf9QMdxHMdxIPtAhsS8nSGp+EBGF1100TH2QAVq/UqBuvNAxLydITFD8UAIH3zwwZftQIbEvJ0hqehABWr9SoG640AIH3zwwZfdQAVq/UqButNABWr9SoG6w0AAAAAAAAAAAA==\",\"dtype\":\"float64\",\"order\":\"little\",\"shape\":[200]}},\"selected\":{\"id\":\"111026\"},\"selection_policy\":{\"id\":\"111054\"}},\"id\":\"111025\",\"type\":\"ColumnDataSource\"},{\"attributes\":{},\"id\":\"111054\",\"type\":\"UnionRenderers\"},{\"attributes\":{},\"id\":\"110995\",\"type\":\"BasicTicker\"},{\"attributes\":{\"callback\":null,\"renderers\":[{\"id\":\"111031\"},{\"id\":\"111039\"},{\"id\":\"111047\"}],\"tags\":[\"hv_created\"],\"tooltips\":[[\"0\",\"@{A_0}\"],[\"1\",\"@{A_1}\"]]},\"id\":\"110982\",\"type\":\"HoverTool\"},{\"attributes\":{\"data\":{\"x\":{\"__ndarray__\":\"AAAAAAAAAAAFav1KgbrDQAVq/UqButNACB988MGX3UAFav1KgbrjQIbEvJ0hqehACB988MGX7UDEvJ0hMUPxQAVq/UqBuvNARhdddNEx9kCGxLydIan4QMdxHMdxIPtACB988MGX/UAk5u0MiQcAQcS8nSExQwFBZZNNNtl+AkEFav1KgboDQaVArV8p9gRBRhdddNExBkHm7QyJeW0HQYbEvJ0hqQhBJ5tsssnkCUHHcRzHcSALQWdIzNsZXAxBCB988MGXDUGo9SsFatMOQSTm7QyJBxBBdNFFF12lEEHEvJ0hMUMRQRWo9SsF4RFBZZNNNtl+EkG1fqVArRwTQQVq/UqBuhNBVVVVVVVYFEGlQK1fKfYUQfUrBWr9kxVBRhdddNExFkGWArV+pc8WQebtDIl5bRdBNtlkk00LGEGGxLydIakYQdavFKj1RhlBJ5tsssnkGUF3hsS8nYIaQcdxHMdxIBtBF1100UW+G0FnSMzbGVwcQbczJObt+RxBCB988MGXHUFYCtT6lTUeQVgK1PqVNR5BCB988MGXHUG3MyTm7fkcQWdIzNsZXBxBF1100UW+G0HHcRzHcSAbQXeGxLydghpBJ5tsssnkGUHWrxSo9UYZQYbEvJ0hqRhBNtlkk00LGEHm7QyJeW0XQZYCtX6lzxZBRhdddNExFkH1KwVq/ZMVQaVArV8p9hRBVVVVVVVYFEEFav1KgboTQbV+pUCtHBNBZZNNNtl+EkEVqPUrBeERQcS8nSExQxFBdNFFF12lEEEk5u0MiQcQQaj1KwVq0w5BCB988MGXDUFnSMzbGVwMQcdxHMdxIAtBJ5tsssnkCUGGxLydIakIQebtDIl5bQdBRhdddNExBkGlQK1fKfYEQQVq/UqBugNBZZNNNtl+AkHEvJ0hMUMBQSTm7QyJBwBBCB988MGX/UDHcRzHcSD7QIbEvJ0hqfhARhdddNEx9kAFav1KgbrzQMS8nSExQ/FACB988MGX7UCGxLydIanoQAVq/UqBuuNACB988MGX3UAFav1KgbrTQAVq/UqBusNAAAAAAAAAAAA=\",\"dtype\":\"float64\",\"order\":\"little\",\"shape\":[100]},\"y\":{\"__ndarray__\":\"AAAAAAAAAAAAAAAAAAAAAAAAAAAAAAAAAAAAAAAAAAAAAAAAAAAAAAAAAAAAAAAAAAAAAAAAAAAAAAAAAAAAAAAAAAAAAAAAAAAAAAAAAAAAAAAAAAAAAAAAAAAAAAAAAAAAAAAAAAAAAAAAAAAAAAAAAAAAAAAAAAAAAAAAAAAAAAAAAAAAAAAAAAAAAAAAAAAAAAAAAAAAAAAAAAAAAAAAAAAAAAAAAAAAAAAAAAAAAAAAAAAAAAAAAAAAAAAAAAAAAAAAAAAAAAAAAAAAAAAAAAAAAAAAAAAAAAAAAAAAAAAAAAAAAAAAAAAAAAAAAAAAAAAAAAAAAAAAAAAAAAAAAAAAAAAAAAAAAAAAAAAAAAAAAAAAAAAAAAAAAAAAAAAAAAAAAAAAAAAAAAAAAAAAAAAAAAAAAAAAAAAAAAAAAAAAAAAAAAAAAAAAAAAAAAAAAAAAAAAAAAAAAAAAAAAAAAAAAAAAAAAAAAAAAAAAAAAAAAAAAAAAAAAAAAAAAAAAAAAAAAAAAAAAAAAAAFgK1PqVNR5BCB988MGXHUG3MyTm7fkcQWdIzNsZXBxBF1100UW+G0HHcRzHcSAbQXeGxLydghpBJ5tsssnkGUHWrxSo9UYZQYbEvJ0hqRhBNtlkk00LGEHm7QyJeW0XQZYCtX6lzxZBRhdddNExFkH1KwVq/ZMVQaVArV8p9hRBVVVVVVVYFEEFav1KgboTQbV+pUCtHBNBZZNNNtl+EkEVqPUrBeERQcS8nSExQxFBdNFFF12lEEEk5u0MiQcQQaj1KwVq0w5BCB988MGXDUFnSMzbGVwMQcdxHMdxIAtBJ5tsssnkCUGGxLydIakIQebtDIl5bQdBRhdddNExBkGlQK1fKfYEQQVq/UqBugNBZZNNNtl+AkHEvJ0hMUMBQSTm7QyJBwBBCB988MGX/UDHcRzHcSD7QIbEvJ0hqfhARhdddNEx9kAFav1KgbrzQMS8nSExQ/FACB988MGX7UCGxLydIanoQAVq/UqBuuNACB988MGX3UAFav1KgbrTQAVq/UqBusNAAAAAAAAAAAA=\",\"dtype\":\"float64\",\"order\":\"little\",\"shape\":[100]}},\"selected\":{\"id\":\"111042\"},\"selection_policy\":{\"id\":\"111058\"}},\"id\":\"111041\",\"type\":\"ColumnDataSource\"},{\"attributes\":{\"children\":[{\"id\":\"110979\"},{\"id\":\"110985\"},{\"id\":\"111139\"}],\"margin\":[0,0,0,0],\"name\":\"Row385382\",\"tags\":[\"embedded\"]},\"id\":\"110978\",\"type\":\"Row\"},{\"attributes\":{\"margin\":[5,5,5,5],\"name\":\"HSpacer385387\",\"sizing_mode\":\"stretch_width\"},\"id\":\"111139\",\"type\":\"Spacer\"},{\"attributes\":{\"data_source\":{\"id\":\"111033\"},\"glyph\":{\"id\":\"111036\"},\"hover_glyph\":null,\"muted_glyph\":{\"id\":\"111038\"},\"nonselection_glyph\":{\"id\":\"111037\"},\"selection_glyph\":null,\"view\":{\"id\":\"111040\"}},\"id\":\"111039\",\"type\":\"GlyphRenderer\"},{\"attributes\":{\"end\":1000000.0,\"reset_end\":1000000.0,\"reset_start\":0.0,\"tags\":[[[\"0\",\"0\",null]]]},\"id\":\"110980\",\"type\":\"Range1d\"},{\"attributes\":{\"data_source\":{\"id\":\"111025\"},\"glyph\":{\"id\":\"111028\"},\"hover_glyph\":null,\"muted_glyph\":{\"id\":\"111030\"},\"nonselection_glyph\":{\"id\":\"111029\"},\"selection_glyph\":null,\"view\":{\"id\":\"111032\"}},\"id\":\"111031\",\"type\":\"GlyphRenderer\"},{\"attributes\":{},\"id\":\"111006\",\"type\":\"ResetTool\"},{\"attributes\":{\"fill_alpha\":0.2,\"fill_color\":\"green\",\"line_alpha\":0.2,\"x\":{\"field\":\"x\"},\"y\":{\"field\":\"y\"}},\"id\":\"111030\",\"type\":\"Patch\"}],\"root_ids\":[\"110978\"]},\"title\":\"Bokeh Application\",\"version\":\"2.2.3\"}};\n",
       "    var render_items = [{\"docid\":\"b2b98a3b-40f6-4f81-82be-af2dea4feb9b\",\"root_ids\":[\"110978\"],\"roots\":{\"110978\":\"c3c4f326-ed77-449d-a254-514f2078006a\"}}];\n",
       "    root.Bokeh.embed.embed_items_notebook(docs_json, render_items);\n",
       "  }\n",
       "  if (root.Bokeh !== undefined && root.Bokeh.Panel !== undefined) {\n",
       "    embed_document(root);\n",
       "  } else {\n",
       "    var attempts = 0;\n",
       "    var timer = setInterval(function(root) {\n",
       "      if (root.Bokeh !== undefined && root.Bokeh.Panel !== undefined) {\n",
       "        clearInterval(timer);\n",
       "        embed_document(root);\n",
       "      } else if (document.readyState == \"complete\") {\n",
       "        attempts++;\n",
       "        if (attempts > 100) {\n",
       "          clearInterval(timer);\n",
       "          console.log(\"Bokeh: ERROR: Unable to run BokehJS code because BokehJS library is missing\");\n",
       "        }\n",
       "      }\n",
       "    }, 10, root)\n",
       "  }\n",
       "})(window);</script>"
      ],
      "text/plain": [
       ":Overlay\n",
       "   .Area.I   :Area   [0]   (1)\n",
       "   .Area.II  :Area   [0]   (1)\n",
       "   .Area.III :Area   [0]   (1)"
      ]
     },
     "execution_count": 113,
     "metadata": {
      "application/vnd.holoviews_exec.v0+json": {
       "id": "110978"
      }
     },
     "output_type": "execute_result"
    }
   ],
   "source": [
    "import numpy as np\n",
    "\n",
    "x = np.linspace(0, d.total_tokens, num=100)\n",
    "\n",
    "y = [a*0.6 for a in x]\n",
    "\n",
    "df = pd.DataFrame(zip(x,y))\n",
    "\n",
    "df_fill = pd.DataFrame(zip(x,x))\n",
    "\n",
    "y_fill_quorum = [a for i, a in enumerate(x) if i < 0.5*len(x)]\n",
    "df_fill_q = pd.DataFrame(zip(x,y_fill_quorum))\n",
    "\n",
    "df_fill.hvplot.area(x='0', y='1', xformatter='%.0f', yformatter='%.0f', color='green') * \\\n",
    "    df.hvplot.area(x='0', y='1', xformatter='%.0f', yformatter='%.0f', color='red') * \\\n",
    "    df_fill_q.hvplot.area(x='0', y='1', xformatter='%.0f', yformatter='%.0f', color='red')"
   ]
  },
  {
   "cell_type": "code",
   "execution_count": 114,
   "metadata": {},
   "outputs": [
    {
     "data": {},
     "metadata": {},
     "output_type": "display_data"
    },
    {
     "data": {
      "application/vnd.holoviews_exec.v0+json": "",
      "text/html": [
       "<div id='111191'>\n",
       "\n",
       "\n",
       "\n",
       "\n",
       "\n",
       "  <div class=\"bk-root\" id=\"5f3bf3d6-77fd-4808-9602-11aca66156d6\" data-root-id=\"111191\"></div>\n",
       "</div>\n",
       "<script type=\"application/javascript\">(function(root) {\n",
       "  function embed_document(root) {\n",
       "    var docs_json = {\"182335a1-eca5-4728-9237-a3032fa88246\":{\"roots\":{\"references\":[{\"attributes\":{\"end\":494949.49494949495,\"reset_end\":494949.49494949495,\"reset_start\":0.0,\"tags\":[[[\"0\",\"0\",null]]]},\"id\":\"111193\",\"type\":\"Range1d\"},{\"attributes\":{\"end\":544444.4444444445,\"reset_end\":544444.4444444445,\"reset_start\":0.0,\"tags\":[[[\"1\",\"1\",null]]]},\"id\":\"111194\",\"type\":\"Range1d\"},{\"attributes\":{\"format\":\"%.0f\"},\"id\":\"111234\",\"type\":\"PrintfTickFormatter\"},{\"attributes\":{\"text\":\"\",\"text_color\":{\"value\":\"black\"},\"text_font_size\":{\"value\":\"12pt\"}},\"id\":\"111197\",\"type\":\"Title\"},{\"attributes\":{\"overlay\":{\"id\":\"111218\"}},\"id\":\"111216\",\"type\":\"BoxZoomTool\"},{\"attributes\":{\"margin\":[5,5,5,5],\"name\":\"HSpacer385921\",\"sizing_mode\":\"stretch_width\"},\"id\":\"111192\",\"type\":\"Spacer\"},{\"attributes\":{},\"id\":\"111201\",\"type\":\"LinearScale\"},{\"attributes\":{},\"id\":\"111210\",\"type\":\"BasicTicker\"},{\"attributes\":{\"axis_label\":\"1\",\"bounds\":\"auto\",\"formatter\":{\"id\":\"111235\"},\"major_label_orientation\":\"horizontal\",\"ticker\":{\"id\":\"111210\"}},\"id\":\"111209\",\"type\":\"LinearAxis\"},{\"attributes\":{},\"id\":\"111206\",\"type\":\"BasicTicker\"},{\"attributes\":{\"margin\":[5,5,5,5],\"name\":\"HSpacer385922\",\"sizing_mode\":\"stretch_width\"},\"id\":\"111256\",\"type\":\"Spacer\"},{\"attributes\":{\"source\":{\"id\":\"111226\"}},\"id\":\"111233\",\"type\":\"CDSView\"},{\"attributes\":{\"active_drag\":\"auto\",\"active_inspect\":\"auto\",\"active_multi\":null,\"active_scroll\":\"auto\",\"active_tap\":\"auto\",\"tools\":[{\"id\":\"111195\"},{\"id\":\"111213\"},{\"id\":\"111214\"},{\"id\":\"111215\"},{\"id\":\"111216\"},{\"id\":\"111217\"}]},\"id\":\"111219\",\"type\":\"Toolbar\"},{\"attributes\":{\"fill_alpha\":0.2,\"fill_color\":\"red\",\"line_alpha\":0.2,\"x\":{\"field\":\"x\"},\"y\":{\"field\":\"y\"}},\"id\":\"111231\",\"type\":\"Patch\"},{\"attributes\":{},\"id\":\"111215\",\"type\":\"WheelZoomTool\"},{\"attributes\":{\"fill_color\":\"red\",\"x\":{\"field\":\"x\"},\"y\":{\"field\":\"y\"}},\"id\":\"111229\",\"type\":\"Patch\"},{\"attributes\":{},\"id\":\"111249\",\"type\":\"UnionRenderers\"},{\"attributes\":{\"format\":\"%.0f\"},\"id\":\"111235\",\"type\":\"PrintfTickFormatter\"},{\"attributes\":{\"axis_label\":\"0\",\"bounds\":\"auto\",\"formatter\":{\"id\":\"111234\"},\"major_label_orientation\":\"horizontal\",\"ticker\":{\"id\":\"111206\"}},\"id\":\"111205\",\"type\":\"LinearAxis\"},{\"attributes\":{\"axis\":{\"id\":\"111209\"},\"dimension\":1,\"grid_line_color\":null,\"ticker\":null},\"id\":\"111212\",\"type\":\"Grid\"},{\"attributes\":{},\"id\":\"111227\",\"type\":\"Selection\"},{\"attributes\":{},\"id\":\"111217\",\"type\":\"ResetTool\"},{\"attributes\":{\"children\":[{\"id\":\"111192\"},{\"id\":\"111196\"},{\"id\":\"111256\"}],\"margin\":[0,0,0,0],\"name\":\"Row385917\",\"tags\":[\"embedded\"]},\"id\":\"111191\",\"type\":\"Row\"},{\"attributes\":{\"fill_alpha\":1,\"fill_color\":\"red\",\"line_alpha\":1,\"x\":{\"field\":\"x\"},\"y\":{\"field\":\"y\"}},\"id\":\"111230\",\"type\":\"Patch\"},{\"attributes\":{\"data\":{\"x\":{\"__ndarray__\":\"AAAAAAAAAAAFav1KgbrDQAVq/UqButNACB988MGX3UAFav1KgbrjQIbEvJ0hqehACB988MGX7UDEvJ0hMUPxQAVq/UqBuvNARhdddNEx9kCGxLydIan4QMdxHMdxIPtACB988MGX/UAk5u0MiQcAQcS8nSExQwFBZZNNNtl+AkEFav1KgboDQaVArV8p9gRBRhdddNExBkHm7QyJeW0HQYbEvJ0hqQhBJ5tsssnkCUHHcRzHcSALQWdIzNsZXAxBCB988MGXDUGo9SsFatMOQSTm7QyJBxBBdNFFF12lEEHEvJ0hMUMRQRWo9SsF4RFBZZNNNtl+EkG1fqVArRwTQQVq/UqBuhNBVVVVVVVYFEGlQK1fKfYUQfUrBWr9kxVBRhdddNExFkGWArV+pc8WQebtDIl5bRdBNtlkk00LGEGGxLydIakYQdavFKj1RhlBJ5tsssnkGUF3hsS8nYIaQcdxHMdxIBtBF1100UW+G0FnSMzbGVwcQbczJObt+RxBCB988MGXHUFYCtT6lTUeQVgK1PqVNR5BCB988MGXHUG3MyTm7fkcQWdIzNsZXBxBF1100UW+G0HHcRzHcSAbQXeGxLydghpBJ5tsssnkGUHWrxSo9UYZQYbEvJ0hqRhBNtlkk00LGEHm7QyJeW0XQZYCtX6lzxZBRhdddNExFkH1KwVq/ZMVQaVArV8p9hRBVVVVVVVYFEEFav1KgboTQbV+pUCtHBNBZZNNNtl+EkEVqPUrBeERQcS8nSExQxFBdNFFF12lEEEk5u0MiQcQQaj1KwVq0w5BCB988MGXDUFnSMzbGVwMQcdxHMdxIAtBJ5tsssnkCUGGxLydIakIQebtDIl5bQdBRhdddNExBkGlQK1fKfYEQQVq/UqBugNBZZNNNtl+AkHEvJ0hMUMBQSTm7QyJBwBBCB988MGX/UDHcRzHcSD7QIbEvJ0hqfhARhdddNEx9kAFav1KgbrzQMS8nSExQ/FACB988MGX7UCGxLydIanoQAVq/UqBuuNACB988MGX3UAFav1KgbrTQAVq/UqBusNAAAAAAAAAAAA=\",\"dtype\":\"float64\",\"order\":\"little\",\"shape\":[100]},\"y\":{\"__ndarray__\":\"AAAAAAAAAAAAAAAAAAAAAAAAAAAAAAAAAAAAAAAAAAAAAAAAAAAAAAAAAAAAAAAAAAAAAAAAAAAAAAAAAAAAAAAAAAAAAAAAAAAAAAAAAAAAAAAAAAAAAAAAAAAAAAAAAAAAAAAAAAAAAAAAAAAAAAAAAAAAAAAAAAAAAAAAAAAAAAAAAAAAAAAAAAAAAAAAAAAAAAAAAAAAAAAAAAAAAAAAAAAAAAAAAAAAAAAAAAAAAAAAAAAAAAAAAAAAAAAAAAAAAAAAAAAAAAAAAAAAAAAAAAAAAAAAAAAAAAAAAAAAAAAAAAAAAAAAAAAAAAAAAAAAAAAAAAAAAAAAAAAAAAAAAAAAAAAAAAAAAAAAAAAAAAAAAAAAAAAAAAAAAAAAAAAAAAAAAAAAAAAAAAAAAAAAAAAAAAAAAAAAAAAAAAAAAAAAAAAAAAAAAAAAAAAAAAAAAAAAAAAAAAAAAAAAAAAAAAAAAAAAAAAAAAAAAAAAAAAAAAAAAAAAAAAAAAAAAAAAAAAAAAAAAAAAAAAAAFgK1PqVNR5BCB988MGXHUG3MyTm7fkcQWdIzNsZXBxBF1100UW+G0HHcRzHcSAbQXeGxLydghpBJ5tsssnkGUHWrxSo9UYZQYbEvJ0hqRhBNtlkk00LGEHm7QyJeW0XQZYCtX6lzxZBRhdddNExFkH1KwVq/ZMVQaVArV8p9hRBVVVVVVVYFEEFav1KgboTQbV+pUCtHBNBZZNNNtl+EkEVqPUrBeERQcS8nSExQxFBdNFFF12lEEEk5u0MiQcQQaj1KwVq0w5BCB988MGXDUFnSMzbGVwMQcdxHMdxIAtBJ5tsssnkCUGGxLydIakIQebtDIl5bQdBRhdddNExBkGlQK1fKfYEQQVq/UqBugNBZZNNNtl+AkHEvJ0hMUMBQSTm7QyJBwBBCB988MGX/UDHcRzHcSD7QIbEvJ0hqfhARhdddNEx9kAFav1KgbrzQMS8nSExQ/FACB988MGX7UCGxLydIanoQAVq/UqBuuNACB988MGX3UAFav1KgbrTQAVq/UqBusNAAAAAAAAAAAA=\",\"dtype\":\"float64\",\"order\":\"little\",\"shape\":[100]}},\"selected\":{\"id\":\"111227\"},\"selection_policy\":{\"id\":\"111249\"}},\"id\":\"111226\",\"type\":\"ColumnDataSource\"},{\"attributes\":{\"data_source\":{\"id\":\"111226\"},\"glyph\":{\"id\":\"111229\"},\"hover_glyph\":null,\"muted_glyph\":{\"id\":\"111231\"},\"nonselection_glyph\":{\"id\":\"111230\"},\"selection_glyph\":null,\"view\":{\"id\":\"111233\"}},\"id\":\"111232\",\"type\":\"GlyphRenderer\"},{\"attributes\":{\"below\":[{\"id\":\"111205\"}],\"center\":[{\"id\":\"111208\"},{\"id\":\"111212\"}],\"left\":[{\"id\":\"111209\"}],\"margin\":[5,5,5,5],\"min_border_bottom\":10,\"min_border_left\":10,\"min_border_right\":10,\"min_border_top\":10,\"plot_height\":300,\"plot_width\":700,\"renderers\":[{\"id\":\"111232\"}],\"sizing_mode\":\"fixed\",\"title\":{\"id\":\"111197\"},\"toolbar\":{\"id\":\"111219\"},\"x_range\":{\"id\":\"111193\"},\"x_scale\":{\"id\":\"111201\"},\"y_range\":{\"id\":\"111194\"},\"y_scale\":{\"id\":\"111203\"}},\"id\":\"111196\",\"subtype\":\"Figure\",\"type\":\"Plot\"},{\"attributes\":{},\"id\":\"111203\",\"type\":\"LinearScale\"},{\"attributes\":{},\"id\":\"111214\",\"type\":\"PanTool\"},{\"attributes\":{\"bottom_units\":\"screen\",\"fill_alpha\":0.5,\"fill_color\":\"lightgrey\",\"left_units\":\"screen\",\"level\":\"overlay\",\"line_alpha\":1.0,\"line_color\":\"black\",\"line_dash\":[4,4],\"line_width\":2,\"right_units\":\"screen\",\"top_units\":\"screen\"},\"id\":\"111218\",\"type\":\"BoxAnnotation\"},{\"attributes\":{},\"id\":\"111213\",\"type\":\"SaveTool\"},{\"attributes\":{\"callback\":null,\"renderers\":[{\"id\":\"111232\"}],\"tags\":[\"hv_created\"],\"tooltips\":[[\"0\",\"@{A_0}\"],[\"1\",\"@{A_1}\"]]},\"id\":\"111195\",\"type\":\"HoverTool\"},{\"attributes\":{\"axis\":{\"id\":\"111205\"},\"grid_line_color\":null,\"ticker\":null},\"id\":\"111208\",\"type\":\"Grid\"}],\"root_ids\":[\"111191\"]},\"title\":\"Bokeh Application\",\"version\":\"2.2.3\"}};\n",
       "    var render_items = [{\"docid\":\"182335a1-eca5-4728-9237-a3032fa88246\",\"root_ids\":[\"111191\"],\"roots\":{\"111191\":\"5f3bf3d6-77fd-4808-9602-11aca66156d6\"}}];\n",
       "    root.Bokeh.embed.embed_items_notebook(docs_json, render_items);\n",
       "  }\n",
       "  if (root.Bokeh !== undefined && root.Bokeh.Panel !== undefined) {\n",
       "    embed_document(root);\n",
       "  } else {\n",
       "    var attempts = 0;\n",
       "    var timer = setInterval(function(root) {\n",
       "      if (root.Bokeh !== undefined && root.Bokeh.Panel !== undefined) {\n",
       "        clearInterval(timer);\n",
       "        embed_document(root);\n",
       "      } else if (document.readyState == \"complete\") {\n",
       "        attempts++;\n",
       "        if (attempts > 100) {\n",
       "          clearInterval(timer);\n",
       "          console.log(\"Bokeh: ERROR: Unable to run BokehJS code because BokehJS library is missing\");\n",
       "        }\n",
       "      }\n",
       "    }, 10, root)\n",
       "  }\n",
       "})(window);</script>"
      ],
      "text/plain": [
       ":Area   [0]   (1)"
      ]
     },
     "execution_count": 114,
     "metadata": {
      "application/vnd.holoviews_exec.v0+json": {
       "id": "111191"
      }
     },
     "output_type": "execute_result"
    }
   ],
   "source": [
    "df_fill_q.hvplot.area(x='0', y='1', xformatter='%.0f', yformatter='%.0f', color='red')"
   ]
  },
  {
   "cell_type": "code",
   "execution_count": 54,
   "metadata": {},
   "outputs": [
    {
     "data": {
      "text/html": [
       "<div>\n",
       "<style scoped>\n",
       "    .dataframe tbody tr th:only-of-type {\n",
       "        vertical-align: middle;\n",
       "    }\n",
       "\n",
       "    .dataframe tbody tr th {\n",
       "        vertical-align: top;\n",
       "    }\n",
       "\n",
       "    .dataframe thead th {\n",
       "        text-align: right;\n",
       "    }\n",
       "</style>\n",
       "<table border=\"1\" class=\"dataframe\">\n",
       "  <thead>\n",
       "    <tr style=\"text-align: right;\">\n",
       "      <th></th>\n",
       "      <th>0</th>\n",
       "      <th>1</th>\n",
       "    </tr>\n",
       "  </thead>\n",
       "  <tbody>\n",
       "    <tr>\n",
       "      <th>0</th>\n",
       "      <td>0.000000</td>\n",
       "      <td>1000000.0</td>\n",
       "    </tr>\n",
       "    <tr>\n",
       "      <th>1</th>\n",
       "      <td>20408.163265</td>\n",
       "      <td>1000000.0</td>\n",
       "    </tr>\n",
       "    <tr>\n",
       "      <th>2</th>\n",
       "      <td>40816.326531</td>\n",
       "      <td>1000000.0</td>\n",
       "    </tr>\n",
       "    <tr>\n",
       "      <th>3</th>\n",
       "      <td>61224.489796</td>\n",
       "      <td>1000000.0</td>\n",
       "    </tr>\n",
       "    <tr>\n",
       "      <th>4</th>\n",
       "      <td>81632.653061</td>\n",
       "      <td>1000000.0</td>\n",
       "    </tr>\n",
       "    <tr>\n",
       "      <th>5</th>\n",
       "      <td>102040.816327</td>\n",
       "      <td>1000000.0</td>\n",
       "    </tr>\n",
       "    <tr>\n",
       "      <th>6</th>\n",
       "      <td>122448.979592</td>\n",
       "      <td>1000000.0</td>\n",
       "    </tr>\n",
       "    <tr>\n",
       "      <th>7</th>\n",
       "      <td>142857.142857</td>\n",
       "      <td>1000000.0</td>\n",
       "    </tr>\n",
       "    <tr>\n",
       "      <th>8</th>\n",
       "      <td>163265.306122</td>\n",
       "      <td>1000000.0</td>\n",
       "    </tr>\n",
       "    <tr>\n",
       "      <th>9</th>\n",
       "      <td>183673.469388</td>\n",
       "      <td>1000000.0</td>\n",
       "    </tr>\n",
       "    <tr>\n",
       "      <th>10</th>\n",
       "      <td>204081.632653</td>\n",
       "      <td>1000000.0</td>\n",
       "    </tr>\n",
       "    <tr>\n",
       "      <th>11</th>\n",
       "      <td>224489.795918</td>\n",
       "      <td>1000000.0</td>\n",
       "    </tr>\n",
       "    <tr>\n",
       "      <th>12</th>\n",
       "      <td>244897.959184</td>\n",
       "      <td>1000000.0</td>\n",
       "    </tr>\n",
       "    <tr>\n",
       "      <th>13</th>\n",
       "      <td>265306.122449</td>\n",
       "      <td>1000000.0</td>\n",
       "    </tr>\n",
       "    <tr>\n",
       "      <th>14</th>\n",
       "      <td>285714.285714</td>\n",
       "      <td>1000000.0</td>\n",
       "    </tr>\n",
       "    <tr>\n",
       "      <th>15</th>\n",
       "      <td>306122.448980</td>\n",
       "      <td>1000000.0</td>\n",
       "    </tr>\n",
       "    <tr>\n",
       "      <th>16</th>\n",
       "      <td>326530.612245</td>\n",
       "      <td>1000000.0</td>\n",
       "    </tr>\n",
       "    <tr>\n",
       "      <th>17</th>\n",
       "      <td>346938.775510</td>\n",
       "      <td>1000000.0</td>\n",
       "    </tr>\n",
       "    <tr>\n",
       "      <th>18</th>\n",
       "      <td>367346.938776</td>\n",
       "      <td>1000000.0</td>\n",
       "    </tr>\n",
       "    <tr>\n",
       "      <th>19</th>\n",
       "      <td>387755.102041</td>\n",
       "      <td>1000000.0</td>\n",
       "    </tr>\n",
       "    <tr>\n",
       "      <th>20</th>\n",
       "      <td>408163.265306</td>\n",
       "      <td>1000000.0</td>\n",
       "    </tr>\n",
       "    <tr>\n",
       "      <th>21</th>\n",
       "      <td>428571.428571</td>\n",
       "      <td>1000000.0</td>\n",
       "    </tr>\n",
       "    <tr>\n",
       "      <th>22</th>\n",
       "      <td>448979.591837</td>\n",
       "      <td>1000000.0</td>\n",
       "    </tr>\n",
       "    <tr>\n",
       "      <th>23</th>\n",
       "      <td>469387.755102</td>\n",
       "      <td>1000000.0</td>\n",
       "    </tr>\n",
       "    <tr>\n",
       "      <th>24</th>\n",
       "      <td>489795.918367</td>\n",
       "      <td>1000000.0</td>\n",
       "    </tr>\n",
       "    <tr>\n",
       "      <th>25</th>\n",
       "      <td>510204.081633</td>\n",
       "      <td>1000000.0</td>\n",
       "    </tr>\n",
       "    <tr>\n",
       "      <th>26</th>\n",
       "      <td>530612.244898</td>\n",
       "      <td>1000000.0</td>\n",
       "    </tr>\n",
       "    <tr>\n",
       "      <th>27</th>\n",
       "      <td>551020.408163</td>\n",
       "      <td>1000000.0</td>\n",
       "    </tr>\n",
       "    <tr>\n",
       "      <th>28</th>\n",
       "      <td>571428.571429</td>\n",
       "      <td>1000000.0</td>\n",
       "    </tr>\n",
       "    <tr>\n",
       "      <th>29</th>\n",
       "      <td>591836.734694</td>\n",
       "      <td>1000000.0</td>\n",
       "    </tr>\n",
       "    <tr>\n",
       "      <th>30</th>\n",
       "      <td>612244.897959</td>\n",
       "      <td>1000000.0</td>\n",
       "    </tr>\n",
       "    <tr>\n",
       "      <th>31</th>\n",
       "      <td>632653.061224</td>\n",
       "      <td>1000000.0</td>\n",
       "    </tr>\n",
       "    <tr>\n",
       "      <th>32</th>\n",
       "      <td>653061.224490</td>\n",
       "      <td>1000000.0</td>\n",
       "    </tr>\n",
       "    <tr>\n",
       "      <th>33</th>\n",
       "      <td>673469.387755</td>\n",
       "      <td>1000000.0</td>\n",
       "    </tr>\n",
       "    <tr>\n",
       "      <th>34</th>\n",
       "      <td>693877.551020</td>\n",
       "      <td>1000000.0</td>\n",
       "    </tr>\n",
       "    <tr>\n",
       "      <th>35</th>\n",
       "      <td>714285.714286</td>\n",
       "      <td>1000000.0</td>\n",
       "    </tr>\n",
       "    <tr>\n",
       "      <th>36</th>\n",
       "      <td>734693.877551</td>\n",
       "      <td>1000000.0</td>\n",
       "    </tr>\n",
       "    <tr>\n",
       "      <th>37</th>\n",
       "      <td>755102.040816</td>\n",
       "      <td>1000000.0</td>\n",
       "    </tr>\n",
       "    <tr>\n",
       "      <th>38</th>\n",
       "      <td>775510.204082</td>\n",
       "      <td>1000000.0</td>\n",
       "    </tr>\n",
       "    <tr>\n",
       "      <th>39</th>\n",
       "      <td>795918.367347</td>\n",
       "      <td>1000000.0</td>\n",
       "    </tr>\n",
       "    <tr>\n",
       "      <th>40</th>\n",
       "      <td>816326.530612</td>\n",
       "      <td>1000000.0</td>\n",
       "    </tr>\n",
       "    <tr>\n",
       "      <th>41</th>\n",
       "      <td>836734.693878</td>\n",
       "      <td>1000000.0</td>\n",
       "    </tr>\n",
       "    <tr>\n",
       "      <th>42</th>\n",
       "      <td>857142.857143</td>\n",
       "      <td>1000000.0</td>\n",
       "    </tr>\n",
       "    <tr>\n",
       "      <th>43</th>\n",
       "      <td>877551.020408</td>\n",
       "      <td>1000000.0</td>\n",
       "    </tr>\n",
       "    <tr>\n",
       "      <th>44</th>\n",
       "      <td>897959.183673</td>\n",
       "      <td>1000000.0</td>\n",
       "    </tr>\n",
       "    <tr>\n",
       "      <th>45</th>\n",
       "      <td>918367.346939</td>\n",
       "      <td>1000000.0</td>\n",
       "    </tr>\n",
       "    <tr>\n",
       "      <th>46</th>\n",
       "      <td>938775.510204</td>\n",
       "      <td>1000000.0</td>\n",
       "    </tr>\n",
       "    <tr>\n",
       "      <th>47</th>\n",
       "      <td>959183.673469</td>\n",
       "      <td>1000000.0</td>\n",
       "    </tr>\n",
       "    <tr>\n",
       "      <th>48</th>\n",
       "      <td>979591.836735</td>\n",
       "      <td>1000000.0</td>\n",
       "    </tr>\n",
       "    <tr>\n",
       "      <th>49</th>\n",
       "      <td>1000000.000000</td>\n",
       "      <td>1000000.0</td>\n",
       "    </tr>\n",
       "  </tbody>\n",
       "</table>\n",
       "</div>"
      ],
      "text/plain": [
       "                 0          1\n",
       "0         0.000000  1000000.0\n",
       "1     20408.163265  1000000.0\n",
       "2     40816.326531  1000000.0\n",
       "3     61224.489796  1000000.0\n",
       "4     81632.653061  1000000.0\n",
       "5    102040.816327  1000000.0\n",
       "6    122448.979592  1000000.0\n",
       "7    142857.142857  1000000.0\n",
       "8    163265.306122  1000000.0\n",
       "9    183673.469388  1000000.0\n",
       "10   204081.632653  1000000.0\n",
       "11   224489.795918  1000000.0\n",
       "12   244897.959184  1000000.0\n",
       "13   265306.122449  1000000.0\n",
       "14   285714.285714  1000000.0\n",
       "15   306122.448980  1000000.0\n",
       "16   326530.612245  1000000.0\n",
       "17   346938.775510  1000000.0\n",
       "18   367346.938776  1000000.0\n",
       "19   387755.102041  1000000.0\n",
       "20   408163.265306  1000000.0\n",
       "21   428571.428571  1000000.0\n",
       "22   448979.591837  1000000.0\n",
       "23   469387.755102  1000000.0\n",
       "24   489795.918367  1000000.0\n",
       "25   510204.081633  1000000.0\n",
       "26   530612.244898  1000000.0\n",
       "27   551020.408163  1000000.0\n",
       "28   571428.571429  1000000.0\n",
       "29   591836.734694  1000000.0\n",
       "30   612244.897959  1000000.0\n",
       "31   632653.061224  1000000.0\n",
       "32   653061.224490  1000000.0\n",
       "33   673469.387755  1000000.0\n",
       "34   693877.551020  1000000.0\n",
       "35   714285.714286  1000000.0\n",
       "36   734693.877551  1000000.0\n",
       "37   755102.040816  1000000.0\n",
       "38   775510.204082  1000000.0\n",
       "39   795918.367347  1000000.0\n",
       "40   816326.530612  1000000.0\n",
       "41   836734.693878  1000000.0\n",
       "42   857142.857143  1000000.0\n",
       "43   877551.020408  1000000.0\n",
       "44   897959.183673  1000000.0\n",
       "45   918367.346939  1000000.0\n",
       "46   938775.510204  1000000.0\n",
       "47   959183.673469  1000000.0\n",
       "48   979591.836735  1000000.0\n",
       "49  1000000.000000  1000000.0"
      ]
     },
     "execution_count": 54,
     "metadata": {},
     "output_type": "execute_result"
    }
   ],
   "source": [
    "df_fill_q"
   ]
  },
  {
   "cell_type": "code",
   "execution_count": null,
   "metadata": {},
   "outputs": [],
   "source": []
  },
  {
   "cell_type": "code",
   "execution_count": 6,
   "metadata": {},
   "outputs": [],
   "source": [
    "class DandelionVoting(param.Parameterized):\n",
    "    total_tokens = param.Number(1e6, constant=True)\n",
    "    minimum_quorum = param.Number(0.02, bounds=(0,1), step=0.01)\n",
    "    support_required = param.Number(0.5, bounds=(0.5,0.9), step=0.01)\n",
    "    days_to_vote_on_proposal = param.Integer(3 + 8 + 24, bounds=(0,100))\n",
    "    days_to_exit_hatch = param.Integer(8)\n",
    "#     vote_buffer_blocks = param.Integer(8, bounds=(0,None))\n",
    "#     vote_execution_delay_blocks = param.Integer(24, bounds=(0,None))\n",
    "    cost_to_make_a_proposal = param.Number(3, step=1, doc=\"cost to make a proposal\")\n",
    "    maximum_number_proposals_per_month = param.Number(10, bounds=(1, 100))\n",
    "    \n",
    "    def view(self):\n",
    "        min_yes_tokens = self.support_required * self.minimum_quorum * self.total_tokens\n",
    "        min_blockers = (1 - self.support_required) * self.minimum_quorum * self.total_tokens\n",
    "        votes = pd.DataFrame.from_dict({'Votes': [min_yes_tokens, min_blockers]}, orient='index', columns=['Minimum Tokens to Pass', 'Minimum Tokens for Quorum'])\n",
    "        vote_plot = votes.hvplot.bar(stacked=True, ylim=(0,self.total_tokens)).opts(color=hv.Cycle(['#0F2EEE', '#0b0a15', '#DEFB48']))\n",
    "        return pn.Row(vote_plot, pn.Column(\"Minimum Tokens to Meet Quorum: \", int(self.minimum_quorum * self.total_tokens), \"Minimum Tokens to Pass a Vote: \", int(min_yes_tokens), \"Minimum Tokens to Block a Vote: \", int(min_blockers)))"
   ]
  },
  {
   "cell_type": "code",
   "execution_count": 7,
   "metadata": {},
   "outputs": [],
   "source": [
    "d = DandelionVoting()"
   ]
  },
  {
   "cell_type": "code",
   "execution_count": 9,
   "metadata": {},
   "outputs": [
    {
     "data": {},
     "metadata": {},
     "output_type": "display_data"
    },
    {
     "data": {
      "application/vnd.holoviews_exec.v0+json": "",
      "text/html": [
       "<div id='1329'>\n",
       "\n",
       "\n",
       "\n",
       "\n",
       "\n",
       "  <div class=\"bk-root\" id=\"b111e88b-4904-44f2-a7a0-ea5bc83d04e0\" data-root-id=\"1329\"></div>\n",
       "</div>\n",
       "<script type=\"application/javascript\">(function(root) {\n",
       "  function embed_document(root) {\n",
       "    var docs_json = {\"ea998d0b-b5e3-42d0-bbb3-b45dca1a2069\":{\"roots\":{\"references\":[{\"attributes\":{\"format\":null,\"margin\":[5,10,5,10],\"placeholder\":\"0\",\"title\":\"Cost to make a proposal\",\"value\":3,\"value_throttled\":3},\"id\":\"1336\",\"type\":\"Spinner\"},{\"attributes\":{\"end\":1,\"format\":\"0[.]00\",\"margin\":[5,10,5,10],\"start\":0,\"step\":0.01,\"title\":\"Minimum quorum\",\"value\":0.02,\"value_throttled\":0.02},\"id\":\"1332\",\"type\":\"Slider\"},{\"attributes\":{\"end\":100,\"format\":\"0[.]00\",\"margin\":[5,10,5,10],\"start\":1,\"step\":0.1,\"title\":\"Maximum number proposals per month\",\"value\":10,\"value_throttled\":10},\"id\":\"1337\",\"type\":\"Slider\"},{\"attributes\":{\"format\":null,\"margin\":[5,10,5,10],\"mode\":\"int\",\"placeholder\":\"0\",\"title\":\"Days to exit hatch\",\"value\":8,\"value_throttled\":8},\"id\":\"1335\",\"type\":\"Spinner\"},{\"attributes\":{\"end\":100,\"format\":\"0[.]00\",\"margin\":[5,10,5,10],\"start\":0,\"title\":\"Days to vote on proposal\",\"value\":35,\"value_throttled\":35},\"id\":\"1334\",\"type\":\"Slider\"},{\"attributes\":{\"margin\":[5,10,5,10],\"name\":\"\",\"text\":\"<b>DandelionVoting</b>\"},\"id\":\"1330\",\"type\":\"Div\"},{\"attributes\":{\"children\":[{\"id\":\"1330\"},{\"id\":\"1331\"},{\"id\":\"1332\"},{\"id\":\"1333\"},{\"id\":\"1334\"},{\"id\":\"1335\"},{\"id\":\"1336\"},{\"id\":\"1337\"}],\"margin\":[5,5,5,5],\"min_width\":300,\"name\":\"DandelionVoting\",\"width\":300},\"id\":\"1329\",\"type\":\"Column\"},{\"attributes\":{\"client_comm_id\":\"3d0bfc30080e4c73a50753ff59cd3659\",\"comm_id\":\"c48e6a698481442d9e4b177c93c3e525\",\"plot_id\":\"1329\"},\"id\":\"1338\",\"type\":\"panel.models.comm_manager.CommManager\"},{\"attributes\":{\"disabled\":true,\"format\":null,\"margin\":[5,10,5,10],\"placeholder\":\"0\",\"step\":0.1,\"title\":\"Total tokens\",\"value\":1000000.0,\"value_throttled\":1000000.0},\"id\":\"1331\",\"type\":\"Spinner\"},{\"attributes\":{\"end\":0.9,\"format\":\"0[.]00\",\"margin\":[5,10,5,10],\"start\":0.5,\"step\":0.01,\"title\":\"Support required\",\"value\":0.5,\"value_throttled\":0.5},\"id\":\"1333\",\"type\":\"Slider\"}],\"root_ids\":[\"1329\",\"1338\"]},\"title\":\"Bokeh Application\",\"version\":\"2.2.3\"}};\n",
       "    var render_items = [{\"docid\":\"ea998d0b-b5e3-42d0-bbb3-b45dca1a2069\",\"root_ids\":[\"1329\"],\"roots\":{\"1329\":\"b111e88b-4904-44f2-a7a0-ea5bc83d04e0\"}}];\n",
       "    root.Bokeh.embed.embed_items_notebook(docs_json, render_items);\n",
       "  }\n",
       "  if (root.Bokeh !== undefined && root.Bokeh.Panel !== undefined) {\n",
       "    embed_document(root);\n",
       "  } else {\n",
       "    var attempts = 0;\n",
       "    var timer = setInterval(function(root) {\n",
       "      if (root.Bokeh !== undefined && root.Bokeh.Panel !== undefined) {\n",
       "        clearInterval(timer);\n",
       "        embed_document(root);\n",
       "      } else if (document.readyState == \"complete\") {\n",
       "        attempts++;\n",
       "        if (attempts > 100) {\n",
       "          clearInterval(timer);\n",
       "          console.log(\"Bokeh: ERROR: Unable to run BokehJS code because BokehJS library is missing\");\n",
       "        }\n",
       "      }\n",
       "    }, 10, root)\n",
       "  }\n",
       "})(window);</script>"
      ],
      "text/plain": [
       "Param(DandelionVoting)"
      ]
     },
     "execution_count": 9,
     "metadata": {
      "application/vnd.holoviews_exec.v0+json": {
       "id": "1329"
      }
     },
     "output_type": "execute_result"
    }
   ],
   "source": [
    "pn.Pane(d)"
   ]
  },
  {
   "cell_type": "code",
   "execution_count": 10,
   "metadata": {},
   "outputs": [
    {
     "data": {},
     "metadata": {},
     "output_type": "display_data"
    },
    {
     "data": {},
     "metadata": {},
     "output_type": "display_data"
    },
    {
     "data": {
      "application/vnd.holoviews_exec.v0+json": "",
      "text/html": [
       "<div id='3579'>\n",
       "\n",
       "\n",
       "\n",
       "\n",
       "\n",
       "  <div class=\"bk-root\" id=\"aaa6a914-f2df-45db-b94c-7aecb7d961ae\" data-root-id=\"3579\"></div>\n",
       "</div>\n",
       "<script type=\"application/javascript\">(function(root) {\n",
       "  function embed_document(root) {\n",
       "    var docs_json = {\"b5f28142-26d5-480f-b60d-bcf839b5676c\":{\"roots\":{\"references\":[{\"attributes\":{\"format\":null,\"margin\":[5,10,5,10],\"mode\":\"int\",\"placeholder\":\"0\",\"title\":\"Days to exit hatch\",\"value\":8,\"value_throttled\":8},\"id\":\"3586\",\"type\":\"Spinner\"},{\"attributes\":{\"margin\":[5,5,5,5],\"name\":\"Str08068\",\"text\":\"&lt;pre&gt;4900&lt;/pre&gt;\"},\"id\":\"3668\",\"type\":\"panel.models.markup.HTML\"},{\"attributes\":{\"data\":{\"Variable\":[\"Minimum Tokens to Pass\",\"Minimum Tokens for Quorum\"],\"bottom\":{\"__ndarray__\":\"AAAAAAAAAAAAAAAAAOyzQA==\",\"dtype\":\"float64\",\"order\":\"little\",\"shape\":[2]},\"index\":[\"Votes\",\"Votes\"],\"top\":{\"__ndarray__\":\"AAAAAADss0AAAAAAAIjDQA==\",\"dtype\":\"float64\",\"order\":\"little\",\"shape\":[2]},\"value\":{\"__ndarray__\":\"AAAAAADss0AAAAAAACSzQA==\",\"dtype\":\"float64\",\"order\":\"little\",\"shape\":[2]}},\"selected\":{\"id\":\"3625\"},\"selection_policy\":{\"id\":\"3639\"}},\"id\":\"3624\",\"type\":\"ColumnDataSource\"},{\"attributes\":{\"children\":[{\"id\":\"3580\"},{\"id\":\"3589\"}],\"margin\":[0,0,0,0],\"name\":\"Column08078\"},\"id\":\"3579\",\"type\":\"Column\"},{\"attributes\":{},\"id\":\"3614\",\"type\":\"ResetTool\"},{\"attributes\":{\"bottom\":{\"field\":\"bottom\"},\"fill_color\":{\"field\":\"Variable\",\"transform\":{\"id\":\"3623\"}},\"top\":{\"field\":\"top\"},\"width\":{\"value\":0.8},\"x\":{\"field\":\"index\"}},\"id\":\"3627\",\"type\":\"VBar\"},{\"attributes\":{\"axis_label\":\"\",\"bounds\":\"auto\",\"formatter\":{\"id\":\"3634\"},\"major_label_orientation\":\"horizontal\",\"ticker\":{\"id\":\"3604\"}},\"id\":\"3603\",\"type\":\"CategoricalAxis\"},{\"attributes\":{\"overlay\":{\"id\":\"3615\"}},\"id\":\"3613\",\"type\":\"BoxZoomTool\"},{\"attributes\":{\"disabled\":true,\"format\":null,\"margin\":[5,10,5,10],\"placeholder\":\"0\",\"step\":0.1,\"title\":\"Total tokens\",\"value\":1000000.0,\"value_throttled\":1000000.0},\"id\":\"3582\",\"type\":\"Spinner\"},{\"attributes\":{},\"id\":\"3601\",\"type\":\"LinearScale\"},{\"attributes\":{\"factors\":[\"Votes\"],\"tags\":[[[\"index\",\"index\",null]]]},\"id\":\"3591\",\"type\":\"FactorRange\"},{\"attributes\":{\"text\":\"\",\"text_color\":{\"value\":\"black\"},\"text_font_size\":{\"value\":\"12pt\"}},\"id\":\"3595\",\"type\":\"Title\"},{\"attributes\":{\"css_classes\":[\"markdown\"],\"margin\":[5,5,5,5],\"name\":\"Markdown08062\",\"text\":\"&lt;p&gt;Minimum Tokens to Pass a Vote: &lt;/p&gt;\"},\"id\":\"3665\",\"type\":\"panel.models.markup.HTML\"},{\"attributes\":{\"axis\":{\"id\":\"3606\"},\"dimension\":1,\"grid_line_color\":null,\"ticker\":null},\"id\":\"3609\",\"type\":\"Grid\"},{\"attributes\":{\"end\":100,\"format\":\"0[.]00\",\"margin\":[5,10,5,10],\"start\":1,\"step\":0.1,\"title\":\"Maximum number proposals per month\",\"value\":10,\"value_throttled\":10},\"id\":\"3588\",\"type\":\"Slider\"},{\"attributes\":{\"children\":[{\"id\":\"3581\"},{\"id\":\"3582\"},{\"id\":\"3583\"},{\"id\":\"3584\"},{\"id\":\"3585\"},{\"id\":\"3586\"},{\"id\":\"3587\"},{\"id\":\"3588\"}],\"margin\":[5,5,5,5],\"min_width\":300,\"name\":\"DandelionVoting\",\"width\":300},\"id\":\"3580\",\"type\":\"Column\"},{\"attributes\":{},\"id\":\"3634\",\"type\":\"CategoricalTickFormatter\"},{\"attributes\":{},\"id\":\"3607\",\"type\":\"BasicTicker\"},{\"attributes\":{\"children\":[{\"id\":\"3663\"},{\"id\":\"3664\"},{\"id\":\"3665\"},{\"id\":\"3666\"},{\"id\":\"3667\"},{\"id\":\"3668\"}],\"margin\":[0,0,0,0],\"name\":\"Column08070\"},\"id\":\"3662\",\"type\":\"Column\"},{\"attributes\":{\"client_comm_id\":\"cd4a8d96923e4f3f9649ae5371507d2c\",\"comm_id\":\"3eb31fdf48504f53a815a74cdd92c4f2\",\"plot_id\":\"3579\"},\"id\":\"3693\",\"type\":\"panel.models.comm_manager.CommManager\"},{\"attributes\":{\"data_source\":{\"id\":\"3624\"},\"glyph\":{\"id\":\"3627\"},\"hover_glyph\":null,\"muted_glyph\":{\"id\":\"3629\"},\"nonselection_glyph\":{\"id\":\"3628\"},\"selection_glyph\":null,\"view\":{\"id\":\"3631\"}},\"id\":\"3630\",\"type\":\"GlyphRenderer\"},{\"attributes\":{},\"id\":\"3636\",\"type\":\"BasicTickFormatter\"},{\"attributes\":{},\"id\":\"3604\",\"type\":\"CategoricalTicker\"},{\"attributes\":{\"end\":1000000.0,\"reset_end\":1000000.0,\"reset_start\":0,\"tags\":[[[\"value\",\"value\",null]]]},\"id\":\"3592\",\"type\":\"Range1d\"},{\"attributes\":{\"bottom\":{\"field\":\"bottom\"},\"fill_alpha\":{\"value\":0.1},\"fill_color\":{\"field\":\"Variable\",\"transform\":{\"id\":\"3623\"}},\"line_alpha\":{\"value\":0.1},\"top\":{\"field\":\"top\"},\"width\":{\"value\":0.8},\"x\":{\"field\":\"index\"}},\"id\":\"3628\",\"type\":\"VBar\"},{\"attributes\":{\"margin\":[5,5,5,5],\"name\":\"Str08060\",\"text\":\"&lt;pre&gt;10000&lt;/pre&gt;\"},\"id\":\"3664\",\"type\":\"panel.models.markup.HTML\"},{\"attributes\":{\"bottom_units\":\"screen\",\"fill_alpha\":0.5,\"fill_color\":\"lightgrey\",\"left_units\":\"screen\",\"level\":\"overlay\",\"line_alpha\":1.0,\"line_color\":\"black\",\"line_dash\":[4,4],\"line_width\":2,\"right_units\":\"screen\",\"top_units\":\"screen\"},\"id\":\"3615\",\"type\":\"BoxAnnotation\"},{\"attributes\":{},\"id\":\"3639\",\"type\":\"UnionRenderers\"},{\"attributes\":{\"axis\":{\"id\":\"3603\"},\"grid_line_color\":null,\"ticker\":null},\"id\":\"3605\",\"type\":\"Grid\"},{\"attributes\":{\"end\":100,\"format\":\"0[.]00\",\"margin\":[5,10,5,10],\"start\":0,\"title\":\"Days to vote on proposal\",\"value\":54,\"value_throttled\":54},\"id\":\"3585\",\"type\":\"Slider\"},{\"attributes\":{\"css_classes\":[\"markdown\"],\"margin\":[5,5,5,5],\"name\":\"Markdown08058\",\"text\":\"&lt;p&gt;Minimum Tokens to Meet Quorum: &lt;/p&gt;\"},\"id\":\"3663\",\"type\":\"panel.models.markup.HTML\"},{\"attributes\":{\"bottom\":{\"field\":\"bottom\"},\"fill_alpha\":{\"value\":0.2},\"fill_color\":{\"field\":\"Variable\",\"transform\":{\"id\":\"3623\"}},\"line_alpha\":{\"value\":0.2},\"top\":{\"field\":\"top\"},\"width\":{\"value\":0.8},\"x\":{\"field\":\"index\"}},\"id\":\"3629\",\"type\":\"VBar\"},{\"attributes\":{\"margin\":[5,10,5,10],\"name\":\"\",\"text\":\"<b>DandelionVoting</b>\"},\"id\":\"3581\",\"type\":\"Div\"},{\"attributes\":{\"format\":null,\"margin\":[5,10,5,10],\"placeholder\":\"0\",\"title\":\"Cost to make a proposal\",\"value\":3,\"value_throttled\":3},\"id\":\"3587\",\"type\":\"Spinner\"},{\"attributes\":{\"below\":[{\"id\":\"3603\"}],\"center\":[{\"id\":\"3605\"},{\"id\":\"3609\"},{\"id\":\"3640\"}],\"left\":[{\"id\":\"3606\"}],\"margin\":[5,5,5,5],\"min_border_bottom\":10,\"min_border_left\":10,\"min_border_right\":10,\"min_border_top\":10,\"plot_height\":300,\"plot_width\":700,\"renderers\":[{\"id\":\"3630\"}],\"right\":[{\"id\":\"3640\"}],\"sizing_mode\":\"fixed\",\"title\":{\"id\":\"3595\"},\"toolbar\":{\"id\":\"3616\"},\"x_range\":{\"id\":\"3591\"},\"x_scale\":{\"id\":\"3599\"},\"y_range\":{\"id\":\"3592\"},\"y_scale\":{\"id\":\"3601\"}},\"id\":\"3594\",\"subtype\":\"Figure\",\"type\":\"Plot\"},{\"attributes\":{},\"id\":\"3599\",\"type\":\"CategoricalScale\"},{\"attributes\":{\"factors\":[\"Minimum Tokens to Pass\",\"Minimum Tokens for Quorum\"],\"palette\":[\"#0F2EEE\",\"#0b0a15\"]},\"id\":\"3623\",\"type\":\"CategoricalColorMapper\"},{\"attributes\":{\"end\":0.9,\"format\":\"0[.]00\",\"margin\":[5,10,5,10],\"start\":0.5,\"step\":0.01,\"title\":\"Support required\",\"value\":0.51,\"value_throttled\":0.51},\"id\":\"3584\",\"type\":\"Slider\"},{\"attributes\":{\"margin\":[5,5,5,5],\"name\":\"Str08064\",\"text\":\"&lt;pre&gt;5100&lt;/pre&gt;\"},\"id\":\"3666\",\"type\":\"panel.models.markup.HTML\"},{\"attributes\":{},\"id\":\"3625\",\"type\":\"Selection\"},{\"attributes\":{\"axis_label\":\"\",\"bounds\":\"auto\",\"formatter\":{\"id\":\"3636\"},\"major_label_orientation\":\"horizontal\",\"ticker\":{\"id\":\"3607\"}},\"id\":\"3606\",\"type\":\"LinearAxis\"},{\"attributes\":{\"items\":[{\"id\":\"3641\"}],\"location\":[0,0]},\"id\":\"3640\",\"type\":\"Legend\"},{\"attributes\":{\"end\":1,\"format\":\"0[.]00\",\"margin\":[5,10,5,10],\"start\":0,\"step\":0.01,\"title\":\"Minimum quorum\",\"value\":0.01,\"value_throttled\":0.01},\"id\":\"3583\",\"type\":\"Slider\"},{\"attributes\":{\"css_classes\":[\"markdown\"],\"margin\":[5,5,5,5],\"name\":\"Markdown08066\",\"text\":\"&lt;p&gt;Minimum Tokens to Block a Vote: &lt;/p&gt;\"},\"id\":\"3667\",\"type\":\"panel.models.markup.HTML\"},{\"attributes\":{\"active_drag\":\"auto\",\"active_inspect\":\"auto\",\"active_multi\":null,\"active_scroll\":\"auto\",\"active_tap\":\"auto\",\"tools\":[{\"id\":\"3593\"},{\"id\":\"3610\"},{\"id\":\"3611\"},{\"id\":\"3612\"},{\"id\":\"3613\"},{\"id\":\"3614\"}]},\"id\":\"3616\",\"type\":\"Toolbar\"},{\"attributes\":{},\"id\":\"3611\",\"type\":\"PanTool\"},{\"attributes\":{},\"id\":\"3610\",\"type\":\"SaveTool\"},{\"attributes\":{},\"id\":\"3612\",\"type\":\"WheelZoomTool\"},{\"attributes\":{\"children\":[{\"id\":\"3594\"},{\"id\":\"3662\"}],\"margin\":[0,0,0,0],\"name\":\"Row08076\"},\"id\":\"3590\",\"type\":\"Row\"},{\"attributes\":{\"source\":{\"id\":\"3624\"}},\"id\":\"3631\",\"type\":\"CDSView\"},{\"attributes\":{\"label\":{\"field\":\"Variable\"},\"renderers\":[{\"id\":\"3630\"}]},\"id\":\"3641\",\"type\":\"LegendItem\"},{\"attributes\":{\"callback\":null,\"renderers\":[{\"id\":\"3630\"}],\"tags\":[\"hv_created\"],\"tooltips\":[[\"index\",\"@{index}\"],[\"Variable\",\"@{Variable}\"],[\"value\",\"@{value}\"]]},\"id\":\"3593\",\"type\":\"HoverTool\"},{\"attributes\":{\"children\":[{\"id\":\"3590\"}],\"margin\":[0,0,0,0],\"name\":\"Row07962\"},\"id\":\"3589\",\"type\":\"Row\"}],\"root_ids\":[\"3579\",\"3693\"]},\"title\":\"Bokeh Application\",\"version\":\"2.2.3\"}};\n",
       "    var render_items = [{\"docid\":\"b5f28142-26d5-480f-b60d-bcf839b5676c\",\"root_ids\":[\"3579\"],\"roots\":{\"3579\":\"aaa6a914-f2df-45db-b94c-7aecb7d961ae\"}}];\n",
       "    root.Bokeh.embed.embed_items_notebook(docs_json, render_items);\n",
       "  }\n",
       "  if (root.Bokeh !== undefined && root.Bokeh.Panel !== undefined) {\n",
       "    embed_document(root);\n",
       "  } else {\n",
       "    var attempts = 0;\n",
       "    var timer = setInterval(function(root) {\n",
       "      if (root.Bokeh !== undefined && root.Bokeh.Panel !== undefined) {\n",
       "        clearInterval(timer);\n",
       "        embed_document(root);\n",
       "      } else if (document.readyState == \"complete\") {\n",
       "        attempts++;\n",
       "        if (attempts > 100) {\n",
       "          clearInterval(timer);\n",
       "          console.log(\"Bokeh: ERROR: Unable to run BokehJS code because BokehJS library is missing\");\n",
       "        }\n",
       "      }\n",
       "    }, 10, root)\n",
       "  }\n",
       "})(window);</script>"
      ],
      "text/plain": [
       "Column\n",
       "    [0] Column(margin=5, name='DandelionVoting', width=300)\n",
       "        [0] StaticText(value='<b>DandelionVoting</b>')\n",
       "        [1] FloatInput(disabled=True, name='Total tokens', value=1000000.0, value_throttled=1000000.0)\n",
       "        [2] FloatSlider(name='Minimum quorum', step=0.01, value=0.01, value_throttled=0.01)\n",
       "        [3] FloatSlider(end=0.9, name='Support required', start=0.5, step=0.01, value=0.51, value_throttled=0.51)\n",
       "        [4] IntSlider(end=100, name='Days to vote o..., value=54, value_throttled=54)\n",
       "        [5] IntInput(name='Days to exit hatch', value=8, value_throttled=8)\n",
       "        [6] FloatInput(name='Cost to make a proposal', step=1, value=3, value_throttled=3)\n",
       "        [7] FloatSlider(end=100, name='Maximum number p..., start=1, value=10, value_throttled=10)\n",
       "    [1] ParamMethod(method)"
      ]
     },
     "execution_count": 10,
     "metadata": {
      "application/vnd.holoviews_exec.v0+json": {
       "id": "3579"
      }
     },
     "output_type": "execute_result"
    }
   ],
   "source": [
    "pn.Column(d, d.view)"
   ]
  },
  {
   "cell_type": "code",
   "execution_count": 11,
   "metadata": {},
   "outputs": [],
   "source": [
    "class Hatch(param.Parameterized):\n",
    "    # CSTK Ratio\n",
    "    total_cstk_tokens = param.Number(700000, constant=True)\n",
    "    hatch_oracle_ratio = param.Number(0.005, constant=True)\n",
    "    @param.depends('hatch_oracle_ratio', 'total_cstk_tokens')\n",
    "    def wxdai_range(self):\n",
    "        return pn.Row(pn.Pane(\"Cap on wxdai staked: \"), self.hatch_oracle_ratio * self.total_cstk_tokens)\n",
    "    \n",
    "    # Min and Target Goals\n",
    "    min_goal = param.Number(5, bounds=(1,100), step=10)\n",
    "    max_goal = param.Number(1000, bounds=(100,10000), step=50) # Something to consider -> target goal or max goal\n",
    "    \n",
    "    # Hatch params\n",
    "    hatch_period = param.Integer(15, bounds=(5, 30), step=2)\n",
    "    hatch_exchange_rate = param.Number() # This needs to be tested and explained -> See the forum post\n",
    "    hatch_tribute = param.Number(0.05, bounds=(0,1))    "
   ]
  },
  {
   "cell_type": "code",
   "execution_count": 12,
   "metadata": {},
   "outputs": [
    {
     "data": {},
     "metadata": {},
     "output_type": "display_data"
    },
    {
     "data": {
      "application/vnd.holoviews_exec.v0+json": "",
      "text/html": [
       "<div id='12022'>\n",
       "\n",
       "\n",
       "\n",
       "\n",
       "\n",
       "  <div class=\"bk-root\" id=\"330663b9-0778-40d3-b012-1b75331b1986\" data-root-id=\"12022\"></div>\n",
       "</div>\n",
       "<script type=\"application/javascript\">(function(root) {\n",
       "  function embed_document(root) {\n",
       "    var docs_json = {\"c53c2584-6301-4d6b-9094-ceadb171b7a7\":{\"roots\":{\"references\":[{\"attributes\":{\"end\":30,\"format\":\"0[.]00\",\"margin\":[5,10,5,10],\"start\":5,\"step\":2,\"title\":\"Hatch period\",\"value\":15,\"value_throttled\":15},\"id\":\"12028\",\"type\":\"Slider\"},{\"attributes\":{\"disabled\":true,\"format\":null,\"margin\":[5,10,5,10],\"placeholder\":\"0\",\"step\":0.1,\"title\":\"Total cstk tokens\",\"value\":700000,\"value_throttled\":700000},\"id\":\"12024\",\"type\":\"Spinner\"},{\"attributes\":{\"end\":1,\"format\":\"0[.]00\",\"margin\":[5,10,5,10],\"start\":0,\"step\":0.1,\"title\":\"Hatch tribute\",\"value\":0.05,\"value_throttled\":0.05},\"id\":\"12030\",\"type\":\"Slider\"},{\"attributes\":{\"client_comm_id\":\"73d6778c120a4ad08f9718f49c97166c\",\"comm_id\":\"cefde3ba064046818d77ecc75f46b300\",\"plot_id\":\"12022\"},\"id\":\"12031\",\"type\":\"panel.models.comm_manager.CommManager\"},{\"attributes\":{\"children\":[{\"id\":\"12023\"},{\"id\":\"12024\"},{\"id\":\"12025\"},{\"id\":\"12026\"},{\"id\":\"12027\"},{\"id\":\"12028\"},{\"id\":\"12029\"},{\"id\":\"12030\"}],\"margin\":[5,5,5,5],\"min_width\":300,\"name\":\"Hatch\",\"width\":300},\"id\":\"12022\",\"type\":\"Column\"},{\"attributes\":{\"end\":10000,\"format\":\"0[.]00\",\"margin\":[5,10,5,10],\"start\":100,\"step\":50,\"title\":\"Max goal\",\"value\":1000,\"value_throttled\":1000},\"id\":\"12027\",\"type\":\"Slider\"},{\"attributes\":{\"margin\":[5,10,5,10],\"name\":\"\",\"text\":\"<b>Hatch</b>\"},\"id\":\"12023\",\"type\":\"Div\"},{\"attributes\":{\"format\":null,\"margin\":[5,10,5,10],\"placeholder\":\"0\",\"step\":0.1,\"title\":\"Hatch exchange rate\",\"value\":0.0,\"value_throttled\":0.0},\"id\":\"12029\",\"type\":\"Spinner\"},{\"attributes\":{\"disabled\":true,\"format\":null,\"margin\":[5,10,5,10],\"placeholder\":\"0\",\"step\":0.1,\"title\":\"Hatch oracle ratio\",\"value\":0.005,\"value_throttled\":0.005},\"id\":\"12025\",\"type\":\"Spinner\"},{\"attributes\":{\"end\":100,\"format\":\"0[.]00\",\"margin\":[5,10,5,10],\"start\":1,\"step\":10,\"title\":\"Min goal\",\"value\":5,\"value_throttled\":5},\"id\":\"12026\",\"type\":\"Slider\"}],\"root_ids\":[\"12022\",\"12031\"]},\"title\":\"Bokeh Application\",\"version\":\"2.2.3\"}};\n",
       "    var render_items = [{\"docid\":\"c53c2584-6301-4d6b-9094-ceadb171b7a7\",\"root_ids\":[\"12022\"],\"roots\":{\"12022\":\"330663b9-0778-40d3-b012-1b75331b1986\"}}];\n",
       "    root.Bokeh.embed.embed_items_notebook(docs_json, render_items);\n",
       "  }\n",
       "  if (root.Bokeh !== undefined && root.Bokeh.Panel !== undefined) {\n",
       "    embed_document(root);\n",
       "  } else {\n",
       "    var attempts = 0;\n",
       "    var timer = setInterval(function(root) {\n",
       "      if (root.Bokeh !== undefined && root.Bokeh.Panel !== undefined) {\n",
       "        clearInterval(timer);\n",
       "        embed_document(root);\n",
       "      } else if (document.readyState == \"complete\") {\n",
       "        attempts++;\n",
       "        if (attempts > 100) {\n",
       "          clearInterval(timer);\n",
       "          console.log(\"Bokeh: ERROR: Unable to run BokehJS code because BokehJS library is missing\");\n",
       "        }\n",
       "      }\n",
       "    }, 10, root)\n",
       "  }\n",
       "})(window);</script>"
      ],
      "text/plain": [
       "Param(Hatch)"
      ]
     },
     "execution_count": 12,
     "metadata": {
      "application/vnd.holoviews_exec.v0+json": {
       "id": "12022"
      }
     },
     "output_type": "execute_result"
    }
   ],
   "source": [
    "h = Hatch()\n",
    "\n",
    "pn.Pane(h)"
   ]
  },
  {
   "cell_type": "code",
   "execution_count": 15,
   "metadata": {},
   "outputs": [
    {
     "name": "stdout",
     "output_type": "stream",
     "text": [
      "Collecting openpyxl\n",
      "  Downloading openpyxl-3.0.6-py2.py3-none-any.whl (242 kB)\n",
      "\u001b[K     |████████████████████████████████| 242 kB 6.3 MB/s eta 0:00:01\n",
      "\u001b[?25hProcessing /home/shawn/.cache/pip/wheels/6e/df/38/abda47b884e3e25f9f9b6430e5ce44c47670758a50c0c51759/et_xmlfile-1.0.1-py3-none-any.whl\n",
      "Collecting jdcal\n",
      "  Using cached jdcal-1.4.1-py2.py3-none-any.whl (9.5 kB)\n",
      "Installing collected packages: et-xmlfile, jdcal, openpyxl\n",
      "Successfully installed et-xmlfile-1.0.1 jdcal-1.4.1 openpyxl-3.0.6\n",
      "Note: you may need to restart the kernel to use updated packages.\n"
     ]
    }
   ],
   "source": [
    "pip install openpyxl"
   ]
  },
  {
   "cell_type": "code",
   "execution_count": 16,
   "metadata": {},
   "outputs": [
    {
     "data": {},
     "metadata": {},
     "output_type": "display_data"
    },
    {
     "data": {},
     "metadata": {},
     "output_type": "display_data"
    },
    {
     "data": {
      "application/vnd.holoviews_exec.v0+json": "",
      "text/html": [
       "<div id='12032'>\n",
       "\n",
       "\n",
       "\n",
       "\n",
       "\n",
       "  <div class=\"bk-root\" id=\"0afc13ae-a375-4e4d-862e-8fd1b26bdf16\" data-root-id=\"12032\"></div>\n",
       "</div>\n",
       "<script type=\"application/javascript\">(function(root) {\n",
       "  function embed_document(root) {\n",
       "    var docs_json = {\"a8153169-6500-4889-bbba-0a20a23b3b71\":{\"roots\":{\"references\":[{\"attributes\":{},\"id\":\"12065\",\"type\":\"StringFormatter\"},{\"attributes\":{},\"id\":\"12051\",\"type\":\"DateEditor\"},{\"attributes\":{\"client_comm_id\":\"2096f6c2e9ee4b68899f21752ade22d4\",\"comm_id\":\"eba6b88eaf104065b390e097e689a4b4\",\"plot_id\":\"12032\"},\"id\":\"12116\",\"type\":\"panel.models.comm_manager.CommManager\"},{\"attributes\":{},\"id\":\"12035\",\"type\":\"StringFormatter\"},{\"attributes\":{\"data\":{\"Actual_over_Predicted\":[\"Actual\",\"Actual\",\"Actual\",\"Actual\",\"Actual\",\"Actual\",\"Actual\",\"Predicted\",\"Predicted\",\"Predicted\",\"Predicted\",\"Predicted\",\"Predicted\",\"Predicted\",\"Actual\",\"Actual\",\"Actual\",\"Actual\",\"Actual\",\"Actual\",\"Actual\",\"Predicted\",\"Predicted\",\"Predicted\",\"Predicted\",\"Predicted\",\"Predicted\",\"Predicted\"],\"Change_in_Impact_hours_from_previous_round\":{\"__ndarray__\":\"AiuHFtl+WUAzMzMzM3tcQJqZmZmZmZm/cT0K16NoYEBWDi2ynUdbQLe075GaOiLAy0dS0kNubcAwO9VrhBZzQCiNA3WroVJAKI0DdauhUkAojQN1q6FSQCiNA3WroVJAKI0DdauhUkAojQN1q6FSQAIrhxbZfllAMzMzMzN7XECamZmZmZmZv3E9CtejaGBAVg4tsp1HW0C3tO+RmjoiwMtHUtJDbm3AMA4uHTPcbEAAAAAAAAAAAAAAAAAAAAAAAAAAAAAAAAAAAAAAAAAAAAAAAAAAAAAAAAAAAAAAAAA=\",\"dtype\":\"float64\",\"order\":\"little\",\"shape\":[28]},\"End_Date\":{\"__ndarray__\":\"AAAAhKpQd0IAAIAULFV3QgAAAKWtWXdCAACANS9ed0IAAADGsGJ3QgAAgFYyZ3dCAAAA57Nrd0IAAIB3NXB3QgAAAAi3dHdCAACAmDh5d0IAAAApun13QgAAgLk7gndCAAAASr2Gd0IAAIDaPot3QgAAAISqUHdCAACAFCxVd0IAAAClrVl3QgAAgDUvXndCAAAAxrBid0IAAIBWMmd3QgAAAOeza3dCAACAdzVwd0IAAAAIt3R3QgAAgJg4eXdCAAAAKbp9d0IAAIC5O4J3QgAAAEq9hndCAACA2j6Ld0I=\",\"dtype\":\"float64\",\"order\":\"little\",\"shape\":[28]},\"Min_Goal_commercial_at_10_IH_over_hr_ampersand_15_percent_Tribute\":{\"__ndarray__\":\"ZmZmZiZX5EBmZmZmxjztQMAJhYgYEfNAMzMzM8Om+UCoNc27iwEBQeXyH9K4HAVBTfOO02JNB0Fjf9m9UPoLQaJFtvNAoRBBW0I+KPuSE0HdtYT8VtIWQSegiXBUXxpBOwFNhPM5HkGLbOcbGjEhQWZmZmYmV+RAZmZmZsY87UDACYWIGBHzQDMzMzPDpvlAqDXNu4sBAUHl8h/SuBwFQU3zjtNiTQdB0ZFcfg1fC0GPwvUouHAPQad5x2kxwRFB6UguvwbKE0FI4XoU3NIVQad5x2mx2xdB6Uguv4bkGUE=\",\"dtype\":\"float64\",\"order\":\"little\",\"shape\":[28]},\"Min_Goal_commercial_at_10_IH_over_hr_ampersand_20_percent_Tribute\":{\"__ndarray__\":\"mpmZmbmC3kDNzMzMlO3lQM3MzMykmexAZmZmZhI980CamZmZUYL5QB1aZDsVq/9A7FG4Hgp6AUEZBFaOvPsEQXNokW3h8QhB+n5qvHhcDUHXo3A9wR0RQWWqYFR/xxNB7MA5o3arFkGKsOEpp8kZQZqZmZm5gt5AzczMzJTt5UDNzMzMpJnsQGZmZmYSPfNAmpmZmVGC+UAdWmQ7Fav/QOxRuB4KegFB7FG4HkqHBEHsUbgeipQHQexRuB7KoQpB7FG4HgqvDUH2KFwPJV4QQfYoXA/F5BFB9ihcD2VrE0E=\",\"dtype\":\"float64\",\"order\":\"little\",\"shape\":[28]},\"Min_Goal_commercial_at_15_DAI_over_IH_ampersand_15_percent_Tribute\":{\"__ndarray__\":\"mpmZmbmC7kDNzMzMlO31QM3MzMykmfxAZmZmZhI9A0GamZmZUYIJQVfsLzsVqw9B7FG4Hgp6EUEZBFaOvPsUQXNokW3h8RhBF0hQvHhcHUFmiGM9wR0hQdbFbVR/xyNB7MA5o3arJkEYldQpp8kpQZqZmZm5gu5AzczMzJTt9UDNzMzMpJn8QGZmZmYSPQNBmpmZmVGCCUFX7C87FasPQexRuB4KehFB7FG4HkqHFEHsUbgeipQXQexRuB7KoRpB7FG4HgqvHUH2KFwPJV4gQfYoXA/F5CFB9ihcD2VrI0E=\",\"dtype\":\"float64\",\"order\":\"little\",\"shape\":[28]},\"Round\":[2,3,4,5,6,7,8,9,10,11,12,13,14,15,2,3,4,5,6,7,8,9,10,11,12,13,14,15],\"Total_Hours\":{\"__ndarray__\":\"FK5H4XrsY0DXo3A9ChVxQHE9CtejFHFAKVyPwvVIeUDfT42Xbg2AQGgMi1oIiX9A1XdgcebRcEAMGp9uNfSBQBg0Pt1qSIRAJE7dS6CchkAwaHy61fCIQDbuKCkLRYtAQgjIl0CZjUBpcjEGdu2PQBSuR+F67GNA16NwPQoVcUBxPQrXoxRxQClcj8L1SHlA30+Nl24NgEBoDItaCIl/QNV3YHHm0XBAAAAAAABAf0AAAAAAAEB/QAAAAAAAQH9AAAAAAABAf0AAAAAAAEB/QAAAAAAAQH9AAAAAAABAf0A=\",\"dtype\":\"float64\",\"order\":\"little\",\"shape\":[28]},\"Total_IH\":{\"__ndarray__\":\"vp8aL92Gg0Cq8dJNYhGMQDEIrBzaTZJAO99PjRegmECWQ4tsZ1OgQDjAzHeIRKRATKYKRsVepkDOx7Wh0tuqQNAKDFnt7a9As/D1tYrKskC1M0xtpei1QHkHeNJGUblABaVo5W4EvUCpaRfTDoHAQL6fGi/dhoNAqvHSTWIRjEAxCKwc2k2SQDvfT40XoJhAlkOLbGdToEA4wMx3iESkQEymCkbFXqZATKYKRsVGqkBMpgpGxS6uQCZTBaNiC7FAJlMFo2L/skAmUwWjYvO0QCZTBaNi57ZAJlMFo2LbuEA=\",\"dtype\":\"float64\",\"order\":\"little\",\"shape\":[28]}},\"selected\":{\"id\":\"12034\"},\"selection_policy\":{\"id\":\"12083\"}},\"id\":\"12033\",\"type\":\"ColumnDataSource\"},{\"attributes\":{},\"id\":\"12066\",\"type\":\"StringEditor\"},{\"attributes\":{\"editor\":{\"id\":\"12066\"},\"field\":\"Min_Goal_commercial_at_10_IH_over_hr_ampersand_15_percent_Tribute\",\"formatter\":{\"id\":\"12065\"},\"title\":\"Min Goal @ 10 IH/hr & 15% Tribute\"},\"id\":\"12067\",\"type\":\"TableColumn\"},{\"attributes\":{\"editor\":{\"id\":\"12036\"},\"field\":\"Round\",\"formatter\":{\"id\":\"12035\"},\"title\":\"Round\"},\"id\":\"12037\",\"type\":\"TableColumn\"},{\"attributes\":{\"format\":\"0,0.0[00000]\"},\"id\":\"12093\",\"type\":\"NumberFormatter\"},{\"attributes\":{},\"id\":\"12071\",\"type\":\"StringEditor\"},{\"attributes\":{\"columns\":[{\"id\":\"12090\"},{\"id\":\"12095\"}],\"height\":300,\"reorderable\":false,\"source\":{\"id\":\"12086\"},\"view\":{\"id\":\"12099\"},\"width\":700},\"id\":\"12098\",\"type\":\"DataTable\"},{\"attributes\":{\"editor\":{\"id\":\"12061\"},\"field\":\"Min_Goal_commercial_at_15_DAI_over_IH_ampersand_15_percent_Tribute\",\"formatter\":{\"id\":\"12060\"},\"title\":\"Min Goal @ 15 DAI/IH & 15% Tribute\"},\"id\":\"12062\",\"type\":\"TableColumn\"},{\"attributes\":{},\"id\":\"12034\",\"type\":\"Selection\"},{\"attributes\":{},\"id\":\"12040\",\"type\":\"StringFormatter\"},{\"attributes\":{},\"id\":\"12036\",\"type\":\"StringEditor\"},{\"attributes\":{\"editor\":{\"id\":\"12056\"},\"field\":\"Total_IH\",\"formatter\":{\"id\":\"12055\"},\"title\":\"Total IH\"},\"id\":\"12057\",\"type\":\"TableColumn\"},{\"attributes\":{},\"id\":\"12087\",\"type\":\"Selection\"},{\"attributes\":{\"source\":{\"id\":\"12033\"}},\"id\":\"12081\",\"type\":\"CDSView\"},{\"attributes\":{},\"id\":\"12045\",\"type\":\"StringFormatter\"},{\"attributes\":{},\"id\":\"12056\",\"type\":\"StringEditor\"},{\"attributes\":{},\"id\":\"12088\",\"type\":\"StringFormatter\"},{\"attributes\":{\"editor\":{\"id\":\"12094\"},\"field\":\"Impact_Hours\",\"formatter\":{\"id\":\"12093\"},\"title\":\"Impact Hours\"},\"id\":\"12095\",\"type\":\"TableColumn\"},{\"attributes\":{},\"id\":\"12060\",\"type\":\"StringFormatter\"},{\"attributes\":{},\"id\":\"12046\",\"type\":\"StringEditor\"},{\"attributes\":{\"editor\":{\"id\":\"12041\"},\"field\":\"Total_Hours\",\"formatter\":{\"id\":\"12040\"},\"title\":\"Total Hours\"},\"id\":\"12042\",\"type\":\"TableColumn\"},{\"attributes\":{\"columns\":[{\"id\":\"12037\"},{\"id\":\"12042\"},{\"id\":\"12047\"},{\"id\":\"12052\"},{\"id\":\"12057\"},{\"id\":\"12062\"},{\"id\":\"12067\"},{\"id\":\"12072\"},{\"id\":\"12077\"}],\"height\":300,\"reorderable\":false,\"source\":{\"id\":\"12033\"},\"view\":{\"id\":\"12081\"},\"width\":700},\"id\":\"12080\",\"type\":\"DataTable\"},{\"attributes\":{},\"id\":\"12083\",\"type\":\"UnionRenderers\"},{\"attributes\":{\"editor\":{\"id\":\"12051\"},\"field\":\"End_Date\",\"formatter\":{\"id\":\"12050\"},\"title\":\"End Date\"},\"id\":\"12052\",\"type\":\"TableColumn\"},{\"attributes\":{},\"id\":\"12041\",\"type\":\"StringEditor\"},{\"attributes\":{\"editor\":{\"id\":\"12076\"},\"field\":\"Change_in_Impact_hours_from_previous_round\",\"formatter\":{\"id\":\"12075\"},\"title\":\"Change in Impact hours from previous round\"},\"id\":\"12077\",\"type\":\"TableColumn\"},{\"attributes\":{},\"id\":\"12094\",\"type\":\"NumberEditor\"},{\"attributes\":{\"editor\":{\"id\":\"12071\"},\"field\":\"Min_Goal_commercial_at_10_IH_over_hr_ampersand_20_percent_Tribute\",\"formatter\":{\"id\":\"12070\"},\"title\":\"Min Goal @ 10 IH/hr & 20% Tribute\"},\"id\":\"12072\",\"type\":\"TableColumn\"},{\"attributes\":{},\"id\":\"12076\",\"type\":\"StringEditor\"},{\"attributes\":{\"editor\":{\"id\":\"12089\"},\"field\":\"Telegram_Handle\",\"formatter\":{\"id\":\"12088\"},\"title\":\"Telegram Handle\"},\"id\":\"12090\",\"type\":\"TableColumn\"},{\"attributes\":{},\"id\":\"12055\",\"type\":\"StringFormatter\"},{\"attributes\":{\"editor\":{\"id\":\"12046\"},\"field\":\"Actual_over_Predicted\",\"formatter\":{\"id\":\"12045\"},\"title\":\"Actual / Predicted\"},\"id\":\"12047\",\"type\":\"TableColumn\"},{\"attributes\":{\"children\":[{\"id\":\"12080\"},{\"id\":\"12098\"}],\"margin\":[0,0,0,0],\"name\":\"Row38381\"},\"id\":\"12032\",\"type\":\"Row\"},{\"attributes\":{},\"id\":\"12061\",\"type\":\"StringEditor\"},{\"attributes\":{\"source\":{\"id\":\"12086\"}},\"id\":\"12099\",\"type\":\"CDSView\"},{\"attributes\":{},\"id\":\"12101\",\"type\":\"UnionRenderers\"},{\"attributes\":{},\"id\":\"12070\",\"type\":\"StringFormatter\"},{\"attributes\":{},\"id\":\"12075\",\"type\":\"StringFormatter\"},{\"attributes\":{},\"id\":\"12089\",\"type\":\"StringEditor\"},{\"attributes\":{\"data\":{\"Impact_Hours\":{\"__ndarray__\":\"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\",\"dtype\":\"float64\",\"order\":\"little\",\"shape\":[199]},\"Telegram_Handle\":[\"sembrestels\",\"santigs67\",\"zeptimusq\",\"cranders71\",\"akrtws\",\"ygganderson\",\"solsista\",\"jessicazartler\",\"tonga2020\",\"juankbell\",\"mateodaza\",\"manualzuru\",\"durgadasji\",\"jeffemmett\",\"lkngtn\",\"randomshinichi\",\"vegayp\",\"freedumbs00\",\"liviade\",\"vntrp\",\"griffgreen\",\"paulo_c2d\",\"mzargham\",\"daithic\",\"hbesso31\",\"blairv\",\"loie_giveth\",\"quartagiulio\",\"sponnet2\",\"fabianvb\",\"fiorebotta\",\"rodrigouy\",\"xgabi\",\"danlessa\",\"fvigevani\",\"sgonzt\",\"abchewey\",\"tannra\",\"willjgriff\",\"aminlatifi\",\"burrrata\",\"markop\",\"gracerachmany\",\"jonathanbsci\",\"niranb\",\"benjaminscholtz\",\"tam2140\",\"rosamoc\",\"rubenrussel7\",\"elihanover\",\"dulcedu\",\"tylerdmace\",\"naynaysoo\",\"jonassft\",\"vitormarthendal\",\"fabimol\",\"d8n13l\",\"anjablaj\",\"marinam00\",\"danibelle\",\"simunstrukan\",\"knobsdao\",\"krrisis\",\"vivszaid\",\"auryn_macmillan\",\"felixfalafel\",\"geleeroyale\",\"lbagic\",\"katalenacaban\",\"aaron_soskin\",\"merlinegalite\",\"trentmc0\",\"freddbomba\",\"iviangita\",\"jakublanc\",\"owocki\",\"phil_h\",\"fabiosmendes\",\"stephen_yo\",\"atacas\",\"gfriis\",\"aidanbrodieo\",\"jameszaki\",\"crypt0dawg\",\"krisjones\",\"simondlr\",\"krisparuch\",\"rpp63\",\"willruddick\",\"bierlingm\",\"coachb\",\"wslyvh\",\"glefevre\",\"anthonyoliai\",\"juliet_myea\",\"castall\",\"sbilbao\",\"monstros1ty\",\"thelastjosh\",\"ivanthinking\",\"cpt_grog\",\"tech_digger\",\"staccop2p\",\"gcrewe\",\"alexholman\",\"wertuals\",\"sepu85\",\"yalormewn\",\"metaverde\",\"laurenluz\",\"flakoubay\",\"orishim\",\"xlcrr\",\"chriscyber\",\"papa_raw\",\"barnabemonnot\",\"matslats\",\"proofoftom\",\"shrutiappiah1\",\"jamessimbouras\",\"existenialstoic\",\"luukweber\",\"smokyish\",\"lalogarza\",\"officialnico\",\"petheth\",\"witwiki3\",\"renzod5\",\"upaul\",\"macerer\",\"victorid\",\"vasileios_panagiotidis\",\"katebee\",\"revxzx\",\"brutalfluffy\",\"viken33\",\"paxthemax\",\"davidhq\",\"lescanor\",\"jakubgregus\",\"nikoline_nik\",\"positonic\",\"lescanore\",\"santosthegreat\",\"blockchainberlin\",\"unquale\",\"monsterplayaus\",\"cryptononymouseconomist\",\"jwaup\",\"tokenbrice\",\"misterboyfriend\",\"supernova_labs\",\"fenjamin\",\"benjaminaaron\",\"bradym\",\"dazuck\",\"eduadiez\",\"erikbjare\",\"ferdinandrg\",\"jimbobbins\",\"jasselnorm\",\"jamiepitts\",\"nukemandan\",\"wildpau\",\"pacobacpac\",\"ubipromoter\",\"wipabramson\",\"hanna_nevermind\",\"freedumbs\",\"josevicente1\",\"lanski13\",\"meta_dreamer\",\"quentin_hb\",\"wunluv\",\"edapt\",\"adriamb\",\"codersinblack\",\"edendh\",\"econaut6\",\"scupytrooples\",\"paulsalis\",\"nelsonm\",\"morgangr\",\"ethicraul\",\"gijsspoor\",\"hubway\",\"marveloushelper\",\"hxrts\",\"denissrgn\",\"robinwhitney\",\"pimpmypeon\",\"cryptonian_z\",\"tjayrush\",\"asalemalawi\",\"wolfofcurrency\",\"llll79\",\"burningfiat\",\"immortaz\",\"exiledsurfer\"]},\"selected\":{\"id\":\"12087\"},\"selection_policy\":{\"id\":\"12101\"}},\"id\":\"12086\",\"type\":\"ColumnDataSource\"},{\"attributes\":{\"format\":\"%Y-%m-%d %H:%M:%S\"},\"id\":\"12050\",\"type\":\"DateFormatter\"}],\"root_ids\":[\"12032\",\"12116\"]},\"title\":\"Bokeh Application\",\"version\":\"2.2.3\"}};\n",
       "    var render_items = [{\"docid\":\"a8153169-6500-4889-bbba-0a20a23b3b71\",\"root_ids\":[\"12032\"],\"roots\":{\"12032\":\"0afc13ae-a375-4e4d-862e-8fd1b26bdf16\"}}];\n",
       "    root.Bokeh.embed.embed_items_notebook(docs_json, render_items);\n",
       "  }\n",
       "  if (root.Bokeh !== undefined && root.Bokeh.Panel !== undefined) {\n",
       "    embed_document(root);\n",
       "  } else {\n",
       "    var attempts = 0;\n",
       "    var timer = setInterval(function(root) {\n",
       "      if (root.Bokeh !== undefined && root.Bokeh.Panel !== undefined) {\n",
       "        clearInterval(timer);\n",
       "        embed_document(root);\n",
       "      } else if (document.readyState == \"complete\") {\n",
       "        attempts++;\n",
       "        if (attempts > 100) {\n",
       "          clearInterval(timer);\n",
       "          console.log(\"Bokeh: ERROR: Unable to run BokehJS code because BokehJS library is missing\");\n",
       "        }\n",
       "      }\n",
       "    }, 10, root)\n",
       "  }\n",
       "})(window);</script>"
      ],
      "text/plain": [
       "Row\n",
       "    [0] HoloViews(Table)\n",
       "    [1] HoloViews(Table)"
      ]
     },
     "execution_count": 16,
     "metadata": {
      "application/vnd.holoviews_exec.v0+json": {
       "id": "12032"
      }
     },
     "output_type": "execute_result"
    }
   ],
   "source": [
    "import pandas as pd\n",
    "import panel as pn\n",
    "import os\n",
    "import hvplot.pandas\n",
    "APP_PATH = './'\n",
    "\n",
    "sheets = [\n",
    "    \"Total Impact Hours so far\", \n",
    "    \"IH Predictions\", \n",
    "    \"#8 Jan 1\",\n",
    "    \"#7 Dec 18\",\n",
    "    \"#6 Dec 4\",\n",
    "    \"#5 Nov 20\",\n",
    "    \"#4 Nov 6\",\n",
    "    \"#3 Oct 23\",\n",
    "    \"#2 Oct 9\",\n",
    "    \"#1 Sept 24\",\n",
    "    \"#0 Sept 7 (historic)\",\n",
    "] + [f\"#{i} IH Results\" for i in range(9)]\n",
    "sheets = {i:sheet for i, sheet in enumerate(sheets)}\n",
    "\n",
    "def read_excel(sheet_name=\"Total Impact Hours so far\", header=1, index_col=0, usecols=None) -> pd.DataFrame:\n",
    "    data = pd.read_excel(\n",
    "        os.path.join(APP_PATH, \"data\", \"TEC Praise Quantification.xlsx\"),\n",
    "        sheet_name=sheet_name,\n",
    "        engine='openpyxl',\n",
    "        header=header,\n",
    "        index_col=index_col,\n",
    "        usecols=usecols\n",
    "    ).reset_index().dropna(how='any')\n",
    "    return data\n",
    "\n",
    "## Tests\n",
    "total_impact_hours = read_excel()\n",
    "impact_hour_data = read_excel(sheet_name=\"IH Predictions\", header=0, index_col=0, usecols='A:I').drop(index=19)\n",
    "pn.Row(impact_hour_data.hvplot.table(), total_impact_hours.hvplot.table())"
   ]
  },
  {
   "cell_type": "code",
   "execution_count": 17,
   "metadata": {},
   "outputs": [],
   "source": [
    "import numpy as np\n",
    "\n",
    "\n",
    "class ImpactHours(param.Parameterized):\n",
    "    max_ih_rate = param.Number(0.01, bounds=(0,200))\n",
    "    expected_raise_per_ih = param.Number(0.012, bounds=(0,20))\n",
    "\n",
    "    @param.depends('max_ih_rate', 'expected_raise_per_ih')\n",
    "    def impact_hours_rewards(self):\n",
    "        x = np.linspace(h.min_goal, h.max_goal)\n",
    "\n",
    "        R = self.max_ih_rate\n",
    "\n",
    "        m = self.expected_raise_per_ih\n",
    "        \n",
    "        H = total_impact_hours['Impact Hours'].sum()\n",
    "\n",
    "        y = [R* (x / (x + m*H)) for x in x]\n",
    "\n",
    "        df = pd.DataFrame([x,y]).T\n",
    "        df.columns = ['x','y']\n",
    "\n",
    "        return df.hvplot(x='x')"
   ]
  },
  {
   "cell_type": "code",
   "execution_count": 18,
   "metadata": {},
   "outputs": [
    {
     "data": {},
     "metadata": {},
     "output_type": "display_data"
    },
    {
     "data": {},
     "metadata": {},
     "output_type": "display_data"
    },
    {
     "data": {
      "application/vnd.holoviews_exec.v0+json": "",
      "text/html": [
       "<div id='12137'>\n",
       "\n",
       "\n",
       "\n",
       "\n",
       "\n",
       "  <div class=\"bk-root\" id=\"fa81848c-b278-4094-8a80-4023dbc5af11\" data-root-id=\"12137\"></div>\n",
       "</div>\n",
       "<script type=\"application/javascript\">(function(root) {\n",
       "  function embed_document(root) {\n",
       "    var docs_json = {\"31e93a03-0b3c-4a5e-83f7-4489180bbea3\":{\"roots\":{\"references\":[{\"attributes\":{},\"id\":\"12153\",\"type\":\"LinearScale\"},{\"attributes\":{\"bottom_units\":\"screen\",\"fill_alpha\":0.5,\"fill_color\":\"lightgrey\",\"left_units\":\"screen\",\"level\":\"overlay\",\"line_alpha\":1.0,\"line_color\":\"black\",\"line_dash\":[4,4],\"line_width\":2,\"right_units\":\"screen\",\"top_units\":\"screen\"},\"id\":\"12168\",\"type\":\"BoxAnnotation\"},{\"attributes\":{\"line_color\":\"#1f77b3\",\"line_width\":2,\"x\":{\"field\":\"x\"},\"y\":{\"field\":\"y\"}},\"id\":\"12179\",\"type\":\"Line\"},{\"attributes\":{\"axis_label\":\"x\",\"bounds\":\"auto\",\"formatter\":{\"id\":\"12184\"},\"major_label_orientation\":\"horizontal\",\"ticker\":{\"id\":\"12156\"}},\"id\":\"12155\",\"type\":\"LinearAxis\"},{\"attributes\":{\"children\":[{\"id\":\"12138\"},{\"id\":\"12142\"}],\"margin\":[0,0,0,0],\"name\":\"Row38550\"},\"id\":\"12137\",\"type\":\"Row\"},{\"attributes\":{\"end\":20,\"format\":\"0[.]00\",\"margin\":[5,10,5,10],\"start\":0,\"step\":0.1,\"title\":\"Expected raise per ih\",\"value\":0.012,\"value_throttled\":0.012},\"id\":\"12141\",\"type\":\"Slider\"},{\"attributes\":{\"data_source\":{\"id\":\"12176\"},\"glyph\":{\"id\":\"12179\"},\"hover_glyph\":null,\"muted_glyph\":{\"id\":\"12181\"},\"nonselection_glyph\":{\"id\":\"12180\"},\"selection_glyph\":null,\"view\":{\"id\":\"12183\"}},\"id\":\"12182\",\"type\":\"GlyphRenderer\"},{\"attributes\":{},\"id\":\"12165\",\"type\":\"WheelZoomTool\"},{\"attributes\":{\"end\":1000.0,\"reset_end\":1000.0,\"reset_start\":5.0,\"start\":5.0,\"tags\":[[[\"x\",\"x\",null]]]},\"id\":\"12143\",\"type\":\"Range1d\"},{\"attributes\":{},\"id\":\"12163\",\"type\":\"SaveTool\"},{\"attributes\":{\"children\":[{\"id\":\"12139\"},{\"id\":\"12140\"},{\"id\":\"12141\"}],\"margin\":[5,5,5,5],\"min_width\":300,\"name\":\"ImpactHours\",\"width\":300},\"id\":\"12138\",\"type\":\"Column\"},{\"attributes\":{},\"id\":\"12177\",\"type\":\"Selection\"},{\"attributes\":{\"end\":200,\"format\":\"0[.]00\",\"margin\":[5,10,5,10],\"start\":0,\"step\":0.1,\"title\":\"Max ih rate\",\"value\":0.01,\"value_throttled\":0.01},\"id\":\"12140\",\"type\":\"Slider\"},{\"attributes\":{},\"id\":\"12184\",\"type\":\"BasicTickFormatter\"},{\"attributes\":{\"data\":{\"x\":{\"__ndarray__\":\"AAAAAAAAFEBU8HIKXk45QFTwcgpezkZAPzTWh8Z6UEBU8HIKXo5VQGmsD431oVpAfmisD421X0BKkiRJkmRiQFTwcgpe7mRAXk7Byyl4Z0BprA+N9QFqQHQKXk7Bi2xAfmisD40Vb0BEY31orM9wQEqSJEmSFHJAT8HLKXhZc0BU8HIKXp50QFkfGutD43VAXk7Byykod0BkfWisD214QGmsD431sXlAbtu2bdv2ekB0Cl5OwTt8QHk5BS+ngH1AfmisD43FfkDCyyl4OQWAQERjfWisp4BAx/rQWB9KgUBKkiRJkuyBQMwpeDkFj4JAT8HLKXgxg0DRWB8a69ODQFTwcgpedoRA14fG+tAYhUBZHxrrQ7uFQNy2bdu2XYZAXk7ByykAh0Dh5RS8nKKHQGR9aKwPRYhA5hS8nILniEBprA+N9YmJQOxDY31oLIpAbtu2bdvOikDxcgpeTnGLQHQKXk7BE4xA9qGxPjS2jEB5OQUvp1iNQPvQWB8a+41AfmisD42djkAAAAAAAECPQA==\",\"dtype\":\"float64\",\"order\":\"little\",\"shape\":[50]},\"y\":{\"__ndarray__\":\"k63MNvKfVD8ChShDs0RxPx5q4VbSQXc/SaihpkDUej9crbRWnzN9P4lyCGJc5H4/aLMuiSgUgD8Hxxvj9pGAP/vxwYN/9oA/PV2z+K1IgT85G+geHY2BP5Lk/d37xoE/6ItHjY/4gT/3SywJgiOCP/gT2msSSYI/EwVsiDRqgj8/XRrhpYeCP1wI5vr7oYI/kluKYq65gj91vQ3THc+CPzaTE2iZ4oI/brt5dGL0gj+3NttirwSDP8re/+StE4M/FVb6oYQhgz96K4mEVC6DP8wItME5OoM/k0T+qExFgz+9FuZKok+DP8FtHv9MWYM/4w2V0Vxigz+AWZ/b32qDP8xFZY3icoM/vkOy6m96gz/4KqC9kYGDP5E/CMFQiIM/SrM+xLSOgz8iQU3JxJSDP0K3ox6HmoM/wQwFdQGggz+zwVHyOKWDPzNYskEyqoM/j+aMofGugz9FuJ3verODP3yje7PRt4M/cFjEJ/m7gz/o4SJC9L+DP45ZWrrFw4M/aRh4EHDHgz/PIUuS9cqDPw==\",\"dtype\":\"float64\",\"order\":\"little\",\"shape\":[50]}},\"selected\":{\"id\":\"12177\"},\"selection_policy\":{\"id\":\"12195\"}},\"id\":\"12176\",\"type\":\"ColumnDataSource\"},{\"attributes\":{\"callback\":null,\"renderers\":[{\"id\":\"12182\"}],\"tags\":[\"hv_created\"],\"tooltips\":[[\"x\",\"@{x}\"],[\"y\",\"@{y}\"]]},\"id\":\"12145\",\"type\":\"HoverTool\"},{\"attributes\":{},\"id\":\"12195\",\"type\":\"UnionRenderers\"},{\"attributes\":{\"source\":{\"id\":\"12176\"}},\"id\":\"12183\",\"type\":\"CDSView\"},{\"attributes\":{},\"id\":\"12156\",\"type\":\"BasicTicker\"},{\"attributes\":{},\"id\":\"12186\",\"type\":\"BasicTickFormatter\"},{\"attributes\":{\"below\":[{\"id\":\"12155\"}],\"center\":[{\"id\":\"12158\"},{\"id\":\"12162\"}],\"left\":[{\"id\":\"12159\"}],\"margin\":[5,5,5,5],\"min_border_bottom\":10,\"min_border_left\":10,\"min_border_right\":10,\"min_border_top\":10,\"plot_height\":300,\"plot_width\":700,\"renderers\":[{\"id\":\"12182\"}],\"sizing_mode\":\"fixed\",\"title\":{\"id\":\"12147\"},\"toolbar\":{\"id\":\"12169\"},\"x_range\":{\"id\":\"12143\"},\"x_scale\":{\"id\":\"12151\"},\"y_range\":{\"id\":\"12144\"},\"y_scale\":{\"id\":\"12153\"}},\"id\":\"12146\",\"subtype\":\"Figure\",\"type\":\"Plot\"},{\"attributes\":{\"active_drag\":\"auto\",\"active_inspect\":\"auto\",\"active_multi\":null,\"active_scroll\":\"auto\",\"active_tap\":\"auto\",\"tools\":[{\"id\":\"12145\"},{\"id\":\"12163\"},{\"id\":\"12164\"},{\"id\":\"12165\"},{\"id\":\"12166\"},{\"id\":\"12167\"}]},\"id\":\"12169\",\"type\":\"Toolbar\"},{\"attributes\":{\"overlay\":{\"id\":\"12168\"}},\"id\":\"12166\",\"type\":\"BoxZoomTool\"},{\"attributes\":{\"client_comm_id\":\"02dc9e115e894399a489f3c8f6a9dc99\",\"comm_id\":\"779359bcf22a4e5ca55b3432107cccc7\",\"plot_id\":\"12137\"},\"id\":\"12228\",\"type\":\"panel.models.comm_manager.CommManager\"},{\"attributes\":{},\"id\":\"12151\",\"type\":\"LinearScale\"},{\"attributes\":{\"line_alpha\":0.1,\"line_color\":\"#1f77b3\",\"line_width\":2,\"x\":{\"field\":\"x\"},\"y\":{\"field\":\"y\"}},\"id\":\"12180\",\"type\":\"Line\"},{\"attributes\":{\"end\":0.01050501988030269,\"reset_end\":0.01050501988030269,\"reset_start\":0.00041827520197216714,\"start\":0.00041827520197216714,\"tags\":[[[\"y\",\"y\",null]]]},\"id\":\"12144\",\"type\":\"Range1d\"},{\"attributes\":{\"children\":[{\"id\":\"12146\"}],\"margin\":[0,0,0,0],\"name\":\"Row38469\"},\"id\":\"12142\",\"type\":\"Row\"},{\"attributes\":{\"line_alpha\":0.2,\"line_color\":\"#1f77b3\",\"line_width\":2,\"x\":{\"field\":\"x\"},\"y\":{\"field\":\"y\"}},\"id\":\"12181\",\"type\":\"Line\"},{\"attributes\":{\"margin\":[5,10,5,10],\"name\":\"\",\"text\":\"<b>ImpactHours</b>\"},\"id\":\"12139\",\"type\":\"Div\"},{\"attributes\":{\"axis_label\":\"y\",\"bounds\":\"auto\",\"formatter\":{\"id\":\"12186\"},\"major_label_orientation\":\"horizontal\",\"ticker\":{\"id\":\"12160\"}},\"id\":\"12159\",\"type\":\"LinearAxis\"},{\"attributes\":{},\"id\":\"12167\",\"type\":\"ResetTool\"},{\"attributes\":{},\"id\":\"12164\",\"type\":\"PanTool\"},{\"attributes\":{\"text\":\"\",\"text_color\":{\"value\":\"black\"},\"text_font_size\":{\"value\":\"12pt\"}},\"id\":\"12147\",\"type\":\"Title\"},{\"attributes\":{\"axis\":{\"id\":\"12159\"},\"dimension\":1,\"grid_line_color\":null,\"ticker\":null},\"id\":\"12162\",\"type\":\"Grid\"},{\"attributes\":{\"axis\":{\"id\":\"12155\"},\"grid_line_color\":null,\"ticker\":null},\"id\":\"12158\",\"type\":\"Grid\"},{\"attributes\":{},\"id\":\"12160\",\"type\":\"BasicTicker\"}],\"root_ids\":[\"12137\",\"12228\"]},\"title\":\"Bokeh Application\",\"version\":\"2.2.3\"}};\n",
       "    var render_items = [{\"docid\":\"31e93a03-0b3c-4a5e-83f7-4489180bbea3\",\"root_ids\":[\"12137\"],\"roots\":{\"12137\":\"fa81848c-b278-4094-8a80-4023dbc5af11\"}}];\n",
       "    root.Bokeh.embed.embed_items_notebook(docs_json, render_items);\n",
       "  }\n",
       "  if (root.Bokeh !== undefined && root.Bokeh.Panel !== undefined) {\n",
       "    embed_document(root);\n",
       "  } else {\n",
       "    var attempts = 0;\n",
       "    var timer = setInterval(function(root) {\n",
       "      if (root.Bokeh !== undefined && root.Bokeh.Panel !== undefined) {\n",
       "        clearInterval(timer);\n",
       "        embed_document(root);\n",
       "      } else if (document.readyState == \"complete\") {\n",
       "        attempts++;\n",
       "        if (attempts > 100) {\n",
       "          clearInterval(timer);\n",
       "          console.log(\"Bokeh: ERROR: Unable to run BokehJS code because BokehJS library is missing\");\n",
       "        }\n",
       "      }\n",
       "    }, 10, root)\n",
       "  }\n",
       "})(window);</script>"
      ],
      "text/plain": [
       "Row\n",
       "    [0] Column(margin=5, name='ImpactHours', width=300)\n",
       "        [0] StaticText(value='<b>ImpactHours</b>')\n",
       "        [1] FloatSlider(end=200, name='Max ih rate', value=0.01, value_throttled=0.01)\n",
       "        [2] FloatSlider(end=20, name='Expected raise per ih', value=0.012, value_throttled=0.012)\n",
       "    [1] ParamMethod(method)"
      ]
     },
     "execution_count": 18,
     "metadata": {
      "application/vnd.holoviews_exec.v0+json": {
       "id": "12137"
      }
     },
     "output_type": "execute_result"
    }
   ],
   "source": [
    "i = ImpactHours()\n",
    "\n",
    "pn.Row(i, i.impact_hours_rewards)"
   ]
  },
  {
   "cell_type": "code",
   "execution_count": 21,
   "metadata": {},
   "outputs": [
    {
     "data": {},
     "metadata": {},
     "output_type": "display_data"
    },
    {
     "data": {
      "application/vnd.holoviews_exec.v0+json": "",
      "text/html": [
       "<div id='19540'>\n",
       "\n",
       "\n",
       "\n",
       "\n",
       "\n",
       "  <div class=\"bk-root\" id=\"dc6bb068-b9a4-4d8b-9584-5a79b4eb088d\" data-root-id=\"19540\"></div>\n",
       "</div>\n",
       "<script type=\"application/javascript\">(function(root) {\n",
       "  function embed_document(root) {\n",
       "    var docs_json = {\"cfbe51c0-7575-4375-bfdd-d54854b98d9a\":{\"roots\":{\"references\":[{\"attributes\":{\"end\":10000,\"format\":\"0[.]00\",\"margin\":[5,10,5,10],\"start\":100,\"step\":50,\"title\":\"Max goal\",\"value\":1000,\"value_throttled\":1000},\"id\":\"19545\",\"type\":\"Slider\"},{\"attributes\":{\"client_comm_id\":\"0e1a79d5ac654b59bba81d7f90b5be6c\",\"comm_id\":\"bdbaf215e618468ead854d8ec43a2cb0\",\"plot_id\":\"19540\"},\"id\":\"19549\",\"type\":\"panel.models.comm_manager.CommManager\"},{\"attributes\":{\"disabled\":true,\"format\":null,\"margin\":[5,10,5,10],\"placeholder\":\"0\",\"step\":0.1,\"title\":\"Total cstk tokens\",\"value\":700000,\"value_throttled\":700000},\"id\":\"19542\",\"type\":\"Spinner\"},{\"attributes\":{\"disabled\":true,\"format\":null,\"margin\":[5,10,5,10],\"placeholder\":\"0\",\"step\":0.1,\"title\":\"Hatch oracle ratio\",\"value\":0.005,\"value_throttled\":0.005},\"id\":\"19543\",\"type\":\"Spinner\"},{\"attributes\":{\"end\":100,\"format\":\"0[.]00\",\"margin\":[5,10,5,10],\"start\":1,\"step\":10,\"title\":\"Min goal\",\"value\":5,\"value_throttled\":5},\"id\":\"19544\",\"type\":\"Slider\"},{\"attributes\":{\"margin\":[5,10,5,10],\"name\":\"\",\"text\":\"<b>Hatch</b>\"},\"id\":\"19541\",\"type\":\"Div\"},{\"attributes\":{\"end\":1,\"format\":\"0[.]00\",\"margin\":[5,10,5,10],\"start\":0,\"step\":0.1,\"title\":\"Hatch tribute\",\"value\":0.05,\"value_throttled\":0.05},\"id\":\"19548\",\"type\":\"Slider\"},{\"attributes\":{\"children\":[{\"id\":\"19541\"},{\"id\":\"19542\"},{\"id\":\"19543\"},{\"id\":\"19544\"},{\"id\":\"19545\"},{\"id\":\"19546\"},{\"id\":\"19547\"},{\"id\":\"19548\"}],\"margin\":[5,5,5,5],\"min_width\":300,\"name\":\"Hatch\",\"width\":300},\"id\":\"19540\",\"type\":\"Column\"},{\"attributes\":{\"end\":30,\"format\":\"0[.]00\",\"margin\":[5,10,5,10],\"start\":5,\"step\":2,\"title\":\"Hatch period\",\"value\":15,\"value_throttled\":15},\"id\":\"19546\",\"type\":\"Slider\"},{\"attributes\":{\"format\":null,\"margin\":[5,10,5,10],\"placeholder\":\"0\",\"step\":0.1,\"title\":\"Hatch exchange rate\",\"value\":0.0,\"value_throttled\":0.0},\"id\":\"19547\",\"type\":\"Spinner\"}],\"root_ids\":[\"19540\",\"19549\"]},\"title\":\"Bokeh Application\",\"version\":\"2.2.3\"}};\n",
       "    var render_items = [{\"docid\":\"cfbe51c0-7575-4375-bfdd-d54854b98d9a\",\"root_ids\":[\"19540\"],\"roots\":{\"19540\":\"dc6bb068-b9a4-4d8b-9584-5a79b4eb088d\"}}];\n",
       "    root.Bokeh.embed.embed_items_notebook(docs_json, render_items);\n",
       "  }\n",
       "  if (root.Bokeh !== undefined && root.Bokeh.Panel !== undefined) {\n",
       "    embed_document(root);\n",
       "  } else {\n",
       "    var attempts = 0;\n",
       "    var timer = setInterval(function(root) {\n",
       "      if (root.Bokeh !== undefined && root.Bokeh.Panel !== undefined) {\n",
       "        clearInterval(timer);\n",
       "        embed_document(root);\n",
       "      } else if (document.readyState == \"complete\") {\n",
       "        attempts++;\n",
       "        if (attempts > 100) {\n",
       "          clearInterval(timer);\n",
       "          console.log(\"Bokeh: ERROR: Unable to run BokehJS code because BokehJS library is missing\");\n",
       "        }\n",
       "      }\n",
       "    }, 10, root)\n",
       "  }\n",
       "})(window);</script>"
      ],
      "text/plain": [
       "Param(Hatch)"
      ]
     },
     "execution_count": 21,
     "metadata": {
      "application/vnd.holoviews_exec.v0+json": {
       "id": "19540"
      }
     },
     "output_type": "execute_result"
    }
   ],
   "source": [
    "pn.Pane(h)"
   ]
  },
  {
   "cell_type": "code",
   "execution_count": 19,
   "metadata": {},
   "outputs": [
    {
     "data": {},
     "metadata": {},
     "output_type": "display_data"
    },
    {
     "data": {
      "application/vnd.holoviews_exec.v0+json": "",
      "text/html": [
       "<div id='12269'>\n",
       "\n",
       "\n",
       "\n",
       "\n",
       "\n",
       "  <div class=\"bk-root\" id=\"ef5ae721-1f10-4880-8b36-cf3865ea6ff1\" data-root-id=\"12269\"></div>\n",
       "</div>\n",
       "<script type=\"application/javascript\">(function(root) {\n",
       "  function embed_document(root) {\n",
       "    var docs_json = {\"139a6dd6-6a9c-43aa-9f91-30b2e0813da5\":{\"roots\":{\"references\":[{\"attributes\":{\"format\":null,\"margin\":[5,10,5,10],\"placeholder\":\"0\",\"title\":\"Cost to make a proposal\",\"value\":3,\"value_throttled\":3},\"id\":\"12277\",\"type\":\"Spinner\"},{\"attributes\":{\"margin\":[5,10,5,10],\"name\":\"\",\"text\":\"<b>DandelionVoting</b>\"},\"id\":\"12271\",\"type\":\"Div\"},{\"attributes\":{\"disabled\":true,\"format\":null,\"margin\":[5,10,5,10],\"placeholder\":\"0\",\"step\":0.1,\"title\":\"Total tokens\",\"value\":1000000.0,\"value_throttled\":1000000.0},\"id\":\"12272\",\"type\":\"Spinner\"},{\"attributes\":{\"margin\":[5,10,5,10],\"name\":\"\",\"text\":\"<b>ImpactHours</b>\"},\"id\":\"12289\",\"type\":\"Div\"},{\"attributes\":{\"disabled\":true,\"format\":null,\"margin\":[5,10,5,10],\"placeholder\":\"0\",\"step\":0.1,\"title\":\"Total cstk tokens\",\"value\":700000,\"value_throttled\":700000},\"id\":\"12281\",\"type\":\"Spinner\"},{\"attributes\":{\"end\":1,\"format\":\"0[.]00\",\"margin\":[5,10,5,10],\"start\":0,\"step\":0.01,\"title\":\"Minimum quorum\",\"value\":0.88,\"value_throttled\":0.88},\"id\":\"12273\",\"type\":\"Slider\"},{\"attributes\":{\"client_comm_id\":\"d837d3d487f240f8ae98beba17f32e05\",\"comm_id\":\"6b14ca509c754c7ebc9c8942b536096a\",\"plot_id\":\"12269\"},\"id\":\"12292\",\"type\":\"panel.models.comm_manager.CommManager\"},{\"attributes\":{\"end\":20,\"format\":\"0[.]00\",\"margin\":[5,10,5,10],\"start\":0,\"step\":0.1,\"title\":\"Expected raise per ih\",\"value\":0.012,\"value_throttled\":0.012},\"id\":\"12291\",\"type\":\"Slider\"},{\"attributes\":{\"format\":null,\"margin\":[5,10,5,10],\"placeholder\":\"0\",\"step\":0.1,\"title\":\"Hatch exchange rate\",\"value\":0.0,\"value_throttled\":0.0},\"id\":\"12286\",\"type\":\"Spinner\"},{\"attributes\":{\"margin\":[5,10,5,10],\"name\":\"\",\"text\":\"<b>Hatch</b>\"},\"id\":\"12280\",\"type\":\"Div\"},{\"attributes\":{\"format\":null,\"margin\":[5,10,5,10],\"mode\":\"int\",\"placeholder\":\"0\",\"title\":\"Days to exit hatch\",\"value\":8,\"value_throttled\":8},\"id\":\"12276\",\"type\":\"Spinner\"},{\"attributes\":{\"end\":200,\"format\":\"0[.]00\",\"margin\":[5,10,5,10],\"start\":0,\"step\":0.1,\"title\":\"Max ih rate\",\"value\":0.01,\"value_throttled\":0.01},\"id\":\"12290\",\"type\":\"Slider\"},{\"attributes\":{\"end\":100,\"format\":\"0[.]00\",\"margin\":[5,10,5,10],\"start\":1,\"step\":0.1,\"title\":\"Maximum number proposals per month\",\"value\":10,\"value_throttled\":10},\"id\":\"12278\",\"type\":\"Slider\"},{\"attributes\":{\"children\":[{\"id\":\"12270\"},{\"id\":\"12279\"},{\"id\":\"12288\"}],\"margin\":[0,0,0,0],\"name\":\"Row38693\"},\"id\":\"12269\",\"type\":\"Row\"},{\"attributes\":{\"end\":100,\"format\":\"0[.]00\",\"margin\":[5,10,5,10],\"start\":1,\"step\":10,\"title\":\"Min goal\",\"value\":5,\"value_throttled\":5},\"id\":\"12283\",\"type\":\"Slider\"},{\"attributes\":{\"disabled\":true,\"format\":null,\"margin\":[5,10,5,10],\"placeholder\":\"0\",\"step\":0.1,\"title\":\"Hatch oracle ratio\",\"value\":0.005,\"value_throttled\":0.005},\"id\":\"12282\",\"type\":\"Spinner\"},{\"attributes\":{\"end\":10000,\"format\":\"0[.]00\",\"margin\":[5,10,5,10],\"start\":100,\"step\":50,\"title\":\"Max goal\",\"value\":1000,\"value_throttled\":1000},\"id\":\"12284\",\"type\":\"Slider\"},{\"attributes\":{\"end\":30,\"format\":\"0[.]00\",\"margin\":[5,10,5,10],\"start\":5,\"step\":2,\"title\":\"Hatch period\",\"value\":15,\"value_throttled\":15},\"id\":\"12285\",\"type\":\"Slider\"},{\"attributes\":{\"end\":100,\"format\":\"0[.]00\",\"margin\":[5,10,5,10],\"start\":0,\"title\":\"Days to vote on proposal\",\"value\":54,\"value_throttled\":54},\"id\":\"12275\",\"type\":\"Slider\"},{\"attributes\":{\"children\":[{\"id\":\"12271\"},{\"id\":\"12272\"},{\"id\":\"12273\"},{\"id\":\"12274\"},{\"id\":\"12275\"},{\"id\":\"12276\"},{\"id\":\"12277\"},{\"id\":\"12278\"}],\"margin\":[5,5,5,5],\"min_width\":300,\"name\":\"DandelionVoting\",\"width\":300},\"id\":\"12270\",\"type\":\"Column\"},{\"attributes\":{\"end\":0.9,\"format\":\"0[.]00\",\"margin\":[5,10,5,10],\"start\":0.5,\"step\":0.01,\"title\":\"Support required\",\"value\":0.5700000000000001,\"value_throttled\":0.5700000000000001},\"id\":\"12274\",\"type\":\"Slider\"},{\"attributes\":{\"children\":[{\"id\":\"12289\"},{\"id\":\"12290\"},{\"id\":\"12291\"}],\"margin\":[5,5,5,5],\"min_width\":300,\"name\":\"ImpactHours\",\"width\":300},\"id\":\"12288\",\"type\":\"Column\"},{\"attributes\":{\"children\":[{\"id\":\"12280\"},{\"id\":\"12281\"},{\"id\":\"12282\"},{\"id\":\"12283\"},{\"id\":\"12284\"},{\"id\":\"12285\"},{\"id\":\"12286\"},{\"id\":\"12287\"}],\"margin\":[5,5,5,5],\"min_width\":300,\"name\":\"Hatch\",\"width\":300},\"id\":\"12279\",\"type\":\"Column\"},{\"attributes\":{\"end\":1,\"format\":\"0[.]00\",\"margin\":[5,10,5,10],\"start\":0,\"step\":0.1,\"title\":\"Hatch tribute\",\"value\":0.05,\"value_throttled\":0.05},\"id\":\"12287\",\"type\":\"Slider\"}],\"root_ids\":[\"12269\",\"12292\"]},\"title\":\"Bokeh Application\",\"version\":\"2.2.3\"}};\n",
       "    var render_items = [{\"docid\":\"139a6dd6-6a9c-43aa-9f91-30b2e0813da5\",\"root_ids\":[\"12269\"],\"roots\":{\"12269\":\"ef5ae721-1f10-4880-8b36-cf3865ea6ff1\"}}];\n",
       "    root.Bokeh.embed.embed_items_notebook(docs_json, render_items);\n",
       "  }\n",
       "  if (root.Bokeh !== undefined && root.Bokeh.Panel !== undefined) {\n",
       "    embed_document(root);\n",
       "  } else {\n",
       "    var attempts = 0;\n",
       "    var timer = setInterval(function(root) {\n",
       "      if (root.Bokeh !== undefined && root.Bokeh.Panel !== undefined) {\n",
       "        clearInterval(timer);\n",
       "        embed_document(root);\n",
       "      } else if (document.readyState == \"complete\") {\n",
       "        attempts++;\n",
       "        if (attempts > 100) {\n",
       "          clearInterval(timer);\n",
       "          console.log(\"Bokeh: ERROR: Unable to run BokehJS code because BokehJS library is missing\");\n",
       "        }\n",
       "      }\n",
       "    }, 10, root)\n",
       "  }\n",
       "})(window);</script>"
      ],
      "text/plain": [
       "Row\n",
       "    [0] Column(margin=5, name='DandelionVoting', width=300)\n",
       "        [0] StaticText(value='<b>DandelionVoting</b>')\n",
       "        [1] FloatInput(disabled=True, name='Total tokens', value=1000000.0, value_throttled=1000000.0)\n",
       "        [2] FloatSlider(name='Minimum quorum', step=0.01, value=0.88, value_throttled=0.88)\n",
       "        [3] FloatSlider(end=0.9, name='Support required', start=0.5, step=0.01, value=0.5700000000000001, value_throttled=0.5700000000000001)\n",
       "        [4] IntSlider(end=100, name='Days to vote o..., value=54, value_throttled=54)\n",
       "        [5] IntInput(name='Days to exit hatch', value=8, value_throttled=8)\n",
       "        [6] FloatInput(name='Cost to make a proposal', step=1, value=3, value_throttled=3)\n",
       "        [7] FloatSlider(end=100, name='Maximum number p..., start=1, value=10, value_throttled=10)\n",
       "    [1] Column(margin=5, name='Hatch', width=300)\n",
       "        [0] StaticText(value='<b>Hatch</b>')\n",
       "        [1] FloatInput(disabled=True, name='Total cstk tokens', value=700000, value_throttled=700000)\n",
       "        [2] FloatInput(disabled=True, name='Hatch oracle ratio', value=0.005, value_throttled=0.005)\n",
       "        [3] FloatSlider(end=100, name='Min goal', start=1, step=10, value=5, value_throttled=5)\n",
       "        [4] FloatSlider(end=10000, name='Max goal', start=100, step=50, value=1000, value_throttled=1000)\n",
       "        [5] IntSlider(end=30, name='Hatch period', start=5, step=2, value=15, value_throttled=15)\n",
       "        [6] FloatInput(name='Hatch exchange rate', value_throttled=0.0)\n",
       "        [7] FloatSlider(name='Hatch tribute', value=0.05, value_throttled=0.05)\n",
       "    [2] Column(margin=5, name='ImpactHours', width=300)\n",
       "        [0] StaticText(value='<b>ImpactHours</b>')\n",
       "        [1] FloatSlider(end=200, name='Max ih rate', value=0.01, value_throttled=0.01)\n",
       "        [2] FloatSlider(end=20, name='Expected raise per ih', value=0.012, value_throttled=0.012)"
      ]
     },
     "execution_count": 19,
     "metadata": {
      "application/vnd.holoviews_exec.v0+json": {
       "id": "12269"
      }
     },
     "output_type": "execute_result"
    }
   ],
   "source": [
    "pn.Row(d, h, i)"
   ]
  },
  {
   "cell_type": "code",
   "execution_count": 20,
   "metadata": {},
   "outputs": [
    {
     "data": {},
     "metadata": {},
     "output_type": "display_data"
    },
    {
     "data": {},
     "metadata": {},
     "output_type": "display_data"
    },
    {
     "data": {
      "application/vnd.holoviews_exec.v0+json": "",
      "text/html": [
       "<div id='12293'>\n",
       "\n",
       "\n",
       "\n",
       "\n",
       "\n",
       "  <div class=\"bk-root\" id=\"f492fdad-c862-4a63-a329-49c1f14f86e5\" data-root-id=\"12293\"></div>\n",
       "</div>\n",
       "<script type=\"application/javascript\">(function(root) {\n",
       "  function embed_document(root) {\n",
       "    var docs_json = {\"ada4dd5c-b3df-415f-b06d-cbb3ddd6f360\":{\"roots\":{\"references\":[{\"attributes\":{\"axis_label\":\"y\",\"bounds\":\"auto\",\"formatter\":{\"id\":\"12418\"},\"major_label_orientation\":\"horizontal\",\"ticker\":{\"id\":\"12392\"}},\"id\":\"12391\",\"type\":\"LinearAxis\"},{\"attributes\":{\"css_classes\":[\"markdown\"],\"margin\":[5,5,5,5],\"name\":\"Markdown38796\",\"text\":\"&lt;p&gt;Minimum Tokens to Meet Quorum: &lt;/p&gt;\"},\"id\":\"12368\",\"type\":\"panel.models.markup.HTML\"},{\"attributes\":{\"css_classes\":[\"markdown\"],\"margin\":[5,5,5,5],\"name\":\"Markdown38800\",\"text\":\"&lt;p&gt;Minimum Tokens to Pass a Vote: &lt;/p&gt;\"},\"id\":\"12370\",\"type\":\"panel.models.markup.HTML\"},{\"attributes\":{},\"id\":\"12427\",\"type\":\"UnionRenderers\"},{\"attributes\":{\"active_drag\":\"auto\",\"active_inspect\":\"auto\",\"active_multi\":null,\"active_scroll\":\"auto\",\"active_tap\":\"auto\",\"tools\":[{\"id\":\"12377\"},{\"id\":\"12395\"},{\"id\":\"12396\"},{\"id\":\"12397\"},{\"id\":\"12398\"},{\"id\":\"12399\"}]},\"id\":\"12401\",\"type\":\"Toolbar\"},{\"attributes\":{\"items\":[{\"id\":\"12346\"}],\"location\":[0,0]},\"id\":\"12345\",\"type\":\"Legend\"},{\"attributes\":{\"callback\":null,\"renderers\":[{\"id\":\"12335\"}],\"tags\":[\"hv_created\"],\"tooltips\":[[\"index\",\"@{index}\"],[\"Variable\",\"@{Variable}\"],[\"value\",\"@{value}\"]]},\"id\":\"12298\",\"type\":\"HoverTool\"},{\"attributes\":{\"below\":[{\"id\":\"12308\"}],\"center\":[{\"id\":\"12310\"},{\"id\":\"12314\"},{\"id\":\"12345\"}],\"left\":[{\"id\":\"12311\"}],\"margin\":[5,5,5,5],\"min_border_bottom\":10,\"min_border_left\":10,\"min_border_right\":10,\"min_border_top\":10,\"plot_height\":300,\"plot_width\":700,\"renderers\":[{\"id\":\"12335\"}],\"right\":[{\"id\":\"12345\"}],\"sizing_mode\":\"fixed\",\"title\":{\"id\":\"12300\"},\"toolbar\":{\"id\":\"12321\"},\"x_range\":{\"id\":\"12296\"},\"x_scale\":{\"id\":\"12304\"},\"y_range\":{\"id\":\"12297\"},\"y_scale\":{\"id\":\"12306\"}},\"id\":\"12299\",\"subtype\":\"Figure\",\"type\":\"Plot\"},{\"attributes\":{\"end\":0.01050501988030269,\"reset_end\":0.01050501988030269,\"reset_start\":0.00041827520197216714,\"start\":0.00041827520197216714,\"tags\":[[[\"y\",\"y\",null]]]},\"id\":\"12376\",\"type\":\"Range1d\"},{\"attributes\":{\"axis_label\":\"\",\"bounds\":\"auto\",\"formatter\":{\"id\":\"12339\"},\"major_label_orientation\":\"horizontal\",\"ticker\":{\"id\":\"12309\"}},\"id\":\"12308\",\"type\":\"CategoricalAxis\"},{\"attributes\":{},\"id\":\"12330\",\"type\":\"Selection\"},{\"attributes\":{},\"id\":\"12319\",\"type\":\"ResetTool\"},{\"attributes\":{\"margin\":[5,5,5,5],\"name\":\"Str38798\",\"text\":\"&lt;pre&gt;880000&lt;/pre&gt;\"},\"id\":\"12369\",\"type\":\"panel.models.markup.HTML\"},{\"attributes\":{},\"id\":\"12312\",\"type\":\"BasicTicker\"},{\"attributes\":{\"line_alpha\":0.2,\"line_color\":\"#1f77b3\",\"line_width\":2,\"x\":{\"field\":\"x\"},\"y\":{\"field\":\"y\"}},\"id\":\"12413\",\"type\":\"Line\"},{\"attributes\":{\"children\":[{\"id\":\"12378\"}],\"margin\":[0,0,0,0],\"name\":\"Row38820\"},\"id\":\"12374\",\"type\":\"Row\"},{\"attributes\":{\"data_source\":{\"id\":\"12329\"},\"glyph\":{\"id\":\"12332\"},\"hover_glyph\":null,\"muted_glyph\":{\"id\":\"12334\"},\"nonselection_glyph\":{\"id\":\"12333\"},\"selection_glyph\":null,\"view\":{\"id\":\"12336\"}},\"id\":\"12335\",\"type\":\"GlyphRenderer\"},{\"attributes\":{},\"id\":\"12316\",\"type\":\"PanTool\"},{\"attributes\":{},\"id\":\"12341\",\"type\":\"BasicTickFormatter\"},{\"attributes\":{\"client_comm_id\":\"0d22b4f482d14f96984c7a162c04512a\",\"comm_id\":\"2bba12839c314e08b9aa3b79e46c661c\",\"plot_id\":\"12293\"},\"id\":\"12484\",\"type\":\"panel.models.comm_manager.CommManager\"},{\"attributes\":{\"css_classes\":[\"markdown\"],\"margin\":[5,5,5,5],\"name\":\"Markdown38804\",\"text\":\"&lt;p&gt;Minimum Tokens to Block a Vote: &lt;/p&gt;\"},\"id\":\"12372\",\"type\":\"panel.models.markup.HTML\"},{\"attributes\":{},\"id\":\"12383\",\"type\":\"LinearScale\"},{\"attributes\":{\"overlay\":{\"id\":\"12320\"}},\"id\":\"12318\",\"type\":\"BoxZoomTool\"},{\"attributes\":{\"axis\":{\"id\":\"12308\"},\"grid_line_color\":null,\"ticker\":null},\"id\":\"12310\",\"type\":\"Grid\"},{\"attributes\":{\"axis\":{\"id\":\"12311\"},\"dimension\":1,\"grid_line_color\":null,\"ticker\":null},\"id\":\"12314\",\"type\":\"Grid\"},{\"attributes\":{\"end\":1000.0,\"reset_end\":1000.0,\"reset_start\":5.0,\"start\":5.0,\"tags\":[[[\"x\",\"x\",null]]]},\"id\":\"12375\",\"type\":\"Range1d\"},{\"attributes\":{},\"id\":\"12304\",\"type\":\"CategoricalScale\"},{\"attributes\":{\"active_drag\":\"auto\",\"active_inspect\":\"auto\",\"active_multi\":null,\"active_scroll\":\"auto\",\"active_tap\":\"auto\",\"tools\":[{\"id\":\"12298\"},{\"id\":\"12315\"},{\"id\":\"12316\"},{\"id\":\"12317\"},{\"id\":\"12318\"},{\"id\":\"12319\"}]},\"id\":\"12321\",\"type\":\"Toolbar\"},{\"attributes\":{\"callback\":null,\"renderers\":[{\"id\":\"12414\"}],\"tags\":[\"hv_created\"],\"tooltips\":[[\"x\",\"@{x}\"],[\"y\",\"@{y}\"]]},\"id\":\"12377\",\"type\":\"HoverTool\"},{\"attributes\":{\"axis_label\":\"\",\"bounds\":\"auto\",\"formatter\":{\"id\":\"12341\"},\"major_label_orientation\":\"horizontal\",\"ticker\":{\"id\":\"12312\"}},\"id\":\"12311\",\"type\":\"LinearAxis\"},{\"attributes\":{},\"id\":\"12385\",\"type\":\"LinearScale\"},{\"attributes\":{\"children\":[{\"id\":\"12295\"}],\"margin\":[0,0,0,0],\"name\":\"Row38700\"},\"id\":\"12294\",\"type\":\"Row\"},{\"attributes\":{},\"id\":\"12395\",\"type\":\"SaveTool\"},{\"attributes\":{\"bottom_units\":\"screen\",\"fill_alpha\":0.5,\"fill_color\":\"lightgrey\",\"left_units\":\"screen\",\"level\":\"overlay\",\"line_alpha\":1.0,\"line_color\":\"black\",\"line_dash\":[4,4],\"line_width\":2,\"right_units\":\"screen\",\"top_units\":\"screen\"},\"id\":\"12320\",\"type\":\"BoxAnnotation\"},{\"attributes\":{},\"id\":\"12315\",\"type\":\"SaveTool\"},{\"attributes\":{\"children\":[{\"id\":\"12294\"},{\"id\":\"12374\"}],\"margin\":[0,0,0,0],\"name\":\"Row38901\"},\"id\":\"12293\",\"type\":\"Row\"},{\"attributes\":{},\"id\":\"12344\",\"type\":\"UnionRenderers\"},{\"attributes\":{\"end\":1000000.0,\"reset_end\":1000000.0,\"reset_start\":0,\"tags\":[[[\"value\",\"value\",null]]]},\"id\":\"12297\",\"type\":\"Range1d\"},{\"attributes\":{\"bottom\":{\"field\":\"bottom\"},\"fill_color\":{\"field\":\"Variable\",\"transform\":{\"id\":\"12328\"}},\"top\":{\"field\":\"top\"},\"width\":{\"value\":0.8},\"x\":{\"field\":\"index\"}},\"id\":\"12332\",\"type\":\"VBar\"},{\"attributes\":{\"bottom_units\":\"screen\",\"fill_alpha\":0.5,\"fill_color\":\"lightgrey\",\"left_units\":\"screen\",\"level\":\"overlay\",\"line_alpha\":1.0,\"line_color\":\"black\",\"line_dash\":[4,4],\"line_width\":2,\"right_units\":\"screen\",\"top_units\":\"screen\"},\"id\":\"12400\",\"type\":\"BoxAnnotation\"},{\"attributes\":{\"axis\":{\"id\":\"12387\"},\"grid_line_color\":null,\"ticker\":null},\"id\":\"12390\",\"type\":\"Grid\"},{\"attributes\":{\"margin\":[5,5,5,5],\"name\":\"Str38802\",\"text\":\"&lt;pre&gt;501600&lt;/pre&gt;\"},\"id\":\"12371\",\"type\":\"panel.models.markup.HTML\"},{\"attributes\":{},\"id\":\"12388\",\"type\":\"BasicTicker\"},{\"attributes\":{},\"id\":\"12409\",\"type\":\"Selection\"},{\"attributes\":{\"factors\":[\"Votes\"],\"tags\":[[[\"index\",\"index\",null]]]},\"id\":\"12296\",\"type\":\"FactorRange\"},{\"attributes\":{},\"id\":\"12339\",\"type\":\"CategoricalTickFormatter\"},{\"attributes\":{\"bottom\":{\"field\":\"bottom\"},\"fill_alpha\":{\"value\":0.2},\"fill_color\":{\"field\":\"Variable\",\"transform\":{\"id\":\"12328\"}},\"line_alpha\":{\"value\":0.2},\"top\":{\"field\":\"top\"},\"width\":{\"value\":0.8},\"x\":{\"field\":\"index\"}},\"id\":\"12334\",\"type\":\"VBar\"},{\"attributes\":{\"text\":\"\",\"text_color\":{\"value\":\"black\"},\"text_font_size\":{\"value\":\"12pt\"}},\"id\":\"12379\",\"type\":\"Title\"},{\"attributes\":{},\"id\":\"12392\",\"type\":\"BasicTicker\"},{\"attributes\":{},\"id\":\"12399\",\"type\":\"ResetTool\"},{\"attributes\":{\"data\":{\"x\":{\"__ndarray__\":\"AAAAAAAAFEBU8HIKXk45QFTwcgpezkZAPzTWh8Z6UEBU8HIKXo5VQGmsD431oVpAfmisD421X0BKkiRJkmRiQFTwcgpe7mRAXk7Byyl4Z0BprA+N9QFqQHQKXk7Bi2xAfmisD40Vb0BEY31orM9wQEqSJEmSFHJAT8HLKXhZc0BU8HIKXp50QFkfGutD43VAXk7Byykod0BkfWisD214QGmsD431sXlAbtu2bdv2ekB0Cl5OwTt8QHk5BS+ngH1AfmisD43FfkDCyyl4OQWAQERjfWisp4BAx/rQWB9KgUBKkiRJkuyBQMwpeDkFj4JAT8HLKXgxg0DRWB8a69ODQFTwcgpedoRA14fG+tAYhUBZHxrrQ7uFQNy2bdu2XYZAXk7ByykAh0Dh5RS8nKKHQGR9aKwPRYhA5hS8nILniEBprA+N9YmJQOxDY31oLIpAbtu2bdvOikDxcgpeTnGLQHQKXk7BE4xA9qGxPjS2jEB5OQUvp1iNQPvQWB8a+41AfmisD42djkAAAAAAAECPQA==\",\"dtype\":\"float64\",\"order\":\"little\",\"shape\":[50]},\"y\":{\"__ndarray__\":\"k63MNvKfVD8ChShDs0RxPx5q4VbSQXc/SaihpkDUej9crbRWnzN9P4lyCGJc5H4/aLMuiSgUgD8Hxxvj9pGAP/vxwYN/9oA/PV2z+K1IgT85G+geHY2BP5Lk/d37xoE/6ItHjY/4gT/3SywJgiOCP/gT2msSSYI/EwVsiDRqgj8/XRrhpYeCP1wI5vr7oYI/kluKYq65gj91vQ3THc+CPzaTE2iZ4oI/brt5dGL0gj+3NttirwSDP8re/+StE4M/FVb6oYQhgz96K4mEVC6DP8wItME5OoM/k0T+qExFgz+9FuZKok+DP8FtHv9MWYM/4w2V0Vxigz+AWZ/b32qDP8xFZY3icoM/vkOy6m96gz/4KqC9kYGDP5E/CMFQiIM/SrM+xLSOgz8iQU3JxJSDP0K3ox6HmoM/wQwFdQGggz+zwVHyOKWDPzNYskEyqoM/j+aMofGugz9FuJ3verODP3yje7PRt4M/cFjEJ/m7gz/o4SJC9L+DP45ZWrrFw4M/aRh4EHDHgz/PIUuS9cqDPw==\",\"dtype\":\"float64\",\"order\":\"little\",\"shape\":[50]}},\"selected\":{\"id\":\"12409\"},\"selection_policy\":{\"id\":\"12427\"}},\"id\":\"12408\",\"type\":\"ColumnDataSource\"},{\"attributes\":{\"children\":[{\"id\":\"12368\"},{\"id\":\"12369\"},{\"id\":\"12370\"},{\"id\":\"12371\"},{\"id\":\"12372\"},{\"id\":\"12373\"}],\"margin\":[0,0,0,0],\"name\":\"Column38808\"},\"id\":\"12367\",\"type\":\"Column\"},{\"attributes\":{\"margin\":[5,5,5,5],\"name\":\"Str38806\",\"text\":\"&lt;pre&gt;378399&lt;/pre&gt;\"},\"id\":\"12373\",\"type\":\"panel.models.markup.HTML\"},{\"attributes\":{},\"id\":\"12396\",\"type\":\"PanTool\"},{\"attributes\":{},\"id\":\"12397\",\"type\":\"WheelZoomTool\"},{\"attributes\":{},\"id\":\"12309\",\"type\":\"CategoricalTicker\"},{\"attributes\":{},\"id\":\"12418\",\"type\":\"BasicTickFormatter\"},{\"attributes\":{\"label\":{\"field\":\"Variable\"},\"renderers\":[{\"id\":\"12335\"}]},\"id\":\"12346\",\"type\":\"LegendItem\"},{\"attributes\":{\"factors\":[\"Minimum Tokens to Pass\",\"Minimum Tokens for Quorum\"],\"palette\":[\"#0F2EEE\",\"#0b0a15\"]},\"id\":\"12328\",\"type\":\"CategoricalColorMapper\"},{\"attributes\":{},\"id\":\"12306\",\"type\":\"LinearScale\"},{\"attributes\":{\"children\":[{\"id\":\"12299\"},{\"id\":\"12367\"}],\"margin\":[0,0,0,0],\"name\":\"Row38814\"},\"id\":\"12295\",\"type\":\"Row\"},{\"attributes\":{\"axis_label\":\"x\",\"bounds\":\"auto\",\"formatter\":{\"id\":\"12416\"},\"major_label_orientation\":\"horizontal\",\"ticker\":{\"id\":\"12388\"}},\"id\":\"12387\",\"type\":\"LinearAxis\"},{\"attributes\":{\"bottom\":{\"field\":\"bottom\"},\"fill_alpha\":{\"value\":0.1},\"fill_color\":{\"field\":\"Variable\",\"transform\":{\"id\":\"12328\"}},\"line_alpha\":{\"value\":0.1},\"top\":{\"field\":\"top\"},\"width\":{\"value\":0.8},\"x\":{\"field\":\"index\"}},\"id\":\"12333\",\"type\":\"VBar\"},{\"attributes\":{},\"id\":\"12317\",\"type\":\"WheelZoomTool\"},{\"attributes\":{\"source\":{\"id\":\"12408\"}},\"id\":\"12415\",\"type\":\"CDSView\"},{\"attributes\":{\"below\":[{\"id\":\"12387\"}],\"center\":[{\"id\":\"12390\"},{\"id\":\"12394\"}],\"left\":[{\"id\":\"12391\"}],\"margin\":[5,5,5,5],\"min_border_bottom\":10,\"min_border_left\":10,\"min_border_right\":10,\"min_border_top\":10,\"plot_height\":300,\"plot_width\":700,\"renderers\":[{\"id\":\"12414\"}],\"sizing_mode\":\"fixed\",\"title\":{\"id\":\"12379\"},\"toolbar\":{\"id\":\"12401\"},\"x_range\":{\"id\":\"12375\"},\"x_scale\":{\"id\":\"12383\"},\"y_range\":{\"id\":\"12376\"},\"y_scale\":{\"id\":\"12385\"}},\"id\":\"12378\",\"subtype\":\"Figure\",\"type\":\"Plot\"},{\"attributes\":{\"data\":{\"Variable\":[\"Minimum Tokens to Pass\",\"Minimum Tokens for Quorum\"],\"bottom\":{\"__ndarray__\":\"AAAAAAAAAAABAAAAgJ0eQQ==\",\"dtype\":\"float64\",\"order\":\"little\",\"shape\":[2]},\"index\":[\"Votes\",\"Votes\"],\"top\":{\"__ndarray__\":\"AQAAAICdHkEAAAAAANsqQQ==\",\"dtype\":\"float64\",\"order\":\"little\",\"shape\":[2]},\"value\":{\"__ndarray__\":\"AQAAAICdHkH/////fxgXQQ==\",\"dtype\":\"float64\",\"order\":\"little\",\"shape\":[2]}},\"selected\":{\"id\":\"12330\"},\"selection_policy\":{\"id\":\"12344\"}},\"id\":\"12329\",\"type\":\"ColumnDataSource\"},{\"attributes\":{\"axis\":{\"id\":\"12391\"},\"dimension\":1,\"grid_line_color\":null,\"ticker\":null},\"id\":\"12394\",\"type\":\"Grid\"},{\"attributes\":{\"data_source\":{\"id\":\"12408\"},\"glyph\":{\"id\":\"12411\"},\"hover_glyph\":null,\"muted_glyph\":{\"id\":\"12413\"},\"nonselection_glyph\":{\"id\":\"12412\"},\"selection_glyph\":null,\"view\":{\"id\":\"12415\"}},\"id\":\"12414\",\"type\":\"GlyphRenderer\"},{\"attributes\":{},\"id\":\"12416\",\"type\":\"BasicTickFormatter\"},{\"attributes\":{\"source\":{\"id\":\"12329\"}},\"id\":\"12336\",\"type\":\"CDSView\"},{\"attributes\":{\"text\":\"\",\"text_color\":{\"value\":\"black\"},\"text_font_size\":{\"value\":\"12pt\"}},\"id\":\"12300\",\"type\":\"Title\"},{\"attributes\":{\"line_color\":\"#1f77b3\",\"line_width\":2,\"x\":{\"field\":\"x\"},\"y\":{\"field\":\"y\"}},\"id\":\"12411\",\"type\":\"Line\"},{\"attributes\":{\"line_alpha\":0.1,\"line_color\":\"#1f77b3\",\"line_width\":2,\"x\":{\"field\":\"x\"},\"y\":{\"field\":\"y\"}},\"id\":\"12412\",\"type\":\"Line\"},{\"attributes\":{\"overlay\":{\"id\":\"12400\"}},\"id\":\"12398\",\"type\":\"BoxZoomTool\"}],\"root_ids\":[\"12293\",\"12484\"]},\"title\":\"Bokeh Application\",\"version\":\"2.2.3\"}};\n",
       "    var render_items = [{\"docid\":\"ada4dd5c-b3df-415f-b06d-cbb3ddd6f360\",\"root_ids\":[\"12293\"],\"roots\":{\"12293\":\"f492fdad-c862-4a63-a329-49c1f14f86e5\"}}];\n",
       "    root.Bokeh.embed.embed_items_notebook(docs_json, render_items);\n",
       "  }\n",
       "  if (root.Bokeh !== undefined && root.Bokeh.Panel !== undefined) {\n",
       "    embed_document(root);\n",
       "  } else {\n",
       "    var attempts = 0;\n",
       "    var timer = setInterval(function(root) {\n",
       "      if (root.Bokeh !== undefined && root.Bokeh.Panel !== undefined) {\n",
       "        clearInterval(timer);\n",
       "        embed_document(root);\n",
       "      } else if (document.readyState == \"complete\") {\n",
       "        attempts++;\n",
       "        if (attempts > 100) {\n",
       "          clearInterval(timer);\n",
       "          console.log(\"Bokeh: ERROR: Unable to run BokehJS code because BokehJS library is missing\");\n",
       "        }\n",
       "      }\n",
       "    }, 10, root)\n",
       "  }\n",
       "})(window);</script>"
      ],
      "text/plain": [
       "Row\n",
       "    [0] ParamMethod(method)\n",
       "    [1] ParamMethod(method)"
      ]
     },
     "execution_count": 20,
     "metadata": {
      "application/vnd.holoviews_exec.v0+json": {
       "id": "12293"
      }
     },
     "output_type": "execute_result"
    }
   ],
   "source": [
    "pn.Row(d.view, i.impact_hours_rewards)"
   ]
  },
  {
   "cell_type": "markdown",
   "metadata": {},
   "source": [
    "# Target/Expected Goals"
   ]
  },
  {
   "cell_type": "code",
   "execution_count": null,
   "metadata": {},
   "outputs": [],
   "source": []
  },
  {
   "cell_type": "code",
   "execution_count": null,
   "metadata": {},
   "outputs": [],
   "source": []
  },
  {
   "cell_type": "code",
   "execution_count": null,
   "metadata": {},
   "outputs": [],
   "source": []
  },
  {
   "cell_type": "code",
   "execution_count": null,
   "metadata": {},
   "outputs": [],
   "source": [
    "class CommunityParticipation(param.Parameterized)"
   ]
  }
 ],
 "metadata": {
  "kernelspec": {
   "display_name": "Python 3",
   "language": "python",
   "name": "python3"
  },
  "language_info": {
   "codemirror_mode": {
    "name": "ipython",
    "version": 3
   },
   "file_extension": ".py",
   "mimetype": "text/x-python",
   "name": "python",
   "nbconvert_exporter": "python",
   "pygments_lexer": "ipython3",
   "version": "3.8.6"
  }
 },
 "nbformat": 4,
 "nbformat_minor": 5
}
